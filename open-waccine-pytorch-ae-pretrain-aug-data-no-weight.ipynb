{
 "cells": [
  {
   "cell_type": "markdown",
   "metadata": {},
   "source": [
    "Ispired by this notebook.\n",
    "\n",
    "https://www.kaggle.com/mrkmakr/covid-ae-pretrain-gnn-attn-cnn\n",
    "\n",
    "Pytorch Implementation.\n",
    "\n",
    "Model: Convolution + Transfomer + GRU.\n",
    "\n",
    "Training: Bert-Like Pretraining. Then Fine Tuning."
   ]
  },
  {
   "cell_type": "code",
   "execution_count": 1,
   "metadata": {},
   "outputs": [],
   "source": [
    "import numpy as np\n",
    "import pandas as pd\n",
    "import ast\n",
    "from collections import OrderedDict\n",
    "from fastprogress import progress_bar\n",
    "from pathlib import Path\n",
    "from torch import nn\n",
    "from torch.utils.data import Dataset\n",
    "from torch.utils.tensorboard import SummaryWriter\n",
    "\n",
    "from torch.nn import TransformerEncoder, TransformerEncoderLayer\n",
    "import math\n",
    "\n",
    "import functools\n",
    "import itertools\n",
    "import os\n",
    "import random\n",
    "import shutil\n",
    "import torch\n",
    "import torch.nn.functional as F\n",
    "\n",
    "from sklearn.model_selection import train_test_split, ShuffleSplit, KFold, StratifiedKFold, GroupKFold\n",
    "from torch import nn\n",
    "from torch.utils.data import Dataset\n",
    "\n",
    "import functools\n",
    "from IPython.core.debugger import set_trace\n",
    "\n",
    "\n",
    "target_cols = ['reactivity', 'deg_Mg_pH10', 'deg_pH10', 'deg_Mg_50C', 'deg_50C']\n",
    "input_cols = ['sequence', 'structure', 'predicted_loop_type']\n",
    "error_cols = ['reactivity_error', 'deg_error_Mg_pH10', 'deg_error_Mg_50C', 'deg_error_pH10', 'deg_error_50C']\n",
    "\n",
    "token_dicts = {\n",
    "    \"sequence\": {x: i for i, x in enumerate(\"ACGU\")},\n",
    "    \"structure\": {x: i for i, x in enumerate('().')},\n",
    "    \"predicted_loop_type\": {x: i for i, x in enumerate(\"BEHIMSX\")}\n",
    "}\n",
    "\n",
    "\n",
    "def set_seed(seed: int = 42):\n",
    "    random.seed(seed)\n",
    "    np.random.seed(seed)\n",
    "    os.environ[\"PYTHONHASHSEED\"] = str(seed)\n",
    "    torch.manual_seed(seed)\n",
    "    torch.cuda.manual_seed(seed)\n",
    "    torch.backends.cudnn.deterministic = True\n",
    "    torch.backends.cudnn.benchmark = False"
   ]
  },
  {
   "cell_type": "markdown",
   "metadata": {},
   "source": [
    "### Loader\n"
   ]
  },
  {
   "cell_type": "code",
   "execution_count": 2,
   "metadata": {
    "_cell_guid": "79c7e3d0-c299-4dcb-8224-4455121ee9b0",
    "_uuid": "d629ff2d2480ee46fbb7e2d37f6b5fab8052498a"
   },
   "outputs": [],
   "source": [
    "BASE_PATH = \"../OpenVaccine\"\n",
    "MODEL_SAVE_PATH = \"../OpenVaccine/pretrains\"\n",
    "\n",
    "\n",
    "def preprocess_inputs(df, cols):\n",
    "    return np.concatenate([preprocess_feature_col(df, col) for col in cols], axis=2)\n",
    "\n",
    "\n",
    "def preprocess_feature_col(df, col):\n",
    "    dic = token_dicts[col]\n",
    "    dic_len = len(dic)\n",
    "    seq_length = len(df[col][0])\n",
    "    ident = np.identity(dic_len)\n",
    "    # convert to one hot\n",
    "    arr = np.array(\n",
    "        df[[col]].applymap(lambda seq: [ident[dic[x]] for x in seq]).values.tolist()\n",
    "    ).squeeze(1)\n",
    "    # shape: data_size x seq_length x dic_length\n",
    "    assert arr.shape == (len(df), seq_length, dic_len)\n",
    "    return arr\n",
    "\n",
    "\n",
    "def preprocess(base_data, is_test=False):\n",
    "    inputs = preprocess_inputs(base_data, input_cols)\n",
    "    if is_test:\n",
    "        labels = None\n",
    "    else:\n",
    "        labels = np.array(base_data[target_cols].values.tolist()).transpose((0, 2, 1))\n",
    "        assert labels.shape[2] == len(target_cols)\n",
    "    assert inputs.shape[2] == 14\n",
    "    return inputs, labels\n",
    "\n",
    "\n",
    "def get_bpp_feature(bpp):\n",
    "    bpp_nb_mean = 0.077522  # mean of bpps_nb across all training data\n",
    "    bpp_nb_std = 0.08914  # std of bpps_nb across all training data\n",
    "    bpp_max = bpp.max(-1)[0]\n",
    "    bpp_sum = bpp.sum(-1)\n",
    "    bpp_nb = torch.true_divide((bpp > 0).sum(dim=1), bpp.shape[1])\n",
    "    bpp_nb = torch.true_divide(bpp_nb - bpp_nb_mean, bpp_nb_std)\n",
    "    return [bpp_max.unsqueeze(2), bpp_sum.unsqueeze(2), bpp_nb.unsqueeze(2)]\n",
    "\n",
    "\n",
    "@functools.lru_cache(5000)\n",
    "def load_from_id(id_):\n",
    "    path = Path(BASE_PATH) / f\"bpps/{id_}.npy\"\n",
    "    data = np.load(str(path))\n",
    "    return data\n",
    "\n",
    "\n",
    "def get_distance_matrix(leng):\n",
    "    idx = np.arange(leng)\n",
    "    Ds = []\n",
    "    for i in range(len(idx)):\n",
    "        d = np.abs(idx[i] - idx)\n",
    "        Ds.append(d)\n",
    "\n",
    "    Ds = np.array(Ds) + 1\n",
    "    Ds = 1 / Ds\n",
    "    Ds = Ds[None, :, :]\n",
    "    Ds = np.repeat(Ds, 1, axis=0)\n",
    "\n",
    "    Dss = []\n",
    "    for i in [1, 2, 4]:\n",
    "        Dss.append(Ds ** i)\n",
    "    Ds = np.stack(Dss, axis=3)\n",
    "    print(Ds.shape)\n",
    "    return Ds\n",
    "\n",
    "\n",
    "def get_structure_adj(df):\n",
    "    Ss = []\n",
    "    for i in range(len(df)):\n",
    "        seq_length = df[\"seq_length\"].iloc[i]\n",
    "        structure = df[\"structure\"].iloc[i]\n",
    "        sequence = df[\"sequence\"].iloc[i]\n",
    "\n",
    "        cue = []\n",
    "        a_structures = OrderedDict([\n",
    "            ((\"A\", \"U\"), np.zeros([seq_length, seq_length])),\n",
    "            ((\"C\", \"G\"), np.zeros([seq_length, seq_length])),\n",
    "            ((\"U\", \"G\"), np.zeros([seq_length, seq_length])),\n",
    "            ((\"U\", \"A\"), np.zeros([seq_length, seq_length])),\n",
    "            ((\"G\", \"C\"), np.zeros([seq_length, seq_length])),\n",
    "            ((\"G\", \"U\"), np.zeros([seq_length, seq_length])),\n",
    "        ])\n",
    "        for j in range(seq_length):\n",
    "            if structure[j] == \"(\":\n",
    "                cue.append(j)\n",
    "            elif structure[j] == \")\":\n",
    "                start = cue.pop()\n",
    "                a_structures[(sequence[start], sequence[j])][start, j] = 1\n",
    "                a_structures[(sequence[j], sequence[start])][j, start] = 1\n",
    "\n",
    "        a_strc = np.stack([a for a in a_structures.values()], axis=2)\n",
    "        a_strc = np.sum(a_strc, axis=2, keepdims=True)\n",
    "        Ss.append(a_strc)\n",
    "\n",
    "    Ss = np.array(Ss)\n",
    "    return Ss\n",
    "\n",
    "\n",
    "def create_loader(df, batch_size=1, is_test=False):\n",
    "    features, labels = preprocess(df, is_test)\n",
    "    features_tensor = torch.from_numpy(features)\n",
    "    if labels is not None:\n",
    "        labels_tensor = torch.from_numpy(labels)\n",
    "        dataset = VacDataset(features_tensor, df, labels_tensor)\n",
    "        loader = torch.utils.data.DataLoader(dataset, batch_size, shuffle=True, drop_last=False)\n",
    "    else:\n",
    "        dataset = VacDataset(features_tensor, df, None)\n",
    "        loader = torch.utils.data.DataLoader(dataset, batch_size, shuffle=False, drop_last=False)\n",
    "    return loader\n",
    "\n",
    "\n",
    "class VacDataset(Dataset):\n",
    "    def __init__(self, features, df, labels=None):\n",
    "        self.features = features\n",
    "        self.labels = labels\n",
    "        self.test = labels is None\n",
    "        self.ids = df[\"id\"]\n",
    "        self.score = None\n",
    "        self.structure_adj = get_structure_adj(df)\n",
    "        self.distance_matrix = get_distance_matrix(self.structure_adj.shape[1])\n",
    "        if \"score\" in df.columns:\n",
    "            self.score = df[\"score\"]\n",
    "        else:\n",
    "            df[\"score\"] = 1.0\n",
    "            self.score = df[\"score\"]\n",
    "        self.signal_to_noise = None\n",
    "        if not self.test:\n",
    "            self.signal_to_noise = df[\"signal_to_noise\"]\n",
    "            assert self.features.shape[0] == self.labels.shape[0]\n",
    "        else:\n",
    "            assert self.ids is not None\n",
    "\n",
    "    def __len__(self):\n",
    "        return len(self.features)\n",
    "\n",
    "    def __getitem__(self, index):\n",
    "        bpp = torch.from_numpy(load_from_id(self.ids[index]).copy()).float()\n",
    "        adj = self.structure_adj[index]\n",
    "        distance = self.distance_matrix[0]\n",
    "        bpp = np.concatenate([bpp[:, :, None], adj, distance], axis=2)\n",
    "        if self.test:\n",
    "            return dict(sequence=self.features[index].float(), bpp=bpp, ids=self.ids[index])\n",
    "        else:\n",
    "            return dict(sequence=self.features[index].float(), bpp=bpp,\n",
    "                        label=self.labels[index], ids=self.ids[index],\n",
    "                        signal_to_noise=self.signal_to_noise[index],\n",
    "                        score=self.score[index])\n"
   ]
  },
  {
   "cell_type": "markdown",
   "metadata": {},
   "source": [
    "### Model"
   ]
  },
  {
   "cell_type": "code",
   "execution_count": 3,
   "metadata": {},
   "outputs": [],
   "source": [
    "class Conv1dStack(nn.Module):\n",
    "    def __init__(self, in_dim, out_dim, kernel_size=3, padding=1, dilation=1):\n",
    "        super(Conv1dStack, self).__init__()\n",
    "        self.conv = nn.Sequential(\n",
    "            nn.Conv1d(in_dim, out_dim, kernel_size=kernel_size, padding=padding, dilation=dilation, bias=False),\n",
    "            nn.BatchNorm1d(out_dim),\n",
    "            nn.Dropout(0.1),\n",
    "            nn.LeakyReLU(),\n",
    "        )\n",
    "        self.res = nn.Sequential(\n",
    "            nn.Conv1d(out_dim, out_dim, kernel_size=kernel_size, padding=padding, dilation=dilation, bias=False),\n",
    "            nn.BatchNorm1d(out_dim),\n",
    "            nn.Dropout(0.1),\n",
    "            nn.LeakyReLU(),\n",
    "        )\n",
    "\n",
    "    def forward(self, x):\n",
    "        x = self.conv(x)\n",
    "        h = self.res(x)\n",
    "        return x + h\n",
    "\n",
    "\n",
    "class Conv2dStack(nn.Module):\n",
    "    def __init__(self, in_dim, out_dim, kernel_size=3, padding=1, dilation=1):\n",
    "        super(Conv2dStack, self).__init__()\n",
    "        self.conv = nn.Sequential(\n",
    "            nn.Conv2d(in_dim, out_dim, kernel_size=kernel_size, padding=padding, dilation=dilation, bias=False),\n",
    "            nn.BatchNorm2d(out_dim),\n",
    "            nn.Dropout(0.1),\n",
    "            nn.LeakyReLU(),\n",
    "        )\n",
    "        self.res = nn.Sequential(\n",
    "            nn.Conv2d(out_dim, out_dim, kernel_size=kernel_size, padding=padding, dilation=dilation, bias=False),\n",
    "            nn.BatchNorm2d(out_dim),\n",
    "            nn.Dropout(0.1),\n",
    "            nn.LeakyReLU(),\n",
    "        )\n",
    "\n",
    "    def forward(self, x):\n",
    "        x = self.conv(x)\n",
    "        h = self.res(x)\n",
    "        return x + h\n",
    "\n",
    "\n",
    "class SeqEncoder(nn.Module):\n",
    "    def __init__(self, in_dim: int):\n",
    "        super(SeqEncoder, self).__init__()\n",
    "        self.conv0 = Conv1dStack(in_dim, 128, 3, padding=1)\n",
    "        self.conv1 = Conv1dStack(128, 64, 6, padding=5, dilation=2)\n",
    "        self.conv2 = Conv1dStack(64, 32, 15, padding=7, dilation=1)\n",
    "        self.conv3 = Conv1dStack(32, 32, 30, padding=29, dilation=2)\n",
    "\n",
    "    def forward(self, x):\n",
    "        x1 = self.conv0(x)\n",
    "        x2 = self.conv1(x1)\n",
    "        x3 = self.conv2(x2)\n",
    "        x4 = self.conv3(x3)\n",
    "        x = torch.cat([x1, x2, x3, x4], dim=1)\n",
    "        # x = x.permute(0, 2, 1).contiguous()\n",
    "        # BATCH x 256 x seq_length\n",
    "        return x\n",
    "\n",
    "\n",
    "class BppAttn(nn.Module):\n",
    "    def __init__(self, in_channel: int, out_channel: int):\n",
    "        super(BppAttn, self).__init__()\n",
    "        self.conv0 = Conv1dStack(in_channel, out_channel, 3, padding=1)\n",
    "        self.bpp_conv = Conv2dStack(5, out_channel)\n",
    "\n",
    "    def forward(self, x, bpp):\n",
    "        x = self.conv0(x)\n",
    "        bpp = self.bpp_conv(bpp)\n",
    "        # BATCH x C x SEQ x SEQ\n",
    "        # BATCH x C x SEQ\n",
    "        x = torch.matmul(bpp, x.unsqueeze(-1))\n",
    "        return x.squeeze(-1)\n",
    "\n",
    "\n",
    "class PositionalEncoding(nn.Module):\n",
    "\n",
    "    def __init__(self, d_model, dropout=0.1, max_len=5000):\n",
    "        super(PositionalEncoding, self).__init__()\n",
    "        self.dropout = nn.Dropout(p=dropout)\n",
    "\n",
    "        pe = torch.zeros(max_len, d_model)\n",
    "        position = torch.arange(0, max_len, dtype=torch.float).unsqueeze(1)\n",
    "        div_term = torch.exp(torch.arange(0, d_model, 2).float() * (-math.log(10000.0) / d_model))\n",
    "        pe[:, 0::2] = torch.sin(position * div_term)\n",
    "        pe[:, 1::2] = torch.cos(position * div_term)\n",
    "        pe = pe.unsqueeze(0).transpose(0, 1)\n",
    "        self.register_buffer('pe', pe)\n",
    "\n",
    "    def forward(self, x):\n",
    "        x = x + self.pe[:x.size(0), :]\n",
    "        return self.dropout(x)\n",
    "\n",
    "\n",
    "class TransformerWrapper(nn.Module):\n",
    "    def __init__(self, dmodel=256, nhead=8, num_layers=2):\n",
    "        super(TransformerWrapper, self).__init__()\n",
    "        self.pos_encoder = PositionalEncoding(256)\n",
    "        encoder_layer = TransformerEncoderLayer(d_model=dmodel, nhead=nhead)\n",
    "        self.transformer_encoder = TransformerEncoder(encoder_layer, num_layers)\n",
    "        self.pos_emb = PositionalEncoding(dmodel)\n",
    "\n",
    "    def flatten_parameters(self):\n",
    "        pass\n",
    "\n",
    "    def forward(self, x):\n",
    "        x = x.permute((1, 0, 2)).contiguous()\n",
    "        x = self.pos_emb(x)\n",
    "        x = self.transformer_encoder(x)\n",
    "        x = x.permute((1, 0, 2)).contiguous()\n",
    "        return x, None\n",
    "\n",
    "\n",
    "class RnnLayers(nn.Module):\n",
    "    def __init__(self, dmodel, dropout=0.3, transformer_layers: int = 2):\n",
    "        super(RnnLayers, self).__init__()\n",
    "        self.dropout = nn.Dropout(dropout)\n",
    "        self.rnn0 = TransformerWrapper(dmodel, nhead=8, num_layers=transformer_layers)\n",
    "        self.rnn1 = nn.LSTM(dmodel, dmodel // 2, batch_first=True, num_layers=1, bidirectional=True)\n",
    "        self.rnn2 = nn.GRU(dmodel, dmodel // 2, batch_first=True, num_layers=1, bidirectional=True)\n",
    "\n",
    "    def forward(self, x):\n",
    "        self.rnn0.flatten_parameters()\n",
    "        x, _ = self.rnn0(x)\n",
    "        if self.rnn1 is not None:\n",
    "            self.rnn1.flatten_parameters()\n",
    "            x = self.dropout(x)\n",
    "            x, _ = self.rnn1(x)\n",
    "        if self.rnn2 is not None:\n",
    "            self.rnn2.flatten_parameters()\n",
    "            x = self.dropout(x)\n",
    "            x, _ = self.rnn2(x)\n",
    "        return x\n",
    "\n",
    "    \n",
    "class BaseAttnModel(nn.Module):\n",
    "    def __init__(self, transformer_layers: int = 2):\n",
    "        super(BaseAttnModel, self).__init__()\n",
    "        self.linear0 = nn.Linear(14 + 3, 1)\n",
    "        self.seq_encoder_x = SeqEncoder(18)\n",
    "        self.attn = BppAttn(256, 128)\n",
    "        self.seq_encoder_bpp = SeqEncoder(128)\n",
    "        self.seq = RnnLayers(256 * 2, dropout=0.3,\n",
    "                             transformer_layers=transformer_layers)\n",
    "\n",
    "    def forward(self, x, bpp):\n",
    "        bpp_features = get_bpp_feature(bpp[:, :, :, 0].float())\n",
    "        x = torch.cat([x] + bpp_features, dim=-1)\n",
    "        learned = self.linear0(x)\n",
    "        x = torch.cat([x, learned], dim=-1)\n",
    "        x = x.permute(0, 2, 1).contiguous().float()\n",
    "        # BATCH x 18 x seq_len\n",
    "        bpp = bpp.permute([0, 3, 1, 2]).contiguous().float()\n",
    "        # BATCH x 5 x seq_len x seq_len\n",
    "        x = self.seq_encoder_x(x)\n",
    "        # BATCH x 256 x seq_len\n",
    "        bpp = self.attn(x, bpp)\n",
    "        bpp = self.seq_encoder_bpp(bpp)\n",
    "        # BATCH x 256 x seq_len\n",
    "        x = x.permute(0, 2, 1).contiguous()\n",
    "        # BATCH x seq_len x 256\n",
    "        bpp = bpp.permute(0, 2, 1).contiguous()\n",
    "        # BATCH x seq_len x 256\n",
    "        x = torch.cat([x, bpp], dim=2)\n",
    "        # BATCH x seq_len x 512\n",
    "        x = self.seq(x)\n",
    "        return x\n",
    "\n",
    "\n",
    "class AEModel(nn.Module):\n",
    "    def __init__(self, transformer_layers: int = 2):\n",
    "        super(AEModel, self).__init__()\n",
    "        self.seq = BaseAttnModel(transformer_layers=transformer_layers)\n",
    "        self.linear = nn.Sequential(\n",
    "            nn.Linear(256 * 2, 14),\n",
    "            nn.Sigmoid(),\n",
    "        )\n",
    "\n",
    "    def forward(self, x, bpp):\n",
    "        x = self.seq(x, bpp)\n",
    "        x = F.dropout(x, p=0.3)\n",
    "        x = self.linear(x)\n",
    "        return x\n",
    "\n",
    "\n",
    "class FromAeModel(nn.Module):\n",
    "    def __init__(self, seq, pred_len=68, dmodel: int = 256):\n",
    "        super(FromAeModel, self).__init__()\n",
    "        self.seq = seq\n",
    "        self.pred_len = pred_len\n",
    "        self.linear = nn.Sequential(\n",
    "            nn.Linear(dmodel * 2, len(target_cols)),\n",
    "        )\n",
    "\n",
    "    def forward(self, x, bpp):\n",
    "        x = self.seq(x, bpp)\n",
    "        x = self.linear(x)\n",
    "        x = x[:, :self.pred_len]\n",
    "        return x"
   ]
  },
  {
   "cell_type": "code",
   "execution_count": 4,
   "metadata": {},
   "outputs": [],
   "source": [
    "aug_df = pd.read_csv('../OpenVaccine/aug_data1.csv')\n",
    "\n",
    "def aug_data(df):\n",
    "    target_df = df.copy()\n",
    "    new_df = aug_df[aug_df['id'].isin(target_df['id'])]\n",
    "                         \n",
    "    del target_df['structure']\n",
    "    del target_df['predicted_loop_type']\n",
    "    new_df = new_df.merge(target_df, on=['id','sequence'], how='left')\n",
    "\n",
    "    df['cnt'] = df['id'].map(new_df[['id','cnt']].set_index('id').to_dict()['cnt'])\n",
    "    df['log_gamma'] = 100\n",
    "    df['score'] = 1.0\n",
    "    df = df.append(new_df[df.columns])\n",
    "    return df"
   ]
  },
  {
   "cell_type": "code",
   "execution_count": 5,
   "metadata": {},
   "outputs": [],
   "source": [
    "pseudo_df = pd.read_csv('../OpenVaccine/pseudo_test.csv')\n",
    "\n",
    "pseudo_df['SN_filter'] = 1\n",
    "pseudo_df['signal_to_noise'] = 1.0\n",
    "pseudo_df['score'] = 1.0\n",
    "pseudo_df['reactivity'] = pseudo_df['reactivity'].apply(lambda x: ast.literal_eval(x))\n",
    "pseudo_df['deg_Mg_pH10'] = pseudo_df['deg_Mg_pH10'].apply(lambda x: ast.literal_eval(x))\n",
    "pseudo_df['deg_pH10'] = pseudo_df['deg_pH10'].apply(lambda x: ast.literal_eval(x))\n",
    "pseudo_df['deg_Mg_50C'] = pseudo_df['deg_Mg_50C'].apply(lambda x: ast.literal_eval(x))\n",
    "pseudo_df['deg_50C'] = pseudo_df['deg_50C'].apply(lambda x: ast.literal_eval(x))"
   ]
  },
  {
   "cell_type": "code",
   "execution_count": 6,
   "metadata": {},
   "outputs": [
    {
     "name": "stderr",
     "output_type": "stream",
     "text": [
      "/home/thinh/anaconda3/lib/python3.7/site-packages/ipykernel_launcher.py:4: SettingWithCopyWarning: \n",
      "A value is trying to be set on a copy of a slice from a DataFrame.\n",
      "Try using .loc[row_indexer,col_indexer] = value instead\n",
      "\n",
      "See the caveats in the documentation: https://pandas.pydata.org/pandas-docs/stable/user_guide/indexing.html#returning-a-view-versus-a-copy\n",
      "  after removing the cwd from sys.path.\n",
      "/home/thinh/anaconda3/lib/python3.7/site-packages/ipykernel_launcher.py:5: SettingWithCopyWarning: \n",
      "A value is trying to be set on a copy of a slice from a DataFrame.\n",
      "Try using .loc[row_indexer,col_indexer] = value instead\n",
      "\n",
      "See the caveats in the documentation: https://pandas.pydata.org/pandas-docs/stable/user_guide/indexing.html#returning-a-view-versus-a-copy\n",
      "  \"\"\"\n",
      "/home/thinh/anaconda3/lib/python3.7/site-packages/ipykernel_launcher.py:6: SettingWithCopyWarning: \n",
      "A value is trying to be set on a copy of a slice from a DataFrame.\n",
      "Try using .loc[row_indexer,col_indexer] = value instead\n",
      "\n",
      "See the caveats in the documentation: https://pandas.pydata.org/pandas-docs/stable/user_guide/indexing.html#returning-a-view-versus-a-copy\n",
      "  \n",
      "/home/thinh/anaconda3/lib/python3.7/site-packages/ipykernel_launcher.py:7: SettingWithCopyWarning: \n",
      "A value is trying to be set on a copy of a slice from a DataFrame.\n",
      "Try using .loc[row_indexer,col_indexer] = value instead\n",
      "\n",
      "See the caveats in the documentation: https://pandas.pydata.org/pandas-docs/stable/user_guide/indexing.html#returning-a-view-versus-a-copy\n",
      "  import sys\n",
      "/home/thinh/anaconda3/lib/python3.7/site-packages/ipykernel_launcher.py:8: SettingWithCopyWarning: \n",
      "A value is trying to be set on a copy of a slice from a DataFrame.\n",
      "Try using .loc[row_indexer,col_indexer] = value instead\n",
      "\n",
      "See the caveats in the documentation: https://pandas.pydata.org/pandas-docs/stable/user_guide/indexing.html#returning-a-view-versus-a-copy\n",
      "  \n",
      "/home/thinh/anaconda3/lib/python3.7/site-packages/ipykernel_launcher.py:10: SettingWithCopyWarning: \n",
      "A value is trying to be set on a copy of a slice from a DataFrame.\n",
      "Try using .loc[row_indexer,col_indexer] = value instead\n",
      "\n",
      "See the caveats in the documentation: https://pandas.pydata.org/pandas-docs/stable/user_guide/indexing.html#returning-a-view-versus-a-copy\n",
      "  # Remove the CWD from sys.path while we load stuff.\n",
      "/home/thinh/anaconda3/lib/python3.7/site-packages/ipykernel_launcher.py:11: SettingWithCopyWarning: \n",
      "A value is trying to be set on a copy of a slice from a DataFrame.\n",
      "Try using .loc[row_indexer,col_indexer] = value instead\n",
      "\n",
      "See the caveats in the documentation: https://pandas.pydata.org/pandas-docs/stable/user_guide/indexing.html#returning-a-view-versus-a-copy\n",
      "  # This is added back by InteractiveShellApp.init_path()\n",
      "/home/thinh/anaconda3/lib/python3.7/site-packages/ipykernel_launcher.py:12: SettingWithCopyWarning: \n",
      "A value is trying to be set on a copy of a slice from a DataFrame.\n",
      "Try using .loc[row_indexer,col_indexer] = value instead\n",
      "\n",
      "See the caveats in the documentation: https://pandas.pydata.org/pandas-docs/stable/user_guide/indexing.html#returning-a-view-versus-a-copy\n",
      "  if sys.path[0] == '':\n",
      "/home/thinh/anaconda3/lib/python3.7/site-packages/ipykernel_launcher.py:13: SettingWithCopyWarning: \n",
      "A value is trying to be set on a copy of a slice from a DataFrame.\n",
      "Try using .loc[row_indexer,col_indexer] = value instead\n",
      "\n",
      "See the caveats in the documentation: https://pandas.pydata.org/pandas-docs/stable/user_guide/indexing.html#returning-a-view-versus-a-copy\n",
      "  del sys.path[0]\n",
      "/home/thinh/anaconda3/lib/python3.7/site-packages/ipykernel_launcher.py:14: SettingWithCopyWarning: \n",
      "A value is trying to be set on a copy of a slice from a DataFrame.\n",
      "Try using .loc[row_indexer,col_indexer] = value instead\n",
      "\n",
      "See the caveats in the documentation: https://pandas.pydata.org/pandas-docs/stable/user_guide/indexing.html#returning-a-view-versus-a-copy\n",
      "  \n"
     ]
    }
   ],
   "source": [
    "pseudo_st = pseudo_df[pseudo_df['seq_length'] == 107]\n",
    "pseudo_lg = pseudo_df[pseudo_df['seq_length'] == 130]\n",
    "\n",
    "pseudo_st['reactivity'] = pseudo_st['reactivity'].apply(lambda x: x[:68])\n",
    "pseudo_st['deg_Mg_pH10'] = pseudo_st['deg_Mg_pH10'].apply(lambda x: x[:68])\n",
    "pseudo_st['deg_pH10'] = pseudo_st['deg_pH10'].apply(lambda x: x[:68])\n",
    "pseudo_st['deg_Mg_50C'] = pseudo_st['deg_Mg_50C'].apply(lambda x: x[:68])\n",
    "pseudo_st['deg_50C'] = pseudo_st['deg_50C'].apply(lambda x: x[:68])\n",
    "\n",
    "pseudo_lg['reactivity'] = pseudo_lg['reactivity'].apply(lambda x: x[:91])\n",
    "pseudo_lg['deg_Mg_pH10'] = pseudo_lg['deg_Mg_pH10'].apply(lambda x: x[:91])\n",
    "pseudo_lg['deg_pH10'] = pseudo_lg['deg_pH10'].apply(lambda x: x[:91])\n",
    "pseudo_lg['deg_Mg_50C'] = pseudo_lg['deg_Mg_50C'].apply(lambda x: x[:91])\n",
    "pseudo_lg['deg_50C'] = pseudo_lg['deg_50C'].apply(lambda x: x[:91])"
   ]
  },
  {
   "cell_type": "code",
   "execution_count": 7,
   "metadata": {
    "_kg_hide-input": true
   },
   "outputs": [
    {
     "name": "stdout",
     "output_type": "stream",
     "text": [
      "public_df: (1258, 10)\n",
      "private_df: (6010, 10)\n",
      "(1, 107, 107, 3)\n",
      "(1, 107, 107, 3)\n",
      "(1, 130, 130, 3)\n"
     ]
    }
   ],
   "source": [
    "base_train_data = pd.read_json(str(Path(BASE_PATH) / 'train.json'), lines=True)\n",
    "#base_train_data.head()\n",
    "\n",
    "# add aug data\n",
    "\n",
    "base_train_data = aug_data(base_train_data)\n",
    "# base_train_data = base_train_data.append(pseudo_st)\n",
    "# base_train_data = base_train_data[base_train_data['SN_filter'] == 1]\n",
    "base_train_data = base_train_data.reset_index(drop = True)\n",
    "\n",
    "# base_train_data_lg = pseudo_lg.reset_index(drop = True)\n",
    "\n",
    "\n",
    "device = torch.device('cuda:1')\n",
    "BATCH_SIZE = 64\n",
    "\n",
    "#base_train_data = pd.read_json(str(Path(BASE_PATH) / 'train.json'), lines=True)\n",
    "base_test_data = pd.read_json(str(Path(BASE_PATH) / 'test.json'), lines=True)\n",
    "base_test_data = aug_data(base_test_data)\n",
    "\n",
    "public_df = base_test_data.query(\"seq_length == 107\").copy()\n",
    "private_df = base_test_data.query(\"seq_length == 130\").copy()\n",
    "print(f\"public_df: {public_df.shape}\")\n",
    "print(f\"private_df: {private_df.shape}\")\n",
    "public_df = public_df.reset_index()\n",
    "private_df = private_df.reset_index()\n",
    "\n",
    "features, _ = preprocess(base_train_data, True)\n",
    "features_tensor = torch.from_numpy(features)\n",
    "dataset0 = VacDataset(features_tensor, base_train_data, None)\n",
    "\n",
    "# features, _ = preprocess(base_train_data_lg, True)\n",
    "# features_tensor = torch.from_numpy(features)\n",
    "# dataset0_lg = VacDataset(features_tensor, base_train_data_lg, None)\n",
    "\n",
    "features, _ = preprocess(public_df, True)\n",
    "features_tensor = torch.from_numpy(features)\n",
    "dataset1 = VacDataset(features_tensor, public_df, None)\n",
    "\n",
    "features, _ = preprocess(private_df, True)\n",
    "features_tensor = torch.from_numpy(features)\n",
    "dataset2 = VacDataset(features_tensor, private_df, None)\n",
    "\n",
    "loader0 = torch.utils.data.DataLoader(dataset0, BATCH_SIZE, shuffle=False, drop_last=False)\n",
    "# loader0_lg = torch.utils.data.DataLoader(dataset0_lg, BATCH_SIZE, shuffle=False, drop_last=False)\n",
    "loader1 = torch.utils.data.DataLoader(dataset1, BATCH_SIZE, shuffle=False, drop_last=False)\n",
    "loader2 = torch.utils.data.DataLoader(dataset2, BATCH_SIZE, shuffle=False, drop_last=False)"
   ]
  },
  {
   "cell_type": "markdown",
   "metadata": {},
   "source": [
    "### Pretrain"
   ]
  },
  {
   "cell_type": "code",
   "execution_count": 8,
   "metadata": {},
   "outputs": [],
   "source": [
    "def learn_from_batch_ae(model, data, device):\n",
    "    seq = data[\"sequence\"].clone()\n",
    "    seq[:, :, :14] = F.dropout2d(seq[:, :, :14], p=0.3)\n",
    "    target = data[\"sequence\"][:, :, :14]\n",
    "    out = model(seq.to(device), data[\"bpp\"].to(device))\n",
    "    loss = F.binary_cross_entropy(out, target.to(device))\n",
    "    return loss\n",
    "\n",
    "\n",
    "def train_ae(model, train_data, optimizer, lr_scheduler, epochs=10, device=\"cpu\", \n",
    "             start_epoch: int = 0, start_it: int = 0, log_path: str = \"./logs\"): #10\n",
    "    print(f\"device: {device}\")\n",
    "    losses = []\n",
    "    it = start_it\n",
    "    model_save_path = Path(MODEL_SAVE_PATH)\n",
    "    start_epoch = start_epoch\n",
    "    end_epoch = start_epoch + epochs\n",
    "    min_loss = 10.0\n",
    "    min_loss_epoch = 0\n",
    "    if not model_save_path.exists():\n",
    "        model_save_path.mkdir(parents=True)\n",
    "    for epoch in progress_bar(range(start_epoch, end_epoch)):\n",
    "        print(f\"epoch: {epoch}\")\n",
    "        model.train()\n",
    "        for i, data in enumerate(train_data):\n",
    "            optimizer.zero_grad()\n",
    "            loss = learn_from_batch_ae(model, data, device)\n",
    "            loss.backward()\n",
    "            nn.utils.clip_grad_norm_(model.parameters(), 0.5)\n",
    "            optimizer.step()\n",
    "            if lr_scheduler:\n",
    "                lr_scheduler.step()\n",
    "            loss_v = loss.item()\n",
    "            losses.append(loss_v)\n",
    "            it += 1\n",
    "        loss_m = np.mean(losses)\n",
    "        if loss_m < min_loss:\n",
    "            min_loss_epoch = epoch\n",
    "            min_loss = loss_m\n",
    "        print(f'epoch: {epoch} loss: {loss_m}')\n",
    "        losses = []\n",
    "        torch.save(optimizer.state_dict(), str(model_save_path / \"optimizer.pt\"))\n",
    "        torch.save(model.state_dict(), str(model_save_path / f\"model-{epoch}.pt\"))\n",
    "    return dict(end_epoch=end_epoch, it=it, min_loss_epoch=min_loss_epoch)"
   ]
  },
  {
   "cell_type": "code",
   "execution_count": 9,
   "metadata": {},
   "outputs": [
    {
     "name": "stdout",
     "output_type": "stream",
     "text": [
      "--loader0\n",
      "device: cuda:1\n"
     ]
    },
    {
     "data": {
      "text/html": [
       "\n",
       "    <div>\n",
       "        <style>\n",
       "            /* Turns off some styling */\n",
       "            progress {\n",
       "                /* gets rid of default border in Firefox and Opera. */\n",
       "                border: none;\n",
       "                /* Needs to be in here for Safari polyfill so background images work as expected. */\n",
       "                background-size: auto;\n",
       "            }\n",
       "            .progress-bar-interrupted, .progress-bar-interrupted::-webkit-progress-bar {\n",
       "                background: #F44336;\n",
       "            }\n",
       "        </style>\n",
       "      <progress value='5' class='' max='5' style='width:300px; height:20px; vertical-align: middle;'></progress>\n",
       "      100.00% [5/5 01:48<00:00]\n",
       "    </div>\n",
       "    "
      ],
      "text/plain": [
       "<IPython.core.display.HTML object>"
      ]
     },
     "metadata": {},
     "output_type": "display_data"
    },
    {
     "name": "stdout",
     "output_type": "stream",
     "text": [
      "epoch: 0\n",
      "epoch: 0 loss: 0.25064601679642995\n",
      "epoch: 1\n",
      "epoch: 1 loss: 0.1384060760339101\n",
      "epoch: 2\n",
      "epoch: 2 loss: 0.08038593033949534\n",
      "epoch: 3\n",
      "epoch: 3 loss: 0.03185466726620992\n",
      "epoch: 4\n",
      "epoch: 4 loss: 0.019618625019987426\n",
      "--loader1\n",
      "device: cuda:1\n"
     ]
    },
    {
     "data": {
      "text/html": [
       "\n",
       "    <div>\n",
       "        <style>\n",
       "            /* Turns off some styling */\n",
       "            progress {\n",
       "                /* gets rid of default border in Firefox and Opera. */\n",
       "                border: none;\n",
       "                /* Needs to be in here for Safari polyfill so background images work as expected. */\n",
       "                background-size: auto;\n",
       "            }\n",
       "            .progress-bar-interrupted, .progress-bar-interrupted::-webkit-progress-bar {\n",
       "                background: #F44336;\n",
       "            }\n",
       "        </style>\n",
       "      <progress value='5' class='' max='5' style='width:300px; height:20px; vertical-align: middle;'></progress>\n",
       "      100.00% [5/5 00:29<00:00]\n",
       "    </div>\n",
       "    "
      ],
      "text/plain": [
       "<IPython.core.display.HTML object>"
      ]
     },
     "metadata": {},
     "output_type": "display_data"
    },
    {
     "name": "stdout",
     "output_type": "stream",
     "text": [
      "epoch: 5\n",
      "epoch: 5 loss: 0.017772705294191837\n",
      "epoch: 6\n",
      "epoch: 6 loss: 0.01611646986566484\n",
      "epoch: 7\n",
      "epoch: 7 loss: 0.013704161671921612\n",
      "epoch: 8\n",
      "epoch: 8 loss: 0.011801821365952491\n",
      "epoch: 9\n",
      "epoch: 9 loss: 0.010440635774284602\n",
      "--loader2\n",
      "device: cuda:1\n"
     ]
    },
    {
     "data": {
      "text/html": [
       "\n",
       "    <div>\n",
       "        <style>\n",
       "            /* Turns off some styling */\n",
       "            progress {\n",
       "                /* gets rid of default border in Firefox and Opera. */\n",
       "                border: none;\n",
       "                /* Needs to be in here for Safari polyfill so background images work as expected. */\n",
       "                background-size: auto;\n",
       "            }\n",
       "            .progress-bar-interrupted, .progress-bar-interrupted::-webkit-progress-bar {\n",
       "                background: #F44336;\n",
       "            }\n",
       "        </style>\n",
       "      <progress value='5' class='' max='5' style='width:300px; height:20px; vertical-align: middle;'></progress>\n",
       "      100.00% [5/5 03:03<00:00]\n",
       "    </div>\n",
       "    "
      ],
      "text/plain": [
       "<IPython.core.display.HTML object>"
      ]
     },
     "metadata": {},
     "output_type": "display_data"
    },
    {
     "name": "stdout",
     "output_type": "stream",
     "text": [
      "epoch: 10\n",
      "epoch: 10 loss: 0.01808331135977456\n",
      "epoch: 11\n",
      "epoch: 11 loss: 0.014588844268879991\n",
      "epoch: 12\n",
      "epoch: 12 loss: 0.012971125731363576\n",
      "epoch: 13\n",
      "epoch: 13 loss: 0.012219857741543588\n",
      "epoch: 14\n",
      "epoch: 14 loss: 0.011251784831364738\n",
      "--loader0\n",
      "device: cuda:1\n"
     ]
    },
    {
     "data": {
      "text/html": [
       "\n",
       "    <div>\n",
       "        <style>\n",
       "            /* Turns off some styling */\n",
       "            progress {\n",
       "                /* gets rid of default border in Firefox and Opera. */\n",
       "                border: none;\n",
       "                /* Needs to be in here for Safari polyfill so background images work as expected. */\n",
       "                background-size: auto;\n",
       "            }\n",
       "            .progress-bar-interrupted, .progress-bar-interrupted::-webkit-progress-bar {\n",
       "                background: #F44336;\n",
       "            }\n",
       "        </style>\n",
       "      <progress value='5' class='' max='5' style='width:300px; height:20px; vertical-align: middle;'></progress>\n",
       "      100.00% [5/5 01:51<00:00]\n",
       "    </div>\n",
       "    "
      ],
      "text/plain": [
       "<IPython.core.display.HTML object>"
      ]
     },
     "metadata": {},
     "output_type": "display_data"
    },
    {
     "name": "stdout",
     "output_type": "stream",
     "text": [
      "epoch: 15\n",
      "epoch: 15 loss: 0.11141376870994767\n",
      "epoch: 16\n",
      "epoch: 16 loss: 0.14910804033279418\n",
      "epoch: 17\n",
      "epoch: 17 loss: 0.1133262633283933\n",
      "epoch: 18\n",
      "epoch: 18 loss: 0.08852919230858484\n",
      "epoch: 19\n",
      "epoch: 19 loss: 0.0644798181951046\n",
      "--loader1\n",
      "device: cuda:1\n"
     ]
    },
    {
     "data": {
      "text/html": [
       "\n",
       "    <div>\n",
       "        <style>\n",
       "            /* Turns off some styling */\n",
       "            progress {\n",
       "                /* gets rid of default border in Firefox and Opera. */\n",
       "                border: none;\n",
       "                /* Needs to be in here for Safari polyfill so background images work as expected. */\n",
       "                background-size: auto;\n",
       "            }\n",
       "            .progress-bar-interrupted, .progress-bar-interrupted::-webkit-progress-bar {\n",
       "                background: #F44336;\n",
       "            }\n",
       "        </style>\n",
       "      <progress value='5' class='' max='5' style='width:300px; height:20px; vertical-align: middle;'></progress>\n",
       "      100.00% [5/5 00:30<00:00]\n",
       "    </div>\n",
       "    "
      ],
      "text/plain": [
       "<IPython.core.display.HTML object>"
      ]
     },
     "metadata": {},
     "output_type": "display_data"
    },
    {
     "name": "stdout",
     "output_type": "stream",
     "text": [
      "epoch: 20\n",
      "epoch: 20 loss: 0.04376504682004452\n",
      "epoch: 21\n",
      "epoch: 21 loss: 0.03720299247652292\n",
      "epoch: 22\n",
      "epoch: 22 loss: 0.031649123318493365\n",
      "epoch: 23\n",
      "epoch: 23 loss: 0.028315145894885062\n",
      "epoch: 24\n",
      "epoch: 24 loss: 0.024756696540862322\n",
      "--loader2\n",
      "device: cuda:1\n"
     ]
    },
    {
     "data": {
      "text/html": [
       "\n",
       "    <div>\n",
       "        <style>\n",
       "            /* Turns off some styling */\n",
       "            progress {\n",
       "                /* gets rid of default border in Firefox and Opera. */\n",
       "                border: none;\n",
       "                /* Needs to be in here for Safari polyfill so background images work as expected. */\n",
       "                background-size: auto;\n",
       "            }\n",
       "            .progress-bar-interrupted, .progress-bar-interrupted::-webkit-progress-bar {\n",
       "                background: #F44336;\n",
       "            }\n",
       "        </style>\n",
       "      <progress value='5' class='' max='5' style='width:300px; height:20px; vertical-align: middle;'></progress>\n",
       "      100.00% [5/5 03:04<00:00]\n",
       "    </div>\n",
       "    "
      ],
      "text/plain": [
       "<IPython.core.display.HTML object>"
      ]
     },
     "metadata": {},
     "output_type": "display_data"
    },
    {
     "name": "stdout",
     "output_type": "stream",
     "text": [
      "epoch: 25\n",
      "epoch: 25 loss: 0.02692662131913165\n",
      "epoch: 26\n",
      "epoch: 26 loss: 0.02191674142600374\n",
      "epoch: 27\n",
      "epoch: 27 loss: 0.019343210384249687\n",
      "epoch: 28\n",
      "epoch: 28 loss: 0.018591710326677943\n",
      "epoch: 29\n",
      "epoch: 29 loss: 0.018955215732467934\n",
      "--loader0\n",
      "device: cuda:1\n"
     ]
    },
    {
     "data": {
      "text/html": [
       "\n",
       "    <div>\n",
       "        <style>\n",
       "            /* Turns off some styling */\n",
       "            progress {\n",
       "                /* gets rid of default border in Firefox and Opera. */\n",
       "                border: none;\n",
       "                /* Needs to be in here for Safari polyfill so background images work as expected. */\n",
       "                background-size: auto;\n",
       "            }\n",
       "            .progress-bar-interrupted, .progress-bar-interrupted::-webkit-progress-bar {\n",
       "                background: #F44336;\n",
       "            }\n",
       "        </style>\n",
       "      <progress value='5' class='' max='5' style='width:300px; height:20px; vertical-align: middle;'></progress>\n",
       "      100.00% [5/5 01:50<00:00]\n",
       "    </div>\n",
       "    "
      ],
      "text/plain": [
       "<IPython.core.display.HTML object>"
      ]
     },
     "metadata": {},
     "output_type": "display_data"
    },
    {
     "name": "stdout",
     "output_type": "stream",
     "text": [
      "epoch: 30\n",
      "epoch: 30 loss: 0.01184980947524309\n",
      "epoch: 31\n",
      "epoch: 31 loss: 0.011005594283342362\n",
      "epoch: 32\n",
      "epoch: 32 loss: 0.010138162014385065\n",
      "epoch: 33\n",
      "epoch: 33 loss: 0.00937236485381921\n",
      "epoch: 34\n",
      "epoch: 34 loss: 0.009434934935222069\n",
      "--loader1\n",
      "device: cuda:1\n"
     ]
    },
    {
     "data": {
      "text/html": [
       "\n",
       "    <div>\n",
       "        <style>\n",
       "            /* Turns off some styling */\n",
       "            progress {\n",
       "                /* gets rid of default border in Firefox and Opera. */\n",
       "                border: none;\n",
       "                /* Needs to be in here for Safari polyfill so background images work as expected. */\n",
       "                background-size: auto;\n",
       "            }\n",
       "            .progress-bar-interrupted, .progress-bar-interrupted::-webkit-progress-bar {\n",
       "                background: #F44336;\n",
       "            }\n",
       "        </style>\n",
       "      <progress value='5' class='' max='5' style='width:300px; height:20px; vertical-align: middle;'></progress>\n",
       "      100.00% [5/5 00:29<00:00]\n",
       "    </div>\n",
       "    "
      ],
      "text/plain": [
       "<IPython.core.display.HTML object>"
      ]
     },
     "metadata": {},
     "output_type": "display_data"
    },
    {
     "name": "stdout",
     "output_type": "stream",
     "text": [
      "epoch: 35\n",
      "epoch: 35 loss: 0.007858033105731011\n",
      "epoch: 36\n",
      "epoch: 36 loss: 0.008021229738369584\n",
      "epoch: 37\n",
      "epoch: 37 loss: 0.0076625833986327056\n",
      "epoch: 38\n",
      "epoch: 38 loss: 0.007388785784132779\n",
      "epoch: 39\n",
      "epoch: 39 loss: 0.006525391549803317\n",
      "--loader2\n",
      "device: cuda:1\n"
     ]
    },
    {
     "data": {
      "text/html": [
       "\n",
       "    <div>\n",
       "        <style>\n",
       "            /* Turns off some styling */\n",
       "            progress {\n",
       "                /* gets rid of default border in Firefox and Opera. */\n",
       "                border: none;\n",
       "                /* Needs to be in here for Safari polyfill so background images work as expected. */\n",
       "                background-size: auto;\n",
       "            }\n",
       "            .progress-bar-interrupted, .progress-bar-interrupted::-webkit-progress-bar {\n",
       "                background: #F44336;\n",
       "            }\n",
       "        </style>\n",
       "      <progress value='5' class='' max='5' style='width:300px; height:20px; vertical-align: middle;'></progress>\n",
       "      100.00% [5/5 03:04<00:00]\n",
       "    </div>\n",
       "    "
      ],
      "text/plain": [
       "<IPython.core.display.HTML object>"
      ]
     },
     "metadata": {},
     "output_type": "display_data"
    },
    {
     "name": "stdout",
     "output_type": "stream",
     "text": [
      "epoch: 40\n",
      "epoch: 40 loss: 0.014415230730825917\n",
      "epoch: 41\n",
      "epoch: 41 loss: 0.013332009156967731\n",
      "epoch: 42\n",
      "epoch: 42 loss: 0.01705033711573862\n",
      "epoch: 43\n",
      "epoch: 43 loss: 0.030063067166570652\n",
      "epoch: 44\n",
      "epoch: 44 loss: 0.01620889058772554\n",
      "--loader0\n",
      "device: cuda:1\n"
     ]
    },
    {
     "data": {
      "text/html": [
       "\n",
       "    <div>\n",
       "        <style>\n",
       "            /* Turns off some styling */\n",
       "            progress {\n",
       "                /* gets rid of default border in Firefox and Opera. */\n",
       "                border: none;\n",
       "                /* Needs to be in here for Safari polyfill so background images work as expected. */\n",
       "                background-size: auto;\n",
       "            }\n",
       "            .progress-bar-interrupted, .progress-bar-interrupted::-webkit-progress-bar {\n",
       "                background: #F44336;\n",
       "            }\n",
       "        </style>\n",
       "      <progress value='5' class='' max='5' style='width:300px; height:20px; vertical-align: middle;'></progress>\n",
       "      100.00% [5/5 01:51<00:00]\n",
       "    </div>\n",
       "    "
      ],
      "text/plain": [
       "<IPython.core.display.HTML object>"
      ]
     },
     "metadata": {},
     "output_type": "display_data"
    },
    {
     "name": "stdout",
     "output_type": "stream",
     "text": [
      "epoch: 45\n",
      "epoch: 45 loss: 0.0104247345837454\n",
      "epoch: 46\n",
      "epoch: 46 loss: 0.010372398793697358\n",
      "epoch: 47\n",
      "epoch: 47 loss: 0.011601323901365201\n",
      "epoch: 48\n",
      "epoch: 48 loss: 0.030044919215142726\n",
      "epoch: 49\n",
      "epoch: 49 loss: 0.0157378122707208\n",
      "--loader1\n",
      "device: cuda:1\n"
     ]
    },
    {
     "data": {
      "text/html": [
       "\n",
       "    <div>\n",
       "        <style>\n",
       "            /* Turns off some styling */\n",
       "            progress {\n",
       "                /* gets rid of default border in Firefox and Opera. */\n",
       "                border: none;\n",
       "                /* Needs to be in here for Safari polyfill so background images work as expected. */\n",
       "                background-size: auto;\n",
       "            }\n",
       "            .progress-bar-interrupted, .progress-bar-interrupted::-webkit-progress-bar {\n",
       "                background: #F44336;\n",
       "            }\n",
       "        </style>\n",
       "      <progress value='5' class='' max='5' style='width:300px; height:20px; vertical-align: middle;'></progress>\n",
       "      100.00% [5/5 00:30<00:00]\n",
       "    </div>\n",
       "    "
      ],
      "text/plain": [
       "<IPython.core.display.HTML object>"
      ]
     },
     "metadata": {},
     "output_type": "display_data"
    },
    {
     "name": "stdout",
     "output_type": "stream",
     "text": [
      "epoch: 50\n",
      "epoch: 50 loss: 0.009795540105551481\n",
      "epoch: 51\n",
      "epoch: 51 loss: 0.009084979956969618\n",
      "epoch: 52\n",
      "epoch: 52 loss: 0.009306920599192381\n",
      "epoch: 53\n",
      "epoch: 53 loss: 0.011493802862241864\n",
      "epoch: 54\n",
      "epoch: 54 loss: 0.01057223421521485\n",
      "--loader2\n",
      "device: cuda:1\n"
     ]
    },
    {
     "data": {
      "text/html": [
       "\n",
       "    <div>\n",
       "        <style>\n",
       "            /* Turns off some styling */\n",
       "            progress {\n",
       "                /* gets rid of default border in Firefox and Opera. */\n",
       "                border: none;\n",
       "                /* Needs to be in here for Safari polyfill so background images work as expected. */\n",
       "                background-size: auto;\n",
       "            }\n",
       "            .progress-bar-interrupted, .progress-bar-interrupted::-webkit-progress-bar {\n",
       "                background: #F44336;\n",
       "            }\n",
       "        </style>\n",
       "      <progress value='5' class='' max='5' style='width:300px; height:20px; vertical-align: middle;'></progress>\n",
       "      100.00% [5/5 03:05<00:00]\n",
       "    </div>\n",
       "    "
      ],
      "text/plain": [
       "<IPython.core.display.HTML object>"
      ]
     },
     "metadata": {},
     "output_type": "display_data"
    },
    {
     "name": "stdout",
     "output_type": "stream",
     "text": [
      "epoch: 55\n",
      "epoch: 55 loss: 0.019030503562076927\n",
      "epoch: 56\n",
      "epoch: 56 loss: 0.016735949563456975\n",
      "epoch: 57\n",
      "epoch: 57 loss: 0.014369799279944693\n",
      "epoch: 58\n",
      "epoch: 58 loss: 0.013059445131728624\n",
      "epoch: 59\n",
      "epoch: 59 loss: 0.012738071332507312\n"
     ]
    },
    {
     "data": {
      "text/plain": [
       "'ae-model.pt'"
      ]
     },
     "execution_count": 9,
     "metadata": {},
     "output_type": "execute_result"
    }
   ],
   "source": [
    "import shutil\n",
    "\n",
    "set_seed(123)\n",
    "shutil.rmtree(\"./model\", True)\n",
    "shutil.rmtree(\"./logs\", True)\n",
    "save_path = Path(\"./model_prediction\")\n",
    "if not save_path.exists():\n",
    "    save_path.mkdir(parents=True)\n",
    "\n",
    "lr_scheduler = None\n",
    "device = \"cuda:1\" if torch.cuda.is_available() else \"cpu\"\n",
    "model = AEModel()\n",
    "model = model.to(device)\n",
    "optimizer = torch.optim.Adam(model.parameters(), lr=1e-3)\n",
    "res = dict(end_epoch=0, it=0, min_loss_epoch=0)\n",
    "epochs = [5, 5, 5, 5] # [5, 5, 5, 5]\n",
    "for e in epochs:\n",
    "    print('--loader0')\n",
    "    res = train_ae(model, loader0, optimizer, lr_scheduler, e, device=device,\n",
    "                   start_epoch=res[\"end_epoch\"], start_it=res[\"it\"])\n",
    "#     print('--loader0_lg')\n",
    "#     res = train_ae(model, loader0_lg, optimizer, lr_scheduler, e, device=device,\n",
    "#                    start_epoch=res[\"end_epoch\"], start_it=res[\"it\"])\n",
    "    print('--loader1')\n",
    "    res = train_ae(model, loader1, optimizer, lr_scheduler, e, device=device,\n",
    "                   start_epoch=res[\"end_epoch\"], start_it=res[\"it\"])\n",
    "    print('--loader2')\n",
    "    res = train_ae(model, loader2, optimizer, lr_scheduler, e, device=device,\n",
    "                   start_epoch=res[\"end_epoch\"], start_it=res[\"it\"])\n",
    "\n",
    "epoch = res[\"min_loss_epoch\"]\n",
    "shutil.copyfile(str(Path(MODEL_SAVE_PATH) / f\"model-{epoch}.pt\"), \"ae-model.pt\")"
   ]
  },
  {
   "cell_type": "markdown",
   "metadata": {},
   "source": [
    "### Training"
   ]
  },
  {
   "cell_type": "code",
   "execution_count": 9,
   "metadata": {
    "_kg_hide-input": true
   },
   "outputs": [],
   "source": [
    "def MCRMSE(y_true, y_pred):\n",
    "    colwise_mse = torch.mean(torch.square(y_true - y_pred), dim=1)\n",
    "    return torch.mean(torch.sqrt(colwise_mse), dim=1)\n",
    "\n",
    "\n",
    "def sn_mcrmse_loss(predict, target, signal_to_noise):\n",
    "    loss = MCRMSE(target, predict)\n",
    "#     weight = 0.5 * torch.log(signal_to_noise + 1.01)\n",
    "#     loss = (loss * weight).mean()\n",
    "    return loss.mean()\n",
    "\n",
    "\n",
    "def learn_from_batch(model, data, optimizer, lr_scheduler, device):\n",
    "    optimizer.zero_grad()\n",
    "\n",
    "    out = model(data[\"sequence\"].to(device), data[\"bpp\"].to(device))\n",
    "    out = out[:, :data[\"label\"].shape[1]]\n",
    "    signal_to_noise = data[\"signal_to_noise\"] * data[\"score\"]\n",
    "    loss = sn_mcrmse_loss(out, data[\"label\"].to(device), signal_to_noise.to(device))\n",
    "    loss.backward()\n",
    "    nn.utils.clip_grad_norm_(model.parameters(), 0.5)\n",
    "    optimizer.step()\n",
    "    if lr_scheduler:\n",
    "        lr_scheduler.step()\n",
    "    return out, loss\n",
    "\n",
    "def predict_batch(model, data, device):\n",
    "    # batch x seq_len x target_size\n",
    "    with torch.no_grad():\n",
    "        pred = model(data[\"sequence\"].to(device), data[\"bpp\"].to(device))\n",
    "        pred = pred.detach().cpu().numpy()\n",
    "    return_values = []\n",
    "    ids = data[\"ids\"]\n",
    "    for idx, p in enumerate(pred):\n",
    "        id_ = ids[idx]\n",
    "        assert p.shape == (model.pred_len, len(target_cols))\n",
    "        for seqpos, val in enumerate(p):\n",
    "            assert len(val) == len(target_cols)\n",
    "            dic = {key: val for key, val in zip(target_cols, val)}\n",
    "            dic[\"id_seqpos\"] = f\"{id_}_{seqpos}\"\n",
    "            return_values.append(dic)\n",
    "    return return_values\n",
    "\n",
    "\n",
    "def predict_data(model, loader, device, batch_size):\n",
    "    model.eval()\n",
    "    data_list = []\n",
    "    for i, data in enumerate(progress_bar(loader)):\n",
    "        data_list += predict_batch(model, data, device)\n",
    "    expected_length = model.pred_len * len(loader) * batch_size\n",
    "#     assert len(data_list) == expected_length, f\"len = {len(data_list)} expected = {expected_length}\"\n",
    "    return data_list\n",
    "\n",
    "def evaluate(model, valid_data, device):\n",
    "    model.eval()\n",
    "    loss_list = []\n",
    "    mcrmse = []\n",
    "    for i, data in enumerate(valid_data):\n",
    "        with torch.no_grad():\n",
    "            y = model(data[\"sequence\"].to(device), data[\"bpp\"].to(device))\n",
    "            y = y[:, :68]\n",
    "            mcrmse_ = MCRMSE(data[\"label\"].to(device), y) #[data[\"signal_to_noise\"] > 1]\n",
    "            mcrmse.append(mcrmse_.mean().item())\n",
    "            loss = sn_mcrmse_loss(y, data[\"label\"].to(device), data[\"signal_to_noise\"].to(device))\n",
    "            loss_list.append(loss.item())\n",
    "    model.train()\n",
    "    return dict(loss=np.mean(loss_list), mcmse=np.mean(mcrmse))\n",
    "\n",
    "def train(model, train_data, valid_data, train_data_lg, valid_data_lg, optimizer, lr_scheduler, epochs=10, device=\"cpu\",\n",
    "          start_epoch: int = 0, log_path: str = \"./logs\"):\n",
    "    print(f\"device: {device}\")\n",
    "    losses = []\n",
    "    writer = SummaryWriter(log_path)\n",
    "    it = 0\n",
    "    model_save_path = Path(MODEL_SAVE_PATH)\n",
    "    start_epoch = start_epoch\n",
    "    end_epoch = start_epoch + epochs\n",
    "    if not model_save_path.exists():\n",
    "        model_save_path.mkdir(parents=True)\n",
    "    min_eval_loss = 10.0\n",
    "    min_eval_epoch = None\n",
    "    for epoch in progress_bar(range(start_epoch, end_epoch)):\n",
    "        print(f\"epoch: {epoch}\")\n",
    "        model.train()\n",
    "        \n",
    "        for i, (data, data_lg) in enumerate(itertools.zip_longest(train_data, train_data_lg)):\n",
    "            if data_lg is not None:\n",
    "                _, loss_lg = learn_from_batch(model, data_lg, optimizer, lr_scheduler, device)\n",
    "                losses.append(loss_lg.item())\n",
    "                \n",
    "            _, loss = learn_from_batch(model, data, optimizer, lr_scheduler, device)\n",
    "            loss_v = loss.item()\n",
    "            writer.add_scalar('loss', loss_v, it)\n",
    "            losses.append(loss_v)\n",
    "            it += 1\n",
    "        print(f'epoch: {epoch} loss: {np.mean(losses)}')\n",
    "        losses = []\n",
    "\n",
    "        eval_result = evaluate(model, valid_data, device)\n",
    "        eval_loss = eval_result[\"loss\"]\n",
    "        if eval_loss <= min_eval_loss:\n",
    "            min_eval_epoch = epoch\n",
    "            min_eval_loss = eval_loss\n",
    "            min_mcrmse = eval_result[\"mcmse\"]\n",
    "            valid_pred = predict_data(model, valid_data, device, BATCH_SIZE)\n",
    "\n",
    "        print(f\"eval loss: {eval_loss} {eval_result['mcmse']}\")\n",
    "        writer.add_scalar(f\"evaluate/loss\", eval_loss, epoch)\n",
    "        writer.add_scalar(f\"evaluate/mcmse\", eval_result[\"mcmse\"], epoch)\n",
    "        model.train()\n",
    "        torch.save(optimizer.state_dict(), str(model_save_path / \"optimizer.pt\"))\n",
    "        torch.save(model.state_dict(), str(model_save_path / f\"model-{epoch}.pt\"))\n",
    "        \n",
    "    print(f'min eval loss: {min_eval_loss} min mcrmse: {min_mcrmse} epoch {min_eval_epoch}')\n",
    "    return min_eval_epoch, valid_pred"
   ]
  },
  {
   "cell_type": "code",
   "execution_count": 10,
   "metadata": {},
   "outputs": [
    {
     "name": "stdout",
     "output_type": "stream",
     "text": [
      "fold: 0\n",
      "(1, 107, 107, 3)\n",
      "(1, 107, 107, 3)\n",
      "(3045, 23) (762, 23)\n",
      "(1, 130, 130, 3)\n",
      "(1, 130, 130, 3)\n",
      "(2404, 16) (601, 16)\n",
      "device: cuda:1\n"
     ]
    },
    {
     "data": {
      "text/html": [
       "\n",
       "    <div>\n",
       "        <style>\n",
       "            /* Turns off some styling */\n",
       "            progress {\n",
       "                /* gets rid of default border in Firefox and Opera. */\n",
       "                border: none;\n",
       "                /* Needs to be in here for Safari polyfill so background images work as expected. */\n",
       "                background-size: auto;\n",
       "            }\n",
       "            .progress-bar-interrupted, .progress-bar-interrupted::-webkit-progress-bar {\n",
       "                background: #F44336;\n",
       "            }\n",
       "        </style>\n",
       "      <progress value='150' class='' max='150' style='width:300px; height:20px; vertical-align: middle;'></progress>\n",
       "      100.00% [150/150 1:16:04<00:00]\n",
       "    </div>\n",
       "    "
      ],
      "text/plain": [
       "<IPython.core.display.HTML object>"
      ]
     },
     "metadata": {},
     "output_type": "display_data"
    },
    {
     "name": "stdout",
     "output_type": "stream",
     "text": [
      "epoch: 0\n",
      "epoch: 0 loss: 0.28286328863691057\n"
     ]
    },
    {
     "data": {
      "text/html": [
       "\n",
       "    <div>\n",
       "        <style>\n",
       "            /* Turns off some styling */\n",
       "            progress {\n",
       "                /* gets rid of default border in Firefox and Opera. */\n",
       "                border: none;\n",
       "                /* Needs to be in here for Safari polyfill so background images work as expected. */\n",
       "                background-size: auto;\n",
       "            }\n",
       "            .progress-bar-interrupted, .progress-bar-interrupted::-webkit-progress-bar {\n",
       "                background: #F44336;\n",
       "            }\n",
       "        </style>\n",
       "      <progress value='12' class='' max='12' style='width:300px; height:20px; vertical-align: middle;'></progress>\n",
       "      100.00% [12/12 00:01<00:00]\n",
       "    </div>\n",
       "    "
      ],
      "text/plain": [
       "<IPython.core.display.HTML object>"
      ]
     },
     "metadata": {},
     "output_type": "display_data"
    },
    {
     "name": "stdout",
     "output_type": "stream",
     "text": [
      "eval loss: 0.2623660741429435 0.2623660741429435\n",
      "epoch: 1\n",
      "epoch: 1 loss: 0.2139285774706132\n"
     ]
    },
    {
     "data": {
      "text/html": [
       "\n",
       "    <div>\n",
       "        <style>\n",
       "            /* Turns off some styling */\n",
       "            progress {\n",
       "                /* gets rid of default border in Firefox and Opera. */\n",
       "                border: none;\n",
       "                /* Needs to be in here for Safari polyfill so background images work as expected. */\n",
       "                background-size: auto;\n",
       "            }\n",
       "            .progress-bar-interrupted, .progress-bar-interrupted::-webkit-progress-bar {\n",
       "                background: #F44336;\n",
       "            }\n",
       "        </style>\n",
       "      <progress value='12' class='' max='12' style='width:300px; height:20px; vertical-align: middle;'></progress>\n",
       "      100.00% [12/12 00:01<00:00]\n",
       "    </div>\n",
       "    "
      ],
      "text/plain": [
       "<IPython.core.display.HTML object>"
      ]
     },
     "metadata": {},
     "output_type": "display_data"
    },
    {
     "name": "stdout",
     "output_type": "stream",
     "text": [
      "eval loss: 0.24422846096852358 0.24422846096852358\n",
      "epoch: 2\n",
      "epoch: 2 loss: 0.1892291842582362\n",
      "eval loss: 0.24579620056284857 0.24579620056284857\n",
      "epoch: 3\n",
      "epoch: 3 loss: 0.17810301003949489\n"
     ]
    },
    {
     "data": {
      "text/html": [
       "\n",
       "    <div>\n",
       "        <style>\n",
       "            /* Turns off some styling */\n",
       "            progress {\n",
       "                /* gets rid of default border in Firefox and Opera. */\n",
       "                border: none;\n",
       "                /* Needs to be in here for Safari polyfill so background images work as expected. */\n",
       "                background-size: auto;\n",
       "            }\n",
       "            .progress-bar-interrupted, .progress-bar-interrupted::-webkit-progress-bar {\n",
       "                background: #F44336;\n",
       "            }\n",
       "        </style>\n",
       "      <progress value='12' class='' max='12' style='width:300px; height:20px; vertical-align: middle;'></progress>\n",
       "      100.00% [12/12 00:01<00:00]\n",
       "    </div>\n",
       "    "
      ],
      "text/plain": [
       "<IPython.core.display.HTML object>"
      ]
     },
     "metadata": {},
     "output_type": "display_data"
    },
    {
     "name": "stdout",
     "output_type": "stream",
     "text": [
      "eval loss: 0.21774162759340068 0.21774162759340068\n",
      "epoch: 4\n",
      "epoch: 4 loss: 0.16308569032544168\n"
     ]
    },
    {
     "data": {
      "text/html": [
       "\n",
       "    <div>\n",
       "        <style>\n",
       "            /* Turns off some styling */\n",
       "            progress {\n",
       "                /* gets rid of default border in Firefox and Opera. */\n",
       "                border: none;\n",
       "                /* Needs to be in here for Safari polyfill so background images work as expected. */\n",
       "                background-size: auto;\n",
       "            }\n",
       "            .progress-bar-interrupted, .progress-bar-interrupted::-webkit-progress-bar {\n",
       "                background: #F44336;\n",
       "            }\n",
       "        </style>\n",
       "      <progress value='12' class='' max='12' style='width:300px; height:20px; vertical-align: middle;'></progress>\n",
       "      100.00% [12/12 00:01<00:00]\n",
       "    </div>\n",
       "    "
      ],
      "text/plain": [
       "<IPython.core.display.HTML object>"
      ]
     },
     "metadata": {},
     "output_type": "display_data"
    },
    {
     "name": "stdout",
     "output_type": "stream",
     "text": [
      "eval loss: 0.20429748354437952 0.20429748354437952\n",
      "epoch: 5\n",
      "epoch: 5 loss: 0.15465881631977005\n"
     ]
    },
    {
     "data": {
      "text/html": [
       "\n",
       "    <div>\n",
       "        <style>\n",
       "            /* Turns off some styling */\n",
       "            progress {\n",
       "                /* gets rid of default border in Firefox and Opera. */\n",
       "                border: none;\n",
       "                /* Needs to be in here for Safari polyfill so background images work as expected. */\n",
       "                background-size: auto;\n",
       "            }\n",
       "            .progress-bar-interrupted, .progress-bar-interrupted::-webkit-progress-bar {\n",
       "                background: #F44336;\n",
       "            }\n",
       "        </style>\n",
       "      <progress value='12' class='' max='12' style='width:300px; height:20px; vertical-align: middle;'></progress>\n",
       "      100.00% [12/12 00:01<00:00]\n",
       "    </div>\n",
       "    "
      ],
      "text/plain": [
       "<IPython.core.display.HTML object>"
      ]
     },
     "metadata": {},
     "output_type": "display_data"
    },
    {
     "name": "stdout",
     "output_type": "stream",
     "text": [
      "eval loss: 0.19918136001394593 0.19918136001394593\n",
      "epoch: 6\n",
      "epoch: 6 loss: 0.14918654299496084\n"
     ]
    },
    {
     "data": {
      "text/html": [
       "\n",
       "    <div>\n",
       "        <style>\n",
       "            /* Turns off some styling */\n",
       "            progress {\n",
       "                /* gets rid of default border in Firefox and Opera. */\n",
       "                border: none;\n",
       "                /* Needs to be in here for Safari polyfill so background images work as expected. */\n",
       "                background-size: auto;\n",
       "            }\n",
       "            .progress-bar-interrupted, .progress-bar-interrupted::-webkit-progress-bar {\n",
       "                background: #F44336;\n",
       "            }\n",
       "        </style>\n",
       "      <progress value='12' class='' max='12' style='width:300px; height:20px; vertical-align: middle;'></progress>\n",
       "      100.00% [12/12 00:01<00:00]\n",
       "    </div>\n",
       "    "
      ],
      "text/plain": [
       "<IPython.core.display.HTML object>"
      ]
     },
     "metadata": {},
     "output_type": "display_data"
    },
    {
     "name": "stdout",
     "output_type": "stream",
     "text": [
      "eval loss: 0.19781545938710277 0.19781545938710277\n",
      "epoch: 7\n",
      "epoch: 7 loss: 0.14367057427190685\n"
     ]
    },
    {
     "data": {
      "text/html": [
       "\n",
       "    <div>\n",
       "        <style>\n",
       "            /* Turns off some styling */\n",
       "            progress {\n",
       "                /* gets rid of default border in Firefox and Opera. */\n",
       "                border: none;\n",
       "                /* Needs to be in here for Safari polyfill so background images work as expected. */\n",
       "                background-size: auto;\n",
       "            }\n",
       "            .progress-bar-interrupted, .progress-bar-interrupted::-webkit-progress-bar {\n",
       "                background: #F44336;\n",
       "            }\n",
       "        </style>\n",
       "      <progress value='12' class='' max='12' style='width:300px; height:20px; vertical-align: middle;'></progress>\n",
       "      100.00% [12/12 00:01<00:00]\n",
       "    </div>\n",
       "    "
      ],
      "text/plain": [
       "<IPython.core.display.HTML object>"
      ]
     },
     "metadata": {},
     "output_type": "display_data"
    },
    {
     "name": "stdout",
     "output_type": "stream",
     "text": [
      "eval loss: 0.19362520458740132 0.19362520458740132\n",
      "epoch: 8\n",
      "epoch: 8 loss: 0.13974011909911674\n"
     ]
    },
    {
     "data": {
      "text/html": [
       "\n",
       "    <div>\n",
       "        <style>\n",
       "            /* Turns off some styling */\n",
       "            progress {\n",
       "                /* gets rid of default border in Firefox and Opera. */\n",
       "                border: none;\n",
       "                /* Needs to be in here for Safari polyfill so background images work as expected. */\n",
       "                background-size: auto;\n",
       "            }\n",
       "            .progress-bar-interrupted, .progress-bar-interrupted::-webkit-progress-bar {\n",
       "                background: #F44336;\n",
       "            }\n",
       "        </style>\n",
       "      <progress value='12' class='' max='12' style='width:300px; height:20px; vertical-align: middle;'></progress>\n",
       "      100.00% [12/12 00:01<00:00]\n",
       "    </div>\n",
       "    "
      ],
      "text/plain": [
       "<IPython.core.display.HTML object>"
      ]
     },
     "metadata": {},
     "output_type": "display_data"
    },
    {
     "name": "stdout",
     "output_type": "stream",
     "text": [
      "eval loss: 0.19022096662134502 0.19022096662134502\n",
      "epoch: 9\n",
      "epoch: 9 loss: 0.13870093609826495\n"
     ]
    },
    {
     "data": {
      "text/html": [
       "\n",
       "    <div>\n",
       "        <style>\n",
       "            /* Turns off some styling */\n",
       "            progress {\n",
       "                /* gets rid of default border in Firefox and Opera. */\n",
       "                border: none;\n",
       "                /* Needs to be in here for Safari polyfill so background images work as expected. */\n",
       "                background-size: auto;\n",
       "            }\n",
       "            .progress-bar-interrupted, .progress-bar-interrupted::-webkit-progress-bar {\n",
       "                background: #F44336;\n",
       "            }\n",
       "        </style>\n",
       "      <progress value='12' class='' max='12' style='width:300px; height:20px; vertical-align: middle;'></progress>\n",
       "      100.00% [12/12 00:01<00:00]\n",
       "    </div>\n",
       "    "
      ],
      "text/plain": [
       "<IPython.core.display.HTML object>"
      ]
     },
     "metadata": {},
     "output_type": "display_data"
    },
    {
     "name": "stdout",
     "output_type": "stream",
     "text": [
      "eval loss: 0.1901595437182774 0.1901595437182774\n",
      "epoch: 10\n",
      "epoch: 10 loss: 0.1346225675163326\n"
     ]
    },
    {
     "data": {
      "text/html": [
       "\n",
       "    <div>\n",
       "        <style>\n",
       "            /* Turns off some styling */\n",
       "            progress {\n",
       "                /* gets rid of default border in Firefox and Opera. */\n",
       "                border: none;\n",
       "                /* Needs to be in here for Safari polyfill so background images work as expected. */\n",
       "                background-size: auto;\n",
       "            }\n",
       "            .progress-bar-interrupted, .progress-bar-interrupted::-webkit-progress-bar {\n",
       "                background: #F44336;\n",
       "            }\n",
       "        </style>\n",
       "      <progress value='12' class='' max='12' style='width:300px; height:20px; vertical-align: middle;'></progress>\n",
       "      100.00% [12/12 00:01<00:00]\n",
       "    </div>\n",
       "    "
      ],
      "text/plain": [
       "<IPython.core.display.HTML object>"
      ]
     },
     "metadata": {},
     "output_type": "display_data"
    },
    {
     "name": "stdout",
     "output_type": "stream",
     "text": [
      "eval loss: 0.18701443872626677 0.18701443872626677\n",
      "epoch: 11\n",
      "epoch: 11 loss: 0.13283342411371657\n"
     ]
    },
    {
     "data": {
      "text/html": [
       "\n",
       "    <div>\n",
       "        <style>\n",
       "            /* Turns off some styling */\n",
       "            progress {\n",
       "                /* gets rid of default border in Firefox and Opera. */\n",
       "                border: none;\n",
       "                /* Needs to be in here for Safari polyfill so background images work as expected. */\n",
       "                background-size: auto;\n",
       "            }\n",
       "            .progress-bar-interrupted, .progress-bar-interrupted::-webkit-progress-bar {\n",
       "                background: #F44336;\n",
       "            }\n",
       "        </style>\n",
       "      <progress value='12' class='' max='12' style='width:300px; height:20px; vertical-align: middle;'></progress>\n",
       "      100.00% [12/12 00:01<00:00]\n",
       "    </div>\n",
       "    "
      ],
      "text/plain": [
       "<IPython.core.display.HTML object>"
      ]
     },
     "metadata": {},
     "output_type": "display_data"
    },
    {
     "name": "stdout",
     "output_type": "stream",
     "text": [
      "eval loss: 0.18415654422567693 0.18415654422567693\n",
      "epoch: 12\n",
      "epoch: 12 loss: 0.1289976335076433\n",
      "eval loss: 0.18557248621905376 0.18557248621905376\n",
      "epoch: 13\n",
      "epoch: 13 loss: 0.126967857671882\n"
     ]
    },
    {
     "data": {
      "text/html": [
       "\n",
       "    <div>\n",
       "        <style>\n",
       "            /* Turns off some styling */\n",
       "            progress {\n",
       "                /* gets rid of default border in Firefox and Opera. */\n",
       "                border: none;\n",
       "                /* Needs to be in here for Safari polyfill so background images work as expected. */\n",
       "                background-size: auto;\n",
       "            }\n",
       "            .progress-bar-interrupted, .progress-bar-interrupted::-webkit-progress-bar {\n",
       "                background: #F44336;\n",
       "            }\n",
       "        </style>\n",
       "      <progress value='12' class='' max='12' style='width:300px; height:20px; vertical-align: middle;'></progress>\n",
       "      100.00% [12/12 00:01<00:00]\n",
       "    </div>\n",
       "    "
      ],
      "text/plain": [
       "<IPython.core.display.HTML object>"
      ]
     },
     "metadata": {},
     "output_type": "display_data"
    },
    {
     "name": "stdout",
     "output_type": "stream",
     "text": [
      "eval loss: 0.18385273420643067 0.18385273420643067\n",
      "epoch: 14\n",
      "epoch: 14 loss: 0.12519794685592836\n"
     ]
    },
    {
     "data": {
      "text/html": [
       "\n",
       "    <div>\n",
       "        <style>\n",
       "            /* Turns off some styling */\n",
       "            progress {\n",
       "                /* gets rid of default border in Firefox and Opera. */\n",
       "                border: none;\n",
       "                /* Needs to be in here for Safari polyfill so background images work as expected. */\n",
       "                background-size: auto;\n",
       "            }\n",
       "            .progress-bar-interrupted, .progress-bar-interrupted::-webkit-progress-bar {\n",
       "                background: #F44336;\n",
       "            }\n",
       "        </style>\n",
       "      <progress value='12' class='' max='12' style='width:300px; height:20px; vertical-align: middle;'></progress>\n",
       "      100.00% [12/12 00:01<00:00]\n",
       "    </div>\n",
       "    "
      ],
      "text/plain": [
       "<IPython.core.display.HTML object>"
      ]
     },
     "metadata": {},
     "output_type": "display_data"
    },
    {
     "name": "stdout",
     "output_type": "stream",
     "text": [
      "eval loss: 0.17882717240100307 0.17882717240100307\n",
      "epoch: 15\n",
      "epoch: 15 loss: 0.12324988661960448\n",
      "eval loss: 0.18054060150171838 0.18054060150171838\n",
      "epoch: 16\n",
      "epoch: 16 loss: 0.12148582390867561\n",
      "eval loss: 0.17968540764504684 0.17968540764504684\n",
      "epoch: 17\n",
      "epoch: 17 loss: 0.12055273748221518\n",
      "eval loss: 0.17962127565493405 0.17962127565493405\n",
      "epoch: 18\n",
      "epoch: 18 loss: 0.12057955518651009\n",
      "eval loss: 0.17997039802536396 0.17997039802536396\n",
      "epoch: 19\n",
      "epoch: 19 loss: 0.11767072735910138\n"
     ]
    },
    {
     "data": {
      "text/html": [
       "\n",
       "    <div>\n",
       "        <style>\n",
       "            /* Turns off some styling */\n",
       "            progress {\n",
       "                /* gets rid of default border in Firefox and Opera. */\n",
       "                border: none;\n",
       "                /* Needs to be in here for Safari polyfill so background images work as expected. */\n",
       "                background-size: auto;\n",
       "            }\n",
       "            .progress-bar-interrupted, .progress-bar-interrupted::-webkit-progress-bar {\n",
       "                background: #F44336;\n",
       "            }\n",
       "        </style>\n",
       "      <progress value='12' class='' max='12' style='width:300px; height:20px; vertical-align: middle;'></progress>\n",
       "      100.00% [12/12 00:01<00:00]\n",
       "    </div>\n",
       "    "
      ],
      "text/plain": [
       "<IPython.core.display.HTML object>"
      ]
     },
     "metadata": {},
     "output_type": "display_data"
    },
    {
     "name": "stdout",
     "output_type": "stream",
     "text": [
      "eval loss: 0.17812070684513703 0.17812070684513703\n",
      "epoch: 20\n",
      "epoch: 20 loss: 0.11710595512382746\n"
     ]
    },
    {
     "data": {
      "text/html": [
       "\n",
       "    <div>\n",
       "        <style>\n",
       "            /* Turns off some styling */\n",
       "            progress {\n",
       "                /* gets rid of default border in Firefox and Opera. */\n",
       "                border: none;\n",
       "                /* Needs to be in here for Safari polyfill so background images work as expected. */\n",
       "                background-size: auto;\n",
       "            }\n",
       "            .progress-bar-interrupted, .progress-bar-interrupted::-webkit-progress-bar {\n",
       "                background: #F44336;\n",
       "            }\n",
       "        </style>\n",
       "      <progress value='12' class='' max='12' style='width:300px; height:20px; vertical-align: middle;'></progress>\n",
       "      100.00% [12/12 00:01<00:00]\n",
       "    </div>\n",
       "    "
      ],
      "text/plain": [
       "<IPython.core.display.HTML object>"
      ]
     },
     "metadata": {},
     "output_type": "display_data"
    },
    {
     "name": "stdout",
     "output_type": "stream",
     "text": [
      "eval loss: 0.17730624580564655 0.17730624580564655\n",
      "epoch: 21\n",
      "epoch: 21 loss: 0.11641794964671319\n",
      "eval loss: 0.17893271034092162 0.17893271034092162\n",
      "epoch: 22\n",
      "epoch: 22 loss: 0.11492762559325106\n",
      "eval loss: 0.1778544670890849 0.1778544670890849\n",
      "epoch: 23\n",
      "epoch: 23 loss: 0.11504120863149328\n",
      "eval loss: 0.17758369937243831 0.17758369937243831\n",
      "epoch: 24\n",
      "epoch: 24 loss: 0.1123554507113918\n"
     ]
    },
    {
     "data": {
      "text/html": [
       "\n",
       "    <div>\n",
       "        <style>\n",
       "            /* Turns off some styling */\n",
       "            progress {\n",
       "                /* gets rid of default border in Firefox and Opera. */\n",
       "                border: none;\n",
       "                /* Needs to be in here for Safari polyfill so background images work as expected. */\n",
       "                background-size: auto;\n",
       "            }\n",
       "            .progress-bar-interrupted, .progress-bar-interrupted::-webkit-progress-bar {\n",
       "                background: #F44336;\n",
       "            }\n",
       "        </style>\n",
       "      <progress value='12' class='' max='12' style='width:300px; height:20px; vertical-align: middle;'></progress>\n",
       "      100.00% [12/12 00:01<00:00]\n",
       "    </div>\n",
       "    "
      ],
      "text/plain": [
       "<IPython.core.display.HTML object>"
      ]
     },
     "metadata": {},
     "output_type": "display_data"
    },
    {
     "name": "stdout",
     "output_type": "stream",
     "text": [
      "eval loss: 0.1747537654484621 0.1747537654484621\n",
      "epoch: 25\n",
      "epoch: 25 loss: 0.11122482351940169\n"
     ]
    },
    {
     "data": {
      "text/html": [
       "\n",
       "    <div>\n",
       "        <style>\n",
       "            /* Turns off some styling */\n",
       "            progress {\n",
       "                /* gets rid of default border in Firefox and Opera. */\n",
       "                border: none;\n",
       "                /* Needs to be in here for Safari polyfill so background images work as expected. */\n",
       "                background-size: auto;\n",
       "            }\n",
       "            .progress-bar-interrupted, .progress-bar-interrupted::-webkit-progress-bar {\n",
       "                background: #F44336;\n",
       "            }\n",
       "        </style>\n",
       "      <progress value='12' class='' max='12' style='width:300px; height:20px; vertical-align: middle;'></progress>\n",
       "      100.00% [12/12 00:01<00:00]\n",
       "    </div>\n",
       "    "
      ],
      "text/plain": [
       "<IPython.core.display.HTML object>"
      ]
     },
     "metadata": {},
     "output_type": "display_data"
    },
    {
     "name": "stdout",
     "output_type": "stream",
     "text": [
      "eval loss: 0.17198085101915275 0.17198085101915275\n",
      "epoch: 26\n",
      "epoch: 26 loss: 0.11314377702199266\n",
      "eval loss: 0.17514093091674987 0.17514093091674987\n",
      "epoch: 27\n",
      "epoch: 27 loss: 0.10991075354321599\n",
      "eval loss: 0.17297489120112472 0.17297489120112472\n",
      "epoch: 28\n",
      "epoch: 28 loss: 0.10767803209739744\n"
     ]
    },
    {
     "data": {
      "text/html": [
       "\n",
       "    <div>\n",
       "        <style>\n",
       "            /* Turns off some styling */\n",
       "            progress {\n",
       "                /* gets rid of default border in Firefox and Opera. */\n",
       "                border: none;\n",
       "                /* Needs to be in here for Safari polyfill so background images work as expected. */\n",
       "                background-size: auto;\n",
       "            }\n",
       "            .progress-bar-interrupted, .progress-bar-interrupted::-webkit-progress-bar {\n",
       "                background: #F44336;\n",
       "            }\n",
       "        </style>\n",
       "      <progress value='12' class='' max='12' style='width:300px; height:20px; vertical-align: middle;'></progress>\n",
       "      100.00% [12/12 00:01<00:00]\n",
       "    </div>\n",
       "    "
      ],
      "text/plain": [
       "<IPython.core.display.HTML object>"
      ]
     },
     "metadata": {},
     "output_type": "display_data"
    },
    {
     "name": "stdout",
     "output_type": "stream",
     "text": [
      "eval loss: 0.17129225086065658 0.17129225086065658\n",
      "epoch: 29\n",
      "epoch: 29 loss: 0.10811798589190928\n",
      "eval loss: 0.17361782797672795 0.17361782797672795\n",
      "epoch: 30\n",
      "epoch: 30 loss: 0.10767711296882126\n",
      "eval loss: 0.17929367265817572 0.17929367265817572\n",
      "epoch: 31\n",
      "epoch: 31 loss: 0.10705641761415782\n"
     ]
    },
    {
     "data": {
      "text/html": [
       "\n",
       "    <div>\n",
       "        <style>\n",
       "            /* Turns off some styling */\n",
       "            progress {\n",
       "                /* gets rid of default border in Firefox and Opera. */\n",
       "                border: none;\n",
       "                /* Needs to be in here for Safari polyfill so background images work as expected. */\n",
       "                background-size: auto;\n",
       "            }\n",
       "            .progress-bar-interrupted, .progress-bar-interrupted::-webkit-progress-bar {\n",
       "                background: #F44336;\n",
       "            }\n",
       "        </style>\n",
       "      <progress value='12' class='' max='12' style='width:300px; height:20px; vertical-align: middle;'></progress>\n",
       "      100.00% [12/12 00:01<00:00]\n",
       "    </div>\n",
       "    "
      ],
      "text/plain": [
       "<IPython.core.display.HTML object>"
      ]
     },
     "metadata": {},
     "output_type": "display_data"
    },
    {
     "name": "stdout",
     "output_type": "stream",
     "text": [
      "eval loss: 0.17051068915631254 0.17051068915631254\n",
      "epoch: 32\n",
      "epoch: 32 loss: 0.10457343681158118\n",
      "eval loss: 0.1724574871850534 0.1724574871850534\n",
      "epoch: 33\n",
      "epoch: 33 loss: 0.10443890443413749\n",
      "eval loss: 0.1736875959843928 0.1736875959843928\n",
      "epoch: 34\n",
      "epoch: 34 loss: 0.10671895793379767\n",
      "eval loss: 0.17069732748217345 0.17069732748217345\n",
      "epoch: 35\n",
      "epoch: 35 loss: 0.1035267514336702\n",
      "eval loss: 0.17273678349524035 0.17273678349524035\n",
      "epoch: 36\n",
      "epoch: 36 loss: 0.10320223711145207\n",
      "eval loss: 0.1738403327327461 0.1738403327327461\n",
      "epoch: 37\n",
      "epoch: 37 loss: 0.10128518275010025\n",
      "eval loss: 0.17258510059190113 0.17258510059190113\n",
      "epoch: 38\n",
      "epoch: 38 loss: 0.10027850482532445\n",
      "eval loss: 0.17419975520068298 0.17419975520068298\n",
      "epoch: 39\n",
      "epoch: 39 loss: 0.10079523170552798\n"
     ]
    },
    {
     "data": {
      "text/html": [
       "\n",
       "    <div>\n",
       "        <style>\n",
       "            /* Turns off some styling */\n",
       "            progress {\n",
       "                /* gets rid of default border in Firefox and Opera. */\n",
       "                border: none;\n",
       "                /* Needs to be in here for Safari polyfill so background images work as expected. */\n",
       "                background-size: auto;\n",
       "            }\n",
       "            .progress-bar-interrupted, .progress-bar-interrupted::-webkit-progress-bar {\n",
       "                background: #F44336;\n",
       "            }\n",
       "        </style>\n",
       "      <progress value='12' class='' max='12' style='width:300px; height:20px; vertical-align: middle;'></progress>\n",
       "      100.00% [12/12 00:01<00:00]\n",
       "    </div>\n",
       "    "
      ],
      "text/plain": [
       "<IPython.core.display.HTML object>"
      ]
     },
     "metadata": {},
     "output_type": "display_data"
    },
    {
     "name": "stdout",
     "output_type": "stream",
     "text": [
      "eval loss: 0.17034436262501937 0.17034436262501937\n",
      "epoch: 40\n",
      "epoch: 40 loss: 0.09981005970193114\n",
      "eval loss: 0.17053463096805235 0.17053463096805235\n",
      "epoch: 41\n",
      "epoch: 41 loss: 0.09763822136265521\n"
     ]
    },
    {
     "data": {
      "text/html": [
       "\n",
       "    <div>\n",
       "        <style>\n",
       "            /* Turns off some styling */\n",
       "            progress {\n",
       "                /* gets rid of default border in Firefox and Opera. */\n",
       "                border: none;\n",
       "                /* Needs to be in here for Safari polyfill so background images work as expected. */\n",
       "                background-size: auto;\n",
       "            }\n",
       "            .progress-bar-interrupted, .progress-bar-interrupted::-webkit-progress-bar {\n",
       "                background: #F44336;\n",
       "            }\n",
       "        </style>\n",
       "      <progress value='12' class='' max='12' style='width:300px; height:20px; vertical-align: middle;'></progress>\n",
       "      100.00% [12/12 00:01<00:00]\n",
       "    </div>\n",
       "    "
      ],
      "text/plain": [
       "<IPython.core.display.HTML object>"
      ]
     },
     "metadata": {},
     "output_type": "display_data"
    },
    {
     "name": "stdout",
     "output_type": "stream",
     "text": [
      "eval loss: 0.16887796560699378 0.16887796560699378\n",
      "epoch: 42\n",
      "epoch: 42 loss: 0.09846647157930738\n",
      "eval loss: 0.17345452504017764 0.17345452504017764\n",
      "epoch: 43\n",
      "epoch: 43 loss: 0.09952069220043167\n",
      "eval loss: 0.17088227921840815 0.17088227921840815\n",
      "epoch: 44\n",
      "epoch: 44 loss: 0.0973182633228332\n",
      "eval loss: 0.17009235619843807 0.17009235619843807\n",
      "epoch: 45\n",
      "epoch: 45 loss: 0.09695753457838564\n"
     ]
    },
    {
     "data": {
      "text/html": [
       "\n",
       "    <div>\n",
       "        <style>\n",
       "            /* Turns off some styling */\n",
       "            progress {\n",
       "                /* gets rid of default border in Firefox and Opera. */\n",
       "                border: none;\n",
       "                /* Needs to be in here for Safari polyfill so background images work as expected. */\n",
       "                background-size: auto;\n",
       "            }\n",
       "            .progress-bar-interrupted, .progress-bar-interrupted::-webkit-progress-bar {\n",
       "                background: #F44336;\n",
       "            }\n",
       "        </style>\n",
       "      <progress value='12' class='' max='12' style='width:300px; height:20px; vertical-align: middle;'></progress>\n",
       "      100.00% [12/12 00:01<00:00]\n",
       "    </div>\n",
       "    "
      ],
      "text/plain": [
       "<IPython.core.display.HTML object>"
      ]
     },
     "metadata": {},
     "output_type": "display_data"
    },
    {
     "name": "stdout",
     "output_type": "stream",
     "text": [
      "eval loss: 0.16870622434976346 0.16870622434976346\n",
      "epoch: 46\n",
      "epoch: 46 loss: 0.09716807359923033\n"
     ]
    },
    {
     "data": {
      "text/html": [
       "\n",
       "    <div>\n",
       "        <style>\n",
       "            /* Turns off some styling */\n",
       "            progress {\n",
       "                /* gets rid of default border in Firefox and Opera. */\n",
       "                border: none;\n",
       "                /* Needs to be in here for Safari polyfill so background images work as expected. */\n",
       "                background-size: auto;\n",
       "            }\n",
       "            .progress-bar-interrupted, .progress-bar-interrupted::-webkit-progress-bar {\n",
       "                background: #F44336;\n",
       "            }\n",
       "        </style>\n",
       "      <progress value='12' class='' max='12' style='width:300px; height:20px; vertical-align: middle;'></progress>\n",
       "      100.00% [12/12 00:01<00:00]\n",
       "    </div>\n",
       "    "
      ],
      "text/plain": [
       "<IPython.core.display.HTML object>"
      ]
     },
     "metadata": {},
     "output_type": "display_data"
    },
    {
     "name": "stdout",
     "output_type": "stream",
     "text": [
      "eval loss: 0.16841802528294195 0.16841802528294195\n",
      "epoch: 47\n",
      "epoch: 47 loss: 0.09632971150767028\n",
      "eval loss: 0.1713222037884632 0.1713222037884632\n",
      "epoch: 48\n",
      "epoch: 48 loss: 0.095681635430036\n",
      "eval loss: 0.16938366790752088 0.16938366790752088\n",
      "epoch: 49\n",
      "epoch: 49 loss: 0.09566728369351747\n"
     ]
    },
    {
     "data": {
      "text/html": [
       "\n",
       "    <div>\n",
       "        <style>\n",
       "            /* Turns off some styling */\n",
       "            progress {\n",
       "                /* gets rid of default border in Firefox and Opera. */\n",
       "                border: none;\n",
       "                /* Needs to be in here for Safari polyfill so background images work as expected. */\n",
       "                background-size: auto;\n",
       "            }\n",
       "            .progress-bar-interrupted, .progress-bar-interrupted::-webkit-progress-bar {\n",
       "                background: #F44336;\n",
       "            }\n",
       "        </style>\n",
       "      <progress value='12' class='' max='12' style='width:300px; height:20px; vertical-align: middle;'></progress>\n",
       "      100.00% [12/12 00:01<00:00]\n",
       "    </div>\n",
       "    "
      ],
      "text/plain": [
       "<IPython.core.display.HTML object>"
      ]
     },
     "metadata": {},
     "output_type": "display_data"
    },
    {
     "name": "stdout",
     "output_type": "stream",
     "text": [
      "eval loss: 0.16829380776420141 0.16829380776420141\n",
      "epoch: 50\n",
      "epoch: 50 loss: 0.09603162673639563\n"
     ]
    },
    {
     "data": {
      "text/html": [
       "\n",
       "    <div>\n",
       "        <style>\n",
       "            /* Turns off some styling */\n",
       "            progress {\n",
       "                /* gets rid of default border in Firefox and Opera. */\n",
       "                border: none;\n",
       "                /* Needs to be in here for Safari polyfill so background images work as expected. */\n",
       "                background-size: auto;\n",
       "            }\n",
       "            .progress-bar-interrupted, .progress-bar-interrupted::-webkit-progress-bar {\n",
       "                background: #F44336;\n",
       "            }\n",
       "        </style>\n",
       "      <progress value='12' class='' max='12' style='width:300px; height:20px; vertical-align: middle;'></progress>\n",
       "      100.00% [12/12 00:01<00:00]\n",
       "    </div>\n",
       "    "
      ],
      "text/plain": [
       "<IPython.core.display.HTML object>"
      ]
     },
     "metadata": {},
     "output_type": "display_data"
    },
    {
     "name": "stdout",
     "output_type": "stream",
     "text": [
      "eval loss: 0.16791686600398936 0.16791686600398936\n",
      "epoch: 51\n",
      "epoch: 51 loss: 0.09385074497904115\n",
      "eval loss: 0.1718490103708462 0.1718490103708462\n",
      "epoch: 52\n",
      "epoch: 52 loss: 0.09366078652859196\n",
      "eval loss: 0.16898601799104443 0.16898601799104443\n",
      "epoch: 53\n",
      "epoch: 53 loss: 0.0923652412250632\n",
      "eval loss: 0.16802728290723123 0.16802728290723123\n",
      "epoch: 54\n",
      "epoch: 54 loss: 0.0924217274463274\n",
      "eval loss: 0.17546550020909804 0.17546550020909804\n",
      "epoch: 55\n",
      "epoch: 55 loss: 0.09477460978579223\n",
      "eval loss: 0.16930888638849226 0.16930888638849226\n",
      "epoch: 56\n",
      "epoch: 56 loss: 0.09225244007407639\n",
      "eval loss: 0.17255288837826066 0.17255288837826066\n",
      "epoch: 57\n",
      "epoch: 57 loss: 0.09114660506687591\n",
      "eval loss: 0.16832474282701337 0.16832474282701337\n",
      "epoch: 58\n",
      "epoch: 58 loss: 0.09316098038682213\n",
      "eval loss: 0.16989234820743726 0.16989234820743726\n",
      "epoch: 59\n",
      "epoch: 59 loss: 0.09043658060423689\n",
      "eval loss: 0.16840744932071414 0.16840744932071414\n",
      "epoch: 60\n",
      "epoch: 60 loss: 0.09014280842816666\n",
      "eval loss: 0.17029268568315634 0.17029268568315634\n",
      "epoch: 61\n",
      "epoch: 61 loss: 0.08990881416003936\n",
      "eval loss: 0.16820009891134025 0.16820009891134025\n",
      "epoch: 62\n",
      "epoch: 62 loss: 0.0899192541942846\n"
     ]
    },
    {
     "data": {
      "text/html": [
       "\n",
       "    <div>\n",
       "        <style>\n",
       "            /* Turns off some styling */\n",
       "            progress {\n",
       "                /* gets rid of default border in Firefox and Opera. */\n",
       "                border: none;\n",
       "                /* Needs to be in here for Safari polyfill so background images work as expected. */\n",
       "                background-size: auto;\n",
       "            }\n",
       "            .progress-bar-interrupted, .progress-bar-interrupted::-webkit-progress-bar {\n",
       "                background: #F44336;\n",
       "            }\n",
       "        </style>\n",
       "      <progress value='12' class='' max='12' style='width:300px; height:20px; vertical-align: middle;'></progress>\n",
       "      100.00% [12/12 00:01<00:00]\n",
       "    </div>\n",
       "    "
      ],
      "text/plain": [
       "<IPython.core.display.HTML object>"
      ]
     },
     "metadata": {},
     "output_type": "display_data"
    },
    {
     "name": "stdout",
     "output_type": "stream",
     "text": [
      "eval loss: 0.1656160009840286 0.1656160009840286\n",
      "epoch: 63\n",
      "epoch: 63 loss: 0.0896536538343156\n",
      "eval loss: 0.16707343299582111 0.16707343299582111\n",
      "epoch: 64\n",
      "epoch: 64 loss: 0.08790000722529602\n",
      "eval loss: 0.16800157185779308 0.16800157185779308\n",
      "epoch: 65\n",
      "epoch: 65 loss: 0.08792722808874648\n",
      "eval loss: 0.171340417184633 0.171340417184633\n",
      "epoch: 66\n",
      "epoch: 66 loss: 0.08998366469537315\n",
      "eval loss: 0.17274689527665746 0.17274689527665746\n",
      "epoch: 67\n",
      "epoch: 67 loss: 0.08776596186593044\n",
      "eval loss: 0.16883324938744862 0.16883324938744862\n",
      "epoch: 68\n",
      "epoch: 68 loss: 0.08709971670534727\n",
      "eval loss: 0.16967312484320315 0.16967312484320315\n",
      "epoch: 69\n",
      "epoch: 69 loss: 0.08593584134396881\n",
      "eval loss: 0.16819682004587375 0.16819682004587375\n",
      "epoch: 70\n",
      "epoch: 70 loss: 0.08621803051015975\n",
      "eval loss: 0.16871751203609534 0.16871751203609534\n",
      "epoch: 71\n",
      "epoch: 71 loss: 0.08605734954100347\n",
      "eval loss: 0.1692669774818865 0.1692669774818865\n",
      "epoch: 72\n",
      "epoch: 72 loss: 0.08572722278093005\n",
      "eval loss: 0.1693584808438741 0.1693584808438741\n",
      "epoch: 73\n",
      "epoch: 73 loss: 0.08479831228517234\n",
      "eval loss: 0.16838632779381577 0.16838632779381577\n",
      "epoch: 74\n",
      "epoch: 74 loss: 0.08458379549744058\n",
      "eval loss: 0.16774820620781974 0.16774820620781974\n",
      "epoch: 75\n",
      "epoch: 75 loss: 0.08521032689778454\n",
      "eval loss: 0.16966842548499805 0.16966842548499805\n",
      "epoch: 76\n",
      "epoch: 76 loss: 0.08391077728858272\n",
      "eval loss: 0.16908650296300456 0.16908650296300456\n",
      "epoch: 77\n",
      "epoch: 77 loss: 0.08494517268427397\n",
      "eval loss: 0.16807343373604453 0.16807343373604453\n",
      "epoch: 78\n",
      "epoch: 78 loss: 0.08512470167838268\n",
      "eval loss: 0.16679496614174297 0.16679496614174297\n",
      "epoch: 79\n",
      "epoch: 79 loss: 0.08425220967746491\n",
      "eval loss: 0.16775088801449536 0.16775088801449536\n",
      "epoch: 80\n",
      "epoch: 80 loss: 0.08323157940124629\n",
      "eval loss: 0.16684577527878083 0.16684577527878083\n",
      "epoch: 81\n",
      "epoch: 81 loss: 0.08472076763693996\n",
      "eval loss: 0.1718599619214696 0.1718599619214696\n",
      "epoch: 82\n",
      "epoch: 82 loss: 0.08424619251889616\n",
      "eval loss: 0.17525959568841032 0.17525959568841032\n",
      "epoch: 83\n",
      "epoch: 83 loss: 0.08258872801998762\n",
      "eval loss: 0.1665952135765928 0.1665952135765928\n",
      "epoch: 84\n",
      "epoch: 84 loss: 0.08272715291684636\n",
      "eval loss: 0.1707308879421906 0.1707308879421906\n",
      "epoch: 85\n",
      "epoch: 85 loss: 0.08174052085882194\n",
      "eval loss: 0.16875870221515332 0.16875870221515332\n",
      "epoch: 86\n",
      "epoch: 86 loss: 0.08115327637449793\n",
      "eval loss: 0.1656891344791606 0.1656891344791606\n",
      "epoch: 87\n",
      "epoch: 87 loss: 0.08445151217293755\n",
      "eval loss: 0.16814427088430037 0.16814427088430037\n",
      "epoch: 88\n",
      "epoch: 88 loss: 0.08136905325313722\n",
      "eval loss: 0.1680686324928965 0.1680686324928965\n",
      "epoch: 89\n",
      "epoch: 89 loss: 0.08243133982421683\n",
      "eval loss: 0.1670283810413723 0.1670283810413723\n",
      "epoch: 90\n",
      "epoch: 90 loss: 0.07972817674340582\n",
      "eval loss: 0.1675305547854894 0.1675305547854894\n",
      "epoch: 91\n",
      "epoch: 91 loss: 0.07979585585395874\n",
      "eval loss: 0.16852935586218942 0.16852935586218942\n",
      "epoch: 92\n",
      "epoch: 92 loss: 0.07893286203213754\n",
      "eval loss: 0.17034123997225428 0.17034123997225428\n",
      "epoch: 93\n",
      "epoch: 93 loss: 0.07943929078505357\n",
      "eval loss: 0.16763562008495983 0.16763562008495983\n",
      "epoch: 94\n",
      "epoch: 94 loss: 0.07958243978607156\n",
      "eval loss: 0.16725878327924001 0.16725878327924001\n",
      "epoch: 95\n",
      "epoch: 95 loss: 0.07972138858745584\n",
      "eval loss: 0.16608598678058004 0.16608598678058004\n",
      "epoch: 96\n",
      "epoch: 96 loss: 0.07885127682667678\n",
      "eval loss: 0.1702502833984094 0.1702502833984094\n",
      "epoch: 97\n",
      "epoch: 97 loss: 0.07969918881949806\n",
      "eval loss: 0.1713625322967881 0.1713625322967881\n",
      "epoch: 98\n",
      "epoch: 98 loss: 0.07868336627218368\n",
      "eval loss: 0.17012341520044658 0.17012341520044658\n",
      "epoch: 99\n",
      "epoch: 99 loss: 0.07740317603811263\n",
      "eval loss: 0.1696568202994669 0.1696568202994669\n",
      "epoch: 100\n",
      "epoch: 100 loss: 0.07785263042463496\n",
      "eval loss: 0.1701610624614217 0.1701610624614217\n",
      "epoch: 101\n",
      "epoch: 101 loss: 0.07931754391857118\n",
      "eval loss: 0.1705713789661092 0.1705713789661092\n",
      "epoch: 102\n",
      "epoch: 102 loss: 0.07768919921256426\n",
      "eval loss: 0.16868248575025235 0.16868248575025235\n",
      "epoch: 103\n",
      "epoch: 103 loss: 0.07673016465381396\n",
      "eval loss: 0.16934191075001317 0.16934191075001317\n",
      "epoch: 104\n",
      "epoch: 104 loss: 0.07644603517765416\n",
      "eval loss: 0.1696596102807745 0.1696596102807745\n",
      "epoch: 105\n",
      "epoch: 105 loss: 0.07836258785652449\n",
      "eval loss: 0.1681957735044741 0.1681957735044741\n",
      "epoch: 106\n",
      "epoch: 106 loss: 0.07702356846700269\n",
      "eval loss: 0.17138670923452679 0.17138670923452679\n",
      "epoch: 107\n",
      "epoch: 107 loss: 0.07682372289363286\n",
      "eval loss: 0.16770498463212255 0.16770498463212255\n",
      "epoch: 108\n",
      "epoch: 108 loss: 0.07795660715815815\n",
      "eval loss: 0.16964793624948774 0.16964793624948774\n",
      "epoch: 109\n",
      "epoch: 109 loss: 0.07809542156773934\n",
      "eval loss: 0.16751343546116562 0.16751343546116562\n",
      "epoch: 110\n",
      "epoch: 110 loss: 0.07610320292393549\n",
      "eval loss: 0.16879768557930272 0.16879768557930272\n",
      "epoch: 111\n",
      "epoch: 111 loss: 0.23194657175863603\n",
      "eval loss: 0.3865043620762075 0.3865043620762075\n",
      "epoch: 112\n",
      "epoch: 112 loss: 0.3619088820248857\n",
      "eval loss: 0.38131657967729704 0.38131657967729704\n",
      "epoch: 113\n",
      "epoch: 113 loss: 0.3582366262511786\n",
      "eval loss: 0.38472423647717596 0.38472423647717596\n",
      "epoch: 114\n",
      "epoch: 114 loss: 0.3568656673550269\n",
      "eval loss: 0.3824314373854283 0.3824314373854283\n",
      "epoch: 115\n",
      "epoch: 115 loss: 0.3557115828563529\n",
      "eval loss: 0.38223758119157997 0.38223758119157997\n",
      "epoch: 116\n",
      "epoch: 116 loss: 0.3551202767020062\n",
      "eval loss: 0.38584824154212427 0.38584824154212427\n",
      "epoch: 117\n",
      "epoch: 117 loss: 0.3566739906523488\n",
      "eval loss: 0.3811089049984351 0.3811089049984351\n",
      "epoch: 118\n",
      "epoch: 118 loss: 0.35427402793876317\n",
      "eval loss: 0.38169128157646187 0.38169128157646187\n",
      "epoch: 119\n",
      "epoch: 119 loss: 0.3546597570803145\n",
      "eval loss: 0.3804719125245542 0.3804719125245542\n",
      "epoch: 120\n",
      "epoch: 120 loss: 0.3528063546635275\n",
      "eval loss: 0.38454342122894963 0.38454342122894963\n",
      "epoch: 121\n",
      "epoch: 121 loss: 0.3528427030791527\n",
      "eval loss: 0.38377203439761054 0.38377203439761054\n",
      "epoch: 122\n",
      "epoch: 122 loss: 0.3468612181620406\n",
      "eval loss: 0.40011571313719224 0.40011571313719224\n",
      "epoch: 123\n",
      "epoch: 123 loss: 0.34731165135786446\n",
      "eval loss: 0.373815489061069 0.373815489061069\n",
      "epoch: 124\n",
      "epoch: 124 loss: 0.3431253375884016\n",
      "eval loss: 0.37074770734887585 0.37074770734887585\n",
      "epoch: 125\n",
      "epoch: 125 loss: 0.34333643892778787\n",
      "eval loss: 0.3817408966279772 0.3817408966279772\n",
      "epoch: 126\n",
      "epoch: 126 loss: 0.3430945347004455\n",
      "eval loss: 0.3694268888876815 0.3694268888876815\n",
      "epoch: 127\n",
      "epoch: 127 loss: 0.34225836522747627\n",
      "eval loss: 0.3705971283805413 0.3705971283805413\n",
      "epoch: 128\n",
      "epoch: 128 loss: 0.341084003426074\n",
      "eval loss: 0.37138610153723567 0.37138610153723567\n",
      "epoch: 129\n",
      "epoch: 129 loss: 0.34033686242957023\n",
      "eval loss: 0.36857178169442095 0.36857178169442095\n",
      "epoch: 130\n",
      "epoch: 130 loss: 0.3403424522688799\n",
      "eval loss: 0.36915796679028007 0.36915796679028007\n",
      "epoch: 131\n",
      "epoch: 131 loss: 0.3398628407375906\n",
      "eval loss: 0.36520369031184313 0.36520369031184313\n",
      "epoch: 132\n",
      "epoch: 132 loss: 0.3386341799018701\n",
      "eval loss: 0.36961860278982356 0.36961860278982356\n",
      "epoch: 133\n",
      "epoch: 133 loss: 0.34305913568968377\n",
      "eval loss: 0.3800649731524865 0.3800649731524865\n",
      "epoch: 134\n",
      "epoch: 134 loss: 0.3486657630638238\n",
      "eval loss: 0.37502453691812954 0.37502453691812954\n",
      "epoch: 135\n",
      "epoch: 135 loss: 0.3454157190946494\n",
      "eval loss: 0.3808670935491881 0.3808670935491881\n",
      "epoch: 136\n",
      "epoch: 136 loss: 0.3423982083670214\n",
      "eval loss: 0.370041542727734 0.370041542727734\n",
      "epoch: 137\n",
      "epoch: 137 loss: 0.3398249407677976\n",
      "eval loss: 0.3682477409806933 0.3682477409806933\n",
      "epoch: 138\n",
      "epoch: 138 loss: 0.3385060556394857\n",
      "eval loss: 0.3718058527057302 0.3718058527057302\n",
      "epoch: 139\n",
      "epoch: 139 loss: 0.3372196183133299\n",
      "eval loss: 0.3675062885434903 0.3675062885434903\n",
      "epoch: 140\n",
      "epoch: 140 loss: 0.3379332291365999\n",
      "eval loss: 0.3772591685782145 0.3772591685782145\n",
      "epoch: 141\n",
      "epoch: 141 loss: 0.334024626495251\n",
      "eval loss: 0.369513752505424 0.369513752505424\n",
      "epoch: 142\n",
      "epoch: 142 loss: 0.332497556156137\n",
      "eval loss: 0.37161721739038045 0.37161721739038045\n",
      "epoch: 143\n",
      "epoch: 143 loss: 0.33572084837961114\n",
      "eval loss: 0.3660120049446986 0.3660120049446986\n",
      "epoch: 144\n",
      "epoch: 144 loss: 0.3342808420306253\n",
      "eval loss: 0.36466137880317645 0.36466137880317645\n",
      "epoch: 145\n",
      "epoch: 145 loss: 0.3333261459942002\n",
      "eval loss: 0.3653633417952023 0.3653633417952023\n",
      "epoch: 146\n",
      "epoch: 146 loss: 0.33218306539218817\n",
      "eval loss: 0.36365824777457156 0.36365824777457156\n",
      "epoch: 147\n"
     ]
    },
    {
     "name": "stdout",
     "output_type": "stream",
     "text": [
      "epoch: 147 loss: 0.33141629734732947\n",
      "eval loss: 0.35816155029260294 0.35816155029260294\n",
      "epoch: 148\n",
      "epoch: 148 loss: 0.3325244014787904\n",
      "eval loss: 0.35971676050798324 0.35971676050798324\n",
      "epoch: 149\n",
      "epoch: 149 loss: 0.328998286438479\n",
      "eval loss: 0.3580578257784088 0.3580578257784088\n",
      "min eval loss: 0.1656160009840286 min mcrmse: 0.1656160009840286 epoch 62\n",
      "fold: 1\n",
      "(1, 107, 107, 3)\n",
      "(1, 107, 107, 3)\n",
      "(3045, 23) (762, 23)\n",
      "(1, 130, 130, 3)\n",
      "(1, 130, 130, 3)\n",
      "(2404, 16) (601, 16)\n",
      "device: cuda:1\n"
     ]
    },
    {
     "data": {
      "text/html": [
       "\n",
       "    <div>\n",
       "        <style>\n",
       "            /* Turns off some styling */\n",
       "            progress {\n",
       "                /* gets rid of default border in Firefox and Opera. */\n",
       "                border: none;\n",
       "                /* Needs to be in here for Safari polyfill so background images work as expected. */\n",
       "                background-size: auto;\n",
       "            }\n",
       "            .progress-bar-interrupted, .progress-bar-interrupted::-webkit-progress-bar {\n",
       "                background: #F44336;\n",
       "            }\n",
       "        </style>\n",
       "      <progress value='150' class='' max='150' style='width:300px; height:20px; vertical-align: middle;'></progress>\n",
       "      100.00% [150/150 1:16:06<00:00]\n",
       "    </div>\n",
       "    "
      ],
      "text/plain": [
       "<IPython.core.display.HTML object>"
      ]
     },
     "metadata": {},
     "output_type": "display_data"
    },
    {
     "name": "stdout",
     "output_type": "stream",
     "text": [
      "epoch: 0\n",
      "epoch: 0 loss: 0.31152110851244835\n"
     ]
    },
    {
     "data": {
      "text/html": [
       "\n",
       "    <div>\n",
       "        <style>\n",
       "            /* Turns off some styling */\n",
       "            progress {\n",
       "                /* gets rid of default border in Firefox and Opera. */\n",
       "                border: none;\n",
       "                /* Needs to be in here for Safari polyfill so background images work as expected. */\n",
       "                background-size: auto;\n",
       "            }\n",
       "            .progress-bar-interrupted, .progress-bar-interrupted::-webkit-progress-bar {\n",
       "                background: #F44336;\n",
       "            }\n",
       "        </style>\n",
       "      <progress value='12' class='' max='12' style='width:300px; height:20px; vertical-align: middle;'></progress>\n",
       "      100.00% [12/12 00:01<00:00]\n",
       "    </div>\n",
       "    "
      ],
      "text/plain": [
       "<IPython.core.display.HTML object>"
      ]
     },
     "metadata": {},
     "output_type": "display_data"
    },
    {
     "name": "stdout",
     "output_type": "stream",
     "text": [
      "eval loss: 0.27341997837128024 0.27341997837128024\n",
      "epoch: 1\n",
      "epoch: 1 loss: 0.2203649458604234\n"
     ]
    },
    {
     "data": {
      "text/html": [
       "\n",
       "    <div>\n",
       "        <style>\n",
       "            /* Turns off some styling */\n",
       "            progress {\n",
       "                /* gets rid of default border in Firefox and Opera. */\n",
       "                border: none;\n",
       "                /* Needs to be in here for Safari polyfill so background images work as expected. */\n",
       "                background-size: auto;\n",
       "            }\n",
       "            .progress-bar-interrupted, .progress-bar-interrupted::-webkit-progress-bar {\n",
       "                background: #F44336;\n",
       "            }\n",
       "        </style>\n",
       "      <progress value='12' class='' max='12' style='width:300px; height:20px; vertical-align: middle;'></progress>\n",
       "      100.00% [12/12 00:01<00:00]\n",
       "    </div>\n",
       "    "
      ],
      "text/plain": [
       "<IPython.core.display.HTML object>"
      ]
     },
     "metadata": {},
     "output_type": "display_data"
    },
    {
     "name": "stdout",
     "output_type": "stream",
     "text": [
      "eval loss: 0.23708212888168154 0.23708212888168154\n",
      "epoch: 2\n",
      "epoch: 2 loss: 0.1961635056132221\n"
     ]
    },
    {
     "data": {
      "text/html": [
       "\n",
       "    <div>\n",
       "        <style>\n",
       "            /* Turns off some styling */\n",
       "            progress {\n",
       "                /* gets rid of default border in Firefox and Opera. */\n",
       "                border: none;\n",
       "                /* Needs to be in here for Safari polyfill so background images work as expected. */\n",
       "                background-size: auto;\n",
       "            }\n",
       "            .progress-bar-interrupted, .progress-bar-interrupted::-webkit-progress-bar {\n",
       "                background: #F44336;\n",
       "            }\n",
       "        </style>\n",
       "      <progress value='12' class='' max='12' style='width:300px; height:20px; vertical-align: middle;'></progress>\n",
       "      100.00% [12/12 00:01<00:00]\n",
       "    </div>\n",
       "    "
      ],
      "text/plain": [
       "<IPython.core.display.HTML object>"
      ]
     },
     "metadata": {},
     "output_type": "display_data"
    },
    {
     "name": "stdout",
     "output_type": "stream",
     "text": [
      "eval loss: 0.2248811587756673 0.2248811587756673\n",
      "epoch: 3\n",
      "epoch: 3 loss: 0.18105219300260536\n"
     ]
    },
    {
     "data": {
      "text/html": [
       "\n",
       "    <div>\n",
       "        <style>\n",
       "            /* Turns off some styling */\n",
       "            progress {\n",
       "                /* gets rid of default border in Firefox and Opera. */\n",
       "                border: none;\n",
       "                /* Needs to be in here for Safari polyfill so background images work as expected. */\n",
       "                background-size: auto;\n",
       "            }\n",
       "            .progress-bar-interrupted, .progress-bar-interrupted::-webkit-progress-bar {\n",
       "                background: #F44336;\n",
       "            }\n",
       "        </style>\n",
       "      <progress value='12' class='' max='12' style='width:300px; height:20px; vertical-align: middle;'></progress>\n",
       "      100.00% [12/12 00:01<00:00]\n",
       "    </div>\n",
       "    "
      ],
      "text/plain": [
       "<IPython.core.display.HTML object>"
      ]
     },
     "metadata": {},
     "output_type": "display_data"
    },
    {
     "name": "stdout",
     "output_type": "stream",
     "text": [
      "eval loss: 0.21560929602815912 0.21560929602815912\n",
      "epoch: 4\n",
      "epoch: 4 loss: 0.1683889460278933\n"
     ]
    },
    {
     "data": {
      "text/html": [
       "\n",
       "    <div>\n",
       "        <style>\n",
       "            /* Turns off some styling */\n",
       "            progress {\n",
       "                /* gets rid of default border in Firefox and Opera. */\n",
       "                border: none;\n",
       "                /* Needs to be in here for Safari polyfill so background images work as expected. */\n",
       "                background-size: auto;\n",
       "            }\n",
       "            .progress-bar-interrupted, .progress-bar-interrupted::-webkit-progress-bar {\n",
       "                background: #F44336;\n",
       "            }\n",
       "        </style>\n",
       "      <progress value='12' class='' max='12' style='width:300px; height:20px; vertical-align: middle;'></progress>\n",
       "      100.00% [12/12 00:01<00:00]\n",
       "    </div>\n",
       "    "
      ],
      "text/plain": [
       "<IPython.core.display.HTML object>"
      ]
     },
     "metadata": {},
     "output_type": "display_data"
    },
    {
     "name": "stdout",
     "output_type": "stream",
     "text": [
      "eval loss: 0.19978784021369736 0.19978784021369736\n",
      "epoch: 5\n",
      "epoch: 5 loss: 0.15999269189387863\n"
     ]
    },
    {
     "data": {
      "text/html": [
       "\n",
       "    <div>\n",
       "        <style>\n",
       "            /* Turns off some styling */\n",
       "            progress {\n",
       "                /* gets rid of default border in Firefox and Opera. */\n",
       "                border: none;\n",
       "                /* Needs to be in here for Safari polyfill so background images work as expected. */\n",
       "                background-size: auto;\n",
       "            }\n",
       "            .progress-bar-interrupted, .progress-bar-interrupted::-webkit-progress-bar {\n",
       "                background: #F44336;\n",
       "            }\n",
       "        </style>\n",
       "      <progress value='12' class='' max='12' style='width:300px; height:20px; vertical-align: middle;'></progress>\n",
       "      100.00% [12/12 00:01<00:00]\n",
       "    </div>\n",
       "    "
      ],
      "text/plain": [
       "<IPython.core.display.HTML object>"
      ]
     },
     "metadata": {},
     "output_type": "display_data"
    },
    {
     "name": "stdout",
     "output_type": "stream",
     "text": [
      "eval loss: 0.19823078767903365 0.19823078767903365\n",
      "epoch: 6\n",
      "epoch: 6 loss: 0.1552315689855958\n"
     ]
    },
    {
     "data": {
      "text/html": [
       "\n",
       "    <div>\n",
       "        <style>\n",
       "            /* Turns off some styling */\n",
       "            progress {\n",
       "                /* gets rid of default border in Firefox and Opera. */\n",
       "                border: none;\n",
       "                /* Needs to be in here for Safari polyfill so background images work as expected. */\n",
       "                background-size: auto;\n",
       "            }\n",
       "            .progress-bar-interrupted, .progress-bar-interrupted::-webkit-progress-bar {\n",
       "                background: #F44336;\n",
       "            }\n",
       "        </style>\n",
       "      <progress value='12' class='' max='12' style='width:300px; height:20px; vertical-align: middle;'></progress>\n",
       "      100.00% [12/12 00:01<00:00]\n",
       "    </div>\n",
       "    "
      ],
      "text/plain": [
       "<IPython.core.display.HTML object>"
      ]
     },
     "metadata": {},
     "output_type": "display_data"
    },
    {
     "name": "stdout",
     "output_type": "stream",
     "text": [
      "eval loss: 0.19245113955329304 0.19245113955329304\n",
      "epoch: 7\n",
      "epoch: 7 loss: 0.14871518830160402\n"
     ]
    },
    {
     "data": {
      "text/html": [
       "\n",
       "    <div>\n",
       "        <style>\n",
       "            /* Turns off some styling */\n",
       "            progress {\n",
       "                /* gets rid of default border in Firefox and Opera. */\n",
       "                border: none;\n",
       "                /* Needs to be in here for Safari polyfill so background images work as expected. */\n",
       "                background-size: auto;\n",
       "            }\n",
       "            .progress-bar-interrupted, .progress-bar-interrupted::-webkit-progress-bar {\n",
       "                background: #F44336;\n",
       "            }\n",
       "        </style>\n",
       "      <progress value='12' class='' max='12' style='width:300px; height:20px; vertical-align: middle;'></progress>\n",
       "      100.00% [12/12 00:01<00:00]\n",
       "    </div>\n",
       "    "
      ],
      "text/plain": [
       "<IPython.core.display.HTML object>"
      ]
     },
     "metadata": {},
     "output_type": "display_data"
    },
    {
     "name": "stdout",
     "output_type": "stream",
     "text": [
      "eval loss: 0.18775028642800465 0.18775028642800465\n",
      "epoch: 8\n",
      "epoch: 8 loss: 0.14507442816895305\n"
     ]
    },
    {
     "data": {
      "text/html": [
       "\n",
       "    <div>\n",
       "        <style>\n",
       "            /* Turns off some styling */\n",
       "            progress {\n",
       "                /* gets rid of default border in Firefox and Opera. */\n",
       "                border: none;\n",
       "                /* Needs to be in here for Safari polyfill so background images work as expected. */\n",
       "                background-size: auto;\n",
       "            }\n",
       "            .progress-bar-interrupted, .progress-bar-interrupted::-webkit-progress-bar {\n",
       "                background: #F44336;\n",
       "            }\n",
       "        </style>\n",
       "      <progress value='12' class='' max='12' style='width:300px; height:20px; vertical-align: middle;'></progress>\n",
       "      100.00% [12/12 00:01<00:00]\n",
       "    </div>\n",
       "    "
      ],
      "text/plain": [
       "<IPython.core.display.HTML object>"
      ]
     },
     "metadata": {},
     "output_type": "display_data"
    },
    {
     "name": "stdout",
     "output_type": "stream",
     "text": [
      "eval loss: 0.18681151947482713 0.18681151947482713\n",
      "epoch: 9\n",
      "epoch: 9 loss: 0.14084173516774906\n",
      "eval loss: 0.1898186107891837 0.1898186107891837\n",
      "epoch: 10\n",
      "epoch: 10 loss: 0.13714610056773577\n"
     ]
    },
    {
     "data": {
      "text/html": [
       "\n",
       "    <div>\n",
       "        <style>\n",
       "            /* Turns off some styling */\n",
       "            progress {\n",
       "                /* gets rid of default border in Firefox and Opera. */\n",
       "                border: none;\n",
       "                /* Needs to be in here for Safari polyfill so background images work as expected. */\n",
       "                background-size: auto;\n",
       "            }\n",
       "            .progress-bar-interrupted, .progress-bar-interrupted::-webkit-progress-bar {\n",
       "                background: #F44336;\n",
       "            }\n",
       "        </style>\n",
       "      <progress value='12' class='' max='12' style='width:300px; height:20px; vertical-align: middle;'></progress>\n",
       "      100.00% [12/12 00:01<00:00]\n",
       "    </div>\n",
       "    "
      ],
      "text/plain": [
       "<IPython.core.display.HTML object>"
      ]
     },
     "metadata": {},
     "output_type": "display_data"
    },
    {
     "name": "stdout",
     "output_type": "stream",
     "text": [
      "eval loss: 0.183655171147438 0.183655171147438\n",
      "epoch: 11\n",
      "epoch: 11 loss: 0.13510125419934518\n"
     ]
    },
    {
     "data": {
      "text/html": [
       "\n",
       "    <div>\n",
       "        <style>\n",
       "            /* Turns off some styling */\n",
       "            progress {\n",
       "                /* gets rid of default border in Firefox and Opera. */\n",
       "                border: none;\n",
       "                /* Needs to be in here for Safari polyfill so background images work as expected. */\n",
       "                background-size: auto;\n",
       "            }\n",
       "            .progress-bar-interrupted, .progress-bar-interrupted::-webkit-progress-bar {\n",
       "                background: #F44336;\n",
       "            }\n",
       "        </style>\n",
       "      <progress value='12' class='' max='12' style='width:300px; height:20px; vertical-align: middle;'></progress>\n",
       "      100.00% [12/12 00:01<00:00]\n",
       "    </div>\n",
       "    "
      ],
      "text/plain": [
       "<IPython.core.display.HTML object>"
      ]
     },
     "metadata": {},
     "output_type": "display_data"
    },
    {
     "name": "stdout",
     "output_type": "stream",
     "text": [
      "eval loss: 0.17944905462395022 0.17944905462395022\n",
      "epoch: 12\n",
      "epoch: 12 loss: 0.134051643970446\n",
      "eval loss: 0.1801801153354686 0.1801801153354686\n",
      "epoch: 13\n",
      "epoch: 13 loss: 0.1307773412946359\n"
     ]
    },
    {
     "data": {
      "text/html": [
       "\n",
       "    <div>\n",
       "        <style>\n",
       "            /* Turns off some styling */\n",
       "            progress {\n",
       "                /* gets rid of default border in Firefox and Opera. */\n",
       "                border: none;\n",
       "                /* Needs to be in here for Safari polyfill so background images work as expected. */\n",
       "                background-size: auto;\n",
       "            }\n",
       "            .progress-bar-interrupted, .progress-bar-interrupted::-webkit-progress-bar {\n",
       "                background: #F44336;\n",
       "            }\n",
       "        </style>\n",
       "      <progress value='12' class='' max='12' style='width:300px; height:20px; vertical-align: middle;'></progress>\n",
       "      100.00% [12/12 00:01<00:00]\n",
       "    </div>\n",
       "    "
      ],
      "text/plain": [
       "<IPython.core.display.HTML object>"
      ]
     },
     "metadata": {},
     "output_type": "display_data"
    },
    {
     "name": "stdout",
     "output_type": "stream",
     "text": [
      "eval loss: 0.17857141110986344 0.17857141110986344\n",
      "epoch: 14\n",
      "epoch: 14 loss: 0.12917578456758957\n"
     ]
    },
    {
     "data": {
      "text/html": [
       "\n",
       "    <div>\n",
       "        <style>\n",
       "            /* Turns off some styling */\n",
       "            progress {\n",
       "                /* gets rid of default border in Firefox and Opera. */\n",
       "                border: none;\n",
       "                /* Needs to be in here for Safari polyfill so background images work as expected. */\n",
       "                background-size: auto;\n",
       "            }\n",
       "            .progress-bar-interrupted, .progress-bar-interrupted::-webkit-progress-bar {\n",
       "                background: #F44336;\n",
       "            }\n",
       "        </style>\n",
       "      <progress value='12' class='' max='12' style='width:300px; height:20px; vertical-align: middle;'></progress>\n",
       "      100.00% [12/12 00:01<00:00]\n",
       "    </div>\n",
       "    "
      ],
      "text/plain": [
       "<IPython.core.display.HTML object>"
      ]
     },
     "metadata": {},
     "output_type": "display_data"
    },
    {
     "name": "stdout",
     "output_type": "stream",
     "text": [
      "eval loss: 0.17525763670454195 0.17525763670454195\n",
      "epoch: 15\n",
      "epoch: 15 loss: 0.1266910897623717\n",
      "eval loss: 0.17926948835848336 0.17926948835848336\n",
      "epoch: 16\n",
      "epoch: 16 loss: 0.12555351134509876\n",
      "eval loss: 0.18688621135096253 0.18688621135096253\n",
      "epoch: 17\n",
      "epoch: 17 loss: 0.12533738338699277\n",
      "eval loss: 0.17809955444261516 0.17809955444261516\n",
      "epoch: 18\n",
      "epoch: 18 loss: 0.12385339796585787\n",
      "eval loss: 0.17671511093962175 0.17671511093962175\n",
      "epoch: 19\n",
      "epoch: 19 loss: 0.12410520496325615\n"
     ]
    },
    {
     "data": {
      "text/html": [
       "\n",
       "    <div>\n",
       "        <style>\n",
       "            /* Turns off some styling */\n",
       "            progress {\n",
       "                /* gets rid of default border in Firefox and Opera. */\n",
       "                border: none;\n",
       "                /* Needs to be in here for Safari polyfill so background images work as expected. */\n",
       "                background-size: auto;\n",
       "            }\n",
       "            .progress-bar-interrupted, .progress-bar-interrupted::-webkit-progress-bar {\n",
       "                background: #F44336;\n",
       "            }\n",
       "        </style>\n",
       "      <progress value='12' class='' max='12' style='width:300px; height:20px; vertical-align: middle;'></progress>\n",
       "      100.00% [12/12 00:01<00:00]\n",
       "    </div>\n",
       "    "
      ],
      "text/plain": [
       "<IPython.core.display.HTML object>"
      ]
     },
     "metadata": {},
     "output_type": "display_data"
    },
    {
     "name": "stdout",
     "output_type": "stream",
     "text": [
      "eval loss: 0.1738489354064162 0.1738489354064162\n",
      "epoch: 20\n",
      "epoch: 20 loss: 0.11964078477573847\n"
     ]
    },
    {
     "data": {
      "text/html": [
       "\n",
       "    <div>\n",
       "        <style>\n",
       "            /* Turns off some styling */\n",
       "            progress {\n",
       "                /* gets rid of default border in Firefox and Opera. */\n",
       "                border: none;\n",
       "                /* Needs to be in here for Safari polyfill so background images work as expected. */\n",
       "                background-size: auto;\n",
       "            }\n",
       "            .progress-bar-interrupted, .progress-bar-interrupted::-webkit-progress-bar {\n",
       "                background: #F44336;\n",
       "            }\n",
       "        </style>\n",
       "      <progress value='12' class='' max='12' style='width:300px; height:20px; vertical-align: middle;'></progress>\n",
       "      100.00% [12/12 00:01<00:00]\n",
       "    </div>\n",
       "    "
      ],
      "text/plain": [
       "<IPython.core.display.HTML object>"
      ]
     },
     "metadata": {},
     "output_type": "display_data"
    },
    {
     "name": "stdout",
     "output_type": "stream",
     "text": [
      "eval loss: 0.17074414301988824 0.17074414301988824\n",
      "epoch: 21\n",
      "epoch: 21 loss: 0.12038625694584591\n",
      "eval loss: 0.17122158871785623 0.17122158871785623\n",
      "epoch: 22\n",
      "epoch: 22 loss: 0.11823025249264316\n"
     ]
    },
    {
     "data": {
      "text/html": [
       "\n",
       "    <div>\n",
       "        <style>\n",
       "            /* Turns off some styling */\n",
       "            progress {\n",
       "                /* gets rid of default border in Firefox and Opera. */\n",
       "                border: none;\n",
       "                /* Needs to be in here for Safari polyfill so background images work as expected. */\n",
       "                background-size: auto;\n",
       "            }\n",
       "            .progress-bar-interrupted, .progress-bar-interrupted::-webkit-progress-bar {\n",
       "                background: #F44336;\n",
       "            }\n",
       "        </style>\n",
       "      <progress value='12' class='' max='12' style='width:300px; height:20px; vertical-align: middle;'></progress>\n",
       "      100.00% [12/12 00:01<00:00]\n",
       "    </div>\n",
       "    "
      ],
      "text/plain": [
       "<IPython.core.display.HTML object>"
      ]
     },
     "metadata": {},
     "output_type": "display_data"
    },
    {
     "name": "stdout",
     "output_type": "stream",
     "text": [
      "eval loss: 0.17003468025919277 0.17003468025919277\n",
      "epoch: 23\n",
      "epoch: 23 loss: 0.11985372726092297\n"
     ]
    },
    {
     "data": {
      "text/html": [
       "\n",
       "    <div>\n",
       "        <style>\n",
       "            /* Turns off some styling */\n",
       "            progress {\n",
       "                /* gets rid of default border in Firefox and Opera. */\n",
       "                border: none;\n",
       "                /* Needs to be in here for Safari polyfill so background images work as expected. */\n",
       "                background-size: auto;\n",
       "            }\n",
       "            .progress-bar-interrupted, .progress-bar-interrupted::-webkit-progress-bar {\n",
       "                background: #F44336;\n",
       "            }\n",
       "        </style>\n",
       "      <progress value='12' class='' max='12' style='width:300px; height:20px; vertical-align: middle;'></progress>\n",
       "      100.00% [12/12 00:01<00:00]\n",
       "    </div>\n",
       "    "
      ],
      "text/plain": [
       "<IPython.core.display.HTML object>"
      ]
     },
     "metadata": {},
     "output_type": "display_data"
    },
    {
     "name": "stdout",
     "output_type": "stream",
     "text": [
      "eval loss: 0.16758186199035385 0.16758186199035385\n",
      "epoch: 24\n",
      "epoch: 24 loss: 0.11774121837424632\n",
      "eval loss: 0.17218138180191503 0.17218138180191503\n",
      "epoch: 25\n",
      "epoch: 25 loss: 0.11662823862276754\n",
      "eval loss: 0.1693995608637153 0.1693995608637153\n",
      "epoch: 26\n",
      "epoch: 26 loss: 0.11907408674965356\n",
      "eval loss: 0.1694250514510628 0.1694250514510628\n",
      "epoch: 27\n",
      "epoch: 27 loss: 0.11501798100072791\n"
     ]
    },
    {
     "data": {
      "text/html": [
       "\n",
       "    <div>\n",
       "        <style>\n",
       "            /* Turns off some styling */\n",
       "            progress {\n",
       "                /* gets rid of default border in Firefox and Opera. */\n",
       "                border: none;\n",
       "                /* Needs to be in here for Safari polyfill so background images work as expected. */\n",
       "                background-size: auto;\n",
       "            }\n",
       "            .progress-bar-interrupted, .progress-bar-interrupted::-webkit-progress-bar {\n",
       "                background: #F44336;\n",
       "            }\n",
       "        </style>\n",
       "      <progress value='12' class='' max='12' style='width:300px; height:20px; vertical-align: middle;'></progress>\n",
       "      100.00% [12/12 00:01<00:00]\n",
       "    </div>\n",
       "    "
      ],
      "text/plain": [
       "<IPython.core.display.HTML object>"
      ]
     },
     "metadata": {},
     "output_type": "display_data"
    },
    {
     "name": "stdout",
     "output_type": "stream",
     "text": [
      "eval loss: 0.16698477977957468 0.16698477977957468\n",
      "epoch: 28\n",
      "epoch: 28 loss: 0.113080476439299\n",
      "eval loss: 0.1678188372730133 0.1678188372730133\n",
      "epoch: 29\n",
      "epoch: 29 loss: 0.11205734719306253\n",
      "eval loss: 0.16938092111121772 0.16938092111121772\n",
      "epoch: 30\n",
      "epoch: 30 loss: 0.1142016233523466\n",
      "eval loss: 0.17096066006537924 0.17096066006537924\n",
      "epoch: 31\n",
      "epoch: 31 loss: 0.1105357108567972\n"
     ]
    },
    {
     "data": {
      "text/html": [
       "\n",
       "    <div>\n",
       "        <style>\n",
       "            /* Turns off some styling */\n",
       "            progress {\n",
       "                /* gets rid of default border in Firefox and Opera. */\n",
       "                border: none;\n",
       "                /* Needs to be in here for Safari polyfill so background images work as expected. */\n",
       "                background-size: auto;\n",
       "            }\n",
       "            .progress-bar-interrupted, .progress-bar-interrupted::-webkit-progress-bar {\n",
       "                background: #F44336;\n",
       "            }\n",
       "        </style>\n",
       "      <progress value='12' class='' max='12' style='width:300px; height:20px; vertical-align: middle;'></progress>\n",
       "      100.00% [12/12 00:01<00:00]\n",
       "    </div>\n",
       "    "
      ],
      "text/plain": [
       "<IPython.core.display.HTML object>"
      ]
     },
     "metadata": {},
     "output_type": "display_data"
    },
    {
     "name": "stdout",
     "output_type": "stream",
     "text": [
      "eval loss: 0.1637861132449098 0.1637861132449098\n",
      "epoch: 32\n",
      "epoch: 32 loss: 0.10866938875744037\n",
      "eval loss: 0.16395597279072363 0.16395597279072363\n",
      "epoch: 33\n",
      "epoch: 33 loss: 0.10925340675059712\n",
      "eval loss: 0.16484845810432233 0.16484845810432233\n",
      "epoch: 34\n",
      "epoch: 34 loss: 0.10803490166057221\n"
     ]
    },
    {
     "data": {
      "text/html": [
       "\n",
       "    <div>\n",
       "        <style>\n",
       "            /* Turns off some styling */\n",
       "            progress {\n",
       "                /* gets rid of default border in Firefox and Opera. */\n",
       "                border: none;\n",
       "                /* Needs to be in here for Safari polyfill so background images work as expected. */\n",
       "                background-size: auto;\n",
       "            }\n",
       "            .progress-bar-interrupted, .progress-bar-interrupted::-webkit-progress-bar {\n",
       "                background: #F44336;\n",
       "            }\n",
       "        </style>\n",
       "      <progress value='12' class='' max='12' style='width:300px; height:20px; vertical-align: middle;'></progress>\n",
       "      100.00% [12/12 00:01<00:00]\n",
       "    </div>\n",
       "    "
      ],
      "text/plain": [
       "<IPython.core.display.HTML object>"
      ]
     },
     "metadata": {},
     "output_type": "display_data"
    },
    {
     "name": "stdout",
     "output_type": "stream",
     "text": [
      "eval loss: 0.16296662839451706 0.16296662839451706\n",
      "epoch: 35\n",
      "epoch: 35 loss: 0.10783175908260371\n",
      "eval loss: 0.16574773501630627 0.16574773501630627\n",
      "epoch: 36\n",
      "epoch: 36 loss: 0.10764795161618908\n",
      "eval loss: 0.16461066984739833 0.16461066984739833\n",
      "epoch: 37\n",
      "epoch: 37 loss: 0.10735663138599941\n",
      "eval loss: 0.17685800678785302 0.17685800678785302\n",
      "epoch: 38\n",
      "epoch: 38 loss: 0.10793110389516593\n",
      "eval loss: 0.16304461709387508 0.16304461709387508\n",
      "epoch: 39\n",
      "epoch: 39 loss: 0.10526354424950106\n",
      "eval loss: 0.16341189839695094 0.16341189839695094\n",
      "epoch: 40\n",
      "epoch: 40 loss: 0.10586704974010347\n",
      "eval loss: 0.16405100842892376 0.16405100842892376\n",
      "epoch: 41\n",
      "epoch: 41 loss: 0.10565450226864097\n",
      "eval loss: 0.16540880996003937 0.16540880996003937\n",
      "epoch: 42\n",
      "epoch: 42 loss: 0.10290710493143441\n",
      "eval loss: 0.16502805463515072 0.16502805463515072\n",
      "epoch: 43\n",
      "epoch: 43 loss: 0.10403327574653659\n",
      "eval loss: 0.16547374610218732 0.16547374610218732\n",
      "epoch: 44\n",
      "epoch: 44 loss: 0.10206898594537196\n",
      "eval loss: 0.16350047824430683 0.16350047824430683\n",
      "epoch: 45\n",
      "epoch: 45 loss: 0.10479692374465435\n",
      "eval loss: 0.1646086322447863 0.1646086322447863\n",
      "epoch: 46\n",
      "epoch: 46 loss: 0.10144224683153749\n",
      "eval loss: 0.16316093330460713 0.16316093330460713\n",
      "epoch: 47\n",
      "epoch: 47 loss: 0.10162341511291725\n",
      "eval loss: 0.16373171084232704 0.16373171084232704\n",
      "epoch: 48\n",
      "epoch: 48 loss: 0.10085342000054312\n"
     ]
    },
    {
     "data": {
      "text/html": [
       "\n",
       "    <div>\n",
       "        <style>\n",
       "            /* Turns off some styling */\n",
       "            progress {\n",
       "                /* gets rid of default border in Firefox and Opera. */\n",
       "                border: none;\n",
       "                /* Needs to be in here for Safari polyfill so background images work as expected. */\n",
       "                background-size: auto;\n",
       "            }\n",
       "            .progress-bar-interrupted, .progress-bar-interrupted::-webkit-progress-bar {\n",
       "                background: #F44336;\n",
       "            }\n",
       "        </style>\n",
       "      <progress value='12' class='' max='12' style='width:300px; height:20px; vertical-align: middle;'></progress>\n",
       "      100.00% [12/12 00:01<00:00]\n",
       "    </div>\n",
       "    "
      ],
      "text/plain": [
       "<IPython.core.display.HTML object>"
      ]
     },
     "metadata": {},
     "output_type": "display_data"
    },
    {
     "name": "stdout",
     "output_type": "stream",
     "text": [
      "eval loss: 0.16096700224332747 0.16096700224332747\n",
      "epoch: 49\n",
      "epoch: 49 loss: 0.09954354004467036\n",
      "eval loss: 0.16217947851384992 0.16217947851384992\n",
      "epoch: 50\n",
      "epoch: 50 loss: 0.10108063098059539\n",
      "eval loss: 0.1618693255296531 0.1618693255296531\n",
      "epoch: 51\n",
      "epoch: 51 loss: 0.09961702815101628\n",
      "eval loss: 0.16268185750349612 0.16268185750349612\n",
      "epoch: 52\n",
      "epoch: 52 loss: 0.09815237270075768\n",
      "eval loss: 0.1626993439437442 0.1626993439437442\n",
      "epoch: 53\n",
      "epoch: 53 loss: 0.10023855561425674\n",
      "eval loss: 0.16182428432677443 0.16182428432677443\n",
      "epoch: 54\n",
      "epoch: 54 loss: 0.10057889729860725\n",
      "eval loss: 0.16393698959431624 0.16393698959431624\n",
      "epoch: 55\n",
      "epoch: 55 loss: 0.09741924054945374\n",
      "eval loss: 0.1614297697639939 0.1614297697639939\n",
      "epoch: 56\n",
      "epoch: 56 loss: 0.09639829738872527\n",
      "eval loss: 0.16429386837625218 0.16429386837625218\n",
      "epoch: 57\n",
      "epoch: 57 loss: 0.10053358392692875\n",
      "eval loss: 0.1616901479039654 0.1616901479039654\n",
      "epoch: 58\n",
      "epoch: 58 loss: 0.09735975250480582\n",
      "eval loss: 0.1626698123455763 0.1626698123455763\n",
      "epoch: 59\n",
      "epoch: 59 loss: 0.12731425462633297\n",
      "eval loss: 0.38930841568400715 0.38930841568400715\n",
      "epoch: 60\n",
      "epoch: 60 loss: 0.35985228670966224\n",
      "eval loss: 0.3806703360185379 0.3806703360185379\n",
      "epoch: 61\n",
      "epoch: 61 loss: 0.35423629002552437\n",
      "eval loss: 0.38035738244539535 0.38035738244539535\n",
      "epoch: 62\n",
      "epoch: 62 loss: 0.3539345101195939\n",
      "eval loss: 0.37835060366463025 0.37835060366463025\n",
      "epoch: 63\n",
      "epoch: 63 loss: 0.3535673312775959\n",
      "eval loss: 0.379764638492627 0.379764638492627\n",
      "epoch: 64\n",
      "epoch: 64 loss: 0.35487432806826125\n",
      "eval loss: 0.3779394750261538 0.3779394750261538\n",
      "epoch: 65\n",
      "epoch: 65 loss: 0.35255334418882966\n",
      "eval loss: 0.37845914171809 0.37845914171809\n",
      "epoch: 66\n",
      "epoch: 66 loss: 0.3508910293040067\n",
      "eval loss: 0.37314955224199203 0.37314955224199203\n",
      "epoch: 67\n",
      "epoch: 67 loss: 0.34486479754639854\n",
      "eval loss: 0.36860115612957817 0.36860115612957817\n",
      "epoch: 68\n",
      "epoch: 68 loss: 0.3431358009473382\n",
      "eval loss: 0.37198324777862535 0.37198324777862535\n",
      "epoch: 69\n",
      "epoch: 69 loss: 0.34171840766548234\n",
      "eval loss: 0.36847443701618476 0.36847443701618476\n",
      "epoch: 70\n",
      "epoch: 70 loss: 0.3413319326702258\n",
      "eval loss: 0.36607966784031837 0.36607966784031837\n",
      "epoch: 71\n",
      "epoch: 71 loss: 0.34014765900513233\n",
      "eval loss: 0.3672014692213206 0.3672014692213206\n",
      "epoch: 72\n",
      "epoch: 72 loss: 0.33886763371664913\n",
      "eval loss: 0.3654049163807715 0.3654049163807715\n",
      "epoch: 73\n",
      "epoch: 73 loss: 0.33786963840510753\n",
      "eval loss: 0.3624437610432912 0.3624437610432912\n",
      "epoch: 74\n",
      "epoch: 74 loss: 0.3365962286144781\n",
      "eval loss: 0.36583630386339494 0.36583630386339494\n",
      "epoch: 75\n",
      "epoch: 75 loss: 0.33738821851947615\n",
      "eval loss: 0.37168337703100973 0.37168337703100973\n",
      "epoch: 76\n",
      "epoch: 76 loss: 0.34006883396526516\n",
      "eval loss: 0.36558362823363894 0.36558362823363894\n",
      "epoch: 77\n",
      "epoch: 77 loss: 0.34016095855655815\n",
      "eval loss: 0.3632482317780257 0.3632482317780257\n",
      "epoch: 78\n",
      "epoch: 78 loss: 0.33520335741497537\n",
      "eval loss: 0.3612500750519982 0.3612500750519982\n",
      "epoch: 79\n",
      "epoch: 79 loss: 0.3346423889369859\n",
      "eval loss: 0.35867537286210843 0.35867537286210843\n",
      "epoch: 80\n",
      "epoch: 80 loss: 0.3335823133604919\n",
      "eval loss: 0.36110753303193066 0.36110753303193066\n",
      "epoch: 81\n",
      "epoch: 81 loss: 0.33320459002105907\n",
      "eval loss: 0.3597576342983644 0.3597576342983644\n",
      "epoch: 82\n",
      "epoch: 82 loss: 0.33436808730060735\n",
      "eval loss: 0.36735400349668046 0.36735400349668046\n",
      "epoch: 83\n",
      "epoch: 83 loss: 0.33434485926517216\n",
      "eval loss: 0.35972111606014706 0.35972111606014706\n",
      "epoch: 84\n",
      "epoch: 84 loss: 0.33163632047745567\n",
      "eval loss: 0.3557917253373916 0.3557917253373916\n",
      "epoch: 85\n",
      "epoch: 85 loss: 0.33199657728318216\n",
      "eval loss: 0.35901865459941606 0.35901865459941606\n",
      "epoch: 86\n",
      "epoch: 86 loss: 0.33182455874258693\n",
      "eval loss: 0.35482904896275375 0.35482904896275375\n",
      "epoch: 87\n",
      "epoch: 87 loss: 0.33124796987076444\n",
      "eval loss: 0.35528294507861813 0.35528294507861813\n",
      "epoch: 88\n",
      "epoch: 88 loss: 0.33063600231902374\n",
      "eval loss: 0.3567084844367337 0.3567084844367337\n",
      "epoch: 89\n",
      "epoch: 89 loss: 0.3306161921728995\n",
      "eval loss: 0.3553808244013465 0.3553808244013465\n",
      "epoch: 90\n",
      "epoch: 90 loss: 0.3299398349849481\n",
      "eval loss: 0.35617240285292584 0.35617240285292584\n",
      "epoch: 91\n",
      "epoch: 91 loss: 0.33102845190833247\n",
      "eval loss: 0.3557987833389038 0.3557987833389038\n",
      "epoch: 92\n",
      "epoch: 92 loss: 0.33141469690718484\n",
      "eval loss: 0.3592229661327546 0.3592229661327546\n",
      "epoch: 93\n",
      "epoch: 93 loss: 0.331518340056696\n",
      "eval loss: 0.3569566188763711 0.3569566188763711\n",
      "epoch: 94\n",
      "epoch: 94 loss: 0.32973616263850913\n",
      "eval loss: 0.3579205289404706 0.3579205289404706\n",
      "epoch: 95\n",
      "epoch: 95 loss: 0.329926787839214\n",
      "eval loss: 0.35664119103685216 0.35664119103685216\n",
      "epoch: 96\n",
      "epoch: 96 loss: 0.3286455693706362\n",
      "eval loss: 0.3555442593609421 0.3555442593609421\n",
      "epoch: 97\n",
      "epoch: 97 loss: 0.3278384876072511\n",
      "eval loss: 0.35167715985829623 0.35167715985829623\n",
      "epoch: 98\n",
      "epoch: 98 loss: 0.3270736144717394\n",
      "eval loss: 0.3531770582586968 0.3531770582586968\n",
      "epoch: 99\n",
      "epoch: 99 loss: 0.32716734773743933\n",
      "eval loss: 0.3534824032005539 0.3534824032005539\n",
      "epoch: 100\n",
      "epoch: 100 loss: 0.32650580030276083\n",
      "eval loss: 0.3495794154577065 0.3495794154577065\n",
      "epoch: 101\n",
      "epoch: 101 loss: 0.32572421942781127\n",
      "eval loss: 0.3520097624980485 0.3520097624980485\n",
      "epoch: 102\n",
      "epoch: 102 loss: 0.3252264333948693\n",
      "eval loss: 0.34890904371962805 0.34890904371962805\n",
      "epoch: 103\n",
      "epoch: 103 loss: 0.3243504699582929\n",
      "eval loss: 0.34730609288581443 0.34730609288581443\n",
      "epoch: 104\n",
      "epoch: 104 loss: 0.3244082173713247\n",
      "eval loss: 0.3496695802543046 0.3496695802543046\n",
      "epoch: 105\n",
      "epoch: 105 loss: 0.323088566190314\n",
      "eval loss: 0.3478933078689419 0.3478933078689419\n",
      "epoch: 106\n",
      "epoch: 106 loss: 0.323815942182213\n",
      "eval loss: 0.35111029800161137 0.35111029800161137\n",
      "epoch: 107\n",
      "epoch: 107 loss: 0.3247392738383438\n",
      "eval loss: 0.34930968370656784 0.34930968370656784\n",
      "epoch: 108\n",
      "epoch: 108 loss: 0.3263441143073013\n",
      "eval loss: 0.35052476080750156 0.35052476080750156\n",
      "epoch: 109\n",
      "epoch: 109 loss: 0.32455872022733184\n",
      "eval loss: 0.34921604084582225 0.34921604084582225\n",
      "epoch: 110\n",
      "epoch: 110 loss: 0.32495031044649164\n",
      "eval loss: 0.3482256893270974 0.3482256893270974\n",
      "epoch: 111\n",
      "epoch: 111 loss: 0.3241796421331349\n",
      "eval loss: 0.34941139123938075 0.34941139123938075\n",
      "epoch: 112\n",
      "epoch: 112 loss: 0.32389659420783423\n",
      "eval loss: 0.3472258094685532 0.3472258094685532\n",
      "epoch: 113\n",
      "epoch: 113 loss: 0.3240207537753005\n",
      "eval loss: 0.3478535027600021 0.3478535027600021\n",
      "epoch: 114\n",
      "epoch: 114 loss: 0.32250865609099577\n",
      "eval loss: 0.34568640683609014 0.34568640683609014\n",
      "epoch: 115\n",
      "epoch: 115 loss: 0.3215543763836346\n",
      "eval loss: 0.3443669778131427 0.3443669778131427\n",
      "epoch: 116\n",
      "epoch: 116 loss: 0.32069951858565304\n",
      "eval loss: 0.346504816951591 0.346504816951591\n",
      "epoch: 117\n",
      "epoch: 117 loss: 0.31989051118979467\n",
      "eval loss: 0.3435812777729514 0.3435812777729514\n",
      "epoch: 118\n",
      "epoch: 118 loss: 0.319897388013864\n",
      "eval loss: 0.3442793941049877 0.3442793941049877\n",
      "epoch: 119\n",
      "epoch: 119 loss: 0.3199997029877044\n",
      "eval loss: 0.34361964014689766 0.34361964014689766\n",
      "epoch: 120\n",
      "epoch: 120 loss: 0.32175186824103097\n",
      "eval loss: 0.34530179450169035 0.34530179450169035\n",
      "epoch: 121\n",
      "epoch: 121 loss: 0.3168347881799205\n",
      "eval loss: 0.3429586708037376 0.3429586708037376\n",
      "epoch: 122\n",
      "epoch: 122 loss: 0.31756443625479885\n",
      "eval loss: 0.34737859954149125 0.34737859954149125\n",
      "epoch: 123\n",
      "epoch: 123 loss: 0.3170470216335088\n",
      "eval loss: 0.3425509012039756 0.3425509012039756\n",
      "epoch: 124\n",
      "epoch: 124 loss: 0.31706306882797475\n",
      "eval loss: 0.3413981423359211 0.3413981423359211\n",
      "epoch: 125\n",
      "epoch: 125 loss: 0.31550800964909703\n",
      "eval loss: 0.3440629830053655 0.3440629830053655\n",
      "epoch: 126\n",
      "epoch: 126 loss: 0.3184752833081458\n",
      "eval loss: 0.34175785753652194 0.34175785753652194\n",
      "epoch: 127\n",
      "epoch: 127 loss: 0.3177807552218559\n",
      "eval loss: 0.3447156932795305 0.3447156932795305\n",
      "epoch: 128\n",
      "epoch: 128 loss: 0.3154785834990915\n",
      "eval loss: 0.34428991168581496 0.34428991168581496\n",
      "epoch: 129\n",
      "epoch: 129 loss: 0.3133933544167125\n",
      "eval loss: 0.3409298614066401 0.3409298614066401\n",
      "epoch: 130\n",
      "epoch: 130 loss: 0.3140758607433229\n",
      "eval loss: 0.3507853315575867 0.3507853315575867\n",
      "epoch: 131\n",
      "epoch: 131 loss: 0.31570744151470354\n",
      "eval loss: 0.3449503363193187 0.3449503363193187\n",
      "epoch: 132\n",
      "epoch: 132 loss: 0.31395269855668606\n",
      "eval loss: 0.34358549929556154 0.34358549929556154\n",
      "epoch: 133\n",
      "epoch: 133 loss: 0.313773802112953\n",
      "eval loss: 0.3409659621729109 0.3409659621729109\n"
     ]
    },
    {
     "name": "stdout",
     "output_type": "stream",
     "text": [
      "epoch: 134\n",
      "epoch: 134 loss: 0.3143890821187298\n",
      "eval loss: 0.34705295060877533 0.34705295060877533\n",
      "epoch: 135\n",
      "epoch: 135 loss: 0.3175117650903228\n",
      "eval loss: 0.34871375090335704 0.34871375090335704\n",
      "epoch: 136\n",
      "epoch: 136 loss: 0.31677917481353607\n",
      "eval loss: 0.34251427341605845 0.34251427341605845\n",
      "epoch: 137\n",
      "epoch: 137 loss: 0.31531893294336194\n",
      "eval loss: 0.34305112217201067 0.34305112217201067\n",
      "epoch: 138\n",
      "epoch: 138 loss: 0.3118210083904876\n",
      "eval loss: 0.33928026682204004 0.33928026682204004\n",
      "epoch: 139\n",
      "epoch: 139 loss: 0.3105826380003245\n",
      "eval loss: 0.33847506210635103 0.33847506210635103\n",
      "epoch: 140\n",
      "epoch: 140 loss: 0.31015493452621395\n",
      "eval loss: 0.33821519518603643 0.33821519518603643\n",
      "epoch: 141\n",
      "epoch: 141 loss: 0.3120737897270862\n",
      "eval loss: 0.3438273436508903 0.3438273436508903\n",
      "epoch: 142\n",
      "epoch: 142 loss: 0.3143289459351606\n",
      "eval loss: 0.34367458445486965 0.34367458445486965\n",
      "epoch: 143\n",
      "epoch: 143 loss: 0.3118775613143845\n",
      "eval loss: 0.3420490120000039 0.3420490120000039\n",
      "epoch: 144\n",
      "epoch: 144 loss: 0.3120100027186488\n",
      "eval loss: 0.34386002617366535 0.34386002617366535\n",
      "epoch: 145\n",
      "epoch: 145 loss: 0.31334843710712584\n",
      "eval loss: 0.34174384357614424 0.34174384357614424\n",
      "epoch: 146\n",
      "epoch: 146 loss: 0.31197589005126464\n",
      "eval loss: 0.3395549781429629 0.3395549781429629\n",
      "epoch: 147\n",
      "epoch: 147 loss: 0.3094997367615942\n",
      "eval loss: 0.33834314362951945 0.33834314362951945\n",
      "epoch: 148\n",
      "epoch: 148 loss: 0.3091832020215463\n",
      "eval loss: 0.33895258856929805 0.33895258856929805\n",
      "epoch: 149\n",
      "epoch: 149 loss: 0.30924594871124084\n",
      "eval loss: 0.35648292123990544 0.35648292123990544\n",
      "min eval loss: 0.16096700224332747 min mcrmse: 0.16096700224332747 epoch 48\n",
      "fold: 2\n",
      "(1, 107, 107, 3)\n",
      "(1, 107, 107, 3)\n",
      "(3046, 23) (761, 23)\n",
      "(1, 130, 130, 3)\n",
      "(1, 130, 130, 3)\n",
      "(2404, 16) (601, 16)\n",
      "device: cuda:1\n"
     ]
    },
    {
     "data": {
      "text/html": [
       "\n",
       "    <div>\n",
       "        <style>\n",
       "            /* Turns off some styling */\n",
       "            progress {\n",
       "                /* gets rid of default border in Firefox and Opera. */\n",
       "                border: none;\n",
       "                /* Needs to be in here for Safari polyfill so background images work as expected. */\n",
       "                background-size: auto;\n",
       "            }\n",
       "            .progress-bar-interrupted, .progress-bar-interrupted::-webkit-progress-bar {\n",
       "                background: #F44336;\n",
       "            }\n",
       "        </style>\n",
       "      <progress value='150' class='' max='150' style='width:300px; height:20px; vertical-align: middle;'></progress>\n",
       "      100.00% [150/150 1:16:33<00:00]\n",
       "    </div>\n",
       "    "
      ],
      "text/plain": [
       "<IPython.core.display.HTML object>"
      ]
     },
     "metadata": {},
     "output_type": "display_data"
    },
    {
     "name": "stdout",
     "output_type": "stream",
     "text": [
      "epoch: 0\n",
      "epoch: 0 loss: 0.27533954453492987\n"
     ]
    },
    {
     "data": {
      "text/html": [
       "\n",
       "    <div>\n",
       "        <style>\n",
       "            /* Turns off some styling */\n",
       "            progress {\n",
       "                /* gets rid of default border in Firefox and Opera. */\n",
       "                border: none;\n",
       "                /* Needs to be in here for Safari polyfill so background images work as expected. */\n",
       "                background-size: auto;\n",
       "            }\n",
       "            .progress-bar-interrupted, .progress-bar-interrupted::-webkit-progress-bar {\n",
       "                background: #F44336;\n",
       "            }\n",
       "        </style>\n",
       "      <progress value='12' class='' max='12' style='width:300px; height:20px; vertical-align: middle;'></progress>\n",
       "      100.00% [12/12 00:01<00:00]\n",
       "    </div>\n",
       "    "
      ],
      "text/plain": [
       "<IPython.core.display.HTML object>"
      ]
     },
     "metadata": {},
     "output_type": "display_data"
    },
    {
     "name": "stdout",
     "output_type": "stream",
     "text": [
      "eval loss: 0.2578477311060042 0.2578477311060042\n",
      "epoch: 1\n",
      "epoch: 1 loss: 0.20989604904883288\n"
     ]
    },
    {
     "data": {
      "text/html": [
       "\n",
       "    <div>\n",
       "        <style>\n",
       "            /* Turns off some styling */\n",
       "            progress {\n",
       "                /* gets rid of default border in Firefox and Opera. */\n",
       "                border: none;\n",
       "                /* Needs to be in here for Safari polyfill so background images work as expected. */\n",
       "                background-size: auto;\n",
       "            }\n",
       "            .progress-bar-interrupted, .progress-bar-interrupted::-webkit-progress-bar {\n",
       "                background: #F44336;\n",
       "            }\n",
       "        </style>\n",
       "      <progress value='12' class='' max='12' style='width:300px; height:20px; vertical-align: middle;'></progress>\n",
       "      100.00% [12/12 00:01<00:00]\n",
       "    </div>\n",
       "    "
      ],
      "text/plain": [
       "<IPython.core.display.HTML object>"
      ]
     },
     "metadata": {},
     "output_type": "display_data"
    },
    {
     "name": "stdout",
     "output_type": "stream",
     "text": [
      "eval loss: 0.23864290173041547 0.23864290173041547\n",
      "epoch: 2\n",
      "epoch: 2 loss: 0.1890919394098314\n"
     ]
    },
    {
     "data": {
      "text/html": [
       "\n",
       "    <div>\n",
       "        <style>\n",
       "            /* Turns off some styling */\n",
       "            progress {\n",
       "                /* gets rid of default border in Firefox and Opera. */\n",
       "                border: none;\n",
       "                /* Needs to be in here for Safari polyfill so background images work as expected. */\n",
       "                background-size: auto;\n",
       "            }\n",
       "            .progress-bar-interrupted, .progress-bar-interrupted::-webkit-progress-bar {\n",
       "                background: #F44336;\n",
       "            }\n",
       "        </style>\n",
       "      <progress value='12' class='' max='12' style='width:300px; height:20px; vertical-align: middle;'></progress>\n",
       "      100.00% [12/12 00:01<00:00]\n",
       "    </div>\n",
       "    "
      ],
      "text/plain": [
       "<IPython.core.display.HTML object>"
      ]
     },
     "metadata": {},
     "output_type": "display_data"
    },
    {
     "name": "stdout",
     "output_type": "stream",
     "text": [
      "eval loss: 0.22352910962319059 0.22352910962319059\n",
      "epoch: 3\n",
      "epoch: 3 loss: 0.1756779174206408\n"
     ]
    },
    {
     "data": {
      "text/html": [
       "\n",
       "    <div>\n",
       "        <style>\n",
       "            /* Turns off some styling */\n",
       "            progress {\n",
       "                /* gets rid of default border in Firefox and Opera. */\n",
       "                border: none;\n",
       "                /* Needs to be in here for Safari polyfill so background images work as expected. */\n",
       "                background-size: auto;\n",
       "            }\n",
       "            .progress-bar-interrupted, .progress-bar-interrupted::-webkit-progress-bar {\n",
       "                background: #F44336;\n",
       "            }\n",
       "        </style>\n",
       "      <progress value='12' class='' max='12' style='width:300px; height:20px; vertical-align: middle;'></progress>\n",
       "      100.00% [12/12 00:01<00:00]\n",
       "    </div>\n",
       "    "
      ],
      "text/plain": [
       "<IPython.core.display.HTML object>"
      ]
     },
     "metadata": {},
     "output_type": "display_data"
    },
    {
     "name": "stdout",
     "output_type": "stream",
     "text": [
      "eval loss: 0.21201088915133534 0.21201088915133534\n",
      "epoch: 4\n",
      "epoch: 4 loss: 0.16544854584116728\n"
     ]
    },
    {
     "data": {
      "text/html": [
       "\n",
       "    <div>\n",
       "        <style>\n",
       "            /* Turns off some styling */\n",
       "            progress {\n",
       "                /* gets rid of default border in Firefox and Opera. */\n",
       "                border: none;\n",
       "                /* Needs to be in here for Safari polyfill so background images work as expected. */\n",
       "                background-size: auto;\n",
       "            }\n",
       "            .progress-bar-interrupted, .progress-bar-interrupted::-webkit-progress-bar {\n",
       "                background: #F44336;\n",
       "            }\n",
       "        </style>\n",
       "      <progress value='12' class='' max='12' style='width:300px; height:20px; vertical-align: middle;'></progress>\n",
       "      100.00% [12/12 00:01<00:00]\n",
       "    </div>\n",
       "    "
      ],
      "text/plain": [
       "<IPython.core.display.HTML object>"
      ]
     },
     "metadata": {},
     "output_type": "display_data"
    },
    {
     "name": "stdout",
     "output_type": "stream",
     "text": [
      "eval loss: 0.2039941265083497 0.2039941265083497\n",
      "epoch: 5\n",
      "epoch: 5 loss: 0.1577717189251038\n"
     ]
    },
    {
     "data": {
      "text/html": [
       "\n",
       "    <div>\n",
       "        <style>\n",
       "            /* Turns off some styling */\n",
       "            progress {\n",
       "                /* gets rid of default border in Firefox and Opera. */\n",
       "                border: none;\n",
       "                /* Needs to be in here for Safari polyfill so background images work as expected. */\n",
       "                background-size: auto;\n",
       "            }\n",
       "            .progress-bar-interrupted, .progress-bar-interrupted::-webkit-progress-bar {\n",
       "                background: #F44336;\n",
       "            }\n",
       "        </style>\n",
       "      <progress value='12' class='' max='12' style='width:300px; height:20px; vertical-align: middle;'></progress>\n",
       "      100.00% [12/12 00:01<00:00]\n",
       "    </div>\n",
       "    "
      ],
      "text/plain": [
       "<IPython.core.display.HTML object>"
      ]
     },
     "metadata": {},
     "output_type": "display_data"
    },
    {
     "name": "stdout",
     "output_type": "stream",
     "text": [
      "eval loss: 0.19838611281855512 0.19838611281855512\n",
      "epoch: 6\n",
      "epoch: 6 loss: 0.15247410934515845\n"
     ]
    },
    {
     "data": {
      "text/html": [
       "\n",
       "    <div>\n",
       "        <style>\n",
       "            /* Turns off some styling */\n",
       "            progress {\n",
       "                /* gets rid of default border in Firefox and Opera. */\n",
       "                border: none;\n",
       "                /* Needs to be in here for Safari polyfill so background images work as expected. */\n",
       "                background-size: auto;\n",
       "            }\n",
       "            .progress-bar-interrupted, .progress-bar-interrupted::-webkit-progress-bar {\n",
       "                background: #F44336;\n",
       "            }\n",
       "        </style>\n",
       "      <progress value='12' class='' max='12' style='width:300px; height:20px; vertical-align: middle;'></progress>\n",
       "      100.00% [12/12 00:01<00:00]\n",
       "    </div>\n",
       "    "
      ],
      "text/plain": [
       "<IPython.core.display.HTML object>"
      ]
     },
     "metadata": {},
     "output_type": "display_data"
    },
    {
     "name": "stdout",
     "output_type": "stream",
     "text": [
      "eval loss: 0.19089944370440293 0.19089944370440293\n",
      "epoch: 7\n",
      "epoch: 7 loss: 0.14713257672077076\n"
     ]
    },
    {
     "data": {
      "text/html": [
       "\n",
       "    <div>\n",
       "        <style>\n",
       "            /* Turns off some styling */\n",
       "            progress {\n",
       "                /* gets rid of default border in Firefox and Opera. */\n",
       "                border: none;\n",
       "                /* Needs to be in here for Safari polyfill so background images work as expected. */\n",
       "                background-size: auto;\n",
       "            }\n",
       "            .progress-bar-interrupted, .progress-bar-interrupted::-webkit-progress-bar {\n",
       "                background: #F44336;\n",
       "            }\n",
       "        </style>\n",
       "      <progress value='12' class='' max='12' style='width:300px; height:20px; vertical-align: middle;'></progress>\n",
       "      100.00% [12/12 00:01<00:00]\n",
       "    </div>\n",
       "    "
      ],
      "text/plain": [
       "<IPython.core.display.HTML object>"
      ]
     },
     "metadata": {},
     "output_type": "display_data"
    },
    {
     "name": "stdout",
     "output_type": "stream",
     "text": [
      "eval loss: 0.18761336358713834 0.18761336358713834\n",
      "epoch: 8\n",
      "epoch: 8 loss: 0.1432078200681094\n"
     ]
    },
    {
     "data": {
      "text/html": [
       "\n",
       "    <div>\n",
       "        <style>\n",
       "            /* Turns off some styling */\n",
       "            progress {\n",
       "                /* gets rid of default border in Firefox and Opera. */\n",
       "                border: none;\n",
       "                /* Needs to be in here for Safari polyfill so background images work as expected. */\n",
       "                background-size: auto;\n",
       "            }\n",
       "            .progress-bar-interrupted, .progress-bar-interrupted::-webkit-progress-bar {\n",
       "                background: #F44336;\n",
       "            }\n",
       "        </style>\n",
       "      <progress value='12' class='' max='12' style='width:300px; height:20px; vertical-align: middle;'></progress>\n",
       "      100.00% [12/12 00:01<00:00]\n",
       "    </div>\n",
       "    "
      ],
      "text/plain": [
       "<IPython.core.display.HTML object>"
      ]
     },
     "metadata": {},
     "output_type": "display_data"
    },
    {
     "name": "stdout",
     "output_type": "stream",
     "text": [
      "eval loss: 0.18548232081509144 0.18548232081509144\n",
      "epoch: 9\n",
      "epoch: 9 loss: 0.14196513119887844\n"
     ]
    },
    {
     "data": {
      "text/html": [
       "\n",
       "    <div>\n",
       "        <style>\n",
       "            /* Turns off some styling */\n",
       "            progress {\n",
       "                /* gets rid of default border in Firefox and Opera. */\n",
       "                border: none;\n",
       "                /* Needs to be in here for Safari polyfill so background images work as expected. */\n",
       "                background-size: auto;\n",
       "            }\n",
       "            .progress-bar-interrupted, .progress-bar-interrupted::-webkit-progress-bar {\n",
       "                background: #F44336;\n",
       "            }\n",
       "        </style>\n",
       "      <progress value='12' class='' max='12' style='width:300px; height:20px; vertical-align: middle;'></progress>\n",
       "      100.00% [12/12 00:01<00:00]\n",
       "    </div>\n",
       "    "
      ],
      "text/plain": [
       "<IPython.core.display.HTML object>"
      ]
     },
     "metadata": {},
     "output_type": "display_data"
    },
    {
     "name": "stdout",
     "output_type": "stream",
     "text": [
      "eval loss: 0.18494741346271845 0.18494741346271845\n",
      "epoch: 10\n",
      "epoch: 10 loss: 0.1357093359438675\n"
     ]
    },
    {
     "data": {
      "text/html": [
       "\n",
       "    <div>\n",
       "        <style>\n",
       "            /* Turns off some styling */\n",
       "            progress {\n",
       "                /* gets rid of default border in Firefox and Opera. */\n",
       "                border: none;\n",
       "                /* Needs to be in here for Safari polyfill so background images work as expected. */\n",
       "                background-size: auto;\n",
       "            }\n",
       "            .progress-bar-interrupted, .progress-bar-interrupted::-webkit-progress-bar {\n",
       "                background: #F44336;\n",
       "            }\n",
       "        </style>\n",
       "      <progress value='12' class='' max='12' style='width:300px; height:20px; vertical-align: middle;'></progress>\n",
       "      100.00% [12/12 00:01<00:00]\n",
       "    </div>\n",
       "    "
      ],
      "text/plain": [
       "<IPython.core.display.HTML object>"
      ]
     },
     "metadata": {},
     "output_type": "display_data"
    },
    {
     "name": "stdout",
     "output_type": "stream",
     "text": [
      "eval loss: 0.1797273153602541 0.1797273153602541\n",
      "epoch: 11\n",
      "epoch: 11 loss: 0.13266978106667113\n"
     ]
    },
    {
     "data": {
      "text/html": [
       "\n",
       "    <div>\n",
       "        <style>\n",
       "            /* Turns off some styling */\n",
       "            progress {\n",
       "                /* gets rid of default border in Firefox and Opera. */\n",
       "                border: none;\n",
       "                /* Needs to be in here for Safari polyfill so background images work as expected. */\n",
       "                background-size: auto;\n",
       "            }\n",
       "            .progress-bar-interrupted, .progress-bar-interrupted::-webkit-progress-bar {\n",
       "                background: #F44336;\n",
       "            }\n",
       "        </style>\n",
       "      <progress value='12' class='' max='12' style='width:300px; height:20px; vertical-align: middle;'></progress>\n",
       "      100.00% [12/12 00:01<00:00]\n",
       "    </div>\n",
       "    "
      ],
      "text/plain": [
       "<IPython.core.display.HTML object>"
      ]
     },
     "metadata": {},
     "output_type": "display_data"
    },
    {
     "name": "stdout",
     "output_type": "stream",
     "text": [
      "eval loss: 0.17762606861843575 0.17762606861843575\n",
      "epoch: 12\n",
      "epoch: 12 loss: 0.13040766281256752\n"
     ]
    },
    {
     "data": {
      "text/html": [
       "\n",
       "    <div>\n",
       "        <style>\n",
       "            /* Turns off some styling */\n",
       "            progress {\n",
       "                /* gets rid of default border in Firefox and Opera. */\n",
       "                border: none;\n",
       "                /* Needs to be in here for Safari polyfill so background images work as expected. */\n",
       "                background-size: auto;\n",
       "            }\n",
       "            .progress-bar-interrupted, .progress-bar-interrupted::-webkit-progress-bar {\n",
       "                background: #F44336;\n",
       "            }\n",
       "        </style>\n",
       "      <progress value='12' class='' max='12' style='width:300px; height:20px; vertical-align: middle;'></progress>\n",
       "      100.00% [12/12 00:01<00:00]\n",
       "    </div>\n",
       "    "
      ],
      "text/plain": [
       "<IPython.core.display.HTML object>"
      ]
     },
     "metadata": {},
     "output_type": "display_data"
    },
    {
     "name": "stdout",
     "output_type": "stream",
     "text": [
      "eval loss: 0.17612939553342136 0.17612939553342136\n",
      "epoch: 13\n",
      "epoch: 13 loss: 0.1287065649940328\n"
     ]
    },
    {
     "data": {
      "text/html": [
       "\n",
       "    <div>\n",
       "        <style>\n",
       "            /* Turns off some styling */\n",
       "            progress {\n",
       "                /* gets rid of default border in Firefox and Opera. */\n",
       "                border: none;\n",
       "                /* Needs to be in here for Safari polyfill so background images work as expected. */\n",
       "                background-size: auto;\n",
       "            }\n",
       "            .progress-bar-interrupted, .progress-bar-interrupted::-webkit-progress-bar {\n",
       "                background: #F44336;\n",
       "            }\n",
       "        </style>\n",
       "      <progress value='12' class='' max='12' style='width:300px; height:20px; vertical-align: middle;'></progress>\n",
       "      100.00% [12/12 00:01<00:00]\n",
       "    </div>\n",
       "    "
      ],
      "text/plain": [
       "<IPython.core.display.HTML object>"
      ]
     },
     "metadata": {},
     "output_type": "display_data"
    },
    {
     "name": "stdout",
     "output_type": "stream",
     "text": [
      "eval loss: 0.17566716902929422 0.17566716902929422\n",
      "epoch: 14\n",
      "epoch: 14 loss: 0.12777521215417897\n"
     ]
    },
    {
     "data": {
      "text/html": [
       "\n",
       "    <div>\n",
       "        <style>\n",
       "            /* Turns off some styling */\n",
       "            progress {\n",
       "                /* gets rid of default border in Firefox and Opera. */\n",
       "                border: none;\n",
       "                /* Needs to be in here for Safari polyfill so background images work as expected. */\n",
       "                background-size: auto;\n",
       "            }\n",
       "            .progress-bar-interrupted, .progress-bar-interrupted::-webkit-progress-bar {\n",
       "                background: #F44336;\n",
       "            }\n",
       "        </style>\n",
       "      <progress value='12' class='' max='12' style='width:300px; height:20px; vertical-align: middle;'></progress>\n",
       "      100.00% [12/12 00:01<00:00]\n",
       "    </div>\n",
       "    "
      ],
      "text/plain": [
       "<IPython.core.display.HTML object>"
      ]
     },
     "metadata": {},
     "output_type": "display_data"
    },
    {
     "name": "stdout",
     "output_type": "stream",
     "text": [
      "eval loss: 0.17465612830178445 0.17465612830178445\n",
      "epoch: 15\n",
      "epoch: 15 loss: 0.1243917473376048\n"
     ]
    },
    {
     "data": {
      "text/html": [
       "\n",
       "    <div>\n",
       "        <style>\n",
       "            /* Turns off some styling */\n",
       "            progress {\n",
       "                /* gets rid of default border in Firefox and Opera. */\n",
       "                border: none;\n",
       "                /* Needs to be in here for Safari polyfill so background images work as expected. */\n",
       "                background-size: auto;\n",
       "            }\n",
       "            .progress-bar-interrupted, .progress-bar-interrupted::-webkit-progress-bar {\n",
       "                background: #F44336;\n",
       "            }\n",
       "        </style>\n",
       "      <progress value='12' class='' max='12' style='width:300px; height:20px; vertical-align: middle;'></progress>\n",
       "      100.00% [12/12 00:01<00:00]\n",
       "    </div>\n",
       "    "
      ],
      "text/plain": [
       "<IPython.core.display.HTML object>"
      ]
     },
     "metadata": {},
     "output_type": "display_data"
    },
    {
     "name": "stdout",
     "output_type": "stream",
     "text": [
      "eval loss: 0.17247952792990162 0.17247952792990162\n",
      "epoch: 16\n",
      "epoch: 16 loss: 0.1246118023980773\n"
     ]
    },
    {
     "data": {
      "text/html": [
       "\n",
       "    <div>\n",
       "        <style>\n",
       "            /* Turns off some styling */\n",
       "            progress {\n",
       "                /* gets rid of default border in Firefox and Opera. */\n",
       "                border: none;\n",
       "                /* Needs to be in here for Safari polyfill so background images work as expected. */\n",
       "                background-size: auto;\n",
       "            }\n",
       "            .progress-bar-interrupted, .progress-bar-interrupted::-webkit-progress-bar {\n",
       "                background: #F44336;\n",
       "            }\n",
       "        </style>\n",
       "      <progress value='12' class='' max='12' style='width:300px; height:20px; vertical-align: middle;'></progress>\n",
       "      100.00% [12/12 00:01<00:00]\n",
       "    </div>\n",
       "    "
      ],
      "text/plain": [
       "<IPython.core.display.HTML object>"
      ]
     },
     "metadata": {},
     "output_type": "display_data"
    },
    {
     "name": "stdout",
     "output_type": "stream",
     "text": [
      "eval loss: 0.16984807887771006 0.16984807887771006\n",
      "epoch: 17\n",
      "epoch: 17 loss: 0.12190296499034618\n",
      "eval loss: 0.1790741209554214 0.1790741209554214\n",
      "epoch: 18\n",
      "epoch: 18 loss: 0.12048856110867653\n",
      "eval loss: 0.17102494730373152 0.17102494730373152\n",
      "epoch: 19\n",
      "epoch: 19 loss: 0.11911388857007768\n"
     ]
    },
    {
     "data": {
      "text/html": [
       "\n",
       "    <div>\n",
       "        <style>\n",
       "            /* Turns off some styling */\n",
       "            progress {\n",
       "                /* gets rid of default border in Firefox and Opera. */\n",
       "                border: none;\n",
       "                /* Needs to be in here for Safari polyfill so background images work as expected. */\n",
       "                background-size: auto;\n",
       "            }\n",
       "            .progress-bar-interrupted, .progress-bar-interrupted::-webkit-progress-bar {\n",
       "                background: #F44336;\n",
       "            }\n",
       "        </style>\n",
       "      <progress value='12' class='' max='12' style='width:300px; height:20px; vertical-align: middle;'></progress>\n",
       "      100.00% [12/12 00:01<00:00]\n",
       "    </div>\n",
       "    "
      ],
      "text/plain": [
       "<IPython.core.display.HTML object>"
      ]
     },
     "metadata": {},
     "output_type": "display_data"
    },
    {
     "name": "stdout",
     "output_type": "stream",
     "text": [
      "eval loss: 0.16978584368969685 0.16978584368969685\n",
      "epoch: 20\n",
      "epoch: 20 loss: 0.11793942508273364\n"
     ]
    },
    {
     "data": {
      "text/html": [
       "\n",
       "    <div>\n",
       "        <style>\n",
       "            /* Turns off some styling */\n",
       "            progress {\n",
       "                /* gets rid of default border in Firefox and Opera. */\n",
       "                border: none;\n",
       "                /* Needs to be in here for Safari polyfill so background images work as expected. */\n",
       "                background-size: auto;\n",
       "            }\n",
       "            .progress-bar-interrupted, .progress-bar-interrupted::-webkit-progress-bar {\n",
       "                background: #F44336;\n",
       "            }\n",
       "        </style>\n",
       "      <progress value='12' class='' max='12' style='width:300px; height:20px; vertical-align: middle;'></progress>\n",
       "      100.00% [12/12 00:01<00:00]\n",
       "    </div>\n",
       "    "
      ],
      "text/plain": [
       "<IPython.core.display.HTML object>"
      ]
     },
     "metadata": {},
     "output_type": "display_data"
    },
    {
     "name": "stdout",
     "output_type": "stream",
     "text": [
      "eval loss: 0.1676946383923672 0.1676946383923672\n",
      "epoch: 21\n",
      "epoch: 21 loss: 0.1157514637942288\n",
      "eval loss: 0.16930545195375069 0.16930545195375069\n",
      "epoch: 22\n",
      "epoch: 22 loss: 0.11585549592158459\n",
      "eval loss: 0.16902098951018893 0.16902098951018893\n",
      "epoch: 23\n",
      "epoch: 23 loss: 0.1150568726668746\n",
      "eval loss: 0.17109597990045247 0.17109597990045247\n",
      "epoch: 24\n",
      "epoch: 24 loss: 0.11453081048601717\n"
     ]
    },
    {
     "data": {
      "text/html": [
       "\n",
       "    <div>\n",
       "        <style>\n",
       "            /* Turns off some styling */\n",
       "            progress {\n",
       "                /* gets rid of default border in Firefox and Opera. */\n",
       "                border: none;\n",
       "                /* Needs to be in here for Safari polyfill so background images work as expected. */\n",
       "                background-size: auto;\n",
       "            }\n",
       "            .progress-bar-interrupted, .progress-bar-interrupted::-webkit-progress-bar {\n",
       "                background: #F44336;\n",
       "            }\n",
       "        </style>\n",
       "      <progress value='12' class='' max='12' style='width:300px; height:20px; vertical-align: middle;'></progress>\n",
       "      100.00% [12/12 00:01<00:00]\n",
       "    </div>\n",
       "    "
      ],
      "text/plain": [
       "<IPython.core.display.HTML object>"
      ]
     },
     "metadata": {},
     "output_type": "display_data"
    },
    {
     "name": "stdout",
     "output_type": "stream",
     "text": [
      "eval loss: 0.16752054052471 0.16752054052471\n",
      "epoch: 25\n",
      "epoch: 25 loss: 0.11157515468096808\n"
     ]
    },
    {
     "data": {
      "text/html": [
       "\n",
       "    <div>\n",
       "        <style>\n",
       "            /* Turns off some styling */\n",
       "            progress {\n",
       "                /* gets rid of default border in Firefox and Opera. */\n",
       "                border: none;\n",
       "                /* Needs to be in here for Safari polyfill so background images work as expected. */\n",
       "                background-size: auto;\n",
       "            }\n",
       "            .progress-bar-interrupted, .progress-bar-interrupted::-webkit-progress-bar {\n",
       "                background: #F44336;\n",
       "            }\n",
       "        </style>\n",
       "      <progress value='12' class='' max='12' style='width:300px; height:20px; vertical-align: middle;'></progress>\n",
       "      100.00% [12/12 00:01<00:00]\n",
       "    </div>\n",
       "    "
      ],
      "text/plain": [
       "<IPython.core.display.HTML object>"
      ]
     },
     "metadata": {},
     "output_type": "display_data"
    },
    {
     "name": "stdout",
     "output_type": "stream",
     "text": [
      "eval loss: 0.1645797941377221 0.1645797941377221\n",
      "epoch: 26\n",
      "epoch: 26 loss: 0.11183371889256127\n",
      "eval loss: 0.16827509734425286 0.16827509734425286\n",
      "epoch: 27\n",
      "epoch: 27 loss: 0.10972942395393182\n",
      "eval loss: 0.16556594277423956 0.16556594277423956\n",
      "epoch: 28\n",
      "epoch: 28 loss: 0.10925870543081258\n",
      "eval loss: 0.1667768198418755 0.1667768198418755\n",
      "epoch: 29\n",
      "epoch: 29 loss: 0.1096217566253164\n",
      "eval loss: 0.1658571654353168 0.1658571654353168\n",
      "epoch: 30\n",
      "epoch: 30 loss: 0.10795790166607767\n"
     ]
    },
    {
     "data": {
      "text/html": [
       "\n",
       "    <div>\n",
       "        <style>\n",
       "            /* Turns off some styling */\n",
       "            progress {\n",
       "                /* gets rid of default border in Firefox and Opera. */\n",
       "                border: none;\n",
       "                /* Needs to be in here for Safari polyfill so background images work as expected. */\n",
       "                background-size: auto;\n",
       "            }\n",
       "            .progress-bar-interrupted, .progress-bar-interrupted::-webkit-progress-bar {\n",
       "                background: #F44336;\n",
       "            }\n",
       "        </style>\n",
       "      <progress value='12' class='' max='12' style='width:300px; height:20px; vertical-align: middle;'></progress>\n",
       "      100.00% [12/12 00:01<00:00]\n",
       "    </div>\n",
       "    "
      ],
      "text/plain": [
       "<IPython.core.display.HTML object>"
      ]
     },
     "metadata": {},
     "output_type": "display_data"
    },
    {
     "name": "stdout",
     "output_type": "stream",
     "text": [
      "eval loss: 0.16379283078691356 0.16379283078691356\n",
      "epoch: 31\n",
      "epoch: 31 loss: 0.10677164084862201\n",
      "eval loss: 0.16539584812774819 0.16539584812774819\n",
      "epoch: 32\n",
      "epoch: 32 loss: 0.10583802225755189\n",
      "eval loss: 0.17275620750122836 0.17275620750122836\n",
      "epoch: 33\n",
      "epoch: 33 loss: 0.10511448851921522\n"
     ]
    },
    {
     "data": {
      "text/html": [
       "\n",
       "    <div>\n",
       "        <style>\n",
       "            /* Turns off some styling */\n",
       "            progress {\n",
       "                /* gets rid of default border in Firefox and Opera. */\n",
       "                border: none;\n",
       "                /* Needs to be in here for Safari polyfill so background images work as expected. */\n",
       "                background-size: auto;\n",
       "            }\n",
       "            .progress-bar-interrupted, .progress-bar-interrupted::-webkit-progress-bar {\n",
       "                background: #F44336;\n",
       "            }\n",
       "        </style>\n",
       "      <progress value='12' class='' max='12' style='width:300px; height:20px; vertical-align: middle;'></progress>\n",
       "      100.00% [12/12 00:01<00:00]\n",
       "    </div>\n",
       "    "
      ],
      "text/plain": [
       "<IPython.core.display.HTML object>"
      ]
     },
     "metadata": {},
     "output_type": "display_data"
    },
    {
     "name": "stdout",
     "output_type": "stream",
     "text": [
      "eval loss: 0.1635572402304887 0.1635572402304887\n",
      "epoch: 34\n",
      "epoch: 34 loss: 0.10370700795777518\n"
     ]
    },
    {
     "data": {
      "text/html": [
       "\n",
       "    <div>\n",
       "        <style>\n",
       "            /* Turns off some styling */\n",
       "            progress {\n",
       "                /* gets rid of default border in Firefox and Opera. */\n",
       "                border: none;\n",
       "                /* Needs to be in here for Safari polyfill so background images work as expected. */\n",
       "                background-size: auto;\n",
       "            }\n",
       "            .progress-bar-interrupted, .progress-bar-interrupted::-webkit-progress-bar {\n",
       "                background: #F44336;\n",
       "            }\n",
       "        </style>\n",
       "      <progress value='12' class='' max='12' style='width:300px; height:20px; vertical-align: middle;'></progress>\n",
       "      100.00% [12/12 00:01<00:00]\n",
       "    </div>\n",
       "    "
      ],
      "text/plain": [
       "<IPython.core.display.HTML object>"
      ]
     },
     "metadata": {},
     "output_type": "display_data"
    },
    {
     "name": "stdout",
     "output_type": "stream",
     "text": [
      "eval loss: 0.162365516417803 0.162365516417803\n",
      "epoch: 35\n",
      "epoch: 35 loss: 0.10699549221493335\n",
      "eval loss: 0.16292449169345483 0.16292449169345483\n",
      "epoch: 36\n",
      "epoch: 36 loss: 0.10237728316959763\n"
     ]
    },
    {
     "data": {
      "text/html": [
       "\n",
       "    <div>\n",
       "        <style>\n",
       "            /* Turns off some styling */\n",
       "            progress {\n",
       "                /* gets rid of default border in Firefox and Opera. */\n",
       "                border: none;\n",
       "                /* Needs to be in here for Safari polyfill so background images work as expected. */\n",
       "                background-size: auto;\n",
       "            }\n",
       "            .progress-bar-interrupted, .progress-bar-interrupted::-webkit-progress-bar {\n",
       "                background: #F44336;\n",
       "            }\n",
       "        </style>\n",
       "      <progress value='12' class='' max='12' style='width:300px; height:20px; vertical-align: middle;'></progress>\n",
       "      100.00% [12/12 00:01<00:00]\n",
       "    </div>\n",
       "    "
      ],
      "text/plain": [
       "<IPython.core.display.HTML object>"
      ]
     },
     "metadata": {},
     "output_type": "display_data"
    },
    {
     "name": "stdout",
     "output_type": "stream",
     "text": [
      "eval loss: 0.16198968548957388 0.16198968548957388\n",
      "epoch: 37\n",
      "epoch: 37 loss: 0.10281191525015299\n",
      "eval loss: 0.167214242284644 0.167214242284644\n",
      "epoch: 38\n",
      "epoch: 38 loss: 0.10210434347113247\n"
     ]
    },
    {
     "data": {
      "text/html": [
       "\n",
       "    <div>\n",
       "        <style>\n",
       "            /* Turns off some styling */\n",
       "            progress {\n",
       "                /* gets rid of default border in Firefox and Opera. */\n",
       "                border: none;\n",
       "                /* Needs to be in here for Safari polyfill so background images work as expected. */\n",
       "                background-size: auto;\n",
       "            }\n",
       "            .progress-bar-interrupted, .progress-bar-interrupted::-webkit-progress-bar {\n",
       "                background: #F44336;\n",
       "            }\n",
       "        </style>\n",
       "      <progress value='12' class='' max='12' style='width:300px; height:20px; vertical-align: middle;'></progress>\n",
       "      100.00% [12/12 00:01<00:00]\n",
       "    </div>\n",
       "    "
      ],
      "text/plain": [
       "<IPython.core.display.HTML object>"
      ]
     },
     "metadata": {},
     "output_type": "display_data"
    },
    {
     "name": "stdout",
     "output_type": "stream",
     "text": [
      "eval loss: 0.16192155471585395 0.16192155471585395\n",
      "epoch: 39\n",
      "epoch: 39 loss: 0.10173396516467313\n"
     ]
    },
    {
     "data": {
      "text/html": [
       "\n",
       "    <div>\n",
       "        <style>\n",
       "            /* Turns off some styling */\n",
       "            progress {\n",
       "                /* gets rid of default border in Firefox and Opera. */\n",
       "                border: none;\n",
       "                /* Needs to be in here for Safari polyfill so background images work as expected. */\n",
       "                background-size: auto;\n",
       "            }\n",
       "            .progress-bar-interrupted, .progress-bar-interrupted::-webkit-progress-bar {\n",
       "                background: #F44336;\n",
       "            }\n",
       "        </style>\n",
       "      <progress value='12' class='' max='12' style='width:300px; height:20px; vertical-align: middle;'></progress>\n",
       "      100.00% [12/12 00:01<00:00]\n",
       "    </div>\n",
       "    "
      ],
      "text/plain": [
       "<IPython.core.display.HTML object>"
      ]
     },
     "metadata": {},
     "output_type": "display_data"
    },
    {
     "name": "stdout",
     "output_type": "stream",
     "text": [
      "eval loss: 0.1609064180155388 0.1609064180155388\n",
      "epoch: 40\n",
      "epoch: 40 loss: 0.1001425178323239\n",
      "eval loss: 0.1622327986978592 0.1622327986978592\n",
      "epoch: 41\n",
      "epoch: 41 loss: 0.0990991837543414\n"
     ]
    },
    {
     "data": {
      "text/html": [
       "\n",
       "    <div>\n",
       "        <style>\n",
       "            /* Turns off some styling */\n",
       "            progress {\n",
       "                /* gets rid of default border in Firefox and Opera. */\n",
       "                border: none;\n",
       "                /* Needs to be in here for Safari polyfill so background images work as expected. */\n",
       "                background-size: auto;\n",
       "            }\n",
       "            .progress-bar-interrupted, .progress-bar-interrupted::-webkit-progress-bar {\n",
       "                background: #F44336;\n",
       "            }\n",
       "        </style>\n",
       "      <progress value='12' class='' max='12' style='width:300px; height:20px; vertical-align: middle;'></progress>\n",
       "      100.00% [12/12 00:01<00:00]\n",
       "    </div>\n",
       "    "
      ],
      "text/plain": [
       "<IPython.core.display.HTML object>"
      ]
     },
     "metadata": {},
     "output_type": "display_data"
    },
    {
     "name": "stdout",
     "output_type": "stream",
     "text": [
      "eval loss: 0.16084132995072317 0.16084132995072317\n",
      "epoch: 42\n",
      "epoch: 42 loss: 0.0996992259671634\n"
     ]
    },
    {
     "data": {
      "text/html": [
       "\n",
       "    <div>\n",
       "        <style>\n",
       "            /* Turns off some styling */\n",
       "            progress {\n",
       "                /* gets rid of default border in Firefox and Opera. */\n",
       "                border: none;\n",
       "                /* Needs to be in here for Safari polyfill so background images work as expected. */\n",
       "                background-size: auto;\n",
       "            }\n",
       "            .progress-bar-interrupted, .progress-bar-interrupted::-webkit-progress-bar {\n",
       "                background: #F44336;\n",
       "            }\n",
       "        </style>\n",
       "      <progress value='12' class='' max='12' style='width:300px; height:20px; vertical-align: middle;'></progress>\n",
       "      100.00% [12/12 00:01<00:00]\n",
       "    </div>\n",
       "    "
      ],
      "text/plain": [
       "<IPython.core.display.HTML object>"
      ]
     },
     "metadata": {},
     "output_type": "display_data"
    },
    {
     "name": "stdout",
     "output_type": "stream",
     "text": [
      "eval loss: 0.16074955140595995 0.16074955140595995\n",
      "epoch: 43\n",
      "epoch: 43 loss: 0.1004611079704874\n"
     ]
    },
    {
     "data": {
      "text/html": [
       "\n",
       "    <div>\n",
       "        <style>\n",
       "            /* Turns off some styling */\n",
       "            progress {\n",
       "                /* gets rid of default border in Firefox and Opera. */\n",
       "                border: none;\n",
       "                /* Needs to be in here for Safari polyfill so background images work as expected. */\n",
       "                background-size: auto;\n",
       "            }\n",
       "            .progress-bar-interrupted, .progress-bar-interrupted::-webkit-progress-bar {\n",
       "                background: #F44336;\n",
       "            }\n",
       "        </style>\n",
       "      <progress value='12' class='' max='12' style='width:300px; height:20px; vertical-align: middle;'></progress>\n",
       "      100.00% [12/12 00:01<00:00]\n",
       "    </div>\n",
       "    "
      ],
      "text/plain": [
       "<IPython.core.display.HTML object>"
      ]
     },
     "metadata": {},
     "output_type": "display_data"
    },
    {
     "name": "stdout",
     "output_type": "stream",
     "text": [
      "eval loss: 0.16054398976982856 0.16054398976982856\n",
      "epoch: 44\n",
      "epoch: 44 loss: 0.09822678446012947\n",
      "eval loss: 0.16181036930558898 0.16181036930558898\n",
      "epoch: 45\n",
      "epoch: 45 loss: 0.09860517550624065\n",
      "eval loss: 0.16421372914128837 0.16421372914128837\n",
      "epoch: 46\n",
      "epoch: 46 loss: 0.09871038922772316\n",
      "eval loss: 0.1681330712107514 0.1681330712107514\n",
      "epoch: 47\n",
      "epoch: 47 loss: 0.09834392484300326\n",
      "eval loss: 0.16252882611468575 0.16252882611468575\n",
      "epoch: 48\n",
      "epoch: 48 loss: 0.096456497387369\n"
     ]
    },
    {
     "data": {
      "text/html": [
       "\n",
       "    <div>\n",
       "        <style>\n",
       "            /* Turns off some styling */\n",
       "            progress {\n",
       "                /* gets rid of default border in Firefox and Opera. */\n",
       "                border: none;\n",
       "                /* Needs to be in here for Safari polyfill so background images work as expected. */\n",
       "                background-size: auto;\n",
       "            }\n",
       "            .progress-bar-interrupted, .progress-bar-interrupted::-webkit-progress-bar {\n",
       "                background: #F44336;\n",
       "            }\n",
       "        </style>\n",
       "      <progress value='12' class='' max='12' style='width:300px; height:20px; vertical-align: middle;'></progress>\n",
       "      100.00% [12/12 00:01<00:00]\n",
       "    </div>\n",
       "    "
      ],
      "text/plain": [
       "<IPython.core.display.HTML object>"
      ]
     },
     "metadata": {},
     "output_type": "display_data"
    },
    {
     "name": "stdout",
     "output_type": "stream",
     "text": [
      "eval loss: 0.15978805647107117 0.15978805647107117\n",
      "epoch: 49\n",
      "epoch: 49 loss: 0.09490483832890034\n",
      "eval loss: 0.1625639708476818 0.1625639708476818\n",
      "epoch: 50\n",
      "epoch: 50 loss: 0.09453797026827034\n",
      "eval loss: 0.16026967548752472 0.16026967548752472\n",
      "epoch: 51\n",
      "epoch: 51 loss: 0.09459072845237909\n"
     ]
    },
    {
     "data": {
      "text/html": [
       "\n",
       "    <div>\n",
       "        <style>\n",
       "            /* Turns off some styling */\n",
       "            progress {\n",
       "                /* gets rid of default border in Firefox and Opera. */\n",
       "                border: none;\n",
       "                /* Needs to be in here for Safari polyfill so background images work as expected. */\n",
       "                background-size: auto;\n",
       "            }\n",
       "            .progress-bar-interrupted, .progress-bar-interrupted::-webkit-progress-bar {\n",
       "                background: #F44336;\n",
       "            }\n",
       "        </style>\n",
       "      <progress value='12' class='' max='12' style='width:300px; height:20px; vertical-align: middle;'></progress>\n",
       "      100.00% [12/12 00:01<00:00]\n",
       "    </div>\n",
       "    "
      ],
      "text/plain": [
       "<IPython.core.display.HTML object>"
      ]
     },
     "metadata": {},
     "output_type": "display_data"
    },
    {
     "name": "stdout",
     "output_type": "stream",
     "text": [
      "eval loss: 0.1593678356148955 0.1593678356148955\n",
      "epoch: 52\n",
      "epoch: 52 loss: 0.09616625074723524\n",
      "eval loss: 0.16150294280146274 0.16150294280146274\n",
      "epoch: 53\n",
      "epoch: 53 loss: 0.0950744322234205\n",
      "eval loss: 0.1625733796240326 0.1625733796240326\n",
      "epoch: 54\n",
      "epoch: 54 loss: 0.094876578376603\n",
      "eval loss: 0.16134819599566333 0.16134819599566333\n",
      "epoch: 55\n",
      "epoch: 55 loss: 0.09640002998019521\n",
      "eval loss: 0.16028848159031497 0.16028848159031497\n",
      "epoch: 56\n",
      "epoch: 56 loss: 0.09338349235214846\n",
      "eval loss: 0.16078282258683316 0.16078282258683316\n",
      "epoch: 57\n",
      "epoch: 57 loss: 0.09386671225929001\n",
      "eval loss: 0.16423113190307184 0.16423113190307184\n",
      "epoch: 58\n",
      "epoch: 58 loss: 0.09187604111877833\n",
      "eval loss: 0.16132980549259723 0.16132980549259723\n",
      "epoch: 59\n",
      "epoch: 59 loss: 0.091959205971643\n"
     ]
    },
    {
     "data": {
      "text/html": [
       "\n",
       "    <div>\n",
       "        <style>\n",
       "            /* Turns off some styling */\n",
       "            progress {\n",
       "                /* gets rid of default border in Firefox and Opera. */\n",
       "                border: none;\n",
       "                /* Needs to be in here for Safari polyfill so background images work as expected. */\n",
       "                background-size: auto;\n",
       "            }\n",
       "            .progress-bar-interrupted, .progress-bar-interrupted::-webkit-progress-bar {\n",
       "                background: #F44336;\n",
       "            }\n",
       "        </style>\n",
       "      <progress value='12' class='' max='12' style='width:300px; height:20px; vertical-align: middle;'></progress>\n",
       "      100.00% [12/12 00:01<00:00]\n",
       "    </div>\n",
       "    "
      ],
      "text/plain": [
       "<IPython.core.display.HTML object>"
      ]
     },
     "metadata": {},
     "output_type": "display_data"
    },
    {
     "name": "stdout",
     "output_type": "stream",
     "text": [
      "eval loss: 0.15872754950860954 0.15872754950860954\n",
      "epoch: 60\n",
      "epoch: 60 loss: 0.09152956299514986\n",
      "eval loss: 0.16136799823935175 0.16136799823935175\n",
      "epoch: 61\n",
      "epoch: 61 loss: 0.0904718880064009\n",
      "eval loss: 0.15986845324699614 0.15986845324699614\n",
      "epoch: 62\n",
      "epoch: 62 loss: 0.09124137146589843\n",
      "eval loss: 0.1610863256967753 0.1610863256967753\n",
      "epoch: 63\n",
      "epoch: 63 loss: 0.09053118421647997\n",
      "eval loss: 0.15951182043065656 0.15951182043065656\n",
      "epoch: 64\n",
      "epoch: 64 loss: 0.09017393581033628\n",
      "eval loss: 0.16035491358256093 0.16035491358256093\n",
      "epoch: 65\n",
      "epoch: 65 loss: 0.09053814157657539\n",
      "eval loss: 0.1623507059427918 0.1623507059427918\n",
      "epoch: 66\n",
      "epoch: 66 loss: 0.08864759986412284\n",
      "eval loss: 0.1590894585883633 0.1590894585883633\n",
      "epoch: 67\n",
      "epoch: 67 loss: 0.09071645546007863\n",
      "eval loss: 0.16214548390442943 0.16214548390442943\n",
      "epoch: 68\n",
      "epoch: 68 loss: 0.09006457174538685\n",
      "eval loss: 0.159197079898641 0.159197079898641\n",
      "epoch: 69\n",
      "epoch: 69 loss: 0.08735823922999307\n",
      "eval loss: 0.15933222984202108 0.15933222984202108\n",
      "epoch: 70\n",
      "epoch: 70 loss: 0.08834834310594458\n",
      "eval loss: 0.1590038825976808 0.1590038825976808\n",
      "epoch: 71\n",
      "epoch: 71 loss: 0.08738180334693706\n",
      "eval loss: 0.16067444743051879 0.16067444743051879\n",
      "epoch: 72\n",
      "epoch: 72 loss: 0.08652724702834064\n",
      "eval loss: 0.160046586463562 0.160046586463562\n",
      "epoch: 73\n",
      "epoch: 73 loss: 0.29013672176901073\n",
      "eval loss: 0.3788379732574316 0.3788379732574316\n",
      "epoch: 74\n",
      "epoch: 74 loss: 0.3569736808520915\n",
      "eval loss: 0.3809222826142434 0.3809222826142434\n",
      "epoch: 75\n",
      "epoch: 75 loss: 0.3564555341875353\n",
      "eval loss: 0.38345100081617894 0.38345100081617894\n",
      "epoch: 76\n",
      "epoch: 76 loss: 0.3571455328786226\n",
      "eval loss: 0.38071220482344187 0.38071220482344187\n",
      "epoch: 77\n",
      "epoch: 77 loss: 0.3550051230866578\n",
      "eval loss: 0.37847305431562867 0.37847305431562867\n",
      "epoch: 78\n",
      "epoch: 78 loss: 0.35514444502358433\n",
      "eval loss: 0.381355834131919 0.381355834131919\n",
      "epoch: 79\n",
      "epoch: 79 loss: 0.3546210740604311\n",
      "eval loss: 0.38135841169933965 0.38135841169933965\n",
      "epoch: 80\n",
      "epoch: 80 loss: 0.3545457573733936\n",
      "eval loss: 0.3790322351061628 0.3790322351061628\n",
      "epoch: 81\n",
      "epoch: 81 loss: 0.3542435583521103\n",
      "eval loss: 0.3778949464219313 0.3778949464219313\n",
      "epoch: 82\n",
      "epoch: 82 loss: 0.3523612419074045\n",
      "eval loss: 0.37854539106254254 0.37854539106254254\n",
      "epoch: 83\n",
      "epoch: 83 loss: 0.34875236115534014\n",
      "eval loss: 0.37282004740826596 0.37282004740826596\n",
      "epoch: 84\n",
      "epoch: 84 loss: 0.3436713727381202\n",
      "eval loss: 0.37171765933899276 0.37171765933899276\n",
      "epoch: 85\n",
      "epoch: 85 loss: 0.3422351069345853\n",
      "eval loss: 0.36913526824120124 0.36913526824120124\n",
      "epoch: 86\n",
      "epoch: 86 loss: 0.34452384178825834\n",
      "eval loss: 0.3749546025983635 0.3749546025983635\n",
      "epoch: 87\n",
      "epoch: 87 loss: 0.34377606372903563\n",
      "eval loss: 0.36621747370014185 0.36621747370014185\n",
      "epoch: 88\n",
      "epoch: 88 loss: 0.34164746019281617\n",
      "eval loss: 0.3638249360733019 0.3638249360733019\n",
      "epoch: 89\n",
      "epoch: 89 loss: 0.343105434633776\n",
      "eval loss: 0.37083800192592614 0.37083800192592614\n",
      "epoch: 90\n",
      "epoch: 90 loss: 0.3411869932911004\n",
      "eval loss: 0.368221532259116 0.368221532259116\n",
      "epoch: 91\n",
      "epoch: 91 loss: 0.34058666696231643\n",
      "eval loss: 0.3632843452073547 0.3632843452073547\n",
      "epoch: 92\n",
      "epoch: 92 loss: 0.33946163032045373\n",
      "eval loss: 0.3647938802471586 0.3647938802471586\n",
      "epoch: 93\n",
      "epoch: 93 loss: 0.33918981544136706\n",
      "eval loss: 0.3617902898292406 0.3617902898292406\n",
      "epoch: 94\n",
      "epoch: 94 loss: 0.33838769296713384\n",
      "eval loss: 0.36481363143873297 0.36481363143873297\n",
      "epoch: 95\n",
      "epoch: 95 loss: 0.3380114254697944\n",
      "eval loss: 0.3629443892169793 0.3629443892169793\n",
      "epoch: 96\n",
      "epoch: 96 loss: 0.33758574414366177\n",
      "eval loss: 0.3634255941075119 0.3634255941075119\n",
      "epoch: 97\n",
      "epoch: 97 loss: 0.33704490540385634\n",
      "eval loss: 0.3616365334788356 0.3616365334788356\n",
      "epoch: 98\n",
      "epoch: 98 loss: 0.33730003043852413\n",
      "eval loss: 0.37003773731051365 0.37003773731051365\n",
      "epoch: 99\n",
      "epoch: 99 loss: 0.33852976087939224\n",
      "eval loss: 0.35846732864724756 0.35846732864724756\n",
      "epoch: 100\n",
      "epoch: 100 loss: 0.3359907598892667\n",
      "eval loss: 0.36102942295708046 0.36102942295708046\n",
      "epoch: 101\n",
      "epoch: 101 loss: 0.3384033422155656\n",
      "eval loss: 0.36097186030587575 0.36097186030587575\n",
      "epoch: 102\n",
      "epoch: 102 loss: 0.33701664124799535\n",
      "eval loss: 0.3616746648414581 0.3616746648414581\n",
      "epoch: 103\n",
      "epoch: 103 loss: 0.3390251829724366\n",
      "eval loss: 0.3640752989879341 0.3640752989879341\n",
      "epoch: 104\n",
      "epoch: 104 loss: 0.3432228602476668\n",
      "eval loss: 0.36875692182976283 0.36875692182976283\n",
      "epoch: 105\n",
      "epoch: 105 loss: 0.3425813766160744\n",
      "eval loss: 0.36750251802601014 0.36750251802601014\n",
      "epoch: 106\n",
      "epoch: 106 loss: 0.3403347923024719\n",
      "eval loss: 0.3666240521551791 0.3666240521551791\n",
      "epoch: 107\n",
      "epoch: 107 loss: 0.34075459394284696\n",
      "eval loss: 0.366199631979322 0.366199631979322\n",
      "epoch: 108\n",
      "epoch: 108 loss: 0.33915014977819324\n",
      "eval loss: 0.36966391612171234 0.36966391612171234\n",
      "epoch: 109\n",
      "epoch: 109 loss: 0.3389019248458109\n",
      "eval loss: 0.3642768875503444 0.3642768875503444\n",
      "epoch: 110\n",
      "epoch: 110 loss: 0.33850322619645334\n",
      "eval loss: 0.36437265073901176 0.36437265073901176\n",
      "epoch: 111\n",
      "epoch: 111 loss: 0.3371464874932491\n",
      "eval loss: 0.3618746140612788 0.3618746140612788\n",
      "epoch: 112\n",
      "epoch: 112 loss: 0.33767650423852924\n",
      "eval loss: 0.3664571586491297 0.3664571586491297\n",
      "epoch: 113\n",
      "epoch: 113 loss: 0.33663590550088457\n",
      "eval loss: 0.3636279955267225 0.3636279955267225\n",
      "epoch: 114\n",
      "epoch: 114 loss: 0.33674816470867136\n",
      "eval loss: 0.36611317233234414 0.36611317233234414\n",
      "epoch: 115\n",
      "epoch: 115 loss: 0.3355646192579656\n",
      "eval loss: 0.35999956623995216 0.35999956623995216\n",
      "epoch: 116\n",
      "epoch: 116 loss: 0.3354220771899505\n",
      "eval loss: 0.36262594903238465 0.36262594903238465\n",
      "epoch: 117\n",
      "epoch: 117 loss: 0.336215636066468\n",
      "eval loss: 0.3628739129431989 0.3628739129431989\n",
      "epoch: 118\n",
      "epoch: 118 loss: 0.33616052739728447\n",
      "eval loss: 0.3614807170767916 0.3614807170767916\n",
      "epoch: 119\n",
      "epoch: 119 loss: 0.3351567321464877\n",
      "eval loss: 0.3596720741502127 0.3596720741502127\n",
      "epoch: 120\n",
      "epoch: 120 loss: 0.3344507522050467\n",
      "eval loss: 0.35971294397268 0.35971294397268\n",
      "epoch: 121\n",
      "epoch: 121 loss: 0.33577670174689045\n",
      "eval loss: 0.3597727570341911 0.3597727570341911\n",
      "epoch: 122\n",
      "epoch: 122 loss: 0.33427528554915453\n",
      "eval loss: 0.35742547116431017 0.35742547116431017\n",
      "epoch: 123\n",
      "epoch: 123 loss: 0.33426272480461694\n",
      "eval loss: 0.35683825525707635 0.35683825525707635\n",
      "epoch: 124\n",
      "epoch: 124 loss: 0.3336718503796388\n",
      "eval loss: 0.35605452354166706 0.35605452354166706\n",
      "epoch: 125\n",
      "epoch: 125 loss: 0.3338511201477132\n",
      "eval loss: 0.3598550048396018 0.3598550048396018\n",
      "epoch: 126\n",
      "epoch: 126 loss: 0.33274618470107825\n",
      "eval loss: 0.3574507869368826 0.3574507869368826\n",
      "epoch: 127\n",
      "epoch: 127 loss: 0.3324544659812932\n",
      "eval loss: 0.3570811392299922 0.3570811392299922\n",
      "epoch: 128\n",
      "epoch: 128 loss: 0.3322016069497239\n",
      "eval loss: 0.3592530240727989 0.3592530240727989\n",
      "epoch: 129\n",
      "epoch: 129 loss: 0.3322766346654548\n",
      "eval loss: 0.36021609108008296 0.36021609108008296\n",
      "epoch: 130\n",
      "epoch: 130 loss: 0.33239112310877456\n",
      "eval loss: 0.3564570067951445 0.3564570067951445\n",
      "epoch: 131\n",
      "epoch: 131 loss: 0.33178723922148834\n",
      "eval loss: 0.3563209432941364 0.3563209432941364\n",
      "epoch: 132\n",
      "epoch: 132 loss: 0.33151633535141484\n",
      "eval loss: 0.35893221403751313 0.35893221403751313\n",
      "epoch: 133\n",
      "epoch: 133 loss: 0.33212939402835523\n",
      "eval loss: 0.3592631530020092 0.3592631530020092\n",
      "epoch: 134\n",
      "epoch: 134 loss: 0.335256838994223\n",
      "eval loss: 0.3698468972882174 0.3698468972882174\n",
      "epoch: 135\n",
      "epoch: 135 loss: 0.34121449908230567\n",
      "eval loss: 0.3617374666042261 0.3617374666042261\n",
      "epoch: 136\n",
      "epoch: 136 loss: 0.3353192942049809\n",
      "eval loss: 0.36249103710412384 0.36249103710412384\n",
      "epoch: 137\n",
      "epoch: 137 loss: 0.3335162551161253\n",
      "eval loss: 0.36991092268692083 0.36991092268692083\n",
      "epoch: 138\n",
      "epoch: 138 loss: 0.33229630683620065\n",
      "eval loss: 0.3625538947742953 0.3625538947742953\n",
      "epoch: 139\n",
      "epoch: 139 loss: 0.3305229066714915\n",
      "eval loss: 0.36097969909968697 0.36097969909968697\n",
      "epoch: 140\n",
      "epoch: 140 loss: 0.32955870823389566\n",
      "eval loss: 0.3597492152022652 0.3597492152022652\n",
      "epoch: 141\n",
      "epoch: 141 loss: 0.33016354703751194\n",
      "eval loss: 0.3610232528803199 0.3610232528803199\n",
      "epoch: 142\n",
      "epoch: 142 loss: 0.3308092184796298\n",
      "eval loss: 0.3607042673025059 0.3607042673025059\n",
      "epoch: 143\n",
      "epoch: 143 loss: 0.3288631404153844\n",
      "eval loss: 0.3595807853368593 0.3595807853368593\n",
      "epoch: 144\n",
      "epoch: 144 loss: 0.33011597737015913\n",
      "eval loss: 0.36270189931236896 0.36270189931236896\n"
     ]
    },
    {
     "name": "stdout",
     "output_type": "stream",
     "text": [
      "epoch: 145\n",
      "epoch: 145 loss: 0.3282341074292684\n",
      "eval loss: 0.36399836879180936 0.36399836879180936\n",
      "epoch: 146\n",
      "epoch: 146 loss: 0.32818271299890706\n",
      "eval loss: 0.3604382163740009 0.3604382163740009\n",
      "epoch: 147\n",
      "epoch: 147 loss: 0.3264930645145361\n",
      "eval loss: 0.3601011846880735 0.3601011846880735\n",
      "epoch: 148\n",
      "epoch: 148 loss: 0.3254999799932768\n",
      "eval loss: 0.3571696501476924 0.3571696501476924\n",
      "epoch: 149\n",
      "epoch: 149 loss: 0.32506137586217687\n",
      "eval loss: 0.362560332891431 0.362560332891431\n",
      "min eval loss: 0.15872754950860954 min mcrmse: 0.15872754950860954 epoch 59\n",
      "fold: 3\n",
      "(1, 107, 107, 3)\n",
      "(1, 107, 107, 3)\n",
      "(3046, 23) (761, 23)\n",
      "(1, 130, 130, 3)\n",
      "(1, 130, 130, 3)\n",
      "(2404, 16) (601, 16)\n",
      "device: cuda:1\n"
     ]
    },
    {
     "data": {
      "text/html": [
       "\n",
       "    <div>\n",
       "        <style>\n",
       "            /* Turns off some styling */\n",
       "            progress {\n",
       "                /* gets rid of default border in Firefox and Opera. */\n",
       "                border: none;\n",
       "                /* Needs to be in here for Safari polyfill so background images work as expected. */\n",
       "                background-size: auto;\n",
       "            }\n",
       "            .progress-bar-interrupted, .progress-bar-interrupted::-webkit-progress-bar {\n",
       "                background: #F44336;\n",
       "            }\n",
       "        </style>\n",
       "      <progress value='150' class='' max='150' style='width:300px; height:20px; vertical-align: middle;'></progress>\n",
       "      100.00% [150/150 1:16:17<00:00]\n",
       "    </div>\n",
       "    "
      ],
      "text/plain": [
       "<IPython.core.display.HTML object>"
      ]
     },
     "metadata": {},
     "output_type": "display_data"
    },
    {
     "name": "stdout",
     "output_type": "stream",
     "text": [
      "epoch: 0\n",
      "epoch: 0 loss: 0.2934841860369835\n"
     ]
    },
    {
     "data": {
      "text/html": [
       "\n",
       "    <div>\n",
       "        <style>\n",
       "            /* Turns off some styling */\n",
       "            progress {\n",
       "                /* gets rid of default border in Firefox and Opera. */\n",
       "                border: none;\n",
       "                /* Needs to be in here for Safari polyfill so background images work as expected. */\n",
       "                background-size: auto;\n",
       "            }\n",
       "            .progress-bar-interrupted, .progress-bar-interrupted::-webkit-progress-bar {\n",
       "                background: #F44336;\n",
       "            }\n",
       "        </style>\n",
       "      <progress value='12' class='' max='12' style='width:300px; height:20px; vertical-align: middle;'></progress>\n",
       "      100.00% [12/12 00:01<00:00]\n",
       "    </div>\n",
       "    "
      ],
      "text/plain": [
       "<IPython.core.display.HTML object>"
      ]
     },
     "metadata": {},
     "output_type": "display_data"
    },
    {
     "name": "stdout",
     "output_type": "stream",
     "text": [
      "eval loss: 0.2679976945937938 0.2679976945937938\n",
      "epoch: 1\n",
      "epoch: 1 loss: 0.21724215749711834\n"
     ]
    },
    {
     "data": {
      "text/html": [
       "\n",
       "    <div>\n",
       "        <style>\n",
       "            /* Turns off some styling */\n",
       "            progress {\n",
       "                /* gets rid of default border in Firefox and Opera. */\n",
       "                border: none;\n",
       "                /* Needs to be in here for Safari polyfill so background images work as expected. */\n",
       "                background-size: auto;\n",
       "            }\n",
       "            .progress-bar-interrupted, .progress-bar-interrupted::-webkit-progress-bar {\n",
       "                background: #F44336;\n",
       "            }\n",
       "        </style>\n",
       "      <progress value='12' class='' max='12' style='width:300px; height:20px; vertical-align: middle;'></progress>\n",
       "      100.00% [12/12 00:01<00:00]\n",
       "    </div>\n",
       "    "
      ],
      "text/plain": [
       "<IPython.core.display.HTML object>"
      ]
     },
     "metadata": {},
     "output_type": "display_data"
    },
    {
     "name": "stdout",
     "output_type": "stream",
     "text": [
      "eval loss: 0.2485765628407004 0.2485765628407004\n",
      "epoch: 2\n",
      "epoch: 2 loss: 0.1923432694162525\n"
     ]
    },
    {
     "data": {
      "text/html": [
       "\n",
       "    <div>\n",
       "        <style>\n",
       "            /* Turns off some styling */\n",
       "            progress {\n",
       "                /* gets rid of default border in Firefox and Opera. */\n",
       "                border: none;\n",
       "                /* Needs to be in here for Safari polyfill so background images work as expected. */\n",
       "                background-size: auto;\n",
       "            }\n",
       "            .progress-bar-interrupted, .progress-bar-interrupted::-webkit-progress-bar {\n",
       "                background: #F44336;\n",
       "            }\n",
       "        </style>\n",
       "      <progress value='12' class='' max='12' style='width:300px; height:20px; vertical-align: middle;'></progress>\n",
       "      100.00% [12/12 00:01<00:00]\n",
       "    </div>\n",
       "    "
      ],
      "text/plain": [
       "<IPython.core.display.HTML object>"
      ]
     },
     "metadata": {},
     "output_type": "display_data"
    },
    {
     "name": "stdout",
     "output_type": "stream",
     "text": [
      "eval loss: 0.22542516926764308 0.22542516926764308\n",
      "epoch: 3\n",
      "epoch: 3 loss: 0.17370227397514648\n"
     ]
    },
    {
     "data": {
      "text/html": [
       "\n",
       "    <div>\n",
       "        <style>\n",
       "            /* Turns off some styling */\n",
       "            progress {\n",
       "                /* gets rid of default border in Firefox and Opera. */\n",
       "                border: none;\n",
       "                /* Needs to be in here for Safari polyfill so background images work as expected. */\n",
       "                background-size: auto;\n",
       "            }\n",
       "            .progress-bar-interrupted, .progress-bar-interrupted::-webkit-progress-bar {\n",
       "                background: #F44336;\n",
       "            }\n",
       "        </style>\n",
       "      <progress value='12' class='' max='12' style='width:300px; height:20px; vertical-align: middle;'></progress>\n",
       "      100.00% [12/12 00:01<00:00]\n",
       "    </div>\n",
       "    "
      ],
      "text/plain": [
       "<IPython.core.display.HTML object>"
      ]
     },
     "metadata": {},
     "output_type": "display_data"
    },
    {
     "name": "stdout",
     "output_type": "stream",
     "text": [
      "eval loss: 0.21312797336384895 0.21312797336384895\n",
      "epoch: 4\n",
      "epoch: 4 loss: 0.16386388006367095\n"
     ]
    },
    {
     "data": {
      "text/html": [
       "\n",
       "    <div>\n",
       "        <style>\n",
       "            /* Turns off some styling */\n",
       "            progress {\n",
       "                /* gets rid of default border in Firefox and Opera. */\n",
       "                border: none;\n",
       "                /* Needs to be in here for Safari polyfill so background images work as expected. */\n",
       "                background-size: auto;\n",
       "            }\n",
       "            .progress-bar-interrupted, .progress-bar-interrupted::-webkit-progress-bar {\n",
       "                background: #F44336;\n",
       "            }\n",
       "        </style>\n",
       "      <progress value='12' class='' max='12' style='width:300px; height:20px; vertical-align: middle;'></progress>\n",
       "      100.00% [12/12 00:01<00:00]\n",
       "    </div>\n",
       "    "
      ],
      "text/plain": [
       "<IPython.core.display.HTML object>"
      ]
     },
     "metadata": {},
     "output_type": "display_data"
    },
    {
     "name": "stdout",
     "output_type": "stream",
     "text": [
      "eval loss: 0.20425596390196746 0.20425596390196746\n",
      "epoch: 5\n",
      "epoch: 5 loss: 0.15429004301976185\n"
     ]
    },
    {
     "data": {
      "text/html": [
       "\n",
       "    <div>\n",
       "        <style>\n",
       "            /* Turns off some styling */\n",
       "            progress {\n",
       "                /* gets rid of default border in Firefox and Opera. */\n",
       "                border: none;\n",
       "                /* Needs to be in here for Safari polyfill so background images work as expected. */\n",
       "                background-size: auto;\n",
       "            }\n",
       "            .progress-bar-interrupted, .progress-bar-interrupted::-webkit-progress-bar {\n",
       "                background: #F44336;\n",
       "            }\n",
       "        </style>\n",
       "      <progress value='12' class='' max='12' style='width:300px; height:20px; vertical-align: middle;'></progress>\n",
       "      100.00% [12/12 00:01<00:00]\n",
       "    </div>\n",
       "    "
      ],
      "text/plain": [
       "<IPython.core.display.HTML object>"
      ]
     },
     "metadata": {},
     "output_type": "display_data"
    },
    {
     "name": "stdout",
     "output_type": "stream",
     "text": [
      "eval loss: 0.20100494337051492 0.20100494337051492\n",
      "epoch: 6\n",
      "epoch: 6 loss: 0.14877361162498312\n",
      "eval loss: 0.20319055098083114 0.20319055098083114\n",
      "epoch: 7\n",
      "epoch: 7 loss: 0.1442794753551702\n",
      "eval loss: 0.20586895697058005 0.20586895697058005\n",
      "epoch: 8\n",
      "epoch: 8 loss: 0.1403785639881727\n"
     ]
    },
    {
     "data": {
      "text/html": [
       "\n",
       "    <div>\n",
       "        <style>\n",
       "            /* Turns off some styling */\n",
       "            progress {\n",
       "                /* gets rid of default border in Firefox and Opera. */\n",
       "                border: none;\n",
       "                /* Needs to be in here for Safari polyfill so background images work as expected. */\n",
       "                background-size: auto;\n",
       "            }\n",
       "            .progress-bar-interrupted, .progress-bar-interrupted::-webkit-progress-bar {\n",
       "                background: #F44336;\n",
       "            }\n",
       "        </style>\n",
       "      <progress value='12' class='' max='12' style='width:300px; height:20px; vertical-align: middle;'></progress>\n",
       "      100.00% [12/12 00:01<00:00]\n",
       "    </div>\n",
       "    "
      ],
      "text/plain": [
       "<IPython.core.display.HTML object>"
      ]
     },
     "metadata": {},
     "output_type": "display_data"
    },
    {
     "name": "stdout",
     "output_type": "stream",
     "text": [
      "eval loss: 0.191542868812925 0.191542868812925\n",
      "epoch: 9\n",
      "epoch: 9 loss: 0.135383567819488\n"
     ]
    },
    {
     "data": {
      "text/html": [
       "\n",
       "    <div>\n",
       "        <style>\n",
       "            /* Turns off some styling */\n",
       "            progress {\n",
       "                /* gets rid of default border in Firefox and Opera. */\n",
       "                border: none;\n",
       "                /* Needs to be in here for Safari polyfill so background images work as expected. */\n",
       "                background-size: auto;\n",
       "            }\n",
       "            .progress-bar-interrupted, .progress-bar-interrupted::-webkit-progress-bar {\n",
       "                background: #F44336;\n",
       "            }\n",
       "        </style>\n",
       "      <progress value='12' class='' max='12' style='width:300px; height:20px; vertical-align: middle;'></progress>\n",
       "      100.00% [12/12 00:01<00:00]\n",
       "    </div>\n",
       "    "
      ],
      "text/plain": [
       "<IPython.core.display.HTML object>"
      ]
     },
     "metadata": {},
     "output_type": "display_data"
    },
    {
     "name": "stdout",
     "output_type": "stream",
     "text": [
      "eval loss: 0.1899796081583225 0.1899796081583225\n",
      "epoch: 10\n",
      "epoch: 10 loss: 0.13149222238333244\n"
     ]
    },
    {
     "data": {
      "text/html": [
       "\n",
       "    <div>\n",
       "        <style>\n",
       "            /* Turns off some styling */\n",
       "            progress {\n",
       "                /* gets rid of default border in Firefox and Opera. */\n",
       "                border: none;\n",
       "                /* Needs to be in here for Safari polyfill so background images work as expected. */\n",
       "                background-size: auto;\n",
       "            }\n",
       "            .progress-bar-interrupted, .progress-bar-interrupted::-webkit-progress-bar {\n",
       "                background: #F44336;\n",
       "            }\n",
       "        </style>\n",
       "      <progress value='12' class='' max='12' style='width:300px; height:20px; vertical-align: middle;'></progress>\n",
       "      100.00% [12/12 00:01<00:00]\n",
       "    </div>\n",
       "    "
      ],
      "text/plain": [
       "<IPython.core.display.HTML object>"
      ]
     },
     "metadata": {},
     "output_type": "display_data"
    },
    {
     "name": "stdout",
     "output_type": "stream",
     "text": [
      "eval loss: 0.18584534329754362 0.18584534329754362\n",
      "epoch: 11\n",
      "epoch: 11 loss: 0.12882805714130965\n",
      "eval loss: 0.18738145948515786 0.18738145948515786\n",
      "epoch: 12\n",
      "epoch: 12 loss: 0.12675540839221575\n",
      "eval loss: 0.18597104342553125 0.18597104342553125\n",
      "epoch: 13\n",
      "epoch: 13 loss: 0.12569452446625368\n"
     ]
    },
    {
     "data": {
      "text/html": [
       "\n",
       "    <div>\n",
       "        <style>\n",
       "            /* Turns off some styling */\n",
       "            progress {\n",
       "                /* gets rid of default border in Firefox and Opera. */\n",
       "                border: none;\n",
       "                /* Needs to be in here for Safari polyfill so background images work as expected. */\n",
       "                background-size: auto;\n",
       "            }\n",
       "            .progress-bar-interrupted, .progress-bar-interrupted::-webkit-progress-bar {\n",
       "                background: #F44336;\n",
       "            }\n",
       "        </style>\n",
       "      <progress value='12' class='' max='12' style='width:300px; height:20px; vertical-align: middle;'></progress>\n",
       "      100.00% [12/12 00:01<00:00]\n",
       "    </div>\n",
       "    "
      ],
      "text/plain": [
       "<IPython.core.display.HTML object>"
      ]
     },
     "metadata": {},
     "output_type": "display_data"
    },
    {
     "name": "stdout",
     "output_type": "stream",
     "text": [
      "eval loss: 0.18093367803167057 0.18093367803167057\n",
      "epoch: 14\n",
      "epoch: 14 loss: 0.12266299020717329\n"
     ]
    },
    {
     "data": {
      "text/html": [
       "\n",
       "    <div>\n",
       "        <style>\n",
       "            /* Turns off some styling */\n",
       "            progress {\n",
       "                /* gets rid of default border in Firefox and Opera. */\n",
       "                border: none;\n",
       "                /* Needs to be in here for Safari polyfill so background images work as expected. */\n",
       "                background-size: auto;\n",
       "            }\n",
       "            .progress-bar-interrupted, .progress-bar-interrupted::-webkit-progress-bar {\n",
       "                background: #F44336;\n",
       "            }\n",
       "        </style>\n",
       "      <progress value='12' class='' max='12' style='width:300px; height:20px; vertical-align: middle;'></progress>\n",
       "      100.00% [12/12 00:01<00:00]\n",
       "    </div>\n",
       "    "
      ],
      "text/plain": [
       "<IPython.core.display.HTML object>"
      ]
     },
     "metadata": {},
     "output_type": "display_data"
    },
    {
     "name": "stdout",
     "output_type": "stream",
     "text": [
      "eval loss: 0.1798740376026017 0.1798740376026017\n",
      "epoch: 15\n",
      "epoch: 15 loss: 0.1222302694092468\n"
     ]
    },
    {
     "data": {
      "text/html": [
       "\n",
       "    <div>\n",
       "        <style>\n",
       "            /* Turns off some styling */\n",
       "            progress {\n",
       "                /* gets rid of default border in Firefox and Opera. */\n",
       "                border: none;\n",
       "                /* Needs to be in here for Safari polyfill so background images work as expected. */\n",
       "                background-size: auto;\n",
       "            }\n",
       "            .progress-bar-interrupted, .progress-bar-interrupted::-webkit-progress-bar {\n",
       "                background: #F44336;\n",
       "            }\n",
       "        </style>\n",
       "      <progress value='12' class='' max='12' style='width:300px; height:20px; vertical-align: middle;'></progress>\n",
       "      100.00% [12/12 00:01<00:00]\n",
       "    </div>\n",
       "    "
      ],
      "text/plain": [
       "<IPython.core.display.HTML object>"
      ]
     },
     "metadata": {},
     "output_type": "display_data"
    },
    {
     "name": "stdout",
     "output_type": "stream",
     "text": [
      "eval loss: 0.17908077303576805 0.17908077303576805\n",
      "epoch: 16\n",
      "epoch: 16 loss: 0.11913387545037611\n"
     ]
    },
    {
     "data": {
      "text/html": [
       "\n",
       "    <div>\n",
       "        <style>\n",
       "            /* Turns off some styling */\n",
       "            progress {\n",
       "                /* gets rid of default border in Firefox and Opera. */\n",
       "                border: none;\n",
       "                /* Needs to be in here for Safari polyfill so background images work as expected. */\n",
       "                background-size: auto;\n",
       "            }\n",
       "            .progress-bar-interrupted, .progress-bar-interrupted::-webkit-progress-bar {\n",
       "                background: #F44336;\n",
       "            }\n",
       "        </style>\n",
       "      <progress value='12' class='' max='12' style='width:300px; height:20px; vertical-align: middle;'></progress>\n",
       "      100.00% [12/12 00:01<00:00]\n",
       "    </div>\n",
       "    "
      ],
      "text/plain": [
       "<IPython.core.display.HTML object>"
      ]
     },
     "metadata": {},
     "output_type": "display_data"
    },
    {
     "name": "stdout",
     "output_type": "stream",
     "text": [
      "eval loss: 0.1781599715705338 0.1781599715705338\n",
      "epoch: 17\n",
      "epoch: 17 loss: 0.11813534397828533\n",
      "eval loss: 0.178695277000764 0.178695277000764\n",
      "epoch: 18\n",
      "epoch: 18 loss: 0.11708432815596347\n",
      "eval loss: 0.1831002726788029 0.1831002726788029\n",
      "epoch: 19\n",
      "epoch: 19 loss: 0.11759032984322844\n",
      "eval loss: 0.18130748704642807 0.18130748704642807\n",
      "epoch: 20\n",
      "epoch: 20 loss: 0.11563558033379771\n"
     ]
    },
    {
     "data": {
      "text/html": [
       "\n",
       "    <div>\n",
       "        <style>\n",
       "            /* Turns off some styling */\n",
       "            progress {\n",
       "                /* gets rid of default border in Firefox and Opera. */\n",
       "                border: none;\n",
       "                /* Needs to be in here for Safari polyfill so background images work as expected. */\n",
       "                background-size: auto;\n",
       "            }\n",
       "            .progress-bar-interrupted, .progress-bar-interrupted::-webkit-progress-bar {\n",
       "                background: #F44336;\n",
       "            }\n",
       "        </style>\n",
       "      <progress value='12' class='' max='12' style='width:300px; height:20px; vertical-align: middle;'></progress>\n",
       "      100.00% [12/12 00:01<00:00]\n",
       "    </div>\n",
       "    "
      ],
      "text/plain": [
       "<IPython.core.display.HTML object>"
      ]
     },
     "metadata": {},
     "output_type": "display_data"
    },
    {
     "name": "stdout",
     "output_type": "stream",
     "text": [
      "eval loss: 0.1754833246895204 0.1754833246895204\n",
      "epoch: 21\n",
      "epoch: 21 loss: 0.1129364879723655\n"
     ]
    },
    {
     "data": {
      "text/html": [
       "\n",
       "    <div>\n",
       "        <style>\n",
       "            /* Turns off some styling */\n",
       "            progress {\n",
       "                /* gets rid of default border in Firefox and Opera. */\n",
       "                border: none;\n",
       "                /* Needs to be in here for Safari polyfill so background images work as expected. */\n",
       "                background-size: auto;\n",
       "            }\n",
       "            .progress-bar-interrupted, .progress-bar-interrupted::-webkit-progress-bar {\n",
       "                background: #F44336;\n",
       "            }\n",
       "        </style>\n",
       "      <progress value='12' class='' max='12' style='width:300px; height:20px; vertical-align: middle;'></progress>\n",
       "      100.00% [12/12 00:01<00:00]\n",
       "    </div>\n",
       "    "
      ],
      "text/plain": [
       "<IPython.core.display.HTML object>"
      ]
     },
     "metadata": {},
     "output_type": "display_data"
    },
    {
     "name": "stdout",
     "output_type": "stream",
     "text": [
      "eval loss: 0.174707550683067 0.174707550683067\n",
      "epoch: 22\n",
      "epoch: 22 loss: 0.11226242390359376\n",
      "eval loss: 0.17618780874913584 0.17618780874913584\n",
      "epoch: 23\n",
      "epoch: 23 loss: 0.11055970230145142\n",
      "eval loss: 0.17645639874265776 0.17645639874265776\n",
      "epoch: 24\n",
      "epoch: 24 loss: 0.11008776145012315\n"
     ]
    },
    {
     "data": {
      "text/html": [
       "\n",
       "    <div>\n",
       "        <style>\n",
       "            /* Turns off some styling */\n",
       "            progress {\n",
       "                /* gets rid of default border in Firefox and Opera. */\n",
       "                border: none;\n",
       "                /* Needs to be in here for Safari polyfill so background images work as expected. */\n",
       "                background-size: auto;\n",
       "            }\n",
       "            .progress-bar-interrupted, .progress-bar-interrupted::-webkit-progress-bar {\n",
       "                background: #F44336;\n",
       "            }\n",
       "        </style>\n",
       "      <progress value='12' class='' max='12' style='width:300px; height:20px; vertical-align: middle;'></progress>\n",
       "      100.00% [12/12 00:01<00:00]\n",
       "    </div>\n",
       "    "
      ],
      "text/plain": [
       "<IPython.core.display.HTML object>"
      ]
     },
     "metadata": {},
     "output_type": "display_data"
    },
    {
     "name": "stdout",
     "output_type": "stream",
     "text": [
      "eval loss: 0.1737559072420356 0.1737559072420356\n",
      "epoch: 25\n",
      "epoch: 25 loss: 0.1089280081223054\n",
      "eval loss: 0.17693402594702298 0.17693402594702298\n",
      "epoch: 26\n",
      "epoch: 26 loss: 0.10941675996057285\n",
      "eval loss: 0.17772387553385546 0.17772387553385546\n",
      "epoch: 27\n",
      "epoch: 27 loss: 0.10794523975225881\n",
      "eval loss: 0.17476435507893526 0.17476435507893526\n",
      "epoch: 28\n",
      "epoch: 28 loss: 0.10615883659307948\n",
      "eval loss: 0.1761021833247156 0.1761021833247156\n",
      "epoch: 29\n",
      "epoch: 29 loss: 0.10707101165868212\n"
     ]
    },
    {
     "data": {
      "text/html": [
       "\n",
       "    <div>\n",
       "        <style>\n",
       "            /* Turns off some styling */\n",
       "            progress {\n",
       "                /* gets rid of default border in Firefox and Opera. */\n",
       "                border: none;\n",
       "                /* Needs to be in here for Safari polyfill so background images work as expected. */\n",
       "                background-size: auto;\n",
       "            }\n",
       "            .progress-bar-interrupted, .progress-bar-interrupted::-webkit-progress-bar {\n",
       "                background: #F44336;\n",
       "            }\n",
       "        </style>\n",
       "      <progress value='12' class='' max='12' style='width:300px; height:20px; vertical-align: middle;'></progress>\n",
       "      100.00% [12/12 00:01<00:00]\n",
       "    </div>\n",
       "    "
      ],
      "text/plain": [
       "<IPython.core.display.HTML object>"
      ]
     },
     "metadata": {},
     "output_type": "display_data"
    },
    {
     "name": "stdout",
     "output_type": "stream",
     "text": [
      "eval loss: 0.17152393870530347 0.17152393870530347\n",
      "epoch: 30\n",
      "epoch: 30 loss: 0.10435483221640124\n",
      "eval loss: 0.17370674109743386 0.17370674109743386\n",
      "epoch: 31\n",
      "epoch: 31 loss: 0.10295937861369467\n"
     ]
    },
    {
     "data": {
      "text/html": [
       "\n",
       "    <div>\n",
       "        <style>\n",
       "            /* Turns off some styling */\n",
       "            progress {\n",
       "                /* gets rid of default border in Firefox and Opera. */\n",
       "                border: none;\n",
       "                /* Needs to be in here for Safari polyfill so background images work as expected. */\n",
       "                background-size: auto;\n",
       "            }\n",
       "            .progress-bar-interrupted, .progress-bar-interrupted::-webkit-progress-bar {\n",
       "                background: #F44336;\n",
       "            }\n",
       "        </style>\n",
       "      <progress value='12' class='' max='12' style='width:300px; height:20px; vertical-align: middle;'></progress>\n",
       "      100.00% [12/12 00:01<00:00]\n",
       "    </div>\n",
       "    "
      ],
      "text/plain": [
       "<IPython.core.display.HTML object>"
      ]
     },
     "metadata": {},
     "output_type": "display_data"
    },
    {
     "name": "stdout",
     "output_type": "stream",
     "text": [
      "eval loss: 0.17023480753725642 0.17023480753725642\n",
      "epoch: 32\n",
      "epoch: 32 loss: 0.10322636845937172\n",
      "eval loss: 0.17546844263630867 0.17546844263630867\n",
      "epoch: 33\n",
      "epoch: 33 loss: 0.10225380955721172\n"
     ]
    },
    {
     "data": {
      "text/html": [
       "\n",
       "    <div>\n",
       "        <style>\n",
       "            /* Turns off some styling */\n",
       "            progress {\n",
       "                /* gets rid of default border in Firefox and Opera. */\n",
       "                border: none;\n",
       "                /* Needs to be in here for Safari polyfill so background images work as expected. */\n",
       "                background-size: auto;\n",
       "            }\n",
       "            .progress-bar-interrupted, .progress-bar-interrupted::-webkit-progress-bar {\n",
       "                background: #F44336;\n",
       "            }\n",
       "        </style>\n",
       "      <progress value='12' class='' max='12' style='width:300px; height:20px; vertical-align: middle;'></progress>\n",
       "      100.00% [12/12 00:01<00:00]\n",
       "    </div>\n",
       "    "
      ],
      "text/plain": [
       "<IPython.core.display.HTML object>"
      ]
     },
     "metadata": {},
     "output_type": "display_data"
    },
    {
     "name": "stdout",
     "output_type": "stream",
     "text": [
      "eval loss: 0.16971413408323135 0.16971413408323135\n",
      "epoch: 34\n",
      "epoch: 34 loss: 0.10091511424274258\n",
      "eval loss: 0.17052755792771115 0.17052755792771115\n",
      "epoch: 35\n",
      "epoch: 35 loss: 0.10083998144543847\n",
      "eval loss: 0.17195656479876095 0.17195656479876095\n",
      "epoch: 36\n",
      "epoch: 36 loss: 0.09947084930752587\n"
     ]
    },
    {
     "data": {
      "text/html": [
       "\n",
       "    <div>\n",
       "        <style>\n",
       "            /* Turns off some styling */\n",
       "            progress {\n",
       "                /* gets rid of default border in Firefox and Opera. */\n",
       "                border: none;\n",
       "                /* Needs to be in here for Safari polyfill so background images work as expected. */\n",
       "                background-size: auto;\n",
       "            }\n",
       "            .progress-bar-interrupted, .progress-bar-interrupted::-webkit-progress-bar {\n",
       "                background: #F44336;\n",
       "            }\n",
       "        </style>\n",
       "      <progress value='12' class='' max='12' style='width:300px; height:20px; vertical-align: middle;'></progress>\n",
       "      100.00% [12/12 00:01<00:00]\n",
       "    </div>\n",
       "    "
      ],
      "text/plain": [
       "<IPython.core.display.HTML object>"
      ]
     },
     "metadata": {},
     "output_type": "display_data"
    },
    {
     "name": "stdout",
     "output_type": "stream",
     "text": [
      "eval loss: 0.16912314907606305 0.16912314907606305\n",
      "epoch: 37\n",
      "epoch: 37 loss: 0.09961113018179792\n",
      "eval loss: 0.1708776319274029 0.1708776319274029\n",
      "epoch: 38\n",
      "epoch: 38 loss: 0.09881032283505764\n",
      "eval loss: 0.1700948957383046 0.1700948957383046\n",
      "epoch: 39\n",
      "epoch: 39 loss: 0.09769001971489964\n"
     ]
    },
    {
     "data": {
      "text/html": [
       "\n",
       "    <div>\n",
       "        <style>\n",
       "            /* Turns off some styling */\n",
       "            progress {\n",
       "                /* gets rid of default border in Firefox and Opera. */\n",
       "                border: none;\n",
       "                /* Needs to be in here for Safari polyfill so background images work as expected. */\n",
       "                background-size: auto;\n",
       "            }\n",
       "            .progress-bar-interrupted, .progress-bar-interrupted::-webkit-progress-bar {\n",
       "                background: #F44336;\n",
       "            }\n",
       "        </style>\n",
       "      <progress value='12' class='' max='12' style='width:300px; height:20px; vertical-align: middle;'></progress>\n",
       "      100.00% [12/12 00:01<00:00]\n",
       "    </div>\n",
       "    "
      ],
      "text/plain": [
       "<IPython.core.display.HTML object>"
      ]
     },
     "metadata": {},
     "output_type": "display_data"
    },
    {
     "name": "stdout",
     "output_type": "stream",
     "text": [
      "eval loss: 0.16909186128357 0.16909186128357\n",
      "epoch: 40\n",
      "epoch: 40 loss: 0.09934352701196834\n",
      "eval loss: 0.16996266391997847 0.16996266391997847\n",
      "epoch: 41\n",
      "epoch: 41 loss: 0.0977964882321232\n",
      "eval loss: 0.17082077884554417 0.17082077884554417\n",
      "epoch: 42\n",
      "epoch: 42 loss: 0.09558555877728846\n",
      "eval loss: 0.17382652042060476 0.17382652042060476\n",
      "epoch: 43\n",
      "epoch: 43 loss: 0.09695991904248447\n",
      "eval loss: 0.1695977938917407 0.1695977938917407\n",
      "epoch: 44\n",
      "epoch: 44 loss: 0.0948977567657664\n",
      "eval loss: 0.17056169990335357 0.17056169990335357\n",
      "epoch: 45\n",
      "epoch: 45 loss: 0.09438416659642763\n"
     ]
    },
    {
     "data": {
      "text/html": [
       "\n",
       "    <div>\n",
       "        <style>\n",
       "            /* Turns off some styling */\n",
       "            progress {\n",
       "                /* gets rid of default border in Firefox and Opera. */\n",
       "                border: none;\n",
       "                /* Needs to be in here for Safari polyfill so background images work as expected. */\n",
       "                background-size: auto;\n",
       "            }\n",
       "            .progress-bar-interrupted, .progress-bar-interrupted::-webkit-progress-bar {\n",
       "                background: #F44336;\n",
       "            }\n",
       "        </style>\n",
       "      <progress value='12' class='' max='12' style='width:300px; height:20px; vertical-align: middle;'></progress>\n",
       "      100.00% [12/12 00:01<00:00]\n",
       "    </div>\n",
       "    "
      ],
      "text/plain": [
       "<IPython.core.display.HTML object>"
      ]
     },
     "metadata": {},
     "output_type": "display_data"
    },
    {
     "name": "stdout",
     "output_type": "stream",
     "text": [
      "eval loss: 0.16780385913307205 0.16780385913307205\n",
      "epoch: 46\n",
      "epoch: 46 loss: 0.0940434976483105\n",
      "eval loss: 0.16941299433991683 0.16941299433991683\n",
      "epoch: 47\n",
      "epoch: 47 loss: 0.09582586019629637\n",
      "eval loss: 0.17384103668098505 0.17384103668098505\n",
      "epoch: 48\n",
      "epoch: 48 loss: 0.09345339510426132\n"
     ]
    },
    {
     "data": {
      "text/html": [
       "\n",
       "    <div>\n",
       "        <style>\n",
       "            /* Turns off some styling */\n",
       "            progress {\n",
       "                /* gets rid of default border in Firefox and Opera. */\n",
       "                border: none;\n",
       "                /* Needs to be in here for Safari polyfill so background images work as expected. */\n",
       "                background-size: auto;\n",
       "            }\n",
       "            .progress-bar-interrupted, .progress-bar-interrupted::-webkit-progress-bar {\n",
       "                background: #F44336;\n",
       "            }\n",
       "        </style>\n",
       "      <progress value='12' class='' max='12' style='width:300px; height:20px; vertical-align: middle;'></progress>\n",
       "      100.00% [12/12 00:01<00:00]\n",
       "    </div>\n",
       "    "
      ],
      "text/plain": [
       "<IPython.core.display.HTML object>"
      ]
     },
     "metadata": {},
     "output_type": "display_data"
    },
    {
     "name": "stdout",
     "output_type": "stream",
     "text": [
      "eval loss: 0.16705090969380323 0.16705090969380323\n",
      "epoch: 49\n",
      "epoch: 49 loss: 0.09333363395975436\n",
      "eval loss: 0.16816359748958865 0.16816359748958865\n",
      "epoch: 50\n",
      "epoch: 50 loss: 0.0915125047722032\n",
      "eval loss: 0.1715363197066052 0.1715363197066052\n",
      "epoch: 51\n",
      "epoch: 51 loss: 0.09196094355084018\n",
      "eval loss: 0.16879078667562086 0.16879078667562086\n",
      "epoch: 52\n",
      "epoch: 52 loss: 0.09121006503056074\n",
      "eval loss: 0.16809554588281103 0.16809554588281103\n",
      "epoch: 53\n",
      "epoch: 53 loss: 0.09065609576240807\n",
      "eval loss: 0.16824491133019517 0.16824491133019517\n",
      "epoch: 54\n",
      "epoch: 54 loss: 0.08960289301198161\n",
      "eval loss: 0.1681247949767848 0.1681247949767848\n",
      "epoch: 55\n",
      "epoch: 55 loss: 0.08940061822038098\n",
      "eval loss: 0.16784916200122077 0.16784916200122077\n",
      "epoch: 56\n",
      "epoch: 56 loss: 0.08873138108023143\n",
      "eval loss: 0.16762196216191683 0.16762196216191683\n",
      "epoch: 57\n",
      "epoch: 57 loss: 0.08857182110286876\n",
      "eval loss: 0.1677130316541505 0.1677130316541505\n",
      "epoch: 58\n",
      "epoch: 58 loss: 0.08841058427864892\n",
      "eval loss: 0.1698116839478554 0.1698116839478554\n",
      "epoch: 59\n",
      "epoch: 59 loss: 0.08745242688734928\n",
      "eval loss: 0.16741834286495125 0.16741834286495125\n",
      "epoch: 60\n",
      "epoch: 60 loss: 0.09011755471348712\n"
     ]
    },
    {
     "data": {
      "text/html": [
       "\n",
       "    <div>\n",
       "        <style>\n",
       "            /* Turns off some styling */\n",
       "            progress {\n",
       "                /* gets rid of default border in Firefox and Opera. */\n",
       "                border: none;\n",
       "                /* Needs to be in here for Safari polyfill so background images work as expected. */\n",
       "                background-size: auto;\n",
       "            }\n",
       "            .progress-bar-interrupted, .progress-bar-interrupted::-webkit-progress-bar {\n",
       "                background: #F44336;\n",
       "            }\n",
       "        </style>\n",
       "      <progress value='12' class='' max='12' style='width:300px; height:20px; vertical-align: middle;'></progress>\n",
       "      100.00% [12/12 00:01<00:00]\n",
       "    </div>\n",
       "    "
      ],
      "text/plain": [
       "<IPython.core.display.HTML object>"
      ]
     },
     "metadata": {},
     "output_type": "display_data"
    },
    {
     "name": "stdout",
     "output_type": "stream",
     "text": [
      "eval loss: 0.1663051792894458 0.1663051792894458\n",
      "epoch: 61\n",
      "epoch: 61 loss: 0.08944719019771417\n",
      "eval loss: 0.1696566667993963 0.1696566667993963\n",
      "epoch: 62\n",
      "epoch: 62 loss: 0.08642617804232997\n",
      "eval loss: 0.16908808020120278 0.16908808020120278\n",
      "epoch: 63\n",
      "epoch: 63 loss: 0.08625787578011368\n",
      "eval loss: 0.16692832233173438 0.16692832233173438\n",
      "epoch: 64\n",
      "epoch: 64 loss: 0.08733205951446914\n",
      "eval loss: 0.1677540562652127 0.1677540562652127\n",
      "epoch: 65\n",
      "epoch: 65 loss: 0.0874776227393943\n",
      "eval loss: 0.1674159046409008 0.1674159046409008\n",
      "epoch: 66\n",
      "epoch: 66 loss: 0.08585916510593564\n"
     ]
    },
    {
     "data": {
      "text/html": [
       "\n",
       "    <div>\n",
       "        <style>\n",
       "            /* Turns off some styling */\n",
       "            progress {\n",
       "                /* gets rid of default border in Firefox and Opera. */\n",
       "                border: none;\n",
       "                /* Needs to be in here for Safari polyfill so background images work as expected. */\n",
       "                background-size: auto;\n",
       "            }\n",
       "            .progress-bar-interrupted, .progress-bar-interrupted::-webkit-progress-bar {\n",
       "                background: #F44336;\n",
       "            }\n",
       "        </style>\n",
       "      <progress value='12' class='' max='12' style='width:300px; height:20px; vertical-align: middle;'></progress>\n",
       "      100.00% [12/12 00:01<00:00]\n",
       "    </div>\n",
       "    "
      ],
      "text/plain": [
       "<IPython.core.display.HTML object>"
      ]
     },
     "metadata": {},
     "output_type": "display_data"
    },
    {
     "name": "stdout",
     "output_type": "stream",
     "text": [
      "eval loss: 0.16613025308070564 0.16613025308070564\n",
      "epoch: 67\n",
      "epoch: 67 loss: 0.08514389452086363\n",
      "eval loss: 0.1716490202961091 0.1716490202961091\n",
      "epoch: 68\n",
      "epoch: 68 loss: 0.0849435920346823\n",
      "eval loss: 0.16713317315194617 0.16713317315194617\n",
      "epoch: 69\n",
      "epoch: 69 loss: 0.08508734313579426\n",
      "eval loss: 0.1670510479027715 0.1670510479027715\n",
      "epoch: 70\n",
      "epoch: 70 loss: 0.08340131416735769\n",
      "eval loss: 0.16635935420834494 0.16635935420834494\n",
      "epoch: 71\n",
      "epoch: 71 loss: 0.08329726175323596\n",
      "eval loss: 0.16955118626350998 0.16955118626350998\n",
      "epoch: 72\n",
      "epoch: 72 loss: 0.0827129521357869\n",
      "eval loss: 0.16990481638168767 0.16990481638168767\n",
      "epoch: 73\n",
      "epoch: 73 loss: 0.08275736479318449\n",
      "eval loss: 0.1699732954309414 0.1699732954309414\n",
      "epoch: 74\n",
      "epoch: 74 loss: 0.08243687765382914\n",
      "eval loss: 0.166874593886675 0.166874593886675\n",
      "epoch: 75\n",
      "epoch: 75 loss: 0.08248753999659969\n"
     ]
    },
    {
     "data": {
      "text/html": [
       "\n",
       "    <div>\n",
       "        <style>\n",
       "            /* Turns off some styling */\n",
       "            progress {\n",
       "                /* gets rid of default border in Firefox and Opera. */\n",
       "                border: none;\n",
       "                /* Needs to be in here for Safari polyfill so background images work as expected. */\n",
       "                background-size: auto;\n",
       "            }\n",
       "            .progress-bar-interrupted, .progress-bar-interrupted::-webkit-progress-bar {\n",
       "                background: #F44336;\n",
       "            }\n",
       "        </style>\n",
       "      <progress value='12' class='' max='12' style='width:300px; height:20px; vertical-align: middle;'></progress>\n",
       "      100.00% [12/12 00:01<00:00]\n",
       "    </div>\n",
       "    "
      ],
      "text/plain": [
       "<IPython.core.display.HTML object>"
      ]
     },
     "metadata": {},
     "output_type": "display_data"
    },
    {
     "name": "stdout",
     "output_type": "stream",
     "text": [
      "eval loss: 0.16565628525040713 0.16565628525040713\n",
      "epoch: 76\n",
      "epoch: 76 loss: 0.08161745057667087\n",
      "eval loss: 0.1675997476552431 0.1675997476552431\n",
      "epoch: 77\n",
      "epoch: 77 loss: 0.08136534271801228\n",
      "eval loss: 0.170714211912019 0.170714211912019\n",
      "epoch: 78\n",
      "epoch: 78 loss: 0.08174062068913056\n",
      "eval loss: 0.16839165353243724 0.16839165353243724\n",
      "epoch: 79\n",
      "epoch: 79 loss: 0.0809452966954849\n",
      "eval loss: 0.16715949514621423 0.16715949514621423\n",
      "epoch: 80\n",
      "epoch: 80 loss: 0.08170804079121097\n",
      "eval loss: 0.167671106140475 0.167671106140475\n",
      "epoch: 81\n",
      "epoch: 81 loss: 0.08060521520726623\n",
      "eval loss: 0.16803889227491184 0.16803889227491184\n",
      "epoch: 82\n",
      "epoch: 82 loss: 0.0814364122799837\n",
      "eval loss: 0.1697330195936664 0.1697330195936664\n",
      "epoch: 83\n",
      "epoch: 83 loss: 0.08088895336144203\n",
      "eval loss: 0.1722072690799968 0.1722072690799968\n",
      "epoch: 84\n",
      "epoch: 84 loss: 0.07999444333326144\n",
      "eval loss: 0.1713323796909432 0.1713323796909432\n",
      "epoch: 85\n",
      "epoch: 85 loss: 0.08006504453325859\n",
      "eval loss: 0.16736781137281542 0.16736781137281542\n",
      "epoch: 86\n",
      "epoch: 86 loss: 0.07952776307064577\n",
      "eval loss: 0.16850518198346243 0.16850518198346243\n",
      "epoch: 87\n",
      "epoch: 87 loss: 0.07841711530149306\n",
      "eval loss: 0.16994905313624 0.16994905313624\n",
      "epoch: 88\n",
      "epoch: 88 loss: 0.0776577559958748\n",
      "eval loss: 0.16789567887608467 0.16789567887608467\n",
      "epoch: 89\n",
      "epoch: 89 loss: 0.07864689666140824\n",
      "eval loss: 0.1682040447171893 0.1682040447171893\n",
      "epoch: 90\n",
      "epoch: 90 loss: 0.07838151445113567\n",
      "eval loss: 0.16777167732011888 0.16777167732011888\n",
      "epoch: 91\n",
      "epoch: 91 loss: 0.07784743366279122\n",
      "eval loss: 0.1684980560219829 0.1684980560219829\n",
      "epoch: 92\n",
      "epoch: 92 loss: 0.07791668023637571\n",
      "eval loss: 0.1702104259693057 0.1702104259693057\n",
      "epoch: 93\n",
      "epoch: 93 loss: 0.07722644472348363\n",
      "eval loss: 0.17062561812592725 0.17062561812592725\n",
      "epoch: 94\n",
      "epoch: 94 loss: 0.07843543077175189\n",
      "eval loss: 0.1680444510291538 0.1680444510291538\n",
      "epoch: 95\n",
      "epoch: 95 loss: 0.07704064044787474\n",
      "eval loss: 0.16863990013458208 0.16863990013458208\n",
      "epoch: 96\n",
      "epoch: 96 loss: 0.07659255833680825\n",
      "eval loss: 0.1692059287790009 0.1692059287790009\n",
      "epoch: 97\n",
      "epoch: 97 loss: 0.07647562318775142\n",
      "eval loss: 0.16770901782853223 0.16770901782853223\n",
      "epoch: 98\n",
      "epoch: 98 loss: 0.07606206195857021\n",
      "eval loss: 0.17531726886564702 0.17531726886564702\n",
      "epoch: 99\n",
      "epoch: 99 loss: 0.07560368879274475\n",
      "eval loss: 0.16728924720083713 0.16728924720083713\n",
      "epoch: 100\n",
      "epoch: 100 loss: 0.07518964929114268\n",
      "eval loss: 0.16845176426038774 0.16845176426038774\n",
      "epoch: 101\n",
      "epoch: 101 loss: 0.2817185053149901\n",
      "eval loss: 0.396545012311701 0.396545012311701\n",
      "epoch: 102\n",
      "epoch: 102 loss: 0.3590862975171323\n",
      "eval loss: 0.38644339015619544 0.38644339015619544\n",
      "epoch: 103\n",
      "epoch: 103 loss: 0.35551337652224035\n",
      "eval loss: 0.3932997132553602 0.3932997132553602\n",
      "epoch: 104\n",
      "epoch: 104 loss: 0.3546070647065234\n",
      "eval loss: 0.38477088619495775 0.38477088619495775\n",
      "epoch: 105\n",
      "epoch: 105 loss: 0.35367643965889517\n",
      "eval loss: 0.3853001942454852 0.3853001942454852\n",
      "epoch: 106\n",
      "epoch: 106 loss: 0.34749563080669904\n",
      "eval loss: 0.3770891000938917 0.3770891000938917\n",
      "epoch: 107\n",
      "epoch: 107 loss: 0.3449348260567852\n",
      "eval loss: 0.37772885635435666 0.37772885635435666\n",
      "epoch: 108\n",
      "epoch: 108 loss: 0.34286918069326533\n",
      "eval loss: 0.373227990514218 0.373227990514218\n",
      "epoch: 109\n",
      "epoch: 109 loss: 0.3417727187111451\n",
      "eval loss: 0.37291887312017463 0.37291887312017463\n",
      "epoch: 110\n",
      "epoch: 110 loss: 0.3408973483938042\n",
      "eval loss: 0.37237880173526827 0.37237880173526827\n",
      "epoch: 111\n",
      "epoch: 111 loss: 0.3403716070677183\n",
      "eval loss: 0.3741720276805502 0.3741720276805502\n",
      "epoch: 112\n",
      "epoch: 112 loss: 0.33956114182493224\n",
      "eval loss: 0.36885456173389636 0.36885456173389636\n",
      "epoch: 113\n",
      "epoch: 113 loss: 0.33849371015919416\n",
      "eval loss: 0.3710013413669708 0.3710013413669708\n",
      "epoch: 114\n",
      "epoch: 114 loss: 0.33780694909807\n",
      "eval loss: 0.3686600348288298 0.3686600348288298\n",
      "epoch: 115\n",
      "epoch: 115 loss: 0.33994161818587976\n",
      "eval loss: 0.37622472329551854 0.37622472329551854\n",
      "epoch: 116\n",
      "epoch: 116 loss: 0.3401278318605217\n",
      "eval loss: 0.37218934822116223 0.37218934822116223\n",
      "epoch: 117\n",
      "epoch: 117 loss: 0.3406586411466996\n",
      "eval loss: 0.3704290729186601 0.3704290729186601\n",
      "epoch: 118\n",
      "epoch: 118 loss: 0.3386178412841707\n",
      "eval loss: 0.3717643310654258 0.3717643310654258\n",
      "epoch: 119\n",
      "epoch: 119 loss: 0.33844527303592026\n",
      "eval loss: 0.3784011951938458 0.3784011951938458\n",
      "epoch: 120\n",
      "epoch: 120 loss: 0.3441173914132423\n",
      "eval loss: 0.3727867188553832 0.3727867188553832\n",
      "epoch: 121\n",
      "epoch: 121 loss: 0.3417918004902472\n",
      "eval loss: 0.3750320020651366 0.3750320020651366\n",
      "epoch: 122\n",
      "epoch: 122 loss: 0.3416496384738261\n",
      "eval loss: 0.37565929530233194 0.37565929530233194\n",
      "epoch: 123\n",
      "epoch: 123 loss: 0.3414349370651321\n",
      "eval loss: 0.37136037685316453 0.37136037685316453\n",
      "epoch: 124\n",
      "epoch: 124 loss: 0.3394691796264473\n",
      "eval loss: 0.36974847854874465 0.36974847854874465\n",
      "epoch: 125\n",
      "epoch: 125 loss: 0.3399419062677094\n",
      "eval loss: 0.37273784560618844 0.37273784560618844\n",
      "epoch: 126\n",
      "epoch: 126 loss: 0.33888538932888346\n",
      "eval loss: 0.37273349533778716 0.37273349533778716\n",
      "epoch: 127\n",
      "epoch: 127 loss: 0.338810420744147\n",
      "eval loss: 0.36917133657477247 0.36917133657477247\n",
      "epoch: 128\n",
      "epoch: 128 loss: 0.3378491191702057\n",
      "eval loss: 0.36651080953511067 0.36651080953511067\n",
      "epoch: 129\n",
      "epoch: 129 loss: 0.33926824933091476\n",
      "eval loss: 0.37043935197602496 0.37043935197602496\n",
      "epoch: 130\n",
      "epoch: 130 loss: 0.33749454139555135\n",
      "eval loss: 0.3683768672237946 0.3683768672237946\n",
      "epoch: 131\n",
      "epoch: 131 loss: 0.33702403315753465\n",
      "eval loss: 0.369662336867441 0.369662336867441\n",
      "epoch: 132\n",
      "epoch: 132 loss: 0.3364522200676978\n",
      "eval loss: 0.36659855525220597 0.36659855525220597\n",
      "epoch: 133\n",
      "epoch: 133 loss: 0.3384969853825828\n",
      "eval loss: 0.3693161544088775 0.3693161544088775\n",
      "epoch: 134\n",
      "epoch: 134 loss: 0.3375403575139643\n",
      "eval loss: 0.3748011147926607 0.3748011147926607\n",
      "epoch: 135\n",
      "epoch: 135 loss: 0.33717927997130115\n",
      "eval loss: 0.37124468417087814 0.37124468417087814\n",
      "epoch: 136\n",
      "epoch: 136 loss: 0.33622486425459297\n",
      "eval loss: 0.36804541720612866 0.36804541720612866\n",
      "epoch: 137\n",
      "epoch: 137 loss: 0.3354832495438647\n",
      "eval loss: 0.3668601087278586 0.3668601087278586\n",
      "epoch: 138\n",
      "epoch: 138 loss: 0.3347423508185921\n",
      "eval loss: 0.36624232668948387 0.36624232668948387\n",
      "epoch: 139\n",
      "epoch: 139 loss: 0.3359637179668155\n",
      "eval loss: 0.3679709858100186 0.3679709858100186\n",
      "epoch: 140\n",
      "epoch: 140 loss: 0.3342103190497249\n",
      "eval loss: 0.3676827212064366 0.3676827212064366\n",
      "epoch: 141\n",
      "epoch: 141 loss: 0.3346534528559509\n",
      "eval loss: 0.37195386036268413 0.37195386036268413\n",
      "epoch: 142\n",
      "epoch: 142 loss: 0.33467694749628335\n",
      "eval loss: 0.37084622825230884 0.37084622825230884\n",
      "epoch: 143\n",
      "epoch: 143 loss: 0.33398492117683903\n",
      "eval loss: 0.3716124072902114 0.3716124072902114\n",
      "epoch: 144\n",
      "epoch: 144 loss: 0.33505340771876024\n",
      "eval loss: 0.3654560004533673 0.3654560004533673\n",
      "epoch: 145\n",
      "epoch: 145 loss: 0.33491894360293173\n",
      "eval loss: 0.3688136490502947 0.3688136490502947\n",
      "epoch: 146\n",
      "epoch: 146 loss: 0.33477258348719635\n",
      "eval loss: 0.3679378428943471 0.3679378428943471\n",
      "epoch: 147\n",
      "epoch: 147 loss: 0.3364724065431198\n",
      "eval loss: 0.36907170202114475 0.36907170202114475\n",
      "epoch: 148\n",
      "epoch: 148 loss: 0.3356667057612612\n",
      "eval loss: 0.36741466051499483 0.36741466051499483\n",
      "epoch: 149\n",
      "epoch: 149 loss: 0.3341142530989908\n",
      "eval loss: 0.36623271653492484 0.36623271653492484\n",
      "min eval loss: 0.16565628525040713 min mcrmse: 0.16565628525040713 epoch 75\n",
      "fold: 4\n",
      "(1, 107, 107, 3)\n",
      "(1, 107, 107, 3)\n",
      "(3046, 23) (761, 23)\n",
      "(1, 130, 130, 3)\n",
      "(1, 130, 130, 3)\n",
      "(2404, 16) (601, 16)\n",
      "device: cuda:1\n"
     ]
    },
    {
     "data": {
      "text/html": [
       "\n",
       "    <div>\n",
       "        <style>\n",
       "            /* Turns off some styling */\n",
       "            progress {\n",
       "                /* gets rid of default border in Firefox and Opera. */\n",
       "                border: none;\n",
       "                /* Needs to be in here for Safari polyfill so background images work as expected. */\n",
       "                background-size: auto;\n",
       "            }\n",
       "            .progress-bar-interrupted, .progress-bar-interrupted::-webkit-progress-bar {\n",
       "                background: #F44336;\n",
       "            }\n",
       "        </style>\n",
       "      <progress value='150' class='' max='150' style='width:300px; height:20px; vertical-align: middle;'></progress>\n",
       "      100.00% [150/150 1:16:12<00:00]\n",
       "    </div>\n",
       "    "
      ],
      "text/plain": [
       "<IPython.core.display.HTML object>"
      ]
     },
     "metadata": {},
     "output_type": "display_data"
    },
    {
     "name": "stdout",
     "output_type": "stream",
     "text": [
      "epoch: 0\n",
      "epoch: 0 loss: 0.2915149955695964\n"
     ]
    },
    {
     "data": {
      "text/html": [
       "\n",
       "    <div>\n",
       "        <style>\n",
       "            /* Turns off some styling */\n",
       "            progress {\n",
       "                /* gets rid of default border in Firefox and Opera. */\n",
       "                border: none;\n",
       "                /* Needs to be in here for Safari polyfill so background images work as expected. */\n",
       "                background-size: auto;\n",
       "            }\n",
       "            .progress-bar-interrupted, .progress-bar-interrupted::-webkit-progress-bar {\n",
       "                background: #F44336;\n",
       "            }\n",
       "        </style>\n",
       "      <progress value='12' class='' max='12' style='width:300px; height:20px; vertical-align: middle;'></progress>\n",
       "      100.00% [12/12 00:01<00:00]\n",
       "    </div>\n",
       "    "
      ],
      "text/plain": [
       "<IPython.core.display.HTML object>"
      ]
     },
     "metadata": {},
     "output_type": "display_data"
    },
    {
     "name": "stdout",
     "output_type": "stream",
     "text": [
      "eval loss: 0.2651013919832455 0.2651013919832455\n",
      "epoch: 1\n",
      "epoch: 1 loss: 0.21261025195870084\n"
     ]
    },
    {
     "data": {
      "text/html": [
       "\n",
       "    <div>\n",
       "        <style>\n",
       "            /* Turns off some styling */\n",
       "            progress {\n",
       "                /* gets rid of default border in Firefox and Opera. */\n",
       "                border: none;\n",
       "                /* Needs to be in here for Safari polyfill so background images work as expected. */\n",
       "                background-size: auto;\n",
       "            }\n",
       "            .progress-bar-interrupted, .progress-bar-interrupted::-webkit-progress-bar {\n",
       "                background: #F44336;\n",
       "            }\n",
       "        </style>\n",
       "      <progress value='12' class='' max='12' style='width:300px; height:20px; vertical-align: middle;'></progress>\n",
       "      100.00% [12/12 00:01<00:00]\n",
       "    </div>\n",
       "    "
      ],
      "text/plain": [
       "<IPython.core.display.HTML object>"
      ]
     },
     "metadata": {},
     "output_type": "display_data"
    },
    {
     "name": "stdout",
     "output_type": "stream",
     "text": [
      "eval loss: 0.24125434040981023 0.24125434040981023\n",
      "epoch: 2\n",
      "epoch: 2 loss: 0.19100319551979233\n"
     ]
    },
    {
     "data": {
      "text/html": [
       "\n",
       "    <div>\n",
       "        <style>\n",
       "            /* Turns off some styling */\n",
       "            progress {\n",
       "                /* gets rid of default border in Firefox and Opera. */\n",
       "                border: none;\n",
       "                /* Needs to be in here for Safari polyfill so background images work as expected. */\n",
       "                background-size: auto;\n",
       "            }\n",
       "            .progress-bar-interrupted, .progress-bar-interrupted::-webkit-progress-bar {\n",
       "                background: #F44336;\n",
       "            }\n",
       "        </style>\n",
       "      <progress value='12' class='' max='12' style='width:300px; height:20px; vertical-align: middle;'></progress>\n",
       "      100.00% [12/12 00:01<00:00]\n",
       "    </div>\n",
       "    "
      ],
      "text/plain": [
       "<IPython.core.display.HTML object>"
      ]
     },
     "metadata": {},
     "output_type": "display_data"
    },
    {
     "name": "stdout",
     "output_type": "stream",
     "text": [
      "eval loss: 0.22575255483439371 0.22575255483439371\n",
      "epoch: 3\n",
      "epoch: 3 loss: 0.17725571448570318\n"
     ]
    },
    {
     "data": {
      "text/html": [
       "\n",
       "    <div>\n",
       "        <style>\n",
       "            /* Turns off some styling */\n",
       "            progress {\n",
       "                /* gets rid of default border in Firefox and Opera. */\n",
       "                border: none;\n",
       "                /* Needs to be in here for Safari polyfill so background images work as expected. */\n",
       "                background-size: auto;\n",
       "            }\n",
       "            .progress-bar-interrupted, .progress-bar-interrupted::-webkit-progress-bar {\n",
       "                background: #F44336;\n",
       "            }\n",
       "        </style>\n",
       "      <progress value='12' class='' max='12' style='width:300px; height:20px; vertical-align: middle;'></progress>\n",
       "      100.00% [12/12 00:01<00:00]\n",
       "    </div>\n",
       "    "
      ],
      "text/plain": [
       "<IPython.core.display.HTML object>"
      ]
     },
     "metadata": {},
     "output_type": "display_data"
    },
    {
     "name": "stdout",
     "output_type": "stream",
     "text": [
      "eval loss: 0.22448871734472675 0.22448871734472675\n",
      "epoch: 4\n",
      "epoch: 4 loss: 0.16682449782594705\n"
     ]
    },
    {
     "data": {
      "text/html": [
       "\n",
       "    <div>\n",
       "        <style>\n",
       "            /* Turns off some styling */\n",
       "            progress {\n",
       "                /* gets rid of default border in Firefox and Opera. */\n",
       "                border: none;\n",
       "                /* Needs to be in here for Safari polyfill so background images work as expected. */\n",
       "                background-size: auto;\n",
       "            }\n",
       "            .progress-bar-interrupted, .progress-bar-interrupted::-webkit-progress-bar {\n",
       "                background: #F44336;\n",
       "            }\n",
       "        </style>\n",
       "      <progress value='12' class='' max='12' style='width:300px; height:20px; vertical-align: middle;'></progress>\n",
       "      100.00% [12/12 00:01<00:00]\n",
       "    </div>\n",
       "    "
      ],
      "text/plain": [
       "<IPython.core.display.HTML object>"
      ]
     },
     "metadata": {},
     "output_type": "display_data"
    },
    {
     "name": "stdout",
     "output_type": "stream",
     "text": [
      "eval loss: 0.2041298729948632 0.2041298729948632\n",
      "epoch: 5\n",
      "epoch: 5 loss: 0.1585320417382682\n"
     ]
    },
    {
     "data": {
      "text/html": [
       "\n",
       "    <div>\n",
       "        <style>\n",
       "            /* Turns off some styling */\n",
       "            progress {\n",
       "                /* gets rid of default border in Firefox and Opera. */\n",
       "                border: none;\n",
       "                /* Needs to be in here for Safari polyfill so background images work as expected. */\n",
       "                background-size: auto;\n",
       "            }\n",
       "            .progress-bar-interrupted, .progress-bar-interrupted::-webkit-progress-bar {\n",
       "                background: #F44336;\n",
       "            }\n",
       "        </style>\n",
       "      <progress value='12' class='' max='12' style='width:300px; height:20px; vertical-align: middle;'></progress>\n",
       "      100.00% [12/12 00:01<00:00]\n",
       "    </div>\n",
       "    "
      ],
      "text/plain": [
       "<IPython.core.display.HTML object>"
      ]
     },
     "metadata": {},
     "output_type": "display_data"
    },
    {
     "name": "stdout",
     "output_type": "stream",
     "text": [
      "eval loss: 0.20189635204109002 0.20189635204109002\n",
      "epoch: 6\n",
      "epoch: 6 loss: 0.15053350560698947\n"
     ]
    },
    {
     "data": {
      "text/html": [
       "\n",
       "    <div>\n",
       "        <style>\n",
       "            /* Turns off some styling */\n",
       "            progress {\n",
       "                /* gets rid of default border in Firefox and Opera. */\n",
       "                border: none;\n",
       "                /* Needs to be in here for Safari polyfill so background images work as expected. */\n",
       "                background-size: auto;\n",
       "            }\n",
       "            .progress-bar-interrupted, .progress-bar-interrupted::-webkit-progress-bar {\n",
       "                background: #F44336;\n",
       "            }\n",
       "        </style>\n",
       "      <progress value='12' class='' max='12' style='width:300px; height:20px; vertical-align: middle;'></progress>\n",
       "      100.00% [12/12 00:01<00:00]\n",
       "    </div>\n",
       "    "
      ],
      "text/plain": [
       "<IPython.core.display.HTML object>"
      ]
     },
     "metadata": {},
     "output_type": "display_data"
    },
    {
     "name": "stdout",
     "output_type": "stream",
     "text": [
      "eval loss: 0.19530392429902635 0.19530392429902635\n",
      "epoch: 7\n",
      "epoch: 7 loss: 0.14522926632725647\n"
     ]
    },
    {
     "data": {
      "text/html": [
       "\n",
       "    <div>\n",
       "        <style>\n",
       "            /* Turns off some styling */\n",
       "            progress {\n",
       "                /* gets rid of default border in Firefox and Opera. */\n",
       "                border: none;\n",
       "                /* Needs to be in here for Safari polyfill so background images work as expected. */\n",
       "                background-size: auto;\n",
       "            }\n",
       "            .progress-bar-interrupted, .progress-bar-interrupted::-webkit-progress-bar {\n",
       "                background: #F44336;\n",
       "            }\n",
       "        </style>\n",
       "      <progress value='12' class='' max='12' style='width:300px; height:20px; vertical-align: middle;'></progress>\n",
       "      100.00% [12/12 00:01<00:00]\n",
       "    </div>\n",
       "    "
      ],
      "text/plain": [
       "<IPython.core.display.HTML object>"
      ]
     },
     "metadata": {},
     "output_type": "display_data"
    },
    {
     "name": "stdout",
     "output_type": "stream",
     "text": [
      "eval loss: 0.1914787932150289 0.1914787932150289\n",
      "epoch: 8\n",
      "epoch: 8 loss: 0.14101900632877068\n"
     ]
    },
    {
     "data": {
      "text/html": [
       "\n",
       "    <div>\n",
       "        <style>\n",
       "            /* Turns off some styling */\n",
       "            progress {\n",
       "                /* gets rid of default border in Firefox and Opera. */\n",
       "                border: none;\n",
       "                /* Needs to be in here for Safari polyfill so background images work as expected. */\n",
       "                background-size: auto;\n",
       "            }\n",
       "            .progress-bar-interrupted, .progress-bar-interrupted::-webkit-progress-bar {\n",
       "                background: #F44336;\n",
       "            }\n",
       "        </style>\n",
       "      <progress value='12' class='' max='12' style='width:300px; height:20px; vertical-align: middle;'></progress>\n",
       "      100.00% [12/12 00:01<00:00]\n",
       "    </div>\n",
       "    "
      ],
      "text/plain": [
       "<IPython.core.display.HTML object>"
      ]
     },
     "metadata": {},
     "output_type": "display_data"
    },
    {
     "name": "stdout",
     "output_type": "stream",
     "text": [
      "eval loss: 0.1879505855493732 0.1879505855493732\n",
      "epoch: 9\n",
      "epoch: 9 loss: 0.13852495531608136\n"
     ]
    },
    {
     "data": {
      "text/html": [
       "\n",
       "    <div>\n",
       "        <style>\n",
       "            /* Turns off some styling */\n",
       "            progress {\n",
       "                /* gets rid of default border in Firefox and Opera. */\n",
       "                border: none;\n",
       "                /* Needs to be in here for Safari polyfill so background images work as expected. */\n",
       "                background-size: auto;\n",
       "            }\n",
       "            .progress-bar-interrupted, .progress-bar-interrupted::-webkit-progress-bar {\n",
       "                background: #F44336;\n",
       "            }\n",
       "        </style>\n",
       "      <progress value='12' class='' max='12' style='width:300px; height:20px; vertical-align: middle;'></progress>\n",
       "      100.00% [12/12 00:01<00:00]\n",
       "    </div>\n",
       "    "
      ],
      "text/plain": [
       "<IPython.core.display.HTML object>"
      ]
     },
     "metadata": {},
     "output_type": "display_data"
    },
    {
     "name": "stdout",
     "output_type": "stream",
     "text": [
      "eval loss: 0.18481601886861668 0.18481601886861668\n",
      "epoch: 10\n",
      "epoch: 10 loss: 0.1346759094795216\n"
     ]
    },
    {
     "data": {
      "text/html": [
       "\n",
       "    <div>\n",
       "        <style>\n",
       "            /* Turns off some styling */\n",
       "            progress {\n",
       "                /* gets rid of default border in Firefox and Opera. */\n",
       "                border: none;\n",
       "                /* Needs to be in here for Safari polyfill so background images work as expected. */\n",
       "                background-size: auto;\n",
       "            }\n",
       "            .progress-bar-interrupted, .progress-bar-interrupted::-webkit-progress-bar {\n",
       "                background: #F44336;\n",
       "            }\n",
       "        </style>\n",
       "      <progress value='12' class='' max='12' style='width:300px; height:20px; vertical-align: middle;'></progress>\n",
       "      100.00% [12/12 00:01<00:00]\n",
       "    </div>\n",
       "    "
      ],
      "text/plain": [
       "<IPython.core.display.HTML object>"
      ]
     },
     "metadata": {},
     "output_type": "display_data"
    },
    {
     "name": "stdout",
     "output_type": "stream",
     "text": [
      "eval loss: 0.18232446709778993 0.18232446709778993\n",
      "epoch: 11\n",
      "epoch: 11 loss: 0.13106428985533466\n",
      "eval loss: 0.18516814541832094 0.18516814541832094\n",
      "epoch: 12\n",
      "epoch: 12 loss: 0.12824936565289968\n"
     ]
    },
    {
     "data": {
      "text/html": [
       "\n",
       "    <div>\n",
       "        <style>\n",
       "            /* Turns off some styling */\n",
       "            progress {\n",
       "                /* gets rid of default border in Firefox and Opera. */\n",
       "                border: none;\n",
       "                /* Needs to be in here for Safari polyfill so background images work as expected. */\n",
       "                background-size: auto;\n",
       "            }\n",
       "            .progress-bar-interrupted, .progress-bar-interrupted::-webkit-progress-bar {\n",
       "                background: #F44336;\n",
       "            }\n",
       "        </style>\n",
       "      <progress value='12' class='' max='12' style='width:300px; height:20px; vertical-align: middle;'></progress>\n",
       "      100.00% [12/12 00:01<00:00]\n",
       "    </div>\n",
       "    "
      ],
      "text/plain": [
       "<IPython.core.display.HTML object>"
      ]
     },
     "metadata": {},
     "output_type": "display_data"
    },
    {
     "name": "stdout",
     "output_type": "stream",
     "text": [
      "eval loss: 0.17937822849646023 0.17937822849646023\n",
      "epoch: 13\n",
      "epoch: 13 loss: 0.12598104354931444\n",
      "eval loss: 0.18323478229830228 0.18323478229830228\n",
      "epoch: 14\n",
      "epoch: 14 loss: 0.1251505846385419\n"
     ]
    },
    {
     "data": {
      "text/html": [
       "\n",
       "    <div>\n",
       "        <style>\n",
       "            /* Turns off some styling */\n",
       "            progress {\n",
       "                /* gets rid of default border in Firefox and Opera. */\n",
       "                border: none;\n",
       "                /* Needs to be in here for Safari polyfill so background images work as expected. */\n",
       "                background-size: auto;\n",
       "            }\n",
       "            .progress-bar-interrupted, .progress-bar-interrupted::-webkit-progress-bar {\n",
       "                background: #F44336;\n",
       "            }\n",
       "        </style>\n",
       "      <progress value='12' class='' max='12' style='width:300px; height:20px; vertical-align: middle;'></progress>\n",
       "      100.00% [12/12 00:01<00:00]\n",
       "    </div>\n",
       "    "
      ],
      "text/plain": [
       "<IPython.core.display.HTML object>"
      ]
     },
     "metadata": {},
     "output_type": "display_data"
    },
    {
     "name": "stdout",
     "output_type": "stream",
     "text": [
      "eval loss: 0.17774776680035173 0.17774776680035173\n",
      "epoch: 15\n",
      "epoch: 15 loss: 0.12263800215779216\n"
     ]
    },
    {
     "data": {
      "text/html": [
       "\n",
       "    <div>\n",
       "        <style>\n",
       "            /* Turns off some styling */\n",
       "            progress {\n",
       "                /* gets rid of default border in Firefox and Opera. */\n",
       "                border: none;\n",
       "                /* Needs to be in here for Safari polyfill so background images work as expected. */\n",
       "                background-size: auto;\n",
       "            }\n",
       "            .progress-bar-interrupted, .progress-bar-interrupted::-webkit-progress-bar {\n",
       "                background: #F44336;\n",
       "            }\n",
       "        </style>\n",
       "      <progress value='12' class='' max='12' style='width:300px; height:20px; vertical-align: middle;'></progress>\n",
       "      100.00% [12/12 00:01<00:00]\n",
       "    </div>\n",
       "    "
      ],
      "text/plain": [
       "<IPython.core.display.HTML object>"
      ]
     },
     "metadata": {},
     "output_type": "display_data"
    },
    {
     "name": "stdout",
     "output_type": "stream",
     "text": [
      "eval loss: 0.1757689311655691 0.1757689311655691\n",
      "epoch: 16\n",
      "epoch: 16 loss: 0.1214548597227272\n"
     ]
    },
    {
     "data": {
      "text/html": [
       "\n",
       "    <div>\n",
       "        <style>\n",
       "            /* Turns off some styling */\n",
       "            progress {\n",
       "                /* gets rid of default border in Firefox and Opera. */\n",
       "                border: none;\n",
       "                /* Needs to be in here for Safari polyfill so background images work as expected. */\n",
       "                background-size: auto;\n",
       "            }\n",
       "            .progress-bar-interrupted, .progress-bar-interrupted::-webkit-progress-bar {\n",
       "                background: #F44336;\n",
       "            }\n",
       "        </style>\n",
       "      <progress value='12' class='' max='12' style='width:300px; height:20px; vertical-align: middle;'></progress>\n",
       "      100.00% [12/12 00:01<00:00]\n",
       "    </div>\n",
       "    "
      ],
      "text/plain": [
       "<IPython.core.display.HTML object>"
      ]
     },
     "metadata": {},
     "output_type": "display_data"
    },
    {
     "name": "stdout",
     "output_type": "stream",
     "text": [
      "eval loss: 0.17559124628677683 0.17559124628677683\n",
      "epoch: 17\n",
      "epoch: 17 loss: 0.1192278091877343\n"
     ]
    },
    {
     "data": {
      "text/html": [
       "\n",
       "    <div>\n",
       "        <style>\n",
       "            /* Turns off some styling */\n",
       "            progress {\n",
       "                /* gets rid of default border in Firefox and Opera. */\n",
       "                border: none;\n",
       "                /* Needs to be in here for Safari polyfill so background images work as expected. */\n",
       "                background-size: auto;\n",
       "            }\n",
       "            .progress-bar-interrupted, .progress-bar-interrupted::-webkit-progress-bar {\n",
       "                background: #F44336;\n",
       "            }\n",
       "        </style>\n",
       "      <progress value='12' class='' max='12' style='width:300px; height:20px; vertical-align: middle;'></progress>\n",
       "      100.00% [12/12 00:01<00:00]\n",
       "    </div>\n",
       "    "
      ],
      "text/plain": [
       "<IPython.core.display.HTML object>"
      ]
     },
     "metadata": {},
     "output_type": "display_data"
    },
    {
     "name": "stdout",
     "output_type": "stream",
     "text": [
      "eval loss: 0.17318201951316167 0.17318201951316167\n",
      "epoch: 18\n",
      "epoch: 18 loss: 0.11769021194373576\n",
      "eval loss: 0.17485812835790382 0.17485812835790382\n",
      "epoch: 19\n",
      "epoch: 19 loss: 0.11789992496007136\n",
      "eval loss: 0.1755170271431945 0.1755170271431945\n",
      "epoch: 20\n",
      "epoch: 20 loss: 0.11543535104995431\n",
      "eval loss: 0.17382008310277922 0.17382008310277922\n",
      "epoch: 21\n",
      "epoch: 21 loss: 0.11444372521404632\n"
     ]
    },
    {
     "data": {
      "text/html": [
       "\n",
       "    <div>\n",
       "        <style>\n",
       "            /* Turns off some styling */\n",
       "            progress {\n",
       "                /* gets rid of default border in Firefox and Opera. */\n",
       "                border: none;\n",
       "                /* Needs to be in here for Safari polyfill so background images work as expected. */\n",
       "                background-size: auto;\n",
       "            }\n",
       "            .progress-bar-interrupted, .progress-bar-interrupted::-webkit-progress-bar {\n",
       "                background: #F44336;\n",
       "            }\n",
       "        </style>\n",
       "      <progress value='12' class='' max='12' style='width:300px; height:20px; vertical-align: middle;'></progress>\n",
       "      100.00% [12/12 00:01<00:00]\n",
       "    </div>\n",
       "    "
      ],
      "text/plain": [
       "<IPython.core.display.HTML object>"
      ]
     },
     "metadata": {},
     "output_type": "display_data"
    },
    {
     "name": "stdout",
     "output_type": "stream",
     "text": [
      "eval loss: 0.1708763960256684 0.1708763960256684\n",
      "epoch: 22\n",
      "epoch: 22 loss: 0.1125238330972912\n",
      "eval loss: 0.17134562984068738 0.17134562984068738\n",
      "epoch: 23\n",
      "epoch: 23 loss: 0.11253885532049845\n",
      "eval loss: 0.1732820446559649 0.1732820446559649\n",
      "epoch: 24\n",
      "epoch: 24 loss: 0.1113166045019456\n"
     ]
    },
    {
     "data": {
      "text/html": [
       "\n",
       "    <div>\n",
       "        <style>\n",
       "            /* Turns off some styling */\n",
       "            progress {\n",
       "                /* gets rid of default border in Firefox and Opera. */\n",
       "                border: none;\n",
       "                /* Needs to be in here for Safari polyfill so background images work as expected. */\n",
       "                background-size: auto;\n",
       "            }\n",
       "            .progress-bar-interrupted, .progress-bar-interrupted::-webkit-progress-bar {\n",
       "                background: #F44336;\n",
       "            }\n",
       "        </style>\n",
       "      <progress value='12' class='' max='12' style='width:300px; height:20px; vertical-align: middle;'></progress>\n",
       "      100.00% [12/12 00:01<00:00]\n",
       "    </div>\n",
       "    "
      ],
      "text/plain": [
       "<IPython.core.display.HTML object>"
      ]
     },
     "metadata": {},
     "output_type": "display_data"
    },
    {
     "name": "stdout",
     "output_type": "stream",
     "text": [
      "eval loss: 0.16885493979416524 0.16885493979416524\n",
      "epoch: 25\n",
      "epoch: 25 loss: 0.11013268075879465\n",
      "eval loss: 0.1704434618473759 0.1704434618473759\n",
      "epoch: 26\n",
      "epoch: 26 loss: 0.10939009471332811\n",
      "eval loss: 0.1697487332008527 0.1697487332008527\n",
      "epoch: 27\n",
      "epoch: 27 loss: 0.10872900971042071\n",
      "eval loss: 0.17000105688894465 0.17000105688894465\n",
      "epoch: 28\n",
      "epoch: 28 loss: 0.10726177264222857\n"
     ]
    },
    {
     "data": {
      "text/html": [
       "\n",
       "    <div>\n",
       "        <style>\n",
       "            /* Turns off some styling */\n",
       "            progress {\n",
       "                /* gets rid of default border in Firefox and Opera. */\n",
       "                border: none;\n",
       "                /* Needs to be in here for Safari polyfill so background images work as expected. */\n",
       "                background-size: auto;\n",
       "            }\n",
       "            .progress-bar-interrupted, .progress-bar-interrupted::-webkit-progress-bar {\n",
       "                background: #F44336;\n",
       "            }\n",
       "        </style>\n",
       "      <progress value='12' class='' max='12' style='width:300px; height:20px; vertical-align: middle;'></progress>\n",
       "      100.00% [12/12 00:01<00:00]\n",
       "    </div>\n",
       "    "
      ],
      "text/plain": [
       "<IPython.core.display.HTML object>"
      ]
     },
     "metadata": {},
     "output_type": "display_data"
    },
    {
     "name": "stdout",
     "output_type": "stream",
     "text": [
      "eval loss: 0.16833815427114096 0.16833815427114096\n",
      "epoch: 29\n",
      "epoch: 29 loss: 0.10590655637215295\n"
     ]
    },
    {
     "data": {
      "text/html": [
       "\n",
       "    <div>\n",
       "        <style>\n",
       "            /* Turns off some styling */\n",
       "            progress {\n",
       "                /* gets rid of default border in Firefox and Opera. */\n",
       "                border: none;\n",
       "                /* Needs to be in here for Safari polyfill so background images work as expected. */\n",
       "                background-size: auto;\n",
       "            }\n",
       "            .progress-bar-interrupted, .progress-bar-interrupted::-webkit-progress-bar {\n",
       "                background: #F44336;\n",
       "            }\n",
       "        </style>\n",
       "      <progress value='12' class='' max='12' style='width:300px; height:20px; vertical-align: middle;'></progress>\n",
       "      100.00% [12/12 00:01<00:00]\n",
       "    </div>\n",
       "    "
      ],
      "text/plain": [
       "<IPython.core.display.HTML object>"
      ]
     },
     "metadata": {},
     "output_type": "display_data"
    },
    {
     "name": "stdout",
     "output_type": "stream",
     "text": [
      "eval loss: 0.1672125336826309 0.1672125336826309\n",
      "epoch: 30\n",
      "epoch: 30 loss: 0.10456544918811998\n"
     ]
    },
    {
     "data": {
      "text/html": [
       "\n",
       "    <div>\n",
       "        <style>\n",
       "            /* Turns off some styling */\n",
       "            progress {\n",
       "                /* gets rid of default border in Firefox and Opera. */\n",
       "                border: none;\n",
       "                /* Needs to be in here for Safari polyfill so background images work as expected. */\n",
       "                background-size: auto;\n",
       "            }\n",
       "            .progress-bar-interrupted, .progress-bar-interrupted::-webkit-progress-bar {\n",
       "                background: #F44336;\n",
       "            }\n",
       "        </style>\n",
       "      <progress value='12' class='' max='12' style='width:300px; height:20px; vertical-align: middle;'></progress>\n",
       "      100.00% [12/12 00:01<00:00]\n",
       "    </div>\n",
       "    "
      ],
      "text/plain": [
       "<IPython.core.display.HTML object>"
      ]
     },
     "metadata": {},
     "output_type": "display_data"
    },
    {
     "name": "stdout",
     "output_type": "stream",
     "text": [
      "eval loss: 0.16680973611929603 0.16680973611929603\n",
      "epoch: 31\n",
      "epoch: 31 loss: 0.10502823883875692\n",
      "eval loss: 0.169708927564853 0.169708927564853\n",
      "epoch: 32\n",
      "epoch: 32 loss: 0.10466228478295346\n",
      "eval loss: 0.16805249134529424 0.16805249134529424\n",
      "epoch: 33\n",
      "epoch: 33 loss: 0.10379878127015409\n",
      "eval loss: 0.16793926848785845 0.16793926848785845\n",
      "epoch: 34\n",
      "epoch: 34 loss: 0.10275607880275506\n",
      "eval loss: 0.16899202676975125 0.16899202676975125\n",
      "epoch: 35\n",
      "epoch: 35 loss: 0.10106303513694924\n"
     ]
    },
    {
     "data": {
      "text/html": [
       "\n",
       "    <div>\n",
       "        <style>\n",
       "            /* Turns off some styling */\n",
       "            progress {\n",
       "                /* gets rid of default border in Firefox and Opera. */\n",
       "                border: none;\n",
       "                /* Needs to be in here for Safari polyfill so background images work as expected. */\n",
       "                background-size: auto;\n",
       "            }\n",
       "            .progress-bar-interrupted, .progress-bar-interrupted::-webkit-progress-bar {\n",
       "                background: #F44336;\n",
       "            }\n",
       "        </style>\n",
       "      <progress value='12' class='' max='12' style='width:300px; height:20px; vertical-align: middle;'></progress>\n",
       "      100.00% [12/12 00:01<00:00]\n",
       "    </div>\n",
       "    "
      ],
      "text/plain": [
       "<IPython.core.display.HTML object>"
      ]
     },
     "metadata": {},
     "output_type": "display_data"
    },
    {
     "name": "stdout",
     "output_type": "stream",
     "text": [
      "eval loss: 0.16588203558397674 0.16588203558397674\n",
      "epoch: 36\n",
      "epoch: 36 loss: 0.10129905696754643\n",
      "eval loss: 0.16675824855526108 0.16675824855526108\n",
      "epoch: 37\n",
      "epoch: 37 loss: 0.09918566497826647\n",
      "eval loss: 0.1666178494367155 0.1666178494367155\n",
      "epoch: 38\n",
      "epoch: 38 loss: 0.09961219761414729\n",
      "eval loss: 0.16608005186340588 0.16608005186340588\n",
      "epoch: 39\n",
      "epoch: 39 loss: 0.09965742619651703\n"
     ]
    },
    {
     "data": {
      "text/html": [
       "\n",
       "    <div>\n",
       "        <style>\n",
       "            /* Turns off some styling */\n",
       "            progress {\n",
       "                /* gets rid of default border in Firefox and Opera. */\n",
       "                border: none;\n",
       "                /* Needs to be in here for Safari polyfill so background images work as expected. */\n",
       "                background-size: auto;\n",
       "            }\n",
       "            .progress-bar-interrupted, .progress-bar-interrupted::-webkit-progress-bar {\n",
       "                background: #F44336;\n",
       "            }\n",
       "        </style>\n",
       "      <progress value='12' class='' max='12' style='width:300px; height:20px; vertical-align: middle;'></progress>\n",
       "      100.00% [12/12 00:01<00:00]\n",
       "    </div>\n",
       "    "
      ],
      "text/plain": [
       "<IPython.core.display.HTML object>"
      ]
     },
     "metadata": {},
     "output_type": "display_data"
    },
    {
     "name": "stdout",
     "output_type": "stream",
     "text": [
      "eval loss: 0.16488907907414788 0.16488907907414788\n",
      "epoch: 40\n",
      "epoch: 40 loss: 0.09783773119102845\n",
      "eval loss: 0.16529280266480914 0.16529280266480914\n",
      "epoch: 41\n",
      "epoch: 41 loss: 0.09668438742818887\n",
      "eval loss: 0.16502624625602702 0.16502624625602702\n",
      "epoch: 42\n",
      "epoch: 42 loss: 0.09632655568322761\n",
      "eval loss: 0.16537683642899134 0.16537683642899134\n",
      "epoch: 43\n",
      "epoch: 43 loss: 0.0972176709638243\n",
      "eval loss: 0.16504900778302084 0.16504900778302084\n",
      "epoch: 44\n",
      "epoch: 44 loss: 0.09708896461444047\n",
      "eval loss: 0.1667988983254716 0.1667988983254716\n",
      "epoch: 45\n",
      "epoch: 45 loss: 0.09477534670163137\n",
      "eval loss: 0.1678816745972432 0.1678816745972432\n",
      "epoch: 46\n",
      "epoch: 46 loss: 0.09657393378458276\n"
     ]
    },
    {
     "data": {
      "text/html": [
       "\n",
       "    <div>\n",
       "        <style>\n",
       "            /* Turns off some styling */\n",
       "            progress {\n",
       "                /* gets rid of default border in Firefox and Opera. */\n",
       "                border: none;\n",
       "                /* Needs to be in here for Safari polyfill so background images work as expected. */\n",
       "                background-size: auto;\n",
       "            }\n",
       "            .progress-bar-interrupted, .progress-bar-interrupted::-webkit-progress-bar {\n",
       "                background: #F44336;\n",
       "            }\n",
       "        </style>\n",
       "      <progress value='12' class='' max='12' style='width:300px; height:20px; vertical-align: middle;'></progress>\n",
       "      100.00% [12/12 00:01<00:00]\n",
       "    </div>\n",
       "    "
      ],
      "text/plain": [
       "<IPython.core.display.HTML object>"
      ]
     },
     "metadata": {},
     "output_type": "display_data"
    },
    {
     "name": "stdout",
     "output_type": "stream",
     "text": [
      "eval loss: 0.16487641162894745 0.16487641162894745\n",
      "epoch: 47\n",
      "epoch: 47 loss: 0.09650614777024207\n"
     ]
    },
    {
     "data": {
      "text/html": [
       "\n",
       "    <div>\n",
       "        <style>\n",
       "            /* Turns off some styling */\n",
       "            progress {\n",
       "                /* gets rid of default border in Firefox and Opera. */\n",
       "                border: none;\n",
       "                /* Needs to be in here for Safari polyfill so background images work as expected. */\n",
       "                background-size: auto;\n",
       "            }\n",
       "            .progress-bar-interrupted, .progress-bar-interrupted::-webkit-progress-bar {\n",
       "                background: #F44336;\n",
       "            }\n",
       "        </style>\n",
       "      <progress value='12' class='' max='12' style='width:300px; height:20px; vertical-align: middle;'></progress>\n",
       "      100.00% [12/12 00:01<00:00]\n",
       "    </div>\n",
       "    "
      ],
      "text/plain": [
       "<IPython.core.display.HTML object>"
      ]
     },
     "metadata": {},
     "output_type": "display_data"
    },
    {
     "name": "stdout",
     "output_type": "stream",
     "text": [
      "eval loss: 0.16338028267641594 0.16338028267641594\n",
      "epoch: 48\n",
      "epoch: 48 loss: 0.09333501403979504\n"
     ]
    },
    {
     "data": {
      "text/html": [
       "\n",
       "    <div>\n",
       "        <style>\n",
       "            /* Turns off some styling */\n",
       "            progress {\n",
       "                /* gets rid of default border in Firefox and Opera. */\n",
       "                border: none;\n",
       "                /* Needs to be in here for Safari polyfill so background images work as expected. */\n",
       "                background-size: auto;\n",
       "            }\n",
       "            .progress-bar-interrupted, .progress-bar-interrupted::-webkit-progress-bar {\n",
       "                background: #F44336;\n",
       "            }\n",
       "        </style>\n",
       "      <progress value='12' class='' max='12' style='width:300px; height:20px; vertical-align: middle;'></progress>\n",
       "      100.00% [12/12 00:01<00:00]\n",
       "    </div>\n",
       "    "
      ],
      "text/plain": [
       "<IPython.core.display.HTML object>"
      ]
     },
     "metadata": {},
     "output_type": "display_data"
    },
    {
     "name": "stdout",
     "output_type": "stream",
     "text": [
      "eval loss: 0.16275318489416915 0.16275318489416915\n",
      "epoch: 49\n",
      "epoch: 49 loss: 0.09423255203367925\n",
      "eval loss: 0.16716502998050417 0.16716502998050417\n",
      "epoch: 50\n",
      "epoch: 50 loss: 0.09216191677816922\n",
      "eval loss: 0.163313597871277 0.163313597871277\n",
      "epoch: 51\n",
      "epoch: 51 loss: 0.092063543445322\n",
      "eval loss: 0.16302260851240663 0.16302260851240663\n",
      "epoch: 52\n",
      "epoch: 52 loss: 0.0930640347787958\n",
      "eval loss: 0.16675889981725345 0.16675889981725345\n",
      "epoch: 53\n",
      "epoch: 53 loss: 0.0919933049783522\n",
      "eval loss: 0.16667839298198925 0.16667839298198925\n",
      "epoch: 54\n",
      "epoch: 54 loss: 0.09099090864699665\n",
      "eval loss: 0.167342112060737 0.167342112060737\n",
      "epoch: 55\n",
      "epoch: 55 loss: 0.0908735365762644\n"
     ]
    },
    {
     "data": {
      "text/html": [
       "\n",
       "    <div>\n",
       "        <style>\n",
       "            /* Turns off some styling */\n",
       "            progress {\n",
       "                /* gets rid of default border in Firefox and Opera. */\n",
       "                border: none;\n",
       "                /* Needs to be in here for Safari polyfill so background images work as expected. */\n",
       "                background-size: auto;\n",
       "            }\n",
       "            .progress-bar-interrupted, .progress-bar-interrupted::-webkit-progress-bar {\n",
       "                background: #F44336;\n",
       "            }\n",
       "        </style>\n",
       "      <progress value='12' class='' max='12' style='width:300px; height:20px; vertical-align: middle;'></progress>\n",
       "      100.00% [12/12 00:01<00:00]\n",
       "    </div>\n",
       "    "
      ],
      "text/plain": [
       "<IPython.core.display.HTML object>"
      ]
     },
     "metadata": {},
     "output_type": "display_data"
    },
    {
     "name": "stdout",
     "output_type": "stream",
     "text": [
      "eval loss: 0.16247049371780578 0.16247049371780578\n",
      "epoch: 56\n",
      "epoch: 56 loss: 0.09016928304918656\n"
     ]
    },
    {
     "data": {
      "text/html": [
       "\n",
       "    <div>\n",
       "        <style>\n",
       "            /* Turns off some styling */\n",
       "            progress {\n",
       "                /* gets rid of default border in Firefox and Opera. */\n",
       "                border: none;\n",
       "                /* Needs to be in here for Safari polyfill so background images work as expected. */\n",
       "                background-size: auto;\n",
       "            }\n",
       "            .progress-bar-interrupted, .progress-bar-interrupted::-webkit-progress-bar {\n",
       "                background: #F44336;\n",
       "            }\n",
       "        </style>\n",
       "      <progress value='12' class='' max='12' style='width:300px; height:20px; vertical-align: middle;'></progress>\n",
       "      100.00% [12/12 00:01<00:00]\n",
       "    </div>\n",
       "    "
      ],
      "text/plain": [
       "<IPython.core.display.HTML object>"
      ]
     },
     "metadata": {},
     "output_type": "display_data"
    },
    {
     "name": "stdout",
     "output_type": "stream",
     "text": [
      "eval loss: 0.16228038513450624 0.16228038513450624\n",
      "epoch: 57\n",
      "epoch: 57 loss: 0.0887125525562936\n",
      "eval loss: 0.16509418817028165 0.16509418817028165\n",
      "epoch: 58\n",
      "epoch: 58 loss: 0.08967807136862234\n",
      "eval loss: 0.16326157067929833 0.16326157067929833\n",
      "epoch: 59\n",
      "epoch: 59 loss: 0.09340627013772389\n",
      "eval loss: 0.16459933326527187 0.16459933326527187\n",
      "epoch: 60\n",
      "epoch: 60 loss: 0.09062865157671643\n",
      "eval loss: 0.1640413692934521 0.1640413692934521\n",
      "epoch: 61\n",
      "epoch: 61 loss: 0.08908713700380533\n",
      "eval loss: 0.1629358352540209 0.1629358352540209\n",
      "epoch: 62\n",
      "epoch: 62 loss: 0.08858021406721504\n",
      "eval loss: 0.163507350273373 0.163507350273373\n",
      "epoch: 63\n",
      "epoch: 63 loss: 0.08719879276535082\n"
     ]
    },
    {
     "data": {
      "text/html": [
       "\n",
       "    <div>\n",
       "        <style>\n",
       "            /* Turns off some styling */\n",
       "            progress {\n",
       "                /* gets rid of default border in Firefox and Opera. */\n",
       "                border: none;\n",
       "                /* Needs to be in here for Safari polyfill so background images work as expected. */\n",
       "                background-size: auto;\n",
       "            }\n",
       "            .progress-bar-interrupted, .progress-bar-interrupted::-webkit-progress-bar {\n",
       "                background: #F44336;\n",
       "            }\n",
       "        </style>\n",
       "      <progress value='12' class='' max='12' style='width:300px; height:20px; vertical-align: middle;'></progress>\n",
       "      100.00% [12/12 00:01<00:00]\n",
       "    </div>\n",
       "    "
      ],
      "text/plain": [
       "<IPython.core.display.HTML object>"
      ]
     },
     "metadata": {},
     "output_type": "display_data"
    },
    {
     "name": "stdout",
     "output_type": "stream",
     "text": [
      "eval loss: 0.1616144785568587 0.1616144785568587\n",
      "epoch: 64\n",
      "epoch: 64 loss: 0.08667113755912595\n",
      "eval loss: 0.16514213374970058 0.16514213374970058\n",
      "epoch: 65\n",
      "epoch: 65 loss: 0.08614668949504073\n",
      "eval loss: 0.16265384236147787 0.16265384236147787\n",
      "epoch: 66\n",
      "epoch: 66 loss: 0.08562281452058883\n",
      "eval loss: 0.16362618353684052 0.16362618353684052\n",
      "epoch: 67\n",
      "epoch: 67 loss: 0.08460358598412955\n",
      "eval loss: 0.1644209336514047 0.1644209336514047\n",
      "epoch: 68\n",
      "epoch: 68 loss: 0.0848064645627343\n"
     ]
    },
    {
     "data": {
      "text/html": [
       "\n",
       "    <div>\n",
       "        <style>\n",
       "            /* Turns off some styling */\n",
       "            progress {\n",
       "                /* gets rid of default border in Firefox and Opera. */\n",
       "                border: none;\n",
       "                /* Needs to be in here for Safari polyfill so background images work as expected. */\n",
       "                background-size: auto;\n",
       "            }\n",
       "            .progress-bar-interrupted, .progress-bar-interrupted::-webkit-progress-bar {\n",
       "                background: #F44336;\n",
       "            }\n",
       "        </style>\n",
       "      <progress value='12' class='' max='12' style='width:300px; height:20px; vertical-align: middle;'></progress>\n",
       "      100.00% [12/12 00:01<00:00]\n",
       "    </div>\n",
       "    "
      ],
      "text/plain": [
       "<IPython.core.display.HTML object>"
      ]
     },
     "metadata": {},
     "output_type": "display_data"
    },
    {
     "name": "stdout",
     "output_type": "stream",
     "text": [
      "eval loss: 0.16142933778782279 0.16142933778782279\n",
      "epoch: 69\n",
      "epoch: 69 loss: 0.08371413586108961\n",
      "eval loss: 0.16310666112236716 0.16310666112236716\n",
      "epoch: 70\n",
      "epoch: 70 loss: 0.08522664940118867\n",
      "eval loss: 0.16179916626330162 0.16179916626330162\n",
      "epoch: 71\n",
      "epoch: 71 loss: 0.08422335897124342\n",
      "eval loss: 0.16264296837514386 0.16264296837514386\n",
      "epoch: 72\n",
      "epoch: 72 loss: 0.08281282986183057\n",
      "eval loss: 0.1635028932634329 0.1635028932634329\n",
      "epoch: 73\n",
      "epoch: 73 loss: 0.08329071394404083\n",
      "eval loss: 0.16428739695683034 0.16428739695683034\n",
      "epoch: 74\n",
      "epoch: 74 loss: 0.08300791362809655\n",
      "eval loss: 0.1648388226673769 0.1648388226673769\n",
      "epoch: 75\n",
      "epoch: 75 loss: 0.08213866807615874\n",
      "eval loss: 0.1650974273057287 0.1650974273057287\n",
      "epoch: 76\n",
      "epoch: 76 loss: 0.08636800151943835\n",
      "eval loss: 0.16300509337945998 0.16300509337945998\n",
      "epoch: 77\n",
      "epoch: 77 loss: 0.08490529265653811\n",
      "eval loss: 0.1659781371055881 0.1659781371055881\n",
      "epoch: 78\n",
      "epoch: 78 loss: 0.08273538265432578\n",
      "eval loss: 0.1637187647627174 0.1637187647627174\n",
      "epoch: 79\n",
      "epoch: 79 loss: 0.08165706729672727\n",
      "eval loss: 0.1615063823080544 0.1615063823080544\n",
      "epoch: 80\n",
      "epoch: 80 loss: 0.08305855295171787\n",
      "eval loss: 0.1625087276925688 0.1625087276925688\n",
      "epoch: 81\n",
      "epoch: 81 loss: 0.0813534910949866\n",
      "eval loss: 0.16476688802959852 0.16476688802959852\n",
      "epoch: 82\n",
      "epoch: 82 loss: 0.08014457017663178\n",
      "eval loss: 0.16590718154480552 0.16590718154480552\n",
      "epoch: 83\n",
      "epoch: 83 loss: 0.08137773045972702\n",
      "eval loss: 0.16195315123187165 0.16195315123187165\n",
      "epoch: 84\n",
      "epoch: 84 loss: 0.07991468427884008\n",
      "eval loss: 0.16328223314044996 0.16328223314044996\n",
      "epoch: 85\n",
      "epoch: 85 loss: 0.07956659461213954\n",
      "eval loss: 0.16241757680109856 0.16241757680109856\n",
      "epoch: 86\n",
      "epoch: 86 loss: 0.0798041741089594\n",
      "eval loss: 0.1641187720264757 0.1641187720264757\n",
      "epoch: 87\n",
      "epoch: 87 loss: 0.079507064778879\n",
      "eval loss: 0.16168594584138338 0.16168594584138338\n",
      "epoch: 88\n",
      "epoch: 88 loss: 0.07997221981137713\n",
      "eval loss: 0.16376108242895948 0.16376108242895948\n",
      "epoch: 89\n",
      "epoch: 89 loss: 0.0791209614038106\n",
      "eval loss: 0.164221242656906 0.164221242656906\n",
      "epoch: 90\n",
      "epoch: 90 loss: 0.07811157846620301\n",
      "eval loss: 0.1619068111358187 0.1619068111358187\n",
      "epoch: 91\n",
      "epoch: 91 loss: 0.07880805320361943\n",
      "eval loss: 0.16546101694143045 0.16546101694143045\n",
      "epoch: 92\n",
      "epoch: 92 loss: 0.0777102707963344\n",
      "eval loss: 0.16501802169472043 0.16501802169472043\n",
      "epoch: 93\n",
      "epoch: 93 loss: 0.07714441076701\n",
      "eval loss: 0.16535129673346724 0.16535129673346724\n",
      "epoch: 94\n",
      "epoch: 94 loss: 0.07887902515264857\n",
      "eval loss: 0.16390881471854202 0.16390881471854202\n",
      "epoch: 95\n",
      "epoch: 95 loss: 0.07729414115027321\n",
      "eval loss: 0.16460213802890153 0.16460213802890153\n",
      "epoch: 96\n",
      "epoch: 96 loss: 0.07831300216624178\n",
      "eval loss: 0.1622055160801014 0.1622055160801014\n",
      "epoch: 97\n",
      "epoch: 97 loss: 0.07685076307501172\n",
      "eval loss: 0.16440981678237046 0.16440981678237046\n",
      "epoch: 98\n",
      "epoch: 98 loss: 0.0768473619060192\n",
      "eval loss: 0.1642580702733013 0.1642580702733013\n",
      "epoch: 99\n",
      "epoch: 99 loss: 0.07722927287571267\n",
      "eval loss: 0.16190821222369253 0.16190821222369253\n",
      "epoch: 100\n",
      "epoch: 100 loss: 0.0782333927389628\n",
      "eval loss: 0.16404616689305346 0.16404616689305346\n",
      "epoch: 101\n",
      "epoch: 101 loss: 0.07594399088403257\n",
      "eval loss: 0.1687998707668343 0.1687998707668343\n",
      "epoch: 102\n",
      "epoch: 102 loss: 0.07615825851165053\n",
      "eval loss: 0.16528141658764128 0.16528141658764128\n",
      "epoch: 103\n",
      "epoch: 103 loss: 0.07498186891319054\n",
      "eval loss: 0.16318037924406256 0.16318037924406256\n",
      "epoch: 104\n",
      "epoch: 104 loss: 0.0752130720856169\n",
      "eval loss: 0.16486146117046702 0.16486146117046702\n",
      "epoch: 105\n",
      "epoch: 105 loss: 0.07484182887883012\n",
      "eval loss: 0.16521038883159755 0.16521038883159755\n",
      "epoch: 106\n",
      "epoch: 106 loss: 0.07506949543414917\n",
      "eval loss: 0.1648596592079013 0.1648596592079013\n",
      "epoch: 107\n",
      "epoch: 107 loss: 0.07578925077234647\n",
      "eval loss: 0.16522013767115803 0.16522013767115803\n",
      "epoch: 108\n",
      "epoch: 108 loss: 0.07687507442194623\n",
      "eval loss: 0.16885595533518627 0.16885595533518627\n",
      "epoch: 109\n",
      "epoch: 109 loss: 0.08808630964136234\n",
      "eval loss: 0.5354667244564141 0.5354667244564141\n",
      "epoch: 110\n",
      "epoch: 110 loss: 0.3651791143735132\n",
      "eval loss: 0.4318499048830702 0.4318499048830702\n",
      "epoch: 111\n",
      "epoch: 111 loss: 0.3367163080680703\n",
      "eval loss: 0.3837288896197031 0.3837288896197031\n",
      "epoch: 112\n",
      "epoch: 112 loss: 0.3403796472938323\n",
      "eval loss: 0.3536939336830711 0.3536939336830711\n",
      "epoch: 113\n",
      "epoch: 113 loss: 0.31579711683941547\n",
      "eval loss: 0.3455265402501842 0.3455265402501842\n",
      "epoch: 114\n",
      "epoch: 114 loss: 0.30911854044857157\n",
      "eval loss: 0.3455062120594159 0.3455062120594159\n",
      "epoch: 115\n",
      "epoch: 115 loss: 0.3171819641313948\n",
      "eval loss: 0.3551745016146242 0.3551745016146242\n",
      "epoch: 116\n",
      "epoch: 116 loss: 0.3185963236071145\n",
      "eval loss: 0.3577705516051704 0.3577705516051704\n",
      "epoch: 117\n",
      "epoch: 117 loss: 0.32225811994213216\n",
      "eval loss: 0.3525599004908691 0.3525599004908691\n",
      "epoch: 118\n",
      "epoch: 118 loss: 0.32060298256500575\n",
      "eval loss: 0.3477666167143812 0.3477666167143812\n",
      "epoch: 119\n",
      "epoch: 119 loss: 0.3198421109128502\n",
      "eval loss: 0.3433594759371996 0.3433594759371996\n",
      "epoch: 120\n",
      "epoch: 120 loss: 0.31415278832772026\n",
      "eval loss: 0.34884553240638844 0.34884553240638844\n",
      "epoch: 121\n",
      "epoch: 121 loss: 0.30575198342764415\n",
      "eval loss: 0.3479232840503681 0.3479232840503681\n",
      "epoch: 122\n",
      "epoch: 122 loss: 0.31080647882925205\n",
      "eval loss: 0.36905153103995375 0.36905153103995375\n",
      "epoch: 123\n",
      "epoch: 123 loss: 0.32051339835659454\n",
      "eval loss: 0.3374602735762289 0.3374602735762289\n",
      "epoch: 124\n",
      "epoch: 124 loss: 0.3021424928530257\n",
      "eval loss: 0.3383565226151992 0.3383565226151992\n",
      "epoch: 125\n",
      "epoch: 125 loss: 0.2995541363104339\n",
      "eval loss: 0.33532711868285164 0.33532711868285164\n",
      "epoch: 126\n",
      "epoch: 126 loss: 0.2964819587297766\n",
      "eval loss: 0.3302769032025463 0.3302769032025463\n",
      "epoch: 127\n",
      "epoch: 127 loss: 0.29211070461663324\n",
      "eval loss: 0.32744708808480966 0.32744708808480966\n",
      "epoch: 128\n",
      "epoch: 128 loss: 0.2926240289908997\n",
      "eval loss: 0.3303195430124761 0.3303195430124761\n",
      "epoch: 129\n",
      "epoch: 129 loss: 0.2898483468272274\n",
      "eval loss: 0.3244080055926205 0.3244080055926205\n",
      "epoch: 130\n",
      "epoch: 130 loss: 0.2862633655970079\n",
      "eval loss: 0.3308364745682524 0.3308364745682524\n",
      "epoch: 131\n",
      "epoch: 131 loss: 0.2911162590931211\n",
      "eval loss: 0.32884546236897433 0.32884546236897433\n",
      "epoch: 132\n",
      "epoch: 132 loss: 0.2914004714771951\n",
      "eval loss: 0.330818040687009 0.330818040687009\n",
      "epoch: 133\n",
      "epoch: 133 loss: 0.2902864724630977\n",
      "eval loss: 0.3224450222994612 0.3224450222994612\n",
      "epoch: 134\n",
      "epoch: 134 loss: 0.2891141666880773\n",
      "eval loss: 0.32466133912829687 0.32466133912829687\n",
      "epoch: 135\n",
      "epoch: 135 loss: 0.2840795147730439\n",
      "eval loss: 0.31878695478249447 0.31878695478249447\n",
      "epoch: 136\n",
      "epoch: 136 loss: 0.2844347306763622\n",
      "eval loss: 0.32246474397180613 0.32246474397180613\n",
      "epoch: 137\n",
      "epoch: 137 loss: 0.2841984428040488\n",
      "eval loss: 0.32413687615701964 0.32413687615701964\n",
      "epoch: 138\n",
      "epoch: 138 loss: 0.28467766163516445\n",
      "eval loss: 0.3186369358760485 0.3186369358760485\n",
      "epoch: 139\n",
      "epoch: 139 loss: 0.2817276041079453\n",
      "eval loss: 0.32144920408451566 0.32144920408451566\n",
      "epoch: 140\n",
      "epoch: 140 loss: 0.2815827714832681\n",
      "eval loss: 0.3161959974923815 0.3161959974923815\n",
      "epoch: 141\n",
      "epoch: 141 loss: 0.28215946360401245\n",
      "eval loss: 0.3243081740001679 0.3243081740001679\n",
      "epoch: 142\n",
      "epoch: 142 loss: 0.29310669264746947\n",
      "eval loss: 0.3298498795746971 0.3298498795746971\n",
      "epoch: 143\n",
      "epoch: 143 loss: 0.2913127052526206\n",
      "eval loss: 0.31991589352139543 0.31991589352139543\n",
      "epoch: 144\n",
      "epoch: 144 loss: 0.28314830293250143\n",
      "eval loss: 0.3192270292471706 0.3192270292471706\n",
      "epoch: 145\n",
      "epoch: 145 loss: 0.2805021580100122\n",
      "eval loss: 0.3140247734547956 0.3140247734547956\n",
      "epoch: 146\n",
      "epoch: 146 loss: 0.2751569631048402\n",
      "eval loss: 0.31487717834804835 0.31487717834804835\n",
      "epoch: 147\n",
      "epoch: 147 loss: 0.2785640311460597\n",
      "eval loss: 0.3139163813897932 0.3139163813897932\n",
      "epoch: 148\n",
      "epoch: 148 loss: 0.27774733113920325\n",
      "eval loss: 0.3154468559449736 0.3154468559449736\n",
      "epoch: 149\n",
      "epoch: 149 loss: 0.28265680195127346\n",
      "eval loss: 0.31486162136999757 0.31486162136999757\n",
      "min eval loss: 0.16142933778782279 min mcrmse: 0.16142933778782279 epoch 68\n"
     ]
    }
   ],
   "source": [
    "device = torch.device('cuda:1')\n",
    "BATCH_SIZE = 64\n",
    "\n",
    "# categorical value for target (used for stratified kfold)\n",
    "#def add_y_cat(df):\n",
    "#    target_mean = df['reactivity'].apply(np.mean) + \\\n",
    "#                  df['deg_Mg_pH10'].apply(np.mean) + \\\n",
    "#                  df['deg_Mg_50C'].apply(np.mean) \n",
    "                  #df['deg_pH10'].apply(np.mean) + \\\n",
    "                  #df['deg_50C'].apply(np.mean)\n",
    "#    df['y_cat'] = pd.qcut(np.array(target_mean), q=20).codes\n",
    "    \n",
    "base_train_data = pd.read_json(str(Path(BASE_PATH) / 'train.json'), lines=True)\n",
    "\n",
    "base_train_data = aug_data(base_train_data)\n",
    "base_train_data = base_train_data.append(pseudo_st)\n",
    "base_train_data = base_train_data[base_train_data['SN_filter'] == 1]\n",
    "base_train_data = base_train_data.reset_index(drop = True)\n",
    "\n",
    "base_train_data_lg = pseudo_lg.reset_index(drop = True)\n",
    "#add_y_cat(base_train_data)\n",
    "\n",
    "samples = base_train_data\n",
    "save_path = Path(\"./model_prediction\")\n",
    "if not save_path.exists():\n",
    "    save_path.mkdir(parents=True)\n",
    "shutil.rmtree(\"./model\", True)\n",
    "shutil.rmtree(\"./logs\", True)\n",
    "split = ShuffleSplit(n_splits=5, test_size=.1)\n",
    "# kf = StratifiedKFold(n_splits = 5, shuffle = True, random_state = 123)\n",
    "kf = GroupKFold(n_splits=5)\n",
    "    \n",
    "ids = samples.reset_index()[\"id\"]\n",
    "\n",
    "set_seed(123)\n",
    "\n",
    "oof_list = []\n",
    "for fold, ((train_index, test_index), (train_index_lg, test_index_lg)) in enumerate(zip(kf.split(samples, groups=ids), \n",
    "                                                     kf.split(base_train_data_lg, groups=base_train_data_lg['id']))): #split.split(samples) / kf\n",
    "    print(f\"fold: {fold}\")\n",
    "    train_df = samples.loc[train_index].reset_index()\n",
    "    val_df = samples.loc[test_index].reset_index()\n",
    "    train_loader = create_loader(train_df, BATCH_SIZE)\n",
    "    valid_loader = create_loader(val_df, BATCH_SIZE)\n",
    "    print(train_df.shape, val_df.shape)\n",
    "    \n",
    "    train_df_lg = base_train_data_lg.loc[train_index_lg].reset_index()\n",
    "    val_df_lg = base_train_data_lg.loc[test_index_lg].reset_index()\n",
    "    train_loader_lg = create_loader(train_df_lg, BATCH_SIZE)\n",
    "    valid_loader_lg = create_loader(val_df_lg, BATCH_SIZE)\n",
    "    print(train_df_lg.shape, val_df_lg.shape)\n",
    "    \n",
    "    ae_model = AEModel()\n",
    "    state_dict = torch.load(\"./ae-model.pt\")\n",
    "    ae_model.load_state_dict(state_dict)\n",
    "    del state_dict\n",
    "    \n",
    "    model = FromAeModel(ae_model.seq, pred_len=91)\n",
    "    model = model.to(device)\n",
    "    optimizer = torch.optim.Adam(model.parameters(), lr=1e-3)\n",
    "    lr_scheduler = None\n",
    "    \n",
    "    epoch, valid_pred = train(model, train_loader, valid_loader, train_loader_lg, valid_loader_lg, optimizer, lr_scheduler, 150, device=device,\n",
    "                  log_path=f\"logs/{fold}\") #150 #200 epochs\n",
    "    oof_list += valid_pred\n",
    "    shutil.copyfile(str(Path(MODEL_SAVE_PATH) / f\"./model-{epoch}.pt\"), f\"model_prediction/model-{fold}.pt\")\n",
    "    del model"
   ]
  },
  {
   "cell_type": "code",
   "execution_count": 11,
   "metadata": {},
   "outputs": [],
   "source": [
    "oof_df = pd.DataFrame(oof_list, columns=[\"id_seqpos\"] + target_cols)\n",
    "oof_df.to_csv('validation_aepytorch.csv', index=False)"
   ]
  },
  {
   "cell_type": "markdown",
   "metadata": {},
   "source": [
    "### Prediction"
   ]
  },
  {
   "cell_type": "code",
   "execution_count": 12,
   "metadata": {},
   "outputs": [
    {
     "name": "stdout",
     "output_type": "stream",
     "text": [
      "public_df: (1258, 10)\n",
      "private_df: (6010, 10)\n",
      "(1, 107, 107, 3)\n",
      "(1, 130, 130, 3)\n"
     ]
    },
    {
     "data": {
      "text/html": [
       "\n",
       "    <div>\n",
       "        <style>\n",
       "            /* Turns off some styling */\n",
       "            progress {\n",
       "                /* gets rid of default border in Firefox and Opera. */\n",
       "                border: none;\n",
       "                /* Needs to be in here for Safari polyfill so background images work as expected. */\n",
       "                background-size: auto;\n",
       "            }\n",
       "            .progress-bar-interrupted, .progress-bar-interrupted::-webkit-progress-bar {\n",
       "                background: #F44336;\n",
       "            }\n",
       "        </style>\n",
       "      <progress value='1258' class='' max='1258' style='width:300px; height:20px; vertical-align: middle;'></progress>\n",
       "      100.00% [1258/1258 00:12<00:00]\n",
       "    </div>\n",
       "    "
      ],
      "text/plain": [
       "<IPython.core.display.HTML object>"
      ]
     },
     "metadata": {},
     "output_type": "display_data"
    },
    {
     "data": {
      "text/html": [
       "\n",
       "    <div>\n",
       "        <style>\n",
       "            /* Turns off some styling */\n",
       "            progress {\n",
       "                /* gets rid of default border in Firefox and Opera. */\n",
       "                border: none;\n",
       "                /* Needs to be in here for Safari polyfill so background images work as expected. */\n",
       "                background-size: auto;\n",
       "            }\n",
       "            .progress-bar-interrupted, .progress-bar-interrupted::-webkit-progress-bar {\n",
       "                background: #F44336;\n",
       "            }\n",
       "        </style>\n",
       "      <progress value='6010' class='' max='6010' style='width:300px; height:20px; vertical-align: middle;'></progress>\n",
       "      100.00% [6010/6010 01:00<00:00]\n",
       "    </div>\n",
       "    "
      ],
      "text/plain": [
       "<IPython.core.display.HTML object>"
      ]
     },
     "metadata": {},
     "output_type": "display_data"
    },
    {
     "data": {
      "text/html": [
       "\n",
       "    <div>\n",
       "        <style>\n",
       "            /* Turns off some styling */\n",
       "            progress {\n",
       "                /* gets rid of default border in Firefox and Opera. */\n",
       "                border: none;\n",
       "                /* Needs to be in here for Safari polyfill so background images work as expected. */\n",
       "                background-size: auto;\n",
       "            }\n",
       "            .progress-bar-interrupted, .progress-bar-interrupted::-webkit-progress-bar {\n",
       "                background: #F44336;\n",
       "            }\n",
       "        </style>\n",
       "      <progress value='1258' class='' max='1258' style='width:300px; height:20px; vertical-align: middle;'></progress>\n",
       "      100.00% [1258/1258 00:10<00:00]\n",
       "    </div>\n",
       "    "
      ],
      "text/plain": [
       "<IPython.core.display.HTML object>"
      ]
     },
     "metadata": {},
     "output_type": "display_data"
    },
    {
     "data": {
      "text/html": [
       "\n",
       "    <div>\n",
       "        <style>\n",
       "            /* Turns off some styling */\n",
       "            progress {\n",
       "                /* gets rid of default border in Firefox and Opera. */\n",
       "                border: none;\n",
       "                /* Needs to be in here for Safari polyfill so background images work as expected. */\n",
       "                background-size: auto;\n",
       "            }\n",
       "            .progress-bar-interrupted, .progress-bar-interrupted::-webkit-progress-bar {\n",
       "                background: #F44336;\n",
       "            }\n",
       "        </style>\n",
       "      <progress value='6010' class='' max='6010' style='width:300px; height:20px; vertical-align: middle;'></progress>\n",
       "      100.00% [6010/6010 00:59<00:00]\n",
       "    </div>\n",
       "    "
      ],
      "text/plain": [
       "<IPython.core.display.HTML object>"
      ]
     },
     "metadata": {},
     "output_type": "display_data"
    },
    {
     "data": {
      "text/html": [
       "\n",
       "    <div>\n",
       "        <style>\n",
       "            /* Turns off some styling */\n",
       "            progress {\n",
       "                /* gets rid of default border in Firefox and Opera. */\n",
       "                border: none;\n",
       "                /* Needs to be in here for Safari polyfill so background images work as expected. */\n",
       "                background-size: auto;\n",
       "            }\n",
       "            .progress-bar-interrupted, .progress-bar-interrupted::-webkit-progress-bar {\n",
       "                background: #F44336;\n",
       "            }\n",
       "        </style>\n",
       "      <progress value='1258' class='' max='1258' style='width:300px; height:20px; vertical-align: middle;'></progress>\n",
       "      100.00% [1258/1258 00:11<00:00]\n",
       "    </div>\n",
       "    "
      ],
      "text/plain": [
       "<IPython.core.display.HTML object>"
      ]
     },
     "metadata": {},
     "output_type": "display_data"
    },
    {
     "data": {
      "text/html": [
       "\n",
       "    <div>\n",
       "        <style>\n",
       "            /* Turns off some styling */\n",
       "            progress {\n",
       "                /* gets rid of default border in Firefox and Opera. */\n",
       "                border: none;\n",
       "                /* Needs to be in here for Safari polyfill so background images work as expected. */\n",
       "                background-size: auto;\n",
       "            }\n",
       "            .progress-bar-interrupted, .progress-bar-interrupted::-webkit-progress-bar {\n",
       "                background: #F44336;\n",
       "            }\n",
       "        </style>\n",
       "      <progress value='6010' class='' max='6010' style='width:300px; height:20px; vertical-align: middle;'></progress>\n",
       "      100.00% [6010/6010 00:57<00:00]\n",
       "    </div>\n",
       "    "
      ],
      "text/plain": [
       "<IPython.core.display.HTML object>"
      ]
     },
     "metadata": {},
     "output_type": "display_data"
    },
    {
     "data": {
      "text/html": [
       "\n",
       "    <div>\n",
       "        <style>\n",
       "            /* Turns off some styling */\n",
       "            progress {\n",
       "                /* gets rid of default border in Firefox and Opera. */\n",
       "                border: none;\n",
       "                /* Needs to be in here for Safari polyfill so background images work as expected. */\n",
       "                background-size: auto;\n",
       "            }\n",
       "            .progress-bar-interrupted, .progress-bar-interrupted::-webkit-progress-bar {\n",
       "                background: #F44336;\n",
       "            }\n",
       "        </style>\n",
       "      <progress value='1258' class='' max='1258' style='width:300px; height:20px; vertical-align: middle;'></progress>\n",
       "      100.00% [1258/1258 00:12<00:00]\n",
       "    </div>\n",
       "    "
      ],
      "text/plain": [
       "<IPython.core.display.HTML object>"
      ]
     },
     "metadata": {},
     "output_type": "display_data"
    },
    {
     "data": {
      "text/html": [
       "\n",
       "    <div>\n",
       "        <style>\n",
       "            /* Turns off some styling */\n",
       "            progress {\n",
       "                /* gets rid of default border in Firefox and Opera. */\n",
       "                border: none;\n",
       "                /* Needs to be in here for Safari polyfill so background images work as expected. */\n",
       "                background-size: auto;\n",
       "            }\n",
       "            .progress-bar-interrupted, .progress-bar-interrupted::-webkit-progress-bar {\n",
       "                background: #F44336;\n",
       "            }\n",
       "        </style>\n",
       "      <progress value='6010' class='' max='6010' style='width:300px; height:20px; vertical-align: middle;'></progress>\n",
       "      100.00% [6010/6010 00:57<00:00]\n",
       "    </div>\n",
       "    "
      ],
      "text/plain": [
       "<IPython.core.display.HTML object>"
      ]
     },
     "metadata": {},
     "output_type": "display_data"
    },
    {
     "data": {
      "text/html": [
       "\n",
       "    <div>\n",
       "        <style>\n",
       "            /* Turns off some styling */\n",
       "            progress {\n",
       "                /* gets rid of default border in Firefox and Opera. */\n",
       "                border: none;\n",
       "                /* Needs to be in here for Safari polyfill so background images work as expected. */\n",
       "                background-size: auto;\n",
       "            }\n",
       "            .progress-bar-interrupted, .progress-bar-interrupted::-webkit-progress-bar {\n",
       "                background: #F44336;\n",
       "            }\n",
       "        </style>\n",
       "      <progress value='1258' class='' max='1258' style='width:300px; height:20px; vertical-align: middle;'></progress>\n",
       "      100.00% [1258/1258 00:11<00:00]\n",
       "    </div>\n",
       "    "
      ],
      "text/plain": [
       "<IPython.core.display.HTML object>"
      ]
     },
     "metadata": {},
     "output_type": "display_data"
    },
    {
     "data": {
      "text/html": [
       "\n",
       "    <div>\n",
       "        <style>\n",
       "            /* Turns off some styling */\n",
       "            progress {\n",
       "                /* gets rid of default border in Firefox and Opera. */\n",
       "                border: none;\n",
       "                /* Needs to be in here for Safari polyfill so background images work as expected. */\n",
       "                background-size: auto;\n",
       "            }\n",
       "            .progress-bar-interrupted, .progress-bar-interrupted::-webkit-progress-bar {\n",
       "                background: #F44336;\n",
       "            }\n",
       "        </style>\n",
       "      <progress value='6010' class='' max='6010' style='width:300px; height:20px; vertical-align: middle;'></progress>\n",
       "      100.00% [6010/6010 00:55<00:00]\n",
       "    </div>\n",
       "    "
      ],
      "text/plain": [
       "<IPython.core.display.HTML object>"
      ]
     },
     "metadata": {},
     "output_type": "display_data"
    },
    {
     "name": "stdout",
     "output_type": "stream",
     "text": [
      "(457953, 2)\n",
      "(457953, 2)\n",
      "(457953, 2)\n",
      "(457953, 2)\n",
      "(457953, 2)\n",
      "(457953, 6)\n"
     ]
    }
   ],
   "source": [
    "device = torch.device('cuda:1') if torch.cuda.is_available() else \"cpu\"\n",
    "BATCH_SIZE = 1\n",
    "base_test_data = pd.read_json(str(Path(BASE_PATH) / 'test.json'), lines=True)\n",
    "base_test_data = aug_data(base_test_data)\n",
    "\n",
    "public_df = base_test_data.query(\"seq_length == 107\").copy()\n",
    "private_df = base_test_data.query(\"seq_length == 130\").copy()\n",
    "print(f\"public_df: {public_df.shape}\")\n",
    "print(f\"private_df: {private_df.shape}\")\n",
    "public_df = public_df.reset_index()\n",
    "private_df = private_df.reset_index()\n",
    "pub_loader = create_loader(public_df, BATCH_SIZE, is_test=True)\n",
    "pri_loader = create_loader(private_df, BATCH_SIZE, is_test=True)\n",
    "pred_df_list = []\n",
    "c = 0\n",
    "for fold in range(5):\n",
    "    model_load_path = f\"./model_prediction/model-{fold}.pt\"\n",
    "    ae_model0 = AEModel()\n",
    "    ae_model1 = AEModel()\n",
    "    model_pub = FromAeModel(pred_len=107, seq=ae_model0.seq)\n",
    "    model_pub = model_pub.to(device)\n",
    "    model_pri = FromAeModel(pred_len=130, seq=ae_model1.seq)\n",
    "    model_pri = model_pri.to(device)\n",
    "    state_dict = torch.load(model_load_path, map_location=device)\n",
    "    model_pub.load_state_dict(state_dict)\n",
    "    model_pri.load_state_dict(state_dict)\n",
    "    del state_dict\n",
    "\n",
    "    data_list = []\n",
    "    data_list += predict_data(model_pub, pub_loader, device, BATCH_SIZE)\n",
    "    data_list += predict_data(model_pri, pri_loader, device, BATCH_SIZE)\n",
    "    pred_df = pd.DataFrame(data_list, columns=[\"id_seqpos\"] + target_cols)\n",
    "    #print(pred_df.head())\n",
    "    #print(pred_df.tail())\n",
    "    pred_df_list.append(pred_df)\n",
    "    c += 1\n",
    "data_dic = dict(id_seqpos=pred_df_list[0][\"id_seqpos\"])\n",
    "for col in target_cols:\n",
    "    vals = np.zeros(pred_df_list[0][col].shape[0])\n",
    "    for df in pred_df_list:\n",
    "        vals += df[col].values\n",
    "    data_dic[col] = vals / float(c)\n",
    "pred_df_avg = pd.DataFrame(data_dic, columns=[\"id_seqpos\"] + target_cols)\n",
    "#print(pred_df_avg.head())\n",
    "#pred_df_avg.to_csv(\"./submission_all.csv\", index=False)\n",
    "\n",
    "##### submission final\n",
    "sample_df = pd.read_csv('../OpenVaccine/sample_submission.csv')\n",
    "target_cols = [c for c in sample_df.columns if c != 'id_seqpos']\n",
    "list_id = list(sample_df.id_seqpos.values)\n",
    "output = {}\n",
    "output_df = pd.DataFrame({'id_seqpos': sample_df.id_seqpos.values})\n",
    "\n",
    "for c in target_cols:\n",
    "    output_values = []\n",
    "    x = pred_df_avg.groupby('id_seqpos')[c].mean().reset_index()\n",
    "    print(x.shape)\n",
    "    output_df = pd.merge(output_df, x, on='id_seqpos')\n",
    "    \n",
    "output_df.to_csv('submission_aepytorch.csv', index=False)\n",
    "print(output_df.shape)"
   ]
  },
  {
   "cell_type": "code",
   "execution_count": 13,
   "metadata": {},
   "outputs": [
    {
     "data": {
      "text/html": [
       "<div>\n",
       "<style scoped>\n",
       "    .dataframe tbody tr th:only-of-type {\n",
       "        vertical-align: middle;\n",
       "    }\n",
       "\n",
       "    .dataframe tbody tr th {\n",
       "        vertical-align: top;\n",
       "    }\n",
       "\n",
       "    .dataframe thead th {\n",
       "        text-align: right;\n",
       "    }\n",
       "</style>\n",
       "<table border=\"1\" class=\"dataframe\">\n",
       "  <thead>\n",
       "    <tr style=\"text-align: right;\">\n",
       "      <th></th>\n",
       "      <th>id_seqpos</th>\n",
       "      <th>reactivity</th>\n",
       "      <th>deg_Mg_pH10</th>\n",
       "      <th>deg_pH10</th>\n",
       "      <th>deg_Mg_50C</th>\n",
       "      <th>deg_50C</th>\n",
       "    </tr>\n",
       "  </thead>\n",
       "  <tbody>\n",
       "    <tr>\n",
       "      <th>0</th>\n",
       "      <td>id_00073f8be_0</td>\n",
       "      <td>0.699546</td>\n",
       "      <td>0.641350</td>\n",
       "      <td>1.813082</td>\n",
       "      <td>0.526265</td>\n",
       "      <td>0.696698</td>\n",
       "    </tr>\n",
       "    <tr>\n",
       "      <th>1</th>\n",
       "      <td>id_00073f8be_1</td>\n",
       "      <td>2.198713</td>\n",
       "      <td>3.088485</td>\n",
       "      <td>4.026186</td>\n",
       "      <td>3.064846</td>\n",
       "      <td>2.537296</td>\n",
       "    </tr>\n",
       "    <tr>\n",
       "      <th>2</th>\n",
       "      <td>id_00073f8be_2</td>\n",
       "      <td>1.573336</td>\n",
       "      <td>0.591700</td>\n",
       "      <td>0.687707</td>\n",
       "      <td>0.687055</td>\n",
       "      <td>0.638836</td>\n",
       "    </tr>\n",
       "    <tr>\n",
       "      <th>3</th>\n",
       "      <td>id_00073f8be_3</td>\n",
       "      <td>1.304416</td>\n",
       "      <td>1.074144</td>\n",
       "      <td>1.079410</td>\n",
       "      <td>1.533832</td>\n",
       "      <td>1.484126</td>\n",
       "    </tr>\n",
       "    <tr>\n",
       "      <th>4</th>\n",
       "      <td>id_00073f8be_4</td>\n",
       "      <td>0.838901</td>\n",
       "      <td>0.604326</td>\n",
       "      <td>0.508964</td>\n",
       "      <td>0.847205</td>\n",
       "      <td>0.773494</td>\n",
       "    </tr>\n",
       "    <tr>\n",
       "      <th>5</th>\n",
       "      <td>id_00073f8be_5</td>\n",
       "      <td>0.674927</td>\n",
       "      <td>0.603603</td>\n",
       "      <td>0.591096</td>\n",
       "      <td>0.712282</td>\n",
       "      <td>0.681853</td>\n",
       "    </tr>\n",
       "    <tr>\n",
       "      <th>6</th>\n",
       "      <td>id_00073f8be_6</td>\n",
       "      <td>0.740290</td>\n",
       "      <td>0.900757</td>\n",
       "      <td>0.844980</td>\n",
       "      <td>0.946156</td>\n",
       "      <td>0.849289</td>\n",
       "    </tr>\n",
       "    <tr>\n",
       "      <th>7</th>\n",
       "      <td>id_00073f8be_7</td>\n",
       "      <td>0.853472</td>\n",
       "      <td>1.024172</td>\n",
       "      <td>1.078439</td>\n",
       "      <td>0.984978</td>\n",
       "      <td>1.205088</td>\n",
       "    </tr>\n",
       "    <tr>\n",
       "      <th>8</th>\n",
       "      <td>id_00073f8be_8</td>\n",
       "      <td>0.203472</td>\n",
       "      <td>0.745660</td>\n",
       "      <td>0.736198</td>\n",
       "      <td>0.831221</td>\n",
       "      <td>0.644785</td>\n",
       "    </tr>\n",
       "    <tr>\n",
       "      <th>9</th>\n",
       "      <td>id_00073f8be_9</td>\n",
       "      <td>0.067765</td>\n",
       "      <td>0.221344</td>\n",
       "      <td>0.236622</td>\n",
       "      <td>0.263358</td>\n",
       "      <td>0.347607</td>\n",
       "    </tr>\n",
       "  </tbody>\n",
       "</table>\n",
       "</div>"
      ],
      "text/plain": [
       "        id_seqpos  reactivity  deg_Mg_pH10  deg_pH10  deg_Mg_50C   deg_50C\n",
       "0  id_00073f8be_0    0.699546     0.641350  1.813082    0.526265  0.696698\n",
       "1  id_00073f8be_1    2.198713     3.088485  4.026186    3.064846  2.537296\n",
       "2  id_00073f8be_2    1.573336     0.591700  0.687707    0.687055  0.638836\n",
       "3  id_00073f8be_3    1.304416     1.074144  1.079410    1.533832  1.484126\n",
       "4  id_00073f8be_4    0.838901     0.604326  0.508964    0.847205  0.773494\n",
       "5  id_00073f8be_5    0.674927     0.603603  0.591096    0.712282  0.681853\n",
       "6  id_00073f8be_6    0.740290     0.900757  0.844980    0.946156  0.849289\n",
       "7  id_00073f8be_7    0.853472     1.024172  1.078439    0.984978  1.205088\n",
       "8  id_00073f8be_8    0.203472     0.745660  0.736198    0.831221  0.644785\n",
       "9  id_00073f8be_9    0.067765     0.221344  0.236622    0.263358  0.347607"
      ]
     },
     "execution_count": 13,
     "metadata": {},
     "output_type": "execute_result"
    }
   ],
   "source": [
    "output_df.head(10)"
   ]
  }
 ],
 "metadata": {
  "kernelspec": {
   "display_name": "Python 3",
   "language": "python",
   "name": "python3"
  },
  "language_info": {
   "codemirror_mode": {
    "name": "ipython",
    "version": 3
   },
   "file_extension": ".py",
   "mimetype": "text/x-python",
   "name": "python",
   "nbconvert_exporter": "python",
   "pygments_lexer": "ipython3",
   "version": "3.7.6"
  }
 },
 "nbformat": 4,
 "nbformat_minor": 4
}
