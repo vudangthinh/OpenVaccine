{
 "cells": [
  {
   "cell_type": "code",
   "execution_count": 162,
   "metadata": {},
   "outputs": [],
   "source": [
    "import pandas as pd\n",
    "import numpy as np\n",
    "import torch\n",
    "from scipy.optimize import minimize\n",
    "from sklearn.linear_model import LinearRegression\n",
    "import xgboost as xgb\n"
   ]
  },
  {
   "cell_type": "code",
   "execution_count": 163,
   "metadata": {},
   "outputs": [],
   "source": [
    "pred_cols = ['reactivity', 'deg_Mg_pH10', 'deg_pH10', 'deg_Mg_50C', 'deg_50C']"
   ]
  },
  {
   "cell_type": "code",
   "execution_count": 164,
   "metadata": {},
   "outputs": [],
   "source": [
    "def criterion(prds, tgts, weight=None):\n",
    "    return (torch.sqrt(torch.nn.MSELoss()(prds[:,0], tgts[:,0])) +\n",
    "            torch.sqrt(torch.nn.MSELoss()(prds[:,1], tgts[:,1])) +\n",
    "            torch.sqrt(torch.nn.MSELoss()(prds[:,2], tgts[:,2])) + \n",
    "            torch.sqrt(torch.nn.MSELoss()(prds[:,3], tgts[:,3])) + \n",
    "            torch.sqrt(torch.nn.MSELoss()(prds[:,4], tgts[:,4]))) / 5.0"
   ]
  },
  {
   "cell_type": "code",
   "execution_count": 165,
   "metadata": {},
   "outputs": [],
   "source": [
    "def sort_df(df, train_df):\n",
    "    tmp_df = pd.merge(train_df['id_seqpos'], df[['id_seqpos'] + pred_cols], on='id_seqpos')\n",
    "    return tmp_df"
   ]
  },
  {
   "cell_type": "markdown",
   "metadata": {},
   "source": [
    "# Load Valid"
   ]
  },
  {
   "cell_type": "code",
   "execution_count": 166,
   "metadata": {},
   "outputs": [],
   "source": [
    "valid_cnnrnn = pd.read_csv('../OpenVaccine/valid/validation_cnnrnn.csv')\n",
    "valid_cnnrnn_2 = pd.read_csv('../OpenVaccine/valid/validation_cnnrnn_groupkfold.csv')\n",
    "\n",
    "valid_deepgcn = pd.read_csv('../OpenVaccine/valid/validation_deepgcn.csv')\n",
    "valid_deepgcn_2 = pd.read_csv('../OpenVaccine/valid/validation_deepgcn_khanh_1.csv')\n",
    "valid_deepgcn_3 = pd.read_csv('../OpenVaccine/valid/validation_deepgcn_khanh_2.csv')\n",
    "valid_deepgcn_4 = pd.read_csv('../OpenVaccine/valid/validation_deepgcn_pseudo.csv')\n",
    "\n",
    "valid_ae = pd.read_csv('../OpenVaccine/valid/validation_aepretrain.csv')\n",
    "valid_ae_2 = pd.read_csv('../OpenVaccine/valid/validation_aepretrain_2.csv')\n",
    "valid_ae_3 = pd.read_csv('../OpenVaccine/valid/validation_aepretrain_pytorch.csv')\n",
    "valid_ae_4 = pd.read_csv('../OpenVaccine/valid/validation_aepytorch_noweight_pseudo.csv')\n",
    "valid_ae_5 = pd.read_csv('../OpenVaccine/valid/validation_aepytorch_pseudo.csv')\n",
    "valid_ae_6 = pd.read_csv('../OpenVaccine/valid/validation_aepytorch_noweight_pseudo_150e.csv')\n",
    "\n",
    "\n",
    "# valid_list = [valid_cnnrnn, \n",
    "#               valid_cnnrnn_2, \n",
    "#               valid_deepgcn, \n",
    "#               valid_deepgcn_2, \n",
    "#               valid_deepgcn_3, \n",
    "#               valid_ae,\n",
    "#               valid_ae_2,\n",
    "#               valid_ae_3\n",
    "#              ]\n",
    "\n",
    "valid_list = [\n",
    "              valid_ae_4,\n",
    "              valid_ae_5,\n",
    "              valid_ae_6\n",
    "             ]"
   ]
  },
  {
   "cell_type": "markdown",
   "metadata": {},
   "source": [
    "# Load Train"
   ]
  },
  {
   "cell_type": "code",
   "execution_count": 167,
   "metadata": {},
   "outputs": [],
   "source": [
    "train = pd.read_json(\"../OpenVaccine/train.json\", lines=True)\n",
    "train = train[((train['SN_filter'] == 1) & (train['signal_to_noise'] > 1))]"
   ]
  },
  {
   "cell_type": "code",
   "execution_count": 168,
   "metadata": {},
   "outputs": [
    {
     "data": {
      "text/html": [
       "<div>\n",
       "<style scoped>\n",
       "    .dataframe tbody tr th:only-of-type {\n",
       "        vertical-align: middle;\n",
       "    }\n",
       "\n",
       "    .dataframe tbody tr th {\n",
       "        vertical-align: top;\n",
       "    }\n",
       "\n",
       "    .dataframe thead th {\n",
       "        text-align: right;\n",
       "    }\n",
       "</style>\n",
       "<table border=\"1\" class=\"dataframe\">\n",
       "  <thead>\n",
       "    <tr style=\"text-align: right;\">\n",
       "      <th></th>\n",
       "      <th>index</th>\n",
       "      <th>id</th>\n",
       "      <th>sequence</th>\n",
       "      <th>structure</th>\n",
       "      <th>predicted_loop_type</th>\n",
       "      <th>signal_to_noise</th>\n",
       "      <th>SN_filter</th>\n",
       "      <th>seq_length</th>\n",
       "      <th>seq_scored</th>\n",
       "      <th>reactivity_error</th>\n",
       "      <th>deg_error_Mg_pH10</th>\n",
       "      <th>deg_error_pH10</th>\n",
       "      <th>deg_error_Mg_50C</th>\n",
       "      <th>deg_error_50C</th>\n",
       "      <th>reactivity</th>\n",
       "      <th>deg_Mg_pH10</th>\n",
       "      <th>deg_pH10</th>\n",
       "      <th>deg_Mg_50C</th>\n",
       "      <th>deg_50C</th>\n",
       "    </tr>\n",
       "  </thead>\n",
       "  <tbody>\n",
       "    <tr>\n",
       "      <th>0</th>\n",
       "      <td>0</td>\n",
       "      <td>id_001f94081</td>\n",
       "      <td>GGAAAAGCUCUAAUAACAGGAGACUAGGACUACGUAUUUCUAGGUA...</td>\n",
       "      <td>.....((((((.......)))).)).((.....((..((((((......</td>\n",
       "      <td>EEEEESSSSSSHHHHHHHSSSSBSSXSSIIIIISSIISSSSSSHHH...</td>\n",
       "      <td>6.894</td>\n",
       "      <td>1</td>\n",
       "      <td>107</td>\n",
       "      <td>68</td>\n",
       "      <td>[0.1359, 0.20700000000000002, 0.1633, 0.1452, ...</td>\n",
       "      <td>[0.26130000000000003, 0.38420000000000004, 0.1...</td>\n",
       "      <td>[0.2631, 0.28600000000000003, 0.0964, 0.1574, ...</td>\n",
       "      <td>[0.1501, 0.275, 0.0947, 0.18660000000000002, 0...</td>\n",
       "      <td>[0.2167, 0.34750000000000003, 0.188, 0.2124, 0...</td>\n",
       "      <td>[0.3297, 1.5693000000000001, 1.1227, 0.8686, 0...</td>\n",
       "      <td>[0.7556, 2.983, 0.2526, 1.3789, 0.637600000000...</td>\n",
       "      <td>[2.3375, 3.5060000000000002, 0.3008, 1.0108, 0...</td>\n",
       "      <td>[0.35810000000000003, 2.9683, 0.2589, 1.4552, ...</td>\n",
       "      <td>[0.6382, 3.4773, 0.9988, 1.3228, 0.78770000000...</td>\n",
       "    </tr>\n",
       "    <tr>\n",
       "      <th>2</th>\n",
       "      <td>2</td>\n",
       "      <td>id_006f36f57</td>\n",
       "      <td>GGAAAGUGCUCAGAUAAGCUAAGCUCGAAUAGCAAUCGAAUAGAAU...</td>\n",
       "      <td>.....((((.((.....((((.(((.....)))..((((......)...</td>\n",
       "      <td>EEEEESSSSISSIIIIISSSSMSSSHHHHHSSSMMSSSSHHHHHHS...</td>\n",
       "      <td>8.800</td>\n",
       "      <td>1</td>\n",
       "      <td>107</td>\n",
       "      <td>68</td>\n",
       "      <td>[0.0931, 0.13290000000000002, 0.11280000000000...</td>\n",
       "      <td>[0.1365, 0.2237, 0.1812, 0.1333, 0.1148, 0.160...</td>\n",
       "      <td>[0.17020000000000002, 0.178, 0.111, 0.091, 0.0...</td>\n",
       "      <td>[0.1033, 0.1464, 0.1126, 0.09620000000000001, ...</td>\n",
       "      <td>[0.14980000000000002, 0.1761, 0.1517, 0.116700...</td>\n",
       "      <td>[0.44820000000000004, 1.4822, 1.1819, 0.743400...</td>\n",
       "      <td>[0.2504, 1.4021, 0.9804, 0.49670000000000003, ...</td>\n",
       "      <td>[2.243, 2.9361, 1.0553, 0.721, 0.6396000000000...</td>\n",
       "      <td>[0.5163, 1.6823000000000001, 1.0426, 0.7902, 0...</td>\n",
       "      <td>[0.9501000000000001, 1.7974999999999999, 1.499...</td>\n",
       "    </tr>\n",
       "    <tr>\n",
       "      <th>5</th>\n",
       "      <td>5</td>\n",
       "      <td>id_00ab2d761</td>\n",
       "      <td>GGAAAGCGCCGCGGCGGUAGCGGCAGCGAGGAGCGCUACCAAGGCA...</td>\n",
       "      <td>.....(.(((((.(((((((((...........)))))))..(((....</td>\n",
       "      <td>EEEEESISSSSSISSSSSSSSSHHHHHHHHHHHSSSSSSSMMSSSH...</td>\n",
       "      <td>4.136</td>\n",
       "      <td>1</td>\n",
       "      <td>107</td>\n",
       "      <td>68</td>\n",
       "      <td>[0.1942, 0.2041, 0.1626, 0.1213, 0.10590000000...</td>\n",
       "      <td>[0.2726, 0.2984, 0.21660000000000001, 0.1637, ...</td>\n",
       "      <td>[0.3393, 0.2728, 0.2005, 0.1703, 0.1495, 0.134...</td>\n",
       "      <td>[0.165, 0.20520000000000002, 0.179, 0.1333, 0....</td>\n",
       "      <td>[0.2864, 0.24710000000000001, 0.2222, 0.1903, ...</td>\n",
       "      <td>[0.7642, 1.6641, 1.0622, 0.5008, 0.4107, 0.133...</td>\n",
       "      <td>[0.9559000000000001, 1.9442, 1.0114, 0.5105000...</td>\n",
       "      <td>[1.9554, 2.1298, 1.0403, 0.609, 0.5486, 0.386,...</td>\n",
       "      <td>[0.22460000000000002, 1.7281, 1.381, 0.6623, 0...</td>\n",
       "      <td>[0.5882000000000001, 1.1786, 0.9704, 0.6035, 0...</td>\n",
       "    </tr>\n",
       "    <tr>\n",
       "      <th>6</th>\n",
       "      <td>6</td>\n",
       "      <td>id_00abef1d7</td>\n",
       "      <td>GGAAAACAAUUGCAUCGUUAGUACGACUCCACAGCGUAAGCUGUGG...</td>\n",
       "      <td>.........((((((((......((((((((((((....)))))))...</td>\n",
       "      <td>EEEEEEEEESSSSSSSSIIIIIISSSSSSSSSSSSHHHHSSSSSSS...</td>\n",
       "      <td>2.485</td>\n",
       "      <td>1</td>\n",
       "      <td>107</td>\n",
       "      <td>68</td>\n",
       "      <td>[0.422, 0.5478000000000001, 0.4749000000000000...</td>\n",
       "      <td>[0.4801, 0.7943, 0.42160000000000003, 0.397300...</td>\n",
       "      <td>[0.9822000000000001, 1.272, 0.6940000000000001...</td>\n",
       "      <td>[0.5827, 0.7555000000000001, 0.5949, 0.4511, 0...</td>\n",
       "      <td>[0.9306000000000001, 1.0496, 0.5844, 0.7796000...</td>\n",
       "      <td>[0.895, 2.3377, 2.2305, 2.003, 1.9006, 1.0373,...</td>\n",
       "      <td>[0.46040000000000003, 3.6695, 0.78550000000000...</td>\n",
       "      <td>[2.7711, 7.365, 1.6924000000000001, 1.43840000...</td>\n",
       "      <td>[1.073, 2.8604000000000003, 1.9936, 1.0273, 1....</td>\n",
       "      <td>[2.0964, 3.3688000000000002, 0.6399, 2.1053, 1...</td>\n",
       "    </tr>\n",
       "    <tr>\n",
       "      <th>7</th>\n",
       "      <td>7</td>\n",
       "      <td>id_00b436dec</td>\n",
       "      <td>GGAAAUCAUCGAGGACGGGUCCGUUCAGCACGCGAAAGCGUCGUGA...</td>\n",
       "      <td>.....(((((((((((..(((((((((..((((....))))..)))...</td>\n",
       "      <td>EEEEESSSSSSSSSSSIISSSSSSSSSIISSSSHHHHSSSSIISSS...</td>\n",
       "      <td>1.727</td>\n",
       "      <td>1</td>\n",
       "      <td>107</td>\n",
       "      <td>68</td>\n",
       "      <td>[0.4843, 0.5233, 0.4554, 0.43520000000000003, ...</td>\n",
       "      <td>[0.8719, 1.0307, 0.6649, 0.34500000000000003, ...</td>\n",
       "      <td>[0.7045, 0.7775000000000001, 0.5662, 0.4561, 0...</td>\n",
       "      <td>[0.384, 0.723, 0.4766, 0.30260000000000004, 0....</td>\n",
       "      <td>[0.7429, 0.9137000000000001, 0.480400000000000...</td>\n",
       "      <td>[1.1576, 1.5137, 1.3382, 1.5622, 1.2121, 0.295...</td>\n",
       "      <td>[1.6912, 5.2652, 2.3901, 0.45890000000000003, ...</td>\n",
       "      <td>[1.8641, 2.3767, 1.149, 1.0132, 0.9876, 0.0, 0...</td>\n",
       "      <td>[0.49060000000000004, 4.6339, 1.95860000000000...</td>\n",
       "      <td>[1.2852000000000001, 2.5460000000000003, 0.234...</td>\n",
       "    </tr>\n",
       "  </tbody>\n",
       "</table>\n",
       "</div>"
      ],
      "text/plain": [
       "   index            id                                           sequence  \\\n",
       "0      0  id_001f94081  GGAAAAGCUCUAAUAACAGGAGACUAGGACUACGUAUUUCUAGGUA...   \n",
       "2      2  id_006f36f57  GGAAAGUGCUCAGAUAAGCUAAGCUCGAAUAGCAAUCGAAUAGAAU...   \n",
       "5      5  id_00ab2d761  GGAAAGCGCCGCGGCGGUAGCGGCAGCGAGGAGCGCUACCAAGGCA...   \n",
       "6      6  id_00abef1d7  GGAAAACAAUUGCAUCGUUAGUACGACUCCACAGCGUAAGCUGUGG...   \n",
       "7      7  id_00b436dec  GGAAAUCAUCGAGGACGGGUCCGUUCAGCACGCGAAAGCGUCGUGA...   \n",
       "\n",
       "                                           structure  \\\n",
       "0  .....((((((.......)))).)).((.....((..((((((......   \n",
       "2  .....((((.((.....((((.(((.....)))..((((......)...   \n",
       "5  .....(.(((((.(((((((((...........)))))))..(((....   \n",
       "6  .........((((((((......((((((((((((....)))))))...   \n",
       "7  .....(((((((((((..(((((((((..((((....))))..)))...   \n",
       "\n",
       "                                 predicted_loop_type  signal_to_noise  \\\n",
       "0  EEEEESSSSSSHHHHHHHSSSSBSSXSSIIIIISSIISSSSSSHHH...            6.894   \n",
       "2  EEEEESSSSISSIIIIISSSSMSSSHHHHHSSSMMSSSSHHHHHHS...            8.800   \n",
       "5  EEEEESISSSSSISSSSSSSSSHHHHHHHHHHHSSSSSSSMMSSSH...            4.136   \n",
       "6  EEEEEEEEESSSSSSSSIIIIIISSSSSSSSSSSSHHHHSSSSSSS...            2.485   \n",
       "7  EEEEESSSSSSSSSSSIISSSSSSSSSIISSSSHHHHSSSSIISSS...            1.727   \n",
       "\n",
       "   SN_filter  seq_length  seq_scored  \\\n",
       "0          1         107          68   \n",
       "2          1         107          68   \n",
       "5          1         107          68   \n",
       "6          1         107          68   \n",
       "7          1         107          68   \n",
       "\n",
       "                                    reactivity_error  \\\n",
       "0  [0.1359, 0.20700000000000002, 0.1633, 0.1452, ...   \n",
       "2  [0.0931, 0.13290000000000002, 0.11280000000000...   \n",
       "5  [0.1942, 0.2041, 0.1626, 0.1213, 0.10590000000...   \n",
       "6  [0.422, 0.5478000000000001, 0.4749000000000000...   \n",
       "7  [0.4843, 0.5233, 0.4554, 0.43520000000000003, ...   \n",
       "\n",
       "                                   deg_error_Mg_pH10  \\\n",
       "0  [0.26130000000000003, 0.38420000000000004, 0.1...   \n",
       "2  [0.1365, 0.2237, 0.1812, 0.1333, 0.1148, 0.160...   \n",
       "5  [0.2726, 0.2984, 0.21660000000000001, 0.1637, ...   \n",
       "6  [0.4801, 0.7943, 0.42160000000000003, 0.397300...   \n",
       "7  [0.8719, 1.0307, 0.6649, 0.34500000000000003, ...   \n",
       "\n",
       "                                      deg_error_pH10  \\\n",
       "0  [0.2631, 0.28600000000000003, 0.0964, 0.1574, ...   \n",
       "2  [0.17020000000000002, 0.178, 0.111, 0.091, 0.0...   \n",
       "5  [0.3393, 0.2728, 0.2005, 0.1703, 0.1495, 0.134...   \n",
       "6  [0.9822000000000001, 1.272, 0.6940000000000001...   \n",
       "7  [0.7045, 0.7775000000000001, 0.5662, 0.4561, 0...   \n",
       "\n",
       "                                    deg_error_Mg_50C  \\\n",
       "0  [0.1501, 0.275, 0.0947, 0.18660000000000002, 0...   \n",
       "2  [0.1033, 0.1464, 0.1126, 0.09620000000000001, ...   \n",
       "5  [0.165, 0.20520000000000002, 0.179, 0.1333, 0....   \n",
       "6  [0.5827, 0.7555000000000001, 0.5949, 0.4511, 0...   \n",
       "7  [0.384, 0.723, 0.4766, 0.30260000000000004, 0....   \n",
       "\n",
       "                                       deg_error_50C  \\\n",
       "0  [0.2167, 0.34750000000000003, 0.188, 0.2124, 0...   \n",
       "2  [0.14980000000000002, 0.1761, 0.1517, 0.116700...   \n",
       "5  [0.2864, 0.24710000000000001, 0.2222, 0.1903, ...   \n",
       "6  [0.9306000000000001, 1.0496, 0.5844, 0.7796000...   \n",
       "7  [0.7429, 0.9137000000000001, 0.480400000000000...   \n",
       "\n",
       "                                          reactivity  \\\n",
       "0  [0.3297, 1.5693000000000001, 1.1227, 0.8686, 0...   \n",
       "2  [0.44820000000000004, 1.4822, 1.1819, 0.743400...   \n",
       "5  [0.7642, 1.6641, 1.0622, 0.5008, 0.4107, 0.133...   \n",
       "6  [0.895, 2.3377, 2.2305, 2.003, 1.9006, 1.0373,...   \n",
       "7  [1.1576, 1.5137, 1.3382, 1.5622, 1.2121, 0.295...   \n",
       "\n",
       "                                         deg_Mg_pH10  \\\n",
       "0  [0.7556, 2.983, 0.2526, 1.3789, 0.637600000000...   \n",
       "2  [0.2504, 1.4021, 0.9804, 0.49670000000000003, ...   \n",
       "5  [0.9559000000000001, 1.9442, 1.0114, 0.5105000...   \n",
       "6  [0.46040000000000003, 3.6695, 0.78550000000000...   \n",
       "7  [1.6912, 5.2652, 2.3901, 0.45890000000000003, ...   \n",
       "\n",
       "                                            deg_pH10  \\\n",
       "0  [2.3375, 3.5060000000000002, 0.3008, 1.0108, 0...   \n",
       "2  [2.243, 2.9361, 1.0553, 0.721, 0.6396000000000...   \n",
       "5  [1.9554, 2.1298, 1.0403, 0.609, 0.5486, 0.386,...   \n",
       "6  [2.7711, 7.365, 1.6924000000000001, 1.43840000...   \n",
       "7  [1.8641, 2.3767, 1.149, 1.0132, 0.9876, 0.0, 0...   \n",
       "\n",
       "                                          deg_Mg_50C  \\\n",
       "0  [0.35810000000000003, 2.9683, 0.2589, 1.4552, ...   \n",
       "2  [0.5163, 1.6823000000000001, 1.0426, 0.7902, 0...   \n",
       "5  [0.22460000000000002, 1.7281, 1.381, 0.6623, 0...   \n",
       "6  [1.073, 2.8604000000000003, 1.9936, 1.0273, 1....   \n",
       "7  [0.49060000000000004, 4.6339, 1.95860000000000...   \n",
       "\n",
       "                                             deg_50C  \n",
       "0  [0.6382, 3.4773, 0.9988, 1.3228, 0.78770000000...  \n",
       "2  [0.9501000000000001, 1.7974999999999999, 1.499...  \n",
       "5  [0.5882000000000001, 1.1786, 0.9704, 0.6035, 0...  \n",
       "6  [2.0964, 3.3688000000000002, 0.6399, 2.1053, 1...  \n",
       "7  [1.2852000000000001, 2.5460000000000003, 0.234...  "
      ]
     },
     "execution_count": 168,
     "metadata": {},
     "output_type": "execute_result"
    }
   ],
   "source": [
    "train.head()"
   ]
  },
  {
   "cell_type": "code",
   "execution_count": 169,
   "metadata": {},
   "outputs": [],
   "source": [
    "train_ls = []\n",
    "for i, row in train.iterrows():\n",
    "    single_df = pd.DataFrame(np.vstack(row[pred_cols].apply(lambda x: np.array(x)).to_numpy()).T, columns=pred_cols)\n",
    "    id = row['id']\n",
    "    single_df['id_seqpos'] = [f'{id}_{x}' for x in range(single_df.shape[0])]\n",
    "    \n",
    "    train_ls.append(single_df)\n",
    "    \n",
    "train_df = pd.concat(train_ls)"
   ]
  },
  {
   "cell_type": "code",
   "execution_count": 170,
   "metadata": {},
   "outputs": [
    {
     "data": {
      "text/html": [
       "<div>\n",
       "<style scoped>\n",
       "    .dataframe tbody tr th:only-of-type {\n",
       "        vertical-align: middle;\n",
       "    }\n",
       "\n",
       "    .dataframe tbody tr th {\n",
       "        vertical-align: top;\n",
       "    }\n",
       "\n",
       "    .dataframe thead th {\n",
       "        text-align: right;\n",
       "    }\n",
       "</style>\n",
       "<table border=\"1\" class=\"dataframe\">\n",
       "  <thead>\n",
       "    <tr style=\"text-align: right;\">\n",
       "      <th></th>\n",
       "      <th>reactivity</th>\n",
       "      <th>deg_Mg_pH10</th>\n",
       "      <th>deg_pH10</th>\n",
       "      <th>deg_Mg_50C</th>\n",
       "      <th>deg_50C</th>\n",
       "      <th>id_seqpos</th>\n",
       "    </tr>\n",
       "  </thead>\n",
       "  <tbody>\n",
       "    <tr>\n",
       "      <th>0</th>\n",
       "      <td>0.3297</td>\n",
       "      <td>0.7556</td>\n",
       "      <td>2.3375</td>\n",
       "      <td>0.3581</td>\n",
       "      <td>0.6382</td>\n",
       "      <td>id_001f94081_0</td>\n",
       "    </tr>\n",
       "    <tr>\n",
       "      <th>1</th>\n",
       "      <td>1.5693</td>\n",
       "      <td>2.9830</td>\n",
       "      <td>3.5060</td>\n",
       "      <td>2.9683</td>\n",
       "      <td>3.4773</td>\n",
       "      <td>id_001f94081_1</td>\n",
       "    </tr>\n",
       "    <tr>\n",
       "      <th>2</th>\n",
       "      <td>1.1227</td>\n",
       "      <td>0.2526</td>\n",
       "      <td>0.3008</td>\n",
       "      <td>0.2589</td>\n",
       "      <td>0.9988</td>\n",
       "      <td>id_001f94081_2</td>\n",
       "    </tr>\n",
       "    <tr>\n",
       "      <th>3</th>\n",
       "      <td>0.8686</td>\n",
       "      <td>1.3789</td>\n",
       "      <td>1.0108</td>\n",
       "      <td>1.4552</td>\n",
       "      <td>1.3228</td>\n",
       "      <td>id_001f94081_3</td>\n",
       "    </tr>\n",
       "    <tr>\n",
       "      <th>4</th>\n",
       "      <td>0.7217</td>\n",
       "      <td>0.6376</td>\n",
       "      <td>0.2635</td>\n",
       "      <td>0.7244</td>\n",
       "      <td>0.7877</td>\n",
       "      <td>id_001f94081_4</td>\n",
       "    </tr>\n",
       "  </tbody>\n",
       "</table>\n",
       "</div>"
      ],
      "text/plain": [
       "   reactivity  deg_Mg_pH10  deg_pH10  deg_Mg_50C  deg_50C       id_seqpos\n",
       "0      0.3297       0.7556    2.3375      0.3581   0.6382  id_001f94081_0\n",
       "1      1.5693       2.9830    3.5060      2.9683   3.4773  id_001f94081_1\n",
       "2      1.1227       0.2526    0.3008      0.2589   0.9988  id_001f94081_2\n",
       "3      0.8686       1.3789    1.0108      1.4552   1.3228  id_001f94081_3\n",
       "4      0.7217       0.6376    0.2635      0.7244   0.7877  id_001f94081_4"
      ]
     },
     "execution_count": 170,
     "metadata": {},
     "output_type": "execute_result"
    }
   ],
   "source": [
    "train_df.head()"
   ]
  },
  {
   "cell_type": "markdown",
   "metadata": {},
   "source": [
    "# Validate"
   ]
  },
  {
   "cell_type": "code",
   "execution_count": 171,
   "metadata": {},
   "outputs": [],
   "source": [
    "for i, valid_df in enumerate(valid_list):\n",
    "    valid_df = valid_df.groupby('id_seqpos')[pred_cols].mean().reset_index()\n",
    "    valid_list[i] = sort_df(valid_df, train_df)"
   ]
  },
  {
   "cell_type": "code",
   "execution_count": 172,
   "metadata": {},
   "outputs": [
    {
     "name": "stdout",
     "output_type": "stream",
     "text": [
      "valid_score: 0.19885673776694818\n",
      "valid_score: 0.21206127808069414\n",
      "valid_score: 0.19728948682212716\n"
     ]
    }
   ],
   "source": [
    "for valid_df in valid_list:\n",
    "    valid_score = criterion(torch.tensor(valid_df[pred_cols].to_numpy()), torch.tensor(train_df[pred_cols].to_numpy()))\n",
    "    print(f'valid_score: {valid_score}')"
   ]
  },
  {
   "cell_type": "markdown",
   "metadata": {},
   "source": [
    "# Blending"
   ]
  },
  {
   "cell_type": "code",
   "execution_count": 82,
   "metadata": {},
   "outputs": [],
   "source": [
    "def blend_score(weights):\n",
    "    weights = weights/weights.sum()\n",
    "    \n",
    "    valid = None\n",
    "    for i, valid_df in enumerate(valid_list):\n",
    "        if valid is None:\n",
    "            valid = valid_df[pred_cols].to_numpy() * weights[i]\n",
    "        else:\n",
    "            valid += valid_df[pred_cols].to_numpy() * weights[i]\n",
    "   \n",
    "    return criterion(torch.tensor(valid), torch.tensor(train_df[pred_cols].to_numpy()))    "
   ]
  },
  {
   "cell_type": "markdown",
   "metadata": {},
   "source": [
    "## Average"
   ]
  },
  {
   "cell_type": "code",
   "execution_count": 83,
   "metadata": {},
   "outputs": [
    {
     "data": {
      "text/plain": [
       "tensor(0.2030, dtype=torch.float64)"
      ]
     },
     "execution_count": 83,
     "metadata": {},
     "output_type": "execute_result"
    }
   ],
   "source": [
    "blend_score(np.ones((len(valid_list)))) #tensor(0.1995, dtype=torch.float64)"
   ]
  },
  {
   "cell_type": "markdown",
   "metadata": {},
   "source": [
    "## Minimize"
   ]
  },
  {
   "cell_type": "code",
   "execution_count": 84,
   "metadata": {},
   "outputs": [
    {
     "name": "stdout",
     "output_type": "stream",
     "text": [
      "#Step: 0 Starting Values: [0.29263239 0.71643285]\n"
     ]
    },
    {
     "name": "stderr",
     "output_type": "stream",
     "text": [
      "/home/thinh/anaconda3/lib/python3.7/site-packages/scipy/optimize/_minimize.py:540: RuntimeWarning: Method COBYLA cannot handle bounds.\n",
      "  RuntimeWarning)\n"
     ]
    },
    {
     "name": "stdout",
     "output_type": "stream",
     "text": [
      "Weights: [1.73826043 1.88522798]  Score: 0.20295290295498983\n",
      "#Step: 1 Starting Values: [0.276885   0.22879901]\n",
      "Weights: [0.16071268 0.17416087]  Score: 0.2029529050800408\n",
      "#Step: 2 Starting Values: [0.93227879 0.48661992]\n",
      "Weights: [1.41649767 1.53654867]  Score: 0.2029529029550546\n",
      "#Step: 3 Starting Values: [0.14237003 0.01340158]\n",
      "Weights: [1.00437605 1.08946513]  Score: 0.2029529029420642\n",
      "#Step: 4 Starting Values: [0.12479891 0.50113984]\n",
      "Weights: [2.00595743 2.17564621]  Score: 0.20295290293912358\n",
      "#Step: 5 Starting Values: [0.1339376  0.54820776]\n",
      "Weights: [1.9438724  2.10851068]  Score: 0.2029529029362888\n",
      "#Step: 6 Starting Values: [0.10046533 0.20738611]\n",
      "Weights: [-0.53882349 -0.58434288]  Score: 0.2029529029980047\n",
      "#Step: 7 Starting Values: [0.67710634 0.46431947]\n",
      "Weights: [0.6535316  0.70892818]  Score: 0.20295290296143276\n",
      "#Step: 8 Starting Values: [0.80263978 0.79733736]\n",
      "Weights: [0.68471686 0.74254005]  Score: 0.20295290302421173\n",
      "#Step: 9 Starting Values: [0.17672573 0.93085425]\n",
      "Weights: [0.88685337 0.96181769]  Score: 0.20295290296525598\n",
      "\n",
      " Ensemble Score: 0.2029529029362888\n",
      "\n",
      " Best Weights: [1.9438724  2.10851068]\n"
     ]
    }
   ],
   "source": [
    "lls = []\n",
    "wghts = []\n",
    "\n",
    "for i in range(10):\n",
    "    starting_values = np.random.uniform(size=len(valid_list))\n",
    "    print(f'#Step: {i} Starting Values: {starting_values}')\n",
    "    cons = ({'type':'eq','fun':lambda w: 1-sum(w)})\n",
    "    bounds = [(0, 1)] * len(valid_list)\n",
    "\n",
    "    res = minimize(blend_score, starting_values, method='COBYLA', bounds=bounds, \n",
    "                   options={'disp': True, 'maxiter': 1000})\n",
    "    \n",
    "    lls.append(res['fun'])\n",
    "    wghts.append(res['x'])\n",
    "    print('Weights: {weights}  Score: {score}'.format(weights=res['x'], score=res['fun']))\n",
    "\n",
    "bestSC = np.min(lls)\n",
    "bestWght = wghts[np.argmin(lls)]\n",
    "\n",
    "print('\\n Ensemble Score: {best_score}'.format(best_score=bestSC))\n",
    "print('\\n Best Weights: {weights}'.format(weights=bestWght))"
   ]
  },
  {
   "cell_type": "code",
   "execution_count": 15,
   "metadata": {},
   "outputs": [
    {
     "ename": "SyntaxError",
     "evalue": "invalid syntax (<ipython-input-15-7d1c990b89e6>, line 1)",
     "output_type": "error",
     "traceback": [
      "\u001b[0;36m  File \u001b[0;32m\"<ipython-input-15-7d1c990b89e6>\"\u001b[0;36m, line \u001b[0;32m1\u001b[0m\n\u001b[0;31m    Ensemble Score: 0.2018889359109685\u001b[0m\n\u001b[0m                 ^\u001b[0m\n\u001b[0;31mSyntaxError\u001b[0m\u001b[0;31m:\u001b[0m invalid syntax\n"
     ]
    }
   ],
   "source": [
    "# Ensemble Score: 0.2018889359109685\n",
    "# Ensemble Score: 0.19793112584421507\n",
    "# Ensemble Score: 0.1972453394456028\n",
    "# Ensemble Score: 0.1971927625696471\n"
   ]
  },
  {
   "cell_type": "markdown",
   "metadata": {},
   "source": [
    "## Markov Chain Monte Carlo"
   ]
  },
  {
   "cell_type": "code",
   "execution_count": 16,
   "metadata": {},
   "outputs": [
    {
     "name": "stdout",
     "output_type": "stream",
     "text": [
      "Best score 0.19875703793503577\n",
      "Best weights [0.14286159 0.2379039  0.31654853 0.28240266 0.1834408 ]\n"
     ]
    }
   ],
   "source": [
    "n = 1000\n",
    "counter = 0\n",
    "result = {}\n",
    "num = len(valid_list)\n",
    "weight = np.array([1.0/num,]*num)\n",
    "old_score = 10.0\n",
    "best_score = 10.0\n",
    "best_weight = None\n",
    "\n",
    "for i in range(0, n):\n",
    "    new_weights = weight + np.array([0.005,] * num) * np.random.normal(loc=0.0, scale=1.0, size=num)\n",
    "    new_weights[new_weights < 0.01]=0.01\n",
    "\n",
    "    new_score = blend_score(new_weights)\n",
    "#     print(new_score)\n",
    "    if best_score > new_score:\n",
    "        best_score = new_score\n",
    "        best_weight = new_weights\n",
    "        \n",
    "    diff = new_score - old_score\n",
    "    prob = min(1, np.exp(-diff/.3))\n",
    "    random_prob = np.random.rand()\n",
    "    \n",
    "    if random_prob < prob:\n",
    "        result[i] = (new_score, old_score, prob, random_prob, new_weights)\n",
    "        weight = new_weights\n",
    "        old_score = new_score\n",
    "        counter += 1\n",
    "\n",
    "print(f'Best score {best_score}')\n",
    "print(f'Best weights {best_weight}')"
   ]
  },
  {
   "cell_type": "markdown",
   "metadata": {},
   "source": [
    "# Stacking"
   ]
  },
  {
   "cell_type": "code",
   "execution_count": 17,
   "metadata": {},
   "outputs": [],
   "source": [
    "col = 'reactivity'"
   ]
  },
  {
   "cell_type": "code",
   "execution_count": 18,
   "metadata": {},
   "outputs": [],
   "source": [
    "X = np.array([valid_df[col].to_numpy() for valid_df in valid_list]).T\n",
    "y = train_df[col].to_numpy()"
   ]
  },
  {
   "cell_type": "code",
   "execution_count": 19,
   "metadata": {},
   "outputs": [
    {
     "name": "stdout",
     "output_type": "stream",
     "text": [
      "[17:50:12] WARNING: ../src/objective/regression_obj.cu:174: reg:linear is now deprecated in favor of reg:squarederror.\n",
      "[17:50:12] WARNING: ../src/objective/regression_obj.cu:174: reg:linear is now deprecated in favor of reg:squarederror.\n"
     ]
    }
   ],
   "source": [
    "xg_reg = xgb.XGBRegressor(objective ='reg:linear', colsample_bytree = 0.3, learning_rate = 0.1,\n",
    "                max_depth = 5, alpha = 10, n_estimators = 10)\n",
    "xg_reg.fit(X,y)\n",
    "y_pred = xg_reg.predict(X)"
   ]
  },
  {
   "cell_type": "code",
   "execution_count": 20,
   "metadata": {},
   "outputs": [
    {
     "data": {
      "text/plain": [
       "tensor(0.2451, dtype=torch.float64)"
      ]
     },
     "execution_count": 20,
     "metadata": {},
     "output_type": "execute_result"
    }
   ],
   "source": [
    "torch.sqrt(torch.nn.MSELoss()(torch.tensor(y_pred), torch.tensor(y)))"
   ]
  },
  {
   "cell_type": "code",
   "execution_count": 21,
   "metadata": {},
   "outputs": [
    {
     "name": "stdout",
     "output_type": "stream",
     "text": [
      "Mean: tensor(0.1837, dtype=torch.float64)\n"
     ]
    }
   ],
   "source": [
    "print(\"Mean:\", torch.sqrt(torch.nn.MSELoss()(torch.tensor(X.mean(axis=1)), torch.tensor(y))))"
   ]
  },
  {
   "cell_type": "code",
   "execution_count": 22,
   "metadata": {},
   "outputs": [
    {
     "name": "stdout",
     "output_type": "stream",
     "text": [
      "[17:50:12] WARNING: ../src/objective/regression_obj.cu:174: reg:linear is now deprecated in favor of reg:squarederror.\n",
      "[17:50:12] WARNING: ../src/objective/regression_obj.cu:174: reg:linear is now deprecated in favor of reg:squarederror.\n",
      "tensor(0.2885, dtype=torch.float64)\n",
      "Mean: tensor(0.2287, dtype=torch.float64)\n"
     ]
    }
   ],
   "source": [
    "col = 'deg_Mg_pH10'\n",
    "X = np.array([valid_df[col].to_numpy() for valid_df in valid_list]).T\n",
    "y = train_df[col].to_numpy()\n",
    "\n",
    "xg_reg = xgb.XGBRegressor(objective ='reg:linear', colsample_bytree = 0.3, learning_rate = 0.1,\n",
    "                max_depth = 5, alpha = 10, n_estimators = 10)\n",
    "xg_reg.fit(X,y)\n",
    "y_pred = xg_reg.predict(X)\n",
    "\n",
    "print(torch.sqrt(torch.nn.MSELoss()(torch.tensor(y_pred), torch.tensor(y))))\n",
    "print(\"Mean:\", torch.sqrt(torch.nn.MSELoss()(torch.tensor(X.mean(axis=1)), torch.tensor(y))))"
   ]
  },
  {
   "cell_type": "code",
   "execution_count": null,
   "metadata": {},
   "outputs": [],
   "source": []
  }
 ],
 "metadata": {
  "kernelspec": {
   "display_name": "Python 3",
   "language": "python",
   "name": "python3"
  },
  "language_info": {
   "codemirror_mode": {
    "name": "ipython",
    "version": 3
   },
   "file_extension": ".py",
   "mimetype": "text/x-python",
   "name": "python",
   "nbconvert_exporter": "python",
   "pygments_lexer": "ipython3",
   "version": "3.7.6"
  }
 },
 "nbformat": 4,
 "nbformat_minor": 4
}
