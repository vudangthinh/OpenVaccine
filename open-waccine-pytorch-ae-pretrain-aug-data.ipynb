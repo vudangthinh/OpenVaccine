{
 "cells": [
  {
   "cell_type": "markdown",
   "metadata": {},
   "source": [
    "Ispired by this notebook.\n",
    "\n",
    "https://www.kaggle.com/mrkmakr/covid-ae-pretrain-gnn-attn-cnn\n",
    "\n",
    "Pytorch Implementation.\n",
    "\n",
    "Model: Convolution + Transfomer + GRU.\n",
    "\n",
    "Training: Bert-Like Pretraining. Then Fine Tuning."
   ]
  },
  {
   "cell_type": "code",
   "execution_count": 1,
   "metadata": {},
   "outputs": [],
   "source": [
    "import numpy as np\n",
    "import pandas as pd\n",
    "import ast\n",
    "from collections import OrderedDict\n",
    "from fastprogress import progress_bar\n",
    "from pathlib import Path\n",
    "from torch import nn\n",
    "from torch.utils.data import Dataset\n",
    "from torch.utils.tensorboard import SummaryWriter\n",
    "\n",
    "from torch.nn import TransformerEncoder, TransformerEncoderLayer\n",
    "import math\n",
    "\n",
    "import functools\n",
    "import itertools\n",
    "import os\n",
    "import random\n",
    "import shutil\n",
    "import torch\n",
    "import torch.nn.functional as F\n",
    "\n",
    "from sklearn.model_selection import train_test_split, ShuffleSplit, KFold, StratifiedKFold, GroupKFold\n",
    "from torch import nn\n",
    "from torch.utils.data import Dataset\n",
    "\n",
    "import functools\n",
    "from IPython.core.debugger import set_trace\n",
    "\n",
    "\n",
    "target_cols = ['reactivity', 'deg_Mg_pH10', 'deg_pH10', 'deg_Mg_50C', 'deg_50C']\n",
    "input_cols = ['sequence', 'structure', 'predicted_loop_type']\n",
    "error_cols = ['reactivity_error', 'deg_error_Mg_pH10', 'deg_error_Mg_50C', 'deg_error_pH10', 'deg_error_50C']\n",
    "\n",
    "token_dicts = {\n",
    "    \"sequence\": {x: i for i, x in enumerate(\"ACGU\")},\n",
    "    \"structure\": {x: i for i, x in enumerate('().')},\n",
    "    \"predicted_loop_type\": {x: i for i, x in enumerate(\"BEHIMSX\")}\n",
    "}\n",
    "\n",
    "\n",
    "def set_seed(seed: int = 42):\n",
    "    random.seed(seed)\n",
    "    np.random.seed(seed)\n",
    "    os.environ[\"PYTHONHASHSEED\"] = str(seed)\n",
    "    torch.manual_seed(seed)\n",
    "    torch.cuda.manual_seed(seed)\n",
    "    torch.backends.cudnn.deterministic = True\n",
    "    torch.backends.cudnn.benchmark = False"
   ]
  },
  {
   "cell_type": "markdown",
   "metadata": {},
   "source": [
    "### Loader\n"
   ]
  },
  {
   "cell_type": "code",
   "execution_count": 2,
   "metadata": {
    "_cell_guid": "79c7e3d0-c299-4dcb-8224-4455121ee9b0",
    "_uuid": "d629ff2d2480ee46fbb7e2d37f6b5fab8052498a"
   },
   "outputs": [],
   "source": [
    "BASE_PATH = \"../OpenVaccine\"\n",
    "MODEL_SAVE_PATH = \"../OpenVaccine/pretrains\"\n",
    "\n",
    "\n",
    "def preprocess_inputs(df, cols):\n",
    "    return np.concatenate([preprocess_feature_col(df, col) for col in cols], axis=2)\n",
    "\n",
    "\n",
    "def preprocess_feature_col(df, col):\n",
    "    dic = token_dicts[col]\n",
    "    dic_len = len(dic)\n",
    "    seq_length = len(df[col][0])\n",
    "    ident = np.identity(dic_len)\n",
    "    # convert to one hot\n",
    "    arr = np.array(\n",
    "        df[[col]].applymap(lambda seq: [ident[dic[x]] for x in seq]).values.tolist()\n",
    "    ).squeeze(1)\n",
    "    # shape: data_size x seq_length x dic_length\n",
    "    assert arr.shape == (len(df), seq_length, dic_len)\n",
    "    return arr\n",
    "\n",
    "\n",
    "def preprocess(base_data, is_test=False):\n",
    "    inputs = preprocess_inputs(base_data, input_cols)\n",
    "    if is_test:\n",
    "        labels = None\n",
    "    else:\n",
    "        labels = np.array(base_data[target_cols].values.tolist()).transpose((0, 2, 1))\n",
    "        assert labels.shape[2] == len(target_cols)\n",
    "    assert inputs.shape[2] == 14\n",
    "    return inputs, labels\n",
    "\n",
    "\n",
    "def get_bpp_feature(bpp):\n",
    "    bpp_nb_mean = 0.077522  # mean of bpps_nb across all training data\n",
    "    bpp_nb_std = 0.08914  # std of bpps_nb across all training data\n",
    "    bpp_max = bpp.max(-1)[0]\n",
    "    bpp_sum = bpp.sum(-1)\n",
    "    bpp_nb = torch.true_divide((bpp > 0).sum(dim=1), bpp.shape[1])\n",
    "    bpp_nb = torch.true_divide(bpp_nb - bpp_nb_mean, bpp_nb_std)\n",
    "    return [bpp_max.unsqueeze(2), bpp_sum.unsqueeze(2), bpp_nb.unsqueeze(2)]\n",
    "\n",
    "\n",
    "@functools.lru_cache(5000)\n",
    "def load_from_id(id_):\n",
    "    path = Path(BASE_PATH) / f\"bpps/{id_}.npy\"\n",
    "    data = np.load(str(path))\n",
    "    return data\n",
    "\n",
    "\n",
    "def get_distance_matrix(leng):\n",
    "    idx = np.arange(leng)\n",
    "    Ds = []\n",
    "    for i in range(len(idx)):\n",
    "        d = np.abs(idx[i] - idx)\n",
    "        Ds.append(d)\n",
    "\n",
    "    Ds = np.array(Ds) + 1\n",
    "    Ds = 1 / Ds\n",
    "    Ds = Ds[None, :, :]\n",
    "    Ds = np.repeat(Ds, 1, axis=0)\n",
    "\n",
    "    Dss = []\n",
    "    for i in [1, 2, 4]:\n",
    "        Dss.append(Ds ** i)\n",
    "    Ds = np.stack(Dss, axis=3)\n",
    "    print(Ds.shape)\n",
    "    return Ds\n",
    "\n",
    "\n",
    "def get_structure_adj(df):\n",
    "    Ss = []\n",
    "    for i in range(len(df)):\n",
    "        seq_length = df[\"seq_length\"].iloc[i]\n",
    "        structure = df[\"structure\"].iloc[i]\n",
    "        sequence = df[\"sequence\"].iloc[i]\n",
    "\n",
    "        cue = []\n",
    "        a_structures = OrderedDict([\n",
    "            ((\"A\", \"U\"), np.zeros([seq_length, seq_length])),\n",
    "            ((\"C\", \"G\"), np.zeros([seq_length, seq_length])),\n",
    "            ((\"U\", \"G\"), np.zeros([seq_length, seq_length])),\n",
    "            ((\"U\", \"A\"), np.zeros([seq_length, seq_length])),\n",
    "            ((\"G\", \"C\"), np.zeros([seq_length, seq_length])),\n",
    "            ((\"G\", \"U\"), np.zeros([seq_length, seq_length])),\n",
    "        ])\n",
    "        for j in range(seq_length):\n",
    "            if structure[j] == \"(\":\n",
    "                cue.append(j)\n",
    "            elif structure[j] == \")\":\n",
    "                start = cue.pop()\n",
    "                a_structures[(sequence[start], sequence[j])][start, j] = 1\n",
    "                a_structures[(sequence[j], sequence[start])][j, start] = 1\n",
    "\n",
    "        a_strc = np.stack([a for a in a_structures.values()], axis=2)\n",
    "        a_strc = np.sum(a_strc, axis=2, keepdims=True)\n",
    "        Ss.append(a_strc)\n",
    "\n",
    "    Ss = np.array(Ss)\n",
    "    return Ss\n",
    "\n",
    "\n",
    "def create_loader(df, batch_size=1, is_test=False):\n",
    "    features, labels = preprocess(df, is_test)\n",
    "    features_tensor = torch.from_numpy(features)\n",
    "    if labels is not None:\n",
    "        labels_tensor = torch.from_numpy(labels)\n",
    "        dataset = VacDataset(features_tensor, df, labels_tensor)\n",
    "        loader = torch.utils.data.DataLoader(dataset, batch_size, shuffle=True, drop_last=False)\n",
    "    else:\n",
    "        dataset = VacDataset(features_tensor, df, None)\n",
    "        loader = torch.utils.data.DataLoader(dataset, batch_size, shuffle=False, drop_last=False)\n",
    "    return loader\n",
    "\n",
    "\n",
    "class VacDataset(Dataset):\n",
    "    def __init__(self, features, df, labels=None):\n",
    "        self.features = features\n",
    "        self.labels = labels\n",
    "        self.test = labels is None\n",
    "        self.ids = df[\"id\"]\n",
    "        self.score = None\n",
    "        self.structure_adj = get_structure_adj(df)\n",
    "        self.distance_matrix = get_distance_matrix(self.structure_adj.shape[1])\n",
    "        if \"score\" in df.columns:\n",
    "            self.score = df[\"score\"]\n",
    "        else:\n",
    "            df[\"score\"] = 1.0\n",
    "            self.score = df[\"score\"]\n",
    "        self.signal_to_noise = None\n",
    "        if not self.test:\n",
    "            self.signal_to_noise = df[\"signal_to_noise\"]\n",
    "            assert self.features.shape[0] == self.labels.shape[0]\n",
    "        else:\n",
    "            assert self.ids is not None\n",
    "\n",
    "    def __len__(self):\n",
    "        return len(self.features)\n",
    "\n",
    "    def __getitem__(self, index):\n",
    "        bpp = torch.from_numpy(load_from_id(self.ids[index]).copy()).float()\n",
    "        adj = self.structure_adj[index]\n",
    "        distance = self.distance_matrix[0]\n",
    "        bpp = np.concatenate([bpp[:, :, None], adj, distance], axis=2)\n",
    "        if self.test:\n",
    "            return dict(sequence=self.features[index].float(), bpp=bpp, ids=self.ids[index])\n",
    "        else:\n",
    "            return dict(sequence=self.features[index].float(), bpp=bpp,\n",
    "                        label=self.labels[index], ids=self.ids[index],\n",
    "                        signal_to_noise=self.signal_to_noise[index],\n",
    "                        score=self.score[index])\n"
   ]
  },
  {
   "cell_type": "markdown",
   "metadata": {},
   "source": [
    "### Model"
   ]
  },
  {
   "cell_type": "code",
   "execution_count": 3,
   "metadata": {},
   "outputs": [],
   "source": [
    "class Conv1dStack(nn.Module):\n",
    "    def __init__(self, in_dim, out_dim, kernel_size=3, padding=1, dilation=1):\n",
    "        super(Conv1dStack, self).__init__()\n",
    "        self.conv = nn.Sequential(\n",
    "            nn.Conv1d(in_dim, out_dim, kernel_size=kernel_size, padding=padding, dilation=dilation, bias=False),\n",
    "            nn.BatchNorm1d(out_dim),\n",
    "            nn.Dropout(0.1),\n",
    "            nn.LeakyReLU(),\n",
    "        )\n",
    "        self.res = nn.Sequential(\n",
    "            nn.Conv1d(out_dim, out_dim, kernel_size=kernel_size, padding=padding, dilation=dilation, bias=False),\n",
    "            nn.BatchNorm1d(out_dim),\n",
    "            nn.Dropout(0.1),\n",
    "            nn.LeakyReLU(),\n",
    "        )\n",
    "\n",
    "    def forward(self, x):\n",
    "        x = self.conv(x)\n",
    "        h = self.res(x)\n",
    "        return x + h\n",
    "\n",
    "\n",
    "class Conv2dStack(nn.Module):\n",
    "    def __init__(self, in_dim, out_dim, kernel_size=3, padding=1, dilation=1):\n",
    "        super(Conv2dStack, self).__init__()\n",
    "        self.conv = nn.Sequential(\n",
    "            nn.Conv2d(in_dim, out_dim, kernel_size=kernel_size, padding=padding, dilation=dilation, bias=False),\n",
    "            nn.BatchNorm2d(out_dim),\n",
    "            nn.Dropout(0.1),\n",
    "            nn.LeakyReLU(),\n",
    "        )\n",
    "        self.res = nn.Sequential(\n",
    "            nn.Conv2d(out_dim, out_dim, kernel_size=kernel_size, padding=padding, dilation=dilation, bias=False),\n",
    "            nn.BatchNorm2d(out_dim),\n",
    "            nn.Dropout(0.1),\n",
    "            nn.LeakyReLU(),\n",
    "        )\n",
    "\n",
    "    def forward(self, x):\n",
    "        x = self.conv(x)\n",
    "        h = self.res(x)\n",
    "        return x + h\n",
    "\n",
    "\n",
    "class SeqEncoder(nn.Module):\n",
    "    def __init__(self, in_dim: int):\n",
    "        super(SeqEncoder, self).__init__()\n",
    "        self.conv0 = Conv1dStack(in_dim, 128, 3, padding=1)\n",
    "        self.conv1 = Conv1dStack(128, 64, 6, padding=5, dilation=2)\n",
    "        self.conv2 = Conv1dStack(64, 32, 15, padding=7, dilation=1)\n",
    "        self.conv3 = Conv1dStack(32, 32, 30, padding=29, dilation=2)\n",
    "\n",
    "    def forward(self, x):\n",
    "        x1 = self.conv0(x)\n",
    "        x2 = self.conv1(x1)\n",
    "        x3 = self.conv2(x2)\n",
    "        x4 = self.conv3(x3)\n",
    "        x = torch.cat([x1, x2, x3, x4], dim=1)\n",
    "        # x = x.permute(0, 2, 1).contiguous()\n",
    "        # BATCH x 256 x seq_length\n",
    "        return x\n",
    "\n",
    "\n",
    "class BppAttn(nn.Module):\n",
    "    def __init__(self, in_channel: int, out_channel: int):\n",
    "        super(BppAttn, self).__init__()\n",
    "        self.conv0 = Conv1dStack(in_channel, out_channel, 3, padding=1)\n",
    "        self.bpp_conv = Conv2dStack(5, out_channel)\n",
    "\n",
    "    def forward(self, x, bpp):\n",
    "        x = self.conv0(x)\n",
    "        bpp = self.bpp_conv(bpp)\n",
    "        # BATCH x C x SEQ x SEQ\n",
    "        # BATCH x C x SEQ\n",
    "        x = torch.matmul(bpp, x.unsqueeze(-1))\n",
    "        return x.squeeze(-1)\n",
    "\n",
    "\n",
    "class PositionalEncoding(nn.Module):\n",
    "\n",
    "    def __init__(self, d_model, dropout=0.1, max_len=5000):\n",
    "        super(PositionalEncoding, self).__init__()\n",
    "        self.dropout = nn.Dropout(p=dropout)\n",
    "\n",
    "        pe = torch.zeros(max_len, d_model)\n",
    "        position = torch.arange(0, max_len, dtype=torch.float).unsqueeze(1)\n",
    "        div_term = torch.exp(torch.arange(0, d_model, 2).float() * (-math.log(10000.0) / d_model))\n",
    "        pe[:, 0::2] = torch.sin(position * div_term)\n",
    "        pe[:, 1::2] = torch.cos(position * div_term)\n",
    "        pe = pe.unsqueeze(0).transpose(0, 1)\n",
    "        self.register_buffer('pe', pe)\n",
    "\n",
    "    def forward(self, x):\n",
    "        x = x + self.pe[:x.size(0), :]\n",
    "        return self.dropout(x)\n",
    "\n",
    "\n",
    "class TransformerWrapper(nn.Module):\n",
    "    def __init__(self, dmodel=256, nhead=8, num_layers=2):\n",
    "        super(TransformerWrapper, self).__init__()\n",
    "        self.pos_encoder = PositionalEncoding(256)\n",
    "        encoder_layer = TransformerEncoderLayer(d_model=dmodel, nhead=nhead)\n",
    "        self.transformer_encoder = TransformerEncoder(encoder_layer, num_layers)\n",
    "        self.pos_emb = PositionalEncoding(dmodel)\n",
    "\n",
    "    def flatten_parameters(self):\n",
    "        pass\n",
    "\n",
    "    def forward(self, x):\n",
    "        x = x.permute((1, 0, 2)).contiguous()\n",
    "        x = self.pos_emb(x)\n",
    "        x = self.transformer_encoder(x)\n",
    "        x = x.permute((1, 0, 2)).contiguous()\n",
    "        return x, None\n",
    "\n",
    "\n",
    "class RnnLayers(nn.Module):\n",
    "    def __init__(self, dmodel, dropout=0.3, transformer_layers: int = 2):\n",
    "        super(RnnLayers, self).__init__()\n",
    "        self.dropout = nn.Dropout(dropout)\n",
    "        self.rnn0 = TransformerWrapper(dmodel, nhead=8, num_layers=transformer_layers)\n",
    "        self.rnn1 = nn.LSTM(dmodel, dmodel // 2, batch_first=True, num_layers=1, bidirectional=True)\n",
    "        self.rnn2 = nn.GRU(dmodel, dmodel // 2, batch_first=True, num_layers=1, bidirectional=True)\n",
    "\n",
    "    def forward(self, x):\n",
    "        self.rnn0.flatten_parameters()\n",
    "        x, _ = self.rnn0(x)\n",
    "        if self.rnn1 is not None:\n",
    "            self.rnn1.flatten_parameters()\n",
    "            x = self.dropout(x)\n",
    "            x, _ = self.rnn1(x)\n",
    "        if self.rnn2 is not None:\n",
    "            self.rnn2.flatten_parameters()\n",
    "            x = self.dropout(x)\n",
    "            x, _ = self.rnn2(x)\n",
    "        return x\n",
    "\n",
    "    \n",
    "class BaseAttnModel(nn.Module):\n",
    "    def __init__(self, transformer_layers: int = 2):\n",
    "        super(BaseAttnModel, self).__init__()\n",
    "        self.linear0 = nn.Linear(14 + 3, 1)\n",
    "        self.seq_encoder_x = SeqEncoder(18)\n",
    "        self.attn = BppAttn(256, 128)\n",
    "        self.seq_encoder_bpp = SeqEncoder(128)\n",
    "        self.seq = RnnLayers(256 * 2, dropout=0.3,\n",
    "                             transformer_layers=transformer_layers)\n",
    "\n",
    "    def forward(self, x, bpp):\n",
    "        bpp_features = get_bpp_feature(bpp[:, :, :, 0].float())\n",
    "        x = torch.cat([x] + bpp_features, dim=-1)\n",
    "        learned = self.linear0(x)\n",
    "        x = torch.cat([x, learned], dim=-1)\n",
    "        x = x.permute(0, 2, 1).contiguous().float()\n",
    "        # BATCH x 18 x seq_len\n",
    "        bpp = bpp.permute([0, 3, 1, 2]).contiguous().float()\n",
    "        # BATCH x 5 x seq_len x seq_len\n",
    "        x = self.seq_encoder_x(x)\n",
    "        # BATCH x 256 x seq_len\n",
    "        bpp = self.attn(x, bpp)\n",
    "        bpp = self.seq_encoder_bpp(bpp)\n",
    "        # BATCH x 256 x seq_len\n",
    "        x = x.permute(0, 2, 1).contiguous()\n",
    "        # BATCH x seq_len x 256\n",
    "        bpp = bpp.permute(0, 2, 1).contiguous()\n",
    "        # BATCH x seq_len x 256\n",
    "        x = torch.cat([x, bpp], dim=2)\n",
    "        # BATCH x seq_len x 512\n",
    "        x = self.seq(x)\n",
    "        return x\n",
    "\n",
    "\n",
    "class AEModel(nn.Module):\n",
    "    def __init__(self, transformer_layers: int = 2):\n",
    "        super(AEModel, self).__init__()\n",
    "        self.seq = BaseAttnModel(transformer_layers=transformer_layers)\n",
    "        self.linear = nn.Sequential(\n",
    "            nn.Linear(256 * 2, 14),\n",
    "            nn.Sigmoid(),\n",
    "        )\n",
    "\n",
    "    def forward(self, x, bpp):\n",
    "        x = self.seq(x, bpp)\n",
    "        x = F.dropout(x, p=0.3)\n",
    "        x = self.linear(x)\n",
    "        return x\n",
    "\n",
    "\n",
    "class FromAeModel(nn.Module):\n",
    "    def __init__(self, seq, pred_len=68, dmodel: int = 256):\n",
    "        super(FromAeModel, self).__init__()\n",
    "        self.seq = seq\n",
    "        self.pred_len = pred_len\n",
    "        self.linear = nn.Sequential(\n",
    "            nn.Linear(dmodel * 2, len(target_cols)),\n",
    "        )\n",
    "\n",
    "    def forward(self, x, bpp):\n",
    "        x = self.seq(x, bpp)\n",
    "        x = self.linear(x)\n",
    "        x = x[:, :self.pred_len]\n",
    "        return x"
   ]
  },
  {
   "cell_type": "code",
   "execution_count": 4,
   "metadata": {},
   "outputs": [],
   "source": [
    "aug_df = pd.read_csv('../OpenVaccine/aug_data1.csv')\n",
    "\n",
    "def aug_data(df):\n",
    "    target_df = df.copy()\n",
    "    new_df = aug_df[aug_df['id'].isin(target_df['id'])]\n",
    "                         \n",
    "    del target_df['structure']\n",
    "    del target_df['predicted_loop_type']\n",
    "    new_df = new_df.merge(target_df, on=['id','sequence'], how='left')\n",
    "\n",
    "    df['cnt'] = df['id'].map(new_df[['id','cnt']].set_index('id').to_dict()['cnt'])\n",
    "    df['log_gamma'] = 100\n",
    "    df['score'] = 1.0\n",
    "    df = df.append(new_df[df.columns])\n",
    "    return df"
   ]
  },
  {
   "cell_type": "code",
   "execution_count": 5,
   "metadata": {},
   "outputs": [],
   "source": [
    "pseudo_df = pd.read_csv('../OpenVaccine/pseudo_test.csv')\n",
    "\n",
    "pseudo_df['SN_filter'] = 1\n",
    "pseudo_df['signal_to_noise'] = 1.0\n",
    "pseudo_df['score'] = 1.0\n",
    "pseudo_df['reactivity'] = pseudo_df['reactivity'].apply(lambda x: ast.literal_eval(x))\n",
    "pseudo_df['deg_Mg_pH10'] = pseudo_df['deg_Mg_pH10'].apply(lambda x: ast.literal_eval(x))\n",
    "pseudo_df['deg_pH10'] = pseudo_df['deg_pH10'].apply(lambda x: ast.literal_eval(x))\n",
    "pseudo_df['deg_Mg_50C'] = pseudo_df['deg_Mg_50C'].apply(lambda x: ast.literal_eval(x))\n",
    "pseudo_df['deg_50C'] = pseudo_df['deg_50C'].apply(lambda x: ast.literal_eval(x))"
   ]
  },
  {
   "cell_type": "code",
   "execution_count": 6,
   "metadata": {},
   "outputs": [
    {
     "name": "stderr",
     "output_type": "stream",
     "text": [
      "/home/thinh/anaconda3/lib/python3.7/site-packages/ipykernel_launcher.py:4: SettingWithCopyWarning: \n",
      "A value is trying to be set on a copy of a slice from a DataFrame.\n",
      "Try using .loc[row_indexer,col_indexer] = value instead\n",
      "\n",
      "See the caveats in the documentation: https://pandas.pydata.org/pandas-docs/stable/user_guide/indexing.html#returning-a-view-versus-a-copy\n",
      "  after removing the cwd from sys.path.\n",
      "/home/thinh/anaconda3/lib/python3.7/site-packages/ipykernel_launcher.py:5: SettingWithCopyWarning: \n",
      "A value is trying to be set on a copy of a slice from a DataFrame.\n",
      "Try using .loc[row_indexer,col_indexer] = value instead\n",
      "\n",
      "See the caveats in the documentation: https://pandas.pydata.org/pandas-docs/stable/user_guide/indexing.html#returning-a-view-versus-a-copy\n",
      "  \"\"\"\n",
      "/home/thinh/anaconda3/lib/python3.7/site-packages/ipykernel_launcher.py:6: SettingWithCopyWarning: \n",
      "A value is trying to be set on a copy of a slice from a DataFrame.\n",
      "Try using .loc[row_indexer,col_indexer] = value instead\n",
      "\n",
      "See the caveats in the documentation: https://pandas.pydata.org/pandas-docs/stable/user_guide/indexing.html#returning-a-view-versus-a-copy\n",
      "  \n",
      "/home/thinh/anaconda3/lib/python3.7/site-packages/ipykernel_launcher.py:7: SettingWithCopyWarning: \n",
      "A value is trying to be set on a copy of a slice from a DataFrame.\n",
      "Try using .loc[row_indexer,col_indexer] = value instead\n",
      "\n",
      "See the caveats in the documentation: https://pandas.pydata.org/pandas-docs/stable/user_guide/indexing.html#returning-a-view-versus-a-copy\n",
      "  import sys\n",
      "/home/thinh/anaconda3/lib/python3.7/site-packages/ipykernel_launcher.py:8: SettingWithCopyWarning: \n",
      "A value is trying to be set on a copy of a slice from a DataFrame.\n",
      "Try using .loc[row_indexer,col_indexer] = value instead\n",
      "\n",
      "See the caveats in the documentation: https://pandas.pydata.org/pandas-docs/stable/user_guide/indexing.html#returning-a-view-versus-a-copy\n",
      "  \n",
      "/home/thinh/anaconda3/lib/python3.7/site-packages/ipykernel_launcher.py:10: SettingWithCopyWarning: \n",
      "A value is trying to be set on a copy of a slice from a DataFrame.\n",
      "Try using .loc[row_indexer,col_indexer] = value instead\n",
      "\n",
      "See the caveats in the documentation: https://pandas.pydata.org/pandas-docs/stable/user_guide/indexing.html#returning-a-view-versus-a-copy\n",
      "  # Remove the CWD from sys.path while we load stuff.\n",
      "/home/thinh/anaconda3/lib/python3.7/site-packages/ipykernel_launcher.py:11: SettingWithCopyWarning: \n",
      "A value is trying to be set on a copy of a slice from a DataFrame.\n",
      "Try using .loc[row_indexer,col_indexer] = value instead\n",
      "\n",
      "See the caveats in the documentation: https://pandas.pydata.org/pandas-docs/stable/user_guide/indexing.html#returning-a-view-versus-a-copy\n",
      "  # This is added back by InteractiveShellApp.init_path()\n",
      "/home/thinh/anaconda3/lib/python3.7/site-packages/ipykernel_launcher.py:12: SettingWithCopyWarning: \n",
      "A value is trying to be set on a copy of a slice from a DataFrame.\n",
      "Try using .loc[row_indexer,col_indexer] = value instead\n",
      "\n",
      "See the caveats in the documentation: https://pandas.pydata.org/pandas-docs/stable/user_guide/indexing.html#returning-a-view-versus-a-copy\n",
      "  if sys.path[0] == '':\n",
      "/home/thinh/anaconda3/lib/python3.7/site-packages/ipykernel_launcher.py:13: SettingWithCopyWarning: \n",
      "A value is trying to be set on a copy of a slice from a DataFrame.\n",
      "Try using .loc[row_indexer,col_indexer] = value instead\n",
      "\n",
      "See the caveats in the documentation: https://pandas.pydata.org/pandas-docs/stable/user_guide/indexing.html#returning-a-view-versus-a-copy\n",
      "  del sys.path[0]\n",
      "/home/thinh/anaconda3/lib/python3.7/site-packages/ipykernel_launcher.py:14: SettingWithCopyWarning: \n",
      "A value is trying to be set on a copy of a slice from a DataFrame.\n",
      "Try using .loc[row_indexer,col_indexer] = value instead\n",
      "\n",
      "See the caveats in the documentation: https://pandas.pydata.org/pandas-docs/stable/user_guide/indexing.html#returning-a-view-versus-a-copy\n",
      "  \n"
     ]
    }
   ],
   "source": [
    "pseudo_st = pseudo_df[pseudo_df['seq_length'] == 107]\n",
    "pseudo_lg = pseudo_df[pseudo_df['seq_length'] == 130]\n",
    "\n",
    "pseudo_st['reactivity'] = pseudo_st['reactivity'].apply(lambda x: x[:68])\n",
    "pseudo_st['deg_Mg_pH10'] = pseudo_st['deg_Mg_pH10'].apply(lambda x: x[:68])\n",
    "pseudo_st['deg_pH10'] = pseudo_st['deg_pH10'].apply(lambda x: x[:68])\n",
    "pseudo_st['deg_Mg_50C'] = pseudo_st['deg_Mg_50C'].apply(lambda x: x[:68])\n",
    "pseudo_st['deg_50C'] = pseudo_st['deg_50C'].apply(lambda x: x[:68])\n",
    "\n",
    "pseudo_lg['reactivity'] = pseudo_lg['reactivity'].apply(lambda x: x[:91])\n",
    "pseudo_lg['deg_Mg_pH10'] = pseudo_lg['deg_Mg_pH10'].apply(lambda x: x[:91])\n",
    "pseudo_lg['deg_pH10'] = pseudo_lg['deg_pH10'].apply(lambda x: x[:91])\n",
    "pseudo_lg['deg_Mg_50C'] = pseudo_lg['deg_Mg_50C'].apply(lambda x: x[:91])\n",
    "pseudo_lg['deg_50C'] = pseudo_lg['deg_50C'].apply(lambda x: x[:91])"
   ]
  },
  {
   "cell_type": "code",
   "execution_count": 7,
   "metadata": {
    "_kg_hide-input": true
   },
   "outputs": [
    {
     "name": "stdout",
     "output_type": "stream",
     "text": [
      "public_df: (1258, 10)\n",
      "private_df: (6010, 10)\n",
      "(1, 107, 107, 3)\n",
      "(1, 107, 107, 3)\n",
      "(1, 130, 130, 3)\n"
     ]
    }
   ],
   "source": [
    "base_train_data = pd.read_json(str(Path(BASE_PATH) / 'train.json'), lines=True)\n",
    "#base_train_data.head()\n",
    "\n",
    "# add aug data\n",
    "\n",
    "base_train_data = aug_data(base_train_data)\n",
    "# base_train_data = base_train_data.append(pseudo_st)\n",
    "base_train_data = base_train_data.reset_index(drop = True)\n",
    "# base_train_data_lg = pseudo_lg.reset_index(drop = True)\n",
    "\n",
    "\n",
    "device = torch.device('cuda')\n",
    "BATCH_SIZE = 64\n",
    "\n",
    "#base_train_data = pd.read_json(str(Path(BASE_PATH) / 'train.json'), lines=True)\n",
    "base_test_data = pd.read_json(str(Path(BASE_PATH) / 'test.json'), lines=True)\n",
    "base_test_data = aug_data(base_test_data)\n",
    "\n",
    "public_df = base_test_data.query(\"seq_length == 107\").copy()\n",
    "private_df = base_test_data.query(\"seq_length == 130\").copy()\n",
    "print(f\"public_df: {public_df.shape}\")\n",
    "print(f\"private_df: {private_df.shape}\")\n",
    "public_df = public_df.reset_index()\n",
    "private_df = private_df.reset_index()\n",
    "\n",
    "features, _ = preprocess(base_train_data, True)\n",
    "features_tensor = torch.from_numpy(features)\n",
    "dataset0 = VacDataset(features_tensor, base_train_data, None)\n",
    "\n",
    "# features, _ = preprocess(base_train_data_lg, True)\n",
    "# features_tensor = torch.from_numpy(features)\n",
    "# dataset0_lg = VacDataset(features_tensor, base_train_data_lg, None)\n",
    "\n",
    "features, _ = preprocess(public_df, True)\n",
    "features_tensor = torch.from_numpy(features)\n",
    "dataset1 = VacDataset(features_tensor, public_df, None)\n",
    "\n",
    "features, _ = preprocess(private_df, True)\n",
    "features_tensor = torch.from_numpy(features)\n",
    "dataset2 = VacDataset(features_tensor, private_df, None)\n",
    "\n",
    "loader0 = torch.utils.data.DataLoader(dataset0, BATCH_SIZE, shuffle=False, drop_last=False)\n",
    "# loader0_lg = torch.utils.data.DataLoader(dataset0_lg, BATCH_SIZE, shuffle=False, drop_last=False)\n",
    "loader1 = torch.utils.data.DataLoader(dataset1, BATCH_SIZE, shuffle=False, drop_last=False)\n",
    "loader2 = torch.utils.data.DataLoader(dataset2, BATCH_SIZE, shuffle=False, drop_last=False)"
   ]
  },
  {
   "cell_type": "markdown",
   "metadata": {},
   "source": [
    "### Pretrain"
   ]
  },
  {
   "cell_type": "code",
   "execution_count": 8,
   "metadata": {},
   "outputs": [],
   "source": [
    "def learn_from_batch_ae(model, data, device):\n",
    "    seq = data[\"sequence\"].clone()\n",
    "    seq[:, :, :14] = F.dropout2d(seq[:, :, :14], p=0.3)\n",
    "    target = data[\"sequence\"][:, :, :14]\n",
    "    out = model(seq.to(device), data[\"bpp\"].to(device))\n",
    "    loss = F.binary_cross_entropy(out, target.to(device))\n",
    "    return loss\n",
    "\n",
    "\n",
    "def train_ae(model, train_data, optimizer, lr_scheduler, epochs=10, device=\"cpu\", \n",
    "             start_epoch: int = 0, start_it: int = 0, log_path: str = \"./logs\"): #10\n",
    "    print(f\"device: {device}\")\n",
    "    losses = []\n",
    "    it = start_it\n",
    "    model_save_path = Path(MODEL_SAVE_PATH)\n",
    "    start_epoch = start_epoch\n",
    "    end_epoch = start_epoch + epochs\n",
    "    min_loss = 10.0\n",
    "    min_loss_epoch = 0\n",
    "    if not model_save_path.exists():\n",
    "        model_save_path.mkdir(parents=True)\n",
    "    for epoch in progress_bar(range(start_epoch, end_epoch)):\n",
    "        print(f\"epoch: {epoch}\")\n",
    "        model.train()\n",
    "        for i, data in enumerate(train_data):\n",
    "            optimizer.zero_grad()\n",
    "            loss = learn_from_batch_ae(model, data, device)\n",
    "            loss.backward()\n",
    "            nn.utils.clip_grad_norm_(model.parameters(), 0.5)\n",
    "            optimizer.step()\n",
    "            if lr_scheduler:\n",
    "                lr_scheduler.step()\n",
    "            loss_v = loss.item()\n",
    "            losses.append(loss_v)\n",
    "            it += 1\n",
    "        loss_m = np.mean(losses)\n",
    "        if loss_m < min_loss:\n",
    "            min_loss_epoch = epoch\n",
    "            min_loss = loss_m\n",
    "        print(f'epoch: {epoch} loss: {loss_m}')\n",
    "        losses = []\n",
    "        torch.save(optimizer.state_dict(), str(model_save_path / \"optimizer.pt\"))\n",
    "        torch.save(model.state_dict(), str(model_save_path / f\"model-{epoch}.pt\"))\n",
    "    return dict(end_epoch=end_epoch, it=it, min_loss_epoch=min_loss_epoch)"
   ]
  },
  {
   "cell_type": "code",
   "execution_count": 9,
   "metadata": {},
   "outputs": [
    {
     "name": "stdout",
     "output_type": "stream",
     "text": [
      "--loader0\n",
      "device: cuda\n"
     ]
    },
    {
     "data": {
      "text/html": [
       "\n",
       "    <div>\n",
       "        <style>\n",
       "            /* Turns off some styling */\n",
       "            progress {\n",
       "                /* gets rid of default border in Firefox and Opera. */\n",
       "                border: none;\n",
       "                /* Needs to be in here for Safari polyfill so background images work as expected. */\n",
       "                background-size: auto;\n",
       "            }\n",
       "            .progress-bar-interrupted, .progress-bar-interrupted::-webkit-progress-bar {\n",
       "                background: #F44336;\n",
       "            }\n",
       "        </style>\n",
       "      <progress value='5' class='' max='5' style='width:300px; height:20px; vertical-align: middle;'></progress>\n",
       "      100.00% [5/5 01:49<00:00]\n",
       "    </div>\n",
       "    "
      ],
      "text/plain": [
       "<IPython.core.display.HTML object>"
      ]
     },
     "metadata": {},
     "output_type": "display_data"
    },
    {
     "name": "stdout",
     "output_type": "stream",
     "text": [
      "epoch: 0\n",
      "epoch: 0 loss: 0.25064601679642995\n",
      "epoch: 1\n",
      "epoch: 1 loss: 0.1384060760339101\n",
      "epoch: 2\n",
      "epoch: 2 loss: 0.08038593033949534\n",
      "epoch: 3\n",
      "epoch: 3 loss: 0.03185466726620992\n",
      "epoch: 4\n",
      "epoch: 4 loss: 0.019618625019987426\n",
      "--loader1\n",
      "device: cuda\n"
     ]
    },
    {
     "data": {
      "text/html": [
       "\n",
       "    <div>\n",
       "        <style>\n",
       "            /* Turns off some styling */\n",
       "            progress {\n",
       "                /* gets rid of default border in Firefox and Opera. */\n",
       "                border: none;\n",
       "                /* Needs to be in here for Safari polyfill so background images work as expected. */\n",
       "                background-size: auto;\n",
       "            }\n",
       "            .progress-bar-interrupted, .progress-bar-interrupted::-webkit-progress-bar {\n",
       "                background: #F44336;\n",
       "            }\n",
       "        </style>\n",
       "      <progress value='5' class='' max='5' style='width:300px; height:20px; vertical-align: middle;'></progress>\n",
       "      100.00% [5/5 00:30<00:00]\n",
       "    </div>\n",
       "    "
      ],
      "text/plain": [
       "<IPython.core.display.HTML object>"
      ]
     },
     "metadata": {},
     "output_type": "display_data"
    },
    {
     "name": "stdout",
     "output_type": "stream",
     "text": [
      "epoch: 5\n",
      "epoch: 5 loss: 0.017772705294191837\n",
      "epoch: 6\n",
      "epoch: 6 loss: 0.01611646986566484\n",
      "epoch: 7\n",
      "epoch: 7 loss: 0.013704161671921612\n",
      "epoch: 8\n",
      "epoch: 8 loss: 0.011801821365952491\n",
      "epoch: 9\n",
      "epoch: 9 loss: 0.010440635774284602\n",
      "--loader2\n",
      "device: cuda\n"
     ]
    },
    {
     "data": {
      "text/html": [
       "\n",
       "    <div>\n",
       "        <style>\n",
       "            /* Turns off some styling */\n",
       "            progress {\n",
       "                /* gets rid of default border in Firefox and Opera. */\n",
       "                border: none;\n",
       "                /* Needs to be in here for Safari polyfill so background images work as expected. */\n",
       "                background-size: auto;\n",
       "            }\n",
       "            .progress-bar-interrupted, .progress-bar-interrupted::-webkit-progress-bar {\n",
       "                background: #F44336;\n",
       "            }\n",
       "        </style>\n",
       "      <progress value='5' class='' max='5' style='width:300px; height:20px; vertical-align: middle;'></progress>\n",
       "      100.00% [5/5 03:04<00:00]\n",
       "    </div>\n",
       "    "
      ],
      "text/plain": [
       "<IPython.core.display.HTML object>"
      ]
     },
     "metadata": {},
     "output_type": "display_data"
    },
    {
     "name": "stdout",
     "output_type": "stream",
     "text": [
      "epoch: 10\n",
      "epoch: 10 loss: 0.01808331135977456\n",
      "epoch: 11\n",
      "epoch: 11 loss: 0.014588844268879991\n",
      "epoch: 12\n",
      "epoch: 12 loss: 0.012971125731363576\n",
      "epoch: 13\n",
      "epoch: 13 loss: 0.012219857741543588\n",
      "epoch: 14\n",
      "epoch: 14 loss: 0.011251784831364738\n",
      "--loader0\n",
      "device: cuda\n"
     ]
    },
    {
     "data": {
      "text/html": [
       "\n",
       "    <div>\n",
       "        <style>\n",
       "            /* Turns off some styling */\n",
       "            progress {\n",
       "                /* gets rid of default border in Firefox and Opera. */\n",
       "                border: none;\n",
       "                /* Needs to be in here for Safari polyfill so background images work as expected. */\n",
       "                background-size: auto;\n",
       "            }\n",
       "            .progress-bar-interrupted, .progress-bar-interrupted::-webkit-progress-bar {\n",
       "                background: #F44336;\n",
       "            }\n",
       "        </style>\n",
       "      <progress value='5' class='' max='5' style='width:300px; height:20px; vertical-align: middle;'></progress>\n",
       "      100.00% [5/5 01:51<00:00]\n",
       "    </div>\n",
       "    "
      ],
      "text/plain": [
       "<IPython.core.display.HTML object>"
      ]
     },
     "metadata": {},
     "output_type": "display_data"
    },
    {
     "name": "stdout",
     "output_type": "stream",
     "text": [
      "epoch: 15\n",
      "epoch: 15 loss: 0.11141376870994767\n",
      "epoch: 16\n",
      "epoch: 16 loss: 0.14910804033279418\n",
      "epoch: 17\n",
      "epoch: 17 loss: 0.1133262633283933\n",
      "epoch: 18\n",
      "epoch: 18 loss: 0.08852919230858484\n",
      "epoch: 19\n",
      "epoch: 19 loss: 0.0644798181951046\n",
      "--loader1\n",
      "device: cuda\n"
     ]
    },
    {
     "data": {
      "text/html": [
       "\n",
       "    <div>\n",
       "        <style>\n",
       "            /* Turns off some styling */\n",
       "            progress {\n",
       "                /* gets rid of default border in Firefox and Opera. */\n",
       "                border: none;\n",
       "                /* Needs to be in here for Safari polyfill so background images work as expected. */\n",
       "                background-size: auto;\n",
       "            }\n",
       "            .progress-bar-interrupted, .progress-bar-interrupted::-webkit-progress-bar {\n",
       "                background: #F44336;\n",
       "            }\n",
       "        </style>\n",
       "      <progress value='5' class='' max='5' style='width:300px; height:20px; vertical-align: middle;'></progress>\n",
       "      100.00% [5/5 00:29<00:00]\n",
       "    </div>\n",
       "    "
      ],
      "text/plain": [
       "<IPython.core.display.HTML object>"
      ]
     },
     "metadata": {},
     "output_type": "display_data"
    },
    {
     "name": "stdout",
     "output_type": "stream",
     "text": [
      "epoch: 20\n",
      "epoch: 20 loss: 0.04376504682004452\n",
      "epoch: 21\n",
      "epoch: 21 loss: 0.03720299247652292\n",
      "epoch: 22\n",
      "epoch: 22 loss: 0.031649123318493365\n",
      "epoch: 23\n",
      "epoch: 23 loss: 0.028315145894885062\n",
      "epoch: 24\n",
      "epoch: 24 loss: 0.024756696540862322\n",
      "--loader2\n",
      "device: cuda\n"
     ]
    },
    {
     "data": {
      "text/html": [
       "\n",
       "    <div>\n",
       "        <style>\n",
       "            /* Turns off some styling */\n",
       "            progress {\n",
       "                /* gets rid of default border in Firefox and Opera. */\n",
       "                border: none;\n",
       "                /* Needs to be in here for Safari polyfill so background images work as expected. */\n",
       "                background-size: auto;\n",
       "            }\n",
       "            .progress-bar-interrupted, .progress-bar-interrupted::-webkit-progress-bar {\n",
       "                background: #F44336;\n",
       "            }\n",
       "        </style>\n",
       "      <progress value='5' class='' max='5' style='width:300px; height:20px; vertical-align: middle;'></progress>\n",
       "      100.00% [5/5 03:04<00:00]\n",
       "    </div>\n",
       "    "
      ],
      "text/plain": [
       "<IPython.core.display.HTML object>"
      ]
     },
     "metadata": {},
     "output_type": "display_data"
    },
    {
     "name": "stdout",
     "output_type": "stream",
     "text": [
      "epoch: 25\n",
      "epoch: 25 loss: 0.02692662131913165\n",
      "epoch: 26\n",
      "epoch: 26 loss: 0.02191674142600374\n",
      "epoch: 27\n",
      "epoch: 27 loss: 0.019343210384249687\n",
      "epoch: 28\n",
      "epoch: 28 loss: 0.018591710326677943\n",
      "epoch: 29\n",
      "epoch: 29 loss: 0.018955215732467934\n",
      "--loader0\n",
      "device: cuda\n"
     ]
    },
    {
     "data": {
      "text/html": [
       "\n",
       "    <div>\n",
       "        <style>\n",
       "            /* Turns off some styling */\n",
       "            progress {\n",
       "                /* gets rid of default border in Firefox and Opera. */\n",
       "                border: none;\n",
       "                /* Needs to be in here for Safari polyfill so background images work as expected. */\n",
       "                background-size: auto;\n",
       "            }\n",
       "            .progress-bar-interrupted, .progress-bar-interrupted::-webkit-progress-bar {\n",
       "                background: #F44336;\n",
       "            }\n",
       "        </style>\n",
       "      <progress value='5' class='' max='5' style='width:300px; height:20px; vertical-align: middle;'></progress>\n",
       "      100.00% [5/5 01:51<00:00]\n",
       "    </div>\n",
       "    "
      ],
      "text/plain": [
       "<IPython.core.display.HTML object>"
      ]
     },
     "metadata": {},
     "output_type": "display_data"
    },
    {
     "name": "stdout",
     "output_type": "stream",
     "text": [
      "epoch: 30\n",
      "epoch: 30 loss: 0.01184980947524309\n",
      "epoch: 31\n",
      "epoch: 31 loss: 0.011005594283342362\n",
      "epoch: 32\n",
      "epoch: 32 loss: 0.010138162014385065\n",
      "epoch: 33\n",
      "epoch: 33 loss: 0.00937236485381921\n",
      "epoch: 34\n",
      "epoch: 34 loss: 0.009434934935222069\n",
      "--loader1\n",
      "device: cuda\n"
     ]
    },
    {
     "data": {
      "text/html": [
       "\n",
       "    <div>\n",
       "        <style>\n",
       "            /* Turns off some styling */\n",
       "            progress {\n",
       "                /* gets rid of default border in Firefox and Opera. */\n",
       "                border: none;\n",
       "                /* Needs to be in here for Safari polyfill so background images work as expected. */\n",
       "                background-size: auto;\n",
       "            }\n",
       "            .progress-bar-interrupted, .progress-bar-interrupted::-webkit-progress-bar {\n",
       "                background: #F44336;\n",
       "            }\n",
       "        </style>\n",
       "      <progress value='5' class='' max='5' style='width:300px; height:20px; vertical-align: middle;'></progress>\n",
       "      100.00% [5/5 00:29<00:00]\n",
       "    </div>\n",
       "    "
      ],
      "text/plain": [
       "<IPython.core.display.HTML object>"
      ]
     },
     "metadata": {},
     "output_type": "display_data"
    },
    {
     "name": "stdout",
     "output_type": "stream",
     "text": [
      "epoch: 35\n",
      "epoch: 35 loss: 0.007858033105731011\n",
      "epoch: 36\n",
      "epoch: 36 loss: 0.008021229738369584\n",
      "epoch: 37\n",
      "epoch: 37 loss: 0.0076625833986327056\n",
      "epoch: 38\n",
      "epoch: 38 loss: 0.007388785784132779\n",
      "epoch: 39\n",
      "epoch: 39 loss: 0.006525391549803317\n",
      "--loader2\n",
      "device: cuda\n"
     ]
    },
    {
     "data": {
      "text/html": [
       "\n",
       "    <div>\n",
       "        <style>\n",
       "            /* Turns off some styling */\n",
       "            progress {\n",
       "                /* gets rid of default border in Firefox and Opera. */\n",
       "                border: none;\n",
       "                /* Needs to be in here for Safari polyfill so background images work as expected. */\n",
       "                background-size: auto;\n",
       "            }\n",
       "            .progress-bar-interrupted, .progress-bar-interrupted::-webkit-progress-bar {\n",
       "                background: #F44336;\n",
       "            }\n",
       "        </style>\n",
       "      <progress value='5' class='' max='5' style='width:300px; height:20px; vertical-align: middle;'></progress>\n",
       "      100.00% [5/5 03:05<00:00]\n",
       "    </div>\n",
       "    "
      ],
      "text/plain": [
       "<IPython.core.display.HTML object>"
      ]
     },
     "metadata": {},
     "output_type": "display_data"
    },
    {
     "name": "stdout",
     "output_type": "stream",
     "text": [
      "epoch: 40\n",
      "epoch: 40 loss: 0.014415230730825917\n",
      "epoch: 41\n",
      "epoch: 41 loss: 0.013332009156967731\n",
      "epoch: 42\n",
      "epoch: 42 loss: 0.01705033711573862\n",
      "epoch: 43\n",
      "epoch: 43 loss: 0.030063067166570652\n",
      "epoch: 44\n",
      "epoch: 44 loss: 0.01620889058772554\n",
      "--loader0\n",
      "device: cuda\n"
     ]
    },
    {
     "data": {
      "text/html": [
       "\n",
       "    <div>\n",
       "        <style>\n",
       "            /* Turns off some styling */\n",
       "            progress {\n",
       "                /* gets rid of default border in Firefox and Opera. */\n",
       "                border: none;\n",
       "                /* Needs to be in here for Safari polyfill so background images work as expected. */\n",
       "                background-size: auto;\n",
       "            }\n",
       "            .progress-bar-interrupted, .progress-bar-interrupted::-webkit-progress-bar {\n",
       "                background: #F44336;\n",
       "            }\n",
       "        </style>\n",
       "      <progress value='5' class='' max='5' style='width:300px; height:20px; vertical-align: middle;'></progress>\n",
       "      100.00% [5/5 01:52<00:00]\n",
       "    </div>\n",
       "    "
      ],
      "text/plain": [
       "<IPython.core.display.HTML object>"
      ]
     },
     "metadata": {},
     "output_type": "display_data"
    },
    {
     "name": "stdout",
     "output_type": "stream",
     "text": [
      "epoch: 45\n",
      "epoch: 45 loss: 0.0104247345837454\n",
      "epoch: 46\n",
      "epoch: 46 loss: 0.010372398793697358\n",
      "epoch: 47\n",
      "epoch: 47 loss: 0.011601323901365201\n",
      "epoch: 48\n",
      "epoch: 48 loss: 0.030044919215142726\n",
      "epoch: 49\n",
      "epoch: 49 loss: 0.0157378122707208\n",
      "--loader1\n",
      "device: cuda\n"
     ]
    },
    {
     "data": {
      "text/html": [
       "\n",
       "    <div>\n",
       "        <style>\n",
       "            /* Turns off some styling */\n",
       "            progress {\n",
       "                /* gets rid of default border in Firefox and Opera. */\n",
       "                border: none;\n",
       "                /* Needs to be in here for Safari polyfill so background images work as expected. */\n",
       "                background-size: auto;\n",
       "            }\n",
       "            .progress-bar-interrupted, .progress-bar-interrupted::-webkit-progress-bar {\n",
       "                background: #F44336;\n",
       "            }\n",
       "        </style>\n",
       "      <progress value='5' class='' max='5' style='width:300px; height:20px; vertical-align: middle;'></progress>\n",
       "      100.00% [5/5 00:30<00:00]\n",
       "    </div>\n",
       "    "
      ],
      "text/plain": [
       "<IPython.core.display.HTML object>"
      ]
     },
     "metadata": {},
     "output_type": "display_data"
    },
    {
     "name": "stdout",
     "output_type": "stream",
     "text": [
      "epoch: 50\n",
      "epoch: 50 loss: 0.009795540105551481\n",
      "epoch: 51\n",
      "epoch: 51 loss: 0.009084979956969618\n",
      "epoch: 52\n",
      "epoch: 52 loss: 0.009306920599192381\n",
      "epoch: 53\n",
      "epoch: 53 loss: 0.011493802862241864\n",
      "epoch: 54\n",
      "epoch: 54 loss: 0.01057223421521485\n",
      "--loader2\n",
      "device: cuda\n"
     ]
    },
    {
     "data": {
      "text/html": [
       "\n",
       "    <div>\n",
       "        <style>\n",
       "            /* Turns off some styling */\n",
       "            progress {\n",
       "                /* gets rid of default border in Firefox and Opera. */\n",
       "                border: none;\n",
       "                /* Needs to be in here for Safari polyfill so background images work as expected. */\n",
       "                background-size: auto;\n",
       "            }\n",
       "            .progress-bar-interrupted, .progress-bar-interrupted::-webkit-progress-bar {\n",
       "                background: #F44336;\n",
       "            }\n",
       "        </style>\n",
       "      <progress value='5' class='' max='5' style='width:300px; height:20px; vertical-align: middle;'></progress>\n",
       "      100.00% [5/5 03:06<00:00]\n",
       "    </div>\n",
       "    "
      ],
      "text/plain": [
       "<IPython.core.display.HTML object>"
      ]
     },
     "metadata": {},
     "output_type": "display_data"
    },
    {
     "name": "stdout",
     "output_type": "stream",
     "text": [
      "epoch: 55\n",
      "epoch: 55 loss: 0.019030503562076927\n",
      "epoch: 56\n",
      "epoch: 56 loss: 0.016735949563456975\n",
      "epoch: 57\n",
      "epoch: 57 loss: 0.014369799279944693\n",
      "epoch: 58\n",
      "epoch: 58 loss: 0.013059445131728624\n",
      "epoch: 59\n",
      "epoch: 59 loss: 0.012738071332507312\n"
     ]
    },
    {
     "data": {
      "text/plain": [
       "'ae-model.pt'"
      ]
     },
     "execution_count": 9,
     "metadata": {},
     "output_type": "execute_result"
    }
   ],
   "source": [
    "import shutil\n",
    "\n",
    "set_seed(123)\n",
    "shutil.rmtree(\"./model\", True)\n",
    "shutil.rmtree(\"./logs\", True)\n",
    "save_path = Path(\"./model_prediction\")\n",
    "if not save_path.exists():\n",
    "    save_path.mkdir(parents=True)\n",
    "\n",
    "lr_scheduler = None\n",
    "device = \"cuda\" if torch.cuda.is_available() else \"cpu\"\n",
    "model = AEModel()\n",
    "model = model.to(device)\n",
    "optimizer = torch.optim.Adam(model.parameters(), lr=1e-3)\n",
    "res = dict(end_epoch=0, it=0, min_loss_epoch=0)\n",
    "epochs = [5, 5, 5, 5] # [5, 5, 5, 5]\n",
    "for e in epochs:\n",
    "    print('--loader0')\n",
    "    res = train_ae(model, loader0, optimizer, lr_scheduler, e, device=device,\n",
    "                   start_epoch=res[\"end_epoch\"], start_it=res[\"it\"])\n",
    "#     print('--loader0_lg')\n",
    "#     res = train_ae(model, loader0_lg, optimizer, lr_scheduler, e, device=device,\n",
    "#                    start_epoch=res[\"end_epoch\"], start_it=res[\"it\"])\n",
    "    print('--loader1')\n",
    "    res = train_ae(model, loader1, optimizer, lr_scheduler, e, device=device,\n",
    "                   start_epoch=res[\"end_epoch\"], start_it=res[\"it\"])\n",
    "    print('--loader2')\n",
    "    res = train_ae(model, loader2, optimizer, lr_scheduler, e, device=device,\n",
    "                   start_epoch=res[\"end_epoch\"], start_it=res[\"it\"])\n",
    "\n",
    "epoch = res[\"min_loss_epoch\"]\n",
    "shutil.copyfile(str(Path(MODEL_SAVE_PATH) / f\"model-{epoch}.pt\"), \"ae-model.pt\")"
   ]
  },
  {
   "cell_type": "markdown",
   "metadata": {},
   "source": [
    "### Training"
   ]
  },
  {
   "cell_type": "code",
   "execution_count": 10,
   "metadata": {
    "_kg_hide-input": true
   },
   "outputs": [],
   "source": [
    "def MCRMSE(y_true, y_pred):\n",
    "    colwise_mse = torch.mean(torch.square(y_true - y_pred), dim=1)\n",
    "    return torch.mean(torch.sqrt(colwise_mse), dim=1)\n",
    "\n",
    "\n",
    "def sn_mcrmse_loss(predict, target, signal_to_noise):\n",
    "    loss = MCRMSE(target, predict)\n",
    "    weight = 0.5 * torch.log(signal_to_noise + 1.01)\n",
    "    loss = (loss * weight).mean()\n",
    "    return loss\n",
    "\n",
    "\n",
    "def learn_from_batch(model, data, optimizer, lr_scheduler, device):\n",
    "    optimizer.zero_grad()\n",
    "\n",
    "    out = model(data[\"sequence\"].to(device), data[\"bpp\"].to(device))\n",
    "    out = out[:, :data[\"label\"].shape[1]]\n",
    "    signal_to_noise = data[\"signal_to_noise\"] * data[\"score\"]\n",
    "    loss = sn_mcrmse_loss(out, data[\"label\"].to(device), signal_to_noise.to(device))\n",
    "    loss.backward()\n",
    "    nn.utils.clip_grad_norm_(model.parameters(), 0.5)\n",
    "    optimizer.step()\n",
    "    if lr_scheduler:\n",
    "        lr_scheduler.step()\n",
    "    return out, loss\n",
    "\n",
    "def predict_batch(model, data, device):\n",
    "    # batch x seq_len x target_size\n",
    "    with torch.no_grad():\n",
    "        pred = model(data[\"sequence\"].to(device), data[\"bpp\"].to(device))\n",
    "        pred = pred.detach().cpu().numpy()\n",
    "    return_values = []\n",
    "    ids = data[\"ids\"]\n",
    "    for idx, p in enumerate(pred):\n",
    "        id_ = ids[idx]\n",
    "        assert p.shape == (model.pred_len, len(target_cols))\n",
    "        for seqpos, val in enumerate(p):\n",
    "            assert len(val) == len(target_cols)\n",
    "            dic = {key: val for key, val in zip(target_cols, val)}\n",
    "            dic[\"id_seqpos\"] = f\"{id_}_{seqpos}\"\n",
    "            return_values.append(dic)\n",
    "    return return_values\n",
    "\n",
    "\n",
    "def predict_data(model, loader, device, batch_size):\n",
    "    model.eval()\n",
    "    data_list = []\n",
    "    for i, data in enumerate(progress_bar(loader)):\n",
    "        data_list += predict_batch(model, data, device)\n",
    "    expected_length = model.pred_len * len(loader) * batch_size\n",
    "#     assert len(data_list) == expected_length, f\"len = {len(data_list)} expected = {expected_length}\"\n",
    "    return data_list\n",
    "\n",
    "def evaluate(model, valid_data, device):\n",
    "    model.eval()\n",
    "    loss_list = []\n",
    "    mcrmse = []\n",
    "    for i, data in enumerate(valid_data):\n",
    "        with torch.no_grad():\n",
    "            y = model(data[\"sequence\"].to(device), data[\"bpp\"].to(device))\n",
    "            y = y[:, :68]\n",
    "            mcrmse_ = MCRMSE(data[\"label\"].to(device), y)[data[\"signal_to_noise\"] > 1]\n",
    "            mcrmse.append(mcrmse_.mean().item())\n",
    "            loss = sn_mcrmse_loss(y, data[\"label\"].to(device), data[\"signal_to_noise\"].to(device))\n",
    "            loss_list.append(loss.item())\n",
    "    model.train()\n",
    "    return dict(loss=np.mean(loss_list), mcmse=np.mean(mcrmse))\n",
    "\n",
    "def train(model, train_data, valid_data, train_data_lg, valid_data_lg, optimizer, lr_scheduler, epochs=10, device=\"cpu\",\n",
    "          start_epoch: int = 0, log_path: str = \"./logs\"):\n",
    "    print(f\"device: {device}\")\n",
    "    losses = []\n",
    "    writer = SummaryWriter(log_path)\n",
    "    it = 0\n",
    "    model_save_path = Path(MODEL_SAVE_PATH)\n",
    "    start_epoch = start_epoch\n",
    "    end_epoch = start_epoch + epochs\n",
    "    if not model_save_path.exists():\n",
    "        model_save_path.mkdir(parents=True)\n",
    "    min_eval_loss = 10.0\n",
    "    min_eval_epoch = None\n",
    "    for epoch in progress_bar(range(start_epoch, end_epoch)):\n",
    "        print(f\"epoch: {epoch}\")\n",
    "        model.train()\n",
    "        \n",
    "        for i, (data, data_lg) in enumerate(itertools.zip_longest(train_data, train_data_lg)):\n",
    "            if data_lg is not None:\n",
    "                _, loss_lg = learn_from_batch(model, data_lg, optimizer, lr_scheduler, device)\n",
    "                losses.append(loss_lg.item())\n",
    "                \n",
    "            _, loss = learn_from_batch(model, data, optimizer, lr_scheduler, device)\n",
    "            loss_v = loss.item()\n",
    "            writer.add_scalar('loss', loss_v, it)\n",
    "            losses.append(loss_v)\n",
    "            it += 1\n",
    "        print(f'epoch: {epoch} loss: {np.mean(losses)}')\n",
    "        losses = []\n",
    "\n",
    "        eval_result = evaluate(model, valid_data, device)\n",
    "        eval_loss = eval_result[\"loss\"]\n",
    "        if eval_loss <= min_eval_loss:\n",
    "            min_eval_epoch = epoch\n",
    "            min_eval_loss = eval_loss\n",
    "            min_mcrmse = eval_result[\"mcmse\"]\n",
    "            valid_pred = predict_data(model, valid_data, device, BATCH_SIZE)\n",
    "\n",
    "        print(f\"eval loss: {eval_loss} {eval_result['mcmse']}\")\n",
    "        writer.add_scalar(f\"evaluate/loss\", eval_loss, epoch)\n",
    "        writer.add_scalar(f\"evaluate/mcmse\", eval_result[\"mcmse\"], epoch)\n",
    "        model.train()\n",
    "        torch.save(optimizer.state_dict(), str(model_save_path / \"optimizer.pt\"))\n",
    "        torch.save(model.state_dict(), str(model_save_path / f\"model-{epoch}.pt\"))\n",
    "        \n",
    "    print(f'min eval loss: {min_eval_loss} min mcrmse: {min_mcrmse} epoch {min_eval_epoch}')\n",
    "    return min_eval_epoch, valid_pred"
   ]
  },
  {
   "cell_type": "code",
   "execution_count": 11,
   "metadata": {},
   "outputs": [
    {
     "name": "stdout",
     "output_type": "stream",
     "text": [
      "fold: 0\n",
      "(1, 107, 107, 3)\n",
      "(1, 107, 107, 3)\n",
      "(4343, 23) (1086, 23)\n",
      "(1, 130, 130, 3)\n",
      "(1, 130, 130, 3)\n",
      "(2404, 16) (601, 16)\n",
      "device: cuda\n"
     ]
    },
    {
     "data": {
      "text/html": [
       "\n",
       "    <div>\n",
       "        <style>\n",
       "            /* Turns off some styling */\n",
       "            progress {\n",
       "                /* gets rid of default border in Firefox and Opera. */\n",
       "                border: none;\n",
       "                /* Needs to be in here for Safari polyfill so background images work as expected. */\n",
       "                background-size: auto;\n",
       "            }\n",
       "            .progress-bar-interrupted, .progress-bar-interrupted::-webkit-progress-bar {\n",
       "                background: #F44336;\n",
       "            }\n",
       "        </style>\n",
       "      <progress value='120' class='' max='120' style='width:300px; height:20px; vertical-align: middle;'></progress>\n",
       "      100.00% [120/120 1:16:02<00:00]\n",
       "    </div>\n",
       "    "
      ],
      "text/plain": [
       "<IPython.core.display.HTML object>"
      ]
     },
     "metadata": {},
     "output_type": "display_data"
    },
    {
     "name": "stdout",
     "output_type": "stream",
     "text": [
      "epoch: 0\n",
      "epoch: 0 loss: 0.18869469190160354\n"
     ]
    },
    {
     "data": {
      "text/html": [
       "\n",
       "    <div>\n",
       "        <style>\n",
       "            /* Turns off some styling */\n",
       "            progress {\n",
       "                /* gets rid of default border in Firefox and Opera. */\n",
       "                border: none;\n",
       "                /* Needs to be in here for Safari polyfill so background images work as expected. */\n",
       "                background-size: auto;\n",
       "            }\n",
       "            .progress-bar-interrupted, .progress-bar-interrupted::-webkit-progress-bar {\n",
       "                background: #F44336;\n",
       "            }\n",
       "        </style>\n",
       "      <progress value='17' class='' max='17' style='width:300px; height:20px; vertical-align: middle;'></progress>\n",
       "      100.00% [17/17 00:01<00:00]\n",
       "    </div>\n",
       "    "
      ],
      "text/plain": [
       "<IPython.core.display.HTML object>"
      ]
     },
     "metadata": {},
     "output_type": "display_data"
    },
    {
     "name": "stdout",
     "output_type": "stream",
     "text": [
      "eval loss: 0.21509586582567805 0.30248562270230833\n",
      "epoch: 1\n",
      "epoch: 1 loss: 0.15431082517049252\n"
     ]
    },
    {
     "data": {
      "text/html": [
       "\n",
       "    <div>\n",
       "        <style>\n",
       "            /* Turns off some styling */\n",
       "            progress {\n",
       "                /* gets rid of default border in Firefox and Opera. */\n",
       "                border: none;\n",
       "                /* Needs to be in here for Safari polyfill so background images work as expected. */\n",
       "                background-size: auto;\n",
       "            }\n",
       "            .progress-bar-interrupted, .progress-bar-interrupted::-webkit-progress-bar {\n",
       "                background: #F44336;\n",
       "            }\n",
       "        </style>\n",
       "      <progress value='17' class='' max='17' style='width:300px; height:20px; vertical-align: middle;'></progress>\n",
       "      100.00% [17/17 00:01<00:00]\n",
       "    </div>\n",
       "    "
      ],
      "text/plain": [
       "<IPython.core.display.HTML object>"
      ]
     },
     "metadata": {},
     "output_type": "display_data"
    },
    {
     "name": "stdout",
     "output_type": "stream",
     "text": [
      "eval loss: 0.19450895108046576 0.2751677992319841\n",
      "epoch: 2\n",
      "epoch: 2 loss: 0.1409647957733456\n"
     ]
    },
    {
     "data": {
      "text/html": [
       "\n",
       "    <div>\n",
       "        <style>\n",
       "            /* Turns off some styling */\n",
       "            progress {\n",
       "                /* gets rid of default border in Firefox and Opera. */\n",
       "                border: none;\n",
       "                /* Needs to be in here for Safari polyfill so background images work as expected. */\n",
       "                background-size: auto;\n",
       "            }\n",
       "            .progress-bar-interrupted, .progress-bar-interrupted::-webkit-progress-bar {\n",
       "                background: #F44336;\n",
       "            }\n",
       "        </style>\n",
       "      <progress value='17' class='' max='17' style='width:300px; height:20px; vertical-align: middle;'></progress>\n",
       "      100.00% [17/17 00:01<00:00]\n",
       "    </div>\n",
       "    "
      ],
      "text/plain": [
       "<IPython.core.display.HTML object>"
      ]
     },
     "metadata": {},
     "output_type": "display_data"
    },
    {
     "name": "stdout",
     "output_type": "stream",
     "text": [
      "eval loss: 0.18319475955616493 0.25941055190707996\n",
      "epoch: 3\n",
      "epoch: 3 loss: 0.13313073580271603\n"
     ]
    },
    {
     "data": {
      "text/html": [
       "\n",
       "    <div>\n",
       "        <style>\n",
       "            /* Turns off some styling */\n",
       "            progress {\n",
       "                /* gets rid of default border in Firefox and Opera. */\n",
       "                border: none;\n",
       "                /* Needs to be in here for Safari polyfill so background images work as expected. */\n",
       "                background-size: auto;\n",
       "            }\n",
       "            .progress-bar-interrupted, .progress-bar-interrupted::-webkit-progress-bar {\n",
       "                background: #F44336;\n",
       "            }\n",
       "        </style>\n",
       "      <progress value='17' class='' max='17' style='width:300px; height:20px; vertical-align: middle;'></progress>\n",
       "      100.00% [17/17 00:01<00:00]\n",
       "    </div>\n",
       "    "
      ],
      "text/plain": [
       "<IPython.core.display.HTML object>"
      ]
     },
     "metadata": {},
     "output_type": "display_data"
    },
    {
     "name": "stdout",
     "output_type": "stream",
     "text": [
      "eval loss: 0.1751153792362447 0.24878046937433704\n",
      "epoch: 4\n",
      "epoch: 4 loss: 0.1260147069673287\n"
     ]
    },
    {
     "data": {
      "text/html": [
       "\n",
       "    <div>\n",
       "        <style>\n",
       "            /* Turns off some styling */\n",
       "            progress {\n",
       "                /* gets rid of default border in Firefox and Opera. */\n",
       "                border: none;\n",
       "                /* Needs to be in here for Safari polyfill so background images work as expected. */\n",
       "                background-size: auto;\n",
       "            }\n",
       "            .progress-bar-interrupted, .progress-bar-interrupted::-webkit-progress-bar {\n",
       "                background: #F44336;\n",
       "            }\n",
       "        </style>\n",
       "      <progress value='17' class='' max='17' style='width:300px; height:20px; vertical-align: middle;'></progress>\n",
       "      100.00% [17/17 00:01<00:00]\n",
       "    </div>\n",
       "    "
      ],
      "text/plain": [
       "<IPython.core.display.HTML object>"
      ]
     },
     "metadata": {},
     "output_type": "display_data"
    },
    {
     "name": "stdout",
     "output_type": "stream",
     "text": [
      "eval loss: 0.17387720131095485 0.24637305981125834\n",
      "epoch: 5\n",
      "epoch: 5 loss: 0.1251439502125519\n"
     ]
    },
    {
     "data": {
      "text/html": [
       "\n",
       "    <div>\n",
       "        <style>\n",
       "            /* Turns off some styling */\n",
       "            progress {\n",
       "                /* gets rid of default border in Firefox and Opera. */\n",
       "                border: none;\n",
       "                /* Needs to be in here for Safari polyfill so background images work as expected. */\n",
       "                background-size: auto;\n",
       "            }\n",
       "            .progress-bar-interrupted, .progress-bar-interrupted::-webkit-progress-bar {\n",
       "                background: #F44336;\n",
       "            }\n",
       "        </style>\n",
       "      <progress value='17' class='' max='17' style='width:300px; height:20px; vertical-align: middle;'></progress>\n",
       "      100.00% [17/17 00:01<00:00]\n",
       "    </div>\n",
       "    "
      ],
      "text/plain": [
       "<IPython.core.display.HTML object>"
      ]
     },
     "metadata": {},
     "output_type": "display_data"
    },
    {
     "name": "stdout",
     "output_type": "stream",
     "text": [
      "eval loss: 0.1673050698606395 0.23773711710470308\n",
      "epoch: 6\n",
      "epoch: 6 loss: 0.11798529815028175\n"
     ]
    },
    {
     "data": {
      "text/html": [
       "\n",
       "    <div>\n",
       "        <style>\n",
       "            /* Turns off some styling */\n",
       "            progress {\n",
       "                /* gets rid of default border in Firefox and Opera. */\n",
       "                border: none;\n",
       "                /* Needs to be in here for Safari polyfill so background images work as expected. */\n",
       "                background-size: auto;\n",
       "            }\n",
       "            .progress-bar-interrupted, .progress-bar-interrupted::-webkit-progress-bar {\n",
       "                background: #F44336;\n",
       "            }\n",
       "        </style>\n",
       "      <progress value='17' class='' max='17' style='width:300px; height:20px; vertical-align: middle;'></progress>\n",
       "      100.00% [17/17 00:01<00:00]\n",
       "    </div>\n",
       "    "
      ],
      "text/plain": [
       "<IPython.core.display.HTML object>"
      ]
     },
     "metadata": {},
     "output_type": "display_data"
    },
    {
     "name": "stdout",
     "output_type": "stream",
     "text": [
      "eval loss: 0.16092019830261317 0.22820773168995986\n",
      "epoch: 7\n",
      "epoch: 7 loss: 0.11572650257334663\n"
     ]
    },
    {
     "data": {
      "text/html": [
       "\n",
       "    <div>\n",
       "        <style>\n",
       "            /* Turns off some styling */\n",
       "            progress {\n",
       "                /* gets rid of default border in Firefox and Opera. */\n",
       "                border: none;\n",
       "                /* Needs to be in here for Safari polyfill so background images work as expected. */\n",
       "                background-size: auto;\n",
       "            }\n",
       "            .progress-bar-interrupted, .progress-bar-interrupted::-webkit-progress-bar {\n",
       "                background: #F44336;\n",
       "            }\n",
       "        </style>\n",
       "      <progress value='17' class='' max='17' style='width:300px; height:20px; vertical-align: middle;'></progress>\n",
       "      100.00% [17/17 00:01<00:00]\n",
       "    </div>\n",
       "    "
      ],
      "text/plain": [
       "<IPython.core.display.HTML object>"
      ]
     },
     "metadata": {},
     "output_type": "display_data"
    },
    {
     "name": "stdout",
     "output_type": "stream",
     "text": [
      "eval loss: 0.1588031307547628 0.22562494214136528\n",
      "epoch: 8\n",
      "epoch: 8 loss: 0.12525338029193928\n",
      "eval loss: 0.1757836279326918 0.24876036953446062\n",
      "epoch: 9\n",
      "epoch: 9 loss: 0.11915921948519449\n"
     ]
    },
    {
     "data": {
      "text/html": [
       "\n",
       "    <div>\n",
       "        <style>\n",
       "            /* Turns off some styling */\n",
       "            progress {\n",
       "                /* gets rid of default border in Firefox and Opera. */\n",
       "                border: none;\n",
       "                /* Needs to be in here for Safari polyfill so background images work as expected. */\n",
       "                background-size: auto;\n",
       "            }\n",
       "            .progress-bar-interrupted, .progress-bar-interrupted::-webkit-progress-bar {\n",
       "                background: #F44336;\n",
       "            }\n",
       "        </style>\n",
       "      <progress value='17' class='' max='17' style='width:300px; height:20px; vertical-align: middle;'></progress>\n",
       "      100.00% [17/17 00:01<00:00]\n",
       "    </div>\n",
       "    "
      ],
      "text/plain": [
       "<IPython.core.display.HTML object>"
      ]
     },
     "metadata": {},
     "output_type": "display_data"
    },
    {
     "name": "stdout",
     "output_type": "stream",
     "text": [
      "eval loss: 0.15715470709875767 0.22341047527250044\n",
      "epoch: 10\n",
      "epoch: 10 loss: 0.10923985603093833\n"
     ]
    },
    {
     "data": {
      "text/html": [
       "\n",
       "    <div>\n",
       "        <style>\n",
       "            /* Turns off some styling */\n",
       "            progress {\n",
       "                /* gets rid of default border in Firefox and Opera. */\n",
       "                border: none;\n",
       "                /* Needs to be in here for Safari polyfill so background images work as expected. */\n",
       "                background-size: auto;\n",
       "            }\n",
       "            .progress-bar-interrupted, .progress-bar-interrupted::-webkit-progress-bar {\n",
       "                background: #F44336;\n",
       "            }\n",
       "        </style>\n",
       "      <progress value='17' class='' max='17' style='width:300px; height:20px; vertical-align: middle;'></progress>\n",
       "      100.00% [17/17 00:01<00:00]\n",
       "    </div>\n",
       "    "
      ],
      "text/plain": [
       "<IPython.core.display.HTML object>"
      ]
     },
     "metadata": {},
     "output_type": "display_data"
    },
    {
     "name": "stdout",
     "output_type": "stream",
     "text": [
      "eval loss: 0.15555753364278008 0.22079903092879008\n",
      "epoch: 11\n",
      "epoch: 11 loss: 0.10734444366286816\n"
     ]
    },
    {
     "data": {
      "text/html": [
       "\n",
       "    <div>\n",
       "        <style>\n",
       "            /* Turns off some styling */\n",
       "            progress {\n",
       "                /* gets rid of default border in Firefox and Opera. */\n",
       "                border: none;\n",
       "                /* Needs to be in here for Safari polyfill so background images work as expected. */\n",
       "                background-size: auto;\n",
       "            }\n",
       "            .progress-bar-interrupted, .progress-bar-interrupted::-webkit-progress-bar {\n",
       "                background: #F44336;\n",
       "            }\n",
       "        </style>\n",
       "      <progress value='17' class='' max='17' style='width:300px; height:20px; vertical-align: middle;'></progress>\n",
       "      100.00% [17/17 00:01<00:00]\n",
       "    </div>\n",
       "    "
      ],
      "text/plain": [
       "<IPython.core.display.HTML object>"
      ]
     },
     "metadata": {},
     "output_type": "display_data"
    },
    {
     "name": "stdout",
     "output_type": "stream",
     "text": [
      "eval loss: 0.15293985531077664 0.21760346058056707\n",
      "epoch: 12\n",
      "epoch: 12 loss: 0.10502835396815706\n",
      "eval loss: 0.15474201691317083 0.21940833837155474\n",
      "epoch: 13\n",
      "epoch: 13 loss: 0.10354271482633025\n"
     ]
    },
    {
     "data": {
      "text/html": [
       "\n",
       "    <div>\n",
       "        <style>\n",
       "            /* Turns off some styling */\n",
       "            progress {\n",
       "                /* gets rid of default border in Firefox and Opera. */\n",
       "                border: none;\n",
       "                /* Needs to be in here for Safari polyfill so background images work as expected. */\n",
       "                background-size: auto;\n",
       "            }\n",
       "            .progress-bar-interrupted, .progress-bar-interrupted::-webkit-progress-bar {\n",
       "                background: #F44336;\n",
       "            }\n",
       "        </style>\n",
       "      <progress value='17' class='' max='17' style='width:300px; height:20px; vertical-align: middle;'></progress>\n",
       "      100.00% [17/17 00:01<00:00]\n",
       "    </div>\n",
       "    "
      ],
      "text/plain": [
       "<IPython.core.display.HTML object>"
      ]
     },
     "metadata": {},
     "output_type": "display_data"
    },
    {
     "name": "stdout",
     "output_type": "stream",
     "text": [
      "eval loss: 0.15259977259905685 0.2163742196166505\n",
      "epoch: 14\n",
      "epoch: 14 loss: 0.10607421644744496\n",
      "eval loss: 0.1567805315656572 0.22190535566665176\n",
      "epoch: 15\n",
      "epoch: 15 loss: 0.12386550660789576\n",
      "eval loss: 0.22185320611084 0.3121371216417926\n",
      "epoch: 16\n",
      "epoch: 16 loss: 0.12293150342125381\n",
      "eval loss: 0.1554273144667279 0.22103406711712886\n",
      "epoch: 17\n",
      "epoch: 17 loss: 0.10413770863564441\n"
     ]
    },
    {
     "data": {
      "text/html": [
       "\n",
       "    <div>\n",
       "        <style>\n",
       "            /* Turns off some styling */\n",
       "            progress {\n",
       "                /* gets rid of default border in Firefox and Opera. */\n",
       "                border: none;\n",
       "                /* Needs to be in here for Safari polyfill so background images work as expected. */\n",
       "                background-size: auto;\n",
       "            }\n",
       "            .progress-bar-interrupted, .progress-bar-interrupted::-webkit-progress-bar {\n",
       "                background: #F44336;\n",
       "            }\n",
       "        </style>\n",
       "      <progress value='17' class='' max='17' style='width:300px; height:20px; vertical-align: middle;'></progress>\n",
       "      100.00% [17/17 00:01<00:00]\n",
       "    </div>\n",
       "    "
      ],
      "text/plain": [
       "<IPython.core.display.HTML object>"
      ]
     },
     "metadata": {},
     "output_type": "display_data"
    },
    {
     "name": "stdout",
     "output_type": "stream",
     "text": [
      "eval loss: 0.14908484358761212 0.21175911591271573\n",
      "epoch: 18\n",
      "epoch: 18 loss: 0.09990744230075865\n"
     ]
    },
    {
     "data": {
      "text/html": [
       "\n",
       "    <div>\n",
       "        <style>\n",
       "            /* Turns off some styling */\n",
       "            progress {\n",
       "                /* gets rid of default border in Firefox and Opera. */\n",
       "                border: none;\n",
       "                /* Needs to be in here for Safari polyfill so background images work as expected. */\n",
       "                background-size: auto;\n",
       "            }\n",
       "            .progress-bar-interrupted, .progress-bar-interrupted::-webkit-progress-bar {\n",
       "                background: #F44336;\n",
       "            }\n",
       "        </style>\n",
       "      <progress value='17' class='' max='17' style='width:300px; height:20px; vertical-align: middle;'></progress>\n",
       "      100.00% [17/17 00:01<00:00]\n",
       "    </div>\n",
       "    "
      ],
      "text/plain": [
       "<IPython.core.display.HTML object>"
      ]
     },
     "metadata": {},
     "output_type": "display_data"
    },
    {
     "name": "stdout",
     "output_type": "stream",
     "text": [
      "eval loss: 0.14859221026640015 0.21067117098473023\n",
      "epoch: 19\n",
      "epoch: 19 loss: 0.09790598302829052\n"
     ]
    },
    {
     "data": {
      "text/html": [
       "\n",
       "    <div>\n",
       "        <style>\n",
       "            /* Turns off some styling */\n",
       "            progress {\n",
       "                /* gets rid of default border in Firefox and Opera. */\n",
       "                border: none;\n",
       "                /* Needs to be in here for Safari polyfill so background images work as expected. */\n",
       "                background-size: auto;\n",
       "            }\n",
       "            .progress-bar-interrupted, .progress-bar-interrupted::-webkit-progress-bar {\n",
       "                background: #F44336;\n",
       "            }\n",
       "        </style>\n",
       "      <progress value='17' class='' max='17' style='width:300px; height:20px; vertical-align: middle;'></progress>\n",
       "      100.00% [17/17 00:01<00:00]\n",
       "    </div>\n",
       "    "
      ],
      "text/plain": [
       "<IPython.core.display.HTML object>"
      ]
     },
     "metadata": {},
     "output_type": "display_data"
    },
    {
     "name": "stdout",
     "output_type": "stream",
     "text": [
      "eval loss: 0.14704820099090526 0.20879715472657928\n",
      "epoch: 20\n",
      "epoch: 20 loss: 0.09651227709511713\n",
      "eval loss: 0.14820451838263557 0.21041560433488443\n",
      "epoch: 21\n",
      "epoch: 21 loss: 0.10078369775647837\n",
      "eval loss: 0.14976783183635087 0.21251299375565322\n",
      "epoch: 22\n",
      "epoch: 22 loss: 0.0970091755189624\n"
     ]
    },
    {
     "data": {
      "text/html": [
       "\n",
       "    <div>\n",
       "        <style>\n",
       "            /* Turns off some styling */\n",
       "            progress {\n",
       "                /* gets rid of default border in Firefox and Opera. */\n",
       "                border: none;\n",
       "                /* Needs to be in here for Safari polyfill so background images work as expected. */\n",
       "                background-size: auto;\n",
       "            }\n",
       "            .progress-bar-interrupted, .progress-bar-interrupted::-webkit-progress-bar {\n",
       "                background: #F44336;\n",
       "            }\n",
       "        </style>\n",
       "      <progress value='17' class='' max='17' style='width:300px; height:20px; vertical-align: middle;'></progress>\n",
       "      100.00% [17/17 00:01<00:00]\n",
       "    </div>\n",
       "    "
      ],
      "text/plain": [
       "<IPython.core.display.HTML object>"
      ]
     },
     "metadata": {},
     "output_type": "display_data"
    },
    {
     "name": "stdout",
     "output_type": "stream",
     "text": [
      "eval loss: 0.14611168419077364 0.20693586608448947\n",
      "epoch: 23\n",
      "epoch: 23 loss: 0.09341484359190579\n",
      "eval loss: 0.14628201972270272 0.2076701873152163\n",
      "epoch: 24\n",
      "epoch: 24 loss: 0.09468588480376847\n",
      "eval loss: 0.14649692129650738 0.20791293997436094\n",
      "epoch: 25\n",
      "epoch: 25 loss: 0.0924241936974732\n"
     ]
    },
    {
     "data": {
      "text/html": [
       "\n",
       "    <div>\n",
       "        <style>\n",
       "            /* Turns off some styling */\n",
       "            progress {\n",
       "                /* gets rid of default border in Firefox and Opera. */\n",
       "                border: none;\n",
       "                /* Needs to be in here for Safari polyfill so background images work as expected. */\n",
       "                background-size: auto;\n",
       "            }\n",
       "            .progress-bar-interrupted, .progress-bar-interrupted::-webkit-progress-bar {\n",
       "                background: #F44336;\n",
       "            }\n",
       "        </style>\n",
       "      <progress value='17' class='' max='17' style='width:300px; height:20px; vertical-align: middle;'></progress>\n",
       "      100.00% [17/17 00:01<00:00]\n",
       "    </div>\n",
       "    "
      ],
      "text/plain": [
       "<IPython.core.display.HTML object>"
      ]
     },
     "metadata": {},
     "output_type": "display_data"
    },
    {
     "name": "stdout",
     "output_type": "stream",
     "text": [
      "eval loss: 0.14443135377595948 0.20517442146313258\n",
      "epoch: 26\n",
      "epoch: 26 loss: 0.09051501597197727\n"
     ]
    },
    {
     "data": {
      "text/html": [
       "\n",
       "    <div>\n",
       "        <style>\n",
       "            /* Turns off some styling */\n",
       "            progress {\n",
       "                /* gets rid of default border in Firefox and Opera. */\n",
       "                border: none;\n",
       "                /* Needs to be in here for Safari polyfill so background images work as expected. */\n",
       "                background-size: auto;\n",
       "            }\n",
       "            .progress-bar-interrupted, .progress-bar-interrupted::-webkit-progress-bar {\n",
       "                background: #F44336;\n",
       "            }\n",
       "        </style>\n",
       "      <progress value='17' class='' max='17' style='width:300px; height:20px; vertical-align: middle;'></progress>\n",
       "      100.00% [17/17 00:01<00:00]\n",
       "    </div>\n",
       "    "
      ],
      "text/plain": [
       "<IPython.core.display.HTML object>"
      ]
     },
     "metadata": {},
     "output_type": "display_data"
    },
    {
     "name": "stdout",
     "output_type": "stream",
     "text": [
      "eval loss: 0.14429533194912475 0.20467855112872088\n",
      "epoch: 27\n",
      "epoch: 27 loss: 0.08933266638460298\n"
     ]
    },
    {
     "data": {
      "text/html": [
       "\n",
       "    <div>\n",
       "        <style>\n",
       "            /* Turns off some styling */\n",
       "            progress {\n",
       "                /* gets rid of default border in Firefox and Opera. */\n",
       "                border: none;\n",
       "                /* Needs to be in here for Safari polyfill so background images work as expected. */\n",
       "                background-size: auto;\n",
       "            }\n",
       "            .progress-bar-interrupted, .progress-bar-interrupted::-webkit-progress-bar {\n",
       "                background: #F44336;\n",
       "            }\n",
       "        </style>\n",
       "      <progress value='17' class='' max='17' style='width:300px; height:20px; vertical-align: middle;'></progress>\n",
       "      100.00% [17/17 00:01<00:00]\n",
       "    </div>\n",
       "    "
      ],
      "text/plain": [
       "<IPython.core.display.HTML object>"
      ]
     },
     "metadata": {},
     "output_type": "display_data"
    },
    {
     "name": "stdout",
     "output_type": "stream",
     "text": [
      "eval loss: 0.14403480019925374 0.20422429382854665\n",
      "epoch: 28\n",
      "epoch: 28 loss: 0.0885558130814473\n"
     ]
    },
    {
     "data": {
      "text/html": [
       "\n",
       "    <div>\n",
       "        <style>\n",
       "            /* Turns off some styling */\n",
       "            progress {\n",
       "                /* gets rid of default border in Firefox and Opera. */\n",
       "                border: none;\n",
       "                /* Needs to be in here for Safari polyfill so background images work as expected. */\n",
       "                background-size: auto;\n",
       "            }\n",
       "            .progress-bar-interrupted, .progress-bar-interrupted::-webkit-progress-bar {\n",
       "                background: #F44336;\n",
       "            }\n",
       "        </style>\n",
       "      <progress value='17' class='' max='17' style='width:300px; height:20px; vertical-align: middle;'></progress>\n",
       "      100.00% [17/17 00:01<00:00]\n",
       "    </div>\n",
       "    "
      ],
      "text/plain": [
       "<IPython.core.display.HTML object>"
      ]
     },
     "metadata": {},
     "output_type": "display_data"
    },
    {
     "name": "stdout",
     "output_type": "stream",
     "text": [
      "eval loss: 0.14304431794884204 0.20292351336027106\n",
      "epoch: 29\n",
      "epoch: 29 loss: 0.0877060894974546\n",
      "eval loss: 0.14346866565860206 0.20344658873679125\n",
      "epoch: 30\n",
      "epoch: 30 loss: 0.0868115956010161\n",
      "eval loss: 0.14344341988342973 0.20346013773636057\n",
      "epoch: 31\n",
      "epoch: 31 loss: 0.08669366939460854\n",
      "eval loss: 0.14356581488087336 0.20353281118050925\n",
      "epoch: 32\n",
      "epoch: 32 loss: 0.08522749959554682\n"
     ]
    },
    {
     "data": {
      "text/html": [
       "\n",
       "    <div>\n",
       "        <style>\n",
       "            /* Turns off some styling */\n",
       "            progress {\n",
       "                /* gets rid of default border in Firefox and Opera. */\n",
       "                border: none;\n",
       "                /* Needs to be in here for Safari polyfill so background images work as expected. */\n",
       "                background-size: auto;\n",
       "            }\n",
       "            .progress-bar-interrupted, .progress-bar-interrupted::-webkit-progress-bar {\n",
       "                background: #F44336;\n",
       "            }\n",
       "        </style>\n",
       "      <progress value='17' class='' max='17' style='width:300px; height:20px; vertical-align: middle;'></progress>\n",
       "      100.00% [17/17 00:01<00:00]\n",
       "    </div>\n",
       "    "
      ],
      "text/plain": [
       "<IPython.core.display.HTML object>"
      ]
     },
     "metadata": {},
     "output_type": "display_data"
    },
    {
     "name": "stdout",
     "output_type": "stream",
     "text": [
      "eval loss: 0.14293531277769259 0.20307684690755107\n",
      "epoch: 33\n",
      "epoch: 33 loss: 0.08476193354312885\n"
     ]
    },
    {
     "data": {
      "text/html": [
       "\n",
       "    <div>\n",
       "        <style>\n",
       "            /* Turns off some styling */\n",
       "            progress {\n",
       "                /* gets rid of default border in Firefox and Opera. */\n",
       "                border: none;\n",
       "                /* Needs to be in here for Safari polyfill so background images work as expected. */\n",
       "                background-size: auto;\n",
       "            }\n",
       "            .progress-bar-interrupted, .progress-bar-interrupted::-webkit-progress-bar {\n",
       "                background: #F44336;\n",
       "            }\n",
       "        </style>\n",
       "      <progress value='17' class='' max='17' style='width:300px; height:20px; vertical-align: middle;'></progress>\n",
       "      100.00% [17/17 00:01<00:00]\n",
       "    </div>\n",
       "    "
      ],
      "text/plain": [
       "<IPython.core.display.HTML object>"
      ]
     },
     "metadata": {},
     "output_type": "display_data"
    },
    {
     "name": "stdout",
     "output_type": "stream",
     "text": [
      "eval loss: 0.14226254317149534 0.2021286966720494\n",
      "epoch: 34\n",
      "epoch: 34 loss: 0.08386400286253114\n",
      "eval loss: 0.14230773889584059 0.20162747931398478\n",
      "epoch: 35\n",
      "epoch: 35 loss: 0.08537384817615597\n",
      "eval loss: 0.1456272528432045 0.20634943722768417\n",
      "epoch: 36\n",
      "epoch: 36 loss: 0.08595606949187404\n",
      "eval loss: 0.14454779963789363 0.204390543909979\n",
      "epoch: 37\n",
      "epoch: 37 loss: 0.11835942973405877\n",
      "eval loss: 0.15920709250167128 0.22390182405837197\n",
      "epoch: 38\n",
      "epoch: 38 loss: 0.19188321247579004\n",
      "eval loss: 0.2869085094367883 0.4000022557100484\n",
      "epoch: 39\n",
      "epoch: 39 loss: 0.18533785016249688\n",
      "eval loss: 0.21418841035489594 0.30122886140382676\n",
      "epoch: 40\n",
      "epoch: 40 loss: 0.13353221305368934\n",
      "eval loss: 0.15677584298331543 0.22165533659978412\n",
      "epoch: 41\n",
      "epoch: 41 loss: 0.1149969141042389\n",
      "eval loss: 0.15452779358309346 0.21916269268016256\n",
      "epoch: 42\n",
      "epoch: 42 loss: 0.10107235680125717\n",
      "eval loss: 0.14720788612483793 0.20816284246932232\n",
      "epoch: 43\n",
      "epoch: 43 loss: 0.09041530163376112\n",
      "eval loss: 0.14562411651371648 0.2058704708557035\n",
      "epoch: 44\n",
      "epoch: 44 loss: 0.08658544724131616\n",
      "eval loss: 0.14429254744273665 0.20474359712183554\n",
      "epoch: 45\n",
      "epoch: 45 loss: 0.08381105267759233\n",
      "eval loss: 0.14338183247068859 0.20287491461993098\n",
      "epoch: 46\n",
      "epoch: 46 loss: 0.08345755826895147\n",
      "eval loss: 0.1441335540996393 0.20427174932179004\n",
      "epoch: 47\n",
      "epoch: 47 loss: 0.08415496896351111\n",
      "eval loss: 0.14340147050294266 0.2029652349238553\n",
      "epoch: 48\n",
      "epoch: 48 loss: 0.08198337078104043\n",
      "eval loss: 0.14397444706985618 0.20379338365618627\n",
      "epoch: 49\n",
      "epoch: 49 loss: 0.08169552855660232\n",
      "eval loss: 0.1440481690314131 0.20382177764111933\n",
      "epoch: 50\n",
      "epoch: 50 loss: 0.08182535161501349\n",
      "eval loss: 0.14327104208437916 0.20253754299639118\n",
      "epoch: 51\n",
      "epoch: 51 loss: 0.07927558491843457\n"
     ]
    },
    {
     "data": {
      "text/html": [
       "\n",
       "    <div>\n",
       "        <style>\n",
       "            /* Turns off some styling */\n",
       "            progress {\n",
       "                /* gets rid of default border in Firefox and Opera. */\n",
       "                border: none;\n",
       "                /* Needs to be in here for Safari polyfill so background images work as expected. */\n",
       "                background-size: auto;\n",
       "            }\n",
       "            .progress-bar-interrupted, .progress-bar-interrupted::-webkit-progress-bar {\n",
       "                background: #F44336;\n",
       "            }\n",
       "        </style>\n",
       "      <progress value='17' class='' max='17' style='width:300px; height:20px; vertical-align: middle;'></progress>\n",
       "      100.00% [17/17 00:01<00:00]\n",
       "    </div>\n",
       "    "
      ],
      "text/plain": [
       "<IPython.core.display.HTML object>"
      ]
     },
     "metadata": {},
     "output_type": "display_data"
    },
    {
     "name": "stdout",
     "output_type": "stream",
     "text": [
      "eval loss: 0.142155870868348 0.20136865646865404\n",
      "epoch: 52\n",
      "epoch: 52 loss: 0.07854060466614908\n",
      "eval loss: 0.1425838904906089 0.2020993762304355\n",
      "epoch: 53\n",
      "epoch: 53 loss: 0.07800511759789998\n",
      "eval loss: 0.14239899436921089 0.20184685135325353\n",
      "epoch: 54\n",
      "epoch: 54 loss: 0.07760558136283219\n"
     ]
    },
    {
     "data": {
      "text/html": [
       "\n",
       "    <div>\n",
       "        <style>\n",
       "            /* Turns off some styling */\n",
       "            progress {\n",
       "                /* gets rid of default border in Firefox and Opera. */\n",
       "                border: none;\n",
       "                /* Needs to be in here for Safari polyfill so background images work as expected. */\n",
       "                background-size: auto;\n",
       "            }\n",
       "            .progress-bar-interrupted, .progress-bar-interrupted::-webkit-progress-bar {\n",
       "                background: #F44336;\n",
       "            }\n",
       "        </style>\n",
       "      <progress value='17' class='' max='17' style='width:300px; height:20px; vertical-align: middle;'></progress>\n",
       "      100.00% [17/17 00:01<00:00]\n",
       "    </div>\n",
       "    "
      ],
      "text/plain": [
       "<IPython.core.display.HTML object>"
      ]
     },
     "metadata": {},
     "output_type": "display_data"
    },
    {
     "name": "stdout",
     "output_type": "stream",
     "text": [
      "eval loss: 0.1421557652140282 0.20131153152424752\n",
      "epoch: 55\n",
      "epoch: 55 loss: 0.07758087601633956\n",
      "eval loss: 0.1428274658654587 0.20203749025208054\n",
      "epoch: 56\n",
      "epoch: 56 loss: 0.07671235861514518\n"
     ]
    },
    {
     "data": {
      "text/html": [
       "\n",
       "    <div>\n",
       "        <style>\n",
       "            /* Turns off some styling */\n",
       "            progress {\n",
       "                /* gets rid of default border in Firefox and Opera. */\n",
       "                border: none;\n",
       "                /* Needs to be in here for Safari polyfill so background images work as expected. */\n",
       "                background-size: auto;\n",
       "            }\n",
       "            .progress-bar-interrupted, .progress-bar-interrupted::-webkit-progress-bar {\n",
       "                background: #F44336;\n",
       "            }\n",
       "        </style>\n",
       "      <progress value='17' class='' max='17' style='width:300px; height:20px; vertical-align: middle;'></progress>\n",
       "      100.00% [17/17 00:01<00:00]\n",
       "    </div>\n",
       "    "
      ],
      "text/plain": [
       "<IPython.core.display.HTML object>"
      ]
     },
     "metadata": {},
     "output_type": "display_data"
    },
    {
     "name": "stdout",
     "output_type": "stream",
     "text": [
      "eval loss: 0.14214810796512234 0.2012805080693335\n",
      "epoch: 57\n",
      "epoch: 57 loss: 0.07758128118180456\n",
      "eval loss: 0.1538635044104888 0.2170393570229879\n",
      "epoch: 58\n",
      "epoch: 58 loss: 0.12041203110771122\n",
      "eval loss: 0.294782348236443 0.41035590891179086\n",
      "epoch: 59\n",
      "epoch: 59 loss: 0.22292333824267474\n",
      "eval loss: 0.2927106332316579 0.40898228023504357\n",
      "epoch: 60\n",
      "epoch: 60 loss: 0.21509345787175546\n",
      "eval loss: 0.2633926990430057 0.36872002751121846\n",
      "epoch: 61\n",
      "epoch: 61 loss: 0.20651166714009647\n",
      "eval loss: 0.2522488525871006 0.3535871648300144\n",
      "epoch: 62\n",
      "epoch: 62 loss: 0.19014336252440855\n",
      "eval loss: 0.278877479232329 0.389595004738562\n",
      "epoch: 63\n",
      "epoch: 63 loss: 0.1833166545997828\n",
      "eval loss: 0.217402462812959 0.3070021921262876\n",
      "epoch: 64\n",
      "epoch: 64 loss: 0.1802360518539033\n",
      "eval loss: 0.29456635546126825 0.4112549846468226\n",
      "epoch: 65\n",
      "epoch: 65 loss: 0.22219364870990285\n",
      "eval loss: 0.2890757874114241 0.40292004071521414\n",
      "epoch: 66\n",
      "epoch: 66 loss: 0.216075743495483\n",
      "eval loss: 0.25920930796384256 0.3637703317579688\n",
      "epoch: 67\n",
      "epoch: 67 loss: 0.2149973324103186\n",
      "eval loss: 0.28826273283003745 0.40221838529154313\n",
      "epoch: 68\n",
      "epoch: 68 loss: 0.21557056579458575\n",
      "eval loss: 0.2550425387296937 0.35760603804715607\n",
      "epoch: 69\n",
      "epoch: 69 loss: 0.18237518416423334\n",
      "eval loss: 0.2350497177100761 0.32970044628010126\n",
      "epoch: 70\n",
      "epoch: 70 loss: 0.17089038028638115\n",
      "eval loss: 0.24536908971760074 0.34306236244164506\n",
      "epoch: 71\n",
      "epoch: 71 loss: 0.15843593120018226\n",
      "eval loss: 0.2560163788841799 0.35874857842192026\n",
      "epoch: 72\n",
      "epoch: 72 loss: 0.1747294916284863\n",
      "eval loss: 0.22696110506272085 0.3190457928810365\n",
      "epoch: 73\n",
      "epoch: 73 loss: 0.16644280928057542\n",
      "eval loss: 0.219110444892914 0.30756508806109045\n",
      "epoch: 74\n",
      "epoch: 74 loss: 0.1660442765773855\n",
      "eval loss: 0.2083770005283004 0.29311677041552125\n",
      "epoch: 75\n",
      "epoch: 75 loss: 0.15079496355305186\n",
      "eval loss: 0.19923606559532436 0.28050341301839066\n",
      "epoch: 76\n",
      "epoch: 76 loss: 0.14899196587783586\n",
      "eval loss: 0.1943371413905214 0.2732981329058592\n",
      "epoch: 77\n",
      "epoch: 77 loss: 0.1438266327913984\n",
      "eval loss: 0.2032120636419647 0.2848968662440109\n",
      "epoch: 78\n",
      "epoch: 78 loss: 0.14362888388185205\n",
      "eval loss: 0.18195895564920966 0.2560154687578933\n",
      "epoch: 79\n",
      "epoch: 79 loss: 0.14246199582472707\n",
      "eval loss: 0.18565591371530252 0.2615819491142523\n",
      "epoch: 80\n",
      "epoch: 80 loss: 0.15215216969178658\n",
      "eval loss: 0.18858424457817807 0.26621237309529133\n",
      "epoch: 81\n",
      "epoch: 81 loss: 0.14855866132054601\n",
      "eval loss: 0.1940852326477046 0.27319838415768144\n",
      "epoch: 82\n",
      "epoch: 82 loss: 0.14109107099148066\n",
      "eval loss: 0.17946998993831415 0.25326121917400585\n",
      "epoch: 83\n",
      "epoch: 83 loss: 0.13234228840223053\n",
      "eval loss: 0.20293885494070096 0.28669551914542124\n",
      "epoch: 84\n",
      "epoch: 84 loss: 0.13400534663886662\n",
      "eval loss: 0.18317512102903044 0.25785204068519707\n",
      "epoch: 85\n",
      "epoch: 85 loss: 0.12908364471187925\n",
      "eval loss: 0.1732048113843193 0.24367857955320177\n",
      "epoch: 86\n",
      "epoch: 86 loss: 0.12365633512237387\n",
      "eval loss: 0.16872761866621938 0.23818186006670697\n",
      "epoch: 87\n",
      "epoch: 87 loss: 0.11872310100966575\n",
      "eval loss: 0.164606357874393 0.23261971544121535\n",
      "epoch: 88\n",
      "epoch: 88 loss: 0.11480849103070107\n",
      "eval loss: 0.16341691769516128 0.23016556883976813\n",
      "epoch: 89\n",
      "epoch: 89 loss: 0.11328064542923322\n",
      "eval loss: 0.18388150864453467 0.2594894313036793\n",
      "epoch: 90\n",
      "epoch: 90 loss: 0.11847032919993061\n",
      "eval loss: 0.20394891186334285 0.28688509602096135\n",
      "epoch: 91\n",
      "epoch: 91 loss: 0.12078282773919079\n",
      "eval loss: 0.15705444138309793 0.22170113242514478\n",
      "epoch: 92\n",
      "epoch: 92 loss: 0.10774878041619293\n",
      "eval loss: 0.1563336821525725 0.22139716829015563\n",
      "epoch: 93\n",
      "epoch: 93 loss: 0.10716039732738868\n",
      "eval loss: 0.15314692524888218 0.21685674123909934\n",
      "epoch: 94\n",
      "epoch: 94 loss: 0.10933229982490142\n",
      "eval loss: 0.16246471391880488 0.22921671947365968\n",
      "epoch: 95\n",
      "epoch: 95 loss: 0.11030408775237628\n",
      "eval loss: 0.1535229331112075 0.21710497905991055\n",
      "epoch: 96\n",
      "epoch: 96 loss: 0.10310325775800387\n",
      "eval loss: 0.15095726185909258 0.2135579346959153\n",
      "epoch: 97\n",
      "epoch: 97 loss: 0.09910485122857865\n",
      "eval loss: 0.15583184455700766 0.2195486151488518\n",
      "epoch: 98\n",
      "epoch: 98 loss: 0.102314256012598\n",
      "eval loss: 0.15768240462199473 0.22200944538226933\n",
      "epoch: 99\n",
      "epoch: 99 loss: 0.10550014881971045\n",
      "eval loss: 0.1645132862005482 0.23237152705733777\n",
      "epoch: 100\n",
      "epoch: 100 loss: 0.11088694044120481\n",
      "eval loss: 0.15897982087850268 0.22444357458524614\n",
      "epoch: 101\n",
      "epoch: 101 loss: 0.10809298509280367\n",
      "eval loss: 0.15733098313346752 0.22237853446589015\n",
      "epoch: 102\n",
      "epoch: 102 loss: 0.10204038509092371\n",
      "eval loss: 0.15256390745886939 0.21481713818266343\n",
      "epoch: 103\n",
      "epoch: 103 loss: 0.0950364882427413\n",
      "eval loss: 0.14955992605608817 0.21141033222883723\n",
      "epoch: 104\n",
      "epoch: 104 loss: 0.0946933316381197\n",
      "eval loss: 0.14887455965091972 0.21055974586880122\n",
      "epoch: 105\n",
      "epoch: 105 loss: 0.09102892012226989\n",
      "eval loss: 0.14770801785281526 0.2090974502763041\n",
      "epoch: 106\n",
      "epoch: 106 loss: 0.09018737027899221\n",
      "eval loss: 0.14662687435122712 0.2073072864130976\n",
      "epoch: 107\n",
      "epoch: 107 loss: 0.08888044420404106\n",
      "eval loss: 0.14794880732131135 0.20924386432275477\n",
      "epoch: 108\n",
      "epoch: 108 loss: 0.09222293663452234\n",
      "eval loss: 0.14961203764908826 0.21085348872373283\n",
      "epoch: 109\n",
      "epoch: 109 loss: 0.0952458227745681\n",
      "eval loss: 0.15084566049721032 0.21286778366388232\n",
      "epoch: 110\n",
      "epoch: 110 loss: 0.09316786479702538\n",
      "eval loss: 0.14775675716279374 0.20875605958264468\n",
      "epoch: 111\n",
      "epoch: 111 loss: 0.08983830614720552\n",
      "eval loss: 0.14878300883846848 0.21006619118090145\n",
      "epoch: 112\n",
      "epoch: 112 loss: 0.09013697865266272\n",
      "eval loss: 0.14673369363524788 0.20688609506764397\n",
      "epoch: 113\n",
      "epoch: 113 loss: 0.09303804051862963\n",
      "eval loss: 0.14913631789663911 0.21060631821774337\n",
      "epoch: 114\n",
      "epoch: 114 loss: 0.089493501439455\n",
      "eval loss: 0.14706716051728042 0.20787748413275306\n",
      "epoch: 115\n",
      "epoch: 115 loss: 0.08657545443798376\n",
      "eval loss: 0.14624432510948573 0.2065169082954521\n",
      "epoch: 116\n",
      "epoch: 116 loss: 0.08268930883017112\n",
      "eval loss: 0.1455572957667668 0.20565526035785903\n",
      "epoch: 117\n",
      "epoch: 117 loss: 0.08135351566408114\n",
      "eval loss: 0.14505432056590503 0.2049418774195587\n",
      "epoch: 118\n",
      "epoch: 118 loss: 0.08342432113171695\n",
      "eval loss: 0.1469842967940423 0.20711667464556302\n",
      "epoch: 119\n",
      "epoch: 119 loss: 0.08129727769913797\n",
      "eval loss: 0.14452134904268676 0.20408019753396836\n",
      "min eval loss: 0.14214810796512234 min mcrmse: 0.2012805080693335 epoch 56\n",
      "fold: 1\n",
      "(1, 107, 107, 3)\n",
      "(1, 107, 107, 3)\n",
      "(4343, 23) (1086, 23)\n",
      "(1, 130, 130, 3)\n",
      "(1, 130, 130, 3)\n",
      "(2404, 16) (601, 16)\n",
      "device: cuda\n"
     ]
    },
    {
     "data": {
      "text/html": [
       "\n",
       "    <div>\n",
       "        <style>\n",
       "            /* Turns off some styling */\n",
       "            progress {\n",
       "                /* gets rid of default border in Firefox and Opera. */\n",
       "                border: none;\n",
       "                /* Needs to be in here for Safari polyfill so background images work as expected. */\n",
       "                background-size: auto;\n",
       "            }\n",
       "            .progress-bar-interrupted, .progress-bar-interrupted::-webkit-progress-bar {\n",
       "                background: #F44336;\n",
       "            }\n",
       "        </style>\n",
       "      <progress value='120' class='' max='120' style='width:300px; height:20px; vertical-align: middle;'></progress>\n",
       "      100.00% [120/120 1:16:15<00:00]\n",
       "    </div>\n",
       "    "
      ],
      "text/plain": [
       "<IPython.core.display.HTML object>"
      ]
     },
     "metadata": {},
     "output_type": "display_data"
    },
    {
     "name": "stdout",
     "output_type": "stream",
     "text": [
      "epoch: 0\n",
      "epoch: 0 loss: 0.1832286934888531\n"
     ]
    },
    {
     "data": {
      "text/html": [
       "\n",
       "    <div>\n",
       "        <style>\n",
       "            /* Turns off some styling */\n",
       "            progress {\n",
       "                /* gets rid of default border in Firefox and Opera. */\n",
       "                border: none;\n",
       "                /* Needs to be in here for Safari polyfill so background images work as expected. */\n",
       "                background-size: auto;\n",
       "            }\n",
       "            .progress-bar-interrupted, .progress-bar-interrupted::-webkit-progress-bar {\n",
       "                background: #F44336;\n",
       "            }\n",
       "        </style>\n",
       "      <progress value='17' class='' max='17' style='width:300px; height:20px; vertical-align: middle;'></progress>\n",
       "      100.00% [17/17 00:01<00:00]\n",
       "    </div>\n",
       "    "
      ],
      "text/plain": [
       "<IPython.core.display.HTML object>"
      ]
     },
     "metadata": {},
     "output_type": "display_data"
    },
    {
     "name": "stdout",
     "output_type": "stream",
     "text": [
      "eval loss: 0.21038217970474338 0.30068665307801584\n",
      "epoch: 1\n",
      "epoch: 1 loss: 0.14912984156161788\n"
     ]
    },
    {
     "data": {
      "text/html": [
       "\n",
       "    <div>\n",
       "        <style>\n",
       "            /* Turns off some styling */\n",
       "            progress {\n",
       "                /* gets rid of default border in Firefox and Opera. */\n",
       "                border: none;\n",
       "                /* Needs to be in here for Safari polyfill so background images work as expected. */\n",
       "                background-size: auto;\n",
       "            }\n",
       "            .progress-bar-interrupted, .progress-bar-interrupted::-webkit-progress-bar {\n",
       "                background: #F44336;\n",
       "            }\n",
       "        </style>\n",
       "      <progress value='17' class='' max='17' style='width:300px; height:20px; vertical-align: middle;'></progress>\n",
       "      100.00% [17/17 00:01<00:00]\n",
       "    </div>\n",
       "    "
      ],
      "text/plain": [
       "<IPython.core.display.HTML object>"
      ]
     },
     "metadata": {},
     "output_type": "display_data"
    },
    {
     "name": "stdout",
     "output_type": "stream",
     "text": [
      "eval loss: 0.19386492164931618 0.27750831348618665\n",
      "epoch: 2\n",
      "epoch: 2 loss: 0.13651658355524932\n"
     ]
    },
    {
     "data": {
      "text/html": [
       "\n",
       "    <div>\n",
       "        <style>\n",
       "            /* Turns off some styling */\n",
       "            progress {\n",
       "                /* gets rid of default border in Firefox and Opera. */\n",
       "                border: none;\n",
       "                /* Needs to be in here for Safari polyfill so background images work as expected. */\n",
       "                background-size: auto;\n",
       "            }\n",
       "            .progress-bar-interrupted, .progress-bar-interrupted::-webkit-progress-bar {\n",
       "                background: #F44336;\n",
       "            }\n",
       "        </style>\n",
       "      <progress value='17' class='' max='17' style='width:300px; height:20px; vertical-align: middle;'></progress>\n",
       "      100.00% [17/17 00:01<00:00]\n",
       "    </div>\n",
       "    "
      ],
      "text/plain": [
       "<IPython.core.display.HTML object>"
      ]
     },
     "metadata": {},
     "output_type": "display_data"
    },
    {
     "name": "stdout",
     "output_type": "stream",
     "text": [
      "eval loss: 0.1845491769986911 0.2639032875874997\n",
      "epoch: 3\n",
      "epoch: 3 loss: 0.12914610431105483\n"
     ]
    },
    {
     "data": {
      "text/html": [
       "\n",
       "    <div>\n",
       "        <style>\n",
       "            /* Turns off some styling */\n",
       "            progress {\n",
       "                /* gets rid of default border in Firefox and Opera. */\n",
       "                border: none;\n",
       "                /* Needs to be in here for Safari polyfill so background images work as expected. */\n",
       "                background-size: auto;\n",
       "            }\n",
       "            .progress-bar-interrupted, .progress-bar-interrupted::-webkit-progress-bar {\n",
       "                background: #F44336;\n",
       "            }\n",
       "        </style>\n",
       "      <progress value='17' class='' max='17' style='width:300px; height:20px; vertical-align: middle;'></progress>\n",
       "      100.00% [17/17 00:01<00:00]\n",
       "    </div>\n",
       "    "
      ],
      "text/plain": [
       "<IPython.core.display.HTML object>"
      ]
     },
     "metadata": {},
     "output_type": "display_data"
    },
    {
     "name": "stdout",
     "output_type": "stream",
     "text": [
      "eval loss: 0.17771856598441776 0.25480550599042817\n",
      "epoch: 4\n",
      "epoch: 4 loss: 0.12393856190925143\n"
     ]
    },
    {
     "data": {
      "text/html": [
       "\n",
       "    <div>\n",
       "        <style>\n",
       "            /* Turns off some styling */\n",
       "            progress {\n",
       "                /* gets rid of default border in Firefox and Opera. */\n",
       "                border: none;\n",
       "                /* Needs to be in here for Safari polyfill so background images work as expected. */\n",
       "                background-size: auto;\n",
       "            }\n",
       "            .progress-bar-interrupted, .progress-bar-interrupted::-webkit-progress-bar {\n",
       "                background: #F44336;\n",
       "            }\n",
       "        </style>\n",
       "      <progress value='17' class='' max='17' style='width:300px; height:20px; vertical-align: middle;'></progress>\n",
       "      100.00% [17/17 00:01<00:00]\n",
       "    </div>\n",
       "    "
      ],
      "text/plain": [
       "<IPython.core.display.HTML object>"
      ]
     },
     "metadata": {},
     "output_type": "display_data"
    },
    {
     "name": "stdout",
     "output_type": "stream",
     "text": [
      "eval loss: 0.17443900564929282 0.24949470390053172\n",
      "epoch: 5\n",
      "epoch: 5 loss: 0.11811722891611529\n"
     ]
    },
    {
     "data": {
      "text/html": [
       "\n",
       "    <div>\n",
       "        <style>\n",
       "            /* Turns off some styling */\n",
       "            progress {\n",
       "                /* gets rid of default border in Firefox and Opera. */\n",
       "                border: none;\n",
       "                /* Needs to be in here for Safari polyfill so background images work as expected. */\n",
       "                background-size: auto;\n",
       "            }\n",
       "            .progress-bar-interrupted, .progress-bar-interrupted::-webkit-progress-bar {\n",
       "                background: #F44336;\n",
       "            }\n",
       "        </style>\n",
       "      <progress value='17' class='' max='17' style='width:300px; height:20px; vertical-align: middle;'></progress>\n",
       "      100.00% [17/17 00:01<00:00]\n",
       "    </div>\n",
       "    "
      ],
      "text/plain": [
       "<IPython.core.display.HTML object>"
      ]
     },
     "metadata": {},
     "output_type": "display_data"
    },
    {
     "name": "stdout",
     "output_type": "stream",
     "text": [
      "eval loss: 0.1679366497425598 0.2403755247960581\n",
      "epoch: 6\n",
      "epoch: 6 loss: 0.11532141694079624\n"
     ]
    },
    {
     "data": {
      "text/html": [
       "\n",
       "    <div>\n",
       "        <style>\n",
       "            /* Turns off some styling */\n",
       "            progress {\n",
       "                /* gets rid of default border in Firefox and Opera. */\n",
       "                border: none;\n",
       "                /* Needs to be in here for Safari polyfill so background images work as expected. */\n",
       "                background-size: auto;\n",
       "            }\n",
       "            .progress-bar-interrupted, .progress-bar-interrupted::-webkit-progress-bar {\n",
       "                background: #F44336;\n",
       "            }\n",
       "        </style>\n",
       "      <progress value='17' class='' max='17' style='width:300px; height:20px; vertical-align: middle;'></progress>\n",
       "      100.00% [17/17 00:01<00:00]\n",
       "    </div>\n",
       "    "
      ],
      "text/plain": [
       "<IPython.core.display.HTML object>"
      ]
     },
     "metadata": {},
     "output_type": "display_data"
    },
    {
     "name": "stdout",
     "output_type": "stream",
     "text": [
      "eval loss: 0.16611673249786985 0.237908110631734\n",
      "epoch: 7\n",
      "epoch: 7 loss: 0.1157567493780093\n",
      "eval loss: 0.21125046228096095 0.2987312732863776\n",
      "epoch: 8\n",
      "epoch: 8 loss: 0.13836243568846457\n",
      "eval loss: 0.20397646100124658 0.29260075783710265\n",
      "epoch: 9\n",
      "epoch: 9 loss: 0.13801112106816285\n",
      "eval loss: 0.18071308658507892 0.25897234695994487\n",
      "epoch: 10\n",
      "epoch: 10 loss: 0.12177578668090332\n",
      "eval loss: 0.1668787208200755 0.23854222839386907\n",
      "epoch: 11\n",
      "epoch: 11 loss: 0.1152473090498907\n"
     ]
    },
    {
     "data": {
      "text/html": [
       "\n",
       "    <div>\n",
       "        <style>\n",
       "            /* Turns off some styling */\n",
       "            progress {\n",
       "                /* gets rid of default border in Firefox and Opera. */\n",
       "                border: none;\n",
       "                /* Needs to be in here for Safari polyfill so background images work as expected. */\n",
       "                background-size: auto;\n",
       "            }\n",
       "            .progress-bar-interrupted, .progress-bar-interrupted::-webkit-progress-bar {\n",
       "                background: #F44336;\n",
       "            }\n",
       "        </style>\n",
       "      <progress value='17' class='' max='17' style='width:300px; height:20px; vertical-align: middle;'></progress>\n",
       "      100.00% [17/17 00:01<00:00]\n",
       "    </div>\n",
       "    "
      ],
      "text/plain": [
       "<IPython.core.display.HTML object>"
      ]
     },
     "metadata": {},
     "output_type": "display_data"
    },
    {
     "name": "stdout",
     "output_type": "stream",
     "text": [
      "eval loss: 0.1654172368798285 0.23620444066538832\n",
      "epoch: 12\n",
      "epoch: 12 loss: 0.11199007016842573\n"
     ]
    },
    {
     "data": {
      "text/html": [
       "\n",
       "    <div>\n",
       "        <style>\n",
       "            /* Turns off some styling */\n",
       "            progress {\n",
       "                /* gets rid of default border in Firefox and Opera. */\n",
       "                border: none;\n",
       "                /* Needs to be in here for Safari polyfill so background images work as expected. */\n",
       "                background-size: auto;\n",
       "            }\n",
       "            .progress-bar-interrupted, .progress-bar-interrupted::-webkit-progress-bar {\n",
       "                background: #F44336;\n",
       "            }\n",
       "        </style>\n",
       "      <progress value='17' class='' max='17' style='width:300px; height:20px; vertical-align: middle;'></progress>\n",
       "      100.00% [17/17 00:01<00:00]\n",
       "    </div>\n",
       "    "
      ],
      "text/plain": [
       "<IPython.core.display.HTML object>"
      ]
     },
     "metadata": {},
     "output_type": "display_data"
    },
    {
     "name": "stdout",
     "output_type": "stream",
     "text": [
      "eval loss: 0.16282117626540984 0.2322687244610462\n",
      "epoch: 13\n",
      "epoch: 13 loss: 0.11211027210863633\n"
     ]
    },
    {
     "data": {
      "text/html": [
       "\n",
       "    <div>\n",
       "        <style>\n",
       "            /* Turns off some styling */\n",
       "            progress {\n",
       "                /* gets rid of default border in Firefox and Opera. */\n",
       "                border: none;\n",
       "                /* Needs to be in here for Safari polyfill so background images work as expected. */\n",
       "                background-size: auto;\n",
       "            }\n",
       "            .progress-bar-interrupted, .progress-bar-interrupted::-webkit-progress-bar {\n",
       "                background: #F44336;\n",
       "            }\n",
       "        </style>\n",
       "      <progress value='17' class='' max='17' style='width:300px; height:20px; vertical-align: middle;'></progress>\n",
       "      100.00% [17/17 00:01<00:00]\n",
       "    </div>\n",
       "    "
      ],
      "text/plain": [
       "<IPython.core.display.HTML object>"
      ]
     },
     "metadata": {},
     "output_type": "display_data"
    },
    {
     "name": "stdout",
     "output_type": "stream",
     "text": [
      "eval loss: 0.15978857046400896 0.22801078602171237\n",
      "epoch: 14\n",
      "epoch: 14 loss: 0.10757429316258023\n",
      "eval loss: 0.1615180784028432 0.23032060946034827\n",
      "epoch: 15\n",
      "epoch: 15 loss: 0.10584828971766373\n",
      "eval loss: 0.1606445113411099 0.22872858322579584\n",
      "epoch: 16\n",
      "epoch: 16 loss: 0.10668201116006595\n"
     ]
    },
    {
     "data": {
      "text/html": [
       "\n",
       "    <div>\n",
       "        <style>\n",
       "            /* Turns off some styling */\n",
       "            progress {\n",
       "                /* gets rid of default border in Firefox and Opera. */\n",
       "                border: none;\n",
       "                /* Needs to be in here for Safari polyfill so background images work as expected. */\n",
       "                background-size: auto;\n",
       "            }\n",
       "            .progress-bar-interrupted, .progress-bar-interrupted::-webkit-progress-bar {\n",
       "                background: #F44336;\n",
       "            }\n",
       "        </style>\n",
       "      <progress value='17' class='' max='17' style='width:300px; height:20px; vertical-align: middle;'></progress>\n",
       "      100.00% [17/17 00:01<00:00]\n",
       "    </div>\n",
       "    "
      ],
      "text/plain": [
       "<IPython.core.display.HTML object>"
      ]
     },
     "metadata": {},
     "output_type": "display_data"
    },
    {
     "name": "stdout",
     "output_type": "stream",
     "text": [
      "eval loss: 0.15734968766661905 0.22412733114205635\n",
      "epoch: 17\n",
      "epoch: 17 loss: 0.10354947301974884\n"
     ]
    },
    {
     "data": {
      "text/html": [
       "\n",
       "    <div>\n",
       "        <style>\n",
       "            /* Turns off some styling */\n",
       "            progress {\n",
       "                /* gets rid of default border in Firefox and Opera. */\n",
       "                border: none;\n",
       "                /* Needs to be in here for Safari polyfill so background images work as expected. */\n",
       "                background-size: auto;\n",
       "            }\n",
       "            .progress-bar-interrupted, .progress-bar-interrupted::-webkit-progress-bar {\n",
       "                background: #F44336;\n",
       "            }\n",
       "        </style>\n",
       "      <progress value='17' class='' max='17' style='width:300px; height:20px; vertical-align: middle;'></progress>\n",
       "      100.00% [17/17 00:01<00:00]\n",
       "    </div>\n",
       "    "
      ],
      "text/plain": [
       "<IPython.core.display.HTML object>"
      ]
     },
     "metadata": {},
     "output_type": "display_data"
    },
    {
     "name": "stdout",
     "output_type": "stream",
     "text": [
      "eval loss: 0.1544462951675551 0.22049108639066414\n",
      "epoch: 18\n",
      "epoch: 18 loss: 0.1004584953130145\n",
      "eval loss: 0.1545907271046382 0.22089413742669703\n",
      "epoch: 19\n",
      "epoch: 19 loss: 0.09887429249071567\n"
     ]
    },
    {
     "data": {
      "text/html": [
       "\n",
       "    <div>\n",
       "        <style>\n",
       "            /* Turns off some styling */\n",
       "            progress {\n",
       "                /* gets rid of default border in Firefox and Opera. */\n",
       "                border: none;\n",
       "                /* Needs to be in here for Safari polyfill so background images work as expected. */\n",
       "                background-size: auto;\n",
       "            }\n",
       "            .progress-bar-interrupted, .progress-bar-interrupted::-webkit-progress-bar {\n",
       "                background: #F44336;\n",
       "            }\n",
       "        </style>\n",
       "      <progress value='17' class='' max='17' style='width:300px; height:20px; vertical-align: middle;'></progress>\n",
       "      100.00% [17/17 00:01<00:00]\n",
       "    </div>\n",
       "    "
      ],
      "text/plain": [
       "<IPython.core.display.HTML object>"
      ]
     },
     "metadata": {},
     "output_type": "display_data"
    },
    {
     "name": "stdout",
     "output_type": "stream",
     "text": [
      "eval loss: 0.15341171273806897 0.21878148309801249\n",
      "epoch: 20\n",
      "epoch: 20 loss: 0.09824207162164983\n"
     ]
    },
    {
     "data": {
      "text/html": [
       "\n",
       "    <div>\n",
       "        <style>\n",
       "            /* Turns off some styling */\n",
       "            progress {\n",
       "                /* gets rid of default border in Firefox and Opera. */\n",
       "                border: none;\n",
       "                /* Needs to be in here for Safari polyfill so background images work as expected. */\n",
       "                background-size: auto;\n",
       "            }\n",
       "            .progress-bar-interrupted, .progress-bar-interrupted::-webkit-progress-bar {\n",
       "                background: #F44336;\n",
       "            }\n",
       "        </style>\n",
       "      <progress value='17' class='' max='17' style='width:300px; height:20px; vertical-align: middle;'></progress>\n",
       "      100.00% [17/17 00:01<00:00]\n",
       "    </div>\n",
       "    "
      ],
      "text/plain": [
       "<IPython.core.display.HTML object>"
      ]
     },
     "metadata": {},
     "output_type": "display_data"
    },
    {
     "name": "stdout",
     "output_type": "stream",
     "text": [
      "eval loss: 0.15321378500240154 0.2181085176715476\n",
      "epoch: 21\n",
      "epoch: 21 loss: 0.09752397725111925\n"
     ]
    },
    {
     "data": {
      "text/html": [
       "\n",
       "    <div>\n",
       "        <style>\n",
       "            /* Turns off some styling */\n",
       "            progress {\n",
       "                /* gets rid of default border in Firefox and Opera. */\n",
       "                border: none;\n",
       "                /* Needs to be in here for Safari polyfill so background images work as expected. */\n",
       "                background-size: auto;\n",
       "            }\n",
       "            .progress-bar-interrupted, .progress-bar-interrupted::-webkit-progress-bar {\n",
       "                background: #F44336;\n",
       "            }\n",
       "        </style>\n",
       "      <progress value='17' class='' max='17' style='width:300px; height:20px; vertical-align: middle;'></progress>\n",
       "      100.00% [17/17 00:01<00:00]\n",
       "    </div>\n",
       "    "
      ],
      "text/plain": [
       "<IPython.core.display.HTML object>"
      ]
     },
     "metadata": {},
     "output_type": "display_data"
    },
    {
     "name": "stdout",
     "output_type": "stream",
     "text": [
      "eval loss: 0.15136709033941512 0.21597226534058256\n",
      "epoch: 22\n",
      "epoch: 22 loss: 0.09721412855948583\n"
     ]
    },
    {
     "data": {
      "text/html": [
       "\n",
       "    <div>\n",
       "        <style>\n",
       "            /* Turns off some styling */\n",
       "            progress {\n",
       "                /* gets rid of default border in Firefox and Opera. */\n",
       "                border: none;\n",
       "                /* Needs to be in here for Safari polyfill so background images work as expected. */\n",
       "                background-size: auto;\n",
       "            }\n",
       "            .progress-bar-interrupted, .progress-bar-interrupted::-webkit-progress-bar {\n",
       "                background: #F44336;\n",
       "            }\n",
       "        </style>\n",
       "      <progress value='17' class='' max='17' style='width:300px; height:20px; vertical-align: middle;'></progress>\n",
       "      100.00% [17/17 00:01<00:00]\n",
       "    </div>\n",
       "    "
      ],
      "text/plain": [
       "<IPython.core.display.HTML object>"
      ]
     },
     "metadata": {},
     "output_type": "display_data"
    },
    {
     "name": "stdout",
     "output_type": "stream",
     "text": [
      "eval loss: 0.15133605276523243 0.21531598747422812\n",
      "epoch: 23\n",
      "epoch: 23 loss: 0.09460453858333248\n"
     ]
    },
    {
     "data": {
      "text/html": [
       "\n",
       "    <div>\n",
       "        <style>\n",
       "            /* Turns off some styling */\n",
       "            progress {\n",
       "                /* gets rid of default border in Firefox and Opera. */\n",
       "                border: none;\n",
       "                /* Needs to be in here for Safari polyfill so background images work as expected. */\n",
       "                background-size: auto;\n",
       "            }\n",
       "            .progress-bar-interrupted, .progress-bar-interrupted::-webkit-progress-bar {\n",
       "                background: #F44336;\n",
       "            }\n",
       "        </style>\n",
       "      <progress value='17' class='' max='17' style='width:300px; height:20px; vertical-align: middle;'></progress>\n",
       "      100.00% [17/17 00:01<00:00]\n",
       "    </div>\n",
       "    "
      ],
      "text/plain": [
       "<IPython.core.display.HTML object>"
      ]
     },
     "metadata": {},
     "output_type": "display_data"
    },
    {
     "name": "stdout",
     "output_type": "stream",
     "text": [
      "eval loss: 0.14975974049896146 0.21341286679001334\n",
      "epoch: 24\n",
      "epoch: 24 loss: 0.09321093209152327\n",
      "eval loss: 0.14999677833956307 0.2139836308237914\n",
      "epoch: 25\n",
      "epoch: 25 loss: 0.09305403321050745\n"
     ]
    },
    {
     "data": {
      "text/html": [
       "\n",
       "    <div>\n",
       "        <style>\n",
       "            /* Turns off some styling */\n",
       "            progress {\n",
       "                /* gets rid of default border in Firefox and Opera. */\n",
       "                border: none;\n",
       "                /* Needs to be in here for Safari polyfill so background images work as expected. */\n",
       "                background-size: auto;\n",
       "            }\n",
       "            .progress-bar-interrupted, .progress-bar-interrupted::-webkit-progress-bar {\n",
       "                background: #F44336;\n",
       "            }\n",
       "        </style>\n",
       "      <progress value='17' class='' max='17' style='width:300px; height:20px; vertical-align: middle;'></progress>\n",
       "      100.00% [17/17 00:01<00:00]\n",
       "    </div>\n",
       "    "
      ],
      "text/plain": [
       "<IPython.core.display.HTML object>"
      ]
     },
     "metadata": {},
     "output_type": "display_data"
    },
    {
     "name": "stdout",
     "output_type": "stream",
     "text": [
      "eval loss: 0.14941174499747079 0.21287141298530401\n",
      "epoch: 26\n",
      "epoch: 26 loss: 0.09389665184417208\n",
      "eval loss: 0.1496977681558611 0.21322287012846478\n",
      "epoch: 27\n",
      "epoch: 27 loss: 0.12018148342413852\n",
      "eval loss: 0.1668848197789503 0.23777012144633627\n",
      "epoch: 28\n",
      "epoch: 28 loss: 0.12467698723091092\n",
      "eval loss: 0.19589392654260068 0.2740959610499951\n",
      "epoch: 29\n",
      "epoch: 29 loss: 0.11724711301381519\n",
      "eval loss: 0.16371802365719404 0.23176751782007224\n",
      "epoch: 30\n",
      "epoch: 30 loss: 0.11263618748569551\n",
      "eval loss: 0.15358245542124177 0.21792496299243233\n",
      "epoch: 31\n",
      "epoch: 31 loss: 0.09862341125052584\n",
      "eval loss: 0.15251684168551896 0.21643041710533284\n",
      "epoch: 32\n",
      "epoch: 32 loss: 0.09340114830959054\n",
      "eval loss: 0.14960590341733235 0.21289125092464734\n",
      "epoch: 33\n",
      "epoch: 33 loss: 0.09468501541458367\n",
      "eval loss: 0.15326417101948064 0.21763965407917746\n",
      "epoch: 34\n",
      "epoch: 34 loss: 0.09151495835435276\n"
     ]
    },
    {
     "data": {
      "text/html": [
       "\n",
       "    <div>\n",
       "        <style>\n",
       "            /* Turns off some styling */\n",
       "            progress {\n",
       "                /* gets rid of default border in Firefox and Opera. */\n",
       "                border: none;\n",
       "                /* Needs to be in here for Safari polyfill so background images work as expected. */\n",
       "                background-size: auto;\n",
       "            }\n",
       "            .progress-bar-interrupted, .progress-bar-interrupted::-webkit-progress-bar {\n",
       "                background: #F44336;\n",
       "            }\n",
       "        </style>\n",
       "      <progress value='17' class='' max='17' style='width:300px; height:20px; vertical-align: middle;'></progress>\n",
       "      100.00% [17/17 00:01<00:00]\n",
       "    </div>\n",
       "    "
      ],
      "text/plain": [
       "<IPython.core.display.HTML object>"
      ]
     },
     "metadata": {},
     "output_type": "display_data"
    },
    {
     "name": "stdout",
     "output_type": "stream",
     "text": [
      "eval loss: 0.14903358025184438 0.2117650910437114\n",
      "epoch: 35\n",
      "epoch: 35 loss: 0.0917561589855559\n",
      "eval loss: 0.154362648048234 0.2189423504608124\n",
      "epoch: 36\n",
      "epoch: 36 loss: 0.09289205375811938\n",
      "eval loss: 0.15014833781405454 0.21319991782318837\n",
      "epoch: 37\n",
      "epoch: 37 loss: 0.088929663736904\n"
     ]
    },
    {
     "data": {
      "text/html": [
       "\n",
       "    <div>\n",
       "        <style>\n",
       "            /* Turns off some styling */\n",
       "            progress {\n",
       "                /* gets rid of default border in Firefox and Opera. */\n",
       "                border: none;\n",
       "                /* Needs to be in here for Safari polyfill so background images work as expected. */\n",
       "                background-size: auto;\n",
       "            }\n",
       "            .progress-bar-interrupted, .progress-bar-interrupted::-webkit-progress-bar {\n",
       "                background: #F44336;\n",
       "            }\n",
       "        </style>\n",
       "      <progress value='17' class='' max='17' style='width:300px; height:20px; vertical-align: middle;'></progress>\n",
       "      100.00% [17/17 00:01<00:00]\n",
       "    </div>\n",
       "    "
      ],
      "text/plain": [
       "<IPython.core.display.HTML object>"
      ]
     },
     "metadata": {},
     "output_type": "display_data"
    },
    {
     "name": "stdout",
     "output_type": "stream",
     "text": [
      "eval loss: 0.14830003478543818 0.21070607380599804\n",
      "epoch: 38\n",
      "epoch: 38 loss: 0.08757611039587314\n"
     ]
    },
    {
     "data": {
      "text/html": [
       "\n",
       "    <div>\n",
       "        <style>\n",
       "            /* Turns off some styling */\n",
       "            progress {\n",
       "                /* gets rid of default border in Firefox and Opera. */\n",
       "                border: none;\n",
       "                /* Needs to be in here for Safari polyfill so background images work as expected. */\n",
       "                background-size: auto;\n",
       "            }\n",
       "            .progress-bar-interrupted, .progress-bar-interrupted::-webkit-progress-bar {\n",
       "                background: #F44336;\n",
       "            }\n",
       "        </style>\n",
       "      <progress value='17' class='' max='17' style='width:300px; height:20px; vertical-align: middle;'></progress>\n",
       "      100.00% [17/17 00:01<00:00]\n",
       "    </div>\n",
       "    "
      ],
      "text/plain": [
       "<IPython.core.display.HTML object>"
      ]
     },
     "metadata": {},
     "output_type": "display_data"
    },
    {
     "name": "stdout",
     "output_type": "stream",
     "text": [
      "eval loss: 0.14779360104963987 0.21057484648719757\n",
      "epoch: 39\n",
      "epoch: 39 loss: 0.08622343134482015\n"
     ]
    },
    {
     "data": {
      "text/html": [
       "\n",
       "    <div>\n",
       "        <style>\n",
       "            /* Turns off some styling */\n",
       "            progress {\n",
       "                /* gets rid of default border in Firefox and Opera. */\n",
       "                border: none;\n",
       "                /* Needs to be in here for Safari polyfill so background images work as expected. */\n",
       "                background-size: auto;\n",
       "            }\n",
       "            .progress-bar-interrupted, .progress-bar-interrupted::-webkit-progress-bar {\n",
       "                background: #F44336;\n",
       "            }\n",
       "        </style>\n",
       "      <progress value='17' class='' max='17' style='width:300px; height:20px; vertical-align: middle;'></progress>\n",
       "      100.00% [17/17 00:01<00:00]\n",
       "    </div>\n",
       "    "
      ],
      "text/plain": [
       "<IPython.core.display.HTML object>"
      ]
     },
     "metadata": {},
     "output_type": "display_data"
    },
    {
     "name": "stdout",
     "output_type": "stream",
     "text": [
      "eval loss: 0.14726861820758758 0.20932356962708815\n",
      "epoch: 40\n",
      "epoch: 40 loss: 0.08586604306549371\n",
      "eval loss: 0.14771685646489371 0.20962918779514733\n",
      "epoch: 41\n",
      "epoch: 41 loss: 0.0875067165533\n",
      "eval loss: 0.14927971608520943 0.21180681381184907\n",
      "epoch: 42\n",
      "epoch: 42 loss: 0.09456302307248439\n",
      "eval loss: 0.15080723227812193 0.21396071063846928\n",
      "epoch: 43\n",
      "epoch: 43 loss: 0.09451773495748024\n",
      "eval loss: 0.14849017641398485 0.21101920026832763\n",
      "epoch: 44\n",
      "epoch: 44 loss: 0.08857591975152145\n",
      "eval loss: 0.1489919258385354 0.21149936853170392\n",
      "epoch: 45\n",
      "epoch: 45 loss: 0.08637018584982199\n",
      "eval loss: 0.14754811775012544 0.20918798831816568\n",
      "epoch: 46\n",
      "epoch: 46 loss: 0.08407233078301478\n"
     ]
    },
    {
     "data": {
      "text/html": [
       "\n",
       "    <div>\n",
       "        <style>\n",
       "            /* Turns off some styling */\n",
       "            progress {\n",
       "                /* gets rid of default border in Firefox and Opera. */\n",
       "                border: none;\n",
       "                /* Needs to be in here for Safari polyfill so background images work as expected. */\n",
       "                background-size: auto;\n",
       "            }\n",
       "            .progress-bar-interrupted, .progress-bar-interrupted::-webkit-progress-bar {\n",
       "                background: #F44336;\n",
       "            }\n",
       "        </style>\n",
       "      <progress value='17' class='' max='17' style='width:300px; height:20px; vertical-align: middle;'></progress>\n",
       "      100.00% [17/17 00:01<00:00]\n",
       "    </div>\n",
       "    "
      ],
      "text/plain": [
       "<IPython.core.display.HTML object>"
      ]
     },
     "metadata": {},
     "output_type": "display_data"
    },
    {
     "name": "stdout",
     "output_type": "stream",
     "text": [
      "eval loss: 0.14626938092878336 0.2080678048686785\n",
      "epoch: 47\n",
      "epoch: 47 loss: 0.08335056413822858\n",
      "eval loss: 0.16936648394820839 0.24019859431851398\n",
      "epoch: 48\n",
      "epoch: 48 loss: 0.08525172194383165\n",
      "eval loss: 0.14904995969912468 0.21114030999015176\n",
      "epoch: 49\n",
      "epoch: 49 loss: 0.09516347522641104\n",
      "eval loss: 0.15132289547615715 0.21380002108415105\n",
      "epoch: 50\n",
      "epoch: 50 loss: 0.10802108988029596\n",
      "eval loss: 0.35196827770244726 0.4949795999605602\n",
      "epoch: 51\n",
      "epoch: 51 loss: 0.16942831133496042\n",
      "eval loss: 0.2411107094684406 0.3402562388660316\n",
      "epoch: 52\n",
      "epoch: 52 loss: 0.18293413382306184\n",
      "eval loss: 0.2715237483109847 0.3834438383240407\n",
      "epoch: 53\n",
      "epoch: 53 loss: 0.15507844194350817\n",
      "eval loss: 0.2057161522645555 0.2924617203535471\n",
      "epoch: 54\n",
      "epoch: 54 loss: 0.1613123797707975\n",
      "eval loss: 0.19094027150693313 0.27145091098060936\n",
      "epoch: 55\n",
      "epoch: 55 loss: 0.1487135490947118\n",
      "eval loss: 0.1739728410387044 0.2471791209815737\n",
      "epoch: 56\n",
      "epoch: 56 loss: 0.13956945781698935\n",
      "eval loss: 0.17201342359629754 0.24268879591420636\n",
      "epoch: 57\n",
      "epoch: 57 loss: 0.13332482353267847\n",
      "eval loss: 0.1874694436876428 0.2665882192608293\n",
      "epoch: 58\n",
      "epoch: 58 loss: 0.13455639926709165\n",
      "eval loss: 0.18210398446465337 0.2579785370678434\n",
      "epoch: 59\n",
      "epoch: 59 loss: 0.12370491276131354\n",
      "eval loss: 0.1631797703114233 0.23173718866299423\n",
      "epoch: 60\n",
      "epoch: 60 loss: 0.12149553326676588\n",
      "eval loss: 0.1826080674381264 0.2575955290739196\n",
      "epoch: 61\n",
      "epoch: 61 loss: 0.10985639451122768\n",
      "eval loss: 0.158321126211224 0.22382911363534042\n",
      "epoch: 62\n",
      "epoch: 62 loss: 0.09817782055469271\n",
      "eval loss: 0.15429075150384527 0.21847340319000838\n",
      "epoch: 63\n",
      "epoch: 63 loss: 0.09585863949544358\n",
      "eval loss: 0.15333261882824822 0.21740414180001502\n",
      "epoch: 64\n",
      "epoch: 64 loss: 0.09430895831660495\n",
      "eval loss: 0.15480477065973144 0.2188987887680722\n",
      "epoch: 65\n",
      "epoch: 65 loss: 0.0919154349708863\n",
      "eval loss: 0.15134134788453074 0.21398813024896685\n",
      "epoch: 66\n",
      "epoch: 66 loss: 0.0909220866100101\n",
      "eval loss: 0.15004302471040248 0.21250895228034014\n",
      "epoch: 67\n",
      "epoch: 67 loss: 0.08849197291714023\n",
      "eval loss: 0.15481340147144337 0.21798447656919628\n",
      "epoch: 68\n",
      "epoch: 68 loss: 0.09349250849109952\n",
      "eval loss: 0.16426954674731362 0.23131989816686674\n",
      "epoch: 69\n",
      "epoch: 69 loss: 0.08787669949197024\n",
      "eval loss: 0.14823902675773493 0.21010280656439909\n",
      "epoch: 70\n",
      "epoch: 70 loss: 0.08505779620147658\n",
      "eval loss: 0.14844506864517962 0.21060507265072625\n",
      "epoch: 71\n",
      "epoch: 71 loss: 0.09829421791668579\n",
      "eval loss: 0.1760889867672227 0.2501907474947091\n",
      "epoch: 72\n",
      "epoch: 72 loss: 0.10558531971219433\n",
      "eval loss: 0.1510379973539456 0.21392415580493043\n",
      "epoch: 73\n",
      "epoch: 73 loss: 0.09713860557487644\n",
      "eval loss: 0.15584150479281708 0.22068070438148854\n",
      "epoch: 74\n",
      "epoch: 74 loss: 0.12045506385002208\n",
      "eval loss: 0.15667571532481853 0.22141277529047346\n",
      "epoch: 75\n",
      "epoch: 75 loss: 0.09353391522967486\n",
      "eval loss: 0.14851061181791791 0.2105428617853271\n",
      "epoch: 76\n",
      "epoch: 76 loss: 0.08629008533196048\n",
      "eval loss: 0.14845601493490598 0.21019667894225685\n",
      "epoch: 77\n",
      "epoch: 77 loss: 0.08259479130177752\n",
      "eval loss: 0.14772191854918826 0.2090877916762934\n",
      "epoch: 78\n",
      "epoch: 78 loss: 0.08111965737123601\n",
      "eval loss: 0.14710055137350653 0.2086847812134996\n",
      "epoch: 79\n",
      "epoch: 79 loss: 0.08057424340527246\n",
      "eval loss: 0.14710846089650473 0.20830447587936748\n",
      "epoch: 80\n",
      "epoch: 80 loss: 0.07920160920492528\n",
      "eval loss: 0.1487429145973146 0.2106238023496532\n",
      "epoch: 81\n",
      "epoch: 81 loss: 0.0780363881266854\n",
      "eval loss: 0.14635826498262425 0.2074904626726668\n",
      "epoch: 82\n",
      "epoch: 82 loss: 0.08261470727650864\n",
      "eval loss: 0.1482457395559048 0.2097895705668093\n",
      "epoch: 83\n",
      "epoch: 83 loss: 0.08099949727824193\n",
      "eval loss: 0.14872378554170154 0.2113193241829088\n",
      "epoch: 84\n",
      "epoch: 84 loss: 0.11073824915978261\n",
      "eval loss: 0.15358468712472373 0.21678013298607718\n",
      "epoch: 85\n",
      "epoch: 85 loss: 0.10895061768771049\n",
      "eval loss: 0.19974100860146626 0.2842923185191668\n",
      "epoch: 86\n",
      "epoch: 86 loss: 0.161202385033925\n",
      "eval loss: 0.2484404741665605 0.3513337237095592\n",
      "epoch: 87\n",
      "epoch: 87 loss: 0.14270876878032088\n",
      "eval loss: 0.1620568142975478 0.22932269405974567\n",
      "epoch: 88\n",
      "epoch: 88 loss: 0.11492915196324582\n",
      "eval loss: 0.15475084743338807 0.21906517020151442\n",
      "epoch: 89\n",
      "epoch: 89 loss: 0.09571942972188571\n",
      "eval loss: 0.15508638638661876 0.21950560418857484\n",
      "epoch: 90\n",
      "epoch: 90 loss: 0.08498944555148925\n",
      "eval loss: 0.14777697643047377 0.20914236908905048\n",
      "epoch: 91\n",
      "epoch: 91 loss: 0.08252107845396817\n",
      "eval loss: 0.1484060336412229 0.2102713252513084\n",
      "epoch: 92\n",
      "epoch: 92 loss: 0.0818222612385376\n",
      "eval loss: 0.14908407327158682 0.21107297408882417\n",
      "epoch: 93\n",
      "epoch: 93 loss: 0.08081682596485806\n",
      "eval loss: 0.14879694638654298 0.21077893046506743\n",
      "epoch: 94\n",
      "epoch: 94 loss: 0.08038354854359549\n",
      "eval loss: 0.1464405740086997 0.2079006973290184\n",
      "epoch: 95\n",
      "epoch: 95 loss: 0.07784184614324817\n",
      "eval loss: 0.14703981691263857 0.2081871248631264\n",
      "epoch: 96\n",
      "epoch: 96 loss: 0.10003889013842303\n",
      "eval loss: 0.21338295650529057 0.304221217889766\n",
      "epoch: 97\n",
      "epoch: 97 loss: 0.11494410139674606\n",
      "eval loss: 0.1754989605279802 0.24879522673563734\n",
      "epoch: 98\n",
      "epoch: 98 loss: 0.0979552326723037\n",
      "eval loss: 0.14824487884542725 0.2100515623743189\n",
      "epoch: 99\n",
      "epoch: 99 loss: 0.08518304706825834\n",
      "eval loss: 0.14776700084687447 0.20976608118228945\n",
      "epoch: 100\n",
      "epoch: 100 loss: 0.07916533251452029\n",
      "eval loss: 0.14784022615074144 0.20918115564576012\n",
      "epoch: 101\n",
      "epoch: 101 loss: 0.0764892223029288\n",
      "eval loss: 0.14699032493297495 0.20836929577229682\n",
      "epoch: 102\n",
      "epoch: 102 loss: 0.07595775978167287\n",
      "eval loss: 0.14649862158072469 0.20730685457154405\n",
      "epoch: 103\n",
      "epoch: 103 loss: 0.07458883396766917\n"
     ]
    },
    {
     "data": {
      "text/html": [
       "\n",
       "    <div>\n",
       "        <style>\n",
       "            /* Turns off some styling */\n",
       "            progress {\n",
       "                /* gets rid of default border in Firefox and Opera. */\n",
       "                border: none;\n",
       "                /* Needs to be in here for Safari polyfill so background images work as expected. */\n",
       "                background-size: auto;\n",
       "            }\n",
       "            .progress-bar-interrupted, .progress-bar-interrupted::-webkit-progress-bar {\n",
       "                background: #F44336;\n",
       "            }\n",
       "        </style>\n",
       "      <progress value='17' class='' max='17' style='width:300px; height:20px; vertical-align: middle;'></progress>\n",
       "      100.00% [17/17 00:01<00:00]\n",
       "    </div>\n",
       "    "
      ],
      "text/plain": [
       "<IPython.core.display.HTML object>"
      ]
     },
     "metadata": {},
     "output_type": "display_data"
    },
    {
     "name": "stdout",
     "output_type": "stream",
     "text": [
      "eval loss: 0.14609222483964282 0.20673961477568686\n",
      "epoch: 104\n",
      "epoch: 104 loss: 0.07628775694646084\n",
      "eval loss: 0.15350980247338453 0.21749236414518563\n",
      "epoch: 105\n",
      "epoch: 105 loss: 0.08448937360527922\n",
      "eval loss: 0.15172049389965964 0.2147925680663555\n",
      "epoch: 106\n",
      "epoch: 106 loss: 0.08513353577674629\n",
      "eval loss: 0.14934353053092045 0.21080586485033972\n",
      "epoch: 107\n",
      "epoch: 107 loss: 0.07586879085377954\n",
      "eval loss: 0.1467867445186285 0.20791687867981692\n",
      "epoch: 108\n",
      "epoch: 108 loss: 0.07349166215442716\n"
     ]
    },
    {
     "data": {
      "text/html": [
       "\n",
       "    <div>\n",
       "        <style>\n",
       "            /* Turns off some styling */\n",
       "            progress {\n",
       "                /* gets rid of default border in Firefox and Opera. */\n",
       "                border: none;\n",
       "                /* Needs to be in here for Safari polyfill so background images work as expected. */\n",
       "                background-size: auto;\n",
       "            }\n",
       "            .progress-bar-interrupted, .progress-bar-interrupted::-webkit-progress-bar {\n",
       "                background: #F44336;\n",
       "            }\n",
       "        </style>\n",
       "      <progress value='17' class='' max='17' style='width:300px; height:20px; vertical-align: middle;'></progress>\n",
       "      100.00% [17/17 00:01<00:00]\n",
       "    </div>\n",
       "    "
      ],
      "text/plain": [
       "<IPython.core.display.HTML object>"
      ]
     },
     "metadata": {},
     "output_type": "display_data"
    },
    {
     "name": "stdout",
     "output_type": "stream",
     "text": [
      "eval loss: 0.14549492653755902 0.20611269358306253\n",
      "epoch: 109\n",
      "epoch: 109 loss: 0.07136571280809806\n"
     ]
    },
    {
     "data": {
      "text/html": [
       "\n",
       "    <div>\n",
       "        <style>\n",
       "            /* Turns off some styling */\n",
       "            progress {\n",
       "                /* gets rid of default border in Firefox and Opera. */\n",
       "                border: none;\n",
       "                /* Needs to be in here for Safari polyfill so background images work as expected. */\n",
       "                background-size: auto;\n",
       "            }\n",
       "            .progress-bar-interrupted, .progress-bar-interrupted::-webkit-progress-bar {\n",
       "                background: #F44336;\n",
       "            }\n",
       "        </style>\n",
       "      <progress value='17' class='' max='17' style='width:300px; height:20px; vertical-align: middle;'></progress>\n",
       "      100.00% [17/17 00:01<00:00]\n",
       "    </div>\n",
       "    "
      ],
      "text/plain": [
       "<IPython.core.display.HTML object>"
      ]
     },
     "metadata": {},
     "output_type": "display_data"
    },
    {
     "name": "stdout",
     "output_type": "stream",
     "text": [
      "eval loss: 0.14507171754570933 0.2056472649100093\n",
      "epoch: 110\n",
      "epoch: 110 loss: 0.07189347995343821\n",
      "eval loss: 0.14568729406145262 0.2061895010430972\n",
      "epoch: 111\n",
      "epoch: 111 loss: 0.07170257448182911\n",
      "eval loss: 0.14547295183089715 0.20578128129742382\n",
      "epoch: 112\n",
      "epoch: 112 loss: 0.07241577789997256\n",
      "eval loss: 0.14571886608888765 0.2062818834103401\n",
      "epoch: 113\n",
      "epoch: 113 loss: 0.07373850763748936\n",
      "eval loss: 0.1469411068344604 0.20785460595644406\n",
      "epoch: 114\n",
      "epoch: 114 loss: 0.07254101410445649\n",
      "eval loss: 0.1463349370210146 0.20723244154195097\n",
      "epoch: 115\n",
      "epoch: 115 loss: 0.08371731610219998\n",
      "eval loss: 0.1491470278947283 0.21079043768189387\n",
      "epoch: 116\n",
      "epoch: 116 loss: 0.10113203008788176\n",
      "eval loss: 0.18593537890678438 0.261839799005363\n",
      "epoch: 117\n",
      "epoch: 117 loss: 0.10633574376126173\n",
      "eval loss: 0.14913430400206606 0.2105669915376956\n",
      "epoch: 118\n",
      "epoch: 118 loss: 0.08782371873441498\n",
      "eval loss: 0.1502217163854782 0.21254845863904603\n",
      "epoch: 119\n",
      "epoch: 119 loss: 0.08547186041953461\n",
      "eval loss: 0.19928316587901135 0.2811133310845894\n",
      "min eval loss: 0.14507171754570933 min mcrmse: 0.2056472649100093 epoch 109\n",
      "fold: 2\n",
      "(1, 107, 107, 3)\n",
      "(1, 107, 107, 3)\n",
      "(4343, 23) (1086, 23)\n",
      "(1, 130, 130, 3)\n",
      "(1, 130, 130, 3)\n",
      "(2404, 16) (601, 16)\n",
      "device: cuda\n"
     ]
    },
    {
     "data": {
      "text/html": [
       "\n",
       "    <div>\n",
       "        <style>\n",
       "            /* Turns off some styling */\n",
       "            progress {\n",
       "                /* gets rid of default border in Firefox and Opera. */\n",
       "                border: none;\n",
       "                /* Needs to be in here for Safari polyfill so background images work as expected. */\n",
       "                background-size: auto;\n",
       "            }\n",
       "            .progress-bar-interrupted, .progress-bar-interrupted::-webkit-progress-bar {\n",
       "                background: #F44336;\n",
       "            }\n",
       "        </style>\n",
       "      <progress value='120' class='' max='120' style='width:300px; height:20px; vertical-align: middle;'></progress>\n",
       "      100.00% [120/120 1:16:08<00:00]\n",
       "    </div>\n",
       "    "
      ],
      "text/plain": [
       "<IPython.core.display.HTML object>"
      ]
     },
     "metadata": {},
     "output_type": "display_data"
    },
    {
     "name": "stdout",
     "output_type": "stream",
     "text": [
      "epoch: 0\n",
      "epoch: 0 loss: 0.18531746649434072\n"
     ]
    },
    {
     "data": {
      "text/html": [
       "\n",
       "    <div>\n",
       "        <style>\n",
       "            /* Turns off some styling */\n",
       "            progress {\n",
       "                /* gets rid of default border in Firefox and Opera. */\n",
       "                border: none;\n",
       "                /* Needs to be in here for Safari polyfill so background images work as expected. */\n",
       "                background-size: auto;\n",
       "            }\n",
       "            .progress-bar-interrupted, .progress-bar-interrupted::-webkit-progress-bar {\n",
       "                background: #F44336;\n",
       "            }\n",
       "        </style>\n",
       "      <progress value='17' class='' max='17' style='width:300px; height:20px; vertical-align: middle;'></progress>\n",
       "      100.00% [17/17 00:01<00:00]\n",
       "    </div>\n",
       "    "
      ],
      "text/plain": [
       "<IPython.core.display.HTML object>"
      ]
     },
     "metadata": {},
     "output_type": "display_data"
    },
    {
     "name": "stdout",
     "output_type": "stream",
     "text": [
      "eval loss: 0.21332057522823747 0.3046974466306092\n",
      "epoch: 1\n",
      "epoch: 1 loss: 0.14764689188132557\n"
     ]
    },
    {
     "data": {
      "text/html": [
       "\n",
       "    <div>\n",
       "        <style>\n",
       "            /* Turns off some styling */\n",
       "            progress {\n",
       "                /* gets rid of default border in Firefox and Opera. */\n",
       "                border: none;\n",
       "                /* Needs to be in here for Safari polyfill so background images work as expected. */\n",
       "                background-size: auto;\n",
       "            }\n",
       "            .progress-bar-interrupted, .progress-bar-interrupted::-webkit-progress-bar {\n",
       "                background: #F44336;\n",
       "            }\n",
       "        </style>\n",
       "      <progress value='17' class='' max='17' style='width:300px; height:20px; vertical-align: middle;'></progress>\n",
       "      100.00% [17/17 00:01<00:00]\n",
       "    </div>\n",
       "    "
      ],
      "text/plain": [
       "<IPython.core.display.HTML object>"
      ]
     },
     "metadata": {},
     "output_type": "display_data"
    },
    {
     "name": "stdout",
     "output_type": "stream",
     "text": [
      "eval loss: 0.19518473079850898 0.2793498002712094\n",
      "epoch: 2\n",
      "epoch: 2 loss: 0.13781922017952278\n"
     ]
    },
    {
     "data": {
      "text/html": [
       "\n",
       "    <div>\n",
       "        <style>\n",
       "            /* Turns off some styling */\n",
       "            progress {\n",
       "                /* gets rid of default border in Firefox and Opera. */\n",
       "                border: none;\n",
       "                /* Needs to be in here for Safari polyfill so background images work as expected. */\n",
       "                background-size: auto;\n",
       "            }\n",
       "            .progress-bar-interrupted, .progress-bar-interrupted::-webkit-progress-bar {\n",
       "                background: #F44336;\n",
       "            }\n",
       "        </style>\n",
       "      <progress value='17' class='' max='17' style='width:300px; height:20px; vertical-align: middle;'></progress>\n",
       "      100.00% [17/17 00:01<00:00]\n",
       "    </div>\n",
       "    "
      ],
      "text/plain": [
       "<IPython.core.display.HTML object>"
      ]
     },
     "metadata": {},
     "output_type": "display_data"
    },
    {
     "name": "stdout",
     "output_type": "stream",
     "text": [
      "eval loss: 0.18987851939605213 0.27190676816928816\n",
      "epoch: 3\n",
      "epoch: 3 loss: 0.12859661645504497\n"
     ]
    },
    {
     "data": {
      "text/html": [
       "\n",
       "    <div>\n",
       "        <style>\n",
       "            /* Turns off some styling */\n",
       "            progress {\n",
       "                /* gets rid of default border in Firefox and Opera. */\n",
       "                border: none;\n",
       "                /* Needs to be in here for Safari polyfill so background images work as expected. */\n",
       "                background-size: auto;\n",
       "            }\n",
       "            .progress-bar-interrupted, .progress-bar-interrupted::-webkit-progress-bar {\n",
       "                background: #F44336;\n",
       "            }\n",
       "        </style>\n",
       "      <progress value='17' class='' max='17' style='width:300px; height:20px; vertical-align: middle;'></progress>\n",
       "      100.00% [17/17 00:01<00:00]\n",
       "    </div>\n",
       "    "
      ],
      "text/plain": [
       "<IPython.core.display.HTML object>"
      ]
     },
     "metadata": {},
     "output_type": "display_data"
    },
    {
     "name": "stdout",
     "output_type": "stream",
     "text": [
      "eval loss: 0.18000530406679704 0.25821519946245086\n",
      "epoch: 4\n",
      "epoch: 4 loss: 0.12168485680638562\n"
     ]
    },
    {
     "data": {
      "text/html": [
       "\n",
       "    <div>\n",
       "        <style>\n",
       "            /* Turns off some styling */\n",
       "            progress {\n",
       "                /* gets rid of default border in Firefox and Opera. */\n",
       "                border: none;\n",
       "                /* Needs to be in here for Safari polyfill so background images work as expected. */\n",
       "                background-size: auto;\n",
       "            }\n",
       "            .progress-bar-interrupted, .progress-bar-interrupted::-webkit-progress-bar {\n",
       "                background: #F44336;\n",
       "            }\n",
       "        </style>\n",
       "      <progress value='17' class='' max='17' style='width:300px; height:20px; vertical-align: middle;'></progress>\n",
       "      100.00% [17/17 00:02<00:00]\n",
       "    </div>\n",
       "    "
      ],
      "text/plain": [
       "<IPython.core.display.HTML object>"
      ]
     },
     "metadata": {},
     "output_type": "display_data"
    },
    {
     "name": "stdout",
     "output_type": "stream",
     "text": [
      "eval loss: 0.17607336714889513 0.2524257227324666\n",
      "epoch: 5\n",
      "epoch: 5 loss: 0.11698641053310091\n"
     ]
    },
    {
     "data": {
      "text/html": [
       "\n",
       "    <div>\n",
       "        <style>\n",
       "            /* Turns off some styling */\n",
       "            progress {\n",
       "                /* gets rid of default border in Firefox and Opera. */\n",
       "                border: none;\n",
       "                /* Needs to be in here for Safari polyfill so background images work as expected. */\n",
       "                background-size: auto;\n",
       "            }\n",
       "            .progress-bar-interrupted, .progress-bar-interrupted::-webkit-progress-bar {\n",
       "                background: #F44336;\n",
       "            }\n",
       "        </style>\n",
       "      <progress value='17' class='' max='17' style='width:300px; height:20px; vertical-align: middle;'></progress>\n",
       "      100.00% [17/17 00:01<00:00]\n",
       "    </div>\n",
       "    "
      ],
      "text/plain": [
       "<IPython.core.display.HTML object>"
      ]
     },
     "metadata": {},
     "output_type": "display_data"
    },
    {
     "name": "stdout",
     "output_type": "stream",
     "text": [
      "eval loss: 0.17054452289160163 0.245148346450804\n",
      "epoch: 6\n",
      "epoch: 6 loss: 0.11291703685612722\n"
     ]
    },
    {
     "data": {
      "text/html": [
       "\n",
       "    <div>\n",
       "        <style>\n",
       "            /* Turns off some styling */\n",
       "            progress {\n",
       "                /* gets rid of default border in Firefox and Opera. */\n",
       "                border: none;\n",
       "                /* Needs to be in here for Safari polyfill so background images work as expected. */\n",
       "                background-size: auto;\n",
       "            }\n",
       "            .progress-bar-interrupted, .progress-bar-interrupted::-webkit-progress-bar {\n",
       "                background: #F44336;\n",
       "            }\n",
       "        </style>\n",
       "      <progress value='17' class='' max='17' style='width:300px; height:20px; vertical-align: middle;'></progress>\n",
       "      100.00% [17/17 00:01<00:00]\n",
       "    </div>\n",
       "    "
      ],
      "text/plain": [
       "<IPython.core.display.HTML object>"
      ]
     },
     "metadata": {},
     "output_type": "display_data"
    },
    {
     "name": "stdout",
     "output_type": "stream",
     "text": [
      "eval loss: 0.1663650819310744 0.2393434128948634\n",
      "epoch: 7\n",
      "epoch: 7 loss: 0.11029112114669373\n"
     ]
    },
    {
     "data": {
      "text/html": [
       "\n",
       "    <div>\n",
       "        <style>\n",
       "            /* Turns off some styling */\n",
       "            progress {\n",
       "                /* gets rid of default border in Firefox and Opera. */\n",
       "                border: none;\n",
       "                /* Needs to be in here for Safari polyfill so background images work as expected. */\n",
       "                background-size: auto;\n",
       "            }\n",
       "            .progress-bar-interrupted, .progress-bar-interrupted::-webkit-progress-bar {\n",
       "                background: #F44336;\n",
       "            }\n",
       "        </style>\n",
       "      <progress value='17' class='' max='17' style='width:300px; height:20px; vertical-align: middle;'></progress>\n",
       "      100.00% [17/17 00:01<00:00]\n",
       "    </div>\n",
       "    "
      ],
      "text/plain": [
       "<IPython.core.display.HTML object>"
      ]
     },
     "metadata": {},
     "output_type": "display_data"
    },
    {
     "name": "stdout",
     "output_type": "stream",
     "text": [
      "eval loss: 0.1660249590334316 0.23866174197721157\n",
      "epoch: 8\n",
      "epoch: 8 loss: 0.11038293590581105\n",
      "eval loss: 0.16677039934872873 0.23943031469155157\n",
      "epoch: 9\n",
      "epoch: 9 loss: 0.10636431992360205\n"
     ]
    },
    {
     "data": {
      "text/html": [
       "\n",
       "    <div>\n",
       "        <style>\n",
       "            /* Turns off some styling */\n",
       "            progress {\n",
       "                /* gets rid of default border in Firefox and Opera. */\n",
       "                border: none;\n",
       "                /* Needs to be in here for Safari polyfill so background images work as expected. */\n",
       "                background-size: auto;\n",
       "            }\n",
       "            .progress-bar-interrupted, .progress-bar-interrupted::-webkit-progress-bar {\n",
       "                background: #F44336;\n",
       "            }\n",
       "        </style>\n",
       "      <progress value='17' class='' max='17' style='width:300px; height:20px; vertical-align: middle;'></progress>\n",
       "      100.00% [17/17 00:01<00:00]\n",
       "    </div>\n",
       "    "
      ],
      "text/plain": [
       "<IPython.core.display.HTML object>"
      ]
     },
     "metadata": {},
     "output_type": "display_data"
    },
    {
     "name": "stdout",
     "output_type": "stream",
     "text": [
      "eval loss: 0.16201087379083765 0.23247533450985491\n",
      "epoch: 10\n",
      "epoch: 10 loss: 0.10381943756735731\n"
     ]
    },
    {
     "data": {
      "text/html": [
       "\n",
       "    <div>\n",
       "        <style>\n",
       "            /* Turns off some styling */\n",
       "            progress {\n",
       "                /* gets rid of default border in Firefox and Opera. */\n",
       "                border: none;\n",
       "                /* Needs to be in here for Safari polyfill so background images work as expected. */\n",
       "                background-size: auto;\n",
       "            }\n",
       "            .progress-bar-interrupted, .progress-bar-interrupted::-webkit-progress-bar {\n",
       "                background: #F44336;\n",
       "            }\n",
       "        </style>\n",
       "      <progress value='17' class='' max='17' style='width:300px; height:20px; vertical-align: middle;'></progress>\n",
       "      100.00% [17/17 00:01<00:00]\n",
       "    </div>\n",
       "    "
      ],
      "text/plain": [
       "<IPython.core.display.HTML object>"
      ]
     },
     "metadata": {},
     "output_type": "display_data"
    },
    {
     "name": "stdout",
     "output_type": "stream",
     "text": [
      "eval loss: 0.16035222569034113 0.230725930101216\n",
      "epoch: 11\n",
      "epoch: 11 loss: 0.10237020156373647\n"
     ]
    },
    {
     "data": {
      "text/html": [
       "\n",
       "    <div>\n",
       "        <style>\n",
       "            /* Turns off some styling */\n",
       "            progress {\n",
       "                /* gets rid of default border in Firefox and Opera. */\n",
       "                border: none;\n",
       "                /* Needs to be in here for Safari polyfill so background images work as expected. */\n",
       "                background-size: auto;\n",
       "            }\n",
       "            .progress-bar-interrupted, .progress-bar-interrupted::-webkit-progress-bar {\n",
       "                background: #F44336;\n",
       "            }\n",
       "        </style>\n",
       "      <progress value='17' class='' max='17' style='width:300px; height:20px; vertical-align: middle;'></progress>\n",
       "      100.00% [17/17 00:01<00:00]\n",
       "    </div>\n",
       "    "
      ],
      "text/plain": [
       "<IPython.core.display.HTML object>"
      ]
     },
     "metadata": {},
     "output_type": "display_data"
    },
    {
     "name": "stdout",
     "output_type": "stream",
     "text": [
      "eval loss: 0.159793379048548 0.22965117663843235\n",
      "epoch: 12\n",
      "epoch: 12 loss: 0.10035928898982334\n"
     ]
    },
    {
     "data": {
      "text/html": [
       "\n",
       "    <div>\n",
       "        <style>\n",
       "            /* Turns off some styling */\n",
       "            progress {\n",
       "                /* gets rid of default border in Firefox and Opera. */\n",
       "                border: none;\n",
       "                /* Needs to be in here for Safari polyfill so background images work as expected. */\n",
       "                background-size: auto;\n",
       "            }\n",
       "            .progress-bar-interrupted, .progress-bar-interrupted::-webkit-progress-bar {\n",
       "                background: #F44336;\n",
       "            }\n",
       "        </style>\n",
       "      <progress value='17' class='' max='17' style='width:300px; height:20px; vertical-align: middle;'></progress>\n",
       "      100.00% [17/17 00:01<00:00]\n",
       "    </div>\n",
       "    "
      ],
      "text/plain": [
       "<IPython.core.display.HTML object>"
      ]
     },
     "metadata": {},
     "output_type": "display_data"
    },
    {
     "name": "stdout",
     "output_type": "stream",
     "text": [
      "eval loss: 0.15779644060693418 0.22711054188683313\n",
      "epoch: 13\n",
      "epoch: 13 loss: 0.09850383780698418\n"
     ]
    },
    {
     "data": {
      "text/html": [
       "\n",
       "    <div>\n",
       "        <style>\n",
       "            /* Turns off some styling */\n",
       "            progress {\n",
       "                /* gets rid of default border in Firefox and Opera. */\n",
       "                border: none;\n",
       "                /* Needs to be in here for Safari polyfill so background images work as expected. */\n",
       "                background-size: auto;\n",
       "            }\n",
       "            .progress-bar-interrupted, .progress-bar-interrupted::-webkit-progress-bar {\n",
       "                background: #F44336;\n",
       "            }\n",
       "        </style>\n",
       "      <progress value='17' class='' max='17' style='width:300px; height:20px; vertical-align: middle;'></progress>\n",
       "      100.00% [17/17 00:01<00:00]\n",
       "    </div>\n",
       "    "
      ],
      "text/plain": [
       "<IPython.core.display.HTML object>"
      ]
     },
     "metadata": {},
     "output_type": "display_data"
    },
    {
     "name": "stdout",
     "output_type": "stream",
     "text": [
      "eval loss: 0.156152568187931 0.22490951654755229\n",
      "epoch: 14\n",
      "epoch: 14 loss: 0.09648923634521768\n"
     ]
    },
    {
     "data": {
      "text/html": [
       "\n",
       "    <div>\n",
       "        <style>\n",
       "            /* Turns off some styling */\n",
       "            progress {\n",
       "                /* gets rid of default border in Firefox and Opera. */\n",
       "                border: none;\n",
       "                /* Needs to be in here for Safari polyfill so background images work as expected. */\n",
       "                background-size: auto;\n",
       "            }\n",
       "            .progress-bar-interrupted, .progress-bar-interrupted::-webkit-progress-bar {\n",
       "                background: #F44336;\n",
       "            }\n",
       "        </style>\n",
       "      <progress value='17' class='' max='17' style='width:300px; height:20px; vertical-align: middle;'></progress>\n",
       "      100.00% [17/17 00:01<00:00]\n",
       "    </div>\n",
       "    "
      ],
      "text/plain": [
       "<IPython.core.display.HTML object>"
      ]
     },
     "metadata": {},
     "output_type": "display_data"
    },
    {
     "name": "stdout",
     "output_type": "stream",
     "text": [
      "eval loss: 0.1551984075825674 0.22356919990562446\n",
      "epoch: 15\n",
      "epoch: 15 loss: 0.09539727395966263\n",
      "eval loss: 0.15628187173938907 0.2244702977999045\n",
      "epoch: 16\n",
      "epoch: 16 loss: 0.09444787969750358\n",
      "eval loss: 0.15641149079031985 0.22430369200359057\n",
      "epoch: 17\n",
      "epoch: 17 loss: 0.09319350106385517\n",
      "eval loss: 0.1556916100230088 0.22363121079082485\n",
      "epoch: 18\n",
      "epoch: 18 loss: 0.09183257881246822\n"
     ]
    },
    {
     "data": {
      "text/html": [
       "\n",
       "    <div>\n",
       "        <style>\n",
       "            /* Turns off some styling */\n",
       "            progress {\n",
       "                /* gets rid of default border in Firefox and Opera. */\n",
       "                border: none;\n",
       "                /* Needs to be in here for Safari polyfill so background images work as expected. */\n",
       "                background-size: auto;\n",
       "            }\n",
       "            .progress-bar-interrupted, .progress-bar-interrupted::-webkit-progress-bar {\n",
       "                background: #F44336;\n",
       "            }\n",
       "        </style>\n",
       "      <progress value='17' class='' max='17' style='width:300px; height:20px; vertical-align: middle;'></progress>\n",
       "      100.00% [17/17 00:01<00:00]\n",
       "    </div>\n",
       "    "
      ],
      "text/plain": [
       "<IPython.core.display.HTML object>"
      ]
     },
     "metadata": {},
     "output_type": "display_data"
    },
    {
     "name": "stdout",
     "output_type": "stream",
     "text": [
      "eval loss: 0.15272744366414348 0.21973678505446748\n",
      "epoch: 19\n",
      "epoch: 19 loss: 0.0904826660031846\n"
     ]
    },
    {
     "data": {
      "text/html": [
       "\n",
       "    <div>\n",
       "        <style>\n",
       "            /* Turns off some styling */\n",
       "            progress {\n",
       "                /* gets rid of default border in Firefox and Opera. */\n",
       "                border: none;\n",
       "                /* Needs to be in here for Safari polyfill so background images work as expected. */\n",
       "                background-size: auto;\n",
       "            }\n",
       "            .progress-bar-interrupted, .progress-bar-interrupted::-webkit-progress-bar {\n",
       "                background: #F44336;\n",
       "            }\n",
       "        </style>\n",
       "      <progress value='17' class='' max='17' style='width:300px; height:20px; vertical-align: middle;'></progress>\n",
       "      100.00% [17/17 00:01<00:00]\n",
       "    </div>\n",
       "    "
      ],
      "text/plain": [
       "<IPython.core.display.HTML object>"
      ]
     },
     "metadata": {},
     "output_type": "display_data"
    },
    {
     "name": "stdout",
     "output_type": "stream",
     "text": [
      "eval loss: 0.1520977756953178 0.21946004791462817\n",
      "epoch: 20\n",
      "epoch: 20 loss: 0.08932063184443143\n"
     ]
    },
    {
     "data": {
      "text/html": [
       "\n",
       "    <div>\n",
       "        <style>\n",
       "            /* Turns off some styling */\n",
       "            progress {\n",
       "                /* gets rid of default border in Firefox and Opera. */\n",
       "                border: none;\n",
       "                /* Needs to be in here for Safari polyfill so background images work as expected. */\n",
       "                background-size: auto;\n",
       "            }\n",
       "            .progress-bar-interrupted, .progress-bar-interrupted::-webkit-progress-bar {\n",
       "                background: #F44336;\n",
       "            }\n",
       "        </style>\n",
       "      <progress value='17' class='' max='17' style='width:300px; height:20px; vertical-align: middle;'></progress>\n",
       "      100.00% [17/17 00:01<00:00]\n",
       "    </div>\n",
       "    "
      ],
      "text/plain": [
       "<IPython.core.display.HTML object>"
      ]
     },
     "metadata": {},
     "output_type": "display_data"
    },
    {
     "name": "stdout",
     "output_type": "stream",
     "text": [
      "eval loss: 0.15173076711523084 0.21858674852269835\n",
      "epoch: 21\n",
      "epoch: 21 loss: 0.08854714909105943\n"
     ]
    },
    {
     "data": {
      "text/html": [
       "\n",
       "    <div>\n",
       "        <style>\n",
       "            /* Turns off some styling */\n",
       "            progress {\n",
       "                /* gets rid of default border in Firefox and Opera. */\n",
       "                border: none;\n",
       "                /* Needs to be in here for Safari polyfill so background images work as expected. */\n",
       "                background-size: auto;\n",
       "            }\n",
       "            .progress-bar-interrupted, .progress-bar-interrupted::-webkit-progress-bar {\n",
       "                background: #F44336;\n",
       "            }\n",
       "        </style>\n",
       "      <progress value='17' class='' max='17' style='width:300px; height:20px; vertical-align: middle;'></progress>\n",
       "      100.00% [17/17 00:01<00:00]\n",
       "    </div>\n",
       "    "
      ],
      "text/plain": [
       "<IPython.core.display.HTML object>"
      ]
     },
     "metadata": {},
     "output_type": "display_data"
    },
    {
     "name": "stdout",
     "output_type": "stream",
     "text": [
      "eval loss: 0.15040424802936775 0.21656224065081778\n",
      "epoch: 22\n",
      "epoch: 22 loss: 0.08762863926461245\n",
      "eval loss: 0.1510437881700893 0.21762046141008398\n",
      "epoch: 23\n",
      "epoch: 23 loss: 0.08676173143180316\n"
     ]
    },
    {
     "data": {
      "text/html": [
       "\n",
       "    <div>\n",
       "        <style>\n",
       "            /* Turns off some styling */\n",
       "            progress {\n",
       "                /* gets rid of default border in Firefox and Opera. */\n",
       "                border: none;\n",
       "                /* Needs to be in here for Safari polyfill so background images work as expected. */\n",
       "                background-size: auto;\n",
       "            }\n",
       "            .progress-bar-interrupted, .progress-bar-interrupted::-webkit-progress-bar {\n",
       "                background: #F44336;\n",
       "            }\n",
       "        </style>\n",
       "      <progress value='17' class='' max='17' style='width:300px; height:20px; vertical-align: middle;'></progress>\n",
       "      100.00% [17/17 00:01<00:00]\n",
       "    </div>\n",
       "    "
      ],
      "text/plain": [
       "<IPython.core.display.HTML object>"
      ]
     },
     "metadata": {},
     "output_type": "display_data"
    },
    {
     "name": "stdout",
     "output_type": "stream",
     "text": [
      "eval loss: 0.15015414929353332 0.21646247129176963\n",
      "epoch: 24\n",
      "epoch: 24 loss: 0.0859209586261886\n"
     ]
    },
    {
     "data": {
      "text/html": [
       "\n",
       "    <div>\n",
       "        <style>\n",
       "            /* Turns off some styling */\n",
       "            progress {\n",
       "                /* gets rid of default border in Firefox and Opera. */\n",
       "                border: none;\n",
       "                /* Needs to be in here for Safari polyfill so background images work as expected. */\n",
       "                background-size: auto;\n",
       "            }\n",
       "            .progress-bar-interrupted, .progress-bar-interrupted::-webkit-progress-bar {\n",
       "                background: #F44336;\n",
       "            }\n",
       "        </style>\n",
       "      <progress value='17' class='' max='17' style='width:300px; height:20px; vertical-align: middle;'></progress>\n",
       "      100.00% [17/17 00:01<00:00]\n",
       "    </div>\n",
       "    "
      ],
      "text/plain": [
       "<IPython.core.display.HTML object>"
      ]
     },
     "metadata": {},
     "output_type": "display_data"
    },
    {
     "name": "stdout",
     "output_type": "stream",
     "text": [
      "eval loss: 0.14997961136361138 0.21615591697730982\n",
      "epoch: 25\n",
      "epoch: 25 loss: 0.08581118815547475\n"
     ]
    },
    {
     "data": {
      "text/html": [
       "\n",
       "    <div>\n",
       "        <style>\n",
       "            /* Turns off some styling */\n",
       "            progress {\n",
       "                /* gets rid of default border in Firefox and Opera. */\n",
       "                border: none;\n",
       "                /* Needs to be in here for Safari polyfill so background images work as expected. */\n",
       "                background-size: auto;\n",
       "            }\n",
       "            .progress-bar-interrupted, .progress-bar-interrupted::-webkit-progress-bar {\n",
       "                background: #F44336;\n",
       "            }\n",
       "        </style>\n",
       "      <progress value='17' class='' max='17' style='width:300px; height:20px; vertical-align: middle;'></progress>\n",
       "      100.00% [17/17 00:01<00:00]\n",
       "    </div>\n",
       "    "
      ],
      "text/plain": [
       "<IPython.core.display.HTML object>"
      ]
     },
     "metadata": {},
     "output_type": "display_data"
    },
    {
     "name": "stdout",
     "output_type": "stream",
     "text": [
      "eval loss: 0.14980180286453473 0.21529819601054237\n",
      "epoch: 26\n",
      "epoch: 26 loss: 0.0837618288240845\n"
     ]
    },
    {
     "data": {
      "text/html": [
       "\n",
       "    <div>\n",
       "        <style>\n",
       "            /* Turns off some styling */\n",
       "            progress {\n",
       "                /* gets rid of default border in Firefox and Opera. */\n",
       "                border: none;\n",
       "                /* Needs to be in here for Safari polyfill so background images work as expected. */\n",
       "                background-size: auto;\n",
       "            }\n",
       "            .progress-bar-interrupted, .progress-bar-interrupted::-webkit-progress-bar {\n",
       "                background: #F44336;\n",
       "            }\n",
       "        </style>\n",
       "      <progress value='17' class='' max='17' style='width:300px; height:20px; vertical-align: middle;'></progress>\n",
       "      100.00% [17/17 00:01<00:00]\n",
       "    </div>\n",
       "    "
      ],
      "text/plain": [
       "<IPython.core.display.HTML object>"
      ]
     },
     "metadata": {},
     "output_type": "display_data"
    },
    {
     "name": "stdout",
     "output_type": "stream",
     "text": [
      "eval loss: 0.14928186829742723 0.21442538931781854\n",
      "epoch: 27\n",
      "epoch: 27 loss: 0.08366248837270814\n"
     ]
    },
    {
     "data": {
      "text/html": [
       "\n",
       "    <div>\n",
       "        <style>\n",
       "            /* Turns off some styling */\n",
       "            progress {\n",
       "                /* gets rid of default border in Firefox and Opera. */\n",
       "                border: none;\n",
       "                /* Needs to be in here for Safari polyfill so background images work as expected. */\n",
       "                background-size: auto;\n",
       "            }\n",
       "            .progress-bar-interrupted, .progress-bar-interrupted::-webkit-progress-bar {\n",
       "                background: #F44336;\n",
       "            }\n",
       "        </style>\n",
       "      <progress value='17' class='' max='17' style='width:300px; height:20px; vertical-align: middle;'></progress>\n",
       "      100.00% [17/17 00:01<00:00]\n",
       "    </div>\n",
       "    "
      ],
      "text/plain": [
       "<IPython.core.display.HTML object>"
      ]
     },
     "metadata": {},
     "output_type": "display_data"
    },
    {
     "name": "stdout",
     "output_type": "stream",
     "text": [
      "eval loss: 0.1482850312283317 0.2134564245202819\n",
      "epoch: 28\n",
      "epoch: 28 loss: 0.08244057280008611\n",
      "eval loss: 0.14893619090683016 0.21427485096922927\n",
      "epoch: 29\n",
      "epoch: 29 loss: 0.08159473020994444\n",
      "eval loss: 0.14902233495898412 0.21418101860225547\n",
      "epoch: 30\n",
      "epoch: 30 loss: 0.08088132318005184\n"
     ]
    },
    {
     "data": {
      "text/html": [
       "\n",
       "    <div>\n",
       "        <style>\n",
       "            /* Turns off some styling */\n",
       "            progress {\n",
       "                /* gets rid of default border in Firefox and Opera. */\n",
       "                border: none;\n",
       "                /* Needs to be in here for Safari polyfill so background images work as expected. */\n",
       "                background-size: auto;\n",
       "            }\n",
       "            .progress-bar-interrupted, .progress-bar-interrupted::-webkit-progress-bar {\n",
       "                background: #F44336;\n",
       "            }\n",
       "        </style>\n",
       "      <progress value='17' class='' max='17' style='width:300px; height:20px; vertical-align: middle;'></progress>\n",
       "      100.00% [17/17 00:01<00:00]\n",
       "    </div>\n",
       "    "
      ],
      "text/plain": [
       "<IPython.core.display.HTML object>"
      ]
     },
     "metadata": {},
     "output_type": "display_data"
    },
    {
     "name": "stdout",
     "output_type": "stream",
     "text": [
      "eval loss: 0.14708170003923707 0.2119119977909746\n",
      "epoch: 31\n",
      "epoch: 31 loss: 0.08008558206647927\n",
      "eval loss: 0.1486222110066081 0.21364142287578564\n",
      "epoch: 32\n",
      "epoch: 32 loss: 0.07949208903298434\n",
      "eval loss: 0.14768442912216223 0.21232290322396394\n",
      "epoch: 33\n",
      "epoch: 33 loss: 0.07886192377311241\n",
      "eval loss: 0.1475135890028587 0.21218925623176146\n",
      "epoch: 34\n",
      "epoch: 34 loss: 0.07817733769276927\n"
     ]
    },
    {
     "data": {
      "text/html": [
       "\n",
       "    <div>\n",
       "        <style>\n",
       "            /* Turns off some styling */\n",
       "            progress {\n",
       "                /* gets rid of default border in Firefox and Opera. */\n",
       "                border: none;\n",
       "                /* Needs to be in here for Safari polyfill so background images work as expected. */\n",
       "                background-size: auto;\n",
       "            }\n",
       "            .progress-bar-interrupted, .progress-bar-interrupted::-webkit-progress-bar {\n",
       "                background: #F44336;\n",
       "            }\n",
       "        </style>\n",
       "      <progress value='17' class='' max='17' style='width:300px; height:20px; vertical-align: middle;'></progress>\n",
       "      100.00% [17/17 00:01<00:00]\n",
       "    </div>\n",
       "    "
      ],
      "text/plain": [
       "<IPython.core.display.HTML object>"
      ]
     },
     "metadata": {},
     "output_type": "display_data"
    },
    {
     "name": "stdout",
     "output_type": "stream",
     "text": [
      "eval loss: 0.14621379012224206 0.2105910002185405\n",
      "epoch: 35\n",
      "epoch: 35 loss: 0.07765380616542442\n",
      "eval loss: 0.14710123093290117 0.21170929541355904\n",
      "epoch: 36\n",
      "epoch: 36 loss: 0.07736498651143556\n"
     ]
    },
    {
     "data": {
      "text/html": [
       "\n",
       "    <div>\n",
       "        <style>\n",
       "            /* Turns off some styling */\n",
       "            progress {\n",
       "                /* gets rid of default border in Firefox and Opera. */\n",
       "                border: none;\n",
       "                /* Needs to be in here for Safari polyfill so background images work as expected. */\n",
       "                background-size: auto;\n",
       "            }\n",
       "            .progress-bar-interrupted, .progress-bar-interrupted::-webkit-progress-bar {\n",
       "                background: #F44336;\n",
       "            }\n",
       "        </style>\n",
       "      <progress value='17' class='' max='17' style='width:300px; height:20px; vertical-align: middle;'></progress>\n",
       "      100.00% [17/17 00:01<00:00]\n",
       "    </div>\n",
       "    "
      ],
      "text/plain": [
       "<IPython.core.display.HTML object>"
      ]
     },
     "metadata": {},
     "output_type": "display_data"
    },
    {
     "name": "stdout",
     "output_type": "stream",
     "text": [
      "eval loss: 0.14617452165589714 0.21025841490986652\n",
      "epoch: 37\n",
      "epoch: 37 loss: 0.07653870077042509\n"
     ]
    },
    {
     "data": {
      "text/html": [
       "\n",
       "    <div>\n",
       "        <style>\n",
       "            /* Turns off some styling */\n",
       "            progress {\n",
       "                /* gets rid of default border in Firefox and Opera. */\n",
       "                border: none;\n",
       "                /* Needs to be in here for Safari polyfill so background images work as expected. */\n",
       "                background-size: auto;\n",
       "            }\n",
       "            .progress-bar-interrupted, .progress-bar-interrupted::-webkit-progress-bar {\n",
       "                background: #F44336;\n",
       "            }\n",
       "        </style>\n",
       "      <progress value='17' class='' max='17' style='width:300px; height:20px; vertical-align: middle;'></progress>\n",
       "      100.00% [17/17 00:01<00:00]\n",
       "    </div>\n",
       "    "
      ],
      "text/plain": [
       "<IPython.core.display.HTML object>"
      ]
     },
     "metadata": {},
     "output_type": "display_data"
    },
    {
     "name": "stdout",
     "output_type": "stream",
     "text": [
      "eval loss: 0.14576648132695463 0.20966346104869701\n",
      "epoch: 38\n",
      "epoch: 38 loss: 0.07608818271172453\n",
      "eval loss: 0.14596599120326137 0.2094538632545681\n",
      "epoch: 39\n",
      "epoch: 39 loss: 0.07554892936166578\n",
      "eval loss: 0.1464172440634691 0.21036850495419362\n",
      "epoch: 40\n",
      "epoch: 40 loss: 0.07501620443888823\n",
      "eval loss: 0.1467126344417764 0.2108214552108735\n",
      "epoch: 41\n",
      "epoch: 41 loss: 0.0743736849451858\n",
      "eval loss: 0.14665137087543975 0.2105739608119368\n",
      "epoch: 42\n",
      "epoch: 42 loss: 0.07403739398248818\n",
      "eval loss: 0.14624387631783697 0.21017756339772603\n",
      "epoch: 43\n",
      "epoch: 43 loss: 0.0734152928953578\n",
      "eval loss: 0.1466145860028855 0.2104557461200624\n",
      "epoch: 44\n",
      "epoch: 44 loss: 0.07308666676874416\n",
      "eval loss: 0.1464534655455723 0.21038678553322265\n",
      "epoch: 45\n",
      "epoch: 45 loss: 0.0725377553681599\n"
     ]
    },
    {
     "data": {
      "text/html": [
       "\n",
       "    <div>\n",
       "        <style>\n",
       "            /* Turns off some styling */\n",
       "            progress {\n",
       "                /* gets rid of default border in Firefox and Opera. */\n",
       "                border: none;\n",
       "                /* Needs to be in here for Safari polyfill so background images work as expected. */\n",
       "                background-size: auto;\n",
       "            }\n",
       "            .progress-bar-interrupted, .progress-bar-interrupted::-webkit-progress-bar {\n",
       "                background: #F44336;\n",
       "            }\n",
       "        </style>\n",
       "      <progress value='17' class='' max='17' style='width:300px; height:20px; vertical-align: middle;'></progress>\n",
       "      100.00% [17/17 00:01<00:00]\n",
       "    </div>\n",
       "    "
      ],
      "text/plain": [
       "<IPython.core.display.HTML object>"
      ]
     },
     "metadata": {},
     "output_type": "display_data"
    },
    {
     "name": "stdout",
     "output_type": "stream",
     "text": [
      "eval loss: 0.14517860495694634 0.20836465097799534\n",
      "epoch: 46\n",
      "epoch: 46 loss: 0.07237516604369343\n",
      "eval loss: 0.14742642226571467 0.2113471557295405\n",
      "epoch: 47\n",
      "epoch: 47 loss: 0.0717536232154588\n",
      "eval loss: 0.1455317495657306 0.2087034259553394\n",
      "epoch: 48\n",
      "epoch: 48 loss: 0.07168438189446544\n",
      "eval loss: 0.14653775024283758 0.20999695412510175\n",
      "epoch: 49\n",
      "epoch: 49 loss: 0.11554991622186912\n",
      "eval loss: 0.29976874848255336 0.4235337728838602\n",
      "epoch: 50\n",
      "epoch: 50 loss: 0.2255078995879097\n",
      "eval loss: 0.29600729327978614 0.418012439453577\n",
      "epoch: 51\n",
      "epoch: 51 loss: 0.22258111887541307\n",
      "eval loss: 0.29510022113793033 0.41604302420579714\n",
      "epoch: 52\n",
      "epoch: 52 loss: 0.22215770016769743\n",
      "eval loss: 0.2946012521401246 0.4154334699554514\n",
      "epoch: 53\n",
      "epoch: 53 loss: 0.22200054825487278\n",
      "eval loss: 0.29701107021514533 0.41923316596921084\n",
      "epoch: 54\n",
      "epoch: 54 loss: 0.22188104536265466\n",
      "eval loss: 0.2936972613635407 0.41454488487881197\n",
      "epoch: 55\n",
      "epoch: 55 loss: 0.22193636992525334\n",
      "eval loss: 0.293795668475409 0.41463439825655574\n",
      "epoch: 56\n",
      "epoch: 56 loss: 0.2217146383963426\n",
      "eval loss: 0.29880145155228666 0.4214861788383285\n",
      "epoch: 57\n",
      "epoch: 57 loss: 0.22196385025492504\n",
      "eval loss: 0.29524156219591063 0.41663663974927295\n",
      "epoch: 58\n",
      "epoch: 58 loss: 0.2215907267126847\n",
      "eval loss: 0.2937346826942184 0.41432501230570673\n",
      "epoch: 59\n",
      "epoch: 59 loss: 0.22161399741663407\n",
      "eval loss: 0.29426756465523607 0.41525301862610037\n",
      "epoch: 60\n",
      "epoch: 60 loss: 0.2212357546238811\n",
      "eval loss: 0.2931399733287376 0.41404083293446386\n",
      "epoch: 61\n",
      "epoch: 61 loss: 0.22158980947224277\n",
      "eval loss: 0.29783839324852524 0.419955207607181\n",
      "epoch: 62\n",
      "epoch: 62 loss: 0.22165419028137523\n",
      "eval loss: 0.29370713274481686 0.41435672083378283\n",
      "epoch: 63\n",
      "epoch: 63 loss: 0.22107906170840227\n",
      "eval loss: 0.2947688210882766 0.41614025186782033\n",
      "epoch: 64\n",
      "epoch: 64 loss: 0.22103091024080224\n",
      "eval loss: 0.29641896971038645 0.4181632029087037\n",
      "epoch: 65\n",
      "epoch: 65 loss: 0.22093213542262946\n",
      "eval loss: 0.29335764583874424 0.413920210532184\n",
      "epoch: 66\n",
      "epoch: 66 loss: 0.22104079068582452\n",
      "eval loss: 0.29326366548010263 0.41403193916094994\n",
      "epoch: 67\n",
      "epoch: 67 loss: 0.22048541728393717\n",
      "eval loss: 0.29331925064767456 0.41412527808251154\n",
      "epoch: 68\n",
      "epoch: 68 loss: 0.2211603108529508\n",
      "eval loss: 0.29292272997952085 0.4131018418054372\n",
      "epoch: 69\n",
      "epoch: 69 loss: 0.22113103164595058\n",
      "eval loss: 0.2923155051803139 0.41237119393601657\n",
      "epoch: 70\n",
      "epoch: 70 loss: 0.22102997078161513\n",
      "eval loss: 0.2955598144274265 0.41716742364974907\n",
      "epoch: 71\n",
      "epoch: 71 loss: 0.2209573713029281\n",
      "eval loss: 0.29275836990698567 0.4133892797031827\n",
      "epoch: 72\n",
      "epoch: 72 loss: 0.22198595683314495\n",
      "eval loss: 0.299096506897421 0.42183584853551387\n",
      "epoch: 73\n",
      "epoch: 73 loss: 0.21808232930460034\n",
      "eval loss: 0.288936821148115 0.40781895945206553\n",
      "epoch: 74\n",
      "epoch: 74 loss: 0.21650986598153463\n",
      "eval loss: 0.2886584067445714 0.4073083288093318\n",
      "epoch: 75\n",
      "epoch: 75 loss: 0.2160796364014193\n",
      "eval loss: 0.2869085721349805 0.40457511940962226\n",
      "epoch: 76\n",
      "epoch: 76 loss: 0.2167230039007915\n",
      "eval loss: 0.28747912847430923 0.405455870497008\n",
      "epoch: 77\n",
      "epoch: 77 loss: 0.21528210919565413\n",
      "eval loss: 0.28587532667382937 0.40288991119092\n",
      "epoch: 78\n",
      "epoch: 78 loss: 0.2147171043411787\n",
      "eval loss: 0.28627807029249 0.4038271372852473\n",
      "epoch: 79\n",
      "epoch: 79 loss: 0.21460488740649547\n",
      "eval loss: 0.28609396049090047 0.40323082069728744\n",
      "epoch: 80\n",
      "epoch: 80 loss: 0.21412423696464833\n",
      "eval loss: 0.2878834525095182 0.40522247497014435\n",
      "epoch: 81\n",
      "epoch: 81 loss: 0.2142393615678112\n",
      "eval loss: 0.2896776972212957 0.4083218769961532\n",
      "epoch: 82\n",
      "epoch: 82 loss: 0.21392526535066214\n",
      "eval loss: 0.28623576160219866 0.4033833886684795\n",
      "epoch: 83\n",
      "epoch: 83 loss: 0.21439362737175197\n",
      "eval loss: 0.2852071793149807 0.4017887857916303\n",
      "epoch: 84\n",
      "epoch: 84 loss: 0.21355290029798213\n",
      "eval loss: 0.2850503571681824 0.4017622989424893\n",
      "epoch: 85\n",
      "epoch: 85 loss: 0.21350054741892127\n",
      "eval loss: 0.2923652857604388 0.4116598655711978\n",
      "epoch: 86\n",
      "epoch: 86 loss: 0.21353040405254317\n",
      "eval loss: 0.2840877094183846 0.4010531650455097\n",
      "epoch: 87\n",
      "epoch: 87 loss: 0.21389757718089372\n",
      "eval loss: 0.28505956357264706 0.4018751362175911\n",
      "epoch: 88\n",
      "epoch: 88 loss: 0.2134723907266999\n",
      "eval loss: 0.2885121067146069 0.4062840656705633\n",
      "epoch: 89\n",
      "epoch: 89 loss: 0.21330670020781226\n",
      "eval loss: 0.28464809343016423 0.40139973122795036\n",
      "epoch: 90\n",
      "epoch: 90 loss: 0.2132649470239437\n",
      "eval loss: 0.2874687544887048 0.4049517381454759\n",
      "epoch: 91\n",
      "epoch: 91 loss: 0.21285142718335928\n",
      "eval loss: 0.28518216339077174 0.40160264792141204\n",
      "epoch: 92\n",
      "epoch: 92 loss: 0.21299090053615302\n",
      "eval loss: 0.2871165487539434 0.4052598562462587\n",
      "epoch: 93\n",
      "epoch: 93 loss: 0.21275078125467692\n",
      "eval loss: 0.28368012481995664 0.39990733419752084\n",
      "epoch: 94\n",
      "epoch: 94 loss: 0.21271459598571676\n",
      "eval loss: 0.2896758436673826 0.4083018741799158\n",
      "epoch: 95\n",
      "epoch: 95 loss: 0.21193566751347287\n",
      "eval loss: 0.2855078134927909 0.40211736148837185\n",
      "epoch: 96\n",
      "epoch: 96 loss: 0.21263022056389683\n",
      "eval loss: 0.28608890311012175 0.4032884288402099\n",
      "epoch: 97\n",
      "epoch: 97 loss: 0.21268947260487178\n",
      "eval loss: 0.2840927446759788 0.400041844134881\n",
      "epoch: 98\n",
      "epoch: 98 loss: 0.21117335965468892\n",
      "eval loss: 0.28406218256176735 0.40017778150119054\n",
      "epoch: 99\n",
      "epoch: 99 loss: 0.21094328857434208\n",
      "eval loss: 0.28180252213162804 0.39723552613910257\n",
      "epoch: 100\n",
      "epoch: 100 loss: 0.21083537722303897\n",
      "eval loss: 0.28554169887088504 0.40232673915041084\n",
      "epoch: 101\n",
      "epoch: 101 loss: 0.21090099648146496\n",
      "eval loss: 0.28656454559762 0.4032095448317569\n",
      "epoch: 102\n",
      "epoch: 102 loss: 0.21030676574589235\n",
      "eval loss: 0.2864840036064452 0.4030772929026152\n",
      "epoch: 103\n",
      "epoch: 103 loss: 0.21000813663004303\n",
      "eval loss: 0.28517226385193833 0.400869197978095\n",
      "epoch: 104\n",
      "epoch: 104 loss: 0.20940900527227735\n",
      "eval loss: 0.28764125227932724 0.40471747493262034\n",
      "epoch: 105\n",
      "epoch: 105 loss: 0.20903318827254116\n",
      "eval loss: 0.2891257973671245 0.4063904299672501\n",
      "epoch: 106\n",
      "epoch: 106 loss: 0.2096471384384012\n",
      "eval loss: 0.2896896396900447 0.40687760329396233\n",
      "epoch: 107\n",
      "epoch: 107 loss: 0.20974211191552586\n",
      "eval loss: 0.2807093188149787 0.3949118517186422\n",
      "epoch: 108\n",
      "epoch: 108 loss: 0.20861961879114516\n",
      "eval loss: 0.28587140970514613 0.40152744214614167\n",
      "epoch: 109\n",
      "epoch: 109 loss: 0.2083635073371022\n",
      "eval loss: 0.28117003063228324 0.3957726768368146\n",
      "epoch: 110\n",
      "epoch: 110 loss: 0.20799130155396842\n",
      "eval loss: 0.27806429097756796 0.3922457010734245\n",
      "epoch: 111\n",
      "epoch: 111 loss: 0.20722189827021817\n",
      "eval loss: 0.28179674597024446 0.3968738358710828\n",
      "epoch: 112\n",
      "epoch: 112 loss: 0.2081068539469554\n",
      "eval loss: 0.2766436999447035 0.3897750564200368\n",
      "epoch: 113\n",
      "epoch: 113 loss: 0.207255906279161\n",
      "eval loss: 0.2795847782693922 0.3936060220177591\n",
      "epoch: 114\n",
      "epoch: 114 loss: 0.20737632146528864\n",
      "eval loss: 0.27642327501522523 0.3892474288567507\n",
      "epoch: 115\n",
      "epoch: 115 loss: 0.2069941150522304\n",
      "eval loss: 0.27427659874994553 0.38694737167595245\n",
      "epoch: 116\n",
      "epoch: 116 loss: 0.20735912993628908\n",
      "eval loss: 0.27549149698956843 0.387924655147139\n",
      "epoch: 117\n",
      "epoch: 117 loss: 0.20716151146326983\n",
      "eval loss: 0.2768927139735002 0.39021994558369455\n",
      "epoch: 118\n",
      "epoch: 118 loss: 0.20758368616171444\n",
      "eval loss: 0.2767496570516138 0.38956164488281947\n",
      "epoch: 119\n",
      "epoch: 119 loss: 0.20621008159187684\n",
      "eval loss: 0.27666727450921874 0.3895069186914308\n",
      "min eval loss: 0.14517860495694634 min mcrmse: 0.20836465097799534 epoch 45\n",
      "fold: 3\n",
      "(1, 107, 107, 3)\n",
      "(1, 107, 107, 3)\n",
      "(4343, 23) (1086, 23)\n",
      "(1, 130, 130, 3)\n",
      "(1, 130, 130, 3)\n",
      "(2404, 16) (601, 16)\n",
      "device: cuda\n"
     ]
    },
    {
     "data": {
      "text/html": [
       "\n",
       "    <div>\n",
       "        <style>\n",
       "            /* Turns off some styling */\n",
       "            progress {\n",
       "                /* gets rid of default border in Firefox and Opera. */\n",
       "                border: none;\n",
       "                /* Needs to be in here for Safari polyfill so background images work as expected. */\n",
       "                background-size: auto;\n",
       "            }\n",
       "            .progress-bar-interrupted, .progress-bar-interrupted::-webkit-progress-bar {\n",
       "                background: #F44336;\n",
       "            }\n",
       "        </style>\n",
       "      <progress value='120' class='' max='120' style='width:300px; height:20px; vertical-align: middle;'></progress>\n",
       "      100.00% [120/120 1:16:06<00:00]\n",
       "    </div>\n",
       "    "
      ],
      "text/plain": [
       "<IPython.core.display.HTML object>"
      ]
     },
     "metadata": {},
     "output_type": "display_data"
    },
    {
     "name": "stdout",
     "output_type": "stream",
     "text": [
      "epoch: 0\n",
      "epoch: 0 loss: 0.18691852125308717\n"
     ]
    },
    {
     "data": {
      "text/html": [
       "\n",
       "    <div>\n",
       "        <style>\n",
       "            /* Turns off some styling */\n",
       "            progress {\n",
       "                /* gets rid of default border in Firefox and Opera. */\n",
       "                border: none;\n",
       "                /* Needs to be in here for Safari polyfill so background images work as expected. */\n",
       "                background-size: auto;\n",
       "            }\n",
       "            .progress-bar-interrupted, .progress-bar-interrupted::-webkit-progress-bar {\n",
       "                background: #F44336;\n",
       "            }\n",
       "        </style>\n",
       "      <progress value='17' class='' max='17' style='width:300px; height:20px; vertical-align: middle;'></progress>\n",
       "      100.00% [17/17 00:01<00:00]\n",
       "    </div>\n",
       "    "
      ],
      "text/plain": [
       "<IPython.core.display.HTML object>"
      ]
     },
     "metadata": {},
     "output_type": "display_data"
    },
    {
     "name": "stdout",
     "output_type": "stream",
     "text": [
      "eval loss: 0.22426756288149874 0.31399002532891285\n",
      "epoch: 1\n",
      "epoch: 1 loss: 0.15104417106654236\n"
     ]
    },
    {
     "data": {
      "text/html": [
       "\n",
       "    <div>\n",
       "        <style>\n",
       "            /* Turns off some styling */\n",
       "            progress {\n",
       "                /* gets rid of default border in Firefox and Opera. */\n",
       "                border: none;\n",
       "                /* Needs to be in here for Safari polyfill so background images work as expected. */\n",
       "                background-size: auto;\n",
       "            }\n",
       "            .progress-bar-interrupted, .progress-bar-interrupted::-webkit-progress-bar {\n",
       "                background: #F44336;\n",
       "            }\n",
       "        </style>\n",
       "      <progress value='17' class='' max='17' style='width:300px; height:20px; vertical-align: middle;'></progress>\n",
       "      100.00% [17/17 00:01<00:00]\n",
       "    </div>\n",
       "    "
      ],
      "text/plain": [
       "<IPython.core.display.HTML object>"
      ]
     },
     "metadata": {},
     "output_type": "display_data"
    },
    {
     "name": "stdout",
     "output_type": "stream",
     "text": [
      "eval loss: 0.20315634522344614 0.28691051515362553\n",
      "epoch: 2\n",
      "epoch: 2 loss: 0.13845591832004794\n"
     ]
    },
    {
     "data": {
      "text/html": [
       "\n",
       "    <div>\n",
       "        <style>\n",
       "            /* Turns off some styling */\n",
       "            progress {\n",
       "                /* gets rid of default border in Firefox and Opera. */\n",
       "                border: none;\n",
       "                /* Needs to be in here for Safari polyfill so background images work as expected. */\n",
       "                background-size: auto;\n",
       "            }\n",
       "            .progress-bar-interrupted, .progress-bar-interrupted::-webkit-progress-bar {\n",
       "                background: #F44336;\n",
       "            }\n",
       "        </style>\n",
       "      <progress value='17' class='' max='17' style='width:300px; height:20px; vertical-align: middle;'></progress>\n",
       "      100.00% [17/17 00:01<00:00]\n",
       "    </div>\n",
       "    "
      ],
      "text/plain": [
       "<IPython.core.display.HTML object>"
      ]
     },
     "metadata": {},
     "output_type": "display_data"
    },
    {
     "name": "stdout",
     "output_type": "stream",
     "text": [
      "eval loss: 0.18799383465066422 0.26616914784685347\n",
      "epoch: 3\n",
      "epoch: 3 loss: 0.13713045501113688\n",
      "eval loss: 0.19903947824599383 0.28069053931974974\n",
      "epoch: 4\n",
      "epoch: 4 loss: 0.13348535755807506\n"
     ]
    },
    {
     "data": {
      "text/html": [
       "\n",
       "    <div>\n",
       "        <style>\n",
       "            /* Turns off some styling */\n",
       "            progress {\n",
       "                /* gets rid of default border in Firefox and Opera. */\n",
       "                border: none;\n",
       "                /* Needs to be in here for Safari polyfill so background images work as expected. */\n",
       "                background-size: auto;\n",
       "            }\n",
       "            .progress-bar-interrupted, .progress-bar-interrupted::-webkit-progress-bar {\n",
       "                background: #F44336;\n",
       "            }\n",
       "        </style>\n",
       "      <progress value='17' class='' max='17' style='width:300px; height:20px; vertical-align: middle;'></progress>\n",
       "      100.00% [17/17 00:01<00:00]\n",
       "    </div>\n",
       "    "
      ],
      "text/plain": [
       "<IPython.core.display.HTML object>"
      ]
     },
     "metadata": {},
     "output_type": "display_data"
    },
    {
     "name": "stdout",
     "output_type": "stream",
     "text": [
      "eval loss: 0.1826408019575425 0.2584563116107897\n",
      "epoch: 5\n",
      "epoch: 5 loss: 0.1255450032693182\n"
     ]
    },
    {
     "data": {
      "text/html": [
       "\n",
       "    <div>\n",
       "        <style>\n",
       "            /* Turns off some styling */\n",
       "            progress {\n",
       "                /* gets rid of default border in Firefox and Opera. */\n",
       "                border: none;\n",
       "                /* Needs to be in here for Safari polyfill so background images work as expected. */\n",
       "                background-size: auto;\n",
       "            }\n",
       "            .progress-bar-interrupted, .progress-bar-interrupted::-webkit-progress-bar {\n",
       "                background: #F44336;\n",
       "            }\n",
       "        </style>\n",
       "      <progress value='17' class='' max='17' style='width:300px; height:20px; vertical-align: middle;'></progress>\n",
       "      100.00% [17/17 00:01<00:00]\n",
       "    </div>\n",
       "    "
      ],
      "text/plain": [
       "<IPython.core.display.HTML object>"
      ]
     },
     "metadata": {},
     "output_type": "display_data"
    },
    {
     "name": "stdout",
     "output_type": "stream",
     "text": [
      "eval loss: 0.1796403463750513 0.25456835826131724\n",
      "epoch: 6\n",
      "epoch: 6 loss: 0.1209047656197222\n"
     ]
    },
    {
     "data": {
      "text/html": [
       "\n",
       "    <div>\n",
       "        <style>\n",
       "            /* Turns off some styling */\n",
       "            progress {\n",
       "                /* gets rid of default border in Firefox and Opera. */\n",
       "                border: none;\n",
       "                /* Needs to be in here for Safari polyfill so background images work as expected. */\n",
       "                background-size: auto;\n",
       "            }\n",
       "            .progress-bar-interrupted, .progress-bar-interrupted::-webkit-progress-bar {\n",
       "                background: #F44336;\n",
       "            }\n",
       "        </style>\n",
       "      <progress value='17' class='' max='17' style='width:300px; height:20px; vertical-align: middle;'></progress>\n",
       "      100.00% [17/17 00:01<00:00]\n",
       "    </div>\n",
       "    "
      ],
      "text/plain": [
       "<IPython.core.display.HTML object>"
      ]
     },
     "metadata": {},
     "output_type": "display_data"
    },
    {
     "name": "stdout",
     "output_type": "stream",
     "text": [
      "eval loss: 0.1708505193126682 0.2429247761046927\n",
      "epoch: 7\n",
      "epoch: 7 loss: 0.11708989495850593\n"
     ]
    },
    {
     "data": {
      "text/html": [
       "\n",
       "    <div>\n",
       "        <style>\n",
       "            /* Turns off some styling */\n",
       "            progress {\n",
       "                /* gets rid of default border in Firefox and Opera. */\n",
       "                border: none;\n",
       "                /* Needs to be in here for Safari polyfill so background images work as expected. */\n",
       "                background-size: auto;\n",
       "            }\n",
       "            .progress-bar-interrupted, .progress-bar-interrupted::-webkit-progress-bar {\n",
       "                background: #F44336;\n",
       "            }\n",
       "        </style>\n",
       "      <progress value='17' class='' max='17' style='width:300px; height:20px; vertical-align: middle;'></progress>\n",
       "      100.00% [17/17 00:01<00:00]\n",
       "    </div>\n",
       "    "
      ],
      "text/plain": [
       "<IPython.core.display.HTML object>"
      ]
     },
     "metadata": {},
     "output_type": "display_data"
    },
    {
     "name": "stdout",
     "output_type": "stream",
     "text": [
      "eval loss: 0.1694397709271088 0.24007868216540662\n",
      "epoch: 8\n",
      "epoch: 8 loss: 0.11583377689800216\n"
     ]
    },
    {
     "data": {
      "text/html": [
       "\n",
       "    <div>\n",
       "        <style>\n",
       "            /* Turns off some styling */\n",
       "            progress {\n",
       "                /* gets rid of default border in Firefox and Opera. */\n",
       "                border: none;\n",
       "                /* Needs to be in here for Safari polyfill so background images work as expected. */\n",
       "                background-size: auto;\n",
       "            }\n",
       "            .progress-bar-interrupted, .progress-bar-interrupted::-webkit-progress-bar {\n",
       "                background: #F44336;\n",
       "            }\n",
       "        </style>\n",
       "      <progress value='17' class='' max='17' style='width:300px; height:20px; vertical-align: middle;'></progress>\n",
       "      100.00% [17/17 00:01<00:00]\n",
       "    </div>\n",
       "    "
      ],
      "text/plain": [
       "<IPython.core.display.HTML object>"
      ]
     },
     "metadata": {},
     "output_type": "display_data"
    },
    {
     "name": "stdout",
     "output_type": "stream",
     "text": [
      "eval loss: 0.16793526481754764 0.23815303105628333\n",
      "epoch: 9\n",
      "epoch: 9 loss: 0.11325436024921977\n"
     ]
    },
    {
     "data": {
      "text/html": [
       "\n",
       "    <div>\n",
       "        <style>\n",
       "            /* Turns off some styling */\n",
       "            progress {\n",
       "                /* gets rid of default border in Firefox and Opera. */\n",
       "                border: none;\n",
       "                /* Needs to be in here for Safari polyfill so background images work as expected. */\n",
       "                background-size: auto;\n",
       "            }\n",
       "            .progress-bar-interrupted, .progress-bar-interrupted::-webkit-progress-bar {\n",
       "                background: #F44336;\n",
       "            }\n",
       "        </style>\n",
       "      <progress value='17' class='' max='17' style='width:300px; height:20px; vertical-align: middle;'></progress>\n",
       "      100.00% [17/17 00:01<00:00]\n",
       "    </div>\n",
       "    "
      ],
      "text/plain": [
       "<IPython.core.display.HTML object>"
      ]
     },
     "metadata": {},
     "output_type": "display_data"
    },
    {
     "name": "stdout",
     "output_type": "stream",
     "text": [
      "eval loss: 0.167478221155667 0.23728790973034844\n",
      "epoch: 10\n",
      "epoch: 10 loss: 0.10971915544784068\n"
     ]
    },
    {
     "data": {
      "text/html": [
       "\n",
       "    <div>\n",
       "        <style>\n",
       "            /* Turns off some styling */\n",
       "            progress {\n",
       "                /* gets rid of default border in Firefox and Opera. */\n",
       "                border: none;\n",
       "                /* Needs to be in here for Safari polyfill so background images work as expected. */\n",
       "                background-size: auto;\n",
       "            }\n",
       "            .progress-bar-interrupted, .progress-bar-interrupted::-webkit-progress-bar {\n",
       "                background: #F44336;\n",
       "            }\n",
       "        </style>\n",
       "      <progress value='17' class='' max='17' style='width:300px; height:20px; vertical-align: middle;'></progress>\n",
       "      100.00% [17/17 00:01<00:00]\n",
       "    </div>\n",
       "    "
      ],
      "text/plain": [
       "<IPython.core.display.HTML object>"
      ]
     },
     "metadata": {},
     "output_type": "display_data"
    },
    {
     "name": "stdout",
     "output_type": "stream",
     "text": [
      "eval loss: 0.16134649155200678 0.22982833611754971\n",
      "epoch: 11\n",
      "epoch: 11 loss: 0.10750899725736024\n",
      "eval loss: 0.1640502291511768 0.2329995097239545\n",
      "epoch: 12\n",
      "epoch: 12 loss: 0.10620429569801691\n"
     ]
    },
    {
     "data": {
      "text/html": [
       "\n",
       "    <div>\n",
       "        <style>\n",
       "            /* Turns off some styling */\n",
       "            progress {\n",
       "                /* gets rid of default border in Firefox and Opera. */\n",
       "                border: none;\n",
       "                /* Needs to be in here for Safari polyfill so background images work as expected. */\n",
       "                background-size: auto;\n",
       "            }\n",
       "            .progress-bar-interrupted, .progress-bar-interrupted::-webkit-progress-bar {\n",
       "                background: #F44336;\n",
       "            }\n",
       "        </style>\n",
       "      <progress value='17' class='' max='17' style='width:300px; height:20px; vertical-align: middle;'></progress>\n",
       "      100.00% [17/17 00:01<00:00]\n",
       "    </div>\n",
       "    "
      ],
      "text/plain": [
       "<IPython.core.display.HTML object>"
      ]
     },
     "metadata": {},
     "output_type": "display_data"
    },
    {
     "name": "stdout",
     "output_type": "stream",
     "text": [
      "eval loss: 0.15752375112873768 0.2243614255187069\n",
      "epoch: 13\n",
      "epoch: 13 loss: 0.10326570334199167\n"
     ]
    },
    {
     "data": {
      "text/html": [
       "\n",
       "    <div>\n",
       "        <style>\n",
       "            /* Turns off some styling */\n",
       "            progress {\n",
       "                /* gets rid of default border in Firefox and Opera. */\n",
       "                border: none;\n",
       "                /* Needs to be in here for Safari polyfill so background images work as expected. */\n",
       "                background-size: auto;\n",
       "            }\n",
       "            .progress-bar-interrupted, .progress-bar-interrupted::-webkit-progress-bar {\n",
       "                background: #F44336;\n",
       "            }\n",
       "        </style>\n",
       "      <progress value='17' class='' max='17' style='width:300px; height:20px; vertical-align: middle;'></progress>\n",
       "      100.00% [17/17 00:01<00:00]\n",
       "    </div>\n",
       "    "
      ],
      "text/plain": [
       "<IPython.core.display.HTML object>"
      ]
     },
     "metadata": {},
     "output_type": "display_data"
    },
    {
     "name": "stdout",
     "output_type": "stream",
     "text": [
      "eval loss: 0.1562635186010555 0.22303765548873863\n",
      "epoch: 14\n",
      "epoch: 14 loss: 0.10134403329161189\n",
      "eval loss: 0.15670940301907765 0.2229901363310685\n",
      "epoch: 15\n",
      "epoch: 15 loss: 0.10043781516309543\n"
     ]
    },
    {
     "data": {
      "text/html": [
       "\n",
       "    <div>\n",
       "        <style>\n",
       "            /* Turns off some styling */\n",
       "            progress {\n",
       "                /* gets rid of default border in Firefox and Opera. */\n",
       "                border: none;\n",
       "                /* Needs to be in here for Safari polyfill so background images work as expected. */\n",
       "                background-size: auto;\n",
       "            }\n",
       "            .progress-bar-interrupted, .progress-bar-interrupted::-webkit-progress-bar {\n",
       "                background: #F44336;\n",
       "            }\n",
       "        </style>\n",
       "      <progress value='17' class='' max='17' style='width:300px; height:20px; vertical-align: middle;'></progress>\n",
       "      100.00% [17/17 00:01<00:00]\n",
       "    </div>\n",
       "    "
      ],
      "text/plain": [
       "<IPython.core.display.HTML object>"
      ]
     },
     "metadata": {},
     "output_type": "display_data"
    },
    {
     "name": "stdout",
     "output_type": "stream",
     "text": [
      "eval loss: 0.15482742796809731 0.22058113513662495\n",
      "epoch: 16\n",
      "epoch: 16 loss: 0.09904566528982216\n"
     ]
    },
    {
     "data": {
      "text/html": [
       "\n",
       "    <div>\n",
       "        <style>\n",
       "            /* Turns off some styling */\n",
       "            progress {\n",
       "                /* gets rid of default border in Firefox and Opera. */\n",
       "                border: none;\n",
       "                /* Needs to be in here for Safari polyfill so background images work as expected. */\n",
       "                background-size: auto;\n",
       "            }\n",
       "            .progress-bar-interrupted, .progress-bar-interrupted::-webkit-progress-bar {\n",
       "                background: #F44336;\n",
       "            }\n",
       "        </style>\n",
       "      <progress value='17' class='' max='17' style='width:300px; height:20px; vertical-align: middle;'></progress>\n",
       "      100.00% [17/17 00:01<00:00]\n",
       "    </div>\n",
       "    "
      ],
      "text/plain": [
       "<IPython.core.display.HTML object>"
      ]
     },
     "metadata": {},
     "output_type": "display_data"
    },
    {
     "name": "stdout",
     "output_type": "stream",
     "text": [
      "eval loss: 0.1539928760643002 0.21953924960515986\n",
      "epoch: 17\n",
      "epoch: 17 loss: 0.09774515241963698\n",
      "eval loss: 0.1552127339079183 0.22096335798389524\n",
      "epoch: 18\n",
      "epoch: 18 loss: 0.09908349465040776\n",
      "eval loss: 0.1912004477770912 0.2661339413645356\n",
      "epoch: 19\n",
      "epoch: 19 loss: 0.1326379587926569\n",
      "eval loss: 0.18175564092843807 0.25538380410478045\n",
      "epoch: 20\n",
      "epoch: 20 loss: 0.11355023784867342\n",
      "eval loss: 0.16098281353339647 0.2281537319619311\n",
      "epoch: 21\n",
      "epoch: 21 loss: 0.10952933290624825\n",
      "eval loss: 0.15931816208383395 0.22599055500835616\n",
      "epoch: 22\n",
      "epoch: 22 loss: 0.09901273717815065\n"
     ]
    },
    {
     "data": {
      "text/html": [
       "\n",
       "    <div>\n",
       "        <style>\n",
       "            /* Turns off some styling */\n",
       "            progress {\n",
       "                /* gets rid of default border in Firefox and Opera. */\n",
       "                border: none;\n",
       "                /* Needs to be in here for Safari polyfill so background images work as expected. */\n",
       "                background-size: auto;\n",
       "            }\n",
       "            .progress-bar-interrupted, .progress-bar-interrupted::-webkit-progress-bar {\n",
       "                background: #F44336;\n",
       "            }\n",
       "        </style>\n",
       "      <progress value='17' class='' max='17' style='width:300px; height:20px; vertical-align: middle;'></progress>\n",
       "      100.00% [17/17 00:01<00:00]\n",
       "    </div>\n",
       "    "
      ],
      "text/plain": [
       "<IPython.core.display.HTML object>"
      ]
     },
     "metadata": {},
     "output_type": "display_data"
    },
    {
     "name": "stdout",
     "output_type": "stream",
     "text": [
      "eval loss: 0.15351923986047705 0.21857723751712943\n",
      "epoch: 23\n",
      "epoch: 23 loss: 0.09662982859655103\n",
      "eval loss: 0.15359635694989032 0.21884793509931677\n",
      "epoch: 24\n",
      "epoch: 24 loss: 0.09465076290832446\n"
     ]
    },
    {
     "data": {
      "text/html": [
       "\n",
       "    <div>\n",
       "        <style>\n",
       "            /* Turns off some styling */\n",
       "            progress {\n",
       "                /* gets rid of default border in Firefox and Opera. */\n",
       "                border: none;\n",
       "                /* Needs to be in here for Safari polyfill so background images work as expected. */\n",
       "                background-size: auto;\n",
       "            }\n",
       "            .progress-bar-interrupted, .progress-bar-interrupted::-webkit-progress-bar {\n",
       "                background: #F44336;\n",
       "            }\n",
       "        </style>\n",
       "      <progress value='17' class='' max='17' style='width:300px; height:20px; vertical-align: middle;'></progress>\n",
       "      100.00% [17/17 00:01<00:00]\n",
       "    </div>\n",
       "    "
      ],
      "text/plain": [
       "<IPython.core.display.HTML object>"
      ]
     },
     "metadata": {},
     "output_type": "display_data"
    },
    {
     "name": "stdout",
     "output_type": "stream",
     "text": [
      "eval loss: 0.1522594845529625 0.21651779625085182\n",
      "epoch: 25\n",
      "epoch: 25 loss: 0.09321380595438644\n"
     ]
    },
    {
     "data": {
      "text/html": [
       "\n",
       "    <div>\n",
       "        <style>\n",
       "            /* Turns off some styling */\n",
       "            progress {\n",
       "                /* gets rid of default border in Firefox and Opera. */\n",
       "                border: none;\n",
       "                /* Needs to be in here for Safari polyfill so background images work as expected. */\n",
       "                background-size: auto;\n",
       "            }\n",
       "            .progress-bar-interrupted, .progress-bar-interrupted::-webkit-progress-bar {\n",
       "                background: #F44336;\n",
       "            }\n",
       "        </style>\n",
       "      <progress value='17' class='' max='17' style='width:300px; height:20px; vertical-align: middle;'></progress>\n",
       "      100.00% [17/17 00:01<00:00]\n",
       "    </div>\n",
       "    "
      ],
      "text/plain": [
       "<IPython.core.display.HTML object>"
      ]
     },
     "metadata": {},
     "output_type": "display_data"
    },
    {
     "name": "stdout",
     "output_type": "stream",
     "text": [
      "eval loss: 0.15190553785862898 0.21627464301145652\n",
      "epoch: 26\n",
      "epoch: 26 loss: 0.09261110342315362\n",
      "eval loss: 0.15271977245030938 0.21699893290726222\n",
      "epoch: 27\n",
      "epoch: 27 loss: 0.09154197069147645\n",
      "eval loss: 0.15258088926476723 0.21667465247398215\n",
      "epoch: 28\n",
      "epoch: 28 loss: 0.09060768225751031\n"
     ]
    },
    {
     "data": {
      "text/html": [
       "\n",
       "    <div>\n",
       "        <style>\n",
       "            /* Turns off some styling */\n",
       "            progress {\n",
       "                /* gets rid of default border in Firefox and Opera. */\n",
       "                border: none;\n",
       "                /* Needs to be in here for Safari polyfill so background images work as expected. */\n",
       "                background-size: auto;\n",
       "            }\n",
       "            .progress-bar-interrupted, .progress-bar-interrupted::-webkit-progress-bar {\n",
       "                background: #F44336;\n",
       "            }\n",
       "        </style>\n",
       "      <progress value='17' class='' max='17' style='width:300px; height:20px; vertical-align: middle;'></progress>\n",
       "      100.00% [17/17 00:01<00:00]\n",
       "    </div>\n",
       "    "
      ],
      "text/plain": [
       "<IPython.core.display.HTML object>"
      ]
     },
     "metadata": {},
     "output_type": "display_data"
    },
    {
     "name": "stdout",
     "output_type": "stream",
     "text": [
      "eval loss: 0.15050098673421727 0.2141726740297598\n",
      "epoch: 29\n",
      "epoch: 29 loss: 0.0899079455929122\n",
      "eval loss: 0.1525933099437251 0.21691592273060586\n",
      "epoch: 30\n",
      "epoch: 30 loss: 0.09952334004070829\n",
      "eval loss: 0.15253803621954132 0.21692977010444503\n",
      "epoch: 31\n",
      "epoch: 31 loss: 0.0891048406502607\n"
     ]
    },
    {
     "data": {
      "text/html": [
       "\n",
       "    <div>\n",
       "        <style>\n",
       "            /* Turns off some styling */\n",
       "            progress {\n",
       "                /* gets rid of default border in Firefox and Opera. */\n",
       "                border: none;\n",
       "                /* Needs to be in here for Safari polyfill so background images work as expected. */\n",
       "                background-size: auto;\n",
       "            }\n",
       "            .progress-bar-interrupted, .progress-bar-interrupted::-webkit-progress-bar {\n",
       "                background: #F44336;\n",
       "            }\n",
       "        </style>\n",
       "      <progress value='17' class='' max='17' style='width:300px; height:20px; vertical-align: middle;'></progress>\n",
       "      100.00% [17/17 00:01<00:00]\n",
       "    </div>\n",
       "    "
      ],
      "text/plain": [
       "<IPython.core.display.HTML object>"
      ]
     },
     "metadata": {},
     "output_type": "display_data"
    },
    {
     "name": "stdout",
     "output_type": "stream",
     "text": [
      "eval loss: 0.15047070465206452 0.21434208861810317\n",
      "epoch: 32\n",
      "epoch: 32 loss: 0.08750422771410164\n"
     ]
    },
    {
     "data": {
      "text/html": [
       "\n",
       "    <div>\n",
       "        <style>\n",
       "            /* Turns off some styling */\n",
       "            progress {\n",
       "                /* gets rid of default border in Firefox and Opera. */\n",
       "                border: none;\n",
       "                /* Needs to be in here for Safari polyfill so background images work as expected. */\n",
       "                background-size: auto;\n",
       "            }\n",
       "            .progress-bar-interrupted, .progress-bar-interrupted::-webkit-progress-bar {\n",
       "                background: #F44336;\n",
       "            }\n",
       "        </style>\n",
       "      <progress value='17' class='' max='17' style='width:300px; height:20px; vertical-align: middle;'></progress>\n",
       "      100.00% [17/17 00:01<00:00]\n",
       "    </div>\n",
       "    "
      ],
      "text/plain": [
       "<IPython.core.display.HTML object>"
      ]
     },
     "metadata": {},
     "output_type": "display_data"
    },
    {
     "name": "stdout",
     "output_type": "stream",
     "text": [
      "eval loss: 0.15014847072065038 0.21392520698806483\n",
      "epoch: 33\n",
      "epoch: 33 loss: 0.08669301821777099\n",
      "eval loss: 0.1537629500385292 0.21827046844326176\n",
      "epoch: 34\n",
      "epoch: 34 loss: 0.08874690260543472\n"
     ]
    },
    {
     "data": {
      "text/html": [
       "\n",
       "    <div>\n",
       "        <style>\n",
       "            /* Turns off some styling */\n",
       "            progress {\n",
       "                /* gets rid of default border in Firefox and Opera. */\n",
       "                border: none;\n",
       "                /* Needs to be in here for Safari polyfill so background images work as expected. */\n",
       "                background-size: auto;\n",
       "            }\n",
       "            .progress-bar-interrupted, .progress-bar-interrupted::-webkit-progress-bar {\n",
       "                background: #F44336;\n",
       "            }\n",
       "        </style>\n",
       "      <progress value='17' class='' max='17' style='width:300px; height:20px; vertical-align: middle;'></progress>\n",
       "      100.00% [17/17 00:01<00:00]\n",
       "    </div>\n",
       "    "
      ],
      "text/plain": [
       "<IPython.core.display.HTML object>"
      ]
     },
     "metadata": {},
     "output_type": "display_data"
    },
    {
     "name": "stdout",
     "output_type": "stream",
     "text": [
      "eval loss: 0.14990456295339333 0.21302661671511247\n",
      "epoch: 35\n",
      "epoch: 35 loss: 0.08538140032247536\n"
     ]
    },
    {
     "data": {
      "text/html": [
       "\n",
       "    <div>\n",
       "        <style>\n",
       "            /* Turns off some styling */\n",
       "            progress {\n",
       "                /* gets rid of default border in Firefox and Opera. */\n",
       "                border: none;\n",
       "                /* Needs to be in here for Safari polyfill so background images work as expected. */\n",
       "                background-size: auto;\n",
       "            }\n",
       "            .progress-bar-interrupted, .progress-bar-interrupted::-webkit-progress-bar {\n",
       "                background: #F44336;\n",
       "            }\n",
       "        </style>\n",
       "      <progress value='17' class='' max='17' style='width:300px; height:20px; vertical-align: middle;'></progress>\n",
       "      100.00% [17/17 00:01<00:00]\n",
       "    </div>\n",
       "    "
      ],
      "text/plain": [
       "<IPython.core.display.HTML object>"
      ]
     },
     "metadata": {},
     "output_type": "display_data"
    },
    {
     "name": "stdout",
     "output_type": "stream",
     "text": [
      "eval loss: 0.14895476874874813 0.211931756427891\n",
      "epoch: 36\n",
      "epoch: 36 loss: 0.08513434720050178\n",
      "eval loss: 0.1492016234921498 0.21253000084820575\n",
      "epoch: 37\n",
      "epoch: 37 loss: 0.09186444191721287\n",
      "eval loss: 0.17230380976332862 0.2438397982151086\n",
      "epoch: 38\n",
      "epoch: 38 loss: 0.10479703606160636\n",
      "eval loss: 0.15055459290950673 0.21407773713376782\n",
      "epoch: 39\n",
      "epoch: 39 loss: 0.08738939087639445\n",
      "eval loss: 0.15002031562663962 0.21370981380535597\n",
      "epoch: 40\n",
      "epoch: 40 loss: 0.08666080214821556\n",
      "eval loss: 0.14965451310288738 0.2129237048732554\n",
      "epoch: 41\n",
      "epoch: 41 loss: 0.08354562510583127\n"
     ]
    },
    {
     "data": {
      "text/html": [
       "\n",
       "    <div>\n",
       "        <style>\n",
       "            /* Turns off some styling */\n",
       "            progress {\n",
       "                /* gets rid of default border in Firefox and Opera. */\n",
       "                border: none;\n",
       "                /* Needs to be in here for Safari polyfill so background images work as expected. */\n",
       "                background-size: auto;\n",
       "            }\n",
       "            .progress-bar-interrupted, .progress-bar-interrupted::-webkit-progress-bar {\n",
       "                background: #F44336;\n",
       "            }\n",
       "        </style>\n",
       "      <progress value='17' class='' max='17' style='width:300px; height:20px; vertical-align: middle;'></progress>\n",
       "      100.00% [17/17 00:01<00:00]\n",
       "    </div>\n",
       "    "
      ],
      "text/plain": [
       "<IPython.core.display.HTML object>"
      ]
     },
     "metadata": {},
     "output_type": "display_data"
    },
    {
     "name": "stdout",
     "output_type": "stream",
     "text": [
      "eval loss: 0.14869463060172453 0.2110472476582641\n",
      "epoch: 42\n",
      "epoch: 42 loss: 0.08242162606534544\n"
     ]
    },
    {
     "data": {
      "text/html": [
       "\n",
       "    <div>\n",
       "        <style>\n",
       "            /* Turns off some styling */\n",
       "            progress {\n",
       "                /* gets rid of default border in Firefox and Opera. */\n",
       "                border: none;\n",
       "                /* Needs to be in here for Safari polyfill so background images work as expected. */\n",
       "                background-size: auto;\n",
       "            }\n",
       "            .progress-bar-interrupted, .progress-bar-interrupted::-webkit-progress-bar {\n",
       "                background: #F44336;\n",
       "            }\n",
       "        </style>\n",
       "      <progress value='17' class='' max='17' style='width:300px; height:20px; vertical-align: middle;'></progress>\n",
       "      100.00% [17/17 00:01<00:00]\n",
       "    </div>\n",
       "    "
      ],
      "text/plain": [
       "<IPython.core.display.HTML object>"
      ]
     },
     "metadata": {},
     "output_type": "display_data"
    },
    {
     "name": "stdout",
     "output_type": "stream",
     "text": [
      "eval loss: 0.14741724778292073 0.21016090956427294\n",
      "epoch: 43\n",
      "epoch: 43 loss: 0.08150809769478892\n",
      "eval loss: 0.14756039944692956 0.2101560627350413\n",
      "epoch: 44\n",
      "epoch: 44 loss: 0.08052281135122473\n",
      "eval loss: 0.14774573511091701 0.21029492570335323\n",
      "epoch: 45\n",
      "epoch: 45 loss: 0.08240074215268957\n",
      "eval loss: 0.1545130139527248 0.21818566887788637\n",
      "epoch: 46\n",
      "epoch: 46 loss: 0.08539918286582265\n",
      "eval loss: 0.14795523604885483 0.21059036122001337\n",
      "epoch: 47\n",
      "epoch: 47 loss: 0.07985768120941737\n"
     ]
    },
    {
     "data": {
      "text/html": [
       "\n",
       "    <div>\n",
       "        <style>\n",
       "            /* Turns off some styling */\n",
       "            progress {\n",
       "                /* gets rid of default border in Firefox and Opera. */\n",
       "                border: none;\n",
       "                /* Needs to be in here for Safari polyfill so background images work as expected. */\n",
       "                background-size: auto;\n",
       "            }\n",
       "            .progress-bar-interrupted, .progress-bar-interrupted::-webkit-progress-bar {\n",
       "                background: #F44336;\n",
       "            }\n",
       "        </style>\n",
       "      <progress value='17' class='' max='17' style='width:300px; height:20px; vertical-align: middle;'></progress>\n",
       "      100.00% [17/17 00:01<00:00]\n",
       "    </div>\n",
       "    "
      ],
      "text/plain": [
       "<IPython.core.display.HTML object>"
      ]
     },
     "metadata": {},
     "output_type": "display_data"
    },
    {
     "name": "stdout",
     "output_type": "stream",
     "text": [
      "eval loss: 0.14655194189520718 0.20837830998935702\n",
      "epoch: 48\n",
      "epoch: 48 loss: 0.07866774999801766\n",
      "eval loss: 0.14663750445347204 0.2088500879645359\n",
      "epoch: 49\n",
      "epoch: 49 loss: 0.10080274399573962\n",
      "eval loss: 0.16367352536304308 0.2311112091570251\n",
      "epoch: 50\n",
      "epoch: 50 loss: 0.12074246578385898\n",
      "eval loss: 0.3974068068364575 0.5469630091175932\n",
      "epoch: 51\n",
      "epoch: 51 loss: 0.19952805204676438\n",
      "eval loss: 0.2695055684137919 0.375880238185865\n",
      "epoch: 52\n",
      "epoch: 52 loss: 0.15267749435657782\n",
      "eval loss: 0.1925198447796636 0.26942576222087855\n",
      "epoch: 53\n",
      "epoch: 53 loss: 0.10784399004676543\n",
      "eval loss: 0.15399264756814926 0.21877410466019845\n",
      "epoch: 54\n",
      "epoch: 54 loss: 0.08846659295669417\n",
      "eval loss: 0.1500483803877169 0.21346023670351913\n",
      "epoch: 55\n",
      "epoch: 55 loss: 0.08354578969407167\n",
      "eval loss: 0.14881261134267004 0.21138042833331736\n",
      "epoch: 56\n",
      "epoch: 56 loss: 0.07999258516274364\n",
      "eval loss: 0.14872771563907064 0.21130711562315307\n",
      "epoch: 57\n",
      "epoch: 57 loss: 0.07936170123852379\n",
      "eval loss: 0.14798355447137096 0.21029040557102385\n",
      "epoch: 58\n",
      "epoch: 58 loss: 0.08122434726537024\n",
      "eval loss: 0.1483868189842771 0.21085042563405965\n",
      "epoch: 59\n",
      "epoch: 59 loss: 0.07928994494492972\n",
      "eval loss: 0.14754721652250619 0.2097525320484414\n",
      "epoch: 60\n",
      "epoch: 60 loss: 0.07719293875731141\n",
      "eval loss: 0.14743021529132563 0.20995346735696396\n",
      "epoch: 61\n",
      "epoch: 61 loss: 0.07652484594918388\n",
      "eval loss: 0.14745684039466322 0.20954376096478833\n",
      "epoch: 62\n",
      "epoch: 62 loss: 0.07666628239163092\n",
      "eval loss: 0.14709386509580366 0.20956019267852813\n",
      "epoch: 63\n",
      "epoch: 63 loss: 0.07523768579890819\n",
      "eval loss: 0.14668148951764448 0.20873995228312783\n",
      "epoch: 64\n",
      "epoch: 64 loss: 0.07458338281850413\n"
     ]
    },
    {
     "data": {
      "text/html": [
       "\n",
       "    <div>\n",
       "        <style>\n",
       "            /* Turns off some styling */\n",
       "            progress {\n",
       "                /* gets rid of default border in Firefox and Opera. */\n",
       "                border: none;\n",
       "                /* Needs to be in here for Safari polyfill so background images work as expected. */\n",
       "                background-size: auto;\n",
       "            }\n",
       "            .progress-bar-interrupted, .progress-bar-interrupted::-webkit-progress-bar {\n",
       "                background: #F44336;\n",
       "            }\n",
       "        </style>\n",
       "      <progress value='17' class='' max='17' style='width:300px; height:20px; vertical-align: middle;'></progress>\n",
       "      100.00% [17/17 00:01<00:00]\n",
       "    </div>\n",
       "    "
      ],
      "text/plain": [
       "<IPython.core.display.HTML object>"
      ]
     },
     "metadata": {},
     "output_type": "display_data"
    },
    {
     "name": "stdout",
     "output_type": "stream",
     "text": [
      "eval loss: 0.14651152149381225 0.20858794302305714\n",
      "epoch: 65\n",
      "epoch: 65 loss: 0.07406692707864065\n"
     ]
    },
    {
     "data": {
      "text/html": [
       "\n",
       "    <div>\n",
       "        <style>\n",
       "            /* Turns off some styling */\n",
       "            progress {\n",
       "                /* gets rid of default border in Firefox and Opera. */\n",
       "                border: none;\n",
       "                /* Needs to be in here for Safari polyfill so background images work as expected. */\n",
       "                background-size: auto;\n",
       "            }\n",
       "            .progress-bar-interrupted, .progress-bar-interrupted::-webkit-progress-bar {\n",
       "                background: #F44336;\n",
       "            }\n",
       "        </style>\n",
       "      <progress value='17' class='' max='17' style='width:300px; height:20px; vertical-align: middle;'></progress>\n",
       "      100.00% [17/17 00:01<00:00]\n",
       "    </div>\n",
       "    "
      ],
      "text/plain": [
       "<IPython.core.display.HTML object>"
      ]
     },
     "metadata": {},
     "output_type": "display_data"
    },
    {
     "name": "stdout",
     "output_type": "stream",
     "text": [
      "eval loss: 0.14605124560117275 0.20811529748816995\n",
      "epoch: 66\n",
      "epoch: 66 loss: 0.0740246449126862\n",
      "eval loss: 0.1468445701476806 0.20856445687730643\n",
      "epoch: 67\n",
      "epoch: 67 loss: 0.07431710417132323\n",
      "eval loss: 0.14784209587432637 0.20989970462119834\n",
      "epoch: 68\n",
      "epoch: 68 loss: 0.0777736546417284\n",
      "eval loss: 0.1716274185870072 0.24192973691788938\n",
      "epoch: 69\n",
      "epoch: 69 loss: 0.15615135514837558\n",
      "eval loss: 0.33103289911672773 0.45711026133464777\n",
      "epoch: 70\n",
      "epoch: 70 loss: 0.22277123495543721\n",
      "eval loss: 0.3041969559367203 0.4202574173187732\n",
      "epoch: 71\n",
      "epoch: 71 loss: 0.21999072003540304\n",
      "eval loss: 0.301913840832907 0.41743499270597956\n",
      "epoch: 72\n",
      "epoch: 72 loss: 0.2193663025120777\n",
      "eval loss: 0.30802842313943973 0.42583103907262837\n",
      "epoch: 73\n",
      "epoch: 73 loss: 0.21956554624077593\n",
      "eval loss: 0.3018169116455983 0.4170716259842517\n",
      "epoch: 74\n",
      "epoch: 74 loss: 0.21923615437622848\n",
      "eval loss: 0.3015089183793339 0.4164820904728956\n",
      "epoch: 75\n",
      "epoch: 75 loss: 0.2188255936744632\n",
      "eval loss: 0.3053062667538618 0.42199299854372074\n",
      "epoch: 76\n",
      "epoch: 76 loss: 0.21802024506676995\n",
      "eval loss: 0.29863134981712536 0.41272606870163464\n",
      "epoch: 77\n",
      "epoch: 77 loss: 0.20418252312247015\n",
      "eval loss: 0.2918358650106662 0.4040420975876384\n",
      "epoch: 78\n",
      "epoch: 78 loss: 0.18690156403100097\n",
      "eval loss: 0.2508021190379944 0.3501584768173686\n",
      "epoch: 79\n",
      "epoch: 79 loss: 0.18321533500821907\n",
      "eval loss: 0.2299106874450755 0.3204943577587732\n",
      "epoch: 80\n",
      "epoch: 80 loss: 0.17493410609095536\n",
      "eval loss: 0.2969311561569268 0.4105566740879927\n",
      "epoch: 81\n",
      "epoch: 81 loss: 0.17414235371918324\n",
      "eval loss: 0.2968254429455442 0.41058176872141566\n",
      "epoch: 82\n",
      "epoch: 82 loss: 0.1641206008101634\n",
      "eval loss: 0.2079479421024396 0.29242340880603307\n",
      "epoch: 83\n",
      "epoch: 83 loss: 0.14951468295647896\n",
      "eval loss: 0.1891463729167847 0.2662395646241857\n",
      "epoch: 84\n",
      "epoch: 84 loss: 0.1298629278801765\n",
      "eval loss: 0.18961568500129178 0.26646401774508766\n",
      "epoch: 85\n",
      "epoch: 85 loss: 0.16289927647661046\n",
      "eval loss: 0.30522827717431494 0.4218489214792564\n",
      "epoch: 86\n",
      "epoch: 86 loss: 0.16170997683522406\n",
      "eval loss: 0.25293385302251026 0.3498651296114731\n",
      "epoch: 87\n",
      "epoch: 87 loss: 0.1334438643661815\n",
      "eval loss: 0.1706287775590218 0.24074677773184525\n",
      "epoch: 88\n",
      "epoch: 88 loss: 0.12504699098718244\n",
      "eval loss: 0.18465490146251762 0.2594672193925844\n",
      "epoch: 89\n",
      "epoch: 89 loss: 0.12348754848314196\n",
      "eval loss: 0.16423705690588317 0.23260983398926885\n",
      "epoch: 90\n",
      "epoch: 90 loss: 0.10846875624841268\n",
      "eval loss: 0.1600029986818233 0.2266757533806707\n",
      "epoch: 91\n",
      "epoch: 91 loss: 0.09916703734580973\n",
      "eval loss: 0.15453386932667348 0.21929795758200124\n",
      "epoch: 92\n",
      "epoch: 92 loss: 0.08961343061591841\n",
      "eval loss: 0.15201158286495278 0.2154762076362975\n",
      "epoch: 93\n",
      "epoch: 93 loss: 0.08481590120932923\n",
      "eval loss: 0.15624057029049188 0.22127242456085908\n",
      "epoch: 94\n",
      "epoch: 94 loss: 0.0882168914918844\n",
      "eval loss: 0.1530407880417088 0.21673913136893522\n",
      "epoch: 95\n",
      "epoch: 95 loss: 0.08225444672426747\n",
      "eval loss: 0.149195262171911 0.21105914484152774\n",
      "epoch: 96\n",
      "epoch: 96 loss: 0.0792509666622294\n",
      "eval loss: 0.1478482578323089 0.21010592688122895\n",
      "epoch: 97\n",
      "epoch: 97 loss: 0.07842705620998171\n",
      "eval loss: 0.14917546286481156 0.21164128381702466\n",
      "epoch: 98\n",
      "epoch: 98 loss: 0.07696626164506251\n",
      "eval loss: 0.1479445216541453 0.2101845504696785\n",
      "epoch: 99\n",
      "epoch: 99 loss: 0.07776203076398654\n",
      "eval loss: 0.14910936499104654 0.21153518795328205\n",
      "epoch: 100\n",
      "epoch: 100 loss: 0.078264968542833\n",
      "eval loss: 0.1486475040216612 0.21106543040102319\n",
      "epoch: 101\n",
      "epoch: 101 loss: 0.07950653864712562\n",
      "eval loss: 0.14761291903929544 0.20965835212246178\n",
      "epoch: 102\n",
      "epoch: 102 loss: 0.0743860707634018\n",
      "eval loss: 0.14708915116739282 0.20901740109827543\n",
      "epoch: 103\n",
      "epoch: 103 loss: 0.08667871242839055\n",
      "eval loss: 0.1568520793339287 0.22235191342128136\n",
      "epoch: 104\n",
      "epoch: 104 loss: 0.1146634054114707\n",
      "eval loss: 0.15178992245532671 0.21497983368601292\n",
      "epoch: 105\n",
      "epoch: 105 loss: 0.09445479277673671\n",
      "eval loss: 0.15003777721423409 0.21335875130129545\n",
      "epoch: 106\n",
      "epoch: 106 loss: 0.07891922351100888\n",
      "eval loss: 0.14904578954808442 0.21138287270883324\n",
      "epoch: 107\n",
      "epoch: 107 loss: 0.075978514435912\n",
      "eval loss: 0.1474557766620563 0.20989274006199166\n",
      "epoch: 108\n",
      "epoch: 108 loss: 0.07327028084648048\n",
      "eval loss: 0.14754071966272242 0.20958350745313248\n",
      "epoch: 109\n",
      "epoch: 109 loss: 0.07223680826185257\n",
      "eval loss: 0.1464298209429194 0.20828562077262416\n",
      "epoch: 110\n",
      "epoch: 110 loss: 0.07210811255449905\n",
      "eval loss: 0.1474216974376797 0.20893658349070623\n",
      "epoch: 111\n",
      "epoch: 111 loss: 0.07153784581198158\n",
      "eval loss: 0.14651967568525928 0.20824985804399979\n",
      "epoch: 112\n",
      "epoch: 112 loss: 0.07145038581304433\n",
      "eval loss: 0.14844851354911068 0.21037118193495966\n",
      "epoch: 113\n",
      "epoch: 113 loss: 0.07521668166258895\n",
      "eval loss: 0.14771216134011309 0.20971531937755097\n",
      "epoch: 114\n",
      "epoch: 114 loss: 0.07290971824387019\n",
      "eval loss: 0.1468375426787379 0.20894995476098213\n",
      "epoch: 115\n",
      "epoch: 115 loss: 0.07494012910015832\n",
      "eval loss: 0.14748186424065982 0.20912582480196448\n",
      "epoch: 116\n",
      "epoch: 116 loss: 0.07875957856060804\n",
      "eval loss: 0.14727463987730555 0.20909623571240746\n",
      "epoch: 117\n",
      "epoch: 117 loss: 0.07173320526138845\n",
      "eval loss: 0.14708404240899836 0.20902418261030856\n",
      "epoch: 118\n",
      "epoch: 118 loss: 0.07613854292100633\n",
      "eval loss: 0.14872440211036553 0.2105397071332778\n",
      "epoch: 119\n",
      "epoch: 119 loss: 0.07090005201302609\n",
      "eval loss: 0.14647239444722662 0.20763776004312295\n",
      "min eval loss: 0.14605124560117275 min mcrmse: 0.20811529748816995 epoch 65\n",
      "fold: 4\n",
      "(1, 107, 107, 3)\n",
      "(1, 107, 107, 3)\n",
      "(4344, 23) (1085, 23)\n",
      "(1, 130, 130, 3)\n",
      "(1, 130, 130, 3)\n",
      "(2404, 16) (601, 16)\n",
      "device: cuda\n"
     ]
    },
    {
     "data": {
      "text/html": [
       "\n",
       "    <div>\n",
       "        <style>\n",
       "            /* Turns off some styling */\n",
       "            progress {\n",
       "                /* gets rid of default border in Firefox and Opera. */\n",
       "                border: none;\n",
       "                /* Needs to be in here for Safari polyfill so background images work as expected. */\n",
       "                background-size: auto;\n",
       "            }\n",
       "            .progress-bar-interrupted, .progress-bar-interrupted::-webkit-progress-bar {\n",
       "                background: #F44336;\n",
       "            }\n",
       "        </style>\n",
       "      <progress value='120' class='' max='120' style='width:300px; height:20px; vertical-align: middle;'></progress>\n",
       "      100.00% [120/120 1:16:06<00:00]\n",
       "    </div>\n",
       "    "
      ],
      "text/plain": [
       "<IPython.core.display.HTML object>"
      ]
     },
     "metadata": {},
     "output_type": "display_data"
    },
    {
     "name": "stdout",
     "output_type": "stream",
     "text": [
      "epoch: 0\n",
      "epoch: 0 loss: 0.18164363834911773\n"
     ]
    },
    {
     "data": {
      "text/html": [
       "\n",
       "    <div>\n",
       "        <style>\n",
       "            /* Turns off some styling */\n",
       "            progress {\n",
       "                /* gets rid of default border in Firefox and Opera. */\n",
       "                border: none;\n",
       "                /* Needs to be in here for Safari polyfill so background images work as expected. */\n",
       "                background-size: auto;\n",
       "            }\n",
       "            .progress-bar-interrupted, .progress-bar-interrupted::-webkit-progress-bar {\n",
       "                background: #F44336;\n",
       "            }\n",
       "        </style>\n",
       "      <progress value='17' class='' max='17' style='width:300px; height:20px; vertical-align: middle;'></progress>\n",
       "      100.00% [17/17 00:01<00:00]\n",
       "    </div>\n",
       "    "
      ],
      "text/plain": [
       "<IPython.core.display.HTML object>"
      ]
     },
     "metadata": {},
     "output_type": "display_data"
    },
    {
     "name": "stdout",
     "output_type": "stream",
     "text": [
      "eval loss: 0.2296332019581523 0.3231019029876028\n",
      "epoch: 1\n",
      "epoch: 1 loss: 0.1515320348012016\n"
     ]
    },
    {
     "data": {
      "text/html": [
       "\n",
       "    <div>\n",
       "        <style>\n",
       "            /* Turns off some styling */\n",
       "            progress {\n",
       "                /* gets rid of default border in Firefox and Opera. */\n",
       "                border: none;\n",
       "                /* Needs to be in here for Safari polyfill so background images work as expected. */\n",
       "                background-size: auto;\n",
       "            }\n",
       "            .progress-bar-interrupted, .progress-bar-interrupted::-webkit-progress-bar {\n",
       "                background: #F44336;\n",
       "            }\n",
       "        </style>\n",
       "      <progress value='17' class='' max='17' style='width:300px; height:20px; vertical-align: middle;'></progress>\n",
       "      100.00% [17/17 00:01<00:00]\n",
       "    </div>\n",
       "    "
      ],
      "text/plain": [
       "<IPython.core.display.HTML object>"
      ]
     },
     "metadata": {},
     "output_type": "display_data"
    },
    {
     "name": "stdout",
     "output_type": "stream",
     "text": [
      "eval loss: 0.20307952733124074 0.28695060730878\n",
      "epoch: 2\n",
      "epoch: 2 loss: 0.13822229583458953\n"
     ]
    },
    {
     "data": {
      "text/html": [
       "\n",
       "    <div>\n",
       "        <style>\n",
       "            /* Turns off some styling */\n",
       "            progress {\n",
       "                /* gets rid of default border in Firefox and Opera. */\n",
       "                border: none;\n",
       "                /* Needs to be in here for Safari polyfill so background images work as expected. */\n",
       "                background-size: auto;\n",
       "            }\n",
       "            .progress-bar-interrupted, .progress-bar-interrupted::-webkit-progress-bar {\n",
       "                background: #F44336;\n",
       "            }\n",
       "        </style>\n",
       "      <progress value='17' class='' max='17' style='width:300px; height:20px; vertical-align: middle;'></progress>\n",
       "      100.00% [17/17 00:01<00:00]\n",
       "    </div>\n",
       "    "
      ],
      "text/plain": [
       "<IPython.core.display.HTML object>"
      ]
     },
     "metadata": {},
     "output_type": "display_data"
    },
    {
     "name": "stdout",
     "output_type": "stream",
     "text": [
      "eval loss: 0.18906808014715487 0.2674766511446341\n",
      "epoch: 3\n",
      "epoch: 3 loss: 0.12854440571802023\n"
     ]
    },
    {
     "data": {
      "text/html": [
       "\n",
       "    <div>\n",
       "        <style>\n",
       "            /* Turns off some styling */\n",
       "            progress {\n",
       "                /* gets rid of default border in Firefox and Opera. */\n",
       "                border: none;\n",
       "                /* Needs to be in here for Safari polyfill so background images work as expected. */\n",
       "                background-size: auto;\n",
       "            }\n",
       "            .progress-bar-interrupted, .progress-bar-interrupted::-webkit-progress-bar {\n",
       "                background: #F44336;\n",
       "            }\n",
       "        </style>\n",
       "      <progress value='17' class='' max='17' style='width:300px; height:20px; vertical-align: middle;'></progress>\n",
       "      100.00% [17/17 00:01<00:00]\n",
       "    </div>\n",
       "    "
      ],
      "text/plain": [
       "<IPython.core.display.HTML object>"
      ]
     },
     "metadata": {},
     "output_type": "display_data"
    },
    {
     "name": "stdout",
     "output_type": "stream",
     "text": [
      "eval loss: 0.1789639286574892 0.25319820390174885\n",
      "epoch: 4\n",
      "epoch: 4 loss: 0.12220646287658292\n"
     ]
    },
    {
     "data": {
      "text/html": [
       "\n",
       "    <div>\n",
       "        <style>\n",
       "            /* Turns off some styling */\n",
       "            progress {\n",
       "                /* gets rid of default border in Firefox and Opera. */\n",
       "                border: none;\n",
       "                /* Needs to be in here for Safari polyfill so background images work as expected. */\n",
       "                background-size: auto;\n",
       "            }\n",
       "            .progress-bar-interrupted, .progress-bar-interrupted::-webkit-progress-bar {\n",
       "                background: #F44336;\n",
       "            }\n",
       "        </style>\n",
       "      <progress value='17' class='' max='17' style='width:300px; height:20px; vertical-align: middle;'></progress>\n",
       "      100.00% [17/17 00:01<00:00]\n",
       "    </div>\n",
       "    "
      ],
      "text/plain": [
       "<IPython.core.display.HTML object>"
      ]
     },
     "metadata": {},
     "output_type": "display_data"
    },
    {
     "name": "stdout",
     "output_type": "stream",
     "text": [
      "eval loss: 0.17882584491103695 0.25258758492300615\n",
      "epoch: 5\n",
      "epoch: 5 loss: 0.11804124204120992\n"
     ]
    },
    {
     "data": {
      "text/html": [
       "\n",
       "    <div>\n",
       "        <style>\n",
       "            /* Turns off some styling */\n",
       "            progress {\n",
       "                /* gets rid of default border in Firefox and Opera. */\n",
       "                border: none;\n",
       "                /* Needs to be in here for Safari polyfill so background images work as expected. */\n",
       "                background-size: auto;\n",
       "            }\n",
       "            .progress-bar-interrupted, .progress-bar-interrupted::-webkit-progress-bar {\n",
       "                background: #F44336;\n",
       "            }\n",
       "        </style>\n",
       "      <progress value='17' class='' max='17' style='width:300px; height:20px; vertical-align: middle;'></progress>\n",
       "      100.00% [17/17 00:01<00:00]\n",
       "    </div>\n",
       "    "
      ],
      "text/plain": [
       "<IPython.core.display.HTML object>"
      ]
     },
     "metadata": {},
     "output_type": "display_data"
    },
    {
     "name": "stdout",
     "output_type": "stream",
     "text": [
      "eval loss: 0.17170344927275968 0.24363980324788972\n",
      "epoch: 6\n",
      "epoch: 6 loss: 0.11541881032155428\n"
     ]
    },
    {
     "data": {
      "text/html": [
       "\n",
       "    <div>\n",
       "        <style>\n",
       "            /* Turns off some styling */\n",
       "            progress {\n",
       "                /* gets rid of default border in Firefox and Opera. */\n",
       "                border: none;\n",
       "                /* Needs to be in here for Safari polyfill so background images work as expected. */\n",
       "                background-size: auto;\n",
       "            }\n",
       "            .progress-bar-interrupted, .progress-bar-interrupted::-webkit-progress-bar {\n",
       "                background: #F44336;\n",
       "            }\n",
       "        </style>\n",
       "      <progress value='17' class='' max='17' style='width:300px; height:20px; vertical-align: middle;'></progress>\n",
       "      100.00% [17/17 00:01<00:00]\n",
       "    </div>\n",
       "    "
      ],
      "text/plain": [
       "<IPython.core.display.HTML object>"
      ]
     },
     "metadata": {},
     "output_type": "display_data"
    },
    {
     "name": "stdout",
     "output_type": "stream",
     "text": [
      "eval loss: 0.1695468605130066 0.24040066370542476\n",
      "epoch: 7\n",
      "epoch: 7 loss: 0.112069783883026\n"
     ]
    },
    {
     "data": {
      "text/html": [
       "\n",
       "    <div>\n",
       "        <style>\n",
       "            /* Turns off some styling */\n",
       "            progress {\n",
       "                /* gets rid of default border in Firefox and Opera. */\n",
       "                border: none;\n",
       "                /* Needs to be in here for Safari polyfill so background images work as expected. */\n",
       "                background-size: auto;\n",
       "            }\n",
       "            .progress-bar-interrupted, .progress-bar-interrupted::-webkit-progress-bar {\n",
       "                background: #F44336;\n",
       "            }\n",
       "        </style>\n",
       "      <progress value='17' class='' max='17' style='width:300px; height:20px; vertical-align: middle;'></progress>\n",
       "      100.00% [17/17 00:01<00:00]\n",
       "    </div>\n",
       "    "
      ],
      "text/plain": [
       "<IPython.core.display.HTML object>"
      ]
     },
     "metadata": {},
     "output_type": "display_data"
    },
    {
     "name": "stdout",
     "output_type": "stream",
     "text": [
      "eval loss: 0.1651371480349907 0.23489446084547502\n",
      "epoch: 8\n",
      "epoch: 8 loss: 0.10820088034457243\n"
     ]
    },
    {
     "data": {
      "text/html": [
       "\n",
       "    <div>\n",
       "        <style>\n",
       "            /* Turns off some styling */\n",
       "            progress {\n",
       "                /* gets rid of default border in Firefox and Opera. */\n",
       "                border: none;\n",
       "                /* Needs to be in here for Safari polyfill so background images work as expected. */\n",
       "                background-size: auto;\n",
       "            }\n",
       "            .progress-bar-interrupted, .progress-bar-interrupted::-webkit-progress-bar {\n",
       "                background: #F44336;\n",
       "            }\n",
       "        </style>\n",
       "      <progress value='17' class='' max='17' style='width:300px; height:20px; vertical-align: middle;'></progress>\n",
       "      100.00% [17/17 00:01<00:00]\n",
       "    </div>\n",
       "    "
      ],
      "text/plain": [
       "<IPython.core.display.HTML object>"
      ]
     },
     "metadata": {},
     "output_type": "display_data"
    },
    {
     "name": "stdout",
     "output_type": "stream",
     "text": [
      "eval loss: 0.16324682058856946 0.23212492815385927\n",
      "epoch: 9\n",
      "epoch: 9 loss: 0.10580747069022071\n",
      "eval loss: 0.163364165230014 0.2326371317746523\n",
      "epoch: 10\n",
      "epoch: 10 loss: 0.11397423102126528\n",
      "eval loss: 0.2730206048825907 0.37919457737918166\n",
      "epoch: 11\n",
      "epoch: 11 loss: 0.12413141560746035\n",
      "eval loss: 0.17149867999642382 0.24388303908739914\n",
      "epoch: 12\n",
      "epoch: 12 loss: 0.13358961811197326\n",
      "eval loss: 0.1834978210956987 0.25896014214168334\n",
      "epoch: 13\n",
      "epoch: 13 loss: 0.12481006169551394\n",
      "eval loss: 0.1706398614272968 0.2420561126902718\n",
      "epoch: 14\n",
      "epoch: 14 loss: 0.11247162721515047\n"
     ]
    },
    {
     "data": {
      "text/html": [
       "\n",
       "    <div>\n",
       "        <style>\n",
       "            /* Turns off some styling */\n",
       "            progress {\n",
       "                /* gets rid of default border in Firefox and Opera. */\n",
       "                border: none;\n",
       "                /* Needs to be in here for Safari polyfill so background images work as expected. */\n",
       "                background-size: auto;\n",
       "            }\n",
       "            .progress-bar-interrupted, .progress-bar-interrupted::-webkit-progress-bar {\n",
       "                background: #F44336;\n",
       "            }\n",
       "        </style>\n",
       "      <progress value='17' class='' max='17' style='width:300px; height:20px; vertical-align: middle;'></progress>\n",
       "      100.00% [17/17 00:01<00:00]\n",
       "    </div>\n",
       "    "
      ],
      "text/plain": [
       "<IPython.core.display.HTML object>"
      ]
     },
     "metadata": {},
     "output_type": "display_data"
    },
    {
     "name": "stdout",
     "output_type": "stream",
     "text": [
      "eval loss: 0.16257751945686733 0.23104289055126137\n",
      "epoch: 15\n",
      "epoch: 15 loss: 0.10405455884405264\n"
     ]
    },
    {
     "data": {
      "text/html": [
       "\n",
       "    <div>\n",
       "        <style>\n",
       "            /* Turns off some styling */\n",
       "            progress {\n",
       "                /* gets rid of default border in Firefox and Opera. */\n",
       "                border: none;\n",
       "                /* Needs to be in here for Safari polyfill so background images work as expected. */\n",
       "                background-size: auto;\n",
       "            }\n",
       "            .progress-bar-interrupted, .progress-bar-interrupted::-webkit-progress-bar {\n",
       "                background: #F44336;\n",
       "            }\n",
       "        </style>\n",
       "      <progress value='17' class='' max='17' style='width:300px; height:20px; vertical-align: middle;'></progress>\n",
       "      100.00% [17/17 00:01<00:00]\n",
       "    </div>\n",
       "    "
      ],
      "text/plain": [
       "<IPython.core.display.HTML object>"
      ]
     },
     "metadata": {},
     "output_type": "display_data"
    },
    {
     "name": "stdout",
     "output_type": "stream",
     "text": [
      "eval loss: 0.15991194233900116 0.22735849453996687\n",
      "epoch: 16\n",
      "epoch: 16 loss: 0.10137389464879304\n"
     ]
    },
    {
     "data": {
      "text/html": [
       "\n",
       "    <div>\n",
       "        <style>\n",
       "            /* Turns off some styling */\n",
       "            progress {\n",
       "                /* gets rid of default border in Firefox and Opera. */\n",
       "                border: none;\n",
       "                /* Needs to be in here for Safari polyfill so background images work as expected. */\n",
       "                background-size: auto;\n",
       "            }\n",
       "            .progress-bar-interrupted, .progress-bar-interrupted::-webkit-progress-bar {\n",
       "                background: #F44336;\n",
       "            }\n",
       "        </style>\n",
       "      <progress value='17' class='' max='17' style='width:300px; height:20px; vertical-align: middle;'></progress>\n",
       "      100.00% [17/17 00:01<00:00]\n",
       "    </div>\n",
       "    "
      ],
      "text/plain": [
       "<IPython.core.display.HTML object>"
      ]
     },
     "metadata": {},
     "output_type": "display_data"
    },
    {
     "name": "stdout",
     "output_type": "stream",
     "text": [
      "eval loss: 0.15865622246832736 0.22563775186488466\n",
      "epoch: 17\n",
      "epoch: 17 loss: 0.10216809420326534\n",
      "eval loss: 0.1602854243442162 0.2269728588726134\n",
      "epoch: 18\n",
      "epoch: 18 loss: 0.09950936580824316\n"
     ]
    },
    {
     "data": {
      "text/html": [
       "\n",
       "    <div>\n",
       "        <style>\n",
       "            /* Turns off some styling */\n",
       "            progress {\n",
       "                /* gets rid of default border in Firefox and Opera. */\n",
       "                border: none;\n",
       "                /* Needs to be in here for Safari polyfill so background images work as expected. */\n",
       "                background-size: auto;\n",
       "            }\n",
       "            .progress-bar-interrupted, .progress-bar-interrupted::-webkit-progress-bar {\n",
       "                background: #F44336;\n",
       "            }\n",
       "        </style>\n",
       "      <progress value='17' class='' max='17' style='width:300px; height:20px; vertical-align: middle;'></progress>\n",
       "      100.00% [17/17 00:01<00:00]\n",
       "    </div>\n",
       "    "
      ],
      "text/plain": [
       "<IPython.core.display.HTML object>"
      ]
     },
     "metadata": {},
     "output_type": "display_data"
    },
    {
     "name": "stdout",
     "output_type": "stream",
     "text": [
      "eval loss: 0.15797951207235728 0.22440517000252647\n",
      "epoch: 19\n",
      "epoch: 19 loss: 0.09756186521908579\n"
     ]
    },
    {
     "data": {
      "text/html": [
       "\n",
       "    <div>\n",
       "        <style>\n",
       "            /* Turns off some styling */\n",
       "            progress {\n",
       "                /* gets rid of default border in Firefox and Opera. */\n",
       "                border: none;\n",
       "                /* Needs to be in here for Safari polyfill so background images work as expected. */\n",
       "                background-size: auto;\n",
       "            }\n",
       "            .progress-bar-interrupted, .progress-bar-interrupted::-webkit-progress-bar {\n",
       "                background: #F44336;\n",
       "            }\n",
       "        </style>\n",
       "      <progress value='17' class='' max='17' style='width:300px; height:20px; vertical-align: middle;'></progress>\n",
       "      100.00% [17/17 00:01<00:00]\n",
       "    </div>\n",
       "    "
      ],
      "text/plain": [
       "<IPython.core.display.HTML object>"
      ]
     },
     "metadata": {},
     "output_type": "display_data"
    },
    {
     "name": "stdout",
     "output_type": "stream",
     "text": [
      "eval loss: 0.1572311370742962 0.22380806554118232\n",
      "epoch: 20\n",
      "epoch: 20 loss: 0.09988150146427523\n"
     ]
    },
    {
     "data": {
      "text/html": [
       "\n",
       "    <div>\n",
       "        <style>\n",
       "            /* Turns off some styling */\n",
       "            progress {\n",
       "                /* gets rid of default border in Firefox and Opera. */\n",
       "                border: none;\n",
       "                /* Needs to be in here for Safari polyfill so background images work as expected. */\n",
       "                background-size: auto;\n",
       "            }\n",
       "            .progress-bar-interrupted, .progress-bar-interrupted::-webkit-progress-bar {\n",
       "                background: #F44336;\n",
       "            }\n",
       "        </style>\n",
       "      <progress value='17' class='' max='17' style='width:300px; height:20px; vertical-align: middle;'></progress>\n",
       "      100.00% [17/17 00:01<00:00]\n",
       "    </div>\n",
       "    "
      ],
      "text/plain": [
       "<IPython.core.display.HTML object>"
      ]
     },
     "metadata": {},
     "output_type": "display_data"
    },
    {
     "name": "stdout",
     "output_type": "stream",
     "text": [
      "eval loss: 0.1568533048022231 0.22264407296759015\n",
      "epoch: 21\n",
      "epoch: 21 loss: 0.09894686571349585\n",
      "eval loss: 0.16051410587014495 0.22765745143960242\n",
      "epoch: 22\n",
      "epoch: 22 loss: 0.10237990178957314\n",
      "eval loss: 0.15818852208667464 0.22482123725366998\n",
      "epoch: 23\n",
      "epoch: 23 loss: 0.0949001381209889\n"
     ]
    },
    {
     "data": {
      "text/html": [
       "\n",
       "    <div>\n",
       "        <style>\n",
       "            /* Turns off some styling */\n",
       "            progress {\n",
       "                /* gets rid of default border in Firefox and Opera. */\n",
       "                border: none;\n",
       "                /* Needs to be in here for Safari polyfill so background images work as expected. */\n",
       "                background-size: auto;\n",
       "            }\n",
       "            .progress-bar-interrupted, .progress-bar-interrupted::-webkit-progress-bar {\n",
       "                background: #F44336;\n",
       "            }\n",
       "        </style>\n",
       "      <progress value='17' class='' max='17' style='width:300px; height:20px; vertical-align: middle;'></progress>\n",
       "      100.00% [17/17 00:01<00:00]\n",
       "    </div>\n",
       "    "
      ],
      "text/plain": [
       "<IPython.core.display.HTML object>"
      ]
     },
     "metadata": {},
     "output_type": "display_data"
    },
    {
     "name": "stdout",
     "output_type": "stream",
     "text": [
      "eval loss: 0.15494915668101955 0.2202580211476583\n",
      "epoch: 24\n",
      "epoch: 24 loss: 0.09246699415940372\n"
     ]
    },
    {
     "data": {
      "text/html": [
       "\n",
       "    <div>\n",
       "        <style>\n",
       "            /* Turns off some styling */\n",
       "            progress {\n",
       "                /* gets rid of default border in Firefox and Opera. */\n",
       "                border: none;\n",
       "                /* Needs to be in here for Safari polyfill so background images work as expected. */\n",
       "                background-size: auto;\n",
       "            }\n",
       "            .progress-bar-interrupted, .progress-bar-interrupted::-webkit-progress-bar {\n",
       "                background: #F44336;\n",
       "            }\n",
       "        </style>\n",
       "      <progress value='17' class='' max='17' style='width:300px; height:20px; vertical-align: middle;'></progress>\n",
       "      100.00% [17/17 00:01<00:00]\n",
       "    </div>\n",
       "    "
      ],
      "text/plain": [
       "<IPython.core.display.HTML object>"
      ]
     },
     "metadata": {},
     "output_type": "display_data"
    },
    {
     "name": "stdout",
     "output_type": "stream",
     "text": [
      "eval loss: 0.15373540900300212 0.21830846161399242\n",
      "epoch: 25\n",
      "epoch: 25 loss: 0.09163225795725195\n"
     ]
    },
    {
     "data": {
      "text/html": [
       "\n",
       "    <div>\n",
       "        <style>\n",
       "            /* Turns off some styling */\n",
       "            progress {\n",
       "                /* gets rid of default border in Firefox and Opera. */\n",
       "                border: none;\n",
       "                /* Needs to be in here for Safari polyfill so background images work as expected. */\n",
       "                background-size: auto;\n",
       "            }\n",
       "            .progress-bar-interrupted, .progress-bar-interrupted::-webkit-progress-bar {\n",
       "                background: #F44336;\n",
       "            }\n",
       "        </style>\n",
       "      <progress value='17' class='' max='17' style='width:300px; height:20px; vertical-align: middle;'></progress>\n",
       "      100.00% [17/17 00:01<00:00]\n",
       "    </div>\n",
       "    "
      ],
      "text/plain": [
       "<IPython.core.display.HTML object>"
      ]
     },
     "metadata": {},
     "output_type": "display_data"
    },
    {
     "name": "stdout",
     "output_type": "stream",
     "text": [
      "eval loss: 0.15351554922030347 0.2180543495536564\n",
      "epoch: 26\n",
      "epoch: 26 loss: 0.0899286904363221\n"
     ]
    },
    {
     "data": {
      "text/html": [
       "\n",
       "    <div>\n",
       "        <style>\n",
       "            /* Turns off some styling */\n",
       "            progress {\n",
       "                /* gets rid of default border in Firefox and Opera. */\n",
       "                border: none;\n",
       "                /* Needs to be in here for Safari polyfill so background images work as expected. */\n",
       "                background-size: auto;\n",
       "            }\n",
       "            .progress-bar-interrupted, .progress-bar-interrupted::-webkit-progress-bar {\n",
       "                background: #F44336;\n",
       "            }\n",
       "        </style>\n",
       "      <progress value='17' class='' max='17' style='width:300px; height:20px; vertical-align: middle;'></progress>\n",
       "      100.00% [17/17 00:01<00:00]\n",
       "    </div>\n",
       "    "
      ],
      "text/plain": [
       "<IPython.core.display.HTML object>"
      ]
     },
     "metadata": {},
     "output_type": "display_data"
    },
    {
     "name": "stdout",
     "output_type": "stream",
     "text": [
      "eval loss: 0.1525326993534609 0.21682270051906094\n",
      "epoch: 27\n",
      "epoch: 27 loss: 0.08933683019007511\n",
      "eval loss: 0.15259257276351534 0.21693479051810693\n",
      "epoch: 28\n",
      "epoch: 28 loss: 0.08821828088291353\n"
     ]
    },
    {
     "data": {
      "text/html": [
       "\n",
       "    <div>\n",
       "        <style>\n",
       "            /* Turns off some styling */\n",
       "            progress {\n",
       "                /* gets rid of default border in Firefox and Opera. */\n",
       "                border: none;\n",
       "                /* Needs to be in here for Safari polyfill so background images work as expected. */\n",
       "                background-size: auto;\n",
       "            }\n",
       "            .progress-bar-interrupted, .progress-bar-interrupted::-webkit-progress-bar {\n",
       "                background: #F44336;\n",
       "            }\n",
       "        </style>\n",
       "      <progress value='17' class='' max='17' style='width:300px; height:20px; vertical-align: middle;'></progress>\n",
       "      100.00% [17/17 00:01<00:00]\n",
       "    </div>\n",
       "    "
      ],
      "text/plain": [
       "<IPython.core.display.HTML object>"
      ]
     },
     "metadata": {},
     "output_type": "display_data"
    },
    {
     "name": "stdout",
     "output_type": "stream",
     "text": [
      "eval loss: 0.15188624177967164 0.21547394779329387\n",
      "epoch: 29\n",
      "epoch: 29 loss: 0.08741298157966748\n"
     ]
    },
    {
     "data": {
      "text/html": [
       "\n",
       "    <div>\n",
       "        <style>\n",
       "            /* Turns off some styling */\n",
       "            progress {\n",
       "                /* gets rid of default border in Firefox and Opera. */\n",
       "                border: none;\n",
       "                /* Needs to be in here for Safari polyfill so background images work as expected. */\n",
       "                background-size: auto;\n",
       "            }\n",
       "            .progress-bar-interrupted, .progress-bar-interrupted::-webkit-progress-bar {\n",
       "                background: #F44336;\n",
       "            }\n",
       "        </style>\n",
       "      <progress value='17' class='' max='17' style='width:300px; height:20px; vertical-align: middle;'></progress>\n",
       "      100.00% [17/17 00:01<00:00]\n",
       "    </div>\n",
       "    "
      ],
      "text/plain": [
       "<IPython.core.display.HTML object>"
      ]
     },
     "metadata": {},
     "output_type": "display_data"
    },
    {
     "name": "stdout",
     "output_type": "stream",
     "text": [
      "eval loss: 0.15174258538718532 0.21600332232221356\n",
      "epoch: 30\n",
      "epoch: 30 loss: 0.08921844954947984\n",
      "eval loss: 0.15489585490159136 0.21997611491300859\n",
      "epoch: 31\n",
      "epoch: 31 loss: 0.09361306514520985\n",
      "eval loss: 0.15871755201411566 0.22469935536855967\n",
      "epoch: 32\n",
      "epoch: 32 loss: 0.10820948684488106\n",
      "eval loss: 0.23226745931091913 0.3264969201207637\n",
      "epoch: 33\n",
      "epoch: 33 loss: 0.12845488751955564\n",
      "eval loss: 0.18166220080153425 0.2555124198954886\n",
      "epoch: 34\n",
      "epoch: 34 loss: 0.12240139587725163\n",
      "eval loss: 0.22022796346927193 0.3072146496122934\n",
      "epoch: 35\n",
      "epoch: 35 loss: 0.14546333087610613\n",
      "eval loss: 0.183564339020873 0.25933968324094225\n",
      "epoch: 36\n",
      "epoch: 36 loss: 0.11907244858185337\n",
      "eval loss: 0.1611495418378268 0.2280247596978115\n",
      "epoch: 37\n",
      "epoch: 37 loss: 0.09725705685590798\n",
      "eval loss: 0.15476387238109005 0.21953420998409423\n",
      "epoch: 38\n",
      "epoch: 38 loss: 0.0899617632976229\n",
      "eval loss: 0.15223141925781286 0.21619092074046656\n",
      "epoch: 39\n",
      "epoch: 39 loss: 0.0879564682063333\n",
      "eval loss: 0.15174619835897804 0.21483634154569928\n",
      "epoch: 40\n",
      "epoch: 40 loss: 0.08723624508996049\n",
      "eval loss: 0.15310607512825639 0.21705379348120982\n",
      "epoch: 41\n",
      "epoch: 41 loss: 0.08664460009187731\n",
      "eval loss: 0.15187539604374797 0.21547263733466965\n",
      "epoch: 42\n",
      "epoch: 42 loss: 0.08665822982181605\n"
     ]
    },
    {
     "data": {
      "text/html": [
       "\n",
       "    <div>\n",
       "        <style>\n",
       "            /* Turns off some styling */\n",
       "            progress {\n",
       "                /* gets rid of default border in Firefox and Opera. */\n",
       "                border: none;\n",
       "                /* Needs to be in here for Safari polyfill so background images work as expected. */\n",
       "                background-size: auto;\n",
       "            }\n",
       "            .progress-bar-interrupted, .progress-bar-interrupted::-webkit-progress-bar {\n",
       "                background: #F44336;\n",
       "            }\n",
       "        </style>\n",
       "      <progress value='17' class='' max='17' style='width:300px; height:20px; vertical-align: middle;'></progress>\n",
       "      100.00% [17/17 00:01<00:00]\n",
       "    </div>\n",
       "    "
      ],
      "text/plain": [
       "<IPython.core.display.HTML object>"
      ]
     },
     "metadata": {},
     "output_type": "display_data"
    },
    {
     "name": "stdout",
     "output_type": "stream",
     "text": [
      "eval loss: 0.15170938507827444 0.2153080834019533\n",
      "epoch: 43\n",
      "epoch: 43 loss: 0.08722946755121375\n"
     ]
    },
    {
     "data": {
      "text/html": [
       "\n",
       "    <div>\n",
       "        <style>\n",
       "            /* Turns off some styling */\n",
       "            progress {\n",
       "                /* gets rid of default border in Firefox and Opera. */\n",
       "                border: none;\n",
       "                /* Needs to be in here for Safari polyfill so background images work as expected. */\n",
       "                background-size: auto;\n",
       "            }\n",
       "            .progress-bar-interrupted, .progress-bar-interrupted::-webkit-progress-bar {\n",
       "                background: #F44336;\n",
       "            }\n",
       "        </style>\n",
       "      <progress value='17' class='' max='17' style='width:300px; height:20px; vertical-align: middle;'></progress>\n",
       "      100.00% [17/17 00:01<00:00]\n",
       "    </div>\n",
       "    "
      ],
      "text/plain": [
       "<IPython.core.display.HTML object>"
      ]
     },
     "metadata": {},
     "output_type": "display_data"
    },
    {
     "name": "stdout",
     "output_type": "stream",
     "text": [
      "eval loss: 0.1513173512493379 0.2144563306910257\n",
      "epoch: 44\n",
      "epoch: 44 loss: 0.08316457605766085\n"
     ]
    },
    {
     "data": {
      "text/html": [
       "\n",
       "    <div>\n",
       "        <style>\n",
       "            /* Turns off some styling */\n",
       "            progress {\n",
       "                /* gets rid of default border in Firefox and Opera. */\n",
       "                border: none;\n",
       "                /* Needs to be in here for Safari polyfill so background images work as expected. */\n",
       "                background-size: auto;\n",
       "            }\n",
       "            .progress-bar-interrupted, .progress-bar-interrupted::-webkit-progress-bar {\n",
       "                background: #F44336;\n",
       "            }\n",
       "        </style>\n",
       "      <progress value='17' class='' max='17' style='width:300px; height:20px; vertical-align: middle;'></progress>\n",
       "      100.00% [17/17 00:01<00:00]\n",
       "    </div>\n",
       "    "
      ],
      "text/plain": [
       "<IPython.core.display.HTML object>"
      ]
     },
     "metadata": {},
     "output_type": "display_data"
    },
    {
     "name": "stdout",
     "output_type": "stream",
     "text": [
      "eval loss: 0.1502836576580044 0.21343520745071554\n",
      "epoch: 45\n",
      "epoch: 45 loss: 0.08250454278926725\n",
      "eval loss: 0.15168532852296476 0.21461554174541164\n",
      "epoch: 46\n",
      "epoch: 46 loss: 0.08330500412101716\n"
     ]
    },
    {
     "data": {
      "text/html": [
       "\n",
       "    <div>\n",
       "        <style>\n",
       "            /* Turns off some styling */\n",
       "            progress {\n",
       "                /* gets rid of default border in Firefox and Opera. */\n",
       "                border: none;\n",
       "                /* Needs to be in here for Safari polyfill so background images work as expected. */\n",
       "                background-size: auto;\n",
       "            }\n",
       "            .progress-bar-interrupted, .progress-bar-interrupted::-webkit-progress-bar {\n",
       "                background: #F44336;\n",
       "            }\n",
       "        </style>\n",
       "      <progress value='17' class='' max='17' style='width:300px; height:20px; vertical-align: middle;'></progress>\n",
       "      100.00% [17/17 00:01<00:00]\n",
       "    </div>\n",
       "    "
      ],
      "text/plain": [
       "<IPython.core.display.HTML object>"
      ]
     },
     "metadata": {},
     "output_type": "display_data"
    },
    {
     "name": "stdout",
     "output_type": "stream",
     "text": [
      "eval loss: 0.14998232652076848 0.21231635149881345\n",
      "epoch: 47\n",
      "epoch: 47 loss: 0.08148964118340139\n",
      "eval loss: 0.15085586492954295 0.2139350229036206\n",
      "epoch: 48\n",
      "epoch: 48 loss: 0.08550705491517908\n",
      "eval loss: 0.15149598845236836 0.21486822717081336\n",
      "epoch: 49\n",
      "epoch: 49 loss: 0.08024550149466195\n"
     ]
    },
    {
     "data": {
      "text/html": [
       "\n",
       "    <div>\n",
       "        <style>\n",
       "            /* Turns off some styling */\n",
       "            progress {\n",
       "                /* gets rid of default border in Firefox and Opera. */\n",
       "                border: none;\n",
       "                /* Needs to be in here for Safari polyfill so background images work as expected. */\n",
       "                background-size: auto;\n",
       "            }\n",
       "            .progress-bar-interrupted, .progress-bar-interrupted::-webkit-progress-bar {\n",
       "                background: #F44336;\n",
       "            }\n",
       "        </style>\n",
       "      <progress value='17' class='' max='17' style='width:300px; height:20px; vertical-align: middle;'></progress>\n",
       "      100.00% [17/17 00:01<00:00]\n",
       "    </div>\n",
       "    "
      ],
      "text/plain": [
       "<IPython.core.display.HTML object>"
      ]
     },
     "metadata": {},
     "output_type": "display_data"
    },
    {
     "name": "stdout",
     "output_type": "stream",
     "text": [
      "eval loss: 0.14994062148684467 0.2125610639671116\n",
      "epoch: 50\n",
      "epoch: 50 loss: 0.08232475354676938\n"
     ]
    },
    {
     "data": {
      "text/html": [
       "\n",
       "    <div>\n",
       "        <style>\n",
       "            /* Turns off some styling */\n",
       "            progress {\n",
       "                /* gets rid of default border in Firefox and Opera. */\n",
       "                border: none;\n",
       "                /* Needs to be in here for Safari polyfill so background images work as expected. */\n",
       "                background-size: auto;\n",
       "            }\n",
       "            .progress-bar-interrupted, .progress-bar-interrupted::-webkit-progress-bar {\n",
       "                background: #F44336;\n",
       "            }\n",
       "        </style>\n",
       "      <progress value='17' class='' max='17' style='width:300px; height:20px; vertical-align: middle;'></progress>\n",
       "      100.00% [17/17 00:01<00:00]\n",
       "    </div>\n",
       "    "
      ],
      "text/plain": [
       "<IPython.core.display.HTML object>"
      ]
     },
     "metadata": {},
     "output_type": "display_data"
    },
    {
     "name": "stdout",
     "output_type": "stream",
     "text": [
      "eval loss: 0.14898649745066386 0.21158178663776644\n",
      "epoch: 51\n",
      "epoch: 51 loss: 0.08449402850395704\n",
      "eval loss: 0.15415241489753018 0.21834847910724364\n",
      "epoch: 52\n",
      "epoch: 52 loss: 0.09454252345014136\n",
      "eval loss: 0.15384900703917445 0.2176564978719071\n",
      "epoch: 53\n",
      "epoch: 53 loss: 0.09798771750010828\n",
      "eval loss: 0.17182953791857777 0.24088143876552007\n",
      "epoch: 54\n",
      "epoch: 54 loss: 0.1798150153972822\n",
      "eval loss: 0.30218118847670394 0.41950147150068423\n",
      "epoch: 55\n",
      "epoch: 55 loss: 0.19540211495562806\n",
      "eval loss: 0.2549729346478726 0.35476433209609287\n",
      "epoch: 56\n",
      "epoch: 56 loss: 0.14304057193366676\n",
      "eval loss: 0.19814231572960628 0.27862812504768675\n",
      "epoch: 57\n",
      "epoch: 57 loss: 0.11070869790839813\n",
      "eval loss: 0.1550825360079942 0.2200011036097438\n",
      "epoch: 58\n",
      "epoch: 58 loss: 0.09012958632048676\n",
      "eval loss: 0.152252462898259 0.21588831349996976\n",
      "epoch: 59\n",
      "epoch: 59 loss: 0.09807063841169283\n",
      "eval loss: 0.1575332492313526 0.22288476838261628\n",
      "epoch: 60\n",
      "epoch: 60 loss: 0.09680505777637356\n",
      "eval loss: 0.1546795034212294 0.21931765074241721\n",
      "epoch: 61\n",
      "epoch: 61 loss: 0.08312200019744413\n",
      "eval loss: 0.15111842536669867 0.21420035997514014\n",
      "epoch: 62\n",
      "epoch: 62 loss: 0.07969026949006247\n",
      "eval loss: 0.15033629449078798 0.2129991802096954\n",
      "epoch: 63\n",
      "epoch: 63 loss: 0.07840494908528912\n",
      "eval loss: 0.15298149823796203 0.21643427530248882\n",
      "epoch: 64\n",
      "epoch: 64 loss: 0.07803291289555121\n",
      "eval loss: 0.14969820495027955 0.2127712821766097\n",
      "epoch: 65\n",
      "epoch: 65 loss: 0.0772813932743376\n",
      "eval loss: 0.15006048216400933 0.21264383240494722\n",
      "epoch: 66\n",
      "epoch: 66 loss: 0.07585167049343154\n",
      "eval loss: 0.1490653794272339 0.21185111895748948\n",
      "epoch: 67\n",
      "epoch: 67 loss: 0.07540937446414461\n",
      "eval loss: 0.14908285447416653 0.21144502395600948\n",
      "epoch: 68\n",
      "epoch: 68 loss: 0.07608015965292506\n",
      "eval loss: 0.14938906169569857 0.2116040366214813\n",
      "epoch: 69\n",
      "epoch: 69 loss: 0.07741033952720493\n",
      "eval loss: 0.15000228403824842 0.2128303600882192\n",
      "epoch: 70\n",
      "epoch: 70 loss: 0.08415796273293921\n",
      "eval loss: 0.16677561248567002 0.23727504467386845\n",
      "epoch: 71\n",
      "epoch: 71 loss: 0.18206091927368284\n",
      "eval loss: 0.20770196059642945 0.29156502214740215\n",
      "epoch: 72\n",
      "epoch: 72 loss: 0.19651573854757498\n",
      "eval loss: 0.28840435183278457 0.4017162670464599\n",
      "epoch: 73\n",
      "epoch: 73 loss: 0.21596598756227023\n",
      "eval loss: 0.29912471591042583 0.41349296799308893\n",
      "epoch: 74\n",
      "epoch: 74 loss: 0.2075879123763799\n",
      "eval loss: 0.26212878864676287 0.3661132902351631\n",
      "epoch: 75\n",
      "epoch: 75 loss: 0.19227253680475712\n",
      "eval loss: 0.24349827011494304 0.3414803502336419\n",
      "epoch: 76\n",
      "epoch: 76 loss: 0.18693236965717816\n",
      "eval loss: 0.2713728120606333 0.37693359464318954\n",
      "epoch: 77\n",
      "epoch: 77 loss: 0.18839024288084358\n",
      "eval loss: 0.22113567477325854 0.30985008015403026\n",
      "epoch: 78\n",
      "epoch: 78 loss: 0.17248424369576337\n",
      "eval loss: 0.20261999793303584 0.28508105819490853\n",
      "epoch: 79\n",
      "epoch: 79 loss: 0.15556014718636763\n",
      "eval loss: 0.19423325918924028 0.27193051995848005\n",
      "epoch: 80\n",
      "epoch: 80 loss: 0.1477850626211457\n",
      "eval loss: 0.19306360296545866 0.27072065422235425\n",
      "epoch: 81\n",
      "epoch: 81 loss: 0.1410113346754265\n",
      "eval loss: 0.18315391920227028 0.25802461062636733\n",
      "epoch: 82\n",
      "epoch: 82 loss: 0.14557704477829997\n",
      "eval loss: 0.1931146320232564 0.2721794787178509\n",
      "epoch: 83\n",
      "epoch: 83 loss: 0.13770289358065405\n",
      "eval loss: 0.2742018102326063 0.38153008864435106\n",
      "epoch: 84\n",
      "epoch: 84 loss: 0.16120159037355267\n",
      "eval loss: 0.17152819590748886 0.24234446554678418\n",
      "epoch: 85\n",
      "epoch: 85 loss: 0.12243291949400766\n",
      "eval loss: 0.16430366125481122 0.23255419029801683\n",
      "epoch: 86\n",
      "epoch: 86 loss: 0.12105918866485568\n",
      "eval loss: 0.1701581907513559 0.24019159054739556\n",
      "epoch: 87\n",
      "epoch: 87 loss: 0.1287098173468023\n",
      "eval loss: 0.18332446726114826 0.25786788125765486\n",
      "epoch: 88\n",
      "epoch: 88 loss: 0.11675662527988671\n",
      "eval loss: 0.16750239395877944 0.2361859264300794\n",
      "epoch: 89\n",
      "epoch: 89 loss: 0.10514190461843068\n",
      "eval loss: 0.16319972005365066 0.2310004417234461\n",
      "epoch: 90\n",
      "epoch: 90 loss: 0.10539004002888552\n",
      "eval loss: 0.1561328124046689 0.22088155893371406\n",
      "epoch: 91\n",
      "epoch: 91 loss: 0.11643477819897649\n",
      "eval loss: 0.16358411848995685 0.2301254151387379\n",
      "epoch: 92\n",
      "epoch: 92 loss: 0.09874142869816604\n",
      "eval loss: 0.1834669185032757 0.25880542518012145\n",
      "epoch: 93\n",
      "epoch: 93 loss: 0.1216956232885048\n",
      "eval loss: 0.17154792084855985 0.24236268286558194\n",
      "epoch: 94\n",
      "epoch: 94 loss: 0.11457794238459236\n",
      "eval loss: 0.1654227738303817 0.23343405711749826\n",
      "epoch: 95\n",
      "epoch: 95 loss: 0.12139333446925965\n",
      "eval loss: 0.16958602682004734 0.23851750040097036\n",
      "epoch: 96\n",
      "epoch: 96 loss: 0.10788544385209724\n",
      "eval loss: 0.19176406737792476 0.27120151478416343\n",
      "epoch: 97\n",
      "epoch: 97 loss: 0.10480238836393888\n",
      "eval loss: 0.15821990350429288 0.22358380315967366\n",
      "epoch: 98\n",
      "epoch: 98 loss: 0.09594671426813026\n",
      "eval loss: 0.16005041086833646 0.225917547351006\n",
      "epoch: 99\n",
      "epoch: 99 loss: 0.09058601392331586\n",
      "eval loss: 0.1536567139748606 0.2172274235873694\n",
      "epoch: 100\n",
      "epoch: 100 loss: 0.08784620556277062\n",
      "eval loss: 0.1546024456509915 0.21885258831211207\n",
      "epoch: 101\n",
      "epoch: 101 loss: 0.08471238308825943\n",
      "eval loss: 0.1621894919455855 0.22933858619697467\n",
      "epoch: 102\n",
      "epoch: 102 loss: 0.09010133937655393\n",
      "eval loss: 0.15586917720299892 0.21994936426810366\n",
      "epoch: 103\n",
      "epoch: 103 loss: 0.09278835704567898\n",
      "eval loss: 0.15553168151792138 0.22010178349420187\n",
      "epoch: 104\n",
      "epoch: 104 loss: 0.08525839812810651\n",
      "eval loss: 0.15165281567820554 0.21459678171643815\n",
      "epoch: 105\n",
      "epoch: 105 loss: 0.0829944751208419\n",
      "eval loss: 0.15162823016897148 0.21466423095500678\n",
      "epoch: 106\n",
      "epoch: 106 loss: 0.08257287925747382\n",
      "eval loss: 0.15134986528616767 0.21411504568174405\n",
      "epoch: 107\n",
      "epoch: 107 loss: 0.08655328701236284\n",
      "eval loss: 0.15266359638180207 0.21614868418021188\n",
      "epoch: 108\n",
      "epoch: 108 loss: 0.09652159155145953\n",
      "eval loss: 0.16742723128022885 0.23571320333080775\n",
      "epoch: 109\n",
      "epoch: 109 loss: 0.09880907573936205\n",
      "eval loss: 0.15547148394576504 0.21956493056004753\n",
      "epoch: 110\n",
      "epoch: 110 loss: 0.0875912415023076\n",
      "eval loss: 0.1528513136036201 0.21570374560988254\n",
      "epoch: 111\n",
      "epoch: 111 loss: 0.08461296775387152\n",
      "eval loss: 0.1544246022599598 0.21851431220335624\n",
      "epoch: 112\n",
      "epoch: 112 loss: 0.0861909203336429\n",
      "eval loss: 0.15248639119999255 0.2158337721478357\n",
      "epoch: 113\n",
      "epoch: 113 loss: 0.08747009150325412\n",
      "eval loss: 0.15805192193301637 0.22444430466266277\n",
      "epoch: 114\n",
      "epoch: 114 loss: 0.09568852232182344\n",
      "eval loss: 0.17378108918731788 0.2455782444000962\n",
      "epoch: 115\n",
      "epoch: 115 loss: 0.08394052454599756\n",
      "eval loss: 0.15172806694898888 0.21485221364148996\n",
      "epoch: 116\n",
      "epoch: 116 loss: 0.08123712674858707\n",
      "eval loss: 0.15282041532290722 0.21636647966986353\n",
      "epoch: 117\n",
      "epoch: 117 loss: 0.0788750756634426\n",
      "eval loss: 0.15067540955102815 0.21346683934078298\n",
      "epoch: 118\n",
      "epoch: 118 loss: 0.07633561337670099\n",
      "eval loss: 0.15015431447616084 0.21261599458246228\n",
      "epoch: 119\n",
      "epoch: 119 loss: 0.07812999499546479\n",
      "eval loss: 0.15078263871607192 0.21351940204130834\n",
      "min eval loss: 0.14898649745066386 min mcrmse: 0.21158178663776644 epoch 50\n"
     ]
    }
   ],
   "source": [
    "device = torch.device('cuda')\n",
    "BATCH_SIZE = 64\n",
    "\n",
    "# categorical value for target (used for stratified kfold)\n",
    "#def add_y_cat(df):\n",
    "#    target_mean = df['reactivity'].apply(np.mean) + \\\n",
    "#                  df['deg_Mg_pH10'].apply(np.mean) + \\\n",
    "#                  df['deg_Mg_50C'].apply(np.mean) \n",
    "                  #df['deg_pH10'].apply(np.mean) + \\\n",
    "                  #df['deg_50C'].apply(np.mean)\n",
    "#    df['y_cat'] = pd.qcut(np.array(target_mean), q=20).codes\n",
    "    \n",
    "base_train_data = pd.read_json(str(Path(BASE_PATH) / 'train.json'), lines=True)\n",
    "\n",
    "base_train_data = aug_data(base_train_data)\n",
    "base_train_data = base_train_data.append(pseudo_st)\n",
    "base_train_data = base_train_data.reset_index(drop = True)\n",
    "base_train_data_lg = pseudo_lg.reset_index(drop = True)\n",
    "#add_y_cat(base_train_data)\n",
    "\n",
    "samples = base_train_data\n",
    "save_path = Path(\"./model_prediction\")\n",
    "if not save_path.exists():\n",
    "    save_path.mkdir(parents=True)\n",
    "shutil.rmtree(\"./model\", True)\n",
    "shutil.rmtree(\"./logs\", True)\n",
    "split = ShuffleSplit(n_splits=5, test_size=.1)\n",
    "# kf = StratifiedKFold(n_splits = 5, shuffle = True, random_state = 123)\n",
    "kf = GroupKFold(n_splits=5)\n",
    "    \n",
    "ids = samples.reset_index()[\"id\"]\n",
    "\n",
    "set_seed(123)\n",
    "\n",
    "oof_list = []\n",
    "for fold, ((train_index, test_index), (train_index_lg, test_index_lg)) in enumerate(zip(kf.split(samples, groups=ids), \n",
    "                                                     kf.split(base_train_data_lg, groups=base_train_data_lg['id']))): #split.split(samples) / kf\n",
    "    print(f\"fold: {fold}\")\n",
    "    train_df = samples.loc[train_index].reset_index()\n",
    "    val_df = samples.loc[test_index].reset_index()\n",
    "    train_loader = create_loader(train_df, BATCH_SIZE)\n",
    "    valid_loader = create_loader(val_df, BATCH_SIZE)\n",
    "    print(train_df.shape, val_df.shape)\n",
    "    \n",
    "    train_df_lg = base_train_data_lg.loc[train_index_lg].reset_index()\n",
    "    val_df_lg = base_train_data_lg.loc[test_index_lg].reset_index()\n",
    "    train_loader_lg = create_loader(train_df_lg, BATCH_SIZE)\n",
    "    valid_loader_lg = create_loader(val_df_lg, BATCH_SIZE)\n",
    "    print(train_df_lg.shape, val_df_lg.shape)\n",
    "    \n",
    "    ae_model = AEModel()\n",
    "    state_dict = torch.load(\"./ae-model.pt\")\n",
    "    ae_model.load_state_dict(state_dict)\n",
    "    del state_dict\n",
    "    \n",
    "    model = FromAeModel(ae_model.seq, pred_len=91)\n",
    "    model = model.to(device)\n",
    "    optimizer = torch.optim.Adam(model.parameters(), lr=1e-3)\n",
    "    lr_scheduler = None\n",
    "    \n",
    "    epoch, valid_pred = train(model, train_loader, valid_loader, train_loader_lg, valid_loader_lg, optimizer, lr_scheduler, 120, device=device,\n",
    "                  log_path=f\"logs/{fold}\") #150 #200 epochs\n",
    "    oof_list += valid_pred\n",
    "    shutil.copyfile(str(Path(MODEL_SAVE_PATH) / f\"./model-{epoch}.pt\"), f\"model_prediction/model-{fold}.pt\")\n",
    "    del model"
   ]
  },
  {
   "cell_type": "code",
   "execution_count": 12,
   "metadata": {},
   "outputs": [],
   "source": [
    "oof_df = pd.DataFrame(oof_list, columns=[\"id_seqpos\"] + target_cols)\n",
    "oof_df.to_csv('validation_aepytorch.csv', index=False)"
   ]
  },
  {
   "cell_type": "markdown",
   "metadata": {},
   "source": [
    "### Prediction"
   ]
  },
  {
   "cell_type": "code",
   "execution_count": 13,
   "metadata": {},
   "outputs": [
    {
     "name": "stdout",
     "output_type": "stream",
     "text": [
      "public_df: (1258, 10)\n",
      "private_df: (6010, 10)\n",
      "(1, 107, 107, 3)\n",
      "(1, 130, 130, 3)\n"
     ]
    },
    {
     "data": {
      "text/html": [
       "\n",
       "    <div>\n",
       "        <style>\n",
       "            /* Turns off some styling */\n",
       "            progress {\n",
       "                /* gets rid of default border in Firefox and Opera. */\n",
       "                border: none;\n",
       "                /* Needs to be in here for Safari polyfill so background images work as expected. */\n",
       "                background-size: auto;\n",
       "            }\n",
       "            .progress-bar-interrupted, .progress-bar-interrupted::-webkit-progress-bar {\n",
       "                background: #F44336;\n",
       "            }\n",
       "        </style>\n",
       "      <progress value='1258' class='' max='1258' style='width:300px; height:20px; vertical-align: middle;'></progress>\n",
       "      100.00% [1258/1258 00:11<00:00]\n",
       "    </div>\n",
       "    "
      ],
      "text/plain": [
       "<IPython.core.display.HTML object>"
      ]
     },
     "metadata": {},
     "output_type": "display_data"
    },
    {
     "data": {
      "text/html": [
       "\n",
       "    <div>\n",
       "        <style>\n",
       "            /* Turns off some styling */\n",
       "            progress {\n",
       "                /* gets rid of default border in Firefox and Opera. */\n",
       "                border: none;\n",
       "                /* Needs to be in here for Safari polyfill so background images work as expected. */\n",
       "                background-size: auto;\n",
       "            }\n",
       "            .progress-bar-interrupted, .progress-bar-interrupted::-webkit-progress-bar {\n",
       "                background: #F44336;\n",
       "            }\n",
       "        </style>\n",
       "      <progress value='6010' class='' max='6010' style='width:300px; height:20px; vertical-align: middle;'></progress>\n",
       "      100.00% [6010/6010 01:00<00:00]\n",
       "    </div>\n",
       "    "
      ],
      "text/plain": [
       "<IPython.core.display.HTML object>"
      ]
     },
     "metadata": {},
     "output_type": "display_data"
    },
    {
     "data": {
      "text/html": [
       "\n",
       "    <div>\n",
       "        <style>\n",
       "            /* Turns off some styling */\n",
       "            progress {\n",
       "                /* gets rid of default border in Firefox and Opera. */\n",
       "                border: none;\n",
       "                /* Needs to be in here for Safari polyfill so background images work as expected. */\n",
       "                background-size: auto;\n",
       "            }\n",
       "            .progress-bar-interrupted, .progress-bar-interrupted::-webkit-progress-bar {\n",
       "                background: #F44336;\n",
       "            }\n",
       "        </style>\n",
       "      <progress value='1258' class='' max='1258' style='width:300px; height:20px; vertical-align: middle;'></progress>\n",
       "      100.00% [1258/1258 00:11<00:00]\n",
       "    </div>\n",
       "    "
      ],
      "text/plain": [
       "<IPython.core.display.HTML object>"
      ]
     },
     "metadata": {},
     "output_type": "display_data"
    },
    {
     "data": {
      "text/html": [
       "\n",
       "    <div>\n",
       "        <style>\n",
       "            /* Turns off some styling */\n",
       "            progress {\n",
       "                /* gets rid of default border in Firefox and Opera. */\n",
       "                border: none;\n",
       "                /* Needs to be in here for Safari polyfill so background images work as expected. */\n",
       "                background-size: auto;\n",
       "            }\n",
       "            .progress-bar-interrupted, .progress-bar-interrupted::-webkit-progress-bar {\n",
       "                background: #F44336;\n",
       "            }\n",
       "        </style>\n",
       "      <progress value='6010' class='' max='6010' style='width:300px; height:20px; vertical-align: middle;'></progress>\n",
       "      100.00% [6010/6010 00:59<00:00]\n",
       "    </div>\n",
       "    "
      ],
      "text/plain": [
       "<IPython.core.display.HTML object>"
      ]
     },
     "metadata": {},
     "output_type": "display_data"
    },
    {
     "data": {
      "text/html": [
       "\n",
       "    <div>\n",
       "        <style>\n",
       "            /* Turns off some styling */\n",
       "            progress {\n",
       "                /* gets rid of default border in Firefox and Opera. */\n",
       "                border: none;\n",
       "                /* Needs to be in here for Safari polyfill so background images work as expected. */\n",
       "                background-size: auto;\n",
       "            }\n",
       "            .progress-bar-interrupted, .progress-bar-interrupted::-webkit-progress-bar {\n",
       "                background: #F44336;\n",
       "            }\n",
       "        </style>\n",
       "      <progress value='1258' class='' max='1258' style='width:300px; height:20px; vertical-align: middle;'></progress>\n",
       "      100.00% [1258/1258 00:11<00:00]\n",
       "    </div>\n",
       "    "
      ],
      "text/plain": [
       "<IPython.core.display.HTML object>"
      ]
     },
     "metadata": {},
     "output_type": "display_data"
    },
    {
     "data": {
      "text/html": [
       "\n",
       "    <div>\n",
       "        <style>\n",
       "            /* Turns off some styling */\n",
       "            progress {\n",
       "                /* gets rid of default border in Firefox and Opera. */\n",
       "                border: none;\n",
       "                /* Needs to be in here for Safari polyfill so background images work as expected. */\n",
       "                background-size: auto;\n",
       "            }\n",
       "            .progress-bar-interrupted, .progress-bar-interrupted::-webkit-progress-bar {\n",
       "                background: #F44336;\n",
       "            }\n",
       "        </style>\n",
       "      <progress value='6010' class='' max='6010' style='width:300px; height:20px; vertical-align: middle;'></progress>\n",
       "      100.00% [6010/6010 00:59<00:00]\n",
       "    </div>\n",
       "    "
      ],
      "text/plain": [
       "<IPython.core.display.HTML object>"
      ]
     },
     "metadata": {},
     "output_type": "display_data"
    },
    {
     "data": {
      "text/html": [
       "\n",
       "    <div>\n",
       "        <style>\n",
       "            /* Turns off some styling */\n",
       "            progress {\n",
       "                /* gets rid of default border in Firefox and Opera. */\n",
       "                border: none;\n",
       "                /* Needs to be in here for Safari polyfill so background images work as expected. */\n",
       "                background-size: auto;\n",
       "            }\n",
       "            .progress-bar-interrupted, .progress-bar-interrupted::-webkit-progress-bar {\n",
       "                background: #F44336;\n",
       "            }\n",
       "        </style>\n",
       "      <progress value='1258' class='' max='1258' style='width:300px; height:20px; vertical-align: middle;'></progress>\n",
       "      100.00% [1258/1258 00:11<00:00]\n",
       "    </div>\n",
       "    "
      ],
      "text/plain": [
       "<IPython.core.display.HTML object>"
      ]
     },
     "metadata": {},
     "output_type": "display_data"
    },
    {
     "data": {
      "text/html": [
       "\n",
       "    <div>\n",
       "        <style>\n",
       "            /* Turns off some styling */\n",
       "            progress {\n",
       "                /* gets rid of default border in Firefox and Opera. */\n",
       "                border: none;\n",
       "                /* Needs to be in here for Safari polyfill so background images work as expected. */\n",
       "                background-size: auto;\n",
       "            }\n",
       "            .progress-bar-interrupted, .progress-bar-interrupted::-webkit-progress-bar {\n",
       "                background: #F44336;\n",
       "            }\n",
       "        </style>\n",
       "      <progress value='6010' class='' max='6010' style='width:300px; height:20px; vertical-align: middle;'></progress>\n",
       "      100.00% [6010/6010 01:00<00:00]\n",
       "    </div>\n",
       "    "
      ],
      "text/plain": [
       "<IPython.core.display.HTML object>"
      ]
     },
     "metadata": {},
     "output_type": "display_data"
    },
    {
     "data": {
      "text/html": [
       "\n",
       "    <div>\n",
       "        <style>\n",
       "            /* Turns off some styling */\n",
       "            progress {\n",
       "                /* gets rid of default border in Firefox and Opera. */\n",
       "                border: none;\n",
       "                /* Needs to be in here for Safari polyfill so background images work as expected. */\n",
       "                background-size: auto;\n",
       "            }\n",
       "            .progress-bar-interrupted, .progress-bar-interrupted::-webkit-progress-bar {\n",
       "                background: #F44336;\n",
       "            }\n",
       "        </style>\n",
       "      <progress value='1258' class='' max='1258' style='width:300px; height:20px; vertical-align: middle;'></progress>\n",
       "      100.00% [1258/1258 00:11<00:00]\n",
       "    </div>\n",
       "    "
      ],
      "text/plain": [
       "<IPython.core.display.HTML object>"
      ]
     },
     "metadata": {},
     "output_type": "display_data"
    },
    {
     "data": {
      "text/html": [
       "\n",
       "    <div>\n",
       "        <style>\n",
       "            /* Turns off some styling */\n",
       "            progress {\n",
       "                /* gets rid of default border in Firefox and Opera. */\n",
       "                border: none;\n",
       "                /* Needs to be in here for Safari polyfill so background images work as expected. */\n",
       "                background-size: auto;\n",
       "            }\n",
       "            .progress-bar-interrupted, .progress-bar-interrupted::-webkit-progress-bar {\n",
       "                background: #F44336;\n",
       "            }\n",
       "        </style>\n",
       "      <progress value='6010' class='' max='6010' style='width:300px; height:20px; vertical-align: middle;'></progress>\n",
       "      100.00% [6010/6010 00:59<00:00]\n",
       "    </div>\n",
       "    "
      ],
      "text/plain": [
       "<IPython.core.display.HTML object>"
      ]
     },
     "metadata": {},
     "output_type": "display_data"
    },
    {
     "name": "stdout",
     "output_type": "stream",
     "text": [
      "(457953, 2)\n",
      "(457953, 2)\n",
      "(457953, 2)\n",
      "(457953, 2)\n",
      "(457953, 2)\n",
      "(457953, 6)\n"
     ]
    }
   ],
   "source": [
    "device = torch.device('cuda') if torch.cuda.is_available() else \"cpu\"\n",
    "BATCH_SIZE = 1\n",
    "base_test_data = pd.read_json(str(Path(BASE_PATH) / 'test.json'), lines=True)\n",
    "base_test_data = aug_data(base_test_data)\n",
    "\n",
    "public_df = base_test_data.query(\"seq_length == 107\").copy()\n",
    "private_df = base_test_data.query(\"seq_length == 130\").copy()\n",
    "print(f\"public_df: {public_df.shape}\")\n",
    "print(f\"private_df: {private_df.shape}\")\n",
    "public_df = public_df.reset_index()\n",
    "private_df = private_df.reset_index()\n",
    "pub_loader = create_loader(public_df, BATCH_SIZE, is_test=True)\n",
    "pri_loader = create_loader(private_df, BATCH_SIZE, is_test=True)\n",
    "pred_df_list = []\n",
    "c = 0\n",
    "for fold in range(5):\n",
    "    model_load_path = f\"./model_prediction/model-{fold}.pt\"\n",
    "    ae_model0 = AEModel()\n",
    "    ae_model1 = AEModel()\n",
    "    model_pub = FromAeModel(pred_len=107, seq=ae_model0.seq)\n",
    "    model_pub = model_pub.to(device)\n",
    "    model_pri = FromAeModel(pred_len=130, seq=ae_model1.seq)\n",
    "    model_pri = model_pri.to(device)\n",
    "    state_dict = torch.load(model_load_path, map_location=device)\n",
    "    model_pub.load_state_dict(state_dict)\n",
    "    model_pri.load_state_dict(state_dict)\n",
    "    del state_dict\n",
    "\n",
    "    data_list = []\n",
    "    data_list += predict_data(model_pub, pub_loader, device, BATCH_SIZE)\n",
    "    data_list += predict_data(model_pri, pri_loader, device, BATCH_SIZE)\n",
    "    pred_df = pd.DataFrame(data_list, columns=[\"id_seqpos\"] + target_cols)\n",
    "    #print(pred_df.head())\n",
    "    #print(pred_df.tail())\n",
    "    pred_df_list.append(pred_df)\n",
    "    c += 1\n",
    "data_dic = dict(id_seqpos=pred_df_list[0][\"id_seqpos\"])\n",
    "for col in target_cols:\n",
    "    vals = np.zeros(pred_df_list[0][col].shape[0])\n",
    "    for df in pred_df_list:\n",
    "        vals += df[col].values\n",
    "    data_dic[col] = vals / float(c)\n",
    "pred_df_avg = pd.DataFrame(data_dic, columns=[\"id_seqpos\"] + target_cols)\n",
    "#print(pred_df_avg.head())\n",
    "#pred_df_avg.to_csv(\"./submission_all.csv\", index=False)\n",
    "\n",
    "##### submission final\n",
    "sample_df = pd.read_csv('../OpenVaccine/sample_submission.csv')\n",
    "target_cols = [c for c in sample_df.columns if c != 'id_seqpos']\n",
    "list_id = list(sample_df.id_seqpos.values)\n",
    "output = {}\n",
    "output_df = pd.DataFrame({'id_seqpos': sample_df.id_seqpos.values})\n",
    "\n",
    "for c in target_cols:\n",
    "    output_values = []\n",
    "    x = pred_df_avg.groupby('id_seqpos')[c].mean().reset_index()\n",
    "    print(x.shape)\n",
    "    output_df = pd.merge(output_df, x, on='id_seqpos')\n",
    "    \n",
    "output_df.to_csv('submission_aepytorch.csv', index=False)\n",
    "print(output_df.shape)"
   ]
  },
  {
   "cell_type": "code",
   "execution_count": 14,
   "metadata": {},
   "outputs": [
    {
     "data": {
      "text/html": [
       "<div>\n",
       "<style scoped>\n",
       "    .dataframe tbody tr th:only-of-type {\n",
       "        vertical-align: middle;\n",
       "    }\n",
       "\n",
       "    .dataframe tbody tr th {\n",
       "        vertical-align: top;\n",
       "    }\n",
       "\n",
       "    .dataframe thead th {\n",
       "        text-align: right;\n",
       "    }\n",
       "</style>\n",
       "<table border=\"1\" class=\"dataframe\">\n",
       "  <thead>\n",
       "    <tr style=\"text-align: right;\">\n",
       "      <th></th>\n",
       "      <th>id_seqpos</th>\n",
       "      <th>reactivity</th>\n",
       "      <th>deg_Mg_pH10</th>\n",
       "      <th>deg_pH10</th>\n",
       "      <th>deg_Mg_50C</th>\n",
       "      <th>deg_50C</th>\n",
       "    </tr>\n",
       "  </thead>\n",
       "  <tbody>\n",
       "    <tr>\n",
       "      <th>0</th>\n",
       "      <td>id_00073f8be_0</td>\n",
       "      <td>0.647781</td>\n",
       "      <td>0.634589</td>\n",
       "      <td>1.880130</td>\n",
       "      <td>0.497652</td>\n",
       "      <td>0.708136</td>\n",
       "    </tr>\n",
       "    <tr>\n",
       "      <th>1</th>\n",
       "      <td>id_00073f8be_1</td>\n",
       "      <td>1.988751</td>\n",
       "      <td>2.927485</td>\n",
       "      <td>3.775051</td>\n",
       "      <td>2.922500</td>\n",
       "      <td>2.571540</td>\n",
       "    </tr>\n",
       "    <tr>\n",
       "      <th>2</th>\n",
       "      <td>id_00073f8be_2</td>\n",
       "      <td>1.441579</td>\n",
       "      <td>0.613249</td>\n",
       "      <td>0.685714</td>\n",
       "      <td>0.713150</td>\n",
       "      <td>0.676650</td>\n",
       "    </tr>\n",
       "    <tr>\n",
       "      <th>3</th>\n",
       "      <td>id_00073f8be_3</td>\n",
       "      <td>1.192090</td>\n",
       "      <td>1.029909</td>\n",
       "      <td>1.095550</td>\n",
       "      <td>1.474018</td>\n",
       "      <td>1.638364</td>\n",
       "    </tr>\n",
       "    <tr>\n",
       "      <th>4</th>\n",
       "      <td>id_00073f8be_4</td>\n",
       "      <td>0.809244</td>\n",
       "      <td>0.525973</td>\n",
       "      <td>0.460842</td>\n",
       "      <td>0.805732</td>\n",
       "      <td>0.854745</td>\n",
       "    </tr>\n",
       "    <tr>\n",
       "      <th>5</th>\n",
       "      <td>id_00073f8be_5</td>\n",
       "      <td>0.705192</td>\n",
       "      <td>0.513918</td>\n",
       "      <td>0.534220</td>\n",
       "      <td>0.657263</td>\n",
       "      <td>0.705889</td>\n",
       "    </tr>\n",
       "    <tr>\n",
       "      <th>6</th>\n",
       "      <td>id_00073f8be_6</td>\n",
       "      <td>0.739668</td>\n",
       "      <td>0.949133</td>\n",
       "      <td>0.950112</td>\n",
       "      <td>1.003862</td>\n",
       "      <td>0.979089</td>\n",
       "    </tr>\n",
       "    <tr>\n",
       "      <th>7</th>\n",
       "      <td>id_00073f8be_7</td>\n",
       "      <td>0.921899</td>\n",
       "      <td>0.937763</td>\n",
       "      <td>1.101304</td>\n",
       "      <td>0.940724</td>\n",
       "      <td>1.346590</td>\n",
       "    </tr>\n",
       "    <tr>\n",
       "      <th>8</th>\n",
       "      <td>id_00073f8be_8</td>\n",
       "      <td>0.196084</td>\n",
       "      <td>0.906140</td>\n",
       "      <td>0.817736</td>\n",
       "      <td>0.971482</td>\n",
       "      <td>0.708860</td>\n",
       "    </tr>\n",
       "    <tr>\n",
       "      <th>9</th>\n",
       "      <td>id_00073f8be_9</td>\n",
       "      <td>0.052724</td>\n",
       "      <td>0.208538</td>\n",
       "      <td>0.265326</td>\n",
       "      <td>0.280487</td>\n",
       "      <td>0.396252</td>\n",
       "    </tr>\n",
       "  </tbody>\n",
       "</table>\n",
       "</div>"
      ],
      "text/plain": [
       "        id_seqpos  reactivity  deg_Mg_pH10  deg_pH10  deg_Mg_50C   deg_50C\n",
       "0  id_00073f8be_0    0.647781     0.634589  1.880130    0.497652  0.708136\n",
       "1  id_00073f8be_1    1.988751     2.927485  3.775051    2.922500  2.571540\n",
       "2  id_00073f8be_2    1.441579     0.613249  0.685714    0.713150  0.676650\n",
       "3  id_00073f8be_3    1.192090     1.029909  1.095550    1.474018  1.638364\n",
       "4  id_00073f8be_4    0.809244     0.525973  0.460842    0.805732  0.854745\n",
       "5  id_00073f8be_5    0.705192     0.513918  0.534220    0.657263  0.705889\n",
       "6  id_00073f8be_6    0.739668     0.949133  0.950112    1.003862  0.979089\n",
       "7  id_00073f8be_7    0.921899     0.937763  1.101304    0.940724  1.346590\n",
       "8  id_00073f8be_8    0.196084     0.906140  0.817736    0.971482  0.708860\n",
       "9  id_00073f8be_9    0.052724     0.208538  0.265326    0.280487  0.396252"
      ]
     },
     "execution_count": 14,
     "metadata": {},
     "output_type": "execute_result"
    }
   ],
   "source": [
    "output_df.head(10)"
   ]
  }
 ],
 "metadata": {
  "kernelspec": {
   "display_name": "Python 3",
   "language": "python",
   "name": "python3"
  },
  "language_info": {
   "codemirror_mode": {
    "name": "ipython",
    "version": 3
   },
   "file_extension": ".py",
   "mimetype": "text/x-python",
   "name": "python",
   "nbconvert_exporter": "python",
   "pygments_lexer": "ipython3",
   "version": "3.7.6"
  }
 },
 "nbformat": 4,
 "nbformat_minor": 4
}
