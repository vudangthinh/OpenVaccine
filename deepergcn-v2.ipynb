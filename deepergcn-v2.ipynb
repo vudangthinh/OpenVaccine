{
 "cells": [
  {
   "cell_type": "code",
   "execution_count": 1,
   "metadata": {
    "_cell_guid": "b1076dfc-b9ad-4769-8c92-a6c4dae69d19",
    "_uuid": "8f2839f25d086af736a60e9eeb907d3b93b6e0e5"
   },
   "outputs": [],
   "source": [
    "# %% [code]\n",
    "# ------------------ install torch_geometric begin -----------------\n",
    "try:\n",
    "    import torch_geometric\n",
    "except:\n",
    "    import subprocess\n",
    "    import torch\n",
    "\n",
    "#     nvcc_stdout = str(subprocess.check_output(['nvcc', '-V']))\n",
    "#     tmp = nvcc_stdout[nvcc_stdout.rfind('release') + len('release') + 1:]\n",
    "#     cuda_version = tmp[:tmp.find(',')]\n",
    "#     cuda = {\n",
    "#             '9.2': 'cu92',\n",
    "#             '10.1': 'cu101',\n",
    "#             '10.2': 'cu102',\n",
    "#             }\n",
    "\n",
    "    CUDA = 'cu101'\n",
    "    TORCH = torch.__version__.split('.')\n",
    "    TORCH[-1] = '0'\n",
    "    TORCH = '.'.join(TORCH)\n",
    "\n",
    "    install1 = 'pip install torch-scatter==latest+' + CUDA + ' -f https://pytorch-geometric.com/whl/torch-' + TORCH + '.html'\n",
    "    install2 = 'pip install torch-sparse==latest+' + CUDA + ' -f https://pytorch-geometric.com/whl/torch-' + TORCH + '.html'\n",
    "    install3 = 'pip install torch-cluster==latest+' + CUDA + ' -f https://pytorch-geometric.com/whl/torch-' + TORCH + '.html'\n",
    "    install4 = 'pip install torch-spline-conv==latest+' + CUDA + ' -f https://pytorch-geometric.com/whl/torch-' + TORCH + '.html'\n",
    "    install5 = 'pip install torch-geometric'\n",
    "\n",
    "    subprocess.run(install1.split())\n",
    "    subprocess.run(install2.split())\n",
    "    subprocess.run(install3.split())\n",
    "    subprocess.run(install4.split())\n",
    "    subprocess.run(install5.split())\n",
    "# ------------------ install torch_geometric end -----------------"
   ]
  },
  {
   "cell_type": "code",
   "execution_count": 2,
   "metadata": {
    "_cell_guid": "79c7e3d0-c299-4dcb-8224-4455121ee9b0",
    "_uuid": "d629ff2d2480ee46fbb7e2d37f6b5fab8052498a"
   },
   "outputs": [],
   "source": [
    "import numpy as np\n",
    "import pandas as pd\n",
    "import random\n",
    "import torch\n",
    "from torch.nn import Linear, LayerNorm, ReLU, Dropout\n",
    "from torch_geometric.nn import ChebConv, NNConv, DeepGCNLayer, ARMAConv\n",
    "from torch_geometric.data import Data, DataLoader\n",
    "from sklearn.model_selection import StratifiedKFold, KFold, GroupKFold\n",
    "from sklearn.cluster import KMeans\n",
    "\n",
    "from tqdm import tqdm\n",
    "import os\n",
    "import copy\n",
    "#import gc\n",
    "from IPython.core.debugger import set_trace\n",
    "\n",
    "# settings\n",
    "seed = 777\n",
    "train_file = '../OpenVaccine/train.json'\n",
    "test_file = '../OpenVaccine/test.json'\n",
    "bpps_top = '../OpenVaccine/bpps'\n",
    "nb_fold = 5\n",
    "device = 'cuda:1'\n",
    "batch_size = 16\n",
    "epochs = 130 #100\n",
    "lr = 0.001\n",
    "nlabel = 5\n",
    "train_with_noisy_data = True\n",
    "add_edge_for_paired_nodes = True\n",
    "add_codon_nodes = True\n",
    "T = 5 #15\n",
    "node_hidden_channels = 128 # 96 #128\n",
    "edge_hidden_channels = 16\n",
    "hidden_channels3 = 32\n",
    "num_layers = 10\n",
    "dropout1 = 0.1\n",
    "dropout2 = 0.1\n",
    "dropout3 = 0.1\n",
    "bpps_nb_mean = 0.077522 # mean of bpps_nb across all training data\n",
    "bpps_nb_std = 0.08914   # std of bpps_nb across all training data\n",
    "error_mean_limit = 0.5"
   ]
  },
  {
   "cell_type": "code",
   "execution_count": 3,
   "metadata": {},
   "outputs": [],
   "source": [
    "def match_pair(structure):\n",
    "    pair = [-1] * len(structure)\n",
    "    pair_no = -1\n",
    "\n",
    "    pair_no_stack = []\n",
    "    for i, c in enumerate(structure):\n",
    "        if c == '(':\n",
    "            pair_no += 1\n",
    "            pair[i] = pair_no\n",
    "            pair_no_stack.append(pair_no)\n",
    "        elif c == ')':\n",
    "            pair[i] = pair_no_stack.pop()\n",
    "    return pair\n",
    "\n",
    "class MyData(Data):\n",
    "    def __init__(self, x=None, edge_index=None, edge_attr=None, y=None,\n",
    "                 pos=None, norm=None, face=None, weight=None, **kwargs):\n",
    "        super(MyData, self).__init__(x=x, edge_index=edge_index,\n",
    "                                     edge_attr=edge_attr, y=y, pos=pos,\n",
    "                                     norm=norm, face=face, **kwargs)\n",
    "        self.weight = weight\n",
    "\n",
    "def calc_sample_weight(row):\n",
    "    return np.log(row.signal_to_noise+1.1)/2"
   ]
  },
  {
   "cell_type": "code",
   "execution_count": 4,
   "metadata": {},
   "outputs": [],
   "source": [
    "# add directed edge for node1 -> node2 and for node2 -> node1\n",
    "def add_edges(edge_index, edge_features, node1, node2, feature1, feature2):\n",
    "    edge_index.append([node1, node2])\n",
    "    edge_features.append(feature1)\n",
    "    edge_index.append([node2, node1])\n",
    "    edge_features.append(feature2)\n",
    "\n",
    "def add_edges_between_base_nodes(edge_index, edge_features, node1, node2):\n",
    "    edge_feature1 = [\n",
    "        0, # is edge for paired nodes\n",
    "        0, # is edge between codon node and base node\n",
    "        0, # is edge between coden nodes\n",
    "        1, # forward edge: 1, backward edge: -1\n",
    "        1, # bpps if edge is for paired nodes\n",
    "    ]\n",
    "    edge_feature2 = [\n",
    "        0, # is edge for paired nodes\n",
    "        0, # is edge between codon node and base node\n",
    "        0, # is edge between coden nodes\n",
    "        -1, # forward edge: 1, backward edge: -1\n",
    "        1, # bpps if edge is for paired nodes\n",
    "    ]\n",
    "    add_edges(edge_index, edge_features, node1, node2,\n",
    "              edge_feature1, edge_feature2)\n",
    "\n",
    "def add_edges_between_paired_nodes(edge_index, edge_features, node1, node2,\n",
    "                                   bpps_value):\n",
    "    edge_feature1 = [\n",
    "        1, # is edge for paired nodes\n",
    "        0, # is edge between codon node and base node\n",
    "        0, # is edge between coden nodes\n",
    "        0, # forward edge: 1, backward edge: -1\n",
    "        bpps_value, # bpps if edge is for paired nodes\n",
    "    ]\n",
    "    edge_feature2 = [\n",
    "        1, # is edge for paired nodes\n",
    "        0, # is edge between codon node and base node\n",
    "        0, # is edge between coden nodes\n",
    "        0, # forward edge: 1, backward edge: -1\n",
    "        bpps_value, # bpps if edge is for paired nodes\n",
    "    ]\n",
    "    add_edges(edge_index, edge_features, node1, node2,\n",
    "              edge_feature1, edge_feature2)\n",
    "\n",
    "def add_edges_between_codon_nodes(edge_index, edge_features, node1, node2):\n",
    "    edge_feature1 = [\n",
    "        0, # is edge for paired nodes\n",
    "        0, # is edge between codon node and base node\n",
    "        1, # is edge between coden nodes\n",
    "        1, # forward edge: 1, backward edge: -1\n",
    "        0, # bpps if edge is for paired nodes\n",
    "    ]\n",
    "    edge_feature2 = [\n",
    "        0, # is edge for paired nodes\n",
    "        0, # is edge between codon node and base node\n",
    "        1, # is edge between coden nodes\n",
    "        -1, # forward edge: 1, backward edge: -1\n",
    "        0, # bpps if edge is for paired nodes\n",
    "    ]\n",
    "    add_edges(edge_index, edge_features, node1, node2,\n",
    "              edge_feature1, edge_feature2)\n",
    "\n",
    "def add_edges_between_codon_and_base_node(edge_index, edge_features,\n",
    "                                          node1, node2):\n",
    "    edge_feature1 = [\n",
    "        0, # is edge for paired nodes\n",
    "        1, # is edge between codon node and base node\n",
    "        0, # is edge between coden nodes\n",
    "        0, # forward edge: 1, backward edge: -1\n",
    "        0, # bpps if edge is for paired nodes\n",
    "    ]\n",
    "    edge_feature2 = [\n",
    "        0, # is edge for paired nodes\n",
    "        1, # is edge between codon node and base node\n",
    "        0, # is edge between coden nodes\n",
    "        0, # forward edge: 1, backward edge: -1\n",
    "        0, # bpps if edge is for paired nodes\n",
    "    ]\n",
    "    add_edges(edge_index, edge_features, node1, node2,\n",
    "              edge_feature1, edge_feature2)\n",
    "\n",
    "def add_node(node_features, feature):\n",
    "    node_features.append(feature)\n",
    "\n",
    "def add_base_node(node_features, sequence, predicted_loop_type,\n",
    "                  bpps_sum, bpps_nb):\n",
    "    feature = [\n",
    "        0, # is codon node\n",
    "        sequence == 'A',\n",
    "        sequence == 'C',\n",
    "        sequence == 'G',\n",
    "        sequence == 'U',\n",
    "        predicted_loop_type == 'S',\n",
    "        predicted_loop_type == 'M',\n",
    "        predicted_loop_type == 'I',\n",
    "        predicted_loop_type == 'B',\n",
    "        predicted_loop_type == 'H',\n",
    "        predicted_loop_type == 'E',\n",
    "        predicted_loop_type == 'X',\n",
    "        bpps_sum,\n",
    "        bpps_nb,\n",
    "    ]\n",
    "    add_node(node_features, feature)\n",
    "\n",
    "def add_codon_node(node_features):\n",
    "    feature = [\n",
    "        1, # is codon node\n",
    "        0, # sequence == 'A',\n",
    "        0, # sequence == 'C',\n",
    "        0, # sequence == 'G',\n",
    "        0, # sequence == 'U',\n",
    "        0, # predicted_loop_type == 'S',\n",
    "        0, # predicted_loop_type == 'M',\n",
    "        0, # predicted_loop_type == 'I',\n",
    "        0, # predicted_loop_type == 'B',\n",
    "        0, # predicted_loop_type == 'H',\n",
    "        0, # predicted_loop_type == 'E',\n",
    "        0, # predicted_loop_type == 'X',\n",
    "        0, # bpps_sum\n",
    "        0, # bpps_nb\n",
    "    ]\n",
    "    add_node(node_features, feature)\n",
    "\n",
    "def build_data(df, is_train):\n",
    "    data = []\n",
    "    for i in range(len(df)):\n",
    "        targets = []\n",
    "        node_features = []\n",
    "        edge_features = []\n",
    "        edge_index = []\n",
    "        train_mask = []\n",
    "        test_mask = []\n",
    "        weights = []\n",
    "\n",
    "        id = df.loc[i, 'id']\n",
    "        path = os.path.join(bpps_top, id + '.npy')\n",
    "        bpps = np.load(path)\n",
    "        bpps_sum = bpps.sum(axis=0)\n",
    "        sequence = df.loc[i, 'sequence']\n",
    "        structure = df.loc[i, 'structure']\n",
    "        pair_info = match_pair(structure)\n",
    "        predicted_loop_type = df.loc[i, 'predicted_loop_type']\n",
    "        seq_length = df.loc[i, 'seq_length']\n",
    "        seq_scored = df.loc[i, 'seq_scored']\n",
    "        bpps_nb = (bpps > 0).sum(axis=0) / seq_length\n",
    "        bpps_nb = (bpps_nb - bpps_nb_mean) / bpps_nb_std\n",
    "        if is_train:\n",
    "            sample_weight = calc_sample_weight(df.loc[i])\n",
    "\n",
    "            reactivity = df.loc[i, 'reactivity']\n",
    "            deg_Mg_pH10 = df.loc[i, 'deg_Mg_pH10']\n",
    "            deg_pH10 = df.loc[i, 'deg_pH10']\n",
    "            deg_Mg_50C = df.loc[i, 'deg_Mg_50C']\n",
    "            deg_50C = df.loc[i, 'deg_50C']\n",
    "\n",
    "            for j in range(seq_length):\n",
    "                if j < seq_scored:\n",
    "                    targets.append([\n",
    "                        reactivity[j],\n",
    "                        deg_Mg_pH10[j],\n",
    "                        deg_pH10[j],\n",
    "                        deg_Mg_50C[j],\n",
    "                        deg_50C[j],\n",
    "                        ])\n",
    "                else:\n",
    "                    targets.append([0, 0, 0, 0, 0])\n",
    "\n",
    "        paired_nodes = {}\n",
    "        for j in range(seq_length):\n",
    "            add_base_node(node_features, sequence[j], predicted_loop_type[j],\n",
    "                          bpps_sum[j], bpps_nb[j])\n",
    "\n",
    "            if j + 1 < seq_length: # edge between current node and next node\n",
    "                add_edges_between_base_nodes(edge_index, edge_features,\n",
    "                                             j, j + 1)\n",
    "\n",
    "            if pair_info[j] != -1:\n",
    "                if pair_info[j] not in paired_nodes:\n",
    "                    paired_nodes[pair_info[j]] = [j]\n",
    "                else:\n",
    "                    paired_nodes[pair_info[j]].append(j)\n",
    "\n",
    "            train_mask.append(j < seq_scored)\n",
    "            test_mask.append(True)\n",
    "            if is_train:\n",
    "                weights.append(sample_weight)\n",
    "\n",
    "        if add_edge_for_paired_nodes:\n",
    "            for pair in paired_nodes.values():\n",
    "                bpps_value = bpps[pair[0], pair[1]]\n",
    "                add_edges_between_paired_nodes(edge_index, edge_features,\n",
    "                                               pair[0], pair[1], bpps_value)\n",
    "\n",
    "        if add_codon_nodes:\n",
    "            codon_node_idx = seq_length - 1\n",
    "            for j in range(seq_length):\n",
    "                if j % 5 == 0: \n",
    "                    # add codon node\n",
    "                    add_codon_node(node_features)\n",
    "                    codon_node_idx += 1\n",
    "                    train_mask.append(False)\n",
    "                    test_mask.append(False)\n",
    "                    if is_train:\n",
    "                        weights.append(0)\n",
    "                        targets.append([0, 0, 0, 0, 0])\n",
    "\n",
    "                    if codon_node_idx > seq_length:\n",
    "                        # add edges between adjacent codon nodes\n",
    "                        add_edges_between_codon_nodes(edge_index, edge_features,\n",
    "                                                      codon_node_idx - 1,\n",
    "                                                      codon_node_idx)\n",
    "\n",
    "                # add edges between codon node and base node\n",
    "                add_edges_between_codon_and_base_node(edge_index, edge_features,\n",
    "                                                      j, codon_node_idx)\n",
    "\n",
    "        node_features = torch.tensor(node_features, dtype=torch.float)\n",
    "        edge_index = torch.tensor(edge_index, dtype=torch.long).t().contiguous()\n",
    "        edge_features = torch.tensor(edge_features, dtype=torch.float)\n",
    "\n",
    "        if is_train:\n",
    "            data.append(MyData(x=node_features, edge_index=edge_index,\n",
    "                               edge_attr=edge_features,\n",
    "                               train_mask=torch.tensor(train_mask),\n",
    "                               weight=torch.tensor(weights, dtype=torch.float),\n",
    "                               y=torch.tensor(targets, dtype=torch.float)))\n",
    "        else:\n",
    "            data.append(MyData(x=node_features, edge_index=edge_index,\n",
    "                               edge_attr=edge_features,\n",
    "                               test_mask=torch.tensor(test_mask)))\n",
    "\n",
    "    return data\n"
   ]
  },
  {
   "cell_type": "code",
   "execution_count": 5,
   "metadata": {},
   "outputs": [],
   "source": [
    "class MapE2NxN(torch.nn.Module):\n",
    "    def __init__(self, in_channels, out_channels, hidden_channels):\n",
    "        super(MapE2NxN, self).__init__()\n",
    "        self.linear1 = Linear(in_channels, hidden_channels)\n",
    "        self.linear2 = Linear(hidden_channels, out_channels)\n",
    "        self.dropout = Dropout(dropout3)\n",
    "\n",
    "    def forward(self, x):\n",
    "        x = self.linear1(x)\n",
    "        x = self.dropout(x)\n",
    "        x = self.linear2(x)\n",
    "        return x\n",
    "\n",
    "class MyDeeperGCN(torch.nn.Module):\n",
    "    def __init__(self, num_node_features, num_edge_features,\n",
    "                 node_hidden_channels,\n",
    "                 edge_hidden_channels,\n",
    "                 num_layers, num_classes):\n",
    "        super(MyDeeperGCN, self).__init__()\n",
    "\n",
    "        #self.node_encoder = ChebConv(num_node_features, node_hidden_channels, T)\n",
    "        self.node_encoder = ARMAConv(num_node_features, node_hidden_channels, num_stacks = 4, \n",
    "                                    num_layers = 8, dropout = 0.1) # improve CV && LB\n",
    "        self.edge_encoder = Linear(num_edge_features, edge_hidden_channels)\n",
    "\n",
    "        self.layers = torch.nn.ModuleList()\n",
    "        for i in range(1, num_layers + 1):\n",
    "            conv = NNConv(node_hidden_channels, node_hidden_channels,\n",
    "                          MapE2NxN(edge_hidden_channels,\n",
    "                                   node_hidden_channels * node_hidden_channels,\n",
    "                                   hidden_channels3))\n",
    "            norm = LayerNorm(node_hidden_channels, elementwise_affine=True)\n",
    "            act = ReLU(inplace=True)\n",
    "\n",
    "            layer = DeepGCNLayer(conv, norm, act, block='res+',\n",
    "                                 dropout=dropout1, ckpt_grad=i % 3)\n",
    "            self.layers.append(layer)\n",
    "\n",
    "        self.lin = Linear(node_hidden_channels, num_classes)\n",
    "        self.dropout = Dropout(dropout2)\n",
    "\n",
    "    def forward(self, data):\n",
    "        x = data.x\n",
    "        edge_index = data.edge_index\n",
    "        edge_attr = data.edge_attr\n",
    "\n",
    "        # edge for paired nodes are excluded for encoding node\n",
    "        seq_edge_index = edge_index[:, edge_attr[:,0] == 0]\n",
    "        x = self.node_encoder(x, seq_edge_index)\n",
    "\n",
    "        edge_attr = self.edge_encoder(edge_attr)\n",
    "\n",
    "        x = self.layers[0].conv(x, edge_index, edge_attr)\n",
    "\n",
    "        for layer in self.layers[1:]:\n",
    "            x = layer(x, edge_index, edge_attr)\n",
    "\n",
    "        x = self.layers[0].act(self.layers[0].norm(x))\n",
    "        x = self.dropout(x)\n",
    "\n",
    "        return self.lin(x)\n",
    "\n",
    "def weighted_mse_loss(prds, tgts, weight):\n",
    "    return torch.mean(weight * (prds - tgts)**2)\n",
    "\n",
    "def criterion(prds, tgts, weight=None):\n",
    "    if weight is None:\n",
    "        return (torch.sqrt(torch.nn.MSELoss()(prds[:,0], tgts[:,0])) +\n",
    "                torch.sqrt(torch.nn.MSELoss()(prds[:,1], tgts[:,1])) +\n",
    "                torch.sqrt(torch.nn.MSELoss()(prds[:,2], tgts[:,2])) + \n",
    "                torch.sqrt(torch.nn.MSELoss()(prds[:,3], tgts[:,3])) + \n",
    "                torch.sqrt(torch.nn.MSELoss()(prds[:,4], tgts[:,4]))) / nlabel\n",
    "    else:\n",
    "        return (torch.sqrt(weighted_mse_loss(prds[:,0], tgts[:,0], weight)) +\n",
    "                torch.sqrt(weighted_mse_loss(prds[:,1], tgts[:,1], weight)) +\n",
    "                torch.sqrt(weighted_mse_loss(prds[:,2], tgts[:,2], weight)) +\n",
    "               torch.sqrt(weighted_mse_loss(prds[:,3], tgts[:,3], weight)) +\n",
    "               torch.sqrt(weighted_mse_loss(prds[:,4], tgts[:,4], weight))) / nlabel\n",
    "\n",
    "# def criterion(y_actual, y_pred, weight=None, num_scored=3):\n",
    "#     score = 0\n",
    "#     for i in range(num_scored):\n",
    "#         score += torch.sqrt(((y_actual[:,i]-y_pred[:,i])**2).mean(0)) / num_scored\n",
    "#     if weight is not None:\n",
    "#         score *= weight\n",
    "#     return score.mean(0)\n",
    "    \n",
    "def build_id_seqpos(df):\n",
    "    id_seqpos = []\n",
    "    for i in range(len(df)):\n",
    "        id = df.loc[i, 'id']\n",
    "        seq_length = df.loc[i, 'seq_length']\n",
    "        for seqpos in range(seq_length):\n",
    "            id_seqpos.append(id + '_' + str(seqpos))\n",
    "    return id_seqpos\n",
    "\n",
    "def sample_is_clean(row):\n",
    "    return row['SN_filter'] == 1\n",
    "    #return row['signal_to_noise'] > 1 and \\\n",
    "    #       min((min(row['reactivity']),\n",
    "    #            min(row['deg_Mg_pH10']),\n",
    "    #            min(row['deg_pH10']),\n",
    "    #            min(row['deg_Mg_50C']),\n",
    "    #            min(row['deg_50C']))) > -0.5\n",
    "\n",
    "# categorical value for target (used for stratified kfold)\n",
    "def add_y_cat(df):\n",
    "    target_mean = df['reactivity'].apply(np.mean) + \\\n",
    "                  df['deg_Mg_pH10'].apply(np.mean) + \\\n",
    "                  df['deg_pH10'].apply(np.mean) + \\\n",
    "                  df['deg_Mg_50C'].apply(np.mean) + \\\n",
    "                  df['deg_50C'].apply(np.mean)\n",
    "    df['y_cat'] = pd.qcut(np.array(target_mean), q=20).codes"
   ]
  },
  {
   "cell_type": "code",
   "execution_count": 6,
   "metadata": {},
   "outputs": [],
   "source": [
    "def seed_everything(seed):\n",
    "    torch.manual_seed(seed)\n",
    "    torch.backends.cudnn.deterministic = True\n",
    "    torch.backends.cudnn.benchmark = False\n",
    "    torch.cuda.manual_seed(seed)\n",
    "    np.random.seed(seed)\n",
    "    random.seed(seed)\n",
    "    os.environ[\"PYTHONHASHSEED\"] = str(seed)\n",
    "    # not enough ? reproducibility issue still remains\n",
    "    \n",
    "seed_everything(seed)"
   ]
  },
  {
   "cell_type": "code",
   "execution_count": 7,
   "metadata": {},
   "outputs": [],
   "source": [
    "aug_df = pd.read_csv('./aug_data1.csv')\n",
    "\n",
    "def aug_data(df):\n",
    "    target_df = df.copy()\n",
    "    new_df = aug_df[aug_df['id'].isin(target_df['id'])]\n",
    "                         \n",
    "    del target_df['structure']\n",
    "    del target_df['predicted_loop_type']\n",
    "    new_df = new_df.merge(target_df, on=['id','sequence'], how='left')\n",
    "\n",
    "    df['cnt'] = df['id'].map(new_df[['id','cnt']].set_index('id').to_dict()['cnt'])\n",
    "    df['log_gamma'] = 100\n",
    "    df['score'] = 1.0\n",
    "    df = df.append(new_df[df.columns])\n",
    "    return df"
   ]
  },
  {
   "cell_type": "code",
   "execution_count": 8,
   "metadata": {},
   "outputs": [],
   "source": [
    "token2int = {x:i for i, x in enumerate('().ACGUBEHIMSX')}\n",
    "def preprocess_inputs(df, cols=['sequence', 'structure', 'predicted_loop_type']):\n",
    "    base_fea = np.transpose(\n",
    "        np.array(\n",
    "            df[cols]\n",
    "            .applymap(lambda seq: [token2int[x] for x in seq])\n",
    "            .values\n",
    "            .tolist()\n",
    "        ),\n",
    "        (0, 2, 1)\n",
    "    )\n",
    "    bpps_sum_fea = np.array(df['bpps_sum'].to_list())[:,:,np.newaxis]\n",
    "    bpps_max_fea = np.array(df['bpps_max'].to_list())[:,:,np.newaxis]\n",
    "    bpps_nb_fea = np.array(df['bpps_nb'].to_list())[:,:,np.newaxis]\n",
    "    return np.concatenate([base_fea,bpps_sum_fea,bpps_max_fea,bpps_nb_fea], 2)\n",
    "\n",
    "# additional features\n",
    "\n",
    "def read_bpps_sum(df):\n",
    "    bpps_arr = []\n",
    "    for mol_id in df.id.to_list():\n",
    "        bpps_arr.append(np.load(f\"../OpenVaccine/bpps/{mol_id}.npy\").sum(axis=1))\n",
    "    return bpps_arr\n",
    "\n",
    "def read_bpps_max(df):\n",
    "    bpps_arr = []\n",
    "    for mol_id in df.id.to_list():\n",
    "        bpps_arr.append(np.load(f\"../OpenVaccine/bpps/{mol_id}.npy\").max(axis=1))\n",
    "    return bpps_arr\n",
    "\n",
    "def read_bpps_nb(df):\n",
    "    # from https://www.kaggle.com/tuckerarrants/openvaccine-gru-lstm \n",
    "    bpps_nb_mean = 0.077522 # mean of bpps_nb across all training data\n",
    "    bpps_nb_std = 0.08914   # std of bpps_nb across all training data\n",
    "    bpps_arr = []\n",
    "    for mol_id in df.id.to_list():\n",
    "        bpps = np.load(f\"../OpenVaccine/bpps/{mol_id}.npy\")\n",
    "        bpps_nb = (bpps > 0).sum(axis=0) / bpps.shape[0]\n",
    "        bpps_nb = (bpps_nb - bpps_nb_mean) / bpps_nb_std\n",
    "        bpps_arr.append(bpps_nb)\n",
    "    return bpps_arr "
   ]
  },
  {
   "cell_type": "code",
   "execution_count": 9,
   "metadata": {},
   "outputs": [
    {
     "name": "stdout",
     "output_type": "stream",
     "text": [
      "Reading ../OpenVaccine/train.json\n",
      "Training\n",
      "Fold 0\n"
     ]
    },
    {
     "name": "stderr",
     "output_type": "stream",
     "text": [
      "\r",
      "  0%|          | 0/240 [00:00<?, ?it/s]"
     ]
    },
    {
     "name": "stdout",
     "output_type": "stream",
     "text": [
      "Epoch 0\n"
     ]
    },
    {
     "name": "stderr",
     "output_type": "stream",
     "text": [
      "100%|██████████| 240/240 [00:48<00:00,  4.92it/s]\n",
      "100%|██████████| 40/40 [00:02<00:00, 15.38it/s]\n",
      "  0%|          | 0/240 [00:00<?, ?it/s]"
     ]
    },
    {
     "name": "stdout",
     "output_type": "stream",
     "text": [
      "Train Loss: 0.3954 ---- Valid Loss: 0.3072 ---- Valid MCRMSE: 0.3084\n",
      "Best valid MCRMSE updated to 0.30841872096061707\n",
      "Epoch 1\n"
     ]
    },
    {
     "name": "stderr",
     "output_type": "stream",
     "text": [
      "100%|██████████| 240/240 [00:49<00:00,  4.90it/s]\n",
      "100%|██████████| 40/40 [00:02<00:00, 15.27it/s]\n",
      "  0%|          | 0/240 [00:00<?, ?it/s]"
     ]
    },
    {
     "name": "stdout",
     "output_type": "stream",
     "text": [
      "Train Loss: 0.3406 ---- Valid Loss: 0.2789 ---- Valid MCRMSE: 0.2803\n",
      "Best valid MCRMSE updated to 0.2802569568157196\n",
      "Epoch 2\n"
     ]
    },
    {
     "name": "stderr",
     "output_type": "stream",
     "text": [
      "100%|██████████| 240/240 [00:49<00:00,  4.87it/s]\n",
      "100%|██████████| 40/40 [00:02<00:00, 15.19it/s]\n",
      "  0%|          | 0/240 [00:00<?, ?it/s]"
     ]
    },
    {
     "name": "stdout",
     "output_type": "stream",
     "text": [
      "Train Loss: 0.3212 ---- Valid Loss: 0.2675 ---- Valid MCRMSE: 0.2686\n",
      "Best valid MCRMSE updated to 0.2686086893081665\n",
      "Epoch 3\n"
     ]
    },
    {
     "name": "stderr",
     "output_type": "stream",
     "text": [
      "100%|██████████| 240/240 [00:49<00:00,  4.88it/s]\n",
      "100%|██████████| 40/40 [00:02<00:00, 14.95it/s]\n",
      "  0%|          | 0/240 [00:00<?, ?it/s]"
     ]
    },
    {
     "name": "stdout",
     "output_type": "stream",
     "text": [
      "Train Loss: 0.3069 ---- Valid Loss: 0.2515 ---- Valid MCRMSE: 0.2530\n",
      "Best valid MCRMSE updated to 0.2530245780944824\n",
      "Epoch 4\n"
     ]
    },
    {
     "name": "stderr",
     "output_type": "stream",
     "text": [
      "100%|██████████| 240/240 [00:49<00:00,  4.84it/s]\n",
      "100%|██████████| 40/40 [00:02<00:00, 15.03it/s]\n",
      "  0%|          | 0/240 [00:00<?, ?it/s]"
     ]
    },
    {
     "name": "stdout",
     "output_type": "stream",
     "text": [
      "Train Loss: 0.2986 ---- Valid Loss: 0.2423 ---- Valid MCRMSE: 0.2437\n",
      "Best valid MCRMSE updated to 0.243675097823143\n",
      "Epoch 5\n"
     ]
    },
    {
     "name": "stderr",
     "output_type": "stream",
     "text": [
      "100%|██████████| 240/240 [00:49<00:00,  4.86it/s]\n",
      "100%|██████████| 40/40 [00:02<00:00, 15.16it/s]\n",
      "  0%|          | 0/240 [00:00<?, ?it/s]"
     ]
    },
    {
     "name": "stdout",
     "output_type": "stream",
     "text": [
      "Train Loss: 0.2938 ---- Valid Loss: 0.2416 ---- Valid MCRMSE: 0.2430\n",
      "Best valid MCRMSE updated to 0.24297800660133362\n",
      "Epoch 6\n"
     ]
    },
    {
     "name": "stderr",
     "output_type": "stream",
     "text": [
      "100%|██████████| 240/240 [00:49<00:00,  4.86it/s]\n",
      "100%|██████████| 40/40 [00:02<00:00, 14.96it/s]\n",
      "  0%|          | 0/240 [00:00<?, ?it/s]"
     ]
    },
    {
     "name": "stdout",
     "output_type": "stream",
     "text": [
      "Train Loss: 0.2889 ---- Valid Loss: 0.2414 ---- Valid MCRMSE: 0.2429\n",
      "Best valid MCRMSE updated to 0.24287734925746918\n",
      "Epoch 7\n"
     ]
    },
    {
     "name": "stderr",
     "output_type": "stream",
     "text": [
      "100%|██████████| 240/240 [00:49<00:00,  4.84it/s]\n",
      "100%|██████████| 40/40 [00:02<00:00, 15.01it/s]\n",
      "  0%|          | 0/240 [00:00<?, ?it/s]"
     ]
    },
    {
     "name": "stdout",
     "output_type": "stream",
     "text": [
      "Train Loss: 0.2861 ---- Valid Loss: 0.2347 ---- Valid MCRMSE: 0.2361\n",
      "Best valid MCRMSE updated to 0.236059308052063\n",
      "Epoch 8\n"
     ]
    },
    {
     "name": "stderr",
     "output_type": "stream",
     "text": [
      "100%|██████████| 240/240 [00:49<00:00,  4.86it/s]\n",
      "100%|██████████| 40/40 [00:02<00:00, 15.16it/s]\n",
      "  0%|          | 0/240 [00:00<?, ?it/s]"
     ]
    },
    {
     "name": "stdout",
     "output_type": "stream",
     "text": [
      "Train Loss: 0.2816 ---- Valid Loss: 0.2299 ---- Valid MCRMSE: 0.2313\n",
      "Best valid MCRMSE updated to 0.2313002645969391\n",
      "Epoch 9\n"
     ]
    },
    {
     "name": "stderr",
     "output_type": "stream",
     "text": [
      "100%|██████████| 240/240 [00:49<00:00,  4.84it/s]\n",
      "100%|██████████| 40/40 [00:02<00:00, 14.91it/s]\n",
      "  0%|          | 0/240 [00:00<?, ?it/s]"
     ]
    },
    {
     "name": "stdout",
     "output_type": "stream",
     "text": [
      "Train Loss: 0.2785 ---- Valid Loss: 0.2270 ---- Valid MCRMSE: 0.2285\n",
      "Best valid MCRMSE updated to 0.2284565418958664\n",
      "Epoch 10\n"
     ]
    },
    {
     "name": "stderr",
     "output_type": "stream",
     "text": [
      "100%|██████████| 240/240 [00:49<00:00,  4.83it/s]\n",
      "100%|██████████| 40/40 [00:02<00:00, 14.93it/s]\n",
      "  0%|          | 0/240 [00:00<?, ?it/s]"
     ]
    },
    {
     "name": "stdout",
     "output_type": "stream",
     "text": [
      "Train Loss: 0.2765 ---- Valid Loss: 0.2259 ---- Valid MCRMSE: 0.2272\n",
      "Best valid MCRMSE updated to 0.2272268384695053\n",
      "Epoch 11\n"
     ]
    },
    {
     "name": "stderr",
     "output_type": "stream",
     "text": [
      "100%|██████████| 240/240 [00:49<00:00,  4.86it/s]\n",
      "100%|██████████| 40/40 [00:02<00:00, 14.93it/s]\n",
      "  0%|          | 0/240 [00:00<?, ?it/s]"
     ]
    },
    {
     "name": "stdout",
     "output_type": "stream",
     "text": [
      "Train Loss: 0.2741 ---- Valid Loss: 0.2268 ---- Valid MCRMSE: 0.2281\n",
      "Epoch 12\n"
     ]
    },
    {
     "name": "stderr",
     "output_type": "stream",
     "text": [
      "100%|██████████| 240/240 [00:49<00:00,  4.83it/s]\n",
      "100%|██████████| 40/40 [00:02<00:00, 15.00it/s]\n",
      "  0%|          | 0/240 [00:00<?, ?it/s]"
     ]
    },
    {
     "name": "stdout",
     "output_type": "stream",
     "text": [
      "Train Loss: 0.2711 ---- Valid Loss: 0.2216 ---- Valid MCRMSE: 0.2228\n",
      "Best valid MCRMSE updated to 0.22281546890735626\n",
      "Epoch 13\n"
     ]
    },
    {
     "name": "stderr",
     "output_type": "stream",
     "text": [
      "100%|██████████| 240/240 [00:49<00:00,  4.84it/s]\n",
      "100%|██████████| 40/40 [00:02<00:00, 15.22it/s]\n",
      "  0%|          | 0/240 [00:00<?, ?it/s]"
     ]
    },
    {
     "name": "stdout",
     "output_type": "stream",
     "text": [
      "Train Loss: 0.2693 ---- Valid Loss: 0.2173 ---- Valid MCRMSE: 0.2187\n",
      "Best valid MCRMSE updated to 0.21865461766719818\n",
      "Epoch 14\n"
     ]
    },
    {
     "name": "stderr",
     "output_type": "stream",
     "text": [
      "100%|██████████| 240/240 [00:49<00:00,  4.84it/s]\n",
      "100%|██████████| 40/40 [00:02<00:00, 15.13it/s]\n",
      "  0%|          | 0/240 [00:00<?, ?it/s]"
     ]
    },
    {
     "name": "stdout",
     "output_type": "stream",
     "text": [
      "Train Loss: 0.2668 ---- Valid Loss: 0.2164 ---- Valid MCRMSE: 0.2178\n",
      "Best valid MCRMSE updated to 0.21778063476085663\n",
      "Epoch 15\n"
     ]
    },
    {
     "name": "stderr",
     "output_type": "stream",
     "text": [
      "100%|██████████| 240/240 [00:49<00:00,  4.82it/s]\n",
      "100%|██████████| 40/40 [00:02<00:00, 15.11it/s]\n",
      "  0%|          | 0/240 [00:00<?, ?it/s]"
     ]
    },
    {
     "name": "stdout",
     "output_type": "stream",
     "text": [
      "Train Loss: 0.2652 ---- Valid Loss: 0.2134 ---- Valid MCRMSE: 0.2147\n",
      "Best valid MCRMSE updated to 0.21469254791736603\n",
      "Epoch 16\n"
     ]
    },
    {
     "name": "stderr",
     "output_type": "stream",
     "text": [
      "100%|██████████| 240/240 [00:49<00:00,  4.88it/s]\n",
      "100%|██████████| 40/40 [00:02<00:00, 15.22it/s]\n",
      "  0%|          | 0/240 [00:00<?, ?it/s]"
     ]
    },
    {
     "name": "stdout",
     "output_type": "stream",
     "text": [
      "Train Loss: 0.2630 ---- Valid Loss: 0.2113 ---- Valid MCRMSE: 0.2125\n",
      "Best valid MCRMSE updated to 0.21247437596321106\n",
      "Epoch 17\n"
     ]
    },
    {
     "name": "stderr",
     "output_type": "stream",
     "text": [
      "100%|██████████| 240/240 [00:49<00:00,  4.82it/s]\n",
      "100%|██████████| 40/40 [00:02<00:00, 15.01it/s]\n",
      "  0%|          | 0/240 [00:00<?, ?it/s]"
     ]
    },
    {
     "name": "stdout",
     "output_type": "stream",
     "text": [
      "Train Loss: 0.2611 ---- Valid Loss: 0.2108 ---- Valid MCRMSE: 0.2120\n",
      "Best valid MCRMSE updated to 0.21202223002910614\n",
      "Epoch 18\n"
     ]
    },
    {
     "name": "stderr",
     "output_type": "stream",
     "text": [
      "100%|██████████| 240/240 [00:49<00:00,  4.82it/s]\n",
      "100%|██████████| 40/40 [00:02<00:00, 14.88it/s]\n",
      "  0%|          | 0/240 [00:00<?, ?it/s]"
     ]
    },
    {
     "name": "stdout",
     "output_type": "stream",
     "text": [
      "Train Loss: 0.2598 ---- Valid Loss: 0.2093 ---- Valid MCRMSE: 0.2104\n",
      "Best valid MCRMSE updated to 0.21041841804981232\n",
      "Epoch 19\n"
     ]
    },
    {
     "name": "stderr",
     "output_type": "stream",
     "text": [
      "100%|██████████| 240/240 [00:49<00:00,  4.85it/s]\n",
      "100%|██████████| 40/40 [00:02<00:00, 14.95it/s]\n",
      "  0%|          | 0/240 [00:00<?, ?it/s]"
     ]
    },
    {
     "name": "stdout",
     "output_type": "stream",
     "text": [
      "Train Loss: 0.2588 ---- Valid Loss: 0.2076 ---- Valid MCRMSE: 0.2088\n",
      "Best valid MCRMSE updated to 0.20881445705890656\n",
      "Epoch 20\n"
     ]
    },
    {
     "name": "stderr",
     "output_type": "stream",
     "text": [
      "100%|██████████| 240/240 [00:49<00:00,  4.87it/s]\n",
      "100%|██████████| 40/40 [00:02<00:00, 15.04it/s]\n",
      "  0%|          | 0/240 [00:00<?, ?it/s]"
     ]
    },
    {
     "name": "stdout",
     "output_type": "stream",
     "text": [
      "Train Loss: 0.2568 ---- Valid Loss: 0.2078 ---- Valid MCRMSE: 0.2090\n",
      "Epoch 21\n"
     ]
    },
    {
     "name": "stderr",
     "output_type": "stream",
     "text": [
      "100%|██████████| 240/240 [00:49<00:00,  4.82it/s]\n",
      "100%|██████████| 40/40 [00:02<00:00, 15.18it/s]\n",
      "  0%|          | 0/240 [00:00<?, ?it/s]"
     ]
    },
    {
     "name": "stdout",
     "output_type": "stream",
     "text": [
      "Train Loss: 0.2563 ---- Valid Loss: 0.2069 ---- Valid MCRMSE: 0.2080\n",
      "Best valid MCRMSE updated to 0.20799434185028076\n",
      "Epoch 22\n"
     ]
    },
    {
     "name": "stderr",
     "output_type": "stream",
     "text": [
      "100%|██████████| 240/240 [00:49<00:00,  4.84it/s]\n",
      "100%|██████████| 40/40 [00:02<00:00, 14.88it/s]\n",
      "  0%|          | 0/240 [00:00<?, ?it/s]"
     ]
    },
    {
     "name": "stdout",
     "output_type": "stream",
     "text": [
      "Train Loss: 0.2528 ---- Valid Loss: 0.2048 ---- Valid MCRMSE: 0.2059\n",
      "Best valid MCRMSE updated to 0.20591537654399872\n",
      "Epoch 23\n"
     ]
    },
    {
     "name": "stderr",
     "output_type": "stream",
     "text": [
      "100%|██████████| 240/240 [00:49<00:00,  4.84it/s]\n",
      "100%|██████████| 40/40 [00:02<00:00, 15.30it/s]\n",
      "  0%|          | 0/240 [00:00<?, ?it/s]"
     ]
    },
    {
     "name": "stdout",
     "output_type": "stream",
     "text": [
      "Train Loss: 0.2519 ---- Valid Loss: 0.2008 ---- Valid MCRMSE: 0.2020\n",
      "Best valid MCRMSE updated to 0.20195436477661133\n",
      "Epoch 24\n"
     ]
    },
    {
     "name": "stderr",
     "output_type": "stream",
     "text": [
      "100%|██████████| 240/240 [00:49<00:00,  4.84it/s]\n",
      "100%|██████████| 40/40 [00:02<00:00, 14.94it/s]\n",
      "  0%|          | 0/240 [00:00<?, ?it/s]"
     ]
    },
    {
     "name": "stdout",
     "output_type": "stream",
     "text": [
      "Train Loss: 0.2503 ---- Valid Loss: 0.2025 ---- Valid MCRMSE: 0.2036\n",
      "Epoch 25\n"
     ]
    },
    {
     "name": "stderr",
     "output_type": "stream",
     "text": [
      "100%|██████████| 240/240 [00:49<00:00,  4.86it/s]\n",
      "100%|██████████| 40/40 [00:02<00:00, 15.18it/s]\n",
      "  0%|          | 0/240 [00:00<?, ?it/s]"
     ]
    },
    {
     "name": "stdout",
     "output_type": "stream",
     "text": [
      "Train Loss: 0.2497 ---- Valid Loss: 0.2036 ---- Valid MCRMSE: 0.2047\n",
      "Epoch 26\n"
     ]
    },
    {
     "name": "stderr",
     "output_type": "stream",
     "text": [
      "100%|██████████| 240/240 [00:49<00:00,  4.84it/s]\n",
      "100%|██████████| 40/40 [00:02<00:00, 15.05it/s]\n",
      "  0%|          | 0/240 [00:00<?, ?it/s]"
     ]
    },
    {
     "name": "stdout",
     "output_type": "stream",
     "text": [
      "Train Loss: 0.2497 ---- Valid Loss: 0.2032 ---- Valid MCRMSE: 0.2042\n",
      "Epoch 27\n"
     ]
    },
    {
     "name": "stderr",
     "output_type": "stream",
     "text": [
      "100%|██████████| 240/240 [00:49<00:00,  4.86it/s]\n",
      "100%|██████████| 40/40 [00:02<00:00, 15.25it/s]\n",
      "  0%|          | 0/240 [00:00<?, ?it/s]"
     ]
    },
    {
     "name": "stdout",
     "output_type": "stream",
     "text": [
      "Train Loss: 0.2479 ---- Valid Loss: 0.1984 ---- Valid MCRMSE: 0.1995\n",
      "Best valid MCRMSE updated to 0.19951525330543518\n",
      "Epoch 28\n"
     ]
    },
    {
     "name": "stderr",
     "output_type": "stream",
     "text": [
      "100%|██████████| 240/240 [00:49<00:00,  4.84it/s]\n",
      "100%|██████████| 40/40 [00:02<00:00, 14.97it/s]\n",
      "  0%|          | 0/240 [00:00<?, ?it/s]"
     ]
    },
    {
     "name": "stdout",
     "output_type": "stream",
     "text": [
      "Train Loss: 0.2456 ---- Valid Loss: 0.1972 ---- Valid MCRMSE: 0.1983\n",
      "Best valid MCRMSE updated to 0.19833171367645264\n",
      "Epoch 29\n"
     ]
    },
    {
     "name": "stderr",
     "output_type": "stream",
     "text": [
      "100%|██████████| 240/240 [00:49<00:00,  4.84it/s]\n",
      "100%|██████████| 40/40 [00:02<00:00, 14.93it/s]\n",
      "  0%|          | 0/240 [00:00<?, ?it/s]"
     ]
    },
    {
     "name": "stdout",
     "output_type": "stream",
     "text": [
      "Train Loss: 0.2459 ---- Valid Loss: 0.1976 ---- Valid MCRMSE: 0.1988\n",
      "Epoch 30\n"
     ]
    },
    {
     "name": "stderr",
     "output_type": "stream",
     "text": [
      "100%|██████████| 240/240 [00:49<00:00,  4.87it/s]\n",
      "100%|██████████| 40/40 [00:02<00:00, 14.98it/s]\n",
      "  0%|          | 0/240 [00:00<?, ?it/s]"
     ]
    },
    {
     "name": "stdout",
     "output_type": "stream",
     "text": [
      "Train Loss: 0.2446 ---- Valid Loss: 0.1965 ---- Valid MCRMSE: 0.1976\n",
      "Best valid MCRMSE updated to 0.19760648906230927\n",
      "Epoch 31\n"
     ]
    },
    {
     "name": "stderr",
     "output_type": "stream",
     "text": [
      "100%|██████████| 240/240 [00:49<00:00,  4.80it/s]\n",
      "100%|██████████| 40/40 [00:02<00:00, 15.04it/s]\n",
      "  0%|          | 0/240 [00:00<?, ?it/s]"
     ]
    },
    {
     "name": "stdout",
     "output_type": "stream",
     "text": [
      "Train Loss: 0.2437 ---- Valid Loss: 0.1963 ---- Valid MCRMSE: 0.1973\n",
      "Best valid MCRMSE updated to 0.19727550446987152\n",
      "Epoch 32\n"
     ]
    },
    {
     "name": "stderr",
     "output_type": "stream",
     "text": [
      "100%|██████████| 240/240 [00:49<00:00,  4.88it/s]\n",
      "100%|██████████| 40/40 [00:02<00:00, 15.17it/s]\n",
      "  0%|          | 0/240 [00:00<?, ?it/s]"
     ]
    },
    {
     "name": "stdout",
     "output_type": "stream",
     "text": [
      "Train Loss: 0.2418 ---- Valid Loss: 0.1940 ---- Valid MCRMSE: 0.1951\n",
      "Best valid MCRMSE updated to 0.19513730704784393\n",
      "Epoch 33\n"
     ]
    },
    {
     "name": "stderr",
     "output_type": "stream",
     "text": [
      "100%|██████████| 240/240 [00:49<00:00,  4.82it/s]\n",
      "100%|██████████| 40/40 [00:02<00:00, 15.29it/s]\n",
      "  0%|          | 0/240 [00:00<?, ?it/s]"
     ]
    },
    {
     "name": "stdout",
     "output_type": "stream",
     "text": [
      "Train Loss: 0.2419 ---- Valid Loss: 0.1950 ---- Valid MCRMSE: 0.1960\n",
      "Epoch 34\n"
     ]
    },
    {
     "name": "stderr",
     "output_type": "stream",
     "text": [
      "100%|██████████| 240/240 [00:49<00:00,  4.86it/s]\n",
      "100%|██████████| 40/40 [00:02<00:00, 15.25it/s]\n",
      "  0%|          | 0/240 [00:00<?, ?it/s]"
     ]
    },
    {
     "name": "stdout",
     "output_type": "stream",
     "text": [
      "Train Loss: 0.2417 ---- Valid Loss: 0.1941 ---- Valid MCRMSE: 0.1952\n",
      "Epoch 35\n"
     ]
    },
    {
     "name": "stderr",
     "output_type": "stream",
     "text": [
      "100%|██████████| 240/240 [00:49<00:00,  4.86it/s]\n",
      "100%|██████████| 40/40 [00:02<00:00, 15.26it/s]\n",
      "  0%|          | 0/240 [00:00<?, ?it/s]"
     ]
    },
    {
     "name": "stdout",
     "output_type": "stream",
     "text": [
      "Train Loss: 0.2411 ---- Valid Loss: 0.1931 ---- Valid MCRMSE: 0.1942\n",
      "Best valid MCRMSE updated to 0.19423216581344604\n",
      "Epoch 36\n"
     ]
    },
    {
     "name": "stderr",
     "output_type": "stream",
     "text": [
      "100%|██████████| 240/240 [00:49<00:00,  4.88it/s]\n",
      "100%|██████████| 40/40 [00:02<00:00, 14.89it/s]\n",
      "  0%|          | 0/240 [00:00<?, ?it/s]"
     ]
    },
    {
     "name": "stdout",
     "output_type": "stream",
     "text": [
      "Train Loss: 0.2390 ---- Valid Loss: 0.1911 ---- Valid MCRMSE: 0.1922\n",
      "Best valid MCRMSE updated to 0.19223852455615997\n",
      "Epoch 37\n"
     ]
    },
    {
     "name": "stderr",
     "output_type": "stream",
     "text": [
      "100%|██████████| 240/240 [00:50<00:00,  4.79it/s]\n",
      "100%|██████████| 40/40 [00:02<00:00, 14.81it/s]\n",
      "  0%|          | 0/240 [00:00<?, ?it/s]"
     ]
    },
    {
     "name": "stdout",
     "output_type": "stream",
     "text": [
      "Train Loss: 0.2383 ---- Valid Loss: 0.1923 ---- Valid MCRMSE: 0.1935\n",
      "Epoch 38\n"
     ]
    },
    {
     "name": "stderr",
     "output_type": "stream",
     "text": [
      "100%|██████████| 240/240 [00:49<00:00,  4.86it/s]\n",
      "100%|██████████| 40/40 [00:02<00:00, 14.95it/s]\n",
      "  0%|          | 0/240 [00:00<?, ?it/s]"
     ]
    },
    {
     "name": "stdout",
     "output_type": "stream",
     "text": [
      "Train Loss: 0.2384 ---- Valid Loss: 0.1918 ---- Valid MCRMSE: 0.1930\n",
      "Epoch 39\n"
     ]
    },
    {
     "name": "stderr",
     "output_type": "stream",
     "text": [
      "100%|██████████| 240/240 [00:49<00:00,  4.86it/s]\n",
      "100%|██████████| 40/40 [00:02<00:00, 15.25it/s]\n",
      "  0%|          | 0/240 [00:00<?, ?it/s]"
     ]
    },
    {
     "name": "stdout",
     "output_type": "stream",
     "text": [
      "Train Loss: 0.2362 ---- Valid Loss: 0.1894 ---- Valid MCRMSE: 0.1906\n",
      "Best valid MCRMSE updated to 0.19059130549430847\n",
      "Epoch 40\n"
     ]
    },
    {
     "name": "stderr",
     "output_type": "stream",
     "text": [
      "100%|██████████| 240/240 [00:49<00:00,  4.84it/s]\n",
      "100%|██████████| 40/40 [00:02<00:00, 14.94it/s]\n",
      "  0%|          | 0/240 [00:00<?, ?it/s]"
     ]
    },
    {
     "name": "stdout",
     "output_type": "stream",
     "text": [
      "Train Loss: 0.2364 ---- Valid Loss: 0.1895 ---- Valid MCRMSE: 0.1907\n",
      "Epoch 41\n"
     ]
    },
    {
     "name": "stderr",
     "output_type": "stream",
     "text": [
      "100%|██████████| 240/240 [00:49<00:00,  4.86it/s]\n",
      "100%|██████████| 40/40 [00:02<00:00, 15.22it/s]\n",
      "  0%|          | 0/240 [00:00<?, ?it/s]"
     ]
    },
    {
     "name": "stdout",
     "output_type": "stream",
     "text": [
      "Train Loss: 0.2353 ---- Valid Loss: 0.1907 ---- Valid MCRMSE: 0.1919\n",
      "Epoch 42\n"
     ]
    },
    {
     "name": "stderr",
     "output_type": "stream",
     "text": [
      "100%|██████████| 240/240 [00:49<00:00,  4.86it/s]\n",
      "100%|██████████| 40/40 [00:02<00:00, 14.77it/s]\n",
      "  0%|          | 0/240 [00:00<?, ?it/s]"
     ]
    },
    {
     "name": "stdout",
     "output_type": "stream",
     "text": [
      "Train Loss: 0.2352 ---- Valid Loss: 0.1880 ---- Valid MCRMSE: 0.1892\n",
      "Best valid MCRMSE updated to 0.1891748011112213\n",
      "Epoch 43\n"
     ]
    },
    {
     "name": "stderr",
     "output_type": "stream",
     "text": [
      "100%|██████████| 240/240 [00:49<00:00,  4.83it/s]\n",
      "100%|██████████| 40/40 [00:02<00:00, 14.92it/s]\n",
      "  0%|          | 0/240 [00:00<?, ?it/s]"
     ]
    },
    {
     "name": "stdout",
     "output_type": "stream",
     "text": [
      "Train Loss: 0.2354 ---- Valid Loss: 0.1896 ---- Valid MCRMSE: 0.1908\n",
      "Epoch 44\n"
     ]
    },
    {
     "name": "stderr",
     "output_type": "stream",
     "text": [
      "100%|██████████| 240/240 [00:49<00:00,  4.83it/s]\n",
      "100%|██████████| 40/40 [00:02<00:00, 14.93it/s]\n",
      "  0%|          | 0/240 [00:00<?, ?it/s]"
     ]
    },
    {
     "name": "stdout",
     "output_type": "stream",
     "text": [
      "Train Loss: 0.2349 ---- Valid Loss: 0.1878 ---- Valid MCRMSE: 0.1889\n",
      "Best valid MCRMSE updated to 0.18890738487243652\n",
      "Epoch 45\n"
     ]
    },
    {
     "name": "stderr",
     "output_type": "stream",
     "text": [
      "100%|██████████| 240/240 [00:49<00:00,  4.88it/s]\n",
      "100%|██████████| 40/40 [00:02<00:00, 15.20it/s]\n",
      "  0%|          | 0/240 [00:00<?, ?it/s]"
     ]
    },
    {
     "name": "stdout",
     "output_type": "stream",
     "text": [
      "Train Loss: 0.2333 ---- Valid Loss: 0.1871 ---- Valid MCRMSE: 0.1882\n",
      "Best valid MCRMSE updated to 0.18819166719913483\n",
      "Epoch 46\n"
     ]
    },
    {
     "name": "stderr",
     "output_type": "stream",
     "text": [
      "100%|██████████| 240/240 [00:49<00:00,  4.84it/s]\n",
      "100%|██████████| 40/40 [00:02<00:00, 15.14it/s]\n",
      "  0%|          | 0/240 [00:00<?, ?it/s]"
     ]
    },
    {
     "name": "stdout",
     "output_type": "stream",
     "text": [
      "Train Loss: 0.2321 ---- Valid Loss: 0.1862 ---- Valid MCRMSE: 0.1874\n",
      "Best valid MCRMSE updated to 0.1873728185892105\n",
      "Epoch 47\n"
     ]
    },
    {
     "name": "stderr",
     "output_type": "stream",
     "text": [
      "100%|██████████| 240/240 [00:49<00:00,  4.84it/s]\n",
      "100%|██████████| 40/40 [00:02<00:00, 14.91it/s]\n",
      "  0%|          | 0/240 [00:00<?, ?it/s]"
     ]
    },
    {
     "name": "stdout",
     "output_type": "stream",
     "text": [
      "Train Loss: 0.2348 ---- Valid Loss: 0.1907 ---- Valid MCRMSE: 0.1920\n",
      "Epoch 48\n"
     ]
    },
    {
     "name": "stderr",
     "output_type": "stream",
     "text": [
      "100%|██████████| 240/240 [00:49<00:00,  4.87it/s]\n",
      "100%|██████████| 40/40 [00:02<00:00, 15.18it/s]\n",
      "  0%|          | 0/240 [00:00<?, ?it/s]"
     ]
    },
    {
     "name": "stdout",
     "output_type": "stream",
     "text": [
      "Train Loss: 0.2325 ---- Valid Loss: 0.1862 ---- Valid MCRMSE: 0.1874\n",
      "Epoch 49\n"
     ]
    },
    {
     "name": "stderr",
     "output_type": "stream",
     "text": [
      "100%|██████████| 240/240 [00:49<00:00,  4.88it/s]\n",
      "100%|██████████| 40/40 [00:02<00:00, 15.26it/s]\n",
      "  0%|          | 0/240 [00:00<?, ?it/s]"
     ]
    },
    {
     "name": "stdout",
     "output_type": "stream",
     "text": [
      "Train Loss: 0.2301 ---- Valid Loss: 0.1875 ---- Valid MCRMSE: 0.1886\n",
      "Epoch 50\n"
     ]
    },
    {
     "name": "stderr",
     "output_type": "stream",
     "text": [
      "100%|██████████| 240/240 [00:49<00:00,  4.82it/s]\n",
      "100%|██████████| 40/40 [00:02<00:00, 14.92it/s]\n",
      "  0%|          | 0/240 [00:00<?, ?it/s]"
     ]
    },
    {
     "name": "stdout",
     "output_type": "stream",
     "text": [
      "Train Loss: 0.2301 ---- Valid Loss: 0.1851 ---- Valid MCRMSE: 0.1862\n",
      "Best valid MCRMSE updated to 0.18624456226825714\n",
      "Epoch 51\n"
     ]
    },
    {
     "name": "stderr",
     "output_type": "stream",
     "text": [
      "100%|██████████| 240/240 [00:49<00:00,  4.84it/s]\n",
      "100%|██████████| 40/40 [00:02<00:00, 15.20it/s]\n",
      "  0%|          | 0/240 [00:00<?, ?it/s]"
     ]
    },
    {
     "name": "stdout",
     "output_type": "stream",
     "text": [
      "Train Loss: 0.2288 ---- Valid Loss: 0.1833 ---- Valid MCRMSE: 0.1845\n",
      "Best valid MCRMSE updated to 0.18445008993148804\n",
      "Epoch 52\n"
     ]
    },
    {
     "name": "stderr",
     "output_type": "stream",
     "text": [
      "100%|██████████| 240/240 [00:49<00:00,  4.84it/s]\n",
      "100%|██████████| 40/40 [00:02<00:00, 14.93it/s]\n",
      "  0%|          | 0/240 [00:00<?, ?it/s]"
     ]
    },
    {
     "name": "stdout",
     "output_type": "stream",
     "text": [
      "Train Loss: 0.2274 ---- Valid Loss: 0.1848 ---- Valid MCRMSE: 0.1859\n",
      "Epoch 53\n"
     ]
    },
    {
     "name": "stderr",
     "output_type": "stream",
     "text": [
      "100%|██████████| 240/240 [00:49<00:00,  4.86it/s]\n",
      "100%|██████████| 40/40 [00:02<00:00, 15.23it/s]\n",
      "  0%|          | 0/240 [00:00<?, ?it/s]"
     ]
    },
    {
     "name": "stdout",
     "output_type": "stream",
     "text": [
      "Train Loss: 0.2296 ---- Valid Loss: 0.1845 ---- Valid MCRMSE: 0.1857\n",
      "Epoch 54\n"
     ]
    },
    {
     "name": "stderr",
     "output_type": "stream",
     "text": [
      "100%|██████████| 240/240 [00:49<00:00,  4.81it/s]\n",
      "100%|██████████| 40/40 [00:02<00:00, 14.81it/s]\n",
      "  0%|          | 0/240 [00:00<?, ?it/s]"
     ]
    },
    {
     "name": "stdout",
     "output_type": "stream",
     "text": [
      "Train Loss: 0.2278 ---- Valid Loss: 0.1851 ---- Valid MCRMSE: 0.1862\n",
      "Epoch 55\n"
     ]
    },
    {
     "name": "stderr",
     "output_type": "stream",
     "text": [
      "100%|██████████| 240/240 [00:49<00:00,  4.88it/s]\n",
      "100%|██████████| 40/40 [00:02<00:00, 15.18it/s]\n",
      "  0%|          | 0/240 [00:00<?, ?it/s]"
     ]
    },
    {
     "name": "stdout",
     "output_type": "stream",
     "text": [
      "Train Loss: 0.2274 ---- Valid Loss: 0.1829 ---- Valid MCRMSE: 0.1840\n",
      "Best valid MCRMSE updated to 0.18402113020420074\n",
      "Epoch 56\n"
     ]
    },
    {
     "name": "stderr",
     "output_type": "stream",
     "text": [
      "100%|██████████| 240/240 [00:49<00:00,  4.82it/s]\n",
      "100%|██████████| 40/40 [00:02<00:00, 15.21it/s]\n",
      "  0%|          | 0/240 [00:00<?, ?it/s]"
     ]
    },
    {
     "name": "stdout",
     "output_type": "stream",
     "text": [
      "Train Loss: 0.2248 ---- Valid Loss: 0.1834 ---- Valid MCRMSE: 0.1846\n",
      "Epoch 57\n"
     ]
    },
    {
     "name": "stderr",
     "output_type": "stream",
     "text": [
      "100%|██████████| 240/240 [00:49<00:00,  4.86it/s]\n",
      "100%|██████████| 40/40 [00:02<00:00, 15.10it/s]\n",
      "  0%|          | 0/240 [00:00<?, ?it/s]"
     ]
    },
    {
     "name": "stdout",
     "output_type": "stream",
     "text": [
      "Train Loss: 0.2267 ---- Valid Loss: 0.1839 ---- Valid MCRMSE: 0.1850\n",
      "Epoch 58\n"
     ]
    },
    {
     "name": "stderr",
     "output_type": "stream",
     "text": [
      "100%|██████████| 240/240 [00:49<00:00,  4.84it/s]\n",
      "100%|██████████| 40/40 [00:02<00:00, 15.06it/s]\n",
      "  0%|          | 0/240 [00:00<?, ?it/s]"
     ]
    },
    {
     "name": "stdout",
     "output_type": "stream",
     "text": [
      "Train Loss: 0.2263 ---- Valid Loss: 0.1831 ---- Valid MCRMSE: 0.1843\n",
      "Epoch 59\n"
     ]
    },
    {
     "name": "stderr",
     "output_type": "stream",
     "text": [
      "100%|██████████| 240/240 [00:49<00:00,  4.82it/s]\n",
      "100%|██████████| 40/40 [00:02<00:00, 15.29it/s]\n",
      "  0%|          | 0/240 [00:00<?, ?it/s]"
     ]
    },
    {
     "name": "stdout",
     "output_type": "stream",
     "text": [
      "Train Loss: 0.2255 ---- Valid Loss: 0.1823 ---- Valid MCRMSE: 0.1835\n",
      "Best valid MCRMSE updated to 0.18352161347866058\n",
      "Epoch 60\n"
     ]
    },
    {
     "name": "stderr",
     "output_type": "stream",
     "text": [
      "100%|██████████| 240/240 [00:49<00:00,  4.88it/s]\n",
      "100%|██████████| 40/40 [00:02<00:00, 15.15it/s]\n",
      "  0%|          | 0/240 [00:00<?, ?it/s]"
     ]
    },
    {
     "name": "stdout",
     "output_type": "stream",
     "text": [
      "Train Loss: 0.2243 ---- Valid Loss: 0.1820 ---- Valid MCRMSE: 0.1833\n",
      "Best valid MCRMSE updated to 0.18328885734081268\n",
      "Epoch 61\n"
     ]
    },
    {
     "name": "stderr",
     "output_type": "stream",
     "text": [
      "100%|██████████| 240/240 [00:49<00:00,  4.84it/s]\n",
      "100%|██████████| 40/40 [00:02<00:00, 15.06it/s]\n",
      "  0%|          | 0/240 [00:00<?, ?it/s]"
     ]
    },
    {
     "name": "stdout",
     "output_type": "stream",
     "text": [
      "Train Loss: 0.2238 ---- Valid Loss: 0.1819 ---- Valid MCRMSE: 0.1830\n",
      "Best valid MCRMSE updated to 0.18300752341747284\n",
      "Epoch 62\n"
     ]
    },
    {
     "name": "stderr",
     "output_type": "stream",
     "text": [
      "100%|██████████| 240/240 [00:49<00:00,  4.86it/s]\n",
      "100%|██████████| 40/40 [00:02<00:00, 15.03it/s]\n",
      "  0%|          | 0/240 [00:00<?, ?it/s]"
     ]
    },
    {
     "name": "stdout",
     "output_type": "stream",
     "text": [
      "Train Loss: 0.2225 ---- Valid Loss: 0.1811 ---- Valid MCRMSE: 0.1823\n",
      "Best valid MCRMSE updated to 0.18229016661643982\n",
      "Epoch 63\n"
     ]
    },
    {
     "name": "stderr",
     "output_type": "stream",
     "text": [
      "100%|██████████| 240/240 [00:49<00:00,  4.83it/s]\n",
      "100%|██████████| 40/40 [00:02<00:00, 14.93it/s]\n",
      "  0%|          | 0/240 [00:00<?, ?it/s]"
     ]
    },
    {
     "name": "stdout",
     "output_type": "stream",
     "text": [
      "Train Loss: 0.2236 ---- Valid Loss: 0.1817 ---- Valid MCRMSE: 0.1830\n",
      "Epoch 64\n"
     ]
    },
    {
     "name": "stderr",
     "output_type": "stream",
     "text": [
      "100%|██████████| 240/240 [00:49<00:00,  4.86it/s]\n",
      "100%|██████████| 40/40 [00:02<00:00, 15.07it/s]\n",
      "  0%|          | 0/240 [00:00<?, ?it/s]"
     ]
    },
    {
     "name": "stdout",
     "output_type": "stream",
     "text": [
      "Train Loss: 0.2231 ---- Valid Loss: 0.1820 ---- Valid MCRMSE: 0.1832\n",
      "Epoch 65\n"
     ]
    },
    {
     "name": "stderr",
     "output_type": "stream",
     "text": [
      "100%|██████████| 240/240 [00:49<00:00,  4.84it/s]\n",
      "100%|██████████| 40/40 [00:02<00:00, 15.08it/s]\n",
      "  0%|          | 0/240 [00:00<?, ?it/s]"
     ]
    },
    {
     "name": "stdout",
     "output_type": "stream",
     "text": [
      "Train Loss: 0.2215 ---- Valid Loss: 0.1812 ---- Valid MCRMSE: 0.1823\n",
      "Epoch 66\n"
     ]
    },
    {
     "name": "stderr",
     "output_type": "stream",
     "text": [
      "100%|██████████| 240/240 [00:49<00:00,  4.82it/s]\n",
      "100%|██████████| 40/40 [00:02<00:00, 15.23it/s]\n",
      "  0%|          | 0/240 [00:00<?, ?it/s]"
     ]
    },
    {
     "name": "stdout",
     "output_type": "stream",
     "text": [
      "Train Loss: 0.2199 ---- Valid Loss: 0.1806 ---- Valid MCRMSE: 0.1817\n",
      "Best valid MCRMSE updated to 0.18171028792858124\n",
      "Epoch 67\n"
     ]
    },
    {
     "name": "stderr",
     "output_type": "stream",
     "text": [
      "100%|██████████| 240/240 [00:49<00:00,  4.86it/s]\n",
      "100%|██████████| 40/40 [00:02<00:00, 15.08it/s]\n",
      "  0%|          | 0/240 [00:00<?, ?it/s]"
     ]
    },
    {
     "name": "stdout",
     "output_type": "stream",
     "text": [
      "Train Loss: 0.2205 ---- Valid Loss: 0.1812 ---- Valid MCRMSE: 0.1824\n",
      "Epoch 68\n"
     ]
    },
    {
     "name": "stderr",
     "output_type": "stream",
     "text": [
      "100%|██████████| 240/240 [00:49<00:00,  4.84it/s]\n",
      "100%|██████████| 40/40 [00:02<00:00, 15.12it/s]\n",
      "  0%|          | 0/240 [00:00<?, ?it/s]"
     ]
    },
    {
     "name": "stdout",
     "output_type": "stream",
     "text": [
      "Train Loss: 0.2201 ---- Valid Loss: 0.1801 ---- Valid MCRMSE: 0.1813\n",
      "Best valid MCRMSE updated to 0.1813342422246933\n",
      "Epoch 69\n"
     ]
    },
    {
     "name": "stderr",
     "output_type": "stream",
     "text": [
      "100%|██████████| 240/240 [00:49<00:00,  4.86it/s]\n",
      "100%|██████████| 40/40 [00:02<00:00, 15.03it/s]\n",
      "  0%|          | 0/240 [00:00<?, ?it/s]"
     ]
    },
    {
     "name": "stdout",
     "output_type": "stream",
     "text": [
      "Train Loss: 0.2207 ---- Valid Loss: 0.1793 ---- Valid MCRMSE: 0.1805\n",
      "Best valid MCRMSE updated to 0.18052300810813904\n",
      "Epoch 70\n"
     ]
    },
    {
     "name": "stderr",
     "output_type": "stream",
     "text": [
      "100%|██████████| 240/240 [00:49<00:00,  4.82it/s]\n",
      "100%|██████████| 40/40 [00:02<00:00, 15.17it/s]\n",
      "  0%|          | 0/240 [00:00<?, ?it/s]"
     ]
    },
    {
     "name": "stdout",
     "output_type": "stream",
     "text": [
      "Train Loss: 0.2187 ---- Valid Loss: 0.1814 ---- Valid MCRMSE: 0.1826\n",
      "Epoch 71\n"
     ]
    },
    {
     "name": "stderr",
     "output_type": "stream",
     "text": [
      "100%|██████████| 240/240 [00:49<00:00,  4.84it/s]\n",
      "100%|██████████| 40/40 [00:02<00:00, 15.08it/s]\n",
      "  0%|          | 0/240 [00:00<?, ?it/s]"
     ]
    },
    {
     "name": "stdout",
     "output_type": "stream",
     "text": [
      "Train Loss: 0.2187 ---- Valid Loss: 0.1800 ---- Valid MCRMSE: 0.1813\n",
      "Epoch 72\n"
     ]
    },
    {
     "name": "stderr",
     "output_type": "stream",
     "text": [
      "100%|██████████| 240/240 [00:49<00:00,  4.82it/s]\n",
      "100%|██████████| 40/40 [00:02<00:00, 15.09it/s]\n",
      "  0%|          | 0/240 [00:00<?, ?it/s]"
     ]
    },
    {
     "name": "stdout",
     "output_type": "stream",
     "text": [
      "Train Loss: 0.2174 ---- Valid Loss: 0.1801 ---- Valid MCRMSE: 0.1813\n",
      "Epoch 73\n"
     ]
    },
    {
     "name": "stderr",
     "output_type": "stream",
     "text": [
      "100%|██████████| 240/240 [00:49<00:00,  4.86it/s]\n",
      "100%|██████████| 40/40 [00:02<00:00, 15.28it/s]\n",
      "  0%|          | 0/240 [00:00<?, ?it/s]"
     ]
    },
    {
     "name": "stdout",
     "output_type": "stream",
     "text": [
      "Train Loss: 0.2185 ---- Valid Loss: 0.1804 ---- Valid MCRMSE: 0.1816\n",
      "Epoch 74\n"
     ]
    },
    {
     "name": "stderr",
     "output_type": "stream",
     "text": [
      "100%|██████████| 240/240 [00:49<00:00,  4.82it/s]\n",
      "100%|██████████| 40/40 [00:02<00:00, 15.31it/s]\n",
      "  0%|          | 0/240 [00:00<?, ?it/s]"
     ]
    },
    {
     "name": "stdout",
     "output_type": "stream",
     "text": [
      "Train Loss: 0.2177 ---- Valid Loss: 0.1812 ---- Valid MCRMSE: 0.1823\n",
      "Epoch 75\n"
     ]
    },
    {
     "name": "stderr",
     "output_type": "stream",
     "text": [
      "100%|██████████| 240/240 [00:49<00:00,  4.86it/s]\n",
      "100%|██████████| 40/40 [00:02<00:00, 15.27it/s]\n",
      "  0%|          | 0/240 [00:00<?, ?it/s]"
     ]
    },
    {
     "name": "stdout",
     "output_type": "stream",
     "text": [
      "Train Loss: 0.2163 ---- Valid Loss: 0.1790 ---- Valid MCRMSE: 0.1802\n",
      "Best valid MCRMSE updated to 0.18019050359725952\n",
      "Epoch 76\n"
     ]
    },
    {
     "name": "stderr",
     "output_type": "stream",
     "text": [
      "100%|██████████| 240/240 [00:49<00:00,  4.84it/s]\n",
      "100%|██████████| 40/40 [00:02<00:00, 15.17it/s]\n",
      "  0%|          | 0/240 [00:00<?, ?it/s]"
     ]
    },
    {
     "name": "stdout",
     "output_type": "stream",
     "text": [
      "Train Loss: 0.2163 ---- Valid Loss: 0.1792 ---- Valid MCRMSE: 0.1805\n",
      "Epoch 77\n"
     ]
    },
    {
     "name": "stderr",
     "output_type": "stream",
     "text": [
      "100%|██████████| 240/240 [00:49<00:00,  4.84it/s]\n",
      "100%|██████████| 40/40 [00:02<00:00, 15.23it/s]\n",
      "  0%|          | 0/240 [00:00<?, ?it/s]"
     ]
    },
    {
     "name": "stdout",
     "output_type": "stream",
     "text": [
      "Train Loss: 0.2153 ---- Valid Loss: 0.1789 ---- Valid MCRMSE: 0.1801\n",
      "Best valid MCRMSE updated to 0.18012534081935883\n",
      "Epoch 78\n"
     ]
    },
    {
     "name": "stderr",
     "output_type": "stream",
     "text": [
      "100%|██████████| 240/240 [00:49<00:00,  4.88it/s]\n",
      "100%|██████████| 40/40 [00:02<00:00, 15.28it/s]\n",
      "  0%|          | 0/240 [00:00<?, ?it/s]"
     ]
    },
    {
     "name": "stdout",
     "output_type": "stream",
     "text": [
      "Train Loss: 0.2157 ---- Valid Loss: 0.1790 ---- Valid MCRMSE: 0.1802\n",
      "Epoch 79\n"
     ]
    },
    {
     "name": "stderr",
     "output_type": "stream",
     "text": [
      "100%|██████████| 240/240 [00:49<00:00,  4.82it/s]\n",
      "100%|██████████| 40/40 [00:02<00:00, 15.22it/s]\n",
      "  0%|          | 0/240 [00:00<?, ?it/s]"
     ]
    },
    {
     "name": "stdout",
     "output_type": "stream",
     "text": [
      "Train Loss: 0.2140 ---- Valid Loss: 0.1777 ---- Valid MCRMSE: 0.1789\n",
      "Best valid MCRMSE updated to 0.1788964569568634\n",
      "Epoch 80\n"
     ]
    },
    {
     "name": "stderr",
     "output_type": "stream",
     "text": [
      "100%|██████████| 240/240 [00:49<00:00,  4.86it/s]\n",
      "100%|██████████| 40/40 [00:02<00:00, 15.16it/s]\n",
      "  0%|          | 0/240 [00:00<?, ?it/s]"
     ]
    },
    {
     "name": "stdout",
     "output_type": "stream",
     "text": [
      "Train Loss: 0.2132 ---- Valid Loss: 0.1769 ---- Valid MCRMSE: 0.1781\n",
      "Best valid MCRMSE updated to 0.17806246876716614\n",
      "Epoch 81\n"
     ]
    },
    {
     "name": "stderr",
     "output_type": "stream",
     "text": [
      "100%|██████████| 240/240 [00:49<00:00,  4.82it/s]\n",
      "100%|██████████| 40/40 [00:02<00:00, 15.10it/s]\n",
      "  0%|          | 0/240 [00:00<?, ?it/s]"
     ]
    },
    {
     "name": "stdout",
     "output_type": "stream",
     "text": [
      "Train Loss: 0.2133 ---- Valid Loss: 0.1777 ---- Valid MCRMSE: 0.1789\n",
      "Epoch 82\n"
     ]
    },
    {
     "name": "stderr",
     "output_type": "stream",
     "text": [
      "100%|██████████| 240/240 [00:49<00:00,  4.82it/s]\n",
      "100%|██████████| 40/40 [00:02<00:00, 14.93it/s]\n",
      "  0%|          | 0/240 [00:00<?, ?it/s]"
     ]
    },
    {
     "name": "stdout",
     "output_type": "stream",
     "text": [
      "Train Loss: 0.2131 ---- Valid Loss: 0.1790 ---- Valid MCRMSE: 0.1803\n",
      "Epoch 83\n"
     ]
    },
    {
     "name": "stderr",
     "output_type": "stream",
     "text": [
      "100%|██████████| 240/240 [00:49<00:00,  4.87it/s]\n",
      "100%|██████████| 40/40 [00:02<00:00, 15.19it/s]\n",
      "  0%|          | 0/240 [00:00<?, ?it/s]"
     ]
    },
    {
     "name": "stdout",
     "output_type": "stream",
     "text": [
      "Train Loss: 0.2123 ---- Valid Loss: 0.1775 ---- Valid MCRMSE: 0.1787\n",
      "Epoch 84\n"
     ]
    },
    {
     "name": "stderr",
     "output_type": "stream",
     "text": [
      "100%|██████████| 240/240 [00:49<00:00,  4.88it/s]\n",
      "100%|██████████| 40/40 [00:02<00:00, 15.25it/s]\n",
      "  0%|          | 0/240 [00:00<?, ?it/s]"
     ]
    },
    {
     "name": "stdout",
     "output_type": "stream",
     "text": [
      "Train Loss: 0.2117 ---- Valid Loss: 0.1820 ---- Valid MCRMSE: 0.1832\n",
      "Epoch 85\n"
     ]
    },
    {
     "name": "stderr",
     "output_type": "stream",
     "text": [
      "100%|██████████| 240/240 [00:49<00:00,  4.88it/s]\n",
      "100%|██████████| 40/40 [00:02<00:00, 15.09it/s]\n",
      "  0%|          | 0/240 [00:00<?, ?it/s]"
     ]
    },
    {
     "name": "stdout",
     "output_type": "stream",
     "text": [
      "Train Loss: 0.2125 ---- Valid Loss: 0.1780 ---- Valid MCRMSE: 0.1793\n",
      "Epoch 86\n"
     ]
    },
    {
     "name": "stderr",
     "output_type": "stream",
     "text": [
      "100%|██████████| 240/240 [00:49<00:00,  4.81it/s]\n",
      "100%|██████████| 40/40 [00:02<00:00, 15.30it/s]\n",
      "  0%|          | 0/240 [00:00<?, ?it/s]"
     ]
    },
    {
     "name": "stdout",
     "output_type": "stream",
     "text": [
      "Train Loss: 0.2113 ---- Valid Loss: 0.1776 ---- Valid MCRMSE: 0.1788\n",
      "Epoch 87\n"
     ]
    },
    {
     "name": "stderr",
     "output_type": "stream",
     "text": [
      "100%|██████████| 240/240 [00:49<00:00,  4.81it/s]\n",
      "100%|██████████| 40/40 [00:02<00:00, 15.20it/s]\n",
      "  0%|          | 0/240 [00:00<?, ?it/s]"
     ]
    },
    {
     "name": "stdout",
     "output_type": "stream",
     "text": [
      "Train Loss: 0.2099 ---- Valid Loss: 0.1776 ---- Valid MCRMSE: 0.1788\n",
      "Epoch 88\n"
     ]
    },
    {
     "name": "stderr",
     "output_type": "stream",
     "text": [
      "100%|██████████| 240/240 [00:49<00:00,  4.88it/s]\n",
      "100%|██████████| 40/40 [00:02<00:00, 14.92it/s]\n",
      "  0%|          | 0/240 [00:00<?, ?it/s]"
     ]
    },
    {
     "name": "stdout",
     "output_type": "stream",
     "text": [
      "Train Loss: 0.2088 ---- Valid Loss: 0.1761 ---- Valid MCRMSE: 0.1773\n",
      "Best valid MCRMSE updated to 0.17728589475154877\n",
      "Epoch 89\n"
     ]
    },
    {
     "name": "stderr",
     "output_type": "stream",
     "text": [
      "100%|██████████| 240/240 [00:49<00:00,  4.84it/s]\n",
      "100%|██████████| 40/40 [00:02<00:00, 15.33it/s]\n",
      "  0%|          | 0/240 [00:00<?, ?it/s]"
     ]
    },
    {
     "name": "stdout",
     "output_type": "stream",
     "text": [
      "Train Loss: 0.2090 ---- Valid Loss: 0.1783 ---- Valid MCRMSE: 0.1795\n",
      "Epoch 90\n"
     ]
    },
    {
     "name": "stderr",
     "output_type": "stream",
     "text": [
      "100%|██████████| 240/240 [00:49<00:00,  4.82it/s]\n",
      "100%|██████████| 40/40 [00:02<00:00, 15.12it/s]\n",
      "  0%|          | 0/240 [00:00<?, ?it/s]"
     ]
    },
    {
     "name": "stdout",
     "output_type": "stream",
     "text": [
      "Train Loss: 0.2102 ---- Valid Loss: 0.1783 ---- Valid MCRMSE: 0.1796\n",
      "Epoch 91\n"
     ]
    },
    {
     "name": "stderr",
     "output_type": "stream",
     "text": [
      "100%|██████████| 240/240 [00:49<00:00,  4.88it/s]\n",
      "100%|██████████| 40/40 [00:02<00:00, 15.18it/s]\n",
      "  0%|          | 0/240 [00:00<?, ?it/s]"
     ]
    },
    {
     "name": "stdout",
     "output_type": "stream",
     "text": [
      "Train Loss: 0.2057 ---- Valid Loss: 0.1766 ---- Valid MCRMSE: 0.1778\n",
      "Epoch 92\n"
     ]
    },
    {
     "name": "stderr",
     "output_type": "stream",
     "text": [
      "100%|██████████| 240/240 [00:49<00:00,  4.82it/s]\n",
      "100%|██████████| 40/40 [00:02<00:00, 15.18it/s]\n",
      "  0%|          | 0/240 [00:00<?, ?it/s]"
     ]
    },
    {
     "name": "stdout",
     "output_type": "stream",
     "text": [
      "Train Loss: 0.2065 ---- Valid Loss: 0.1788 ---- Valid MCRMSE: 0.1800\n",
      "Epoch 93\n"
     ]
    },
    {
     "name": "stderr",
     "output_type": "stream",
     "text": [
      "100%|██████████| 240/240 [00:49<00:00,  4.88it/s]\n",
      "100%|██████████| 40/40 [00:02<00:00, 15.14it/s]\n",
      "  0%|          | 0/240 [00:00<?, ?it/s]"
     ]
    },
    {
     "name": "stdout",
     "output_type": "stream",
     "text": [
      "Train Loss: 0.2072 ---- Valid Loss: 0.1839 ---- Valid MCRMSE: 0.1850\n",
      "Epoch 94\n"
     ]
    },
    {
     "name": "stderr",
     "output_type": "stream",
     "text": [
      "100%|██████████| 240/240 [00:49<00:00,  4.80it/s]\n",
      "100%|██████████| 40/40 [00:02<00:00, 15.25it/s]\n",
      "  0%|          | 0/240 [00:00<?, ?it/s]"
     ]
    },
    {
     "name": "stdout",
     "output_type": "stream",
     "text": [
      "Train Loss: 0.2098 ---- Valid Loss: 0.1769 ---- Valid MCRMSE: 0.1781\n",
      "Epoch 95\n"
     ]
    },
    {
     "name": "stderr",
     "output_type": "stream",
     "text": [
      "100%|██████████| 240/240 [00:49<00:00,  4.86it/s]\n",
      "100%|██████████| 40/40 [00:02<00:00, 15.07it/s]\n",
      "  0%|          | 0/240 [00:00<?, ?it/s]"
     ]
    },
    {
     "name": "stdout",
     "output_type": "stream",
     "text": [
      "Train Loss: 0.2053 ---- Valid Loss: 0.1787 ---- Valid MCRMSE: 0.1798\n",
      "Epoch 96\n"
     ]
    },
    {
     "name": "stderr",
     "output_type": "stream",
     "text": [
      "100%|██████████| 240/240 [00:49<00:00,  4.88it/s]\n",
      "100%|██████████| 40/40 [00:02<00:00, 15.11it/s]\n",
      "  0%|          | 0/240 [00:00<?, ?it/s]"
     ]
    },
    {
     "name": "stdout",
     "output_type": "stream",
     "text": [
      "Train Loss: 0.2068 ---- Valid Loss: 0.1754 ---- Valid MCRMSE: 0.1766\n",
      "Best valid MCRMSE updated to 0.1765868365764618\n",
      "Epoch 97\n"
     ]
    },
    {
     "name": "stderr",
     "output_type": "stream",
     "text": [
      "100%|██████████| 240/240 [00:50<00:00,  4.78it/s]\n",
      "100%|██████████| 40/40 [00:02<00:00, 15.23it/s]\n",
      "  0%|          | 0/240 [00:00<?, ?it/s]"
     ]
    },
    {
     "name": "stdout",
     "output_type": "stream",
     "text": [
      "Train Loss: 0.2065 ---- Valid Loss: 0.1775 ---- Valid MCRMSE: 0.1788\n",
      "Epoch 98\n"
     ]
    },
    {
     "name": "stderr",
     "output_type": "stream",
     "text": [
      "100%|██████████| 240/240 [00:49<00:00,  4.86it/s]\n",
      "100%|██████████| 40/40 [00:02<00:00, 15.23it/s]\n",
      "  0%|          | 0/240 [00:00<?, ?it/s]"
     ]
    },
    {
     "name": "stdout",
     "output_type": "stream",
     "text": [
      "Train Loss: 0.2050 ---- Valid Loss: 0.1751 ---- Valid MCRMSE: 0.1763\n",
      "Best valid MCRMSE updated to 0.17630721628665924\n",
      "Epoch 99\n"
     ]
    },
    {
     "name": "stderr",
     "output_type": "stream",
     "text": [
      "100%|██████████| 240/240 [00:49<00:00,  4.83it/s]\n",
      "100%|██████████| 40/40 [00:02<00:00, 14.91it/s]\n",
      "  0%|          | 0/240 [00:00<?, ?it/s]"
     ]
    },
    {
     "name": "stdout",
     "output_type": "stream",
     "text": [
      "Train Loss: 0.2041 ---- Valid Loss: 0.1764 ---- Valid MCRMSE: 0.1776\n",
      "Epoch 100\n"
     ]
    },
    {
     "name": "stderr",
     "output_type": "stream",
     "text": [
      "100%|██████████| 240/240 [00:49<00:00,  4.86it/s]\n",
      "100%|██████████| 40/40 [00:02<00:00, 14.95it/s]\n",
      "  0%|          | 0/240 [00:00<?, ?it/s]"
     ]
    },
    {
     "name": "stdout",
     "output_type": "stream",
     "text": [
      "Train Loss: 0.2038 ---- Valid Loss: 0.1756 ---- Valid MCRMSE: 0.1768\n",
      "Epoch 101\n"
     ]
    },
    {
     "name": "stderr",
     "output_type": "stream",
     "text": [
      "100%|██████████| 240/240 [00:49<00:00,  4.84it/s]\n",
      "100%|██████████| 40/40 [00:02<00:00, 15.19it/s]\n",
      "  0%|          | 0/240 [00:00<?, ?it/s]"
     ]
    },
    {
     "name": "stdout",
     "output_type": "stream",
     "text": [
      "Train Loss: 0.2023 ---- Valid Loss: 0.1746 ---- Valid MCRMSE: 0.1759\n",
      "Best valid MCRMSE updated to 0.17587020993232727\n",
      "Epoch 102\n"
     ]
    },
    {
     "name": "stderr",
     "output_type": "stream",
     "text": [
      "100%|██████████| 240/240 [00:49<00:00,  4.82it/s]\n",
      "100%|██████████| 40/40 [00:02<00:00, 14.85it/s]\n",
      "  0%|          | 0/240 [00:00<?, ?it/s]"
     ]
    },
    {
     "name": "stdout",
     "output_type": "stream",
     "text": [
      "Train Loss: 0.2080 ---- Valid Loss: 0.1762 ---- Valid MCRMSE: 0.1774\n",
      "Epoch 103\n"
     ]
    },
    {
     "name": "stderr",
     "output_type": "stream",
     "text": [
      "100%|██████████| 240/240 [00:49<00:00,  4.87it/s]\n",
      "100%|██████████| 40/40 [00:02<00:00, 15.17it/s]\n",
      "  0%|          | 0/240 [00:00<?, ?it/s]"
     ]
    },
    {
     "name": "stdout",
     "output_type": "stream",
     "text": [
      "Train Loss: 0.2033 ---- Valid Loss: 0.1760 ---- Valid MCRMSE: 0.1773\n",
      "Epoch 104\n"
     ]
    },
    {
     "name": "stderr",
     "output_type": "stream",
     "text": [
      "100%|██████████| 240/240 [00:49<00:00,  4.82it/s]\n",
      "100%|██████████| 40/40 [00:02<00:00, 15.21it/s]\n",
      "  0%|          | 0/240 [00:00<?, ?it/s]"
     ]
    },
    {
     "name": "stdout",
     "output_type": "stream",
     "text": [
      "Train Loss: 0.2033 ---- Valid Loss: 0.1778 ---- Valid MCRMSE: 0.1791\n",
      "Epoch 105\n"
     ]
    },
    {
     "name": "stderr",
     "output_type": "stream",
     "text": [
      "100%|██████████| 240/240 [00:49<00:00,  4.84it/s]\n",
      "100%|██████████| 40/40 [00:02<00:00, 15.00it/s]\n",
      "  0%|          | 0/240 [00:00<?, ?it/s]"
     ]
    },
    {
     "name": "stdout",
     "output_type": "stream",
     "text": [
      "Train Loss: 0.2025 ---- Valid Loss: 0.1758 ---- Valid MCRMSE: 0.1772\n",
      "Epoch 106\n"
     ]
    },
    {
     "name": "stderr",
     "output_type": "stream",
     "text": [
      "100%|██████████| 240/240 [00:49<00:00,  4.82it/s]\n",
      "100%|██████████| 40/40 [00:02<00:00, 14.99it/s]\n",
      "  0%|          | 0/240 [00:00<?, ?it/s]"
     ]
    },
    {
     "name": "stdout",
     "output_type": "stream",
     "text": [
      "Train Loss: 0.2006 ---- Valid Loss: 0.1752 ---- Valid MCRMSE: 0.1765\n",
      "Epoch 107\n"
     ]
    },
    {
     "name": "stderr",
     "output_type": "stream",
     "text": [
      "100%|██████████| 240/240 [00:49<00:00,  4.82it/s]\n",
      "100%|██████████| 40/40 [00:02<00:00, 15.04it/s]\n",
      "  0%|          | 0/240 [00:00<?, ?it/s]"
     ]
    },
    {
     "name": "stdout",
     "output_type": "stream",
     "text": [
      "Train Loss: 0.2032 ---- Valid Loss: 0.1744 ---- Valid MCRMSE: 0.1757\n",
      "Best valid MCRMSE updated to 0.1756538599729538\n",
      "Epoch 108\n"
     ]
    },
    {
     "name": "stderr",
     "output_type": "stream",
     "text": [
      "100%|██████████| 240/240 [00:49<00:00,  4.84it/s]\n",
      "100%|██████████| 40/40 [00:02<00:00, 15.27it/s]\n",
      "  0%|          | 0/240 [00:00<?, ?it/s]"
     ]
    },
    {
     "name": "stdout",
     "output_type": "stream",
     "text": [
      "Train Loss: 0.2009 ---- Valid Loss: 0.1746 ---- Valid MCRMSE: 0.1759\n",
      "Epoch 109\n"
     ]
    },
    {
     "name": "stderr",
     "output_type": "stream",
     "text": [
      "100%|██████████| 240/240 [00:49<00:00,  4.82it/s]\n",
      "100%|██████████| 40/40 [00:02<00:00, 15.29it/s]\n",
      "  0%|          | 0/240 [00:00<?, ?it/s]"
     ]
    },
    {
     "name": "stdout",
     "output_type": "stream",
     "text": [
      "Train Loss: 0.1979 ---- Valid Loss: 0.1744 ---- Valid MCRMSE: 0.1757\n",
      "Epoch 110\n"
     ]
    },
    {
     "name": "stderr",
     "output_type": "stream",
     "text": [
      "100%|██████████| 240/240 [00:49<00:00,  4.84it/s]\n",
      "100%|██████████| 40/40 [00:02<00:00, 14.95it/s]\n",
      "  0%|          | 0/240 [00:00<?, ?it/s]"
     ]
    },
    {
     "name": "stdout",
     "output_type": "stream",
     "text": [
      "Train Loss: 0.2014 ---- Valid Loss: 0.1740 ---- Valid MCRMSE: 0.1752\n",
      "Best valid MCRMSE updated to 0.17516334354877472\n",
      "Epoch 111\n"
     ]
    },
    {
     "name": "stderr",
     "output_type": "stream",
     "text": [
      "100%|██████████| 240/240 [00:49<00:00,  4.82it/s]\n",
      "100%|██████████| 40/40 [00:02<00:00, 15.18it/s]\n",
      "  0%|          | 0/240 [00:00<?, ?it/s]"
     ]
    },
    {
     "name": "stdout",
     "output_type": "stream",
     "text": [
      "Train Loss: 0.2032 ---- Valid Loss: 0.1751 ---- Valid MCRMSE: 0.1764\n",
      "Epoch 112\n"
     ]
    },
    {
     "name": "stderr",
     "output_type": "stream",
     "text": [
      "100%|██████████| 240/240 [00:49<00:00,  4.88it/s]\n",
      "100%|██████████| 40/40 [00:02<00:00, 15.20it/s]\n",
      "  0%|          | 0/240 [00:00<?, ?it/s]"
     ]
    },
    {
     "name": "stdout",
     "output_type": "stream",
     "text": [
      "Train Loss: 0.2011 ---- Valid Loss: 0.1755 ---- Valid MCRMSE: 0.1767\n",
      "Epoch 113\n"
     ]
    },
    {
     "name": "stderr",
     "output_type": "stream",
     "text": [
      "100%|██████████| 240/240 [00:49<00:00,  4.88it/s]\n",
      "100%|██████████| 40/40 [00:02<00:00, 15.17it/s]\n",
      "  0%|          | 0/240 [00:00<?, ?it/s]"
     ]
    },
    {
     "name": "stdout",
     "output_type": "stream",
     "text": [
      "Train Loss: 0.1997 ---- Valid Loss: 0.1739 ---- Valid MCRMSE: 0.1751\n",
      "Best valid MCRMSE updated to 0.17510978877544403\n",
      "Epoch 114\n"
     ]
    },
    {
     "name": "stderr",
     "output_type": "stream",
     "text": [
      "100%|██████████| 240/240 [00:49<00:00,  4.84it/s]\n",
      "100%|██████████| 40/40 [00:02<00:00, 15.11it/s]\n",
      "  0%|          | 0/240 [00:00<?, ?it/s]"
     ]
    },
    {
     "name": "stdout",
     "output_type": "stream",
     "text": [
      "Train Loss: 0.2007 ---- Valid Loss: 0.1754 ---- Valid MCRMSE: 0.1765\n",
      "Epoch 115\n"
     ]
    },
    {
     "name": "stderr",
     "output_type": "stream",
     "text": [
      "100%|██████████| 240/240 [00:49<00:00,  4.82it/s]\n",
      "100%|██████████| 40/40 [00:02<00:00, 14.96it/s]\n",
      "  0%|          | 0/240 [00:00<?, ?it/s]"
     ]
    },
    {
     "name": "stdout",
     "output_type": "stream",
     "text": [
      "Train Loss: 0.1978 ---- Valid Loss: 0.1759 ---- Valid MCRMSE: 0.1771\n",
      "Epoch 116\n"
     ]
    },
    {
     "name": "stderr",
     "output_type": "stream",
     "text": [
      "100%|██████████| 240/240 [00:49<00:00,  4.84it/s]\n",
      "100%|██████████| 40/40 [00:02<00:00, 15.23it/s]\n",
      "  0%|          | 0/240 [00:00<?, ?it/s]"
     ]
    },
    {
     "name": "stdout",
     "output_type": "stream",
     "text": [
      "Train Loss: 0.1996 ---- Valid Loss: 0.1748 ---- Valid MCRMSE: 0.1759\n",
      "Epoch 117\n"
     ]
    },
    {
     "name": "stderr",
     "output_type": "stream",
     "text": [
      "100%|██████████| 240/240 [00:49<00:00,  4.84it/s]\n",
      "100%|██████████| 40/40 [00:02<00:00, 15.20it/s]\n",
      "  0%|          | 0/240 [00:00<?, ?it/s]"
     ]
    },
    {
     "name": "stdout",
     "output_type": "stream",
     "text": [
      "Train Loss: 0.2000 ---- Valid Loss: 0.1732 ---- Valid MCRMSE: 0.1744\n",
      "Best valid MCRMSE updated to 0.1744200736284256\n",
      "Epoch 118\n"
     ]
    },
    {
     "name": "stderr",
     "output_type": "stream",
     "text": [
      "100%|██████████| 240/240 [00:49<00:00,  4.82it/s]\n",
      "100%|██████████| 40/40 [00:02<00:00, 15.27it/s]\n",
      "  0%|          | 0/240 [00:00<?, ?it/s]"
     ]
    },
    {
     "name": "stdout",
     "output_type": "stream",
     "text": [
      "Train Loss: 0.2003 ---- Valid Loss: 0.1746 ---- Valid MCRMSE: 0.1758\n",
      "Epoch 119\n"
     ]
    },
    {
     "name": "stderr",
     "output_type": "stream",
     "text": [
      "100%|██████████| 240/240 [00:49<00:00,  4.84it/s]\n",
      "100%|██████████| 40/40 [00:02<00:00, 14.94it/s]\n",
      "  0%|          | 0/240 [00:00<?, ?it/s]"
     ]
    },
    {
     "name": "stdout",
     "output_type": "stream",
     "text": [
      "Train Loss: 0.2001 ---- Valid Loss: 0.1785 ---- Valid MCRMSE: 0.1797\n",
      "Epoch 120\n"
     ]
    },
    {
     "name": "stderr",
     "output_type": "stream",
     "text": [
      "100%|██████████| 240/240 [00:49<00:00,  4.83it/s]\n",
      "100%|██████████| 40/40 [00:02<00:00, 15.16it/s]\n",
      "  0%|          | 0/240 [00:00<?, ?it/s]"
     ]
    },
    {
     "name": "stdout",
     "output_type": "stream",
     "text": [
      "Train Loss: 0.1990 ---- Valid Loss: 0.1736 ---- Valid MCRMSE: 0.1748\n",
      "Epoch 121\n"
     ]
    },
    {
     "name": "stderr",
     "output_type": "stream",
     "text": [
      "100%|██████████| 240/240 [00:49<00:00,  4.84it/s]\n",
      "100%|██████████| 40/40 [00:02<00:00, 14.92it/s]\n",
      "  0%|          | 0/240 [00:00<?, ?it/s]"
     ]
    },
    {
     "name": "stdout",
     "output_type": "stream",
     "text": [
      "Train Loss: 0.1974 ---- Valid Loss: 0.1729 ---- Valid MCRMSE: 0.1741\n",
      "Best valid MCRMSE updated to 0.17411920428276062\n",
      "Epoch 122\n"
     ]
    },
    {
     "name": "stderr",
     "output_type": "stream",
     "text": [
      "100%|██████████| 240/240 [00:49<00:00,  4.83it/s]\n",
      "100%|██████████| 40/40 [00:02<00:00, 15.08it/s]\n",
      "  0%|          | 0/240 [00:00<?, ?it/s]"
     ]
    },
    {
     "name": "stdout",
     "output_type": "stream",
     "text": [
      "Train Loss: 0.1967 ---- Valid Loss: 0.1734 ---- Valid MCRMSE: 0.1745\n",
      "Epoch 123\n"
     ]
    },
    {
     "name": "stderr",
     "output_type": "stream",
     "text": [
      "100%|██████████| 240/240 [00:49<00:00,  4.84it/s]\n",
      "100%|██████████| 40/40 [00:02<00:00, 15.22it/s]\n",
      "  0%|          | 0/240 [00:00<?, ?it/s]"
     ]
    },
    {
     "name": "stdout",
     "output_type": "stream",
     "text": [
      "Train Loss: 0.1963 ---- Valid Loss: 0.1731 ---- Valid MCRMSE: 0.1743\n",
      "Epoch 124\n"
     ]
    },
    {
     "name": "stderr",
     "output_type": "stream",
     "text": [
      "100%|██████████| 240/240 [00:49<00:00,  4.82it/s]\n",
      "100%|██████████| 40/40 [00:02<00:00, 15.21it/s]\n",
      "  0%|          | 0/240 [00:00<?, ?it/s]"
     ]
    },
    {
     "name": "stdout",
     "output_type": "stream",
     "text": [
      "Train Loss: 0.1945 ---- Valid Loss: 0.1713 ---- Valid MCRMSE: 0.1725\n",
      "Best valid MCRMSE updated to 0.17251800000667572\n",
      "Epoch 125\n"
     ]
    },
    {
     "name": "stderr",
     "output_type": "stream",
     "text": [
      "100%|██████████| 240/240 [00:49<00:00,  4.82it/s]\n",
      "100%|██████████| 40/40 [00:02<00:00, 15.21it/s]\n",
      "  0%|          | 0/240 [00:00<?, ?it/s]"
     ]
    },
    {
     "name": "stdout",
     "output_type": "stream",
     "text": [
      "Train Loss: 0.1962 ---- Valid Loss: 0.1748 ---- Valid MCRMSE: 0.1760\n",
      "Epoch 126\n"
     ]
    },
    {
     "name": "stderr",
     "output_type": "stream",
     "text": [
      "100%|██████████| 240/240 [00:49<00:00,  4.88it/s]\n",
      "100%|██████████| 40/40 [00:02<00:00, 15.16it/s]\n",
      "  0%|          | 0/240 [00:00<?, ?it/s]"
     ]
    },
    {
     "name": "stdout",
     "output_type": "stream",
     "text": [
      "Train Loss: 0.1961 ---- Valid Loss: 0.1754 ---- Valid MCRMSE: 0.1767\n",
      "Epoch 127\n"
     ]
    },
    {
     "name": "stderr",
     "output_type": "stream",
     "text": [
      "100%|██████████| 240/240 [00:49<00:00,  4.80it/s]\n",
      "100%|██████████| 40/40 [00:02<00:00, 15.27it/s]\n",
      "  0%|          | 0/240 [00:00<?, ?it/s]"
     ]
    },
    {
     "name": "stdout",
     "output_type": "stream",
     "text": [
      "Train Loss: 0.1960 ---- Valid Loss: 0.1730 ---- Valid MCRMSE: 0.1742\n",
      "Epoch 128\n"
     ]
    },
    {
     "name": "stderr",
     "output_type": "stream",
     "text": [
      "100%|██████████| 240/240 [00:49<00:00,  4.86it/s]\n",
      "100%|██████████| 40/40 [00:02<00:00, 15.28it/s]\n",
      "  0%|          | 0/240 [00:00<?, ?it/s]"
     ]
    },
    {
     "name": "stdout",
     "output_type": "stream",
     "text": [
      "Train Loss: 0.1948 ---- Valid Loss: 0.1720 ---- Valid MCRMSE: 0.1732\n",
      "Epoch 129\n"
     ]
    },
    {
     "name": "stderr",
     "output_type": "stream",
     "text": [
      "100%|██████████| 240/240 [00:50<00:00,  4.80it/s]\n",
      "100%|██████████| 40/40 [00:02<00:00, 15.13it/s]\n",
      "  5%|▌         | 2/40 [00:00<00:02, 14.70it/s]"
     ]
    },
    {
     "name": "stdout",
     "output_type": "stream",
     "text": [
      "Train Loss: 0.1939 ---- Valid Loss: 0.1715 ---- Valid MCRMSE: 0.1727\n"
     ]
    },
    {
     "name": "stderr",
     "output_type": "stream",
     "text": [
      "100%|██████████| 40/40 [00:02<00:00, 14.99it/s]\n"
     ]
    },
    {
     "name": "stdout",
     "output_type": "stream",
     "text": [
      "Fold 1\n"
     ]
    },
    {
     "name": "stderr",
     "output_type": "stream",
     "text": [
      "\r",
      "  0%|          | 0/240 [00:00<?, ?it/s]"
     ]
    },
    {
     "name": "stdout",
     "output_type": "stream",
     "text": [
      "Epoch 0\n"
     ]
    },
    {
     "name": "stderr",
     "output_type": "stream",
     "text": [
      "100%|██████████| 240/240 [00:49<00:00,  4.87it/s]\n",
      "100%|██████████| 39/39 [00:02<00:00, 14.80it/s]\n",
      "  0%|          | 0/240 [00:00<?, ?it/s]"
     ]
    },
    {
     "name": "stdout",
     "output_type": "stream",
     "text": [
      "Train Loss: 0.3862 ---- Valid Loss: 0.2937 ---- Valid MCRMSE: 0.2953\n",
      "Best valid MCRMSE updated to 0.2953187823295593\n",
      "Epoch 1\n"
     ]
    },
    {
     "name": "stderr",
     "output_type": "stream",
     "text": [
      "100%|██████████| 240/240 [00:49<00:00,  4.80it/s]\n",
      "100%|██████████| 39/39 [00:02<00:00, 14.94it/s]\n",
      "  0%|          | 0/240 [00:00<?, ?it/s]"
     ]
    },
    {
     "name": "stdout",
     "output_type": "stream",
     "text": [
      "Train Loss: 0.3325 ---- Valid Loss: 0.2665 ---- Valid MCRMSE: 0.2681\n",
      "Best valid MCRMSE updated to 0.26809412240982056\n",
      "Epoch 2\n"
     ]
    },
    {
     "name": "stderr",
     "output_type": "stream",
     "text": [
      "100%|██████████| 240/240 [00:49<00:00,  4.86it/s]\n",
      "100%|██████████| 39/39 [00:02<00:00, 14.87it/s]\n",
      "  0%|          | 0/240 [00:00<?, ?it/s]"
     ]
    },
    {
     "name": "stdout",
     "output_type": "stream",
     "text": [
      "Train Loss: 0.3155 ---- Valid Loss: 0.2595 ---- Valid MCRMSE: 0.2613\n",
      "Best valid MCRMSE updated to 0.26129862666130066\n",
      "Epoch 3\n"
     ]
    },
    {
     "name": "stderr",
     "output_type": "stream",
     "text": [
      "100%|██████████| 240/240 [00:49<00:00,  4.86it/s]\n",
      "100%|██████████| 39/39 [00:02<00:00, 14.57it/s]\n",
      "  0%|          | 0/240 [00:00<?, ?it/s]"
     ]
    },
    {
     "name": "stdout",
     "output_type": "stream",
     "text": [
      "Train Loss: 0.3025 ---- Valid Loss: 0.2511 ---- Valid MCRMSE: 0.2529\n",
      "Best valid MCRMSE updated to 0.25294384360313416\n",
      "Epoch 4\n"
     ]
    },
    {
     "name": "stderr",
     "output_type": "stream",
     "text": [
      "100%|██████████| 240/240 [00:50<00:00,  4.79it/s]\n",
      "100%|██████████| 39/39 [00:02<00:00, 14.85it/s]\n",
      "  0%|          | 0/240 [00:00<?, ?it/s]"
     ]
    },
    {
     "name": "stdout",
     "output_type": "stream",
     "text": [
      "Train Loss: 0.2957 ---- Valid Loss: 0.2502 ---- Valid MCRMSE: 0.2522\n",
      "Best valid MCRMSE updated to 0.25216910243034363\n",
      "Epoch 5\n"
     ]
    },
    {
     "name": "stderr",
     "output_type": "stream",
     "text": [
      "100%|██████████| 240/240 [00:49<00:00,  4.84it/s]\n",
      "100%|██████████| 39/39 [00:02<00:00, 14.91it/s]\n",
      "  0%|          | 0/240 [00:00<?, ?it/s]"
     ]
    },
    {
     "name": "stdout",
     "output_type": "stream",
     "text": [
      "Train Loss: 0.2915 ---- Valid Loss: 0.2421 ---- Valid MCRMSE: 0.2439\n",
      "Best valid MCRMSE updated to 0.24389587342739105\n",
      "Epoch 6\n"
     ]
    },
    {
     "name": "stderr",
     "output_type": "stream",
     "text": [
      "100%|██████████| 240/240 [00:49<00:00,  4.80it/s]\n",
      "100%|██████████| 39/39 [00:02<00:00, 14.78it/s]\n",
      "  0%|          | 0/240 [00:00<?, ?it/s]"
     ]
    },
    {
     "name": "stdout",
     "output_type": "stream",
     "text": [
      "Train Loss: 0.2870 ---- Valid Loss: 0.2413 ---- Valid MCRMSE: 0.2432\n",
      "Best valid MCRMSE updated to 0.24316218495368958\n",
      "Epoch 7\n"
     ]
    },
    {
     "name": "stderr",
     "output_type": "stream",
     "text": [
      "100%|██████████| 240/240 [00:49<00:00,  4.84it/s]\n",
      "100%|██████████| 39/39 [00:02<00:00, 14.98it/s]\n",
      "  0%|          | 0/240 [00:00<?, ?it/s]"
     ]
    },
    {
     "name": "stdout",
     "output_type": "stream",
     "text": [
      "Train Loss: 0.2844 ---- Valid Loss: 0.2361 ---- Valid MCRMSE: 0.2378\n",
      "Best valid MCRMSE updated to 0.23782463371753693\n",
      "Epoch 8\n"
     ]
    },
    {
     "name": "stderr",
     "output_type": "stream",
     "text": [
      "100%|██████████| 240/240 [00:50<00:00,  4.79it/s]\n",
      "100%|██████████| 39/39 [00:02<00:00, 14.60it/s]\n",
      "  0%|          | 0/240 [00:00<?, ?it/s]"
     ]
    },
    {
     "name": "stdout",
     "output_type": "stream",
     "text": [
      "Train Loss: 0.2810 ---- Valid Loss: 0.2318 ---- Valid MCRMSE: 0.2336\n",
      "Best valid MCRMSE updated to 0.23357370495796204\n",
      "Epoch 9\n"
     ]
    },
    {
     "name": "stderr",
     "output_type": "stream",
     "text": [
      "100%|██████████| 240/240 [00:49<00:00,  4.83it/s]\n",
      "100%|██████████| 39/39 [00:02<00:00, 14.68it/s]\n",
      "  0%|          | 0/240 [00:00<?, ?it/s]"
     ]
    },
    {
     "name": "stdout",
     "output_type": "stream",
     "text": [
      "Train Loss: 0.2769 ---- Valid Loss: 0.2289 ---- Valid MCRMSE: 0.2307\n",
      "Best valid MCRMSE updated to 0.2306838482618332\n",
      "Epoch 10\n"
     ]
    },
    {
     "name": "stderr",
     "output_type": "stream",
     "text": [
      "100%|██████████| 240/240 [00:49<00:00,  4.80it/s]\n",
      "100%|██████████| 39/39 [00:02<00:00, 15.02it/s]\n",
      "  0%|          | 0/240 [00:00<?, ?it/s]"
     ]
    },
    {
     "name": "stdout",
     "output_type": "stream",
     "text": [
      "Train Loss: 0.2744 ---- Valid Loss: 0.2259 ---- Valid MCRMSE: 0.2278\n",
      "Best valid MCRMSE updated to 0.2278057187795639\n",
      "Epoch 11\n"
     ]
    },
    {
     "name": "stderr",
     "output_type": "stream",
     "text": [
      "100%|██████████| 240/240 [00:49<00:00,  4.84it/s]\n",
      "100%|██████████| 39/39 [00:02<00:00, 14.79it/s]\n",
      "  0%|          | 0/240 [00:00<?, ?it/s]"
     ]
    },
    {
     "name": "stdout",
     "output_type": "stream",
     "text": [
      "Train Loss: 0.2748 ---- Valid Loss: 0.2257 ---- Valid MCRMSE: 0.2275\n",
      "Best valid MCRMSE updated to 0.2274904102087021\n",
      "Epoch 12\n"
     ]
    },
    {
     "name": "stderr",
     "output_type": "stream",
     "text": [
      "100%|██████████| 240/240 [00:50<00:00,  4.78it/s]\n",
      "100%|██████████| 39/39 [00:02<00:00, 14.96it/s]\n",
      "  0%|          | 0/240 [00:00<?, ?it/s]"
     ]
    },
    {
     "name": "stdout",
     "output_type": "stream",
     "text": [
      "Train Loss: 0.2727 ---- Valid Loss: 0.2245 ---- Valid MCRMSE: 0.2262\n",
      "Best valid MCRMSE updated to 0.22615690529346466\n",
      "Epoch 13\n"
     ]
    },
    {
     "name": "stderr",
     "output_type": "stream",
     "text": [
      "100%|██████████| 240/240 [00:49<00:00,  4.84it/s]\n",
      "100%|██████████| 39/39 [00:02<00:00, 14.98it/s]\n",
      "  0%|          | 0/240 [00:00<?, ?it/s]"
     ]
    },
    {
     "name": "stdout",
     "output_type": "stream",
     "text": [
      "Train Loss: 0.2691 ---- Valid Loss: 0.2213 ---- Valid MCRMSE: 0.2231\n",
      "Best valid MCRMSE updated to 0.2230779230594635\n",
      "Epoch 14\n"
     ]
    },
    {
     "name": "stderr",
     "output_type": "stream",
     "text": [
      "100%|██████████| 240/240 [00:49<00:00,  4.82it/s]\n",
      "100%|██████████| 39/39 [00:02<00:00, 14.79it/s]\n",
      "  0%|          | 0/240 [00:00<?, ?it/s]"
     ]
    },
    {
     "name": "stdout",
     "output_type": "stream",
     "text": [
      "Train Loss: 0.2662 ---- Valid Loss: 0.2202 ---- Valid MCRMSE: 0.2219\n",
      "Best valid MCRMSE updated to 0.22190378606319427\n",
      "Epoch 15\n"
     ]
    },
    {
     "name": "stderr",
     "output_type": "stream",
     "text": [
      "100%|██████████| 240/240 [00:49<00:00,  4.82it/s]\n",
      "100%|██████████| 39/39 [00:02<00:00, 14.98it/s]\n",
      "  0%|          | 0/240 [00:00<?, ?it/s]"
     ]
    },
    {
     "name": "stdout",
     "output_type": "stream",
     "text": [
      "Train Loss: 0.2647 ---- Valid Loss: 0.2221 ---- Valid MCRMSE: 0.2236\n",
      "Epoch 16\n"
     ]
    },
    {
     "name": "stderr",
     "output_type": "stream",
     "text": [
      "100%|██████████| 240/240 [00:49<00:00,  4.84it/s]\n",
      "100%|██████████| 39/39 [00:02<00:00, 14.98it/s]\n",
      "  0%|          | 0/240 [00:00<?, ?it/s]"
     ]
    },
    {
     "name": "stdout",
     "output_type": "stream",
     "text": [
      "Train Loss: 0.2636 ---- Valid Loss: 0.2176 ---- Valid MCRMSE: 0.2193\n",
      "Best valid MCRMSE updated to 0.21925126016139984\n",
      "Epoch 17\n"
     ]
    },
    {
     "name": "stderr",
     "output_type": "stream",
     "text": [
      "100%|██████████| 240/240 [00:50<00:00,  4.80it/s]\n",
      "100%|██████████| 39/39 [00:02<00:00, 14.90it/s]\n",
      "  0%|          | 0/240 [00:00<?, ?it/s]"
     ]
    },
    {
     "name": "stdout",
     "output_type": "stream",
     "text": [
      "Train Loss: 0.2624 ---- Valid Loss: 0.2126 ---- Valid MCRMSE: 0.2142\n",
      "Best valid MCRMSE updated to 0.21423421800136566\n",
      "Epoch 18\n"
     ]
    },
    {
     "name": "stderr",
     "output_type": "stream",
     "text": [
      "100%|██████████| 240/240 [00:49<00:00,  4.82it/s]\n",
      "100%|██████████| 39/39 [00:02<00:00, 15.02it/s]\n",
      "  0%|          | 0/240 [00:00<?, ?it/s]"
     ]
    },
    {
     "name": "stdout",
     "output_type": "stream",
     "text": [
      "Train Loss: 0.2590 ---- Valid Loss: 0.2123 ---- Valid MCRMSE: 0.2140\n",
      "Best valid MCRMSE updated to 0.21397443115711212\n",
      "Epoch 19\n"
     ]
    },
    {
     "name": "stderr",
     "output_type": "stream",
     "text": [
      "100%|██████████| 240/240 [00:50<00:00,  4.78it/s]\n",
      "100%|██████████| 39/39 [00:02<00:00, 15.01it/s]\n",
      "  0%|          | 0/240 [00:00<?, ?it/s]"
     ]
    },
    {
     "name": "stdout",
     "output_type": "stream",
     "text": [
      "Train Loss: 0.2596 ---- Valid Loss: 0.2125 ---- Valid MCRMSE: 0.2141\n",
      "Epoch 20\n"
     ]
    },
    {
     "name": "stderr",
     "output_type": "stream",
     "text": [
      "100%|██████████| 240/240 [00:49<00:00,  4.86it/s]\n",
      "100%|██████████| 39/39 [00:02<00:00, 14.80it/s]\n",
      "  0%|          | 0/240 [00:00<?, ?it/s]"
     ]
    },
    {
     "name": "stdout",
     "output_type": "stream",
     "text": [
      "Train Loss: 0.2556 ---- Valid Loss: 0.2089 ---- Valid MCRMSE: 0.2104\n",
      "Best valid MCRMSE updated to 0.2103607952594757\n",
      "Epoch 21\n"
     ]
    },
    {
     "name": "stderr",
     "output_type": "stream",
     "text": [
      "100%|██████████| 240/240 [00:49<00:00,  4.85it/s]\n",
      "100%|██████████| 39/39 [00:02<00:00, 14.59it/s]\n",
      "  0%|          | 0/240 [00:00<?, ?it/s]"
     ]
    },
    {
     "name": "stdout",
     "output_type": "stream",
     "text": [
      "Train Loss: 0.2554 ---- Valid Loss: 0.2076 ---- Valid MCRMSE: 0.2090\n",
      "Best valid MCRMSE updated to 0.20902948081493378\n",
      "Epoch 22\n"
     ]
    },
    {
     "name": "stderr",
     "output_type": "stream",
     "text": [
      "100%|██████████| 240/240 [00:49<00:00,  4.82it/s]\n",
      "100%|██████████| 39/39 [00:02<00:00, 14.72it/s]\n",
      "  0%|          | 0/240 [00:00<?, ?it/s]"
     ]
    },
    {
     "name": "stdout",
     "output_type": "stream",
     "text": [
      "Train Loss: 0.2537 ---- Valid Loss: 0.2061 ---- Valid MCRMSE: 0.2076\n",
      "Best valid MCRMSE updated to 0.20758156478405\n",
      "Epoch 23\n"
     ]
    },
    {
     "name": "stderr",
     "output_type": "stream",
     "text": [
      "100%|██████████| 240/240 [00:49<00:00,  4.84it/s]\n",
      "100%|██████████| 39/39 [00:02<00:00, 14.98it/s]\n",
      "  0%|          | 0/240 [00:00<?, ?it/s]"
     ]
    },
    {
     "name": "stdout",
     "output_type": "stream",
     "text": [
      "Train Loss: 0.2539 ---- Valid Loss: 0.2045 ---- Valid MCRMSE: 0.2059\n",
      "Best valid MCRMSE updated to 0.2059193104505539\n",
      "Epoch 24\n"
     ]
    },
    {
     "name": "stderr",
     "output_type": "stream",
     "text": [
      "100%|██████████| 240/240 [00:50<00:00,  4.78it/s]\n",
      "100%|██████████| 39/39 [00:02<00:00, 14.92it/s]\n",
      "  0%|          | 0/240 [00:00<?, ?it/s]"
     ]
    },
    {
     "name": "stdout",
     "output_type": "stream",
     "text": [
      "Train Loss: 0.2520 ---- Valid Loss: 0.2048 ---- Valid MCRMSE: 0.2061\n",
      "Epoch 25\n"
     ]
    },
    {
     "name": "stderr",
     "output_type": "stream",
     "text": [
      "100%|██████████| 240/240 [00:49<00:00,  4.86it/s]\n",
      "100%|██████████| 39/39 [00:02<00:00, 14.61it/s]\n",
      "  0%|          | 0/240 [00:00<?, ?it/s]"
     ]
    },
    {
     "name": "stdout",
     "output_type": "stream",
     "text": [
      "Train Loss: 0.2509 ---- Valid Loss: 0.2045 ---- Valid MCRMSE: 0.2062\n",
      "Epoch 26\n"
     ]
    },
    {
     "name": "stderr",
     "output_type": "stream",
     "text": [
      "100%|██████████| 240/240 [00:50<00:00,  4.79it/s]\n",
      "100%|██████████| 39/39 [00:02<00:00, 14.56it/s]\n",
      "  0%|          | 0/240 [00:00<?, ?it/s]"
     ]
    },
    {
     "name": "stdout",
     "output_type": "stream",
     "text": [
      "Train Loss: 0.2493 ---- Valid Loss: 0.2011 ---- Valid MCRMSE: 0.2024\n",
      "Best valid MCRMSE updated to 0.2024385929107666\n",
      "Epoch 27\n"
     ]
    },
    {
     "name": "stderr",
     "output_type": "stream",
     "text": [
      "100%|██████████| 240/240 [00:49<00:00,  4.86it/s]\n",
      "100%|██████████| 39/39 [00:02<00:00, 14.87it/s]\n",
      "  0%|          | 0/240 [00:00<?, ?it/s]"
     ]
    },
    {
     "name": "stdout",
     "output_type": "stream",
     "text": [
      "Train Loss: 0.2481 ---- Valid Loss: 0.2014 ---- Valid MCRMSE: 0.2029\n",
      "Epoch 28\n"
     ]
    },
    {
     "name": "stderr",
     "output_type": "stream",
     "text": [
      "100%|██████████| 240/240 [00:50<00:00,  4.78it/s]\n",
      "100%|██████████| 39/39 [00:02<00:00, 14.83it/s]\n",
      "  0%|          | 0/240 [00:00<?, ?it/s]"
     ]
    },
    {
     "name": "stdout",
     "output_type": "stream",
     "text": [
      "Train Loss: 0.2463 ---- Valid Loss: 0.2000 ---- Valid MCRMSE: 0.2013\n",
      "Best valid MCRMSE updated to 0.2013116329908371\n",
      "Epoch 29\n"
     ]
    },
    {
     "name": "stderr",
     "output_type": "stream",
     "text": [
      "100%|██████████| 240/240 [00:49<00:00,  4.86it/s]\n",
      "100%|██████████| 39/39 [00:02<00:00, 14.92it/s]\n",
      "  0%|          | 0/240 [00:00<?, ?it/s]"
     ]
    },
    {
     "name": "stdout",
     "output_type": "stream",
     "text": [
      "Train Loss: 0.2460 ---- Valid Loss: 0.1985 ---- Valid MCRMSE: 0.1998\n",
      "Best valid MCRMSE updated to 0.19975398480892181\n",
      "Epoch 30\n"
     ]
    },
    {
     "name": "stderr",
     "output_type": "stream",
     "text": [
      "100%|██████████| 240/240 [00:49<00:00,  4.85it/s]\n",
      "100%|██████████| 39/39 [00:02<00:00, 14.52it/s]\n",
      "  0%|          | 0/240 [00:00<?, ?it/s]"
     ]
    },
    {
     "name": "stdout",
     "output_type": "stream",
     "text": [
      "Train Loss: 0.2447 ---- Valid Loss: 0.1986 ---- Valid MCRMSE: 0.2000\n",
      "Epoch 31\n"
     ]
    },
    {
     "name": "stderr",
     "output_type": "stream",
     "text": [
      "100%|██████████| 240/240 [00:49<00:00,  4.82it/s]\n",
      "100%|██████████| 39/39 [00:02<00:00, 14.92it/s]\n",
      "  0%|          | 0/240 [00:00<?, ?it/s]"
     ]
    },
    {
     "name": "stdout",
     "output_type": "stream",
     "text": [
      "Train Loss: 0.2440 ---- Valid Loss: 0.1992 ---- Valid MCRMSE: 0.2006\n",
      "Epoch 32\n"
     ]
    },
    {
     "name": "stderr",
     "output_type": "stream",
     "text": [
      "100%|██████████| 240/240 [00:49<00:00,  4.80it/s]\n",
      "100%|██████████| 39/39 [00:02<00:00, 14.90it/s]\n",
      "  0%|          | 0/240 [00:00<?, ?it/s]"
     ]
    },
    {
     "name": "stdout",
     "output_type": "stream",
     "text": [
      "Train Loss: 0.2432 ---- Valid Loss: 0.1947 ---- Valid MCRMSE: 0.1961\n",
      "Best valid MCRMSE updated to 0.19606947898864746\n",
      "Epoch 33\n"
     ]
    },
    {
     "name": "stderr",
     "output_type": "stream",
     "text": [
      "100%|██████████| 240/240 [00:49<00:00,  4.82it/s]\n",
      "100%|██████████| 39/39 [00:02<00:00, 14.97it/s]\n",
      "  0%|          | 0/240 [00:00<?, ?it/s]"
     ]
    },
    {
     "name": "stdout",
     "output_type": "stream",
     "text": [
      "Train Loss: 0.2419 ---- Valid Loss: 0.1992 ---- Valid MCRMSE: 0.2008\n",
      "Epoch 34\n"
     ]
    },
    {
     "name": "stderr",
     "output_type": "stream",
     "text": [
      "100%|██████████| 240/240 [00:49<00:00,  4.82it/s]\n",
      "100%|██████████| 39/39 [00:02<00:00, 14.94it/s]\n",
      "  0%|          | 0/240 [00:00<?, ?it/s]"
     ]
    },
    {
     "name": "stdout",
     "output_type": "stream",
     "text": [
      "Train Loss: 0.2421 ---- Valid Loss: 0.1950 ---- Valid MCRMSE: 0.1963\n",
      "Epoch 35\n"
     ]
    },
    {
     "name": "stderr",
     "output_type": "stream",
     "text": [
      "100%|██████████| 240/240 [00:49<00:00,  4.83it/s]\n",
      "100%|██████████| 39/39 [00:02<00:00, 14.62it/s]\n",
      "  0%|          | 0/240 [00:00<?, ?it/s]"
     ]
    },
    {
     "name": "stdout",
     "output_type": "stream",
     "text": [
      "Train Loss: 0.2411 ---- Valid Loss: 0.1946 ---- Valid MCRMSE: 0.1960\n",
      "Best valid MCRMSE updated to 0.19595244526863098\n",
      "Epoch 36\n"
     ]
    },
    {
     "name": "stderr",
     "output_type": "stream",
     "text": [
      "100%|██████████| 240/240 [00:50<00:00,  4.78it/s]\n",
      "100%|██████████| 39/39 [00:02<00:00, 14.57it/s]\n",
      "  0%|          | 0/240 [00:00<?, ?it/s]"
     ]
    },
    {
     "name": "stdout",
     "output_type": "stream",
     "text": [
      "Train Loss: 0.2394 ---- Valid Loss: 0.1962 ---- Valid MCRMSE: 0.1972\n",
      "Epoch 37\n"
     ]
    },
    {
     "name": "stderr",
     "output_type": "stream",
     "text": [
      "100%|██████████| 240/240 [00:49<00:00,  4.84it/s]\n",
      "100%|██████████| 39/39 [00:02<00:00, 14.88it/s]\n",
      "  0%|          | 0/240 [00:00<?, ?it/s]"
     ]
    },
    {
     "name": "stdout",
     "output_type": "stream",
     "text": [
      "Train Loss: 0.2390 ---- Valid Loss: 0.1925 ---- Valid MCRMSE: 0.1937\n",
      "Best valid MCRMSE updated to 0.19365285336971283\n",
      "Epoch 38\n"
     ]
    },
    {
     "name": "stderr",
     "output_type": "stream",
     "text": [
      "100%|██████████| 240/240 [00:50<00:00,  4.80it/s]\n",
      "100%|██████████| 39/39 [00:02<00:00, 14.89it/s]\n",
      "  0%|          | 0/240 [00:00<?, ?it/s]"
     ]
    },
    {
     "name": "stdout",
     "output_type": "stream",
     "text": [
      "Train Loss: 0.2372 ---- Valid Loss: 0.1944 ---- Valid MCRMSE: 0.1961\n",
      "Epoch 39\n"
     ]
    },
    {
     "name": "stderr",
     "output_type": "stream",
     "text": [
      "100%|██████████| 240/240 [00:49<00:00,  4.82it/s]\n",
      "100%|██████████| 39/39 [00:02<00:00, 14.92it/s]\n",
      "  0%|          | 0/240 [00:00<?, ?it/s]"
     ]
    },
    {
     "name": "stdout",
     "output_type": "stream",
     "text": [
      "Train Loss: 0.2386 ---- Valid Loss: 0.1914 ---- Valid MCRMSE: 0.1926\n",
      "Best valid MCRMSE updated to 0.1925726979970932\n",
      "Epoch 40\n"
     ]
    },
    {
     "name": "stderr",
     "output_type": "stream",
     "text": [
      "100%|██████████| 240/240 [00:49<00:00,  4.85it/s]\n",
      "100%|██████████| 39/39 [00:02<00:00, 14.37it/s]\n",
      "  0%|          | 0/240 [00:00<?, ?it/s]"
     ]
    },
    {
     "name": "stdout",
     "output_type": "stream",
     "text": [
      "Train Loss: 0.2366 ---- Valid Loss: 0.1898 ---- Valid MCRMSE: 0.1909\n",
      "Best valid MCRMSE updated to 0.1909456104040146\n",
      "Epoch 41\n"
     ]
    },
    {
     "name": "stderr",
     "output_type": "stream",
     "text": [
      "100%|██████████| 240/240 [00:50<00:00,  4.78it/s]\n",
      "100%|██████████| 39/39 [00:02<00:00, 14.94it/s]\n",
      "  0%|          | 0/240 [00:00<?, ?it/s]"
     ]
    },
    {
     "name": "stdout",
     "output_type": "stream",
     "text": [
      "Train Loss: 0.2372 ---- Valid Loss: 0.1917 ---- Valid MCRMSE: 0.1930\n",
      "Epoch 42\n"
     ]
    },
    {
     "name": "stderr",
     "output_type": "stream",
     "text": [
      "100%|██████████| 240/240 [00:49<00:00,  4.84it/s]\n",
      "100%|██████████| 39/39 [00:02<00:00, 14.93it/s]\n",
      "  0%|          | 0/240 [00:00<?, ?it/s]"
     ]
    },
    {
     "name": "stdout",
     "output_type": "stream",
     "text": [
      "Train Loss: 0.2353 ---- Valid Loss: 0.1906 ---- Valid MCRMSE: 0.1920\n",
      "Epoch 43\n"
     ]
    },
    {
     "name": "stderr",
     "output_type": "stream",
     "text": [
      "100%|██████████| 240/240 [00:49<00:00,  4.87it/s]\n",
      "100%|██████████| 39/39 [00:02<00:00, 14.59it/s]\n",
      "  0%|          | 0/240 [00:00<?, ?it/s]"
     ]
    },
    {
     "name": "stdout",
     "output_type": "stream",
     "text": [
      "Train Loss: 0.2347 ---- Valid Loss: 0.1884 ---- Valid MCRMSE: 0.1897\n",
      "Best valid MCRMSE updated to 0.18967649340629578\n",
      "Epoch 44\n"
     ]
    },
    {
     "name": "stderr",
     "output_type": "stream",
     "text": [
      "100%|██████████| 240/240 [00:50<00:00,  4.77it/s]\n",
      "100%|██████████| 39/39 [00:02<00:00, 14.54it/s]\n",
      "  0%|          | 0/240 [00:00<?, ?it/s]"
     ]
    },
    {
     "name": "stdout",
     "output_type": "stream",
     "text": [
      "Train Loss: 0.2339 ---- Valid Loss: 0.1899 ---- Valid MCRMSE: 0.1916\n",
      "Epoch 45\n"
     ]
    },
    {
     "name": "stderr",
     "output_type": "stream",
     "text": [
      "100%|██████████| 240/240 [00:49<00:00,  4.87it/s]\n",
      "100%|██████████| 39/39 [00:02<00:00, 14.93it/s]\n",
      "  0%|          | 0/240 [00:00<?, ?it/s]"
     ]
    },
    {
     "name": "stdout",
     "output_type": "stream",
     "text": [
      "Train Loss: 0.2337 ---- Valid Loss: 0.1881 ---- Valid MCRMSE: 0.1897\n",
      "Epoch 46\n"
     ]
    },
    {
     "name": "stderr",
     "output_type": "stream",
     "text": [
      "100%|██████████| 240/240 [00:50<00:00,  4.76it/s]\n",
      "100%|██████████| 39/39 [00:02<00:00, 14.77it/s]\n",
      "  0%|          | 0/240 [00:00<?, ?it/s]"
     ]
    },
    {
     "name": "stdout",
     "output_type": "stream",
     "text": [
      "Train Loss: 0.2322 ---- Valid Loss: 0.1884 ---- Valid MCRMSE: 0.1897\n",
      "Epoch 47\n"
     ]
    },
    {
     "name": "stderr",
     "output_type": "stream",
     "text": [
      "100%|██████████| 240/240 [00:49<00:00,  4.82it/s]\n",
      "100%|██████████| 39/39 [00:02<00:00, 14.93it/s]\n",
      "  0%|          | 0/240 [00:00<?, ?it/s]"
     ]
    },
    {
     "name": "stdout",
     "output_type": "stream",
     "text": [
      "Train Loss: 0.2321 ---- Valid Loss: 0.1873 ---- Valid MCRMSE: 0.1888\n",
      "Best valid MCRMSE updated to 0.18875521421432495\n",
      "Epoch 48\n"
     ]
    },
    {
     "name": "stderr",
     "output_type": "stream",
     "text": [
      "100%|██████████| 240/240 [00:49<00:00,  4.86it/s]\n",
      "100%|██████████| 39/39 [00:02<00:00, 14.89it/s]\n",
      "  0%|          | 0/240 [00:00<?, ?it/s]"
     ]
    },
    {
     "name": "stdout",
     "output_type": "stream",
     "text": [
      "Train Loss: 0.2318 ---- Valid Loss: 0.1878 ---- Valid MCRMSE: 0.1894\n",
      "Epoch 49\n"
     ]
    },
    {
     "name": "stderr",
     "output_type": "stream",
     "text": [
      "100%|██████████| 240/240 [00:50<00:00,  4.80it/s]\n",
      "100%|██████████| 39/39 [00:02<00:00, 14.93it/s]\n",
      "  0%|          | 0/240 [00:00<?, ?it/s]"
     ]
    },
    {
     "name": "stdout",
     "output_type": "stream",
     "text": [
      "Train Loss: 0.2293 ---- Valid Loss: 0.1888 ---- Valid MCRMSE: 0.1901\n",
      "Epoch 50\n"
     ]
    },
    {
     "name": "stderr",
     "output_type": "stream",
     "text": [
      "100%|██████████| 240/240 [00:49<00:00,  4.83it/s]\n",
      "100%|██████████| 39/39 [00:02<00:00, 14.59it/s]\n",
      "  0%|          | 0/240 [00:00<?, ?it/s]"
     ]
    },
    {
     "name": "stdout",
     "output_type": "stream",
     "text": [
      "Train Loss: 0.2299 ---- Valid Loss: 0.1862 ---- Valid MCRMSE: 0.1875\n",
      "Best valid MCRMSE updated to 0.18753795325756073\n",
      "Epoch 51\n"
     ]
    },
    {
     "name": "stderr",
     "output_type": "stream",
     "text": [
      "100%|██████████| 240/240 [00:49<00:00,  4.82it/s]\n",
      "100%|██████████| 39/39 [00:02<00:00, 14.88it/s]\n",
      "  0%|          | 0/240 [00:00<?, ?it/s]"
     ]
    },
    {
     "name": "stdout",
     "output_type": "stream",
     "text": [
      "Train Loss: 0.2296 ---- Valid Loss: 0.1855 ---- Valid MCRMSE: 0.1870\n",
      "Best valid MCRMSE updated to 0.1869920939207077\n",
      "Epoch 52\n"
     ]
    },
    {
     "name": "stderr",
     "output_type": "stream",
     "text": [
      "100%|██████████| 240/240 [00:49<00:00,  4.82it/s]\n",
      "100%|██████████| 39/39 [00:02<00:00, 14.52it/s]\n",
      "  0%|          | 0/240 [00:00<?, ?it/s]"
     ]
    },
    {
     "name": "stdout",
     "output_type": "stream",
     "text": [
      "Train Loss: 0.2289 ---- Valid Loss: 0.1892 ---- Valid MCRMSE: 0.1907\n",
      "Epoch 53\n"
     ]
    },
    {
     "name": "stderr",
     "output_type": "stream",
     "text": [
      "100%|██████████| 240/240 [00:49<00:00,  4.82it/s]\n",
      "100%|██████████| 39/39 [00:02<00:00, 14.47it/s]\n",
      "  0%|          | 0/240 [00:00<?, ?it/s]"
     ]
    },
    {
     "name": "stdout",
     "output_type": "stream",
     "text": [
      "Train Loss: 0.2283 ---- Valid Loss: 0.1855 ---- Valid MCRMSE: 0.1870\n",
      "Best valid MCRMSE updated to 0.18696081638336182\n",
      "Epoch 54\n"
     ]
    },
    {
     "name": "stderr",
     "output_type": "stream",
     "text": [
      "100%|██████████| 240/240 [00:50<00:00,  4.79it/s]\n",
      "100%|██████████| 39/39 [00:02<00:00, 14.96it/s]\n",
      "  0%|          | 0/240 [00:00<?, ?it/s]"
     ]
    },
    {
     "name": "stdout",
     "output_type": "stream",
     "text": [
      "Train Loss: 0.2278 ---- Valid Loss: 0.1867 ---- Valid MCRMSE: 0.1886\n",
      "Epoch 55\n"
     ]
    },
    {
     "name": "stderr",
     "output_type": "stream",
     "text": [
      "100%|██████████| 240/240 [00:49<00:00,  4.86it/s]\n",
      "100%|██████████| 39/39 [00:02<00:00, 14.63it/s]\n",
      "  0%|          | 0/240 [00:00<?, ?it/s]"
     ]
    },
    {
     "name": "stdout",
     "output_type": "stream",
     "text": [
      "Train Loss: 0.2261 ---- Valid Loss: 0.1875 ---- Valid MCRMSE: 0.1910\n",
      "Epoch 56\n"
     ]
    },
    {
     "name": "stderr",
     "output_type": "stream",
     "text": [
      "100%|██████████| 240/240 [00:50<00:00,  4.78it/s]\n",
      "100%|██████████| 39/39 [00:02<00:00, 15.00it/s]\n",
      "  0%|          | 0/240 [00:00<?, ?it/s]"
     ]
    },
    {
     "name": "stdout",
     "output_type": "stream",
     "text": [
      "Train Loss: 0.2266 ---- Valid Loss: 0.1871 ---- Valid MCRMSE: 0.1885\n",
      "Epoch 57\n"
     ]
    },
    {
     "name": "stderr",
     "output_type": "stream",
     "text": [
      "100%|██████████| 240/240 [00:50<00:00,  4.80it/s]\n",
      "100%|██████████| 39/39 [00:02<00:00, 14.91it/s]\n",
      "  0%|          | 0/240 [00:00<?, ?it/s]"
     ]
    },
    {
     "name": "stdout",
     "output_type": "stream",
     "text": [
      "Train Loss: 0.2255 ---- Valid Loss: 0.1858 ---- Valid MCRMSE: 0.1878\n",
      "Epoch 58\n"
     ]
    },
    {
     "name": "stderr",
     "output_type": "stream",
     "text": [
      "100%|██████████| 240/240 [00:49<00:00,  4.86it/s]\n",
      "100%|██████████| 39/39 [00:02<00:00, 14.88it/s]\n",
      "  0%|          | 0/240 [00:00<?, ?it/s]"
     ]
    },
    {
     "name": "stdout",
     "output_type": "stream",
     "text": [
      "Train Loss: 0.2245 ---- Valid Loss: 0.1869 ---- Valid MCRMSE: 0.1906\n",
      "Epoch 59\n"
     ]
    },
    {
     "name": "stderr",
     "output_type": "stream",
     "text": [
      "100%|██████████| 240/240 [00:49<00:00,  4.84it/s]\n",
      "100%|██████████| 39/39 [00:02<00:00, 14.53it/s]\n",
      "  0%|          | 0/240 [00:00<?, ?it/s]"
     ]
    },
    {
     "name": "stdout",
     "output_type": "stream",
     "text": [
      "Train Loss: 0.2246 ---- Valid Loss: 0.1854 ---- Valid MCRMSE: 0.1872\n",
      "Epoch 60\n"
     ]
    },
    {
     "name": "stderr",
     "output_type": "stream",
     "text": [
      "100%|██████████| 240/240 [00:49<00:00,  4.80it/s]\n",
      "100%|██████████| 39/39 [00:02<00:00, 14.95it/s]\n",
      "  0%|          | 0/240 [00:00<?, ?it/s]"
     ]
    },
    {
     "name": "stdout",
     "output_type": "stream",
     "text": [
      "Train Loss: 0.2232 ---- Valid Loss: 0.1852 ---- Valid MCRMSE: 0.1872\n",
      "Epoch 61\n"
     ]
    },
    {
     "name": "stderr",
     "output_type": "stream",
     "text": [
      "100%|██████████| 240/240 [00:49<00:00,  4.82it/s]\n",
      "100%|██████████| 39/39 [00:02<00:00, 14.92it/s]\n",
      "  0%|          | 0/240 [00:00<?, ?it/s]"
     ]
    },
    {
     "name": "stdout",
     "output_type": "stream",
     "text": [
      "Train Loss: 0.2233 ---- Valid Loss: 0.1878 ---- Valid MCRMSE: 0.1896\n",
      "Epoch 62\n"
     ]
    },
    {
     "name": "stderr",
     "output_type": "stream",
     "text": [
      "100%|██████████| 240/240 [00:49<00:00,  4.82it/s]\n",
      "100%|██████████| 39/39 [00:02<00:00, 14.64it/s]\n",
      "  0%|          | 0/240 [00:00<?, ?it/s]"
     ]
    },
    {
     "name": "stdout",
     "output_type": "stream",
     "text": [
      "Train Loss: 0.2233 ---- Valid Loss: 0.1858 ---- Valid MCRMSE: 0.1885\n",
      "Epoch 63\n"
     ]
    },
    {
     "name": "stderr",
     "output_type": "stream",
     "text": [
      "100%|██████████| 240/240 [00:49<00:00,  4.82it/s]\n",
      "100%|██████████| 39/39 [00:02<00:00, 14.82it/s]\n",
      "  0%|          | 0/240 [00:00<?, ?it/s]"
     ]
    },
    {
     "name": "stdout",
     "output_type": "stream",
     "text": [
      "Train Loss: 0.2232 ---- Valid Loss: 0.1853 ---- Valid MCRMSE: 0.1870\n",
      "Best valid MCRMSE updated to 0.18695129454135895\n",
      "Epoch 64\n"
     ]
    },
    {
     "name": "stderr",
     "output_type": "stream",
     "text": [
      "100%|██████████| 240/240 [00:49<00:00,  4.81it/s]\n",
      "100%|██████████| 39/39 [00:02<00:00, 14.63it/s]\n",
      "  0%|          | 0/240 [00:00<?, ?it/s]"
     ]
    },
    {
     "name": "stdout",
     "output_type": "stream",
     "text": [
      "Train Loss: 0.2220 ---- Valid Loss: 0.1877 ---- Valid MCRMSE: 0.1911\n",
      "Epoch 65\n"
     ]
    },
    {
     "name": "stderr",
     "output_type": "stream",
     "text": [
      "100%|██████████| 240/240 [00:49<00:00,  4.82it/s]\n",
      "100%|██████████| 39/39 [00:02<00:00, 14.98it/s]\n",
      "  0%|          | 0/240 [00:00<?, ?it/s]"
     ]
    },
    {
     "name": "stdout",
     "output_type": "stream",
     "text": [
      "Train Loss: 0.2216 ---- Valid Loss: 0.1828 ---- Valid MCRMSE: 0.1844\n",
      "Best valid MCRMSE updated to 0.18435464799404144\n",
      "Epoch 66\n"
     ]
    },
    {
     "name": "stderr",
     "output_type": "stream",
     "text": [
      "100%|██████████| 240/240 [00:49<00:00,  4.84it/s]\n",
      "100%|██████████| 39/39 [00:02<00:00, 14.99it/s]\n",
      "  0%|          | 0/240 [00:00<?, ?it/s]"
     ]
    },
    {
     "name": "stdout",
     "output_type": "stream",
     "text": [
      "Train Loss: 0.2203 ---- Valid Loss: 0.1834 ---- Valid MCRMSE: 0.1856\n",
      "Epoch 67\n"
     ]
    },
    {
     "name": "stderr",
     "output_type": "stream",
     "text": [
      "100%|██████████| 240/240 [00:50<00:00,  4.78it/s]\n",
      "100%|██████████| 39/39 [00:02<00:00, 14.68it/s]\n",
      "  0%|          | 0/240 [00:00<?, ?it/s]"
     ]
    },
    {
     "name": "stdout",
     "output_type": "stream",
     "text": [
      "Train Loss: 0.2194 ---- Valid Loss: 0.1846 ---- Valid MCRMSE: 0.1874\n",
      "Epoch 68\n"
     ]
    },
    {
     "name": "stderr",
     "output_type": "stream",
     "text": [
      "100%|██████████| 240/240 [00:49<00:00,  4.88it/s]\n",
      "100%|██████████| 39/39 [00:02<00:00, 14.98it/s]\n",
      "  0%|          | 0/240 [00:00<?, ?it/s]"
     ]
    },
    {
     "name": "stdout",
     "output_type": "stream",
     "text": [
      "Train Loss: 0.2203 ---- Valid Loss: 0.1825 ---- Valid MCRMSE: 0.1843\n",
      "Best valid MCRMSE updated to 0.1842869222164154\n",
      "Epoch 69\n"
     ]
    },
    {
     "name": "stderr",
     "output_type": "stream",
     "text": [
      "100%|██████████| 240/240 [00:50<00:00,  4.78it/s]\n",
      "100%|██████████| 39/39 [00:02<00:00, 14.82it/s]\n",
      "  0%|          | 0/240 [00:00<?, ?it/s]"
     ]
    },
    {
     "name": "stdout",
     "output_type": "stream",
     "text": [
      "Train Loss: 0.2184 ---- Valid Loss: 0.1807 ---- Valid MCRMSE: 0.1821\n",
      "Best valid MCRMSE updated to 0.1821376383304596\n",
      "Epoch 70\n"
     ]
    },
    {
     "name": "stderr",
     "output_type": "stream",
     "text": [
      "100%|██████████| 240/240 [00:49<00:00,  4.82it/s]\n",
      "100%|██████████| 39/39 [00:02<00:00, 14.52it/s]\n",
      "  0%|          | 0/240 [00:00<?, ?it/s]"
     ]
    },
    {
     "name": "stdout",
     "output_type": "stream",
     "text": [
      "Train Loss: 0.2188 ---- Valid Loss: 0.1827 ---- Valid MCRMSE: 0.1843\n",
      "Epoch 71\n"
     ]
    },
    {
     "name": "stderr",
     "output_type": "stream",
     "text": [
      "100%|██████████| 240/240 [00:49<00:00,  4.80it/s]\n",
      "100%|██████████| 39/39 [00:02<00:00, 14.77it/s]\n",
      "  0%|          | 0/240 [00:00<?, ?it/s]"
     ]
    },
    {
     "name": "stdout",
     "output_type": "stream",
     "text": [
      "Train Loss: 0.2187 ---- Valid Loss: 0.1822 ---- Valid MCRMSE: 0.1838\n",
      "Epoch 72\n"
     ]
    },
    {
     "name": "stderr",
     "output_type": "stream",
     "text": [
      "100%|██████████| 240/240 [00:49<00:00,  4.86it/s]\n",
      "100%|██████████| 39/39 [00:02<00:00, 14.74it/s]\n",
      "  0%|          | 0/240 [00:00<?, ?it/s]"
     ]
    },
    {
     "name": "stdout",
     "output_type": "stream",
     "text": [
      "Train Loss: 0.2171 ---- Valid Loss: 0.1810 ---- Valid MCRMSE: 0.1824\n",
      "Epoch 73\n"
     ]
    },
    {
     "name": "stderr",
     "output_type": "stream",
     "text": [
      "100%|██████████| 240/240 [00:50<00:00,  4.76it/s]\n",
      "100%|██████████| 39/39 [00:02<00:00, 14.95it/s]\n",
      "  0%|          | 0/240 [00:00<?, ?it/s]"
     ]
    },
    {
     "name": "stdout",
     "output_type": "stream",
     "text": [
      "Train Loss: 0.2171 ---- Valid Loss: 0.1825 ---- Valid MCRMSE: 0.1841\n",
      "Epoch 74\n"
     ]
    },
    {
     "name": "stderr",
     "output_type": "stream",
     "text": [
      "100%|██████████| 240/240 [00:49<00:00,  4.83it/s]\n",
      "100%|██████████| 39/39 [00:02<00:00, 14.54it/s]\n",
      "  0%|          | 0/240 [00:00<?, ?it/s]"
     ]
    },
    {
     "name": "stdout",
     "output_type": "stream",
     "text": [
      "Train Loss: 0.2165 ---- Valid Loss: 0.1828 ---- Valid MCRMSE: 0.1846\n",
      "Epoch 75\n"
     ]
    },
    {
     "name": "stderr",
     "output_type": "stream",
     "text": [
      "100%|██████████| 240/240 [00:50<00:00,  4.79it/s]\n",
      "100%|██████████| 39/39 [00:02<00:00, 14.88it/s]\n",
      "  0%|          | 0/240 [00:00<?, ?it/s]"
     ]
    },
    {
     "name": "stdout",
     "output_type": "stream",
     "text": [
      "Train Loss: 0.2180 ---- Valid Loss: 0.1815 ---- Valid MCRMSE: 0.1831\n",
      "Epoch 76\n"
     ]
    },
    {
     "name": "stderr",
     "output_type": "stream",
     "text": [
      "100%|██████████| 240/240 [00:49<00:00,  4.88it/s]\n",
      "100%|██████████| 39/39 [00:02<00:00, 14.90it/s]\n",
      "  0%|          | 0/240 [00:00<?, ?it/s]"
     ]
    },
    {
     "name": "stdout",
     "output_type": "stream",
     "text": [
      "Train Loss: 0.2148 ---- Valid Loss: 0.1814 ---- Valid MCRMSE: 0.1829\n",
      "Epoch 77\n"
     ]
    },
    {
     "name": "stderr",
     "output_type": "stream",
     "text": [
      "100%|██████████| 240/240 [00:50<00:00,  4.78it/s]\n",
      "100%|██████████| 39/39 [00:02<00:00, 14.96it/s]\n",
      "  0%|          | 0/240 [00:00<?, ?it/s]"
     ]
    },
    {
     "name": "stdout",
     "output_type": "stream",
     "text": [
      "Train Loss: 0.2141 ---- Valid Loss: 0.1802 ---- Valid MCRMSE: 0.1818\n",
      "Best valid MCRMSE updated to 0.18176667392253876\n",
      "Epoch 78\n"
     ]
    },
    {
     "name": "stderr",
     "output_type": "stream",
     "text": [
      "100%|██████████| 240/240 [00:50<00:00,  4.79it/s]\n",
      "100%|██████████| 39/39 [00:02<00:00, 14.59it/s]\n",
      "  0%|          | 0/240 [00:00<?, ?it/s]"
     ]
    },
    {
     "name": "stdout",
     "output_type": "stream",
     "text": [
      "Train Loss: 0.2142 ---- Valid Loss: 0.1803 ---- Valid MCRMSE: 0.1818\n",
      "Epoch 79\n"
     ]
    },
    {
     "name": "stderr",
     "output_type": "stream",
     "text": [
      "100%|██████████| 240/240 [00:49<00:00,  4.87it/s]\n",
      "100%|██████████| 39/39 [00:02<00:00, 14.97it/s]\n",
      "  0%|          | 0/240 [00:00<?, ?it/s]"
     ]
    },
    {
     "name": "stdout",
     "output_type": "stream",
     "text": [
      "Train Loss: 0.2136 ---- Valid Loss: 0.1817 ---- Valid MCRMSE: 0.1833\n",
      "Epoch 80\n"
     ]
    },
    {
     "name": "stderr",
     "output_type": "stream",
     "text": [
      "100%|██████████| 240/240 [00:50<00:00,  4.79it/s]\n",
      "100%|██████████| 39/39 [00:02<00:00, 14.57it/s]\n",
      "  0%|          | 0/240 [00:00<?, ?it/s]"
     ]
    },
    {
     "name": "stdout",
     "output_type": "stream",
     "text": [
      "Train Loss: 0.2122 ---- Valid Loss: 0.1798 ---- Valid MCRMSE: 0.1813\n",
      "Best valid MCRMSE updated to 0.18132184445858002\n",
      "Epoch 81\n"
     ]
    },
    {
     "name": "stderr",
     "output_type": "stream",
     "text": [
      "100%|██████████| 240/240 [00:49<00:00,  4.85it/s]\n",
      "100%|██████████| 39/39 [00:02<00:00, 14.83it/s]\n",
      "  0%|          | 0/240 [00:00<?, ?it/s]"
     ]
    },
    {
     "name": "stdout",
     "output_type": "stream",
     "text": [
      "Train Loss: 0.2150 ---- Valid Loss: 0.1829 ---- Valid MCRMSE: 0.1842\n",
      "Epoch 82\n"
     ]
    },
    {
     "name": "stderr",
     "output_type": "stream",
     "text": [
      "100%|██████████| 240/240 [00:50<00:00,  4.78it/s]\n",
      "100%|██████████| 39/39 [00:02<00:00, 15.04it/s]\n",
      "  0%|          | 0/240 [00:00<?, ?it/s]"
     ]
    },
    {
     "name": "stdout",
     "output_type": "stream",
     "text": [
      "Train Loss: 0.2127 ---- Valid Loss: 0.1808 ---- Valid MCRMSE: 0.1823\n",
      "Epoch 83\n"
     ]
    },
    {
     "name": "stderr",
     "output_type": "stream",
     "text": [
      "100%|██████████| 240/240 [00:49<00:00,  4.81it/s]\n",
      "100%|██████████| 39/39 [00:02<00:00, 14.95it/s]\n",
      "  0%|          | 0/240 [00:00<?, ?it/s]"
     ]
    },
    {
     "name": "stdout",
     "output_type": "stream",
     "text": [
      "Train Loss: 0.2127 ---- Valid Loss: 0.1815 ---- Valid MCRMSE: 0.1829\n",
      "Epoch 84\n"
     ]
    },
    {
     "name": "stderr",
     "output_type": "stream",
     "text": [
      "100%|██████████| 240/240 [00:50<00:00,  4.80it/s]\n",
      "100%|██████████| 39/39 [00:02<00:00, 14.95it/s]\n",
      "  0%|          | 0/240 [00:00<?, ?it/s]"
     ]
    },
    {
     "name": "stdout",
     "output_type": "stream",
     "text": [
      "Train Loss: 0.2119 ---- Valid Loss: 0.1834 ---- Valid MCRMSE: 0.1857\n",
      "Epoch 85\n"
     ]
    },
    {
     "name": "stderr",
     "output_type": "stream",
     "text": [
      "100%|██████████| 240/240 [00:50<00:00,  4.79it/s]\n",
      "100%|██████████| 39/39 [00:02<00:00, 14.61it/s]\n",
      "  0%|          | 0/240 [00:00<?, ?it/s]"
     ]
    },
    {
     "name": "stdout",
     "output_type": "stream",
     "text": [
      "Train Loss: 0.2094 ---- Valid Loss: 0.1805 ---- Valid MCRMSE: 0.1820\n",
      "Epoch 86\n"
     ]
    },
    {
     "name": "stderr",
     "output_type": "stream",
     "text": [
      "100%|██████████| 240/240 [00:49<00:00,  4.87it/s]\n",
      "100%|██████████| 39/39 [00:02<00:00, 14.97it/s]\n",
      "  0%|          | 0/240 [00:00<?, ?it/s]"
     ]
    },
    {
     "name": "stdout",
     "output_type": "stream",
     "text": [
      "Train Loss: 0.2090 ---- Valid Loss: 0.1808 ---- Valid MCRMSE: 0.1828\n",
      "Epoch 87\n"
     ]
    },
    {
     "name": "stderr",
     "output_type": "stream",
     "text": [
      "100%|██████████| 240/240 [00:50<00:00,  4.80it/s]\n",
      "100%|██████████| 39/39 [00:02<00:00, 14.89it/s]\n",
      "  0%|          | 0/240 [00:00<?, ?it/s]"
     ]
    },
    {
     "name": "stdout",
     "output_type": "stream",
     "text": [
      "Train Loss: 0.2098 ---- Valid Loss: 0.1802 ---- Valid MCRMSE: 0.1825\n",
      "Epoch 88\n"
     ]
    },
    {
     "name": "stderr",
     "output_type": "stream",
     "text": [
      "100%|██████████| 240/240 [00:49<00:00,  4.86it/s]\n",
      "100%|██████████| 39/39 [00:02<00:00, 14.48it/s]\n",
      "  0%|          | 0/240 [00:00<?, ?it/s]"
     ]
    },
    {
     "name": "stdout",
     "output_type": "stream",
     "text": [
      "Train Loss: 0.2093 ---- Valid Loss: 0.1961 ---- Valid MCRMSE: 0.2090\n",
      "Epoch 89\n"
     ]
    },
    {
     "name": "stderr",
     "output_type": "stream",
     "text": [
      "100%|██████████| 240/240 [00:50<00:00,  4.79it/s]\n",
      "100%|██████████| 39/39 [00:02<00:00, 14.79it/s]\n",
      "  0%|          | 0/240 [00:00<?, ?it/s]"
     ]
    },
    {
     "name": "stdout",
     "output_type": "stream",
     "text": [
      "Train Loss: 0.2103 ---- Valid Loss: 0.1797 ---- Valid MCRMSE: 0.1813\n",
      "Epoch 90\n"
     ]
    },
    {
     "name": "stderr",
     "output_type": "stream",
     "text": [
      "100%|██████████| 240/240 [00:50<00:00,  4.78it/s]\n",
      "100%|██████████| 39/39 [00:02<00:00, 14.56it/s]\n",
      "  0%|          | 0/240 [00:00<?, ?it/s]"
     ]
    },
    {
     "name": "stdout",
     "output_type": "stream",
     "text": [
      "Train Loss: 0.2083 ---- Valid Loss: 0.1804 ---- Valid MCRMSE: 0.1820\n",
      "Epoch 91\n"
     ]
    },
    {
     "name": "stderr",
     "output_type": "stream",
     "text": [
      "100%|██████████| 240/240 [00:49<00:00,  4.84it/s]\n",
      "100%|██████████| 39/39 [00:02<00:00, 14.58it/s]\n",
      "  0%|          | 0/240 [00:00<?, ?it/s]"
     ]
    },
    {
     "name": "stdout",
     "output_type": "stream",
     "text": [
      "Train Loss: 0.2088 ---- Valid Loss: 0.1803 ---- Valid MCRMSE: 0.1816\n",
      "Epoch 92\n"
     ]
    },
    {
     "name": "stderr",
     "output_type": "stream",
     "text": [
      "100%|██████████| 240/240 [00:49<00:00,  4.83it/s]\n",
      "100%|██████████| 39/39 [00:02<00:00, 14.88it/s]\n",
      "  0%|          | 0/240 [00:00<?, ?it/s]"
     ]
    },
    {
     "name": "stdout",
     "output_type": "stream",
     "text": [
      "Train Loss: 0.2078 ---- Valid Loss: 0.1789 ---- Valid MCRMSE: 0.1804\n",
      "Best valid MCRMSE updated to 0.18037842214107513\n",
      "Epoch 93\n"
     ]
    },
    {
     "name": "stderr",
     "output_type": "stream",
     "text": [
      "100%|██████████| 240/240 [00:50<00:00,  4.80it/s]\n",
      "100%|██████████| 39/39 [00:02<00:00, 14.87it/s]\n",
      "  0%|          | 0/240 [00:00<?, ?it/s]"
     ]
    },
    {
     "name": "stdout",
     "output_type": "stream",
     "text": [
      "Train Loss: 0.2070 ---- Valid Loss: 0.1799 ---- Valid MCRMSE: 0.1814\n",
      "Epoch 94\n"
     ]
    },
    {
     "name": "stderr",
     "output_type": "stream",
     "text": [
      "100%|██████████| 240/240 [00:50<00:00,  4.80it/s]\n",
      "100%|██████████| 39/39 [00:02<00:00, 14.96it/s]\n",
      "  0%|          | 0/240 [00:00<?, ?it/s]"
     ]
    },
    {
     "name": "stdout",
     "output_type": "stream",
     "text": [
      "Train Loss: 0.2072 ---- Valid Loss: 0.1813 ---- Valid MCRMSE: 0.1839\n",
      "Epoch 95\n"
     ]
    },
    {
     "name": "stderr",
     "output_type": "stream",
     "text": [
      "100%|██████████| 240/240 [00:49<00:00,  4.81it/s]\n",
      "100%|██████████| 39/39 [00:02<00:00, 14.54it/s]\n",
      "  0%|          | 0/240 [00:00<?, ?it/s]"
     ]
    },
    {
     "name": "stdout",
     "output_type": "stream",
     "text": [
      "Train Loss: 0.2098 ---- Valid Loss: 0.1786 ---- Valid MCRMSE: 0.1799\n",
      "Best valid MCRMSE updated to 0.1798515021800995\n",
      "Epoch 96\n"
     ]
    },
    {
     "name": "stderr",
     "output_type": "stream",
     "text": [
      "100%|██████████| 240/240 [00:49<00:00,  4.83it/s]\n",
      "100%|██████████| 39/39 [00:02<00:00, 14.63it/s]\n",
      "  0%|          | 0/240 [00:00<?, ?it/s]"
     ]
    },
    {
     "name": "stdout",
     "output_type": "stream",
     "text": [
      "Train Loss: 0.2058 ---- Valid Loss: 0.1800 ---- Valid MCRMSE: 0.1812\n",
      "Epoch 97\n"
     ]
    },
    {
     "name": "stderr",
     "output_type": "stream",
     "text": [
      "100%|██████████| 240/240 [00:49<00:00,  4.82it/s]\n",
      "100%|██████████| 39/39 [00:02<00:00, 14.57it/s]\n",
      "  0%|          | 0/240 [00:00<?, ?it/s]"
     ]
    },
    {
     "name": "stdout",
     "output_type": "stream",
     "text": [
      "Train Loss: 0.2092 ---- Valid Loss: 0.1792 ---- Valid MCRMSE: 0.1807\n",
      "Epoch 98\n"
     ]
    },
    {
     "name": "stderr",
     "output_type": "stream",
     "text": [
      "100%|██████████| 240/240 [00:49<00:00,  4.82it/s]\n",
      "100%|██████████| 39/39 [00:02<00:00, 14.44it/s]\n",
      "  0%|          | 0/240 [00:00<?, ?it/s]"
     ]
    },
    {
     "name": "stdout",
     "output_type": "stream",
     "text": [
      "Train Loss: 0.2049 ---- Valid Loss: 0.1800 ---- Valid MCRMSE: 0.1817\n",
      "Epoch 99\n"
     ]
    },
    {
     "name": "stderr",
     "output_type": "stream",
     "text": [
      "100%|██████████| 240/240 [00:50<00:00,  4.80it/s]\n",
      "100%|██████████| 39/39 [00:02<00:00, 14.45it/s]\n",
      "  0%|          | 0/240 [00:00<?, ?it/s]"
     ]
    },
    {
     "name": "stdout",
     "output_type": "stream",
     "text": [
      "Train Loss: 0.2057 ---- Valid Loss: 0.1782 ---- Valid MCRMSE: 0.1796\n",
      "Best valid MCRMSE updated to 0.17964661121368408\n",
      "Epoch 100\n"
     ]
    },
    {
     "name": "stderr",
     "output_type": "stream",
     "text": [
      "100%|██████████| 240/240 [00:49<00:00,  4.85it/s]\n",
      "100%|██████████| 39/39 [00:02<00:00, 14.83it/s]\n",
      "  0%|          | 0/240 [00:00<?, ?it/s]"
     ]
    },
    {
     "name": "stdout",
     "output_type": "stream",
     "text": [
      "Train Loss: 0.2044 ---- Valid Loss: 0.1793 ---- Valid MCRMSE: 0.1809\n",
      "Epoch 101\n"
     ]
    },
    {
     "name": "stderr",
     "output_type": "stream",
     "text": [
      "100%|██████████| 240/240 [00:50<00:00,  4.77it/s]\n",
      "100%|██████████| 39/39 [00:02<00:00, 14.62it/s]\n",
      "  0%|          | 0/240 [00:00<?, ?it/s]"
     ]
    },
    {
     "name": "stdout",
     "output_type": "stream",
     "text": [
      "Train Loss: 0.2041 ---- Valid Loss: 0.1797 ---- Valid MCRMSE: 0.1831\n",
      "Epoch 102\n"
     ]
    },
    {
     "name": "stderr",
     "output_type": "stream",
     "text": [
      "100%|██████████| 240/240 [00:49<00:00,  4.83it/s]\n",
      "100%|██████████| 39/39 [00:02<00:00, 14.89it/s]\n",
      "  0%|          | 0/240 [00:00<?, ?it/s]"
     ]
    },
    {
     "name": "stdout",
     "output_type": "stream",
     "text": [
      "Train Loss: 0.2068 ---- Valid Loss: 0.1786 ---- Valid MCRMSE: 0.1803\n",
      "Epoch 103\n"
     ]
    },
    {
     "name": "stderr",
     "output_type": "stream",
     "text": [
      "100%|██████████| 240/240 [00:49<00:00,  4.82it/s]\n",
      "100%|██████████| 39/39 [00:02<00:00, 14.93it/s]\n",
      "  0%|          | 0/240 [00:00<?, ?it/s]"
     ]
    },
    {
     "name": "stdout",
     "output_type": "stream",
     "text": [
      "Train Loss: 0.2045 ---- Valid Loss: 0.1795 ---- Valid MCRMSE: 0.1818\n",
      "Epoch 104\n"
     ]
    },
    {
     "name": "stderr",
     "output_type": "stream",
     "text": [
      "100%|██████████| 240/240 [00:49<00:00,  4.83it/s]\n",
      "100%|██████████| 39/39 [00:02<00:00, 14.51it/s]\n",
      "  0%|          | 0/240 [00:00<?, ?it/s]"
     ]
    },
    {
     "name": "stdout",
     "output_type": "stream",
     "text": [
      "Train Loss: 0.2036 ---- Valid Loss: 0.1794 ---- Valid MCRMSE: 0.1820\n",
      "Epoch 105\n"
     ]
    },
    {
     "name": "stderr",
     "output_type": "stream",
     "text": [
      "100%|██████████| 240/240 [00:49<00:00,  4.83it/s]\n",
      "100%|██████████| 39/39 [00:02<00:00, 15.02it/s]\n",
      "  0%|          | 0/240 [00:00<?, ?it/s]"
     ]
    },
    {
     "name": "stdout",
     "output_type": "stream",
     "text": [
      "Train Loss: 0.2027 ---- Valid Loss: 0.1765 ---- Valid MCRMSE: 0.1778\n",
      "Best valid MCRMSE updated to 0.17775653302669525\n",
      "Epoch 106\n"
     ]
    },
    {
     "name": "stderr",
     "output_type": "stream",
     "text": [
      "100%|██████████| 240/240 [00:50<00:00,  4.80it/s]\n",
      "100%|██████████| 39/39 [00:02<00:00, 14.59it/s]\n",
      "  0%|          | 0/240 [00:00<?, ?it/s]"
     ]
    },
    {
     "name": "stdout",
     "output_type": "stream",
     "text": [
      "Train Loss: 0.2011 ---- Valid Loss: 0.1773 ---- Valid MCRMSE: 0.1791\n",
      "Epoch 107\n"
     ]
    },
    {
     "name": "stderr",
     "output_type": "stream",
     "text": [
      "100%|██████████| 240/240 [00:49<00:00,  4.81it/s]\n",
      "100%|██████████| 39/39 [00:02<00:00, 14.59it/s]\n",
      "  0%|          | 0/240 [00:00<?, ?it/s]"
     ]
    },
    {
     "name": "stdout",
     "output_type": "stream",
     "text": [
      "Train Loss: 0.2026 ---- Valid Loss: 0.1794 ---- Valid MCRMSE: 0.1818\n",
      "Epoch 108\n"
     ]
    },
    {
     "name": "stderr",
     "output_type": "stream",
     "text": [
      "100%|██████████| 240/240 [00:49<00:00,  4.85it/s]\n",
      "100%|██████████| 39/39 [00:02<00:00, 14.59it/s]\n",
      "  0%|          | 0/240 [00:00<?, ?it/s]"
     ]
    },
    {
     "name": "stdout",
     "output_type": "stream",
     "text": [
      "Train Loss: 0.2062 ---- Valid Loss: 0.1782 ---- Valid MCRMSE: 0.1800\n",
      "Epoch 109\n"
     ]
    },
    {
     "name": "stderr",
     "output_type": "stream",
     "text": [
      "100%|██████████| 240/240 [00:50<00:00,  4.77it/s]\n",
      "100%|██████████| 39/39 [00:02<00:00, 14.87it/s]\n",
      "  0%|          | 0/240 [00:00<?, ?it/s]"
     ]
    },
    {
     "name": "stdout",
     "output_type": "stream",
     "text": [
      "Train Loss: 0.2070 ---- Valid Loss: 0.1806 ---- Valid MCRMSE: 0.1825\n",
      "Epoch 110\n"
     ]
    },
    {
     "name": "stderr",
     "output_type": "stream",
     "text": [
      "100%|██████████| 240/240 [00:49<00:00,  4.82it/s]\n",
      "100%|██████████| 39/39 [00:02<00:00, 14.60it/s]\n",
      "  0%|          | 0/240 [00:00<?, ?it/s]"
     ]
    },
    {
     "name": "stdout",
     "output_type": "stream",
     "text": [
      "Train Loss: 0.2019 ---- Valid Loss: 0.1782 ---- Valid MCRMSE: 0.1801\n",
      "Epoch 111\n"
     ]
    },
    {
     "name": "stderr",
     "output_type": "stream",
     "text": [
      "100%|██████████| 240/240 [00:49<00:00,  4.82it/s]\n",
      "100%|██████████| 39/39 [00:02<00:00, 14.91it/s]\n",
      "  0%|          | 0/240 [00:00<?, ?it/s]"
     ]
    },
    {
     "name": "stdout",
     "output_type": "stream",
     "text": [
      "Train Loss: 0.2034 ---- Valid Loss: 0.1779 ---- Valid MCRMSE: 0.1794\n",
      "Epoch 112\n"
     ]
    },
    {
     "name": "stderr",
     "output_type": "stream",
     "text": [
      "100%|██████████| 240/240 [00:49<00:00,  4.82it/s]\n",
      "100%|██████████| 39/39 [00:02<00:00, 14.53it/s]\n",
      "  0%|          | 0/240 [00:00<?, ?it/s]"
     ]
    },
    {
     "name": "stdout",
     "output_type": "stream",
     "text": [
      "Train Loss: 0.2016 ---- Valid Loss: 0.1755 ---- Valid MCRMSE: 0.1769\n",
      "Best valid MCRMSE updated to 0.1768856644630432\n",
      "Epoch 113\n"
     ]
    },
    {
     "name": "stderr",
     "output_type": "stream",
     "text": [
      "100%|██████████| 240/240 [00:49<00:00,  4.83it/s]\n",
      "100%|██████████| 39/39 [00:02<00:00, 14.90it/s]\n",
      "  0%|          | 0/240 [00:00<?, ?it/s]"
     ]
    },
    {
     "name": "stdout",
     "output_type": "stream",
     "text": [
      "Train Loss: 0.1980 ---- Valid Loss: 0.1757 ---- Valid MCRMSE: 0.1773\n",
      "Epoch 114\n"
     ]
    },
    {
     "name": "stderr",
     "output_type": "stream",
     "text": [
      "100%|██████████| 240/240 [00:50<00:00,  4.80it/s]\n",
      "100%|██████████| 39/39 [00:02<00:00, 14.95it/s]\n",
      "  0%|          | 0/240 [00:00<?, ?it/s]"
     ]
    },
    {
     "name": "stdout",
     "output_type": "stream",
     "text": [
      "Train Loss: 0.1989 ---- Valid Loss: 0.1770 ---- Valid MCRMSE: 0.1784\n",
      "Epoch 115\n"
     ]
    },
    {
     "name": "stderr",
     "output_type": "stream",
     "text": [
      "100%|██████████| 240/240 [00:49<00:00,  4.82it/s]\n",
      "100%|██████████| 39/39 [00:02<00:00, 14.52it/s]\n",
      "  0%|          | 0/240 [00:00<?, ?it/s]"
     ]
    },
    {
     "name": "stdout",
     "output_type": "stream",
     "text": [
      "Train Loss: 0.1982 ---- Valid Loss: 0.1771 ---- Valid MCRMSE: 0.1786\n",
      "Epoch 116\n"
     ]
    },
    {
     "name": "stderr",
     "output_type": "stream",
     "text": [
      "100%|██████████| 240/240 [00:49<00:00,  4.85it/s]\n",
      "100%|██████████| 39/39 [00:02<00:00, 14.91it/s]\n",
      "  0%|          | 0/240 [00:00<?, ?it/s]"
     ]
    },
    {
     "name": "stdout",
     "output_type": "stream",
     "text": [
      "Train Loss: 0.2009 ---- Valid Loss: 0.1770 ---- Valid MCRMSE: 0.1785\n",
      "Epoch 117\n"
     ]
    },
    {
     "name": "stderr",
     "output_type": "stream",
     "text": [
      "100%|██████████| 240/240 [00:49<00:00,  4.82it/s]\n",
      "100%|██████████| 39/39 [00:02<00:00, 15.02it/s]\n",
      "  0%|          | 0/240 [00:00<?, ?it/s]"
     ]
    },
    {
     "name": "stdout",
     "output_type": "stream",
     "text": [
      "Train Loss: 0.1987 ---- Valid Loss: 0.1766 ---- Valid MCRMSE: 0.1780\n",
      "Epoch 118\n"
     ]
    },
    {
     "name": "stderr",
     "output_type": "stream",
     "text": [
      "100%|██████████| 240/240 [00:50<00:00,  4.80it/s]\n",
      "100%|██████████| 39/39 [00:02<00:00, 14.59it/s]\n",
      "  0%|          | 0/240 [00:00<?, ?it/s]"
     ]
    },
    {
     "name": "stdout",
     "output_type": "stream",
     "text": [
      "Train Loss: 0.1991 ---- Valid Loss: 0.1757 ---- Valid MCRMSE: 0.1773\n",
      "Epoch 119\n"
     ]
    },
    {
     "name": "stderr",
     "output_type": "stream",
     "text": [
      "100%|██████████| 240/240 [00:49<00:00,  4.82it/s]\n",
      "100%|██████████| 39/39 [00:02<00:00, 14.91it/s]\n",
      "  0%|          | 0/240 [00:00<?, ?it/s]"
     ]
    },
    {
     "name": "stdout",
     "output_type": "stream",
     "text": [
      "Train Loss: 0.1983 ---- Valid Loss: 0.1756 ---- Valid MCRMSE: 0.1770\n",
      "Epoch 120\n"
     ]
    },
    {
     "name": "stderr",
     "output_type": "stream",
     "text": [
      "100%|██████████| 240/240 [00:49<00:00,  4.81it/s]\n",
      "100%|██████████| 39/39 [00:02<00:00, 14.53it/s]\n",
      "  0%|          | 0/240 [00:00<?, ?it/s]"
     ]
    },
    {
     "name": "stdout",
     "output_type": "stream",
     "text": [
      "Train Loss: 0.1964 ---- Valid Loss: 0.1768 ---- Valid MCRMSE: 0.1783\n",
      "Epoch 121\n"
     ]
    },
    {
     "name": "stderr",
     "output_type": "stream",
     "text": [
      "100%|██████████| 240/240 [00:49<00:00,  4.83it/s]\n",
      "100%|██████████| 39/39 [00:02<00:00, 14.94it/s]\n",
      "  0%|          | 0/240 [00:00<?, ?it/s]"
     ]
    },
    {
     "name": "stdout",
     "output_type": "stream",
     "text": [
      "Train Loss: 0.1971 ---- Valid Loss: 0.1751 ---- Valid MCRMSE: 0.1766\n",
      "Best valid MCRMSE updated to 0.1765863299369812\n",
      "Epoch 122\n"
     ]
    },
    {
     "name": "stderr",
     "output_type": "stream",
     "text": [
      "100%|██████████| 240/240 [00:49<00:00,  4.81it/s]\n",
      "100%|██████████| 39/39 [00:02<00:00, 14.62it/s]\n",
      "  0%|          | 0/240 [00:00<?, ?it/s]"
     ]
    },
    {
     "name": "stdout",
     "output_type": "stream",
     "text": [
      "Train Loss: 0.2002 ---- Valid Loss: 0.1783 ---- Valid MCRMSE: 0.1800\n",
      "Epoch 123\n"
     ]
    },
    {
     "name": "stderr",
     "output_type": "stream",
     "text": [
      "100%|██████████| 240/240 [00:49<00:00,  4.85it/s]\n",
      "100%|██████████| 39/39 [00:02<00:00, 14.93it/s]\n",
      "  0%|          | 0/240 [00:00<?, ?it/s]"
     ]
    },
    {
     "name": "stdout",
     "output_type": "stream",
     "text": [
      "Train Loss: 0.2006 ---- Valid Loss: 0.1760 ---- Valid MCRMSE: 0.1774\n",
      "Epoch 124\n"
     ]
    },
    {
     "name": "stderr",
     "output_type": "stream",
     "text": [
      "100%|██████████| 240/240 [00:50<00:00,  4.80it/s]\n",
      "100%|██████████| 39/39 [00:02<00:00, 14.53it/s]\n",
      "  0%|          | 0/240 [00:00<?, ?it/s]"
     ]
    },
    {
     "name": "stdout",
     "output_type": "stream",
     "text": [
      "Train Loss: 0.1984 ---- Valid Loss: 0.1744 ---- Valid MCRMSE: 0.1760\n",
      "Best valid MCRMSE updated to 0.17600224912166595\n",
      "Epoch 125\n"
     ]
    },
    {
     "name": "stderr",
     "output_type": "stream",
     "text": [
      "100%|██████████| 240/240 [00:49<00:00,  4.81it/s]\n",
      "100%|██████████| 39/39 [00:02<00:00, 14.48it/s]\n",
      "  0%|          | 0/240 [00:00<?, ?it/s]"
     ]
    },
    {
     "name": "stdout",
     "output_type": "stream",
     "text": [
      "Train Loss: 0.1954 ---- Valid Loss: 0.1732 ---- Valid MCRMSE: 0.1746\n",
      "Best valid MCRMSE updated to 0.1746000349521637\n",
      "Epoch 126\n"
     ]
    },
    {
     "name": "stderr",
     "output_type": "stream",
     "text": [
      "100%|██████████| 240/240 [00:49<00:00,  4.84it/s]\n",
      "100%|██████████| 39/39 [00:02<00:00, 14.58it/s]\n",
      "  0%|          | 0/240 [00:00<?, ?it/s]"
     ]
    },
    {
     "name": "stdout",
     "output_type": "stream",
     "text": [
      "Train Loss: 0.1952 ---- Valid Loss: 0.1729 ---- Valid MCRMSE: 0.1743\n",
      "Best valid MCRMSE updated to 0.17434382438659668\n",
      "Epoch 127\n"
     ]
    },
    {
     "name": "stderr",
     "output_type": "stream",
     "text": [
      "100%|██████████| 240/240 [00:50<00:00,  4.77it/s]\n",
      "100%|██████████| 39/39 [00:02<00:00, 14.88it/s]\n",
      "  0%|          | 0/240 [00:00<?, ?it/s]"
     ]
    },
    {
     "name": "stdout",
     "output_type": "stream",
     "text": [
      "Train Loss: 0.1971 ---- Valid Loss: 0.1741 ---- Valid MCRMSE: 0.1756\n",
      "Epoch 128\n"
     ]
    },
    {
     "name": "stderr",
     "output_type": "stream",
     "text": [
      "100%|██████████| 240/240 [00:49<00:00,  4.81it/s]\n",
      "100%|██████████| 39/39 [00:02<00:00, 14.56it/s]\n",
      "  0%|          | 0/240 [00:00<?, ?it/s]"
     ]
    },
    {
     "name": "stdout",
     "output_type": "stream",
     "text": [
      "Train Loss: 0.1932 ---- Valid Loss: 0.1764 ---- Valid MCRMSE: 0.1786\n",
      "Epoch 129\n"
     ]
    },
    {
     "name": "stderr",
     "output_type": "stream",
     "text": [
      "100%|██████████| 240/240 [00:49<00:00,  4.88it/s]\n",
      "100%|██████████| 39/39 [00:02<00:00, 14.96it/s]\n",
      "  5%|▌         | 2/39 [00:00<00:02, 14.85it/s]"
     ]
    },
    {
     "name": "stdout",
     "output_type": "stream",
     "text": [
      "Train Loss: 0.1948 ---- Valid Loss: 0.1748 ---- Valid MCRMSE: 0.1765\n"
     ]
    },
    {
     "name": "stderr",
     "output_type": "stream",
     "text": [
      "100%|██████████| 39/39 [00:02<00:00, 14.81it/s]\n"
     ]
    },
    {
     "name": "stdout",
     "output_type": "stream",
     "text": [
      "Fold 2\n"
     ]
    },
    {
     "name": "stderr",
     "output_type": "stream",
     "text": [
      "\r",
      "  0%|          | 0/240 [00:00<?, ?it/s]"
     ]
    },
    {
     "name": "stdout",
     "output_type": "stream",
     "text": [
      "Epoch 0\n"
     ]
    },
    {
     "name": "stderr",
     "output_type": "stream",
     "text": [
      "100%|██████████| 240/240 [00:49<00:00,  4.81it/s]\n",
      "100%|██████████| 41/41 [00:02<00:00, 14.95it/s]\n",
      "  0%|          | 0/240 [00:00<?, ?it/s]"
     ]
    },
    {
     "name": "stdout",
     "output_type": "stream",
     "text": [
      "Train Loss: 0.3947 ---- Valid Loss: 0.3048 ---- Valid MCRMSE: 0.3065\n",
      "Best valid MCRMSE updated to 0.30649715662002563\n",
      "Epoch 1\n"
     ]
    },
    {
     "name": "stderr",
     "output_type": "stream",
     "text": [
      "100%|██████████| 240/240 [00:49<00:00,  4.81it/s]\n",
      "100%|██████████| 41/41 [00:02<00:00, 15.19it/s]\n",
      "  0%|          | 0/240 [00:00<?, ?it/s]"
     ]
    },
    {
     "name": "stdout",
     "output_type": "stream",
     "text": [
      "Train Loss: 0.3333 ---- Valid Loss: 0.2719 ---- Valid MCRMSE: 0.2738\n",
      "Best valid MCRMSE updated to 0.27378174662590027\n",
      "Epoch 2\n"
     ]
    },
    {
     "name": "stderr",
     "output_type": "stream",
     "text": [
      "100%|██████████| 240/240 [00:50<00:00,  4.77it/s]\n",
      "100%|██████████| 41/41 [00:02<00:00, 15.16it/s]\n",
      "  0%|          | 0/240 [00:00<?, ?it/s]"
     ]
    },
    {
     "name": "stdout",
     "output_type": "stream",
     "text": [
      "Train Loss: 0.3146 ---- Valid Loss: 0.2619 ---- Valid MCRMSE: 0.2639\n",
      "Best valid MCRMSE updated to 0.2639157474040985\n",
      "Epoch 3\n"
     ]
    },
    {
     "name": "stderr",
     "output_type": "stream",
     "text": [
      "100%|██████████| 240/240 [00:49<00:00,  4.81it/s]\n",
      "100%|██████████| 41/41 [00:02<00:00, 15.17it/s]\n",
      "  0%|          | 0/240 [00:00<?, ?it/s]"
     ]
    },
    {
     "name": "stdout",
     "output_type": "stream",
     "text": [
      "Train Loss: 0.3030 ---- Valid Loss: 0.2568 ---- Valid MCRMSE: 0.2588\n",
      "Best valid MCRMSE updated to 0.25876984000205994\n",
      "Epoch 4\n"
     ]
    },
    {
     "name": "stderr",
     "output_type": "stream",
     "text": [
      "100%|██████████| 240/240 [00:50<00:00,  4.79it/s]\n",
      "100%|██████████| 41/41 [00:02<00:00, 14.92it/s]\n",
      "  0%|          | 0/240 [00:00<?, ?it/s]"
     ]
    },
    {
     "name": "stdout",
     "output_type": "stream",
     "text": [
      "Train Loss: 0.2978 ---- Valid Loss: 0.2486 ---- Valid MCRMSE: 0.2509\n",
      "Best valid MCRMSE updated to 0.2509292960166931\n",
      "Epoch 5\n"
     ]
    },
    {
     "name": "stderr",
     "output_type": "stream",
     "text": [
      "100%|██████████| 240/240 [00:49<00:00,  4.81it/s]\n",
      "100%|██████████| 41/41 [00:02<00:00, 15.19it/s]\n",
      "  0%|          | 0/240 [00:00<?, ?it/s]"
     ]
    },
    {
     "name": "stdout",
     "output_type": "stream",
     "text": [
      "Train Loss: 0.2926 ---- Valid Loss: 0.2462 ---- Valid MCRMSE: 0.2488\n",
      "Best valid MCRMSE updated to 0.2487657368183136\n",
      "Epoch 6\n"
     ]
    },
    {
     "name": "stderr",
     "output_type": "stream",
     "text": [
      "100%|██████████| 240/240 [00:50<00:00,  4.79it/s]\n",
      "100%|██████████| 41/41 [00:02<00:00, 14.92it/s]\n",
      "  0%|          | 0/240 [00:00<?, ?it/s]"
     ]
    },
    {
     "name": "stdout",
     "output_type": "stream",
     "text": [
      "Train Loss: 0.2890 ---- Valid Loss: 0.2452 ---- Valid MCRMSE: 0.2479\n",
      "Best valid MCRMSE updated to 0.24791443347930908\n",
      "Epoch 7\n"
     ]
    },
    {
     "name": "stderr",
     "output_type": "stream",
     "text": [
      "100%|██████████| 240/240 [00:49<00:00,  4.83it/s]\n",
      "100%|██████████| 41/41 [00:02<00:00, 15.18it/s]\n",
      "  0%|          | 0/240 [00:00<?, ?it/s]"
     ]
    },
    {
     "name": "stdout",
     "output_type": "stream",
     "text": [
      "Train Loss: 0.2848 ---- Valid Loss: 0.2389 ---- Valid MCRMSE: 0.2415\n",
      "Best valid MCRMSE updated to 0.24151961505413055\n",
      "Epoch 8\n"
     ]
    },
    {
     "name": "stderr",
     "output_type": "stream",
     "text": [
      "100%|██████████| 240/240 [00:50<00:00,  4.77it/s]\n",
      "100%|██████████| 41/41 [00:02<00:00, 15.01it/s]\n",
      "  0%|          | 0/240 [00:00<?, ?it/s]"
     ]
    },
    {
     "name": "stdout",
     "output_type": "stream",
     "text": [
      "Train Loss: 0.2806 ---- Valid Loss: 0.2365 ---- Valid MCRMSE: 0.2393\n",
      "Best valid MCRMSE updated to 0.23927755653858185\n",
      "Epoch 9\n"
     ]
    },
    {
     "name": "stderr",
     "output_type": "stream",
     "text": [
      "100%|██████████| 240/240 [00:49<00:00,  4.82it/s]\n",
      "100%|██████████| 41/41 [00:02<00:00, 14.78it/s]\n",
      "  0%|          | 0/240 [00:00<?, ?it/s]"
     ]
    },
    {
     "name": "stdout",
     "output_type": "stream",
     "text": [
      "Train Loss: 0.2790 ---- Valid Loss: 0.2365 ---- Valid MCRMSE: 0.2387\n",
      "Best valid MCRMSE updated to 0.2387130707502365\n",
      "Epoch 10\n"
     ]
    },
    {
     "name": "stderr",
     "output_type": "stream",
     "text": [
      "100%|██████████| 240/240 [00:50<00:00,  4.79it/s]\n",
      "100%|██████████| 41/41 [00:02<00:00, 14.90it/s]\n",
      "  0%|          | 0/240 [00:00<?, ?it/s]"
     ]
    },
    {
     "name": "stdout",
     "output_type": "stream",
     "text": [
      "Train Loss: 0.2766 ---- Valid Loss: 0.2319 ---- Valid MCRMSE: 0.2345\n",
      "Best valid MCRMSE updated to 0.23445236682891846\n",
      "Epoch 11\n"
     ]
    },
    {
     "name": "stderr",
     "output_type": "stream",
     "text": [
      "100%|██████████| 240/240 [00:50<00:00,  4.79it/s]\n",
      "100%|██████████| 41/41 [00:02<00:00, 14.82it/s]\n",
      "  0%|          | 0/240 [00:00<?, ?it/s]"
     ]
    },
    {
     "name": "stdout",
     "output_type": "stream",
     "text": [
      "Train Loss: 0.2754 ---- Valid Loss: 0.2269 ---- Valid MCRMSE: 0.2291\n",
      "Best valid MCRMSE updated to 0.22913268208503723\n",
      "Epoch 12\n"
     ]
    },
    {
     "name": "stderr",
     "output_type": "stream",
     "text": [
      "100%|██████████| 240/240 [00:49<00:00,  4.80it/s]\n",
      "100%|██████████| 41/41 [00:02<00:00, 14.87it/s]\n",
      "  0%|          | 0/240 [00:00<?, ?it/s]"
     ]
    },
    {
     "name": "stdout",
     "output_type": "stream",
     "text": [
      "Train Loss: 0.2711 ---- Valid Loss: 0.2271 ---- Valid MCRMSE: 0.2295\n",
      "Epoch 13\n"
     ]
    },
    {
     "name": "stderr",
     "output_type": "stream",
     "text": [
      "100%|██████████| 240/240 [00:49<00:00,  4.84it/s]\n",
      "100%|██████████| 41/41 [00:02<00:00, 14.89it/s]\n",
      "  0%|          | 0/240 [00:00<?, ?it/s]"
     ]
    },
    {
     "name": "stdout",
     "output_type": "stream",
     "text": [
      "Train Loss: 0.2691 ---- Valid Loss: 0.2253 ---- Valid MCRMSE: 0.2282\n",
      "Best valid MCRMSE updated to 0.22818827629089355\n",
      "Epoch 14\n"
     ]
    },
    {
     "name": "stderr",
     "output_type": "stream",
     "text": [
      "100%|██████████| 240/240 [00:50<00:00,  4.76it/s]\n",
      "100%|██████████| 41/41 [00:02<00:00, 15.17it/s]\n",
      "  0%|          | 0/240 [00:00<?, ?it/s]"
     ]
    },
    {
     "name": "stdout",
     "output_type": "stream",
     "text": [
      "Train Loss: 0.2672 ---- Valid Loss: 0.2207 ---- Valid MCRMSE: 0.2230\n",
      "Best valid MCRMSE updated to 0.2229558527469635\n",
      "Epoch 15\n"
     ]
    },
    {
     "name": "stderr",
     "output_type": "stream",
     "text": [
      "100%|██████████| 240/240 [00:49<00:00,  4.83it/s]\n",
      "100%|██████████| 41/41 [00:02<00:00, 15.27it/s]\n",
      "  0%|          | 0/240 [00:00<?, ?it/s]"
     ]
    },
    {
     "name": "stdout",
     "output_type": "stream",
     "text": [
      "Train Loss: 0.2654 ---- Valid Loss: 0.2207 ---- Valid MCRMSE: 0.2229\n",
      "Best valid MCRMSE updated to 0.22294437885284424\n",
      "Epoch 16\n"
     ]
    },
    {
     "name": "stderr",
     "output_type": "stream",
     "text": [
      "100%|██████████| 240/240 [00:50<00:00,  4.77it/s]\n",
      "100%|██████████| 41/41 [00:02<00:00, 14.84it/s]\n",
      "  0%|          | 0/240 [00:00<?, ?it/s]"
     ]
    },
    {
     "name": "stdout",
     "output_type": "stream",
     "text": [
      "Train Loss: 0.2633 ---- Valid Loss: 0.2247 ---- Valid MCRMSE: 0.2271\n",
      "Epoch 17\n"
     ]
    },
    {
     "name": "stderr",
     "output_type": "stream",
     "text": [
      "100%|██████████| 240/240 [00:49<00:00,  4.83it/s]\n",
      "100%|██████████| 41/41 [00:02<00:00, 15.28it/s]\n",
      "  0%|          | 0/240 [00:00<?, ?it/s]"
     ]
    },
    {
     "name": "stdout",
     "output_type": "stream",
     "text": [
      "Train Loss: 0.2612 ---- Valid Loss: 0.2155 ---- Valid MCRMSE: 0.2178\n",
      "Best valid MCRMSE updated to 0.2178158313035965\n",
      "Epoch 18\n"
     ]
    },
    {
     "name": "stderr",
     "output_type": "stream",
     "text": [
      "100%|██████████| 240/240 [00:50<00:00,  4.79it/s]\n",
      "100%|██████████| 41/41 [00:02<00:00, 15.22it/s]\n",
      "  0%|          | 0/240 [00:00<?, ?it/s]"
     ]
    },
    {
     "name": "stdout",
     "output_type": "stream",
     "text": [
      "Train Loss: 0.2598 ---- Valid Loss: 0.2160 ---- Valid MCRMSE: 0.2182\n",
      "Epoch 19\n"
     ]
    },
    {
     "name": "stderr",
     "output_type": "stream",
     "text": [
      "100%|██████████| 240/240 [00:49<00:00,  4.81it/s]\n",
      "100%|██████████| 41/41 [00:02<00:00, 15.24it/s]\n",
      "  0%|          | 0/240 [00:00<?, ?it/s]"
     ]
    },
    {
     "name": "stdout",
     "output_type": "stream",
     "text": [
      "Train Loss: 0.2579 ---- Valid Loss: 0.2122 ---- Valid MCRMSE: 0.2146\n",
      "Best valid MCRMSE updated to 0.21461553871631622\n",
      "Epoch 20\n"
     ]
    },
    {
     "name": "stderr",
     "output_type": "stream",
     "text": [
      "100%|██████████| 240/240 [00:49<00:00,  4.81it/s]\n",
      "100%|██████████| 41/41 [00:02<00:00, 15.19it/s]\n",
      "  0%|          | 0/240 [00:00<?, ?it/s]"
     ]
    },
    {
     "name": "stdout",
     "output_type": "stream",
     "text": [
      "Train Loss: 0.2576 ---- Valid Loss: 0.2111 ---- Valid MCRMSE: 0.2136\n",
      "Best valid MCRMSE updated to 0.21355628967285156\n",
      "Epoch 21\n"
     ]
    },
    {
     "name": "stderr",
     "output_type": "stream",
     "text": [
      "100%|██████████| 240/240 [00:50<00:00,  4.79it/s]\n",
      "100%|██████████| 41/41 [00:02<00:00, 15.18it/s]\n",
      "  0%|          | 0/240 [00:00<?, ?it/s]"
     ]
    },
    {
     "name": "stdout",
     "output_type": "stream",
     "text": [
      "Train Loss: 0.2556 ---- Valid Loss: 0.2121 ---- Valid MCRMSE: 0.2147\n",
      "Epoch 22\n"
     ]
    },
    {
     "name": "stderr",
     "output_type": "stream",
     "text": [
      "100%|██████████| 240/240 [00:49<00:00,  4.81it/s]\n",
      "100%|██████████| 41/41 [00:02<00:00, 15.21it/s]\n",
      "  0%|          | 0/240 [00:00<?, ?it/s]"
     ]
    },
    {
     "name": "stdout",
     "output_type": "stream",
     "text": [
      "Train Loss: 0.2546 ---- Valid Loss: 0.2147 ---- Valid MCRMSE: 0.2170\n",
      "Epoch 23\n"
     ]
    },
    {
     "name": "stderr",
     "output_type": "stream",
     "text": [
      "100%|██████████| 240/240 [00:49<00:00,  4.80it/s]\n",
      "100%|██████████| 41/41 [00:02<00:00, 15.27it/s]\n",
      "  0%|          | 0/240 [00:00<?, ?it/s]"
     ]
    },
    {
     "name": "stdout",
     "output_type": "stream",
     "text": [
      "Train Loss: 0.2532 ---- Valid Loss: 0.2094 ---- Valid MCRMSE: 0.2116\n",
      "Best valid MCRMSE updated to 0.21158669888973236\n",
      "Epoch 24\n"
     ]
    },
    {
     "name": "stderr",
     "output_type": "stream",
     "text": [
      "100%|██████████| 240/240 [00:50<00:00,  4.75it/s]\n",
      "100%|██████████| 41/41 [00:02<00:00, 15.21it/s]\n",
      "  0%|          | 0/240 [00:00<?, ?it/s]"
     ]
    },
    {
     "name": "stdout",
     "output_type": "stream",
     "text": [
      "Train Loss: 0.2520 ---- Valid Loss: 0.2077 ---- Valid MCRMSE: 0.2099\n",
      "Best valid MCRMSE updated to 0.20987796783447266\n",
      "Epoch 25\n"
     ]
    },
    {
     "name": "stderr",
     "output_type": "stream",
     "text": [
      "100%|██████████| 240/240 [00:49<00:00,  4.87it/s]\n",
      "100%|██████████| 41/41 [00:02<00:00, 15.12it/s]\n",
      "  0%|          | 0/240 [00:00<?, ?it/s]"
     ]
    },
    {
     "name": "stdout",
     "output_type": "stream",
     "text": [
      "Train Loss: 0.2496 ---- Valid Loss: 0.2059 ---- Valid MCRMSE: 0.2081\n",
      "Best valid MCRMSE updated to 0.20810532569885254\n",
      "Epoch 26\n"
     ]
    },
    {
     "name": "stderr",
     "output_type": "stream",
     "text": [
      "100%|██████████| 240/240 [00:50<00:00,  4.79it/s]\n",
      "100%|██████████| 41/41 [00:02<00:00, 15.17it/s]\n",
      "  0%|          | 0/240 [00:00<?, ?it/s]"
     ]
    },
    {
     "name": "stdout",
     "output_type": "stream",
     "text": [
      "Train Loss: 0.2499 ---- Valid Loss: 0.2044 ---- Valid MCRMSE: 0.2068\n",
      "Best valid MCRMSE updated to 0.2068072110414505\n",
      "Epoch 27\n"
     ]
    },
    {
     "name": "stderr",
     "output_type": "stream",
     "text": [
      "100%|██████████| 240/240 [00:49<00:00,  4.83it/s]\n",
      "100%|██████████| 41/41 [00:02<00:00, 14.86it/s]\n",
      "  0%|          | 0/240 [00:00<?, ?it/s]"
     ]
    },
    {
     "name": "stdout",
     "output_type": "stream",
     "text": [
      "Train Loss: 0.2484 ---- Valid Loss: 0.2029 ---- Valid MCRMSE: 0.2053\n",
      "Best valid MCRMSE updated to 0.2052917331457138\n",
      "Epoch 28\n"
     ]
    },
    {
     "name": "stderr",
     "output_type": "stream",
     "text": [
      "100%|██████████| 240/240 [00:49<00:00,  4.81it/s]\n",
      "100%|██████████| 41/41 [00:02<00:00, 15.18it/s]\n",
      "  0%|          | 0/240 [00:00<?, ?it/s]"
     ]
    },
    {
     "name": "stdout",
     "output_type": "stream",
     "text": [
      "Train Loss: 0.2472 ---- Valid Loss: 0.2043 ---- Valid MCRMSE: 0.2065\n",
      "Epoch 29\n"
     ]
    },
    {
     "name": "stderr",
     "output_type": "stream",
     "text": [
      "100%|██████████| 240/240 [00:49<00:00,  4.82it/s]\n",
      "100%|██████████| 41/41 [00:02<00:00, 14.85it/s]\n",
      "  0%|          | 0/240 [00:00<?, ?it/s]"
     ]
    },
    {
     "name": "stdout",
     "output_type": "stream",
     "text": [
      "Train Loss: 0.2462 ---- Valid Loss: 0.2019 ---- Valid MCRMSE: 0.2042\n",
      "Best valid MCRMSE updated to 0.20419061183929443\n",
      "Epoch 30\n"
     ]
    },
    {
     "name": "stderr",
     "output_type": "stream",
     "text": [
      "100%|██████████| 240/240 [00:50<00:00,  4.77it/s]\n",
      "100%|██████████| 41/41 [00:02<00:00, 14.77it/s]\n",
      "  0%|          | 0/240 [00:00<?, ?it/s]"
     ]
    },
    {
     "name": "stdout",
     "output_type": "stream",
     "text": [
      "Train Loss: 0.2453 ---- Valid Loss: 0.2110 ---- Valid MCRMSE: 0.2133\n",
      "Epoch 31\n"
     ]
    },
    {
     "name": "stderr",
     "output_type": "stream",
     "text": [
      "100%|██████████| 240/240 [00:49<00:00,  4.87it/s]\n",
      "100%|██████████| 41/41 [00:02<00:00, 15.19it/s]\n",
      "  0%|          | 0/240 [00:00<?, ?it/s]"
     ]
    },
    {
     "name": "stdout",
     "output_type": "stream",
     "text": [
      "Train Loss: 0.2446 ---- Valid Loss: 0.2015 ---- Valid MCRMSE: 0.2039\n",
      "Best valid MCRMSE updated to 0.2039198875427246\n",
      "Epoch 32\n"
     ]
    },
    {
     "name": "stderr",
     "output_type": "stream",
     "text": [
      "100%|██████████| 240/240 [00:50<00:00,  4.79it/s]\n",
      "100%|██████████| 41/41 [00:02<00:00, 15.18it/s]\n",
      "  0%|          | 0/240 [00:00<?, ?it/s]"
     ]
    },
    {
     "name": "stdout",
     "output_type": "stream",
     "text": [
      "Train Loss: 0.2422 ---- Valid Loss: 0.2004 ---- Valid MCRMSE: 0.2028\n",
      "Best valid MCRMSE updated to 0.20275716483592987\n",
      "Epoch 33\n"
     ]
    },
    {
     "name": "stderr",
     "output_type": "stream",
     "text": [
      "100%|██████████| 240/240 [00:50<00:00,  4.77it/s]\n",
      "100%|██████████| 41/41 [00:02<00:00, 15.00it/s]\n",
      "  0%|          | 0/240 [00:00<?, ?it/s]"
     ]
    },
    {
     "name": "stdout",
     "output_type": "stream",
     "text": [
      "Train Loss: 0.2421 ---- Valid Loss: 0.1997 ---- Valid MCRMSE: 0.2027\n",
      "Best valid MCRMSE updated to 0.2026853859424591\n",
      "Epoch 34\n"
     ]
    },
    {
     "name": "stderr",
     "output_type": "stream",
     "text": [
      "100%|██████████| 240/240 [00:49<00:00,  4.80it/s]\n",
      "100%|██████████| 41/41 [00:02<00:00, 14.88it/s]\n",
      "  0%|          | 0/240 [00:00<?, ?it/s]"
     ]
    },
    {
     "name": "stdout",
     "output_type": "stream",
     "text": [
      "Train Loss: 0.2415 ---- Valid Loss: 0.1991 ---- Valid MCRMSE: 0.2015\n",
      "Best valid MCRMSE updated to 0.20146603882312775\n",
      "Epoch 35\n"
     ]
    },
    {
     "name": "stderr",
     "output_type": "stream",
     "text": [
      "100%|██████████| 240/240 [00:49<00:00,  4.88it/s]\n",
      "100%|██████████| 41/41 [00:02<00:00, 15.10it/s]\n",
      "  0%|          | 0/240 [00:00<?, ?it/s]"
     ]
    },
    {
     "name": "stdout",
     "output_type": "stream",
     "text": [
      "Train Loss: 0.2407 ---- Valid Loss: 0.1966 ---- Valid MCRMSE: 0.1989\n",
      "Best valid MCRMSE updated to 0.19893276691436768\n",
      "Epoch 36\n"
     ]
    },
    {
     "name": "stderr",
     "output_type": "stream",
     "text": [
      "100%|██████████| 240/240 [00:50<00:00,  4.77it/s]\n",
      "100%|██████████| 41/41 [00:02<00:00, 15.19it/s]\n",
      "  0%|          | 0/240 [00:00<?, ?it/s]"
     ]
    },
    {
     "name": "stdout",
     "output_type": "stream",
     "text": [
      "Train Loss: 0.2398 ---- Valid Loss: 0.2037 ---- Valid MCRMSE: 0.2059\n",
      "Epoch 37\n"
     ]
    },
    {
     "name": "stderr",
     "output_type": "stream",
     "text": [
      "100%|██████████| 240/240 [00:49<00:00,  4.81it/s]\n",
      "100%|██████████| 41/41 [00:02<00:00, 15.27it/s]\n",
      "  0%|          | 0/240 [00:00<?, ?it/s]"
     ]
    },
    {
     "name": "stdout",
     "output_type": "stream",
     "text": [
      "Train Loss: 0.2393 ---- Valid Loss: 0.1988 ---- Valid MCRMSE: 0.2011\n",
      "Epoch 38\n"
     ]
    },
    {
     "name": "stderr",
     "output_type": "stream",
     "text": [
      "100%|██████████| 240/240 [00:49<00:00,  4.81it/s]\n",
      "100%|██████████| 41/41 [00:02<00:00, 15.10it/s]\n",
      "  0%|          | 0/240 [00:00<?, ?it/s]"
     ]
    },
    {
     "name": "stdout",
     "output_type": "stream",
     "text": [
      "Train Loss: 0.2372 ---- Valid Loss: 0.1936 ---- Valid MCRMSE: 0.1960\n",
      "Best valid MCRMSE updated to 0.19597676396369934\n",
      "Epoch 39\n"
     ]
    },
    {
     "name": "stderr",
     "output_type": "stream",
     "text": [
      "100%|██████████| 240/240 [00:50<00:00,  4.80it/s]\n",
      "100%|██████████| 41/41 [00:02<00:00, 14.91it/s]\n",
      "  0%|          | 0/240 [00:00<?, ?it/s]"
     ]
    },
    {
     "name": "stdout",
     "output_type": "stream",
     "text": [
      "Train Loss: 0.2366 ---- Valid Loss: 0.1946 ---- Valid MCRMSE: 0.1971\n",
      "Epoch 40\n"
     ]
    },
    {
     "name": "stderr",
     "output_type": "stream",
     "text": [
      "100%|██████████| 240/240 [00:49<00:00,  4.80it/s]\n",
      "100%|██████████| 41/41 [00:02<00:00, 15.20it/s]\n",
      "  0%|          | 0/240 [00:00<?, ?it/s]"
     ]
    },
    {
     "name": "stdout",
     "output_type": "stream",
     "text": [
      "Train Loss: 0.2375 ---- Valid Loss: 0.1953 ---- Valid MCRMSE: 0.1976\n",
      "Epoch 41\n"
     ]
    },
    {
     "name": "stderr",
     "output_type": "stream",
     "text": [
      "100%|██████████| 240/240 [00:50<00:00,  4.79it/s]\n",
      "100%|██████████| 41/41 [00:02<00:00, 14.78it/s]\n",
      "  0%|          | 0/240 [00:00<?, ?it/s]"
     ]
    },
    {
     "name": "stdout",
     "output_type": "stream",
     "text": [
      "Train Loss: 0.2365 ---- Valid Loss: 0.1948 ---- Valid MCRMSE: 0.1973\n",
      "Epoch 42\n"
     ]
    },
    {
     "name": "stderr",
     "output_type": "stream",
     "text": [
      "100%|██████████| 240/240 [00:49<00:00,  4.81it/s]\n",
      "100%|██████████| 41/41 [00:02<00:00, 15.20it/s]\n",
      "  0%|          | 0/240 [00:00<?, ?it/s]"
     ]
    },
    {
     "name": "stdout",
     "output_type": "stream",
     "text": [
      "Train Loss: 0.2354 ---- Valid Loss: 0.1964 ---- Valid MCRMSE: 0.1995\n",
      "Epoch 43\n"
     ]
    },
    {
     "name": "stderr",
     "output_type": "stream",
     "text": [
      "100%|██████████| 240/240 [00:50<00:00,  4.79it/s]\n",
      "100%|██████████| 41/41 [00:02<00:00, 14.88it/s]\n",
      "  0%|          | 0/240 [00:00<?, ?it/s]"
     ]
    },
    {
     "name": "stdout",
     "output_type": "stream",
     "text": [
      "Train Loss: 0.2366 ---- Valid Loss: 0.1925 ---- Valid MCRMSE: 0.1950\n",
      "Best valid MCRMSE updated to 0.19499312341213226\n",
      "Epoch 44\n"
     ]
    },
    {
     "name": "stderr",
     "output_type": "stream",
     "text": [
      "100%|██████████| 240/240 [00:49<00:00,  4.85it/s]\n",
      "100%|██████████| 41/41 [00:02<00:00, 14.76it/s]\n",
      "  0%|          | 0/240 [00:00<?, ?it/s]"
     ]
    },
    {
     "name": "stdout",
     "output_type": "stream",
     "text": [
      "Train Loss: 0.2334 ---- Valid Loss: 0.1922 ---- Valid MCRMSE: 0.1947\n",
      "Best valid MCRMSE updated to 0.1946793645620346\n",
      "Epoch 45\n"
     ]
    },
    {
     "name": "stderr",
     "output_type": "stream",
     "text": [
      "100%|██████████| 240/240 [00:50<00:00,  4.77it/s]\n",
      "100%|██████████| 41/41 [00:02<00:00, 14.76it/s]\n",
      "  0%|          | 0/240 [00:00<?, ?it/s]"
     ]
    },
    {
     "name": "stdout",
     "output_type": "stream",
     "text": [
      "Train Loss: 0.2329 ---- Valid Loss: 0.1922 ---- Valid MCRMSE: 0.1946\n",
      "Best valid MCRMSE updated to 0.1946047991514206\n",
      "Epoch 46\n"
     ]
    },
    {
     "name": "stderr",
     "output_type": "stream",
     "text": [
      "100%|██████████| 240/240 [00:49<00:00,  4.86it/s]\n",
      "100%|██████████| 41/41 [00:02<00:00, 15.25it/s]\n",
      "  0%|          | 0/240 [00:00<?, ?it/s]"
     ]
    },
    {
     "name": "stdout",
     "output_type": "stream",
     "text": [
      "Train Loss: 0.2317 ---- Valid Loss: 0.1946 ---- Valid MCRMSE: 0.1970\n",
      "Epoch 47\n"
     ]
    },
    {
     "name": "stderr",
     "output_type": "stream",
     "text": [
      "100%|██████████| 240/240 [00:50<00:00,  4.76it/s]\n",
      "100%|██████████| 41/41 [00:02<00:00, 14.92it/s]\n",
      "  0%|          | 0/240 [00:00<?, ?it/s]"
     ]
    },
    {
     "name": "stdout",
     "output_type": "stream",
     "text": [
      "Train Loss: 0.2329 ---- Valid Loss: 0.1927 ---- Valid MCRMSE: 0.1951\n",
      "Epoch 48\n"
     ]
    },
    {
     "name": "stderr",
     "output_type": "stream",
     "text": [
      "100%|██████████| 240/240 [00:49<00:00,  4.84it/s]\n",
      "100%|██████████| 41/41 [00:02<00:00, 15.31it/s]\n",
      "  0%|          | 0/240 [00:00<?, ?it/s]"
     ]
    },
    {
     "name": "stdout",
     "output_type": "stream",
     "text": [
      "Train Loss: 0.2310 ---- Valid Loss: 0.1915 ---- Valid MCRMSE: 0.1940\n",
      "Best valid MCRMSE updated to 0.1939760446548462\n",
      "Epoch 49\n"
     ]
    },
    {
     "name": "stderr",
     "output_type": "stream",
     "text": [
      "100%|██████████| 240/240 [00:50<00:00,  4.78it/s]\n",
      "100%|██████████| 41/41 [00:02<00:00, 14.87it/s]\n",
      "  0%|          | 0/240 [00:00<?, ?it/s]"
     ]
    },
    {
     "name": "stdout",
     "output_type": "stream",
     "text": [
      "Train Loss: 0.2307 ---- Valid Loss: 0.1897 ---- Valid MCRMSE: 0.1923\n",
      "Best valid MCRMSE updated to 0.19230155646800995\n",
      "Epoch 50\n"
     ]
    },
    {
     "name": "stderr",
     "output_type": "stream",
     "text": [
      "100%|██████████| 240/240 [00:49<00:00,  4.80it/s]\n",
      "100%|██████████| 41/41 [00:02<00:00, 14.82it/s]\n",
      "  0%|          | 0/240 [00:00<?, ?it/s]"
     ]
    },
    {
     "name": "stdout",
     "output_type": "stream",
     "text": [
      "Train Loss: 0.2288 ---- Valid Loss: 0.1888 ---- Valid MCRMSE: 0.1913\n",
      "Best valid MCRMSE updated to 0.19127599895000458\n",
      "Epoch 51\n"
     ]
    },
    {
     "name": "stderr",
     "output_type": "stream",
     "text": [
      "100%|██████████| 240/240 [00:49<00:00,  4.83it/s]\n",
      "100%|██████████| 41/41 [00:02<00:00, 14.80it/s]\n",
      "  0%|          | 0/240 [00:00<?, ?it/s]"
     ]
    },
    {
     "name": "stdout",
     "output_type": "stream",
     "text": [
      "Train Loss: 0.2291 ---- Valid Loss: 0.1894 ---- Valid MCRMSE: 0.1920\n",
      "Epoch 52\n"
     ]
    },
    {
     "name": "stderr",
     "output_type": "stream",
     "text": [
      "100%|██████████| 240/240 [00:50<00:00,  4.79it/s]\n",
      "100%|██████████| 41/41 [00:02<00:00, 15.12it/s]\n",
      "  0%|          | 0/240 [00:00<?, ?it/s]"
     ]
    },
    {
     "name": "stdout",
     "output_type": "stream",
     "text": [
      "Train Loss: 0.2286 ---- Valid Loss: 0.1895 ---- Valid MCRMSE: 0.1921\n",
      "Epoch 53\n"
     ]
    },
    {
     "name": "stderr",
     "output_type": "stream",
     "text": [
      "100%|██████████| 240/240 [00:49<00:00,  4.83it/s]\n",
      "100%|██████████| 41/41 [00:02<00:00, 15.19it/s]\n",
      "  0%|          | 0/240 [00:00<?, ?it/s]"
     ]
    },
    {
     "name": "stdout",
     "output_type": "stream",
     "text": [
      "Train Loss: 0.2271 ---- Valid Loss: 0.1885 ---- Valid MCRMSE: 0.1911\n",
      "Best valid MCRMSE updated to 0.19110433757305145\n",
      "Epoch 54\n"
     ]
    },
    {
     "name": "stderr",
     "output_type": "stream",
     "text": [
      "100%|██████████| 240/240 [00:50<00:00,  4.77it/s]\n",
      "100%|██████████| 41/41 [00:02<00:00, 15.30it/s]\n",
      "  0%|          | 0/240 [00:00<?, ?it/s]"
     ]
    },
    {
     "name": "stdout",
     "output_type": "stream",
     "text": [
      "Train Loss: 0.2290 ---- Valid Loss: 0.1897 ---- Valid MCRMSE: 0.1921\n",
      "Epoch 55\n"
     ]
    },
    {
     "name": "stderr",
     "output_type": "stream",
     "text": [
      "100%|██████████| 240/240 [00:49<00:00,  4.80it/s]\n",
      "100%|██████████| 41/41 [00:02<00:00, 15.19it/s]\n",
      "  0%|          | 0/240 [00:00<?, ?it/s]"
     ]
    },
    {
     "name": "stdout",
     "output_type": "stream",
     "text": [
      "Train Loss: 0.2271 ---- Valid Loss: 0.1900 ---- Valid MCRMSE: 0.1925\n",
      "Epoch 56\n"
     ]
    },
    {
     "name": "stderr",
     "output_type": "stream",
     "text": [
      "100%|██████████| 240/240 [00:49<00:00,  4.84it/s]\n",
      "100%|██████████| 41/41 [00:02<00:00, 15.21it/s]\n",
      "  0%|          | 0/240 [00:00<?, ?it/s]"
     ]
    },
    {
     "name": "stdout",
     "output_type": "stream",
     "text": [
      "Train Loss: 0.2258 ---- Valid Loss: 0.1887 ---- Valid MCRMSE: 0.1912\n",
      "Epoch 57\n"
     ]
    },
    {
     "name": "stderr",
     "output_type": "stream",
     "text": [
      "100%|██████████| 240/240 [00:50<00:00,  4.79it/s]\n",
      "100%|██████████| 41/41 [00:02<00:00, 15.16it/s]\n",
      "  0%|          | 0/240 [00:00<?, ?it/s]"
     ]
    },
    {
     "name": "stdout",
     "output_type": "stream",
     "text": [
      "Train Loss: 0.2252 ---- Valid Loss: 0.1872 ---- Valid MCRMSE: 0.1897\n",
      "Best valid MCRMSE updated to 0.18970049917697906\n",
      "Epoch 58\n"
     ]
    },
    {
     "name": "stderr",
     "output_type": "stream",
     "text": [
      "100%|██████████| 240/240 [00:49<00:00,  4.80it/s]\n",
      "100%|██████████| 41/41 [00:02<00:00, 14.79it/s]\n",
      "  0%|          | 0/240 [00:00<?, ?it/s]"
     ]
    },
    {
     "name": "stdout",
     "output_type": "stream",
     "text": [
      "Train Loss: 0.2248 ---- Valid Loss: 0.1862 ---- Valid MCRMSE: 0.1888\n",
      "Best valid MCRMSE updated to 0.18883252143859863\n",
      "Epoch 59\n"
     ]
    },
    {
     "name": "stderr",
     "output_type": "stream",
     "text": [
      "100%|██████████| 240/240 [00:49<00:00,  4.81it/s]\n",
      "100%|██████████| 41/41 [00:02<00:00, 14.78it/s]\n",
      "  0%|          | 0/240 [00:00<?, ?it/s]"
     ]
    },
    {
     "name": "stdout",
     "output_type": "stream",
     "text": [
      "Train Loss: 0.2231 ---- Valid Loss: 0.1889 ---- Valid MCRMSE: 0.1915\n",
      "Epoch 60\n"
     ]
    },
    {
     "name": "stderr",
     "output_type": "stream",
     "text": [
      "100%|██████████| 240/240 [00:49<00:00,  4.82it/s]\n",
      "100%|██████████| 41/41 [00:02<00:00, 14.91it/s]\n",
      "  0%|          | 0/240 [00:00<?, ?it/s]"
     ]
    },
    {
     "name": "stdout",
     "output_type": "stream",
     "text": [
      "Train Loss: 0.2237 ---- Valid Loss: 0.1869 ---- Valid MCRMSE: 0.1895\n",
      "Epoch 61\n"
     ]
    },
    {
     "name": "stderr",
     "output_type": "stream",
     "text": [
      "100%|██████████| 240/240 [00:49<00:00,  4.80it/s]\n",
      "100%|██████████| 41/41 [00:02<00:00, 14.78it/s]\n",
      "  0%|          | 0/240 [00:00<?, ?it/s]"
     ]
    },
    {
     "name": "stdout",
     "output_type": "stream",
     "text": [
      "Train Loss: 0.2243 ---- Valid Loss: 0.1871 ---- Valid MCRMSE: 0.1900\n",
      "Epoch 62\n"
     ]
    },
    {
     "name": "stderr",
     "output_type": "stream",
     "text": [
      "100%|██████████| 240/240 [00:49<00:00,  4.81it/s]\n",
      "100%|██████████| 41/41 [00:02<00:00, 15.27it/s]\n",
      "  0%|          | 0/240 [00:00<?, ?it/s]"
     ]
    },
    {
     "name": "stdout",
     "output_type": "stream",
     "text": [
      "Train Loss: 0.2229 ---- Valid Loss: 0.1851 ---- Valid MCRMSE: 0.1878\n",
      "Best valid MCRMSE updated to 0.18778173625469208\n",
      "Epoch 63\n"
     ]
    },
    {
     "name": "stderr",
     "output_type": "stream",
     "text": [
      "100%|██████████| 240/240 [00:49<00:00,  4.83it/s]\n",
      "100%|██████████| 41/41 [00:02<00:00, 15.13it/s]\n",
      "  0%|          | 0/240 [00:00<?, ?it/s]"
     ]
    },
    {
     "name": "stdout",
     "output_type": "stream",
     "text": [
      "Train Loss: 0.2223 ---- Valid Loss: 0.1861 ---- Valid MCRMSE: 0.1888\n",
      "Epoch 64\n"
     ]
    },
    {
     "name": "stderr",
     "output_type": "stream",
     "text": [
      "100%|██████████| 240/240 [00:50<00:00,  4.79it/s]\n",
      "100%|██████████| 41/41 [00:02<00:00, 14.62it/s]\n",
      "  0%|          | 0/240 [00:00<?, ?it/s]"
     ]
    },
    {
     "name": "stdout",
     "output_type": "stream",
     "text": [
      "Train Loss: 0.2216 ---- Valid Loss: 0.1870 ---- Valid MCRMSE: 0.1896\n",
      "Epoch 65\n"
     ]
    },
    {
     "name": "stderr",
     "output_type": "stream",
     "text": [
      "100%|██████████| 240/240 [00:49<00:00,  4.81it/s]\n",
      "100%|██████████| 41/41 [00:02<00:00, 14.85it/s]\n",
      "  0%|          | 0/240 [00:00<?, ?it/s]"
     ]
    },
    {
     "name": "stdout",
     "output_type": "stream",
     "text": [
      "Train Loss: 0.2186 ---- Valid Loss: 0.1850 ---- Valid MCRMSE: 0.1878\n",
      "Best valid MCRMSE updated to 0.1877572387456894\n",
      "Epoch 66\n"
     ]
    },
    {
     "name": "stderr",
     "output_type": "stream",
     "text": [
      "100%|██████████| 240/240 [00:50<00:00,  4.78it/s]\n",
      "100%|██████████| 41/41 [00:02<00:00, 15.04it/s]\n",
      "  0%|          | 0/240 [00:00<?, ?it/s]"
     ]
    },
    {
     "name": "stdout",
     "output_type": "stream",
     "text": [
      "Train Loss: 0.2192 ---- Valid Loss: 0.1864 ---- Valid MCRMSE: 0.1890\n",
      "Epoch 67\n"
     ]
    },
    {
     "name": "stderr",
     "output_type": "stream",
     "text": [
      "100%|██████████| 240/240 [00:49<00:00,  4.81it/s]\n",
      "100%|██████████| 41/41 [00:02<00:00, 14.92it/s]\n",
      "  0%|          | 0/240 [00:00<?, ?it/s]"
     ]
    },
    {
     "name": "stdout",
     "output_type": "stream",
     "text": [
      "Train Loss: 0.2200 ---- Valid Loss: 0.1861 ---- Valid MCRMSE: 0.1889\n",
      "Epoch 68\n"
     ]
    },
    {
     "name": "stderr",
     "output_type": "stream",
     "text": [
      "100%|██████████| 240/240 [00:49<00:00,  4.81it/s]\n",
      "100%|██████████| 41/41 [00:02<00:00, 14.75it/s]\n",
      "  0%|          | 0/240 [00:00<?, ?it/s]"
     ]
    },
    {
     "name": "stdout",
     "output_type": "stream",
     "text": [
      "Train Loss: 0.2205 ---- Valid Loss: 0.1892 ---- Valid MCRMSE: 0.1920\n",
      "Epoch 69\n"
     ]
    },
    {
     "name": "stderr",
     "output_type": "stream",
     "text": [
      "100%|██████████| 240/240 [00:50<00:00,  4.80it/s]\n",
      "100%|██████████| 41/41 [00:02<00:00, 15.16it/s]\n",
      "  0%|          | 0/240 [00:00<?, ?it/s]"
     ]
    },
    {
     "name": "stdout",
     "output_type": "stream",
     "text": [
      "Train Loss: 0.2182 ---- Valid Loss: 0.1848 ---- Valid MCRMSE: 0.1874\n",
      "Best valid MCRMSE updated to 0.18740004301071167\n",
      "Epoch 70\n"
     ]
    },
    {
     "name": "stderr",
     "output_type": "stream",
     "text": [
      "100%|██████████| 240/240 [00:49<00:00,  4.82it/s]\n",
      "100%|██████████| 41/41 [00:02<00:00, 14.84it/s]\n",
      "  0%|          | 0/240 [00:00<?, ?it/s]"
     ]
    },
    {
     "name": "stdout",
     "output_type": "stream",
     "text": [
      "Train Loss: 0.2187 ---- Valid Loss: 0.1862 ---- Valid MCRMSE: 0.1889\n",
      "Epoch 71\n"
     ]
    },
    {
     "name": "stderr",
     "output_type": "stream",
     "text": [
      "100%|██████████| 240/240 [00:49<00:00,  4.82it/s]\n",
      "100%|██████████| 41/41 [00:02<00:00, 15.15it/s]\n",
      "  0%|          | 0/240 [00:00<?, ?it/s]"
     ]
    },
    {
     "name": "stdout",
     "output_type": "stream",
     "text": [
      "Train Loss: 0.2168 ---- Valid Loss: 0.1853 ---- Valid MCRMSE: 0.1878\n",
      "Epoch 72\n"
     ]
    },
    {
     "name": "stderr",
     "output_type": "stream",
     "text": [
      "100%|██████████| 240/240 [00:49<00:00,  4.80it/s]\n",
      "100%|██████████| 41/41 [00:02<00:00, 15.25it/s]\n",
      "  0%|          | 0/240 [00:00<?, ?it/s]"
     ]
    },
    {
     "name": "stdout",
     "output_type": "stream",
     "text": [
      "Train Loss: 0.2162 ---- Valid Loss: 0.1836 ---- Valid MCRMSE: 0.1862\n",
      "Best valid MCRMSE updated to 0.18623827397823334\n",
      "Epoch 73\n"
     ]
    },
    {
     "name": "stderr",
     "output_type": "stream",
     "text": [
      "100%|██████████| 240/240 [00:50<00:00,  4.77it/s]\n",
      "100%|██████████| 41/41 [00:02<00:00, 14.79it/s]\n",
      "  0%|          | 0/240 [00:00<?, ?it/s]"
     ]
    },
    {
     "name": "stdout",
     "output_type": "stream",
     "text": [
      "Train Loss: 0.2163 ---- Valid Loss: 0.1861 ---- Valid MCRMSE: 0.1888\n",
      "Epoch 74\n"
     ]
    },
    {
     "name": "stderr",
     "output_type": "stream",
     "text": [
      "100%|██████████| 240/240 [00:49<00:00,  4.80it/s]\n",
      "100%|██████████| 41/41 [00:02<00:00, 15.21it/s]\n",
      "  0%|          | 0/240 [00:00<?, ?it/s]"
     ]
    },
    {
     "name": "stdout",
     "output_type": "stream",
     "text": [
      "Train Loss: 0.2156 ---- Valid Loss: 0.1836 ---- Valid MCRMSE: 0.1863\n",
      "Epoch 75\n"
     ]
    },
    {
     "name": "stderr",
     "output_type": "stream",
     "text": [
      "100%|██████████| 240/240 [00:49<00:00,  4.81it/s]\n",
      "100%|██████████| 41/41 [00:02<00:00, 15.16it/s]\n",
      "  0%|          | 0/240 [00:00<?, ?it/s]"
     ]
    },
    {
     "name": "stdout",
     "output_type": "stream",
     "text": [
      "Train Loss: 0.2149 ---- Valid Loss: 0.1854 ---- Valid MCRMSE: 0.1881\n",
      "Epoch 76\n"
     ]
    },
    {
     "name": "stderr",
     "output_type": "stream",
     "text": [
      "100%|██████████| 240/240 [00:49<00:00,  4.80it/s]\n",
      "100%|██████████| 41/41 [00:02<00:00, 14.73it/s]\n",
      "  0%|          | 0/240 [00:00<?, ?it/s]"
     ]
    },
    {
     "name": "stdout",
     "output_type": "stream",
     "text": [
      "Train Loss: 0.2143 ---- Valid Loss: 0.1856 ---- Valid MCRMSE: 0.1883\n",
      "Epoch 77\n"
     ]
    },
    {
     "name": "stderr",
     "output_type": "stream",
     "text": [
      "100%|██████████| 240/240 [00:49<00:00,  4.82it/s]\n",
      "100%|██████████| 41/41 [00:02<00:00, 15.26it/s]\n",
      "  0%|          | 0/240 [00:00<?, ?it/s]"
     ]
    },
    {
     "name": "stdout",
     "output_type": "stream",
     "text": [
      "Train Loss: 0.2167 ---- Valid Loss: 0.1852 ---- Valid MCRMSE: 0.1878\n",
      "Epoch 78\n"
     ]
    },
    {
     "name": "stderr",
     "output_type": "stream",
     "text": [
      "100%|██████████| 240/240 [00:50<00:00,  4.80it/s]\n",
      "100%|██████████| 41/41 [00:02<00:00, 14.67it/s]\n",
      "  0%|          | 0/240 [00:00<?, ?it/s]"
     ]
    },
    {
     "name": "stdout",
     "output_type": "stream",
     "text": [
      "Train Loss: 0.2137 ---- Valid Loss: 0.1826 ---- Valid MCRMSE: 0.1854\n",
      "Best valid MCRMSE updated to 0.18543337285518646\n",
      "Epoch 79\n"
     ]
    },
    {
     "name": "stderr",
     "output_type": "stream",
     "text": [
      "100%|██████████| 240/240 [00:50<00:00,  4.79it/s]\n",
      "100%|██████████| 41/41 [00:02<00:00, 15.14it/s]\n",
      "  0%|          | 0/240 [00:00<?, ?it/s]"
     ]
    },
    {
     "name": "stdout",
     "output_type": "stream",
     "text": [
      "Train Loss: 0.2125 ---- Valid Loss: 0.1841 ---- Valid MCRMSE: 0.1868\n",
      "Epoch 80\n"
     ]
    },
    {
     "name": "stderr",
     "output_type": "stream",
     "text": [
      "100%|██████████| 240/240 [00:49<00:00,  4.82it/s]\n",
      "100%|██████████| 41/41 [00:02<00:00, 14.80it/s]\n",
      "  0%|          | 0/240 [00:00<?, ?it/s]"
     ]
    },
    {
     "name": "stdout",
     "output_type": "stream",
     "text": [
      "Train Loss: 0.2113 ---- Valid Loss: 0.1859 ---- Valid MCRMSE: 0.1887\n",
      "Epoch 81\n"
     ]
    },
    {
     "name": "stderr",
     "output_type": "stream",
     "text": [
      "100%|██████████| 240/240 [00:49<00:00,  4.84it/s]\n",
      "100%|██████████| 41/41 [00:02<00:00, 15.15it/s]\n",
      "  0%|          | 0/240 [00:00<?, ?it/s]"
     ]
    },
    {
     "name": "stdout",
     "output_type": "stream",
     "text": [
      "Train Loss: 0.2139 ---- Valid Loss: 0.1907 ---- Valid MCRMSE: 0.1933\n",
      "Epoch 82\n"
     ]
    },
    {
     "name": "stderr",
     "output_type": "stream",
     "text": [
      "100%|██████████| 240/240 [00:50<00:00,  4.77it/s]\n",
      "100%|██████████| 41/41 [00:02<00:00, 14.88it/s]\n",
      "  0%|          | 0/240 [00:00<?, ?it/s]"
     ]
    },
    {
     "name": "stdout",
     "output_type": "stream",
     "text": [
      "Train Loss: 0.2141 ---- Valid Loss: 0.1862 ---- Valid MCRMSE: 0.1888\n",
      "Epoch 83\n"
     ]
    },
    {
     "name": "stderr",
     "output_type": "stream",
     "text": [
      "100%|██████████| 240/240 [00:49<00:00,  4.85it/s]\n",
      "100%|██████████| 41/41 [00:02<00:00, 15.18it/s]\n",
      "  0%|          | 0/240 [00:00<?, ?it/s]"
     ]
    },
    {
     "name": "stdout",
     "output_type": "stream",
     "text": [
      "Train Loss: 0.2123 ---- Valid Loss: 0.1826 ---- Valid MCRMSE: 0.1853\n",
      "Best valid MCRMSE updated to 0.18532930314540863\n",
      "Epoch 84\n"
     ]
    },
    {
     "name": "stderr",
     "output_type": "stream",
     "text": [
      "100%|██████████| 240/240 [00:50<00:00,  4.75it/s]\n",
      "100%|██████████| 41/41 [00:02<00:00, 15.26it/s]\n",
      "  0%|          | 0/240 [00:00<?, ?it/s]"
     ]
    },
    {
     "name": "stdout",
     "output_type": "stream",
     "text": [
      "Train Loss: 0.2103 ---- Valid Loss: 0.1824 ---- Valid MCRMSE: 0.1851\n",
      "Best valid MCRMSE updated to 0.1851474791765213\n",
      "Epoch 85\n"
     ]
    },
    {
     "name": "stderr",
     "output_type": "stream",
     "text": [
      "100%|██████████| 240/240 [00:49<00:00,  4.86it/s]\n",
      "100%|██████████| 41/41 [00:02<00:00, 15.31it/s]\n",
      "  0%|          | 0/240 [00:00<?, ?it/s]"
     ]
    },
    {
     "name": "stdout",
     "output_type": "stream",
     "text": [
      "Train Loss: 0.2109 ---- Valid Loss: 0.1843 ---- Valid MCRMSE: 0.1870\n",
      "Epoch 86\n"
     ]
    },
    {
     "name": "stderr",
     "output_type": "stream",
     "text": [
      "100%|██████████| 240/240 [00:50<00:00,  4.79it/s]\n",
      "100%|██████████| 41/41 [00:02<00:00, 15.03it/s]\n",
      "  0%|          | 0/240 [00:00<?, ?it/s]"
     ]
    },
    {
     "name": "stdout",
     "output_type": "stream",
     "text": [
      "Train Loss: 0.2088 ---- Valid Loss: 0.1830 ---- Valid MCRMSE: 0.1857\n",
      "Epoch 87\n"
     ]
    },
    {
     "name": "stderr",
     "output_type": "stream",
     "text": [
      "100%|██████████| 240/240 [00:49<00:00,  4.80it/s]\n",
      "100%|██████████| 41/41 [00:02<00:00, 14.81it/s]\n",
      "  0%|          | 0/240 [00:00<?, ?it/s]"
     ]
    },
    {
     "name": "stdout",
     "output_type": "stream",
     "text": [
      "Train Loss: 0.2099 ---- Valid Loss: 0.1832 ---- Valid MCRMSE: 0.1860\n",
      "Epoch 88\n"
     ]
    },
    {
     "name": "stderr",
     "output_type": "stream",
     "text": [
      "100%|██████████| 240/240 [00:49<00:00,  4.83it/s]\n",
      "100%|██████████| 41/41 [00:02<00:00, 15.01it/s]\n",
      "  0%|          | 0/240 [00:00<?, ?it/s]"
     ]
    },
    {
     "name": "stdout",
     "output_type": "stream",
     "text": [
      "Train Loss: 0.2087 ---- Valid Loss: 0.1826 ---- Valid MCRMSE: 0.1853\n",
      "Epoch 89\n"
     ]
    },
    {
     "name": "stderr",
     "output_type": "stream",
     "text": [
      "100%|██████████| 240/240 [00:50<00:00,  4.77it/s]\n",
      "100%|██████████| 41/41 [00:02<00:00, 15.21it/s]\n",
      "  0%|          | 0/240 [00:00<?, ?it/s]"
     ]
    },
    {
     "name": "stdout",
     "output_type": "stream",
     "text": [
      "Train Loss: 0.2070 ---- Valid Loss: 0.1838 ---- Valid MCRMSE: 0.1866\n",
      "Epoch 90\n"
     ]
    },
    {
     "name": "stderr",
     "output_type": "stream",
     "text": [
      "100%|██████████| 240/240 [00:50<00:00,  4.79it/s]\n",
      "100%|██████████| 41/41 [00:02<00:00, 14.85it/s]\n",
      "  0%|          | 0/240 [00:00<?, ?it/s]"
     ]
    },
    {
     "name": "stdout",
     "output_type": "stream",
     "text": [
      "Train Loss: 0.2080 ---- Valid Loss: 0.1808 ---- Valid MCRMSE: 0.1836\n",
      "Best valid MCRMSE updated to 0.18357565999031067\n",
      "Epoch 91\n"
     ]
    },
    {
     "name": "stderr",
     "output_type": "stream",
     "text": [
      "100%|██████████| 240/240 [00:49<00:00,  4.81it/s]\n",
      "100%|██████████| 41/41 [00:02<00:00, 14.84it/s]\n",
      "  0%|          | 0/240 [00:00<?, ?it/s]"
     ]
    },
    {
     "name": "stdout",
     "output_type": "stream",
     "text": [
      "Train Loss: 0.2051 ---- Valid Loss: 0.1811 ---- Valid MCRMSE: 0.1840\n",
      "Epoch 92\n"
     ]
    },
    {
     "name": "stderr",
     "output_type": "stream",
     "text": [
      "100%|██████████| 240/240 [00:49<00:00,  4.82it/s]\n",
      "100%|██████████| 41/41 [00:02<00:00, 14.97it/s]\n",
      "  0%|          | 0/240 [00:00<?, ?it/s]"
     ]
    },
    {
     "name": "stdout",
     "output_type": "stream",
     "text": [
      "Train Loss: 0.2054 ---- Valid Loss: 0.1810 ---- Valid MCRMSE: 0.1838\n",
      "Epoch 93\n"
     ]
    },
    {
     "name": "stderr",
     "output_type": "stream",
     "text": [
      "100%|██████████| 240/240 [00:49<00:00,  4.81it/s]\n",
      "100%|██████████| 41/41 [00:02<00:00, 14.79it/s]\n",
      "  0%|          | 0/240 [00:00<?, ?it/s]"
     ]
    },
    {
     "name": "stdout",
     "output_type": "stream",
     "text": [
      "Train Loss: 0.2057 ---- Valid Loss: 0.1830 ---- Valid MCRMSE: 0.1861\n",
      "Epoch 94\n"
     ]
    },
    {
     "name": "stderr",
     "output_type": "stream",
     "text": [
      "100%|██████████| 240/240 [00:49<00:00,  4.82it/s]\n",
      "100%|██████████| 41/41 [00:02<00:00, 14.81it/s]\n",
      "  0%|          | 0/240 [00:00<?, ?it/s]"
     ]
    },
    {
     "name": "stdout",
     "output_type": "stream",
     "text": [
      "Train Loss: 0.2071 ---- Valid Loss: 0.1821 ---- Valid MCRMSE: 0.1848\n",
      "Epoch 95\n"
     ]
    },
    {
     "name": "stderr",
     "output_type": "stream",
     "text": [
      "100%|██████████| 240/240 [00:50<00:00,  4.77it/s]\n",
      "100%|██████████| 41/41 [00:02<00:00, 15.26it/s]\n",
      "  0%|          | 0/240 [00:00<?, ?it/s]"
     ]
    },
    {
     "name": "stdout",
     "output_type": "stream",
     "text": [
      "Train Loss: 0.2038 ---- Valid Loss: 0.1810 ---- Valid MCRMSE: 0.1838\n",
      "Epoch 96\n"
     ]
    },
    {
     "name": "stderr",
     "output_type": "stream",
     "text": [
      "100%|██████████| 240/240 [00:49<00:00,  4.82it/s]\n",
      "100%|██████████| 41/41 [00:02<00:00, 14.86it/s]\n",
      "  0%|          | 0/240 [00:00<?, ?it/s]"
     ]
    },
    {
     "name": "stdout",
     "output_type": "stream",
     "text": [
      "Train Loss: 0.2062 ---- Valid Loss: 0.1824 ---- Valid MCRMSE: 0.1852\n",
      "Epoch 97\n"
     ]
    },
    {
     "name": "stderr",
     "output_type": "stream",
     "text": [
      "100%|██████████| 240/240 [00:49<00:00,  4.80it/s]\n",
      "100%|██████████| 41/41 [00:02<00:00, 15.18it/s]\n",
      "  0%|          | 0/240 [00:00<?, ?it/s]"
     ]
    },
    {
     "name": "stdout",
     "output_type": "stream",
     "text": [
      "Train Loss: 0.2081 ---- Valid Loss: 0.1823 ---- Valid MCRMSE: 0.1850\n",
      "Epoch 98\n"
     ]
    },
    {
     "name": "stderr",
     "output_type": "stream",
     "text": [
      "100%|██████████| 240/240 [00:49<00:00,  4.81it/s]\n",
      "100%|██████████| 41/41 [00:02<00:00, 15.26it/s]\n",
      "  0%|          | 0/240 [00:00<?, ?it/s]"
     ]
    },
    {
     "name": "stdout",
     "output_type": "stream",
     "text": [
      "Train Loss: 0.2044 ---- Valid Loss: 0.1803 ---- Valid MCRMSE: 0.1832\n",
      "Best valid MCRMSE updated to 0.1831604689359665\n",
      "Epoch 99\n"
     ]
    },
    {
     "name": "stderr",
     "output_type": "stream",
     "text": [
      "100%|██████████| 240/240 [00:50<00:00,  4.78it/s]\n",
      "100%|██████████| 41/41 [00:02<00:00, 14.91it/s]\n",
      "  0%|          | 0/240 [00:00<?, ?it/s]"
     ]
    },
    {
     "name": "stdout",
     "output_type": "stream",
     "text": [
      "Train Loss: 0.2017 ---- Valid Loss: 0.1806 ---- Valid MCRMSE: 0.1835\n",
      "Epoch 100\n"
     ]
    },
    {
     "name": "stderr",
     "output_type": "stream",
     "text": [
      "100%|██████████| 240/240 [00:49<00:00,  4.83it/s]\n",
      "100%|██████████| 41/41 [00:02<00:00, 14.80it/s]\n",
      "  0%|          | 0/240 [00:00<?, ?it/s]"
     ]
    },
    {
     "name": "stdout",
     "output_type": "stream",
     "text": [
      "Train Loss: 0.2035 ---- Valid Loss: 0.1826 ---- Valid MCRMSE: 0.1855\n",
      "Epoch 101\n"
     ]
    },
    {
     "name": "stderr",
     "output_type": "stream",
     "text": [
      "100%|██████████| 240/240 [00:49<00:00,  4.82it/s]\n",
      "100%|██████████| 41/41 [00:02<00:00, 15.15it/s]\n",
      "  0%|          | 0/240 [00:00<?, ?it/s]"
     ]
    },
    {
     "name": "stdout",
     "output_type": "stream",
     "text": [
      "Train Loss: 0.2022 ---- Valid Loss: 0.1827 ---- Valid MCRMSE: 0.1855\n",
      "Epoch 102\n"
     ]
    },
    {
     "name": "stderr",
     "output_type": "stream",
     "text": [
      "100%|██████████| 240/240 [00:49<00:00,  4.82it/s]\n",
      "100%|██████████| 41/41 [00:02<00:00, 15.14it/s]\n",
      "  0%|          | 0/240 [00:00<?, ?it/s]"
     ]
    },
    {
     "name": "stdout",
     "output_type": "stream",
     "text": [
      "Train Loss: 0.2035 ---- Valid Loss: 0.1796 ---- Valid MCRMSE: 0.1825\n",
      "Best valid MCRMSE updated to 0.18251125514507294\n",
      "Epoch 103\n"
     ]
    },
    {
     "name": "stderr",
     "output_type": "stream",
     "text": [
      "100%|██████████| 240/240 [00:50<00:00,  4.76it/s]\n",
      "100%|██████████| 41/41 [00:02<00:00, 14.88it/s]\n",
      "  0%|          | 0/240 [00:00<?, ?it/s]"
     ]
    },
    {
     "name": "stdout",
     "output_type": "stream",
     "text": [
      "Train Loss: 0.2012 ---- Valid Loss: 0.1789 ---- Valid MCRMSE: 0.1817\n",
      "Best valid MCRMSE updated to 0.18172258138656616\n",
      "Epoch 104\n"
     ]
    },
    {
     "name": "stderr",
     "output_type": "stream",
     "text": [
      "100%|██████████| 240/240 [00:49<00:00,  4.82it/s]\n",
      "100%|██████████| 41/41 [00:02<00:00, 14.80it/s]\n",
      "  0%|          | 0/240 [00:00<?, ?it/s]"
     ]
    },
    {
     "name": "stdout",
     "output_type": "stream",
     "text": [
      "Train Loss: 0.1990 ---- Valid Loss: 0.1785 ---- Valid MCRMSE: 0.1814\n",
      "Best valid MCRMSE updated to 0.18135319650173187\n",
      "Epoch 105\n"
     ]
    },
    {
     "name": "stderr",
     "output_type": "stream",
     "text": [
      "100%|██████████| 240/240 [00:50<00:00,  4.80it/s]\n",
      "100%|██████████| 41/41 [00:02<00:00, 14.89it/s]\n",
      "  0%|          | 0/240 [00:00<?, ?it/s]"
     ]
    },
    {
     "name": "stdout",
     "output_type": "stream",
     "text": [
      "Train Loss: 0.1996 ---- Valid Loss: 0.1801 ---- Valid MCRMSE: 0.1831\n",
      "Epoch 106\n"
     ]
    },
    {
     "name": "stderr",
     "output_type": "stream",
     "text": [
      "100%|██████████| 240/240 [00:49<00:00,  4.81it/s]\n",
      "100%|██████████| 41/41 [00:02<00:00, 15.27it/s]\n",
      "  0%|          | 0/240 [00:00<?, ?it/s]"
     ]
    },
    {
     "name": "stdout",
     "output_type": "stream",
     "text": [
      "Train Loss: 0.1999 ---- Valid Loss: 0.1810 ---- Valid MCRMSE: 0.1839\n",
      "Epoch 107\n"
     ]
    },
    {
     "name": "stderr",
     "output_type": "stream",
     "text": [
      "100%|██████████| 240/240 [00:49<00:00,  4.84it/s]\n",
      "100%|██████████| 41/41 [00:02<00:00, 14.79it/s]\n",
      "  0%|          | 0/240 [00:00<?, ?it/s]"
     ]
    },
    {
     "name": "stdout",
     "output_type": "stream",
     "text": [
      "Train Loss: 0.1995 ---- Valid Loss: 0.1816 ---- Valid MCRMSE: 0.1844\n",
      "Epoch 108\n"
     ]
    },
    {
     "name": "stderr",
     "output_type": "stream",
     "text": [
      "100%|██████████| 240/240 [00:49<00:00,  4.80it/s]\n",
      "100%|██████████| 41/41 [00:02<00:00, 14.88it/s]\n",
      "  0%|          | 0/240 [00:00<?, ?it/s]"
     ]
    },
    {
     "name": "stdout",
     "output_type": "stream",
     "text": [
      "Train Loss: 0.1996 ---- Valid Loss: 0.1788 ---- Valid MCRMSE: 0.1818\n",
      "Epoch 109\n"
     ]
    },
    {
     "name": "stderr",
     "output_type": "stream",
     "text": [
      "100%|██████████| 240/240 [00:50<00:00,  4.79it/s]\n",
      "100%|██████████| 41/41 [00:02<00:00, 14.75it/s]\n",
      "  0%|          | 0/240 [00:00<?, ?it/s]"
     ]
    },
    {
     "name": "stdout",
     "output_type": "stream",
     "text": [
      "Train Loss: 0.2031 ---- Valid Loss: 0.1796 ---- Valid MCRMSE: 0.1824\n",
      "Epoch 110\n"
     ]
    },
    {
     "name": "stderr",
     "output_type": "stream",
     "text": [
      "100%|██████████| 240/240 [00:49<00:00,  4.84it/s]\n",
      "100%|██████████| 41/41 [00:02<00:00, 15.12it/s]\n",
      "  0%|          | 0/240 [00:00<?, ?it/s]"
     ]
    },
    {
     "name": "stdout",
     "output_type": "stream",
     "text": [
      "Train Loss: 0.2067 ---- Valid Loss: 0.1829 ---- Valid MCRMSE: 0.1857\n",
      "Epoch 111\n"
     ]
    },
    {
     "name": "stderr",
     "output_type": "stream",
     "text": [
      "100%|██████████| 240/240 [00:50<00:00,  4.77it/s]\n",
      "100%|██████████| 41/41 [00:02<00:00, 15.25it/s]\n",
      "  0%|          | 0/240 [00:00<?, ?it/s]"
     ]
    },
    {
     "name": "stdout",
     "output_type": "stream",
     "text": [
      "Train Loss: 0.2008 ---- Valid Loss: 0.1787 ---- Valid MCRMSE: 0.1815\n",
      "Epoch 112\n"
     ]
    },
    {
     "name": "stderr",
     "output_type": "stream",
     "text": [
      "100%|██████████| 240/240 [00:49<00:00,  4.81it/s]\n",
      "100%|██████████| 41/41 [00:02<00:00, 14.89it/s]\n",
      "  0%|          | 0/240 [00:00<?, ?it/s]"
     ]
    },
    {
     "name": "stdout",
     "output_type": "stream",
     "text": [
      "Train Loss: 0.1980 ---- Valid Loss: 0.1778 ---- Valid MCRMSE: 0.1807\n",
      "Best valid MCRMSE updated to 0.1806659698486328\n",
      "Epoch 113\n"
     ]
    },
    {
     "name": "stderr",
     "output_type": "stream",
     "text": [
      "100%|██████████| 240/240 [00:49<00:00,  4.81it/s]\n",
      "100%|██████████| 41/41 [00:02<00:00, 14.80it/s]\n",
      "  0%|          | 0/240 [00:00<?, ?it/s]"
     ]
    },
    {
     "name": "stdout",
     "output_type": "stream",
     "text": [
      "Train Loss: 0.1971 ---- Valid Loss: 0.1775 ---- Valid MCRMSE: 0.1804\n",
      "Best valid MCRMSE updated to 0.18041716516017914\n",
      "Epoch 114\n"
     ]
    },
    {
     "name": "stderr",
     "output_type": "stream",
     "text": [
      "100%|██████████| 240/240 [00:49<00:00,  4.83it/s]\n",
      "100%|██████████| 41/41 [00:02<00:00, 15.08it/s]\n",
      "  0%|          | 0/240 [00:00<?, ?it/s]"
     ]
    },
    {
     "name": "stdout",
     "output_type": "stream",
     "text": [
      "Train Loss: 0.1967 ---- Valid Loss: 0.1772 ---- Valid MCRMSE: 0.1801\n",
      "Best valid MCRMSE updated to 0.18005779385566711\n",
      "Epoch 115\n"
     ]
    },
    {
     "name": "stderr",
     "output_type": "stream",
     "text": [
      "100%|██████████| 240/240 [00:50<00:00,  4.79it/s]\n",
      "100%|██████████| 41/41 [00:02<00:00, 15.29it/s]\n",
      "  0%|          | 0/240 [00:00<?, ?it/s]"
     ]
    },
    {
     "name": "stdout",
     "output_type": "stream",
     "text": [
      "Train Loss: 0.1964 ---- Valid Loss: 0.1776 ---- Valid MCRMSE: 0.1805\n",
      "Epoch 116\n"
     ]
    },
    {
     "name": "stderr",
     "output_type": "stream",
     "text": [
      "100%|██████████| 240/240 [00:49<00:00,  4.83it/s]\n",
      "100%|██████████| 41/41 [00:02<00:00, 15.22it/s]\n",
      "  0%|          | 0/240 [00:00<?, ?it/s]"
     ]
    },
    {
     "name": "stdout",
     "output_type": "stream",
     "text": [
      "Train Loss: 0.1988 ---- Valid Loss: 0.1776 ---- Valid MCRMSE: 0.1804\n",
      "Epoch 117\n"
     ]
    },
    {
     "name": "stderr",
     "output_type": "stream",
     "text": [
      "100%|██████████| 240/240 [00:50<00:00,  4.78it/s]\n",
      "100%|██████████| 41/41 [00:02<00:00, 14.86it/s]\n",
      "  0%|          | 0/240 [00:00<?, ?it/s]"
     ]
    },
    {
     "name": "stdout",
     "output_type": "stream",
     "text": [
      "Train Loss: 0.1997 ---- Valid Loss: 0.1783 ---- Valid MCRMSE: 0.1812\n",
      "Epoch 118\n"
     ]
    },
    {
     "name": "stderr",
     "output_type": "stream",
     "text": [
      "100%|██████████| 240/240 [00:49<00:00,  4.82it/s]\n",
      "100%|██████████| 41/41 [00:02<00:00, 15.02it/s]\n",
      "  0%|          | 0/240 [00:00<?, ?it/s]"
     ]
    },
    {
     "name": "stdout",
     "output_type": "stream",
     "text": [
      "Train Loss: 0.1977 ---- Valid Loss: 0.1783 ---- Valid MCRMSE: 0.1812\n",
      "Epoch 119\n"
     ]
    },
    {
     "name": "stderr",
     "output_type": "stream",
     "text": [
      "100%|██████████| 240/240 [00:49<00:00,  4.81it/s]\n",
      "100%|██████████| 41/41 [00:02<00:00, 15.25it/s]\n",
      "  0%|          | 0/240 [00:00<?, ?it/s]"
     ]
    },
    {
     "name": "stdout",
     "output_type": "stream",
     "text": [
      "Train Loss: 0.2045 ---- Valid Loss: 0.1797 ---- Valid MCRMSE: 0.1825\n",
      "Epoch 120\n"
     ]
    },
    {
     "name": "stderr",
     "output_type": "stream",
     "text": [
      "100%|██████████| 240/240 [00:49<00:00,  4.82it/s]\n",
      "100%|██████████| 41/41 [00:02<00:00, 14.87it/s]\n",
      "  0%|          | 0/240 [00:00<?, ?it/s]"
     ]
    },
    {
     "name": "stdout",
     "output_type": "stream",
     "text": [
      "Train Loss: 0.2011 ---- Valid Loss: 0.1788 ---- Valid MCRMSE: 0.1816\n",
      "Epoch 121\n"
     ]
    },
    {
     "name": "stderr",
     "output_type": "stream",
     "text": [
      "100%|██████████| 240/240 [00:49<00:00,  4.80it/s]\n",
      "100%|██████████| 41/41 [00:02<00:00, 15.14it/s]\n",
      "  0%|          | 0/240 [00:00<?, ?it/s]"
     ]
    },
    {
     "name": "stdout",
     "output_type": "stream",
     "text": [
      "Train Loss: 0.1963 ---- Valid Loss: 0.1795 ---- Valid MCRMSE: 0.1825\n",
      "Epoch 122\n"
     ]
    },
    {
     "name": "stderr",
     "output_type": "stream",
     "text": [
      "100%|██████████| 240/240 [00:49<00:00,  4.81it/s]\n",
      "100%|██████████| 41/41 [00:02<00:00, 14.90it/s]\n",
      "  0%|          | 0/240 [00:00<?, ?it/s]"
     ]
    },
    {
     "name": "stdout",
     "output_type": "stream",
     "text": [
      "Train Loss: 0.1968 ---- Valid Loss: 0.1785 ---- Valid MCRMSE: 0.1814\n",
      "Epoch 123\n"
     ]
    },
    {
     "name": "stderr",
     "output_type": "stream",
     "text": [
      "100%|██████████| 240/240 [00:49<00:00,  4.82it/s]\n",
      "100%|██████████| 41/41 [00:02<00:00, 14.87it/s]\n",
      "  0%|          | 0/240 [00:00<?, ?it/s]"
     ]
    },
    {
     "name": "stdout",
     "output_type": "stream",
     "text": [
      "Train Loss: 0.1953 ---- Valid Loss: 0.1768 ---- Valid MCRMSE: 0.1799\n",
      "Best valid MCRMSE updated to 0.17985819280147552\n",
      "Epoch 124\n"
     ]
    },
    {
     "name": "stderr",
     "output_type": "stream",
     "text": [
      "100%|██████████| 240/240 [00:49<00:00,  4.81it/s]\n",
      "100%|██████████| 41/41 [00:02<00:00, 15.16it/s]\n",
      "  0%|          | 0/240 [00:00<?, ?it/s]"
     ]
    },
    {
     "name": "stdout",
     "output_type": "stream",
     "text": [
      "Train Loss: 0.1950 ---- Valid Loss: 0.1764 ---- Valid MCRMSE: 0.1793\n",
      "Best valid MCRMSE updated to 0.17934837937355042\n",
      "Epoch 125\n"
     ]
    },
    {
     "name": "stderr",
     "output_type": "stream",
     "text": [
      "100%|██████████| 240/240 [00:50<00:00,  4.79it/s]\n",
      "100%|██████████| 41/41 [00:02<00:00, 14.87it/s]\n",
      "  0%|          | 0/240 [00:00<?, ?it/s]"
     ]
    },
    {
     "name": "stdout",
     "output_type": "stream",
     "text": [
      "Train Loss: 0.1945 ---- Valid Loss: 0.1759 ---- Valid MCRMSE: 0.1789\n",
      "Best valid MCRMSE updated to 0.17889101803302765\n",
      "Epoch 126\n"
     ]
    },
    {
     "name": "stderr",
     "output_type": "stream",
     "text": [
      "100%|██████████| 240/240 [00:49<00:00,  4.81it/s]\n",
      "100%|██████████| 41/41 [00:02<00:00, 15.20it/s]\n",
      "  0%|          | 0/240 [00:00<?, ?it/s]"
     ]
    },
    {
     "name": "stdout",
     "output_type": "stream",
     "text": [
      "Train Loss: 0.1952 ---- Valid Loss: 0.1778 ---- Valid MCRMSE: 0.1807\n",
      "Epoch 127\n"
     ]
    },
    {
     "name": "stderr",
     "output_type": "stream",
     "text": [
      "100%|██████████| 240/240 [00:50<00:00,  4.77it/s]\n",
      "100%|██████████| 41/41 [00:02<00:00, 15.28it/s]\n",
      "  0%|          | 0/240 [00:00<?, ?it/s]"
     ]
    },
    {
     "name": "stdout",
     "output_type": "stream",
     "text": [
      "Train Loss: 0.1958 ---- Valid Loss: 0.1761 ---- Valid MCRMSE: 0.1790\n",
      "Epoch 128\n"
     ]
    },
    {
     "name": "stderr",
     "output_type": "stream",
     "text": [
      "100%|██████████| 240/240 [00:49<00:00,  4.82it/s]\n",
      "100%|██████████| 41/41 [00:02<00:00, 15.13it/s]\n",
      "  0%|          | 0/240 [00:00<?, ?it/s]"
     ]
    },
    {
     "name": "stdout",
     "output_type": "stream",
     "text": [
      "Train Loss: 0.1953 ---- Valid Loss: 0.1751 ---- Valid MCRMSE: 0.1780\n",
      "Best valid MCRMSE updated to 0.1780337244272232\n",
      "Epoch 129\n"
     ]
    },
    {
     "name": "stderr",
     "output_type": "stream",
     "text": [
      "100%|██████████| 240/240 [00:50<00:00,  4.79it/s]\n",
      "100%|██████████| 41/41 [00:02<00:00, 15.29it/s]\n",
      "  5%|▍         | 2/41 [00:00<00:02, 15.02it/s]"
     ]
    },
    {
     "name": "stdout",
     "output_type": "stream",
     "text": [
      "Train Loss: 0.1938 ---- Valid Loss: 0.1777 ---- Valid MCRMSE: 0.1806\n"
     ]
    },
    {
     "name": "stderr",
     "output_type": "stream",
     "text": [
      "100%|██████████| 41/41 [00:02<00:00, 15.09it/s]\n"
     ]
    },
    {
     "name": "stdout",
     "output_type": "stream",
     "text": [
      "Fold 3\n"
     ]
    },
    {
     "name": "stderr",
     "output_type": "stream",
     "text": [
      "\r",
      "  0%|          | 0/240 [00:00<?, ?it/s]"
     ]
    },
    {
     "name": "stdout",
     "output_type": "stream",
     "text": [
      "Epoch 0\n"
     ]
    },
    {
     "name": "stderr",
     "output_type": "stream",
     "text": [
      "100%|██████████| 240/240 [00:49<00:00,  4.87it/s]\n",
      "100%|██████████| 40/40 [00:02<00:00, 14.77it/s]\n",
      "  0%|          | 0/240 [00:00<?, ?it/s]"
     ]
    },
    {
     "name": "stdout",
     "output_type": "stream",
     "text": [
      "Train Loss: 0.3993 ---- Valid Loss: 0.3083 ---- Valid MCRMSE: 0.3095\n",
      "Best valid MCRMSE updated to 0.3094644248485565\n",
      "Epoch 1\n"
     ]
    },
    {
     "name": "stderr",
     "output_type": "stream",
     "text": [
      "100%|██████████| 240/240 [00:50<00:00,  4.79it/s]\n",
      "100%|██████████| 40/40 [00:02<00:00, 14.60it/s]\n",
      "  0%|          | 0/240 [00:00<?, ?it/s]"
     ]
    },
    {
     "name": "stdout",
     "output_type": "stream",
     "text": [
      "Train Loss: 0.3386 ---- Valid Loss: 0.2694 ---- Valid MCRMSE: 0.2707\n",
      "Best valid MCRMSE updated to 0.27066031098365784\n",
      "Epoch 2\n"
     ]
    },
    {
     "name": "stderr",
     "output_type": "stream",
     "text": [
      "100%|██████████| 240/240 [00:50<00:00,  4.79it/s]\n",
      "100%|██████████| 40/40 [00:02<00:00, 14.89it/s]\n",
      "  0%|          | 0/240 [00:00<?, ?it/s]"
     ]
    },
    {
     "name": "stdout",
     "output_type": "stream",
     "text": [
      "Train Loss: 0.3198 ---- Valid Loss: 0.2623 ---- Valid MCRMSE: 0.2636\n",
      "Best valid MCRMSE updated to 0.2635818123817444\n",
      "Epoch 3\n"
     ]
    },
    {
     "name": "stderr",
     "output_type": "stream",
     "text": [
      "100%|██████████| 240/240 [00:49<00:00,  4.80it/s]\n",
      "100%|██████████| 40/40 [00:02<00:00, 14.96it/s]\n",
      "  0%|          | 0/240 [00:00<?, ?it/s]"
     ]
    },
    {
     "name": "stdout",
     "output_type": "stream",
     "text": [
      "Train Loss: 0.3061 ---- Valid Loss: 0.2516 ---- Valid MCRMSE: 0.2528\n",
      "Best valid MCRMSE updated to 0.25276991724967957\n",
      "Epoch 4\n"
     ]
    },
    {
     "name": "stderr",
     "output_type": "stream",
     "text": [
      "100%|██████████| 240/240 [00:50<00:00,  4.77it/s]\n",
      "100%|██████████| 40/40 [00:02<00:00, 14.69it/s]\n",
      "  0%|          | 0/240 [00:00<?, ?it/s]"
     ]
    },
    {
     "name": "stdout",
     "output_type": "stream",
     "text": [
      "Train Loss: 0.3007 ---- Valid Loss: 0.2563 ---- Valid MCRMSE: 0.2575\n",
      "Epoch 5\n"
     ]
    },
    {
     "name": "stderr",
     "output_type": "stream",
     "text": [
      "100%|██████████| 240/240 [00:49<00:00,  4.81it/s]\n",
      "100%|██████████| 40/40 [00:02<00:00, 14.96it/s]\n",
      "  0%|          | 0/240 [00:00<?, ?it/s]"
     ]
    },
    {
     "name": "stdout",
     "output_type": "stream",
     "text": [
      "Train Loss: 0.2944 ---- Valid Loss: 0.2444 ---- Valid MCRMSE: 0.2457\n",
      "Best valid MCRMSE updated to 0.24574212729930878\n",
      "Epoch 6\n"
     ]
    },
    {
     "name": "stderr",
     "output_type": "stream",
     "text": [
      "100%|██████████| 240/240 [00:49<00:00,  4.83it/s]\n",
      "100%|██████████| 40/40 [00:02<00:00, 14.82it/s]\n",
      "  0%|          | 0/240 [00:00<?, ?it/s]"
     ]
    },
    {
     "name": "stdout",
     "output_type": "stream",
     "text": [
      "Train Loss: 0.2916 ---- Valid Loss: 0.2418 ---- Valid MCRMSE: 0.2431\n",
      "Best valid MCRMSE updated to 0.24309711158275604\n",
      "Epoch 7\n"
     ]
    },
    {
     "name": "stderr",
     "output_type": "stream",
     "text": [
      "100%|██████████| 240/240 [00:50<00:00,  4.76it/s]\n",
      "100%|██████████| 40/40 [00:02<00:00, 14.92it/s]\n",
      "  0%|          | 0/240 [00:00<?, ?it/s]"
     ]
    },
    {
     "name": "stdout",
     "output_type": "stream",
     "text": [
      "Train Loss: 0.2872 ---- Valid Loss: 0.2367 ---- Valid MCRMSE: 0.2379\n",
      "Best valid MCRMSE updated to 0.23790787160396576\n",
      "Epoch 8\n"
     ]
    },
    {
     "name": "stderr",
     "output_type": "stream",
     "text": [
      "100%|██████████| 240/240 [00:49<00:00,  4.85it/s]\n",
      "100%|██████████| 40/40 [00:02<00:00, 14.99it/s]\n",
      "  0%|          | 0/240 [00:00<?, ?it/s]"
     ]
    },
    {
     "name": "stdout",
     "output_type": "stream",
     "text": [
      "Train Loss: 0.2859 ---- Valid Loss: 0.2293 ---- Valid MCRMSE: 0.2305\n",
      "Best valid MCRMSE updated to 0.23051996529102325\n",
      "Epoch 9\n"
     ]
    },
    {
     "name": "stderr",
     "output_type": "stream",
     "text": [
      "100%|██████████| 240/240 [00:50<00:00,  4.78it/s]\n",
      "100%|██████████| 40/40 [00:02<00:00, 14.90it/s]\n",
      "  0%|          | 0/240 [00:00<?, ?it/s]"
     ]
    },
    {
     "name": "stdout",
     "output_type": "stream",
     "text": [
      "Train Loss: 0.2813 ---- Valid Loss: 0.2285 ---- Valid MCRMSE: 0.2297\n",
      "Best valid MCRMSE updated to 0.22974944114685059\n",
      "Epoch 10\n"
     ]
    },
    {
     "name": "stderr",
     "output_type": "stream",
     "text": [
      "100%|██████████| 240/240 [00:49<00:00,  4.83it/s]\n",
      "100%|██████████| 40/40 [00:02<00:00, 14.83it/s]\n",
      "  0%|          | 0/240 [00:00<?, ?it/s]"
     ]
    },
    {
     "name": "stdout",
     "output_type": "stream",
     "text": [
      "Train Loss: 0.2786 ---- Valid Loss: 0.2256 ---- Valid MCRMSE: 0.2268\n",
      "Best valid MCRMSE updated to 0.22681188583374023\n",
      "Epoch 11\n"
     ]
    },
    {
     "name": "stderr",
     "output_type": "stream",
     "text": [
      "100%|██████████| 240/240 [00:50<00:00,  4.76it/s]\n",
      "100%|██████████| 40/40 [00:02<00:00, 14.47it/s]\n",
      "  0%|          | 0/240 [00:00<?, ?it/s]"
     ]
    },
    {
     "name": "stdout",
     "output_type": "stream",
     "text": [
      "Train Loss: 0.2768 ---- Valid Loss: 0.2232 ---- Valid MCRMSE: 0.2244\n",
      "Best valid MCRMSE updated to 0.2243792563676834\n",
      "Epoch 12\n"
     ]
    },
    {
     "name": "stderr",
     "output_type": "stream",
     "text": [
      "100%|██████████| 240/240 [00:50<00:00,  4.80it/s]\n",
      "100%|██████████| 40/40 [00:02<00:00, 14.83it/s]\n",
      "  0%|          | 0/240 [00:00<?, ?it/s]"
     ]
    },
    {
     "name": "stdout",
     "output_type": "stream",
     "text": [
      "Train Loss: 0.2759 ---- Valid Loss: 0.2221 ---- Valid MCRMSE: 0.2232\n",
      "Best valid MCRMSE updated to 0.2232079952955246\n",
      "Epoch 13\n"
     ]
    },
    {
     "name": "stderr",
     "output_type": "stream",
     "text": [
      "100%|██████████| 240/240 [00:49<00:00,  4.87it/s]\n",
      "100%|██████████| 40/40 [00:02<00:00, 14.89it/s]\n",
      "  0%|          | 0/240 [00:00<?, ?it/s]"
     ]
    },
    {
     "name": "stdout",
     "output_type": "stream",
     "text": [
      "Train Loss: 0.2718 ---- Valid Loss: 0.2186 ---- Valid MCRMSE: 0.2198\n",
      "Best valid MCRMSE updated to 0.21980924904346466\n",
      "Epoch 14\n"
     ]
    },
    {
     "name": "stderr",
     "output_type": "stream",
     "text": [
      "100%|██████████| 240/240 [00:50<00:00,  4.79it/s]\n",
      "100%|██████████| 40/40 [00:02<00:00, 14.77it/s]\n",
      "  0%|          | 0/240 [00:00<?, ?it/s]"
     ]
    },
    {
     "name": "stdout",
     "output_type": "stream",
     "text": [
      "Train Loss: 0.2698 ---- Valid Loss: 0.2155 ---- Valid MCRMSE: 0.2167\n",
      "Best valid MCRMSE updated to 0.21668806672096252\n",
      "Epoch 15\n"
     ]
    },
    {
     "name": "stderr",
     "output_type": "stream",
     "text": [
      "100%|██████████| 240/240 [00:50<00:00,  4.77it/s]\n",
      "100%|██████████| 40/40 [00:02<00:00, 14.97it/s]\n",
      "  0%|          | 0/240 [00:00<?, ?it/s]"
     ]
    },
    {
     "name": "stdout",
     "output_type": "stream",
     "text": [
      "Train Loss: 0.2677 ---- Valid Loss: 0.2160 ---- Valid MCRMSE: 0.2172\n",
      "Epoch 16\n"
     ]
    },
    {
     "name": "stderr",
     "output_type": "stream",
     "text": [
      "100%|██████████| 240/240 [00:49<00:00,  4.80it/s]\n",
      "100%|██████████| 40/40 [00:02<00:00, 14.92it/s]\n",
      "  0%|          | 0/240 [00:00<?, ?it/s]"
     ]
    },
    {
     "name": "stdout",
     "output_type": "stream",
     "text": [
      "Train Loss: 0.2665 ---- Valid Loss: 0.2164 ---- Valid MCRMSE: 0.2175\n",
      "Epoch 17\n"
     ]
    },
    {
     "name": "stderr",
     "output_type": "stream",
     "text": [
      "100%|██████████| 240/240 [00:49<00:00,  4.87it/s]\n",
      "100%|██████████| 40/40 [00:02<00:00, 15.00it/s]\n",
      "  0%|          | 0/240 [00:00<?, ?it/s]"
     ]
    },
    {
     "name": "stdout",
     "output_type": "stream",
     "text": [
      "Train Loss: 0.2652 ---- Valid Loss: 0.2129 ---- Valid MCRMSE: 0.2142\n",
      "Best valid MCRMSE updated to 0.21420812606811523\n",
      "Epoch 18\n"
     ]
    },
    {
     "name": "stderr",
     "output_type": "stream",
     "text": [
      "100%|██████████| 240/240 [00:50<00:00,  4.77it/s]\n",
      "100%|██████████| 40/40 [00:02<00:00, 14.63it/s]\n",
      "  0%|          | 0/240 [00:00<?, ?it/s]"
     ]
    },
    {
     "name": "stdout",
     "output_type": "stream",
     "text": [
      "Train Loss: 0.2628 ---- Valid Loss: 0.2117 ---- Valid MCRMSE: 0.2129\n",
      "Best valid MCRMSE updated to 0.2129461020231247\n",
      "Epoch 19\n"
     ]
    },
    {
     "name": "stderr",
     "output_type": "stream",
     "text": [
      "100%|██████████| 240/240 [00:49<00:00,  4.84it/s]\n",
      "100%|██████████| 40/40 [00:02<00:00, 14.86it/s]\n",
      "  0%|          | 0/240 [00:00<?, ?it/s]"
     ]
    },
    {
     "name": "stdout",
     "output_type": "stream",
     "text": [
      "Train Loss: 0.2626 ---- Valid Loss: 0.2091 ---- Valid MCRMSE: 0.2103\n",
      "Best valid MCRMSE updated to 0.21029877662658691\n",
      "Epoch 20\n"
     ]
    },
    {
     "name": "stderr",
     "output_type": "stream",
     "text": [
      "100%|██████████| 240/240 [00:50<00:00,  4.79it/s]\n",
      "100%|██████████| 40/40 [00:02<00:00, 14.64it/s]\n",
      "  0%|          | 0/240 [00:00<?, ?it/s]"
     ]
    },
    {
     "name": "stdout",
     "output_type": "stream",
     "text": [
      "Train Loss: 0.2599 ---- Valid Loss: 0.2118 ---- Valid MCRMSE: 0.2131\n",
      "Epoch 21\n"
     ]
    },
    {
     "name": "stderr",
     "output_type": "stream",
     "text": [
      "100%|██████████| 240/240 [00:50<00:00,  4.80it/s]\n",
      "100%|██████████| 40/40 [00:02<00:00, 14.80it/s]\n",
      "  0%|          | 0/240 [00:00<?, ?it/s]"
     ]
    },
    {
     "name": "stdout",
     "output_type": "stream",
     "text": [
      "Train Loss: 0.2583 ---- Valid Loss: 0.2078 ---- Valid MCRMSE: 0.2089\n",
      "Best valid MCRMSE updated to 0.20889203250408173\n",
      "Epoch 22\n"
     ]
    },
    {
     "name": "stderr",
     "output_type": "stream",
     "text": [
      "100%|██████████| 240/240 [00:49<00:00,  4.86it/s]\n",
      "100%|██████████| 40/40 [00:02<00:00, 14.91it/s]\n",
      "  0%|          | 0/240 [00:00<?, ?it/s]"
     ]
    },
    {
     "name": "stdout",
     "output_type": "stream",
     "text": [
      "Train Loss: 0.2574 ---- Valid Loss: 0.2051 ---- Valid MCRMSE: 0.2062\n",
      "Best valid MCRMSE updated to 0.20619158446788788\n",
      "Epoch 23\n"
     ]
    },
    {
     "name": "stderr",
     "output_type": "stream",
     "text": [
      "100%|██████████| 240/240 [00:50<00:00,  4.77it/s]\n",
      "100%|██████████| 40/40 [00:02<00:00, 15.01it/s]\n",
      "  0%|          | 0/240 [00:00<?, ?it/s]"
     ]
    },
    {
     "name": "stdout",
     "output_type": "stream",
     "text": [
      "Train Loss: 0.2558 ---- Valid Loss: 0.2046 ---- Valid MCRMSE: 0.2057\n",
      "Best valid MCRMSE updated to 0.20571863651275635\n",
      "Epoch 24\n"
     ]
    },
    {
     "name": "stderr",
     "output_type": "stream",
     "text": [
      "100%|██████████| 240/240 [00:50<00:00,  4.78it/s]\n",
      "100%|██████████| 40/40 [00:02<00:00, 14.82it/s]\n",
      "  0%|          | 0/240 [00:00<?, ?it/s]"
     ]
    },
    {
     "name": "stdout",
     "output_type": "stream",
     "text": [
      "Train Loss: 0.2537 ---- Valid Loss: 0.2057 ---- Valid MCRMSE: 0.2067\n",
      "Epoch 25\n"
     ]
    },
    {
     "name": "stderr",
     "output_type": "stream",
     "text": [
      "100%|██████████| 240/240 [00:49<00:00,  4.84it/s]\n",
      "100%|██████████| 40/40 [00:02<00:00, 14.53it/s]\n",
      "  0%|          | 0/240 [00:00<?, ?it/s]"
     ]
    },
    {
     "name": "stdout",
     "output_type": "stream",
     "text": [
      "Train Loss: 0.2529 ---- Valid Loss: 0.2026 ---- Valid MCRMSE: 0.2038\n",
      "Best valid MCRMSE updated to 0.20376260578632355\n",
      "Epoch 26\n"
     ]
    },
    {
     "name": "stderr",
     "output_type": "stream",
     "text": [
      "100%|██████████| 240/240 [00:49<00:00,  4.80it/s]\n",
      "100%|██████████| 40/40 [00:02<00:00, 14.79it/s]\n",
      "  0%|          | 0/240 [00:00<?, ?it/s]"
     ]
    },
    {
     "name": "stdout",
     "output_type": "stream",
     "text": [
      "Train Loss: 0.2512 ---- Valid Loss: 0.2006 ---- Valid MCRMSE: 0.2017\n",
      "Best valid MCRMSE updated to 0.2017042189836502\n",
      "Epoch 27\n"
     ]
    },
    {
     "name": "stderr",
     "output_type": "stream",
     "text": [
      "100%|██████████| 240/240 [00:49<00:00,  4.81it/s]\n",
      "100%|██████████| 40/40 [00:02<00:00, 14.63it/s]\n",
      "  0%|          | 0/240 [00:00<?, ?it/s]"
     ]
    },
    {
     "name": "stdout",
     "output_type": "stream",
     "text": [
      "Train Loss: 0.2508 ---- Valid Loss: 0.2061 ---- Valid MCRMSE: 0.2074\n",
      "Epoch 28\n"
     ]
    },
    {
     "name": "stderr",
     "output_type": "stream",
     "text": [
      "100%|██████████| 240/240 [00:50<00:00,  4.79it/s]\n",
      "100%|██████████| 40/40 [00:02<00:00, 15.03it/s]\n",
      "  0%|          | 0/240 [00:00<?, ?it/s]"
     ]
    },
    {
     "name": "stdout",
     "output_type": "stream",
     "text": [
      "Train Loss: 0.2512 ---- Valid Loss: 0.2003 ---- Valid MCRMSE: 0.2014\n",
      "Best valid MCRMSE updated to 0.20144911110401154\n",
      "Epoch 29\n"
     ]
    },
    {
     "name": "stderr",
     "output_type": "stream",
     "text": [
      "100%|██████████| 240/240 [00:50<00:00,  4.80it/s]\n",
      "100%|██████████| 40/40 [00:02<00:00, 14.63it/s]\n",
      "  0%|          | 0/240 [00:00<?, ?it/s]"
     ]
    },
    {
     "name": "stdout",
     "output_type": "stream",
     "text": [
      "Train Loss: 0.2489 ---- Valid Loss: 0.2003 ---- Valid MCRMSE: 0.2014\n",
      "Best valid MCRMSE updated to 0.20140402019023895\n",
      "Epoch 30\n"
     ]
    },
    {
     "name": "stderr",
     "output_type": "stream",
     "text": [
      "100%|██████████| 240/240 [00:49<00:00,  4.83it/s]\n",
      "100%|██████████| 40/40 [00:02<00:00, 14.91it/s]\n",
      "  0%|          | 0/240 [00:00<?, ?it/s]"
     ]
    },
    {
     "name": "stdout",
     "output_type": "stream",
     "text": [
      "Train Loss: 0.2472 ---- Valid Loss: 0.2008 ---- Valid MCRMSE: 0.2019\n",
      "Epoch 31\n"
     ]
    },
    {
     "name": "stderr",
     "output_type": "stream",
     "text": [
      "100%|██████████| 240/240 [00:50<00:00,  4.78it/s]\n",
      "100%|██████████| 40/40 [00:02<00:00, 14.58it/s]\n",
      "  0%|          | 0/240 [00:00<?, ?it/s]"
     ]
    },
    {
     "name": "stdout",
     "output_type": "stream",
     "text": [
      "Train Loss: 0.2466 ---- Valid Loss: 0.1958 ---- Valid MCRMSE: 0.1970\n",
      "Best valid MCRMSE updated to 0.19696758687496185\n",
      "Epoch 32\n"
     ]
    },
    {
     "name": "stderr",
     "output_type": "stream",
     "text": [
      "100%|██████████| 240/240 [00:50<00:00,  4.80it/s]\n",
      "100%|██████████| 40/40 [00:02<00:00, 14.65it/s]\n",
      "  0%|          | 0/240 [00:00<?, ?it/s]"
     ]
    },
    {
     "name": "stdout",
     "output_type": "stream",
     "text": [
      "Train Loss: 0.2462 ---- Valid Loss: 0.1955 ---- Valid MCRMSE: 0.1966\n",
      "Best valid MCRMSE updated to 0.1966228187084198\n",
      "Epoch 33\n"
     ]
    },
    {
     "name": "stderr",
     "output_type": "stream",
     "text": [
      "100%|██████████| 240/240 [00:49<00:00,  4.87it/s]\n",
      "100%|██████████| 40/40 [00:02<00:00, 14.86it/s]\n",
      "  0%|          | 0/240 [00:00<?, ?it/s]"
     ]
    },
    {
     "name": "stdout",
     "output_type": "stream",
     "text": [
      "Train Loss: 0.2460 ---- Valid Loss: 0.1964 ---- Valid MCRMSE: 0.1976\n",
      "Epoch 34\n"
     ]
    },
    {
     "name": "stderr",
     "output_type": "stream",
     "text": [
      "100%|██████████| 240/240 [00:50<00:00,  4.77it/s]\n",
      "100%|██████████| 40/40 [00:02<00:00, 14.96it/s]\n",
      "  0%|          | 0/240 [00:00<?, ?it/s]"
     ]
    },
    {
     "name": "stdout",
     "output_type": "stream",
     "text": [
      "Train Loss: 0.2436 ---- Valid Loss: 0.1932 ---- Valid MCRMSE: 0.1943\n",
      "Best valid MCRMSE updated to 0.1943245381116867\n",
      "Epoch 35\n"
     ]
    },
    {
     "name": "stderr",
     "output_type": "stream",
     "text": [
      "100%|██████████| 240/240 [00:49<00:00,  4.84it/s]\n",
      "100%|██████████| 40/40 [00:02<00:00, 15.03it/s]\n",
      "  0%|          | 0/240 [00:00<?, ?it/s]"
     ]
    },
    {
     "name": "stdout",
     "output_type": "stream",
     "text": [
      "Train Loss: 0.2437 ---- Valid Loss: 0.1946 ---- Valid MCRMSE: 0.1957\n",
      "Epoch 36\n"
     ]
    },
    {
     "name": "stderr",
     "output_type": "stream",
     "text": [
      "100%|██████████| 240/240 [00:50<00:00,  4.76it/s]\n",
      "100%|██████████| 40/40 [00:02<00:00, 14.97it/s]\n",
      "  0%|          | 0/240 [00:00<?, ?it/s]"
     ]
    },
    {
     "name": "stdout",
     "output_type": "stream",
     "text": [
      "Train Loss: 0.2424 ---- Valid Loss: 0.1916 ---- Valid MCRMSE: 0.1927\n",
      "Best valid MCRMSE updated to 0.19270740449428558\n",
      "Epoch 37\n"
     ]
    },
    {
     "name": "stderr",
     "output_type": "stream",
     "text": [
      "100%|██████████| 240/240 [00:49<00:00,  4.82it/s]\n",
      "100%|██████████| 40/40 [00:02<00:00, 14.62it/s]\n",
      "  0%|          | 0/240 [00:00<?, ?it/s]"
     ]
    },
    {
     "name": "stdout",
     "output_type": "stream",
     "text": [
      "Train Loss: 0.2414 ---- Valid Loss: 0.1938 ---- Valid MCRMSE: 0.1950\n",
      "Epoch 38\n"
     ]
    },
    {
     "name": "stderr",
     "output_type": "stream",
     "text": [
      "100%|██████████| 240/240 [00:49<00:00,  4.83it/s]\n",
      "100%|██████████| 40/40 [00:02<00:00, 14.94it/s]\n",
      "  0%|          | 0/240 [00:00<?, ?it/s]"
     ]
    },
    {
     "name": "stdout",
     "output_type": "stream",
     "text": [
      "Train Loss: 0.2396 ---- Valid Loss: 0.1914 ---- Valid MCRMSE: 0.1926\n",
      "Best valid MCRMSE updated to 0.1925657093524933\n",
      "Epoch 39\n"
     ]
    },
    {
     "name": "stderr",
     "output_type": "stream",
     "text": [
      "100%|██████████| 240/240 [00:50<00:00,  4.77it/s]\n",
      "100%|██████████| 40/40 [00:02<00:00, 14.64it/s]\n",
      "  0%|          | 0/240 [00:00<?, ?it/s]"
     ]
    },
    {
     "name": "stdout",
     "output_type": "stream",
     "text": [
      "Train Loss: 0.2398 ---- Valid Loss: 0.1920 ---- Valid MCRMSE: 0.1930\n",
      "Epoch 40\n"
     ]
    },
    {
     "name": "stderr",
     "output_type": "stream",
     "text": [
      "100%|██████████| 240/240 [00:49<00:00,  4.80it/s]\n",
      "100%|██████████| 40/40 [00:02<00:00, 14.77it/s]\n",
      "  0%|          | 0/240 [00:00<?, ?it/s]"
     ]
    },
    {
     "name": "stdout",
     "output_type": "stream",
     "text": [
      "Train Loss: 0.2404 ---- Valid Loss: 0.1905 ---- Valid MCRMSE: 0.1916\n",
      "Best valid MCRMSE updated to 0.1915827989578247\n",
      "Epoch 41\n"
     ]
    },
    {
     "name": "stderr",
     "output_type": "stream",
     "text": [
      "100%|██████████| 240/240 [00:49<00:00,  4.82it/s]\n",
      "100%|██████████| 40/40 [00:02<00:00, 14.76it/s]\n",
      "  0%|          | 0/240 [00:00<?, ?it/s]"
     ]
    },
    {
     "name": "stdout",
     "output_type": "stream",
     "text": [
      "Train Loss: 0.2385 ---- Valid Loss: 0.1906 ---- Valid MCRMSE: 0.1917\n",
      "Epoch 42\n"
     ]
    },
    {
     "name": "stderr",
     "output_type": "stream",
     "text": [
      "100%|██████████| 240/240 [00:50<00:00,  4.77it/s]\n",
      "100%|██████████| 40/40 [00:02<00:00, 14.99it/s]\n",
      "  0%|          | 0/240 [00:00<?, ?it/s]"
     ]
    },
    {
     "name": "stdout",
     "output_type": "stream",
     "text": [
      "Train Loss: 0.2380 ---- Valid Loss: 0.1893 ---- Valid MCRMSE: 0.1905\n",
      "Best valid MCRMSE updated to 0.19047334790229797\n",
      "Epoch 43\n"
     ]
    },
    {
     "name": "stderr",
     "output_type": "stream",
     "text": [
      "100%|██████████| 240/240 [00:49<00:00,  4.81it/s]\n",
      "100%|██████████| 40/40 [00:02<00:00, 14.95it/s]\n",
      "  0%|          | 0/240 [00:00<?, ?it/s]"
     ]
    },
    {
     "name": "stdout",
     "output_type": "stream",
     "text": [
      "Train Loss: 0.2378 ---- Valid Loss: 0.1913 ---- Valid MCRMSE: 0.1924\n",
      "Epoch 44\n"
     ]
    },
    {
     "name": "stderr",
     "output_type": "stream",
     "text": [
      "100%|██████████| 240/240 [00:49<00:00,  4.84it/s]\n",
      "100%|██████████| 40/40 [00:02<00:00, 14.93it/s]\n",
      "  0%|          | 0/240 [00:00<?, ?it/s]"
     ]
    },
    {
     "name": "stdout",
     "output_type": "stream",
     "text": [
      "Train Loss: 0.2357 ---- Valid Loss: 0.1895 ---- Valid MCRMSE: 0.1906\n",
      "Epoch 45\n"
     ]
    },
    {
     "name": "stderr",
     "output_type": "stream",
     "text": [
      "100%|██████████| 240/240 [00:50<00:00,  4.78it/s]\n",
      "100%|██████████| 40/40 [00:02<00:00, 14.87it/s]\n",
      "  0%|          | 0/240 [00:00<?, ?it/s]"
     ]
    },
    {
     "name": "stdout",
     "output_type": "stream",
     "text": [
      "Train Loss: 0.2337 ---- Valid Loss: 0.1870 ---- Valid MCRMSE: 0.1882\n",
      "Best valid MCRMSE updated to 0.18819938600063324\n",
      "Epoch 46\n"
     ]
    },
    {
     "name": "stderr",
     "output_type": "stream",
     "text": [
      "100%|██████████| 240/240 [00:50<00:00,  4.79it/s]\n",
      "100%|██████████| 40/40 [00:02<00:00, 14.58it/s]\n",
      "  0%|          | 0/240 [00:00<?, ?it/s]"
     ]
    },
    {
     "name": "stdout",
     "output_type": "stream",
     "text": [
      "Train Loss: 0.2344 ---- Valid Loss: 0.1874 ---- Valid MCRMSE: 0.1885\n",
      "Epoch 47\n"
     ]
    },
    {
     "name": "stderr",
     "output_type": "stream",
     "text": [
      "100%|██████████| 240/240 [00:49<00:00,  4.81it/s]\n",
      "100%|██████████| 40/40 [00:02<00:00, 14.88it/s]\n",
      "  0%|          | 0/240 [00:00<?, ?it/s]"
     ]
    },
    {
     "name": "stdout",
     "output_type": "stream",
     "text": [
      "Train Loss: 0.2334 ---- Valid Loss: 0.1890 ---- Valid MCRMSE: 0.1902\n",
      "Epoch 48\n"
     ]
    },
    {
     "name": "stderr",
     "output_type": "stream",
     "text": [
      "100%|██████████| 240/240 [00:49<00:00,  4.81it/s]\n",
      "100%|██████████| 40/40 [00:02<00:00, 14.52it/s]\n",
      "  0%|          | 0/240 [00:00<?, ?it/s]"
     ]
    },
    {
     "name": "stdout",
     "output_type": "stream",
     "text": [
      "Train Loss: 0.2349 ---- Valid Loss: 0.1865 ---- Valid MCRMSE: 0.1876\n",
      "Best valid MCRMSE updated to 0.18757162988185883\n",
      "Epoch 49\n"
     ]
    },
    {
     "name": "stderr",
     "output_type": "stream",
     "text": [
      "100%|██████████| 240/240 [00:49<00:00,  4.83it/s]\n",
      "100%|██████████| 40/40 [00:02<00:00, 15.00it/s]\n",
      "  0%|          | 0/240 [00:00<?, ?it/s]"
     ]
    },
    {
     "name": "stdout",
     "output_type": "stream",
     "text": [
      "Train Loss: 0.2331 ---- Valid Loss: 0.1862 ---- Valid MCRMSE: 0.1874\n",
      "Best valid MCRMSE updated to 0.18736658990383148\n",
      "Epoch 50\n"
     ]
    },
    {
     "name": "stderr",
     "output_type": "stream",
     "text": [
      "100%|██████████| 240/240 [00:50<00:00,  4.78it/s]\n",
      "100%|██████████| 40/40 [00:02<00:00, 14.67it/s]\n",
      "  0%|          | 0/240 [00:00<?, ?it/s]"
     ]
    },
    {
     "name": "stdout",
     "output_type": "stream",
     "text": [
      "Train Loss: 0.2317 ---- Valid Loss: 0.1881 ---- Valid MCRMSE: 0.1894\n",
      "Epoch 51\n"
     ]
    },
    {
     "name": "stderr",
     "output_type": "stream",
     "text": [
      "100%|██████████| 240/240 [00:49<00:00,  4.87it/s]\n",
      "100%|██████████| 40/40 [00:02<00:00, 14.98it/s]\n",
      "  0%|          | 0/240 [00:00<?, ?it/s]"
     ]
    },
    {
     "name": "stdout",
     "output_type": "stream",
     "text": [
      "Train Loss: 0.2309 ---- Valid Loss: 0.1864 ---- Valid MCRMSE: 0.1876\n",
      "Epoch 52\n"
     ]
    },
    {
     "name": "stderr",
     "output_type": "stream",
     "text": [
      "100%|██████████| 240/240 [00:50<00:00,  4.77it/s]\n",
      "100%|██████████| 40/40 [00:02<00:00, 14.87it/s]\n",
      "  0%|          | 0/240 [00:00<?, ?it/s]"
     ]
    },
    {
     "name": "stdout",
     "output_type": "stream",
     "text": [
      "Train Loss: 0.2307 ---- Valid Loss: 0.1870 ---- Valid MCRMSE: 0.1882\n",
      "Epoch 53\n"
     ]
    },
    {
     "name": "stderr",
     "output_type": "stream",
     "text": [
      "100%|██████████| 240/240 [00:49<00:00,  4.80it/s]\n",
      "100%|██████████| 40/40 [00:02<00:00, 14.59it/s]\n",
      "  0%|          | 0/240 [00:00<?, ?it/s]"
     ]
    },
    {
     "name": "stdout",
     "output_type": "stream",
     "text": [
      "Train Loss: 0.2299 ---- Valid Loss: 0.1869 ---- Valid MCRMSE: 0.1881\n",
      "Epoch 54\n"
     ]
    },
    {
     "name": "stderr",
     "output_type": "stream",
     "text": [
      "100%|██████████| 240/240 [00:49<00:00,  4.82it/s]\n",
      "100%|██████████| 40/40 [00:02<00:00, 14.63it/s]\n",
      "  0%|          | 0/240 [00:00<?, ?it/s]"
     ]
    },
    {
     "name": "stdout",
     "output_type": "stream",
     "text": [
      "Train Loss: 0.2294 ---- Valid Loss: 0.1840 ---- Valid MCRMSE: 0.1851\n",
      "Best valid MCRMSE updated to 0.1851041615009308\n",
      "Epoch 55\n"
     ]
    },
    {
     "name": "stderr",
     "output_type": "stream",
     "text": [
      "100%|██████████| 240/240 [00:49<00:00,  4.81it/s]\n",
      "100%|██████████| 40/40 [00:02<00:00, 14.82it/s]\n",
      "  0%|          | 0/240 [00:00<?, ?it/s]"
     ]
    },
    {
     "name": "stdout",
     "output_type": "stream",
     "text": [
      "Train Loss: 0.2300 ---- Valid Loss: 0.1845 ---- Valid MCRMSE: 0.1856\n",
      "Epoch 56\n"
     ]
    },
    {
     "name": "stderr",
     "output_type": "stream",
     "text": [
      "100%|██████████| 240/240 [00:49<00:00,  4.81it/s]\n",
      "100%|██████████| 40/40 [00:02<00:00, 14.54it/s]\n",
      "  0%|          | 0/240 [00:00<?, ?it/s]"
     ]
    },
    {
     "name": "stdout",
     "output_type": "stream",
     "text": [
      "Train Loss: 0.2283 ---- Valid Loss: 0.1835 ---- Valid MCRMSE: 0.1846\n",
      "Best valid MCRMSE updated to 0.1846218854188919\n",
      "Epoch 57\n"
     ]
    },
    {
     "name": "stderr",
     "output_type": "stream",
     "text": [
      "100%|██████████| 240/240 [00:50<00:00,  4.79it/s]\n",
      "100%|██████████| 40/40 [00:02<00:00, 14.81it/s]\n",
      "  0%|          | 0/240 [00:00<?, ?it/s]"
     ]
    },
    {
     "name": "stdout",
     "output_type": "stream",
     "text": [
      "Train Loss: 0.2272 ---- Valid Loss: 0.1825 ---- Valid MCRMSE: 0.1837\n",
      "Best valid MCRMSE updated to 0.18366268277168274\n",
      "Epoch 58\n"
     ]
    },
    {
     "name": "stderr",
     "output_type": "stream",
     "text": [
      "100%|██████████| 240/240 [00:50<00:00,  4.78it/s]\n",
      "100%|██████████| 40/40 [00:02<00:00, 14.93it/s]\n",
      "  0%|          | 0/240 [00:00<?, ?it/s]"
     ]
    },
    {
     "name": "stdout",
     "output_type": "stream",
     "text": [
      "Train Loss: 0.2270 ---- Valid Loss: 0.1846 ---- Valid MCRMSE: 0.1858\n",
      "Epoch 59\n"
     ]
    },
    {
     "name": "stderr",
     "output_type": "stream",
     "text": [
      "100%|██████████| 240/240 [00:49<00:00,  4.83it/s]\n",
      "100%|██████████| 40/40 [00:02<00:00, 14.97it/s]\n",
      "  0%|          | 0/240 [00:00<?, ?it/s]"
     ]
    },
    {
     "name": "stdout",
     "output_type": "stream",
     "text": [
      "Train Loss: 0.2267 ---- Valid Loss: 0.1819 ---- Valid MCRMSE: 0.1830\n",
      "Best valid MCRMSE updated to 0.18299882113933563\n",
      "Epoch 60\n"
     ]
    },
    {
     "name": "stderr",
     "output_type": "stream",
     "text": [
      "100%|██████████| 240/240 [00:50<00:00,  4.78it/s]\n",
      "100%|██████████| 40/40 [00:02<00:00, 14.54it/s]\n",
      "  0%|          | 0/240 [00:00<?, ?it/s]"
     ]
    },
    {
     "name": "stdout",
     "output_type": "stream",
     "text": [
      "Train Loss: 0.2266 ---- Valid Loss: 0.1803 ---- Valid MCRMSE: 0.1815\n",
      "Best valid MCRMSE updated to 0.18147946894168854\n",
      "Epoch 61\n"
     ]
    },
    {
     "name": "stderr",
     "output_type": "stream",
     "text": [
      "100%|██████████| 240/240 [00:50<00:00,  4.80it/s]\n",
      "100%|██████████| 40/40 [00:02<00:00, 14.82it/s]\n",
      "  0%|          | 0/240 [00:00<?, ?it/s]"
     ]
    },
    {
     "name": "stdout",
     "output_type": "stream",
     "text": [
      "Train Loss: 0.2250 ---- Valid Loss: 0.1815 ---- Valid MCRMSE: 0.1826\n",
      "Epoch 62\n"
     ]
    },
    {
     "name": "stderr",
     "output_type": "stream",
     "text": [
      "100%|██████████| 240/240 [00:49<00:00,  4.81it/s]\n",
      "100%|██████████| 40/40 [00:02<00:00, 14.57it/s]\n",
      "  0%|          | 0/240 [00:00<?, ?it/s]"
     ]
    },
    {
     "name": "stdout",
     "output_type": "stream",
     "text": [
      "Train Loss: 0.2239 ---- Valid Loss: 0.1814 ---- Valid MCRMSE: 0.1825\n",
      "Epoch 63\n"
     ]
    },
    {
     "name": "stderr",
     "output_type": "stream",
     "text": [
      "100%|██████████| 240/240 [00:49<00:00,  4.82it/s]\n",
      "100%|██████████| 40/40 [00:02<00:00, 15.00it/s]\n",
      "  0%|          | 0/240 [00:00<?, ?it/s]"
     ]
    },
    {
     "name": "stdout",
     "output_type": "stream",
     "text": [
      "Train Loss: 0.2244 ---- Valid Loss: 0.1832 ---- Valid MCRMSE: 0.1843\n",
      "Epoch 64\n"
     ]
    },
    {
     "name": "stderr",
     "output_type": "stream",
     "text": [
      "100%|██████████| 240/240 [00:50<00:00,  4.78it/s]\n",
      "100%|██████████| 40/40 [00:02<00:00, 14.76it/s]\n",
      "  0%|          | 0/240 [00:00<?, ?it/s]"
     ]
    },
    {
     "name": "stdout",
     "output_type": "stream",
     "text": [
      "Train Loss: 0.2242 ---- Valid Loss: 0.1820 ---- Valid MCRMSE: 0.1832\n",
      "Epoch 65\n"
     ]
    },
    {
     "name": "stderr",
     "output_type": "stream",
     "text": [
      "100%|██████████| 240/240 [00:49<00:00,  4.83it/s]\n",
      "100%|██████████| 40/40 [00:02<00:00, 14.88it/s]\n",
      "  0%|          | 0/240 [00:00<?, ?it/s]"
     ]
    },
    {
     "name": "stdout",
     "output_type": "stream",
     "text": [
      "Train Loss: 0.2230 ---- Valid Loss: 0.1819 ---- Valid MCRMSE: 0.1832\n",
      "Epoch 66\n"
     ]
    },
    {
     "name": "stderr",
     "output_type": "stream",
     "text": [
      "100%|██████████| 240/240 [00:50<00:00,  4.77it/s]\n",
      "100%|██████████| 40/40 [00:02<00:00, 14.63it/s]\n",
      "  0%|          | 0/240 [00:00<?, ?it/s]"
     ]
    },
    {
     "name": "stdout",
     "output_type": "stream",
     "text": [
      "Train Loss: 0.2227 ---- Valid Loss: 0.1818 ---- Valid MCRMSE: 0.1829\n",
      "Epoch 67\n"
     ]
    },
    {
     "name": "stderr",
     "output_type": "stream",
     "text": [
      "100%|██████████| 240/240 [00:49<00:00,  4.84it/s]\n",
      "100%|██████████| 40/40 [00:02<00:00, 14.89it/s]\n",
      "  0%|          | 0/240 [00:00<?, ?it/s]"
     ]
    },
    {
     "name": "stdout",
     "output_type": "stream",
     "text": [
      "Train Loss: 0.2226 ---- Valid Loss: 0.1808 ---- Valid MCRMSE: 0.1819\n",
      "Epoch 68\n"
     ]
    },
    {
     "name": "stderr",
     "output_type": "stream",
     "text": [
      "100%|██████████| 240/240 [00:50<00:00,  4.79it/s]\n",
      "100%|██████████| 40/40 [00:02<00:00, 14.64it/s]\n",
      "  0%|          | 0/240 [00:00<?, ?it/s]"
     ]
    },
    {
     "name": "stdout",
     "output_type": "stream",
     "text": [
      "Train Loss: 0.2214 ---- Valid Loss: 0.1811 ---- Valid MCRMSE: 0.1823\n",
      "Epoch 69\n"
     ]
    },
    {
     "name": "stderr",
     "output_type": "stream",
     "text": [
      "100%|██████████| 240/240 [00:49<00:00,  4.83it/s]\n",
      "100%|██████████| 40/40 [00:02<00:00, 14.93it/s]\n",
      "  0%|          | 0/240 [00:00<?, ?it/s]"
     ]
    },
    {
     "name": "stdout",
     "output_type": "stream",
     "text": [
      "Train Loss: 0.2216 ---- Valid Loss: 0.1810 ---- Valid MCRMSE: 0.1821\n",
      "Epoch 70\n"
     ]
    },
    {
     "name": "stderr",
     "output_type": "stream",
     "text": [
      "100%|██████████| 240/240 [00:50<00:00,  4.76it/s]\n",
      "100%|██████████| 40/40 [00:02<00:00, 14.87it/s]\n",
      "  0%|          | 0/240 [00:00<?, ?it/s]"
     ]
    },
    {
     "name": "stdout",
     "output_type": "stream",
     "text": [
      "Train Loss: 0.2210 ---- Valid Loss: 0.1797 ---- Valid MCRMSE: 0.1809\n",
      "Best valid MCRMSE updated to 0.18089434504508972\n",
      "Epoch 71\n"
     ]
    },
    {
     "name": "stderr",
     "output_type": "stream",
     "text": [
      "100%|██████████| 240/240 [00:49<00:00,  4.87it/s]\n",
      "100%|██████████| 40/40 [00:02<00:00, 14.93it/s]\n",
      "  0%|          | 0/240 [00:00<?, ?it/s]"
     ]
    },
    {
     "name": "stdout",
     "output_type": "stream",
     "text": [
      "Train Loss: 0.2202 ---- Valid Loss: 0.1798 ---- Valid MCRMSE: 0.1809\n",
      "Epoch 72\n"
     ]
    },
    {
     "name": "stderr",
     "output_type": "stream",
     "text": [
      "100%|██████████| 240/240 [00:50<00:00,  4.77it/s]\n",
      "100%|██████████| 40/40 [00:02<00:00, 15.03it/s]\n",
      "  0%|          | 0/240 [00:00<?, ?it/s]"
     ]
    },
    {
     "name": "stdout",
     "output_type": "stream",
     "text": [
      "Train Loss: 0.2196 ---- Valid Loss: 0.1790 ---- Valid MCRMSE: 0.1801\n",
      "Best valid MCRMSE updated to 0.18012963235378265\n",
      "Epoch 73\n"
     ]
    },
    {
     "name": "stderr",
     "output_type": "stream",
     "text": [
      "100%|██████████| 240/240 [00:49<00:00,  4.84it/s]\n",
      "100%|██████████| 40/40 [00:02<00:00, 14.95it/s]\n",
      "  0%|          | 0/240 [00:00<?, ?it/s]"
     ]
    },
    {
     "name": "stdout",
     "output_type": "stream",
     "text": [
      "Train Loss: 0.2187 ---- Valid Loss: 0.1802 ---- Valid MCRMSE: 0.1814\n",
      "Epoch 74\n"
     ]
    },
    {
     "name": "stderr",
     "output_type": "stream",
     "text": [
      "100%|██████████| 240/240 [00:50<00:00,  4.77it/s]\n",
      "100%|██████████| 40/40 [00:02<00:00, 14.91it/s]\n",
      "  0%|          | 0/240 [00:00<?, ?it/s]"
     ]
    },
    {
     "name": "stdout",
     "output_type": "stream",
     "text": [
      "Train Loss: 0.2186 ---- Valid Loss: 0.1808 ---- Valid MCRMSE: 0.1818\n",
      "Epoch 75\n"
     ]
    },
    {
     "name": "stderr",
     "output_type": "stream",
     "text": [
      "100%|██████████| 240/240 [00:49<00:00,  4.82it/s]\n",
      "100%|██████████| 40/40 [00:02<00:00, 14.99it/s]\n",
      "  0%|          | 0/240 [00:00<?, ?it/s]"
     ]
    },
    {
     "name": "stdout",
     "output_type": "stream",
     "text": [
      "Train Loss: 0.2172 ---- Valid Loss: 0.1799 ---- Valid MCRMSE: 0.1811\n",
      "Epoch 76\n"
     ]
    },
    {
     "name": "stderr",
     "output_type": "stream",
     "text": [
      "100%|██████████| 240/240 [00:49<00:00,  4.82it/s]\n",
      "100%|██████████| 40/40 [00:02<00:00, 14.88it/s]\n",
      "  0%|          | 0/240 [00:00<?, ?it/s]"
     ]
    },
    {
     "name": "stdout",
     "output_type": "stream",
     "text": [
      "Train Loss: 0.2173 ---- Valid Loss: 0.1794 ---- Valid MCRMSE: 0.1806\n",
      "Epoch 77\n"
     ]
    },
    {
     "name": "stderr",
     "output_type": "stream",
     "text": [
      "100%|██████████| 240/240 [00:50<00:00,  4.76it/s]\n",
      "100%|██████████| 40/40 [00:02<00:00, 14.50it/s]\n",
      "  0%|          | 0/240 [00:00<?, ?it/s]"
     ]
    },
    {
     "name": "stdout",
     "output_type": "stream",
     "text": [
      "Train Loss: 0.2166 ---- Valid Loss: 0.1786 ---- Valid MCRMSE: 0.1798\n",
      "Best valid MCRMSE updated to 0.1798131912946701\n",
      "Epoch 78\n"
     ]
    },
    {
     "name": "stderr",
     "output_type": "stream",
     "text": [
      "100%|██████████| 240/240 [00:49<00:00,  4.84it/s]\n",
      "100%|██████████| 40/40 [00:02<00:00, 14.61it/s]\n",
      "  0%|          | 0/240 [00:00<?, ?it/s]"
     ]
    },
    {
     "name": "stdout",
     "output_type": "stream",
     "text": [
      "Train Loss: 0.2159 ---- Valid Loss: 0.1780 ---- Valid MCRMSE: 0.1792\n",
      "Best valid MCRMSE updated to 0.17922794818878174\n",
      "Epoch 79\n"
     ]
    },
    {
     "name": "stderr",
     "output_type": "stream",
     "text": [
      "100%|██████████| 240/240 [00:49<00:00,  4.83it/s]\n",
      "100%|██████████| 40/40 [00:02<00:00, 15.00it/s]\n",
      "  0%|          | 0/240 [00:00<?, ?it/s]"
     ]
    },
    {
     "name": "stdout",
     "output_type": "stream",
     "text": [
      "Train Loss: 0.2149 ---- Valid Loss: 0.1789 ---- Valid MCRMSE: 0.1800\n",
      "Epoch 80\n"
     ]
    },
    {
     "name": "stderr",
     "output_type": "stream",
     "text": [
      "100%|██████████| 240/240 [00:50<00:00,  4.79it/s]\n",
      "100%|██████████| 40/40 [00:02<00:00, 14.45it/s]\n",
      "  0%|          | 0/240 [00:00<?, ?it/s]"
     ]
    },
    {
     "name": "stdout",
     "output_type": "stream",
     "text": [
      "Train Loss: 0.2152 ---- Valid Loss: 0.1781 ---- Valid MCRMSE: 0.1793\n",
      "Epoch 81\n"
     ]
    },
    {
     "name": "stderr",
     "output_type": "stream",
     "text": [
      "100%|██████████| 240/240 [00:49<00:00,  4.83it/s]\n",
      "100%|██████████| 40/40 [00:02<00:00, 14.76it/s]\n",
      "  0%|          | 0/240 [00:00<?, ?it/s]"
     ]
    },
    {
     "name": "stdout",
     "output_type": "stream",
     "text": [
      "Train Loss: 0.2140 ---- Valid Loss: 0.1834 ---- Valid MCRMSE: 0.1846\n",
      "Epoch 82\n"
     ]
    },
    {
     "name": "stderr",
     "output_type": "stream",
     "text": [
      "100%|██████████| 240/240 [00:50<00:00,  4.79it/s]\n",
      "100%|██████████| 40/40 [00:02<00:00, 14.79it/s]\n",
      "  0%|          | 0/240 [00:00<?, ?it/s]"
     ]
    },
    {
     "name": "stdout",
     "output_type": "stream",
     "text": [
      "Train Loss: 0.2154 ---- Valid Loss: 0.1788 ---- Valid MCRMSE: 0.1799\n",
      "Epoch 83\n"
     ]
    },
    {
     "name": "stderr",
     "output_type": "stream",
     "text": [
      "100%|██████████| 240/240 [00:49<00:00,  4.81it/s]\n",
      "100%|██████████| 40/40 [00:02<00:00, 14.87it/s]\n",
      "  0%|          | 0/240 [00:00<?, ?it/s]"
     ]
    },
    {
     "name": "stdout",
     "output_type": "stream",
     "text": [
      "Train Loss: 0.2148 ---- Valid Loss: 0.1780 ---- Valid MCRMSE: 0.1792\n",
      "Best valid MCRMSE updated to 0.1791665405035019\n",
      "Epoch 84\n"
     ]
    },
    {
     "name": "stderr",
     "output_type": "stream",
     "text": [
      "100%|██████████| 240/240 [00:49<00:00,  4.80it/s]\n",
      "100%|██████████| 40/40 [00:02<00:00, 14.94it/s]\n",
      "  0%|          | 0/240 [00:00<?, ?it/s]"
     ]
    },
    {
     "name": "stdout",
     "output_type": "stream",
     "text": [
      "Train Loss: 0.2130 ---- Valid Loss: 0.1777 ---- Valid MCRMSE: 0.1788\n",
      "Best valid MCRMSE updated to 0.17883260548114777\n",
      "Epoch 85\n"
     ]
    },
    {
     "name": "stderr",
     "output_type": "stream",
     "text": [
      "100%|██████████| 240/240 [00:49<00:00,  4.81it/s]\n",
      "100%|██████████| 40/40 [00:02<00:00, 14.96it/s]\n",
      "  0%|          | 0/240 [00:00<?, ?it/s]"
     ]
    },
    {
     "name": "stdout",
     "output_type": "stream",
     "text": [
      "Train Loss: 0.2131 ---- Valid Loss: 0.1768 ---- Valid MCRMSE: 0.1779\n",
      "Best valid MCRMSE updated to 0.17793461680412292\n",
      "Epoch 86\n"
     ]
    },
    {
     "name": "stderr",
     "output_type": "stream",
     "text": [
      "100%|██████████| 240/240 [00:49<00:00,  4.80it/s]\n",
      "100%|██████████| 40/40 [00:02<00:00, 14.96it/s]\n",
      "  0%|          | 0/240 [00:00<?, ?it/s]"
     ]
    },
    {
     "name": "stdout",
     "output_type": "stream",
     "text": [
      "Train Loss: 0.2116 ---- Valid Loss: 0.1791 ---- Valid MCRMSE: 0.1804\n",
      "Epoch 87\n"
     ]
    },
    {
     "name": "stderr",
     "output_type": "stream",
     "text": [
      "100%|██████████| 240/240 [00:49<00:00,  4.82it/s]\n",
      "100%|██████████| 40/40 [00:02<00:00, 14.90it/s]\n",
      "  0%|          | 0/240 [00:00<?, ?it/s]"
     ]
    },
    {
     "name": "stdout",
     "output_type": "stream",
     "text": [
      "Train Loss: 0.2118 ---- Valid Loss: 0.1799 ---- Valid MCRMSE: 0.1811\n",
      "Epoch 88\n"
     ]
    },
    {
     "name": "stderr",
     "output_type": "stream",
     "text": [
      "100%|██████████| 240/240 [00:50<00:00,  4.77it/s]\n",
      "100%|██████████| 40/40 [00:02<00:00, 14.89it/s]\n",
      "  0%|          | 0/240 [00:00<?, ?it/s]"
     ]
    },
    {
     "name": "stdout",
     "output_type": "stream",
     "text": [
      "Train Loss: 0.2130 ---- Valid Loss: 0.1789 ---- Valid MCRMSE: 0.1801\n",
      "Epoch 89\n"
     ]
    },
    {
     "name": "stderr",
     "output_type": "stream",
     "text": [
      "100%|██████████| 240/240 [00:49<00:00,  4.80it/s]\n",
      "100%|██████████| 40/40 [00:02<00:00, 14.96it/s]\n",
      "  0%|          | 0/240 [00:00<?, ?it/s]"
     ]
    },
    {
     "name": "stdout",
     "output_type": "stream",
     "text": [
      "Train Loss: 0.2100 ---- Valid Loss: 0.1778 ---- Valid MCRMSE: 0.1790\n",
      "Epoch 90\n"
     ]
    },
    {
     "name": "stderr",
     "output_type": "stream",
     "text": [
      "100%|██████████| 240/240 [00:49<00:00,  4.81it/s]\n",
      "100%|██████████| 40/40 [00:02<00:00, 14.62it/s]\n",
      "  0%|          | 0/240 [00:00<?, ?it/s]"
     ]
    },
    {
     "name": "stdout",
     "output_type": "stream",
     "text": [
      "Train Loss: 0.2099 ---- Valid Loss: 0.1771 ---- Valid MCRMSE: 0.1783\n",
      "Epoch 91\n"
     ]
    },
    {
     "name": "stderr",
     "output_type": "stream",
     "text": [
      "100%|██████████| 240/240 [00:49<00:00,  4.81it/s]\n",
      "100%|██████████| 40/40 [00:02<00:00, 14.54it/s]\n",
      "  0%|          | 0/240 [00:00<?, ?it/s]"
     ]
    },
    {
     "name": "stdout",
     "output_type": "stream",
     "text": [
      "Train Loss: 0.2097 ---- Valid Loss: 0.1770 ---- Valid MCRMSE: 0.1781\n",
      "Epoch 92\n"
     ]
    },
    {
     "name": "stderr",
     "output_type": "stream",
     "text": [
      "100%|██████████| 240/240 [00:49<00:00,  4.82it/s]\n",
      "100%|██████████| 40/40 [00:02<00:00, 14.62it/s]\n",
      "  0%|          | 0/240 [00:00<?, ?it/s]"
     ]
    },
    {
     "name": "stdout",
     "output_type": "stream",
     "text": [
      "Train Loss: 0.2074 ---- Valid Loss: 0.1767 ---- Valid MCRMSE: 0.1778\n",
      "Best valid MCRMSE updated to 0.1778312474489212\n",
      "Epoch 93\n"
     ]
    },
    {
     "name": "stderr",
     "output_type": "stream",
     "text": [
      "100%|██████████| 240/240 [00:50<00:00,  4.79it/s]\n",
      "100%|██████████| 40/40 [00:02<00:00, 14.93it/s]\n",
      "  0%|          | 0/240 [00:00<?, ?it/s]"
     ]
    },
    {
     "name": "stdout",
     "output_type": "stream",
     "text": [
      "Train Loss: 0.2061 ---- Valid Loss: 0.1802 ---- Valid MCRMSE: 0.1818\n",
      "Epoch 94\n"
     ]
    },
    {
     "name": "stderr",
     "output_type": "stream",
     "text": [
      "100%|██████████| 240/240 [00:50<00:00,  4.80it/s]\n",
      "100%|██████████| 40/40 [00:02<00:00, 14.64it/s]\n",
      "  0%|          | 0/240 [00:00<?, ?it/s]"
     ]
    },
    {
     "name": "stdout",
     "output_type": "stream",
     "text": [
      "Train Loss: 0.2173 ---- Valid Loss: 0.1778 ---- Valid MCRMSE: 0.1790\n",
      "Epoch 95\n"
     ]
    },
    {
     "name": "stderr",
     "output_type": "stream",
     "text": [
      "100%|██████████| 240/240 [00:49<00:00,  4.82it/s]\n",
      "100%|██████████| 40/40 [00:02<00:00, 15.02it/s]\n",
      "  0%|          | 0/240 [00:00<?, ?it/s]"
     ]
    },
    {
     "name": "stdout",
     "output_type": "stream",
     "text": [
      "Train Loss: 0.2075 ---- Valid Loss: 0.1758 ---- Valid MCRMSE: 0.1771\n",
      "Best valid MCRMSE updated to 0.17705516517162323\n",
      "Epoch 96\n"
     ]
    },
    {
     "name": "stderr",
     "output_type": "stream",
     "text": [
      "100%|██████████| 240/240 [00:49<00:00,  4.84it/s]\n",
      "100%|██████████| 40/40 [00:02<00:00, 14.80it/s]\n",
      "  0%|          | 0/240 [00:00<?, ?it/s]"
     ]
    },
    {
     "name": "stdout",
     "output_type": "stream",
     "text": [
      "Train Loss: 0.2046 ---- Valid Loss: 0.1756 ---- Valid MCRMSE: 0.1769\n",
      "Best valid MCRMSE updated to 0.1769428700208664\n",
      "Epoch 97\n"
     ]
    },
    {
     "name": "stderr",
     "output_type": "stream",
     "text": [
      "100%|██████████| 240/240 [00:49<00:00,  4.81it/s]\n",
      "100%|██████████| 40/40 [00:02<00:00, 14.99it/s]\n",
      "  0%|          | 0/240 [00:00<?, ?it/s]"
     ]
    },
    {
     "name": "stdout",
     "output_type": "stream",
     "text": [
      "Train Loss: 0.2056 ---- Valid Loss: 0.1798 ---- Valid MCRMSE: 0.1810\n",
      "Epoch 98\n"
     ]
    },
    {
     "name": "stderr",
     "output_type": "stream",
     "text": [
      "100%|██████████| 240/240 [00:50<00:00,  4.78it/s]\n",
      "100%|██████████| 40/40 [00:02<00:00, 14.84it/s]\n",
      "  0%|          | 0/240 [00:00<?, ?it/s]"
     ]
    },
    {
     "name": "stdout",
     "output_type": "stream",
     "text": [
      "Train Loss: 0.2079 ---- Valid Loss: 0.1781 ---- Valid MCRMSE: 0.1792\n",
      "Epoch 99\n"
     ]
    },
    {
     "name": "stderr",
     "output_type": "stream",
     "text": [
      "100%|██████████| 240/240 [00:49<00:00,  4.81it/s]\n",
      "100%|██████████| 40/40 [00:02<00:00, 14.62it/s]\n",
      "  0%|          | 0/240 [00:00<?, ?it/s]"
     ]
    },
    {
     "name": "stdout",
     "output_type": "stream",
     "text": [
      "Train Loss: 0.2061 ---- Valid Loss: 0.1814 ---- Valid MCRMSE: 0.1825\n",
      "Epoch 100\n"
     ]
    },
    {
     "name": "stderr",
     "output_type": "stream",
     "text": [
      "100%|██████████| 240/240 [00:50<00:00,  4.79it/s]\n",
      "100%|██████████| 40/40 [00:02<00:00, 15.03it/s]\n",
      "  0%|          | 0/240 [00:00<?, ?it/s]"
     ]
    },
    {
     "name": "stdout",
     "output_type": "stream",
     "text": [
      "Train Loss: 0.2099 ---- Valid Loss: 0.1778 ---- Valid MCRMSE: 0.1790\n",
      "Epoch 101\n"
     ]
    },
    {
     "name": "stderr",
     "output_type": "stream",
     "text": [
      "100%|██████████| 240/240 [00:49<00:00,  4.85it/s]\n",
      "100%|██████████| 40/40 [00:02<00:00, 14.95it/s]\n",
      "  0%|          | 0/240 [00:00<?, ?it/s]"
     ]
    },
    {
     "name": "stdout",
     "output_type": "stream",
     "text": [
      "Train Loss: 0.2036 ---- Valid Loss: 0.1759 ---- Valid MCRMSE: 0.1772\n",
      "Epoch 102\n"
     ]
    },
    {
     "name": "stderr",
     "output_type": "stream",
     "text": [
      "100%|██████████| 240/240 [00:49<00:00,  4.81it/s]\n",
      "100%|██████████| 40/40 [00:02<00:00, 14.44it/s]\n",
      "  0%|          | 0/240 [00:00<?, ?it/s]"
     ]
    },
    {
     "name": "stdout",
     "output_type": "stream",
     "text": [
      "Train Loss: 0.2026 ---- Valid Loss: 0.1749 ---- Valid MCRMSE: 0.1761\n",
      "Best valid MCRMSE updated to 0.1760808527469635\n",
      "Epoch 103\n"
     ]
    },
    {
     "name": "stderr",
     "output_type": "stream",
     "text": [
      "100%|██████████| 240/240 [00:50<00:00,  4.80it/s]\n",
      "100%|██████████| 40/40 [00:02<00:00, 14.63it/s]\n",
      "  0%|          | 0/240 [00:00<?, ?it/s]"
     ]
    },
    {
     "name": "stdout",
     "output_type": "stream",
     "text": [
      "Train Loss: 0.2044 ---- Valid Loss: 0.1779 ---- Valid MCRMSE: 0.1793\n",
      "Epoch 104\n"
     ]
    },
    {
     "name": "stderr",
     "output_type": "stream",
     "text": [
      "100%|██████████| 240/240 [00:49<00:00,  4.83it/s]\n",
      "100%|██████████| 40/40 [00:02<00:00, 14.58it/s]\n",
      "  0%|          | 0/240 [00:00<?, ?it/s]"
     ]
    },
    {
     "name": "stdout",
     "output_type": "stream",
     "text": [
      "Train Loss: 0.2031 ---- Valid Loss: 0.1744 ---- Valid MCRMSE: 0.1756\n",
      "Best valid MCRMSE updated to 0.17555470764636993\n",
      "Epoch 105\n"
     ]
    },
    {
     "name": "stderr",
     "output_type": "stream",
     "text": [
      "100%|██████████| 240/240 [00:50<00:00,  4.78it/s]\n",
      "100%|██████████| 40/40 [00:02<00:00, 14.64it/s]\n",
      "  0%|          | 0/240 [00:00<?, ?it/s]"
     ]
    },
    {
     "name": "stdout",
     "output_type": "stream",
     "text": [
      "Train Loss: 0.2013 ---- Valid Loss: 0.1747 ---- Valid MCRMSE: 0.1759\n",
      "Epoch 106\n"
     ]
    },
    {
     "name": "stderr",
     "output_type": "stream",
     "text": [
      "100%|██████████| 240/240 [00:49<00:00,  4.86it/s]\n",
      "100%|██████████| 40/40 [00:02<00:00, 14.86it/s]\n",
      "  0%|          | 0/240 [00:00<?, ?it/s]"
     ]
    },
    {
     "name": "stdout",
     "output_type": "stream",
     "text": [
      "Train Loss: 0.2015 ---- Valid Loss: 0.1751 ---- Valid MCRMSE: 0.1765\n",
      "Epoch 107\n"
     ]
    },
    {
     "name": "stderr",
     "output_type": "stream",
     "text": [
      "100%|██████████| 240/240 [00:50<00:00,  4.78it/s]\n",
      "100%|██████████| 40/40 [00:02<00:00, 14.53it/s]\n",
      "  0%|          | 0/240 [00:00<?, ?it/s]"
     ]
    },
    {
     "name": "stdout",
     "output_type": "stream",
     "text": [
      "Train Loss: 0.2003 ---- Valid Loss: 0.1762 ---- Valid MCRMSE: 0.1775\n",
      "Epoch 108\n"
     ]
    },
    {
     "name": "stderr",
     "output_type": "stream",
     "text": [
      "100%|██████████| 240/240 [00:49<00:00,  4.82it/s]\n",
      "100%|██████████| 40/40 [00:02<00:00, 14.51it/s]\n",
      "  0%|          | 0/240 [00:00<?, ?it/s]"
     ]
    },
    {
     "name": "stdout",
     "output_type": "stream",
     "text": [
      "Train Loss: 0.2004 ---- Valid Loss: 0.1763 ---- Valid MCRMSE: 0.1776\n",
      "Epoch 109\n"
     ]
    },
    {
     "name": "stderr",
     "output_type": "stream",
     "text": [
      "100%|██████████| 240/240 [00:49<00:00,  4.80it/s]\n",
      "100%|██████████| 40/40 [00:02<00:00, 14.95it/s]\n",
      "  0%|          | 0/240 [00:00<?, ?it/s]"
     ]
    },
    {
     "name": "stdout",
     "output_type": "stream",
     "text": [
      "Train Loss: 0.2006 ---- Valid Loss: 0.1766 ---- Valid MCRMSE: 0.1779\n",
      "Epoch 110\n"
     ]
    },
    {
     "name": "stderr",
     "output_type": "stream",
     "text": [
      "100%|██████████| 240/240 [00:50<00:00,  4.78it/s]\n",
      "100%|██████████| 40/40 [00:02<00:00, 14.72it/s]\n",
      "  0%|          | 0/240 [00:00<?, ?it/s]"
     ]
    },
    {
     "name": "stdout",
     "output_type": "stream",
     "text": [
      "Train Loss: 0.2017 ---- Valid Loss: 0.1763 ---- Valid MCRMSE: 0.1774\n",
      "Epoch 111\n"
     ]
    },
    {
     "name": "stderr",
     "output_type": "stream",
     "text": [
      "100%|██████████| 240/240 [00:49<00:00,  4.85it/s]\n",
      "100%|██████████| 40/40 [00:02<00:00, 15.01it/s]\n",
      "  0%|          | 0/240 [00:00<?, ?it/s]"
     ]
    },
    {
     "name": "stdout",
     "output_type": "stream",
     "text": [
      "Train Loss: 0.2032 ---- Valid Loss: 0.1758 ---- Valid MCRMSE: 0.1771\n",
      "Epoch 112\n"
     ]
    },
    {
     "name": "stderr",
     "output_type": "stream",
     "text": [
      "100%|██████████| 240/240 [00:50<00:00,  4.78it/s]\n",
      "100%|██████████| 40/40 [00:02<00:00, 14.87it/s]\n",
      "  0%|          | 0/240 [00:00<?, ?it/s]"
     ]
    },
    {
     "name": "stdout",
     "output_type": "stream",
     "text": [
      "Train Loss: 0.2005 ---- Valid Loss: 0.1727 ---- Valid MCRMSE: 0.1738\n",
      "Best valid MCRMSE updated to 0.173847958445549\n",
      "Epoch 113\n"
     ]
    },
    {
     "name": "stderr",
     "output_type": "stream",
     "text": [
      "100%|██████████| 240/240 [00:49<00:00,  4.82it/s]\n",
      "100%|██████████| 40/40 [00:02<00:00, 14.54it/s]\n",
      "  0%|          | 0/240 [00:00<?, ?it/s]"
     ]
    },
    {
     "name": "stdout",
     "output_type": "stream",
     "text": [
      "Train Loss: 0.2012 ---- Valid Loss: 0.1730 ---- Valid MCRMSE: 0.1742\n",
      "Epoch 114\n"
     ]
    },
    {
     "name": "stderr",
     "output_type": "stream",
     "text": [
      "100%|██████████| 240/240 [00:49<00:00,  4.83it/s]\n",
      "100%|██████████| 40/40 [00:02<00:00, 14.53it/s]\n",
      "  0%|          | 0/240 [00:00<?, ?it/s]"
     ]
    },
    {
     "name": "stdout",
     "output_type": "stream",
     "text": [
      "Train Loss: 0.1986 ---- Valid Loss: 0.1733 ---- Valid MCRMSE: 0.1746\n",
      "Epoch 115\n"
     ]
    },
    {
     "name": "stderr",
     "output_type": "stream",
     "text": [
      "100%|██████████| 240/240 [00:50<00:00,  4.77it/s]\n",
      "100%|██████████| 40/40 [00:02<00:00, 14.55it/s]\n",
      "  0%|          | 0/240 [00:00<?, ?it/s]"
     ]
    },
    {
     "name": "stdout",
     "output_type": "stream",
     "text": [
      "Train Loss: 0.2044 ---- Valid Loss: 0.1742 ---- Valid MCRMSE: 0.1755\n",
      "Epoch 116\n"
     ]
    },
    {
     "name": "stderr",
     "output_type": "stream",
     "text": [
      "100%|██████████| 240/240 [00:49<00:00,  4.82it/s]\n",
      "100%|██████████| 40/40 [00:02<00:00, 14.44it/s]\n",
      "  0%|          | 0/240 [00:00<?, ?it/s]"
     ]
    },
    {
     "name": "stdout",
     "output_type": "stream",
     "text": [
      "Train Loss: 0.1999 ---- Valid Loss: 0.1740 ---- Valid MCRMSE: 0.1753\n",
      "Epoch 117\n"
     ]
    },
    {
     "name": "stderr",
     "output_type": "stream",
     "text": [
      "100%|██████████| 240/240 [00:49<00:00,  4.86it/s]\n",
      "100%|██████████| 40/40 [00:02<00:00, 14.91it/s]\n",
      "  0%|          | 0/240 [00:00<?, ?it/s]"
     ]
    },
    {
     "name": "stdout",
     "output_type": "stream",
     "text": [
      "Train Loss: 0.1989 ---- Valid Loss: 0.1724 ---- Valid MCRMSE: 0.1737\n",
      "Best valid MCRMSE updated to 0.17365719377994537\n",
      "Epoch 118\n"
     ]
    },
    {
     "name": "stderr",
     "output_type": "stream",
     "text": [
      "100%|██████████| 240/240 [00:50<00:00,  4.76it/s]\n",
      "100%|██████████| 40/40 [00:02<00:00, 14.62it/s]\n",
      "  0%|          | 0/240 [00:00<?, ?it/s]"
     ]
    },
    {
     "name": "stdout",
     "output_type": "stream",
     "text": [
      "Train Loss: 0.2007 ---- Valid Loss: 0.1741 ---- Valid MCRMSE: 0.1753\n",
      "Epoch 119\n"
     ]
    },
    {
     "name": "stderr",
     "output_type": "stream",
     "text": [
      "100%|██████████| 240/240 [00:49<00:00,  4.81it/s]\n",
      "100%|██████████| 40/40 [00:02<00:00, 14.56it/s]\n",
      "  0%|          | 0/240 [00:00<?, ?it/s]"
     ]
    },
    {
     "name": "stdout",
     "output_type": "stream",
     "text": [
      "Train Loss: 0.1970 ---- Valid Loss: 0.1725 ---- Valid MCRMSE: 0.1737\n",
      "Epoch 120\n"
     ]
    },
    {
     "name": "stderr",
     "output_type": "stream",
     "text": [
      "100%|██████████| 240/240 [00:49<00:00,  4.84it/s]\n",
      "100%|██████████| 40/40 [00:02<00:00, 14.90it/s]\n",
      "  0%|          | 0/240 [00:00<?, ?it/s]"
     ]
    },
    {
     "name": "stdout",
     "output_type": "stream",
     "text": [
      "Train Loss: 0.1981 ---- Valid Loss: 0.1741 ---- Valid MCRMSE: 0.1754\n",
      "Epoch 121\n"
     ]
    },
    {
     "name": "stderr",
     "output_type": "stream",
     "text": [
      "100%|██████████| 240/240 [00:49<00:00,  4.80it/s]\n",
      "100%|██████████| 40/40 [00:02<00:00, 14.96it/s]\n",
      "  0%|          | 0/240 [00:00<?, ?it/s]"
     ]
    },
    {
     "name": "stdout",
     "output_type": "stream",
     "text": [
      "Train Loss: 0.1972 ---- Valid Loss: 0.1720 ---- Valid MCRMSE: 0.1732\n",
      "Best valid MCRMSE updated to 0.17324000597000122\n",
      "Epoch 122\n"
     ]
    },
    {
     "name": "stderr",
     "output_type": "stream",
     "text": [
      "100%|██████████| 240/240 [00:49<00:00,  4.80it/s]\n",
      "100%|██████████| 40/40 [00:02<00:00, 14.52it/s]\n",
      "  0%|          | 0/240 [00:00<?, ?it/s]"
     ]
    },
    {
     "name": "stdout",
     "output_type": "stream",
     "text": [
      "Train Loss: 0.1963 ---- Valid Loss: 0.1734 ---- Valid MCRMSE: 0.1746\n",
      "Epoch 123\n"
     ]
    },
    {
     "name": "stderr",
     "output_type": "stream",
     "text": [
      "100%|██████████| 240/240 [00:50<00:00,  4.80it/s]\n",
      "100%|██████████| 40/40 [00:02<00:00, 14.90it/s]\n",
      "  0%|          | 0/240 [00:00<?, ?it/s]"
     ]
    },
    {
     "name": "stdout",
     "output_type": "stream",
     "text": [
      "Train Loss: 0.1954 ---- Valid Loss: 0.1727 ---- Valid MCRMSE: 0.1740\n",
      "Epoch 124\n"
     ]
    },
    {
     "name": "stderr",
     "output_type": "stream",
     "text": [
      "100%|██████████| 240/240 [00:49<00:00,  4.80it/s]\n",
      "100%|██████████| 40/40 [00:02<00:00, 14.97it/s]\n",
      "  0%|          | 0/240 [00:00<?, ?it/s]"
     ]
    },
    {
     "name": "stdout",
     "output_type": "stream",
     "text": [
      "Train Loss: 0.1945 ---- Valid Loss: 0.1709 ---- Valid MCRMSE: 0.1721\n",
      "Best valid MCRMSE updated to 0.17208383977413177\n",
      "Epoch 125\n"
     ]
    },
    {
     "name": "stderr",
     "output_type": "stream",
     "text": [
      "100%|██████████| 240/240 [00:49<00:00,  4.80it/s]\n",
      "100%|██████████| 40/40 [00:02<00:00, 14.61it/s]\n",
      "  0%|          | 0/240 [00:00<?, ?it/s]"
     ]
    },
    {
     "name": "stdout",
     "output_type": "stream",
     "text": [
      "Train Loss: 0.1943 ---- Valid Loss: 0.1706 ---- Valid MCRMSE: 0.1718\n",
      "Best valid MCRMSE updated to 0.17181210219860077\n",
      "Epoch 126\n"
     ]
    },
    {
     "name": "stderr",
     "output_type": "stream",
     "text": [
      "100%|██████████| 240/240 [00:49<00:00,  4.81it/s]\n",
      "100%|██████████| 40/40 [00:02<00:00, 14.92it/s]\n",
      "  0%|          | 0/240 [00:00<?, ?it/s]"
     ]
    },
    {
     "name": "stdout",
     "output_type": "stream",
     "text": [
      "Train Loss: 0.1965 ---- Valid Loss: 0.1721 ---- Valid MCRMSE: 0.1733\n",
      "Epoch 127\n"
     ]
    },
    {
     "name": "stderr",
     "output_type": "stream",
     "text": [
      "100%|██████████| 240/240 [00:50<00:00,  4.77it/s]\n",
      "100%|██████████| 40/40 [00:02<00:00, 14.87it/s]\n",
      "  0%|          | 0/240 [00:00<?, ?it/s]"
     ]
    },
    {
     "name": "stdout",
     "output_type": "stream",
     "text": [
      "Train Loss: 0.1963 ---- Valid Loss: 0.1712 ---- Valid MCRMSE: 0.1723\n",
      "Epoch 128\n"
     ]
    },
    {
     "name": "stderr",
     "output_type": "stream",
     "text": [
      "100%|██████████| 240/240 [00:49<00:00,  4.81it/s]\n",
      "100%|██████████| 40/40 [00:02<00:00, 14.70it/s]\n",
      "  0%|          | 0/240 [00:00<?, ?it/s]"
     ]
    },
    {
     "name": "stdout",
     "output_type": "stream",
     "text": [
      "Train Loss: 0.1945 ---- Valid Loss: 0.1732 ---- Valid MCRMSE: 0.1745\n",
      "Epoch 129\n"
     ]
    },
    {
     "name": "stderr",
     "output_type": "stream",
     "text": [
      "100%|██████████| 240/240 [00:49<00:00,  4.82it/s]\n",
      "100%|██████████| 40/40 [00:02<00:00, 14.59it/s]\n",
      "  5%|▌         | 2/40 [00:00<00:02, 14.69it/s]"
     ]
    },
    {
     "name": "stdout",
     "output_type": "stream",
     "text": [
      "Train Loss: 0.1931 ---- Valid Loss: 0.1721 ---- Valid MCRMSE: 0.1733\n"
     ]
    },
    {
     "name": "stderr",
     "output_type": "stream",
     "text": [
      "100%|██████████| 40/40 [00:02<00:00, 14.61it/s]\n"
     ]
    },
    {
     "name": "stdout",
     "output_type": "stream",
     "text": [
      "Fold 4\n"
     ]
    },
    {
     "name": "stderr",
     "output_type": "stream",
     "text": [
      "\r",
      "  0%|          | 0/240 [00:00<?, ?it/s]"
     ]
    },
    {
     "name": "stdout",
     "output_type": "stream",
     "text": [
      "Epoch 0\n"
     ]
    },
    {
     "name": "stderr",
     "output_type": "stream",
     "text": [
      "100%|██████████| 240/240 [00:49<00:00,  4.83it/s]\n",
      "100%|██████████| 41/41 [00:02<00:00, 14.71it/s]\n",
      "  0%|          | 0/240 [00:00<?, ?it/s]"
     ]
    },
    {
     "name": "stdout",
     "output_type": "stream",
     "text": [
      "Train Loss: 0.3937 ---- Valid Loss: 0.2895 ---- Valid MCRMSE: 0.2905\n",
      "Best valid MCRMSE updated to 0.29047736525535583\n",
      "Epoch 1\n"
     ]
    },
    {
     "name": "stderr",
     "output_type": "stream",
     "text": [
      "100%|██████████| 240/240 [00:50<00:00,  4.80it/s]\n",
      "100%|██████████| 41/41 [00:02<00:00, 14.79it/s]\n",
      "  0%|          | 0/240 [00:00<?, ?it/s]"
     ]
    },
    {
     "name": "stdout",
     "output_type": "stream",
     "text": [
      "Train Loss: 0.3405 ---- Valid Loss: 0.2645 ---- Valid MCRMSE: 0.2656\n",
      "Best valid MCRMSE updated to 0.26562556624412537\n",
      "Epoch 2\n"
     ]
    },
    {
     "name": "stderr",
     "output_type": "stream",
     "text": [
      "100%|██████████| 240/240 [00:49<00:00,  4.83it/s]\n",
      "100%|██████████| 41/41 [00:02<00:00, 15.10it/s]\n",
      "  0%|          | 0/240 [00:00<?, ?it/s]"
     ]
    },
    {
     "name": "stdout",
     "output_type": "stream",
     "text": [
      "Train Loss: 0.3227 ---- Valid Loss: 0.2546 ---- Valid MCRMSE: 0.2558\n",
      "Best valid MCRMSE updated to 0.25582024455070496\n",
      "Epoch 3\n"
     ]
    },
    {
     "name": "stderr",
     "output_type": "stream",
     "text": [
      "100%|██████████| 240/240 [00:50<00:00,  4.77it/s]\n",
      "100%|██████████| 41/41 [00:02<00:00, 15.11it/s]\n",
      "  0%|          | 0/240 [00:00<?, ?it/s]"
     ]
    },
    {
     "name": "stdout",
     "output_type": "stream",
     "text": [
      "Train Loss: 0.3096 ---- Valid Loss: 0.2453 ---- Valid MCRMSE: 0.2465\n",
      "Best valid MCRMSE updated to 0.2465195506811142\n",
      "Epoch 4\n"
     ]
    },
    {
     "name": "stderr",
     "output_type": "stream",
     "text": [
      "100%|██████████| 240/240 [00:50<00:00,  4.78it/s]\n",
      "100%|██████████| 41/41 [00:02<00:00, 14.75it/s]\n",
      "  0%|          | 0/240 [00:00<?, ?it/s]"
     ]
    },
    {
     "name": "stdout",
     "output_type": "stream",
     "text": [
      "Train Loss: 0.3036 ---- Valid Loss: 0.2411 ---- Valid MCRMSE: 0.2424\n",
      "Best valid MCRMSE updated to 0.24243827164173126\n",
      "Epoch 5\n"
     ]
    },
    {
     "name": "stderr",
     "output_type": "stream",
     "text": [
      "100%|██████████| 240/240 [00:49<00:00,  4.86it/s]\n",
      "100%|██████████| 41/41 [00:02<00:00, 14.62it/s]\n",
      "  0%|          | 0/240 [00:00<?, ?it/s]"
     ]
    },
    {
     "name": "stdout",
     "output_type": "stream",
     "text": [
      "Train Loss: 0.2980 ---- Valid Loss: 0.2350 ---- Valid MCRMSE: 0.2364\n",
      "Best valid MCRMSE updated to 0.23635728657245636\n",
      "Epoch 6\n"
     ]
    },
    {
     "name": "stderr",
     "output_type": "stream",
     "text": [
      "100%|██████████| 240/240 [00:50<00:00,  4.77it/s]\n",
      "100%|██████████| 41/41 [00:02<00:00, 14.98it/s]\n",
      "  0%|          | 0/240 [00:00<?, ?it/s]"
     ]
    },
    {
     "name": "stdout",
     "output_type": "stream",
     "text": [
      "Train Loss: 0.2940 ---- Valid Loss: 0.2340 ---- Valid MCRMSE: 0.2354\n",
      "Best valid MCRMSE updated to 0.23542754352092743\n",
      "Epoch 7\n"
     ]
    },
    {
     "name": "stderr",
     "output_type": "stream",
     "text": [
      "100%|██████████| 240/240 [00:49<00:00,  4.83it/s]\n",
      "100%|██████████| 41/41 [00:02<00:00, 14.96it/s]\n",
      "  0%|          | 0/240 [00:00<?, ?it/s]"
     ]
    },
    {
     "name": "stdout",
     "output_type": "stream",
     "text": [
      "Train Loss: 0.2910 ---- Valid Loss: 0.2336 ---- Valid MCRMSE: 0.2352\n",
      "Best valid MCRMSE updated to 0.23518486320972443\n",
      "Epoch 8\n"
     ]
    },
    {
     "name": "stderr",
     "output_type": "stream",
     "text": [
      "100%|██████████| 240/240 [00:50<00:00,  4.79it/s]\n",
      "100%|██████████| 41/41 [00:02<00:00, 15.08it/s]\n",
      "  0%|          | 0/240 [00:00<?, ?it/s]"
     ]
    },
    {
     "name": "stdout",
     "output_type": "stream",
     "text": [
      "Train Loss: 0.2877 ---- Valid Loss: 0.2294 ---- Valid MCRMSE: 0.2311\n",
      "Best valid MCRMSE updated to 0.23107850551605225\n",
      "Epoch 9\n"
     ]
    },
    {
     "name": "stderr",
     "output_type": "stream",
     "text": [
      "100%|██████████| 240/240 [00:50<00:00,  4.76it/s]\n",
      "100%|██████████| 41/41 [00:02<00:00, 14.64it/s]\n",
      "  0%|          | 0/240 [00:00<?, ?it/s]"
     ]
    },
    {
     "name": "stdout",
     "output_type": "stream",
     "text": [
      "Train Loss: 0.2854 ---- Valid Loss: 0.2275 ---- Valid MCRMSE: 0.2288\n",
      "Best valid MCRMSE updated to 0.22879064083099365\n",
      "Epoch 10\n"
     ]
    },
    {
     "name": "stderr",
     "output_type": "stream",
     "text": [
      "100%|██████████| 240/240 [00:49<00:00,  4.83it/s]\n",
      "100%|██████████| 41/41 [00:02<00:00, 14.72it/s]\n",
      "  0%|          | 0/240 [00:00<?, ?it/s]"
     ]
    },
    {
     "name": "stdout",
     "output_type": "stream",
     "text": [
      "Train Loss: 0.2816 ---- Valid Loss: 0.2239 ---- Valid MCRMSE: 0.2251\n",
      "Best valid MCRMSE updated to 0.22513023018836975\n",
      "Epoch 11\n"
     ]
    },
    {
     "name": "stderr",
     "output_type": "stream",
     "text": [
      "100%|██████████| 240/240 [00:49<00:00,  4.85it/s]\n",
      "100%|██████████| 41/41 [00:02<00:00, 15.00it/s]\n",
      "  0%|          | 0/240 [00:00<?, ?it/s]"
     ]
    },
    {
     "name": "stdout",
     "output_type": "stream",
     "text": [
      "Train Loss: 0.2794 ---- Valid Loss: 0.2199 ---- Valid MCRMSE: 0.2213\n",
      "Best valid MCRMSE updated to 0.22132806479930878\n",
      "Epoch 12\n"
     ]
    },
    {
     "name": "stderr",
     "output_type": "stream",
     "text": [
      "100%|██████████| 240/240 [00:50<00:00,  4.77it/s]\n",
      "100%|██████████| 41/41 [00:02<00:00, 15.03it/s]\n",
      "  0%|          | 0/240 [00:00<?, ?it/s]"
     ]
    },
    {
     "name": "stdout",
     "output_type": "stream",
     "text": [
      "Train Loss: 0.2781 ---- Valid Loss: 0.2166 ---- Valid MCRMSE: 0.2183\n",
      "Best valid MCRMSE updated to 0.21833279728889465\n",
      "Epoch 13\n"
     ]
    },
    {
     "name": "stderr",
     "output_type": "stream",
     "text": [
      "100%|██████████| 240/240 [00:50<00:00,  4.77it/s]\n",
      "100%|██████████| 41/41 [00:02<00:00, 14.85it/s]\n",
      "  0%|          | 0/240 [00:00<?, ?it/s]"
     ]
    },
    {
     "name": "stdout",
     "output_type": "stream",
     "text": [
      "Train Loss: 0.2746 ---- Valid Loss: 0.2179 ---- Valid MCRMSE: 0.2191\n",
      "Epoch 14\n"
     ]
    },
    {
     "name": "stderr",
     "output_type": "stream",
     "text": [
      "100%|██████████| 240/240 [00:49<00:00,  4.81it/s]\n",
      "100%|██████████| 41/41 [00:02<00:00, 15.05it/s]\n",
      "  0%|          | 0/240 [00:00<?, ?it/s]"
     ]
    },
    {
     "name": "stdout",
     "output_type": "stream",
     "text": [
      "Train Loss: 0.2739 ---- Valid Loss: 0.2128 ---- Valid MCRMSE: 0.2141\n",
      "Best valid MCRMSE updated to 0.21409828960895538\n",
      "Epoch 15\n"
     ]
    },
    {
     "name": "stderr",
     "output_type": "stream",
     "text": [
      "100%|██████████| 240/240 [00:49<00:00,  4.85it/s]\n",
      "100%|██████████| 41/41 [00:02<00:00, 15.08it/s]\n",
      "  0%|          | 0/240 [00:00<?, ?it/s]"
     ]
    },
    {
     "name": "stdout",
     "output_type": "stream",
     "text": [
      "Train Loss: 0.2710 ---- Valid Loss: 0.2099 ---- Valid MCRMSE: 0.2113\n",
      "Best valid MCRMSE updated to 0.2113451212644577\n",
      "Epoch 16\n"
     ]
    },
    {
     "name": "stderr",
     "output_type": "stream",
     "text": [
      "100%|██████████| 240/240 [00:50<00:00,  4.79it/s]\n",
      "100%|██████████| 41/41 [00:02<00:00, 15.01it/s]\n",
      "  0%|          | 0/240 [00:00<?, ?it/s]"
     ]
    },
    {
     "name": "stdout",
     "output_type": "stream",
     "text": [
      "Train Loss: 0.2696 ---- Valid Loss: 0.2135 ---- Valid MCRMSE: 0.2150\n",
      "Epoch 17\n"
     ]
    },
    {
     "name": "stderr",
     "output_type": "stream",
     "text": [
      "100%|██████████| 240/240 [00:50<00:00,  4.79it/s]\n",
      "100%|██████████| 41/41 [00:02<00:00, 14.95it/s]\n",
      "  0%|          | 0/240 [00:00<?, ?it/s]"
     ]
    },
    {
     "name": "stdout",
     "output_type": "stream",
     "text": [
      "Train Loss: 0.2674 ---- Valid Loss: 0.2080 ---- Valid MCRMSE: 0.2092\n",
      "Best valid MCRMSE updated to 0.20924925804138184\n",
      "Epoch 18\n"
     ]
    },
    {
     "name": "stderr",
     "output_type": "stream",
     "text": [
      "100%|██████████| 240/240 [00:49<00:00,  4.81it/s]\n",
      "100%|██████████| 41/41 [00:02<00:00, 14.97it/s]\n",
      "  0%|          | 0/240 [00:00<?, ?it/s]"
     ]
    },
    {
     "name": "stdout",
     "output_type": "stream",
     "text": [
      "Train Loss: 0.2660 ---- Valid Loss: 0.2090 ---- Valid MCRMSE: 0.2105\n",
      "Epoch 19\n"
     ]
    },
    {
     "name": "stderr",
     "output_type": "stream",
     "text": [
      "100%|██████████| 240/240 [00:50<00:00,  4.79it/s]\n",
      "100%|██████████| 41/41 [00:02<00:00, 14.61it/s]\n",
      "  0%|          | 0/240 [00:00<?, ?it/s]"
     ]
    },
    {
     "name": "stdout",
     "output_type": "stream",
     "text": [
      "Train Loss: 0.2641 ---- Valid Loss: 0.2075 ---- Valid MCRMSE: 0.2092\n",
      "Best valid MCRMSE updated to 0.20920994877815247\n",
      "Epoch 20\n"
     ]
    },
    {
     "name": "stderr",
     "output_type": "stream",
     "text": [
      "100%|██████████| 240/240 [00:49<00:00,  4.80it/s]\n",
      "100%|██████████| 41/41 [00:02<00:00, 15.08it/s]\n",
      "  0%|          | 0/240 [00:00<?, ?it/s]"
     ]
    },
    {
     "name": "stdout",
     "output_type": "stream",
     "text": [
      "Train Loss: 0.2624 ---- Valid Loss: 0.2050 ---- Valid MCRMSE: 0.2065\n",
      "Best valid MCRMSE updated to 0.2064908742904663\n",
      "Epoch 21\n"
     ]
    },
    {
     "name": "stderr",
     "output_type": "stream",
     "text": [
      "100%|██████████| 240/240 [00:50<00:00,  4.77it/s]\n",
      "100%|██████████| 41/41 [00:02<00:00, 14.58it/s]\n",
      "  0%|          | 0/240 [00:00<?, ?it/s]"
     ]
    },
    {
     "name": "stdout",
     "output_type": "stream",
     "text": [
      "Train Loss: 0.2614 ---- Valid Loss: 0.2035 ---- Valid MCRMSE: 0.2052\n",
      "Best valid MCRMSE updated to 0.20518653094768524\n",
      "Epoch 22\n"
     ]
    },
    {
     "name": "stderr",
     "output_type": "stream",
     "text": [
      "100%|██████████| 240/240 [00:49<00:00,  4.87it/s]\n",
      "100%|██████████| 41/41 [00:02<00:00, 15.07it/s]\n",
      "  0%|          | 0/240 [00:00<?, ?it/s]"
     ]
    },
    {
     "name": "stdout",
     "output_type": "stream",
     "text": [
      "Train Loss: 0.2606 ---- Valid Loss: 0.2025 ---- Valid MCRMSE: 0.2039\n",
      "Best valid MCRMSE updated to 0.20385180413722992\n",
      "Epoch 23\n"
     ]
    },
    {
     "name": "stderr",
     "output_type": "stream",
     "text": [
      "100%|██████████| 240/240 [00:50<00:00,  4.77it/s]\n",
      "100%|██████████| 41/41 [00:02<00:00, 14.92it/s]\n",
      "  0%|          | 0/240 [00:00<?, ?it/s]"
     ]
    },
    {
     "name": "stdout",
     "output_type": "stream",
     "text": [
      "Train Loss: 0.2580 ---- Valid Loss: 0.1990 ---- Valid MCRMSE: 0.2003\n",
      "Best valid MCRMSE updated to 0.20034490525722504\n",
      "Epoch 24\n"
     ]
    },
    {
     "name": "stderr",
     "output_type": "stream",
     "text": [
      "100%|██████████| 240/240 [00:49<00:00,  4.80it/s]\n",
      "100%|██████████| 41/41 [00:02<00:00, 14.69it/s]\n",
      "  0%|          | 0/240 [00:00<?, ?it/s]"
     ]
    },
    {
     "name": "stdout",
     "output_type": "stream",
     "text": [
      "Train Loss: 0.2565 ---- Valid Loss: 0.1992 ---- Valid MCRMSE: 0.2005\n",
      "Epoch 25\n"
     ]
    },
    {
     "name": "stderr",
     "output_type": "stream",
     "text": [
      "100%|██████████| 240/240 [00:49<00:00,  4.80it/s]\n",
      "100%|██████████| 41/41 [00:02<00:00, 15.00it/s]\n",
      "  0%|          | 0/240 [00:00<?, ?it/s]"
     ]
    },
    {
     "name": "stdout",
     "output_type": "stream",
     "text": [
      "Train Loss: 0.2547 ---- Valid Loss: 0.1987 ---- Valid MCRMSE: 0.2001\n",
      "Best valid MCRMSE updated to 0.20008282363414764\n",
      "Epoch 26\n"
     ]
    },
    {
     "name": "stderr",
     "output_type": "stream",
     "text": [
      "100%|██████████| 240/240 [00:50<00:00,  4.79it/s]\n",
      "100%|██████████| 41/41 [00:02<00:00, 15.11it/s]\n",
      "  0%|          | 0/240 [00:00<?, ?it/s]"
     ]
    },
    {
     "name": "stdout",
     "output_type": "stream",
     "text": [
      "Train Loss: 0.2537 ---- Valid Loss: 0.1964 ---- Valid MCRMSE: 0.1978\n",
      "Best valid MCRMSE updated to 0.19781720638275146\n",
      "Epoch 27\n"
     ]
    },
    {
     "name": "stderr",
     "output_type": "stream",
     "text": [
      "100%|██████████| 240/240 [00:49<00:00,  4.82it/s]\n",
      "100%|██████████| 41/41 [00:02<00:00, 14.67it/s]\n",
      "  0%|          | 0/240 [00:00<?, ?it/s]"
     ]
    },
    {
     "name": "stdout",
     "output_type": "stream",
     "text": [
      "Train Loss: 0.2544 ---- Valid Loss: 0.1948 ---- Valid MCRMSE: 0.1961\n",
      "Best valid MCRMSE updated to 0.19614024460315704\n",
      "Epoch 28\n"
     ]
    },
    {
     "name": "stderr",
     "output_type": "stream",
     "text": [
      "100%|██████████| 240/240 [00:49<00:00,  4.80it/s]\n",
      "100%|██████████| 41/41 [00:02<00:00, 15.04it/s]\n",
      "  0%|          | 0/240 [00:00<?, ?it/s]"
     ]
    },
    {
     "name": "stdout",
     "output_type": "stream",
     "text": [
      "Train Loss: 0.2517 ---- Valid Loss: 0.1978 ---- Valid MCRMSE: 0.1991\n",
      "Epoch 29\n"
     ]
    },
    {
     "name": "stderr",
     "output_type": "stream",
     "text": [
      "100%|██████████| 240/240 [00:50<00:00,  4.79it/s]\n",
      "100%|██████████| 41/41 [00:02<00:00, 15.05it/s]\n",
      "  0%|          | 0/240 [00:00<?, ?it/s]"
     ]
    },
    {
     "name": "stdout",
     "output_type": "stream",
     "text": [
      "Train Loss: 0.2517 ---- Valid Loss: 0.1977 ---- Valid MCRMSE: 0.1989\n",
      "Epoch 30\n"
     ]
    },
    {
     "name": "stderr",
     "output_type": "stream",
     "text": [
      "100%|██████████| 240/240 [00:49<00:00,  4.81it/s]\n",
      "100%|██████████| 41/41 [00:02<00:00, 14.91it/s]\n",
      "  0%|          | 0/240 [00:00<?, ?it/s]"
     ]
    },
    {
     "name": "stdout",
     "output_type": "stream",
     "text": [
      "Train Loss: 0.2501 ---- Valid Loss: 0.1944 ---- Valid MCRMSE: 0.1957\n",
      "Best valid MCRMSE updated to 0.19573219120502472\n",
      "Epoch 31\n"
     ]
    },
    {
     "name": "stderr",
     "output_type": "stream",
     "text": [
      "100%|██████████| 240/240 [00:50<00:00,  4.76it/s]\n",
      "100%|██████████| 41/41 [00:02<00:00, 15.04it/s]\n",
      "  0%|          | 0/240 [00:00<?, ?it/s]"
     ]
    },
    {
     "name": "stdout",
     "output_type": "stream",
     "text": [
      "Train Loss: 0.2489 ---- Valid Loss: 0.1941 ---- Valid MCRMSE: 0.1954\n",
      "Best valid MCRMSE updated to 0.1953691840171814\n",
      "Epoch 32\n"
     ]
    },
    {
     "name": "stderr",
     "output_type": "stream",
     "text": [
      "100%|██████████| 240/240 [00:49<00:00,  4.81it/s]\n",
      "100%|██████████| 41/41 [00:02<00:00, 14.67it/s]\n",
      "  0%|          | 0/240 [00:00<?, ?it/s]"
     ]
    },
    {
     "name": "stdout",
     "output_type": "stream",
     "text": [
      "Train Loss: 0.2484 ---- Valid Loss: 0.1927 ---- Valid MCRMSE: 0.1940\n",
      "Best valid MCRMSE updated to 0.1939515322446823\n",
      "Epoch 33\n"
     ]
    },
    {
     "name": "stderr",
     "output_type": "stream",
     "text": [
      "100%|██████████| 240/240 [00:49<00:00,  4.83it/s]\n",
      "100%|██████████| 41/41 [00:02<00:00, 14.70it/s]\n",
      "  0%|          | 0/240 [00:00<?, ?it/s]"
     ]
    },
    {
     "name": "stdout",
     "output_type": "stream",
     "text": [
      "Train Loss: 0.2473 ---- Valid Loss: 0.1908 ---- Valid MCRMSE: 0.1921\n",
      "Best valid MCRMSE updated to 0.19206355512142181\n",
      "Epoch 34\n"
     ]
    },
    {
     "name": "stderr",
     "output_type": "stream",
     "text": [
      "100%|██████████| 240/240 [00:49<00:00,  4.84it/s]\n",
      "100%|██████████| 41/41 [00:02<00:00, 15.04it/s]\n",
      "  0%|          | 0/240 [00:00<?, ?it/s]"
     ]
    },
    {
     "name": "stdout",
     "output_type": "stream",
     "text": [
      "Train Loss: 0.2480 ---- Valid Loss: 0.1903 ---- Valid MCRMSE: 0.1915\n",
      "Best valid MCRMSE updated to 0.19153957068920135\n",
      "Epoch 35\n"
     ]
    },
    {
     "name": "stderr",
     "output_type": "stream",
     "text": [
      "100%|██████████| 240/240 [00:49<00:00,  4.81it/s]\n",
      "100%|██████████| 41/41 [00:02<00:00, 14.99it/s]\n",
      "  0%|          | 0/240 [00:00<?, ?it/s]"
     ]
    },
    {
     "name": "stdout",
     "output_type": "stream",
     "text": [
      "Train Loss: 0.2446 ---- Valid Loss: 0.1901 ---- Valid MCRMSE: 0.1914\n",
      "Best valid MCRMSE updated to 0.19137893617153168\n",
      "Epoch 36\n"
     ]
    },
    {
     "name": "stderr",
     "output_type": "stream",
     "text": [
      "100%|██████████| 240/240 [00:50<00:00,  4.79it/s]\n",
      "100%|██████████| 41/41 [00:02<00:00, 14.87it/s]\n",
      "  0%|          | 0/240 [00:00<?, ?it/s]"
     ]
    },
    {
     "name": "stdout",
     "output_type": "stream",
     "text": [
      "Train Loss: 0.2463 ---- Valid Loss: 0.1896 ---- Valid MCRMSE: 0.1907\n",
      "Best valid MCRMSE updated to 0.19074778258800507\n",
      "Epoch 37\n"
     ]
    },
    {
     "name": "stderr",
     "output_type": "stream",
     "text": [
      "100%|██████████| 240/240 [00:50<00:00,  4.77it/s]\n",
      "100%|██████████| 41/41 [00:02<00:00, 14.92it/s]\n",
      "  0%|          | 0/240 [00:00<?, ?it/s]"
     ]
    },
    {
     "name": "stdout",
     "output_type": "stream",
     "text": [
      "Train Loss: 0.2442 ---- Valid Loss: 0.1898 ---- Valid MCRMSE: 0.1909\n",
      "Epoch 38\n"
     ]
    },
    {
     "name": "stderr",
     "output_type": "stream",
     "text": [
      "100%|██████████| 240/240 [00:50<00:00,  4.79it/s]\n",
      "100%|██████████| 41/41 [00:02<00:00, 14.96it/s]\n",
      "  0%|          | 0/240 [00:00<?, ?it/s]"
     ]
    },
    {
     "name": "stdout",
     "output_type": "stream",
     "text": [
      "Train Loss: 0.2435 ---- Valid Loss: 0.1890 ---- Valid MCRMSE: 0.1903\n",
      "Best valid MCRMSE updated to 0.1902632713317871\n",
      "Epoch 39\n"
     ]
    },
    {
     "name": "stderr",
     "output_type": "stream",
     "text": [
      "100%|██████████| 240/240 [00:49<00:00,  4.87it/s]\n",
      "100%|██████████| 41/41 [00:02<00:00, 15.02it/s]\n",
      "  0%|          | 0/240 [00:00<?, ?it/s]"
     ]
    },
    {
     "name": "stdout",
     "output_type": "stream",
     "text": [
      "Train Loss: 0.2429 ---- Valid Loss: 0.1876 ---- Valid MCRMSE: 0.1889\n",
      "Best valid MCRMSE updated to 0.1889006644487381\n",
      "Epoch 40\n"
     ]
    },
    {
     "name": "stderr",
     "output_type": "stream",
     "text": [
      "100%|██████████| 240/240 [00:50<00:00,  4.79it/s]\n",
      "100%|██████████| 41/41 [00:02<00:00, 14.71it/s]\n",
      "  0%|          | 0/240 [00:00<?, ?it/s]"
     ]
    },
    {
     "name": "stdout",
     "output_type": "stream",
     "text": [
      "Train Loss: 0.2422 ---- Valid Loss: 0.1876 ---- Valid MCRMSE: 0.1888\n",
      "Best valid MCRMSE updated to 0.18879355490207672\n",
      "Epoch 41\n"
     ]
    },
    {
     "name": "stderr",
     "output_type": "stream",
     "text": [
      "100%|██████████| 240/240 [00:49<00:00,  4.82it/s]\n",
      "100%|██████████| 41/41 [00:02<00:00, 15.04it/s]\n",
      "  0%|          | 0/240 [00:00<?, ?it/s]"
     ]
    },
    {
     "name": "stdout",
     "output_type": "stream",
     "text": [
      "Train Loss: 0.2394 ---- Valid Loss: 0.1884 ---- Valid MCRMSE: 0.1895\n",
      "Epoch 42\n"
     ]
    },
    {
     "name": "stderr",
     "output_type": "stream",
     "text": [
      "100%|██████████| 240/240 [00:49<00:00,  4.81it/s]\n",
      "100%|██████████| 41/41 [00:02<00:00, 15.12it/s]\n",
      "  0%|          | 0/240 [00:00<?, ?it/s]"
     ]
    },
    {
     "name": "stdout",
     "output_type": "stream",
     "text": [
      "Train Loss: 0.2388 ---- Valid Loss: 0.1849 ---- Valid MCRMSE: 0.1860\n",
      "Best valid MCRMSE updated to 0.1860043853521347\n",
      "Epoch 43\n"
     ]
    },
    {
     "name": "stderr",
     "output_type": "stream",
     "text": [
      "100%|██████████| 240/240 [00:49<00:00,  4.81it/s]\n",
      "100%|██████████| 41/41 [00:02<00:00, 15.12it/s]\n",
      "  0%|          | 0/240 [00:00<?, ?it/s]"
     ]
    },
    {
     "name": "stdout",
     "output_type": "stream",
     "text": [
      "Train Loss: 0.2390 ---- Valid Loss: 0.1838 ---- Valid MCRMSE: 0.1850\n",
      "Best valid MCRMSE updated to 0.18497030436992645\n",
      "Epoch 44\n"
     ]
    },
    {
     "name": "stderr",
     "output_type": "stream",
     "text": [
      "100%|██████████| 240/240 [00:49<00:00,  4.81it/s]\n",
      "100%|██████████| 41/41 [00:02<00:00, 14.98it/s]\n",
      "  0%|          | 0/240 [00:00<?, ?it/s]"
     ]
    },
    {
     "name": "stdout",
     "output_type": "stream",
     "text": [
      "Train Loss: 0.2392 ---- Valid Loss: 0.1838 ---- Valid MCRMSE: 0.1850\n",
      "Epoch 45\n"
     ]
    },
    {
     "name": "stderr",
     "output_type": "stream",
     "text": [
      "100%|██████████| 240/240 [00:50<00:00,  4.79it/s]\n",
      "100%|██████████| 41/41 [00:02<00:00, 15.07it/s]\n",
      "  0%|          | 0/240 [00:00<?, ?it/s]"
     ]
    },
    {
     "name": "stdout",
     "output_type": "stream",
     "text": [
      "Train Loss: 0.2370 ---- Valid Loss: 0.1835 ---- Valid MCRMSE: 0.1848\n",
      "Best valid MCRMSE updated to 0.1847556084394455\n",
      "Epoch 46\n"
     ]
    },
    {
     "name": "stderr",
     "output_type": "stream",
     "text": [
      "100%|██████████| 240/240 [00:50<00:00,  4.79it/s]\n",
      "100%|██████████| 41/41 [00:02<00:00, 15.04it/s]\n",
      "  0%|          | 0/240 [00:00<?, ?it/s]"
     ]
    },
    {
     "name": "stdout",
     "output_type": "stream",
     "text": [
      "Train Loss: 0.2370 ---- Valid Loss: 0.1843 ---- Valid MCRMSE: 0.1856\n",
      "Epoch 47\n"
     ]
    },
    {
     "name": "stderr",
     "output_type": "stream",
     "text": [
      "100%|██████████| 240/240 [00:50<00:00,  4.77it/s]\n",
      "100%|██████████| 41/41 [00:02<00:00, 15.02it/s]\n",
      "  0%|          | 0/240 [00:00<?, ?it/s]"
     ]
    },
    {
     "name": "stdout",
     "output_type": "stream",
     "text": [
      "Train Loss: 0.2362 ---- Valid Loss: 0.1816 ---- Valid MCRMSE: 0.1828\n",
      "Best valid MCRMSE updated to 0.18281438946723938\n",
      "Epoch 48\n"
     ]
    },
    {
     "name": "stderr",
     "output_type": "stream",
     "text": [
      "100%|██████████| 240/240 [00:49<00:00,  4.80it/s]\n",
      "100%|██████████| 41/41 [00:02<00:00, 14.69it/s]\n",
      "  0%|          | 0/240 [00:00<?, ?it/s]"
     ]
    },
    {
     "name": "stdout",
     "output_type": "stream",
     "text": [
      "Train Loss: 0.2365 ---- Valid Loss: 0.1862 ---- Valid MCRMSE: 0.1875\n",
      "Epoch 49\n"
     ]
    },
    {
     "name": "stderr",
     "output_type": "stream",
     "text": [
      "100%|██████████| 240/240 [00:49<00:00,  4.82it/s]\n",
      "100%|██████████| 41/41 [00:02<00:00, 15.14it/s]\n",
      "  0%|          | 0/240 [00:00<?, ?it/s]"
     ]
    },
    {
     "name": "stdout",
     "output_type": "stream",
     "text": [
      "Train Loss: 0.2375 ---- Valid Loss: 0.1828 ---- Valid MCRMSE: 0.1840\n",
      "Epoch 50\n"
     ]
    },
    {
     "name": "stderr",
     "output_type": "stream",
     "text": [
      "100%|██████████| 240/240 [00:50<00:00,  4.79it/s]\n",
      "100%|██████████| 41/41 [00:02<00:00, 15.05it/s]\n",
      "  0%|          | 0/240 [00:00<?, ?it/s]"
     ]
    },
    {
     "name": "stdout",
     "output_type": "stream",
     "text": [
      "Train Loss: 0.2344 ---- Valid Loss: 0.1813 ---- Valid MCRMSE: 0.1824\n",
      "Best valid MCRMSE updated to 0.18240401148796082\n",
      "Epoch 51\n"
     ]
    },
    {
     "name": "stderr",
     "output_type": "stream",
     "text": [
      "100%|██████████| 240/240 [00:49<00:00,  4.84it/s]\n",
      "100%|██████████| 41/41 [00:02<00:00, 14.72it/s]\n",
      "  0%|          | 0/240 [00:00<?, ?it/s]"
     ]
    },
    {
     "name": "stdout",
     "output_type": "stream",
     "text": [
      "Train Loss: 0.2339 ---- Valid Loss: 0.1828 ---- Valid MCRMSE: 0.1840\n",
      "Epoch 52\n"
     ]
    },
    {
     "name": "stderr",
     "output_type": "stream",
     "text": [
      "100%|██████████| 240/240 [00:50<00:00,  4.77it/s]\n",
      "100%|██████████| 41/41 [00:02<00:00, 15.10it/s]\n",
      "  0%|          | 0/240 [00:00<?, ?it/s]"
     ]
    },
    {
     "name": "stdout",
     "output_type": "stream",
     "text": [
      "Train Loss: 0.2332 ---- Valid Loss: 0.1801 ---- Valid MCRMSE: 0.1813\n",
      "Best valid MCRMSE updated to 0.18128755688667297\n",
      "Epoch 53\n"
     ]
    },
    {
     "name": "stderr",
     "output_type": "stream",
     "text": [
      "100%|██████████| 240/240 [00:49<00:00,  4.80it/s]\n",
      "100%|██████████| 41/41 [00:02<00:00, 14.55it/s]\n",
      "  0%|          | 0/240 [00:00<?, ?it/s]"
     ]
    },
    {
     "name": "stdout",
     "output_type": "stream",
     "text": [
      "Train Loss: 0.2324 ---- Valid Loss: 0.1820 ---- Valid MCRMSE: 0.1833\n",
      "Epoch 54\n"
     ]
    },
    {
     "name": "stderr",
     "output_type": "stream",
     "text": [
      "100%|██████████| 240/240 [00:49<00:00,  4.80it/s]\n",
      "100%|██████████| 41/41 [00:02<00:00, 14.75it/s]\n",
      "  0%|          | 0/240 [00:00<?, ?it/s]"
     ]
    },
    {
     "name": "stdout",
     "output_type": "stream",
     "text": [
      "Train Loss: 0.2321 ---- Valid Loss: 0.1797 ---- Valid MCRMSE: 0.1810\n",
      "Best valid MCRMSE updated to 0.18097524344921112\n",
      "Epoch 55\n"
     ]
    },
    {
     "name": "stderr",
     "output_type": "stream",
     "text": [
      "100%|██████████| 240/240 [00:49<00:00,  4.81it/s]\n",
      "100%|██████████| 41/41 [00:02<00:00, 14.68it/s]\n",
      "  0%|          | 0/240 [00:00<?, ?it/s]"
     ]
    },
    {
     "name": "stdout",
     "output_type": "stream",
     "text": [
      "Train Loss: 0.2303 ---- Valid Loss: 0.1801 ---- Valid MCRMSE: 0.1812\n",
      "Epoch 56\n"
     ]
    },
    {
     "name": "stderr",
     "output_type": "stream",
     "text": [
      "100%|██████████| 240/240 [00:49<00:00,  4.83it/s]\n",
      "100%|██████████| 41/41 [00:02<00:00, 14.98it/s]\n",
      "  0%|          | 0/240 [00:00<?, ?it/s]"
     ]
    },
    {
     "name": "stdout",
     "output_type": "stream",
     "text": [
      "Train Loss: 0.2296 ---- Valid Loss: 0.1799 ---- Valid MCRMSE: 0.1811\n",
      "Epoch 57\n"
     ]
    },
    {
     "name": "stderr",
     "output_type": "stream",
     "text": [
      "100%|██████████| 240/240 [00:50<00:00,  4.80it/s]\n",
      "100%|██████████| 41/41 [00:02<00:00, 14.66it/s]\n",
      "  0%|          | 0/240 [00:00<?, ?it/s]"
     ]
    },
    {
     "name": "stdout",
     "output_type": "stream",
     "text": [
      "Train Loss: 0.2298 ---- Valid Loss: 0.1787 ---- Valid MCRMSE: 0.1798\n",
      "Best valid MCRMSE updated to 0.17980611324310303\n",
      "Epoch 58\n"
     ]
    },
    {
     "name": "stderr",
     "output_type": "stream",
     "text": [
      "100%|██████████| 240/240 [00:49<00:00,  4.81it/s]\n",
      "100%|██████████| 41/41 [00:02<00:00, 15.03it/s]\n",
      "  0%|          | 0/240 [00:00<?, ?it/s]"
     ]
    },
    {
     "name": "stdout",
     "output_type": "stream",
     "text": [
      "Train Loss: 0.2285 ---- Valid Loss: 0.1798 ---- Valid MCRMSE: 0.1813\n",
      "Epoch 59\n"
     ]
    },
    {
     "name": "stderr",
     "output_type": "stream",
     "text": [
      "100%|██████████| 240/240 [00:49<00:00,  4.81it/s]\n",
      "100%|██████████| 41/41 [00:02<00:00, 14.88it/s]\n",
      "  0%|          | 0/240 [00:00<?, ?it/s]"
     ]
    },
    {
     "name": "stdout",
     "output_type": "stream",
     "text": [
      "Train Loss: 0.2279 ---- Valid Loss: 0.1799 ---- Valid MCRMSE: 0.1811\n",
      "Epoch 60\n"
     ]
    },
    {
     "name": "stderr",
     "output_type": "stream",
     "text": [
      "100%|██████████| 240/240 [00:50<00:00,  4.79it/s]\n",
      "100%|██████████| 41/41 [00:02<00:00, 15.01it/s]\n",
      "  0%|          | 0/240 [00:00<?, ?it/s]"
     ]
    },
    {
     "name": "stdout",
     "output_type": "stream",
     "text": [
      "Train Loss: 0.2270 ---- Valid Loss: 0.1787 ---- Valid MCRMSE: 0.1799\n",
      "Epoch 61\n"
     ]
    },
    {
     "name": "stderr",
     "output_type": "stream",
     "text": [
      "100%|██████████| 240/240 [00:49<00:00,  4.81it/s]\n",
      "100%|██████████| 41/41 [00:02<00:00, 15.03it/s]\n",
      "  0%|          | 0/240 [00:00<?, ?it/s]"
     ]
    },
    {
     "name": "stdout",
     "output_type": "stream",
     "text": [
      "Train Loss: 0.2280 ---- Valid Loss: 0.1794 ---- Valid MCRMSE: 0.1806\n",
      "Epoch 62\n"
     ]
    },
    {
     "name": "stderr",
     "output_type": "stream",
     "text": [
      "100%|██████████| 240/240 [00:50<00:00,  4.79it/s]\n",
      "100%|██████████| 41/41 [00:02<00:00, 15.03it/s]\n",
      "  0%|          | 0/240 [00:00<?, ?it/s]"
     ]
    },
    {
     "name": "stdout",
     "output_type": "stream",
     "text": [
      "Train Loss: 0.2262 ---- Valid Loss: 0.1774 ---- Valid MCRMSE: 0.1786\n",
      "Best valid MCRMSE updated to 0.17860321700572968\n",
      "Epoch 63\n"
     ]
    },
    {
     "name": "stderr",
     "output_type": "stream",
     "text": [
      "100%|██████████| 240/240 [00:50<00:00,  4.79it/s]\n",
      "100%|██████████| 41/41 [00:02<00:00, 14.80it/s]\n",
      "  0%|          | 0/240 [00:00<?, ?it/s]"
     ]
    },
    {
     "name": "stdout",
     "output_type": "stream",
     "text": [
      "Train Loss: 0.2252 ---- Valid Loss: 0.1795 ---- Valid MCRMSE: 0.1806\n",
      "Epoch 64\n"
     ]
    },
    {
     "name": "stderr",
     "output_type": "stream",
     "text": [
      "100%|██████████| 240/240 [00:49<00:00,  4.81it/s]\n",
      "100%|██████████| 41/41 [00:02<00:00, 14.62it/s]\n",
      "  0%|          | 0/240 [00:00<?, ?it/s]"
     ]
    },
    {
     "name": "stdout",
     "output_type": "stream",
     "text": [
      "Train Loss: 0.2240 ---- Valid Loss: 0.1778 ---- Valid MCRMSE: 0.1789\n",
      "Epoch 65\n"
     ]
    },
    {
     "name": "stderr",
     "output_type": "stream",
     "text": [
      "100%|██████████| 240/240 [00:49<00:00,  4.82it/s]\n",
      "100%|██████████| 41/41 [00:02<00:00, 14.61it/s]\n",
      "  0%|          | 0/240 [00:00<?, ?it/s]"
     ]
    },
    {
     "name": "stdout",
     "output_type": "stream",
     "text": [
      "Train Loss: 0.2253 ---- Valid Loss: 0.1780 ---- Valid MCRMSE: 0.1791\n",
      "Epoch 66\n"
     ]
    },
    {
     "name": "stderr",
     "output_type": "stream",
     "text": [
      "100%|██████████| 240/240 [00:49<00:00,  4.81it/s]\n",
      "100%|██████████| 41/41 [00:02<00:00, 14.61it/s]\n",
      "  0%|          | 0/240 [00:00<?, ?it/s]"
     ]
    },
    {
     "name": "stdout",
     "output_type": "stream",
     "text": [
      "Train Loss: 0.2242 ---- Valid Loss: 0.1794 ---- Valid MCRMSE: 0.1809\n",
      "Epoch 67\n"
     ]
    },
    {
     "name": "stderr",
     "output_type": "stream",
     "text": [
      "100%|██████████| 240/240 [00:49<00:00,  4.81it/s]\n",
      "100%|██████████| 41/41 [00:02<00:00, 14.96it/s]\n",
      "  0%|          | 0/240 [00:00<?, ?it/s]"
     ]
    },
    {
     "name": "stdout",
     "output_type": "stream",
     "text": [
      "Train Loss: 0.2228 ---- Valid Loss: 0.1774 ---- Valid MCRMSE: 0.1786\n",
      "Best valid MCRMSE updated to 0.17856569588184357\n",
      "Epoch 68\n"
     ]
    },
    {
     "name": "stderr",
     "output_type": "stream",
     "text": [
      "100%|██████████| 240/240 [00:49<00:00,  4.81it/s]\n",
      "100%|██████████| 41/41 [00:02<00:00, 15.05it/s]\n",
      "  0%|          | 0/240 [00:00<?, ?it/s]"
     ]
    },
    {
     "name": "stdout",
     "output_type": "stream",
     "text": [
      "Train Loss: 0.2240 ---- Valid Loss: 0.1793 ---- Valid MCRMSE: 0.1812\n",
      "Epoch 69\n"
     ]
    },
    {
     "name": "stderr",
     "output_type": "stream",
     "text": [
      "100%|██████████| 240/240 [00:49<00:00,  4.83it/s]\n",
      "100%|██████████| 41/41 [00:02<00:00, 14.71it/s]\n",
      "  0%|          | 0/240 [00:00<?, ?it/s]"
     ]
    },
    {
     "name": "stdout",
     "output_type": "stream",
     "text": [
      "Train Loss: 0.2230 ---- Valid Loss: 0.1763 ---- Valid MCRMSE: 0.1775\n",
      "Best valid MCRMSE updated to 0.1775028556585312\n",
      "Epoch 70\n"
     ]
    },
    {
     "name": "stderr",
     "output_type": "stream",
     "text": [
      "100%|██████████| 240/240 [00:49<00:00,  4.82it/s]\n",
      "100%|██████████| 41/41 [00:02<00:00, 15.00it/s]\n",
      "  0%|          | 0/240 [00:00<?, ?it/s]"
     ]
    },
    {
     "name": "stdout",
     "output_type": "stream",
     "text": [
      "Train Loss: 0.2226 ---- Valid Loss: 0.1786 ---- Valid MCRMSE: 0.1797\n",
      "Epoch 71\n"
     ]
    },
    {
     "name": "stderr",
     "output_type": "stream",
     "text": [
      "100%|██████████| 240/240 [00:50<00:00,  4.77it/s]\n",
      "100%|██████████| 41/41 [00:02<00:00, 14.84it/s]\n",
      "  0%|          | 0/240 [00:00<?, ?it/s]"
     ]
    },
    {
     "name": "stdout",
     "output_type": "stream",
     "text": [
      "Train Loss: 0.2215 ---- Valid Loss: 0.1767 ---- Valid MCRMSE: 0.1779\n",
      "Epoch 72\n"
     ]
    },
    {
     "name": "stderr",
     "output_type": "stream",
     "text": [
      "100%|██████████| 240/240 [00:49<00:00,  4.81it/s]\n",
      "100%|██████████| 41/41 [00:02<00:00, 14.68it/s]\n",
      "  0%|          | 0/240 [00:00<?, ?it/s]"
     ]
    },
    {
     "name": "stdout",
     "output_type": "stream",
     "text": [
      "Train Loss: 0.2213 ---- Valid Loss: 0.1774 ---- Valid MCRMSE: 0.1786\n",
      "Epoch 73\n"
     ]
    },
    {
     "name": "stderr",
     "output_type": "stream",
     "text": [
      "100%|██████████| 240/240 [00:49<00:00,  4.81it/s]\n",
      "100%|██████████| 41/41 [00:02<00:00, 14.98it/s]\n",
      "  0%|          | 0/240 [00:00<?, ?it/s]"
     ]
    },
    {
     "name": "stdout",
     "output_type": "stream",
     "text": [
      "Train Loss: 0.2204 ---- Valid Loss: 0.1768 ---- Valid MCRMSE: 0.1781\n",
      "Epoch 74\n"
     ]
    },
    {
     "name": "stderr",
     "output_type": "stream",
     "text": [
      "100%|██████████| 240/240 [00:49<00:00,  4.80it/s]\n",
      "100%|██████████| 41/41 [00:02<00:00, 14.65it/s]\n",
      "  0%|          | 0/240 [00:00<?, ?it/s]"
     ]
    },
    {
     "name": "stdout",
     "output_type": "stream",
     "text": [
      "Train Loss: 0.2205 ---- Valid Loss: 0.1756 ---- Valid MCRMSE: 0.1767\n",
      "Best valid MCRMSE updated to 0.17673872411251068\n",
      "Epoch 75\n"
     ]
    },
    {
     "name": "stderr",
     "output_type": "stream",
     "text": [
      "100%|██████████| 240/240 [00:49<00:00,  4.80it/s]\n",
      "100%|██████████| 41/41 [00:02<00:00, 14.69it/s]\n",
      "  0%|          | 0/240 [00:00<?, ?it/s]"
     ]
    },
    {
     "name": "stdout",
     "output_type": "stream",
     "text": [
      "Train Loss: 0.2183 ---- Valid Loss: 0.1753 ---- Valid MCRMSE: 0.1765\n",
      "Best valid MCRMSE updated to 0.17648838460445404\n",
      "Epoch 76\n"
     ]
    },
    {
     "name": "stderr",
     "output_type": "stream",
     "text": [
      "100%|██████████| 240/240 [00:49<00:00,  4.86it/s]\n",
      "100%|██████████| 41/41 [00:02<00:00, 15.07it/s]\n",
      "  0%|          | 0/240 [00:00<?, ?it/s]"
     ]
    },
    {
     "name": "stdout",
     "output_type": "stream",
     "text": [
      "Train Loss: 0.2194 ---- Valid Loss: 0.1754 ---- Valid MCRMSE: 0.1765\n",
      "Epoch 77\n"
     ]
    },
    {
     "name": "stderr",
     "output_type": "stream",
     "text": [
      "100%|██████████| 240/240 [00:50<00:00,  4.77it/s]\n",
      "100%|██████████| 41/41 [00:02<00:00, 15.05it/s]\n",
      "  0%|          | 0/240 [00:00<?, ?it/s]"
     ]
    },
    {
     "name": "stdout",
     "output_type": "stream",
     "text": [
      "Train Loss: 0.2191 ---- Valid Loss: 0.1804 ---- Valid MCRMSE: 0.1824\n",
      "Epoch 78\n"
     ]
    },
    {
     "name": "stderr",
     "output_type": "stream",
     "text": [
      "100%|██████████| 240/240 [00:50<00:00,  4.79it/s]\n",
      "100%|██████████| 41/41 [00:02<00:00, 14.74it/s]\n",
      "  0%|          | 0/240 [00:00<?, ?it/s]"
     ]
    },
    {
     "name": "stdout",
     "output_type": "stream",
     "text": [
      "Train Loss: 0.2177 ---- Valid Loss: 0.1761 ---- Valid MCRMSE: 0.1774\n",
      "Epoch 79\n"
     ]
    },
    {
     "name": "stderr",
     "output_type": "stream",
     "text": [
      "100%|██████████| 240/240 [00:49<00:00,  4.83it/s]\n",
      "100%|██████████| 41/41 [00:02<00:00, 15.04it/s]\n",
      "  0%|          | 0/240 [00:00<?, ?it/s]"
     ]
    },
    {
     "name": "stdout",
     "output_type": "stream",
     "text": [
      "Train Loss: 0.2158 ---- Valid Loss: 0.1782 ---- Valid MCRMSE: 0.1800\n",
      "Epoch 80\n"
     ]
    },
    {
     "name": "stderr",
     "output_type": "stream",
     "text": [
      "100%|██████████| 240/240 [00:49<00:00,  4.80it/s]\n",
      "100%|██████████| 41/41 [00:02<00:00, 14.68it/s]\n",
      "  0%|          | 0/240 [00:00<?, ?it/s]"
     ]
    },
    {
     "name": "stdout",
     "output_type": "stream",
     "text": [
      "Train Loss: 0.2167 ---- Valid Loss: 0.1747 ---- Valid MCRMSE: 0.1759\n",
      "Best valid MCRMSE updated to 0.17590396106243134\n",
      "Epoch 81\n"
     ]
    },
    {
     "name": "stderr",
     "output_type": "stream",
     "text": [
      "100%|██████████| 240/240 [00:49<00:00,  4.85it/s]\n",
      "100%|██████████| 41/41 [00:02<00:00, 15.10it/s]\n",
      "  0%|          | 0/240 [00:00<?, ?it/s]"
     ]
    },
    {
     "name": "stdout",
     "output_type": "stream",
     "text": [
      "Train Loss: 0.2149 ---- Valid Loss: 0.1751 ---- Valid MCRMSE: 0.1764\n",
      "Epoch 82\n"
     ]
    },
    {
     "name": "stderr",
     "output_type": "stream",
     "text": [
      "100%|██████████| 240/240 [00:50<00:00,  4.79it/s]\n",
      "100%|██████████| 41/41 [00:02<00:00, 14.97it/s]\n",
      "  0%|          | 0/240 [00:00<?, ?it/s]"
     ]
    },
    {
     "name": "stdout",
     "output_type": "stream",
     "text": [
      "Train Loss: 0.2138 ---- Valid Loss: 0.1792 ---- Valid MCRMSE: 0.1812\n",
      "Epoch 83\n"
     ]
    },
    {
     "name": "stderr",
     "output_type": "stream",
     "text": [
      "100%|██████████| 240/240 [00:49<00:00,  4.81it/s]\n",
      "100%|██████████| 41/41 [00:02<00:00, 14.67it/s]\n",
      "  0%|          | 0/240 [00:00<?, ?it/s]"
     ]
    },
    {
     "name": "stdout",
     "output_type": "stream",
     "text": [
      "Train Loss: 0.2146 ---- Valid Loss: 0.1759 ---- Valid MCRMSE: 0.1770\n",
      "Epoch 84\n"
     ]
    },
    {
     "name": "stderr",
     "output_type": "stream",
     "text": [
      "100%|██████████| 240/240 [00:50<00:00,  4.78it/s]\n",
      "100%|██████████| 41/41 [00:02<00:00, 14.73it/s]\n",
      "  0%|          | 0/240 [00:00<?, ?it/s]"
     ]
    },
    {
     "name": "stdout",
     "output_type": "stream",
     "text": [
      "Train Loss: 0.2137 ---- Valid Loss: 0.1744 ---- Valid MCRMSE: 0.1755\n",
      "Best valid MCRMSE updated to 0.17553135752677917\n",
      "Epoch 85\n"
     ]
    },
    {
     "name": "stderr",
     "output_type": "stream",
     "text": [
      "100%|██████████| 240/240 [00:50<00:00,  4.79it/s]\n",
      "100%|██████████| 41/41 [00:02<00:00, 14.73it/s]\n",
      "  0%|          | 0/240 [00:00<?, ?it/s]"
     ]
    },
    {
     "name": "stdout",
     "output_type": "stream",
     "text": [
      "Train Loss: 0.2153 ---- Valid Loss: 0.1751 ---- Valid MCRMSE: 0.1763\n",
      "Epoch 86\n"
     ]
    },
    {
     "name": "stderr",
     "output_type": "stream",
     "text": [
      "100%|██████████| 240/240 [00:49<00:00,  4.81it/s]\n",
      "100%|██████████| 41/41 [00:02<00:00, 15.12it/s]\n",
      "  0%|          | 0/240 [00:00<?, ?it/s]"
     ]
    },
    {
     "name": "stdout",
     "output_type": "stream",
     "text": [
      "Train Loss: 0.2132 ---- Valid Loss: 0.1761 ---- Valid MCRMSE: 0.1773\n",
      "Epoch 87\n"
     ]
    },
    {
     "name": "stderr",
     "output_type": "stream",
     "text": [
      "100%|██████████| 240/240 [00:49<00:00,  4.82it/s]\n",
      "100%|██████████| 41/41 [00:02<00:00, 14.64it/s]\n",
      "  0%|          | 0/240 [00:00<?, ?it/s]"
     ]
    },
    {
     "name": "stdout",
     "output_type": "stream",
     "text": [
      "Train Loss: 0.2134 ---- Valid Loss: 0.1754 ---- Valid MCRMSE: 0.1771\n",
      "Epoch 88\n"
     ]
    },
    {
     "name": "stderr",
     "output_type": "stream",
     "text": [
      "100%|██████████| 240/240 [00:49<00:00,  4.80it/s]\n",
      "100%|██████████| 41/41 [00:02<00:00, 14.54it/s]\n",
      "  0%|          | 0/240 [00:00<?, ?it/s]"
     ]
    },
    {
     "name": "stdout",
     "output_type": "stream",
     "text": [
      "Train Loss: 0.2129 ---- Valid Loss: 0.1758 ---- Valid MCRMSE: 0.1769\n",
      "Epoch 89\n"
     ]
    },
    {
     "name": "stderr",
     "output_type": "stream",
     "text": [
      "100%|██████████| 240/240 [00:49<00:00,  4.83it/s]\n",
      "100%|██████████| 41/41 [00:02<00:00, 15.06it/s]\n",
      "  0%|          | 0/240 [00:00<?, ?it/s]"
     ]
    },
    {
     "name": "stdout",
     "output_type": "stream",
     "text": [
      "Train Loss: 0.2149 ---- Valid Loss: 0.1743 ---- Valid MCRMSE: 0.1756\n",
      "Epoch 90\n"
     ]
    },
    {
     "name": "stderr",
     "output_type": "stream",
     "text": [
      "100%|██████████| 240/240 [00:50<00:00,  4.76it/s]\n",
      "100%|██████████| 41/41 [00:02<00:00, 14.74it/s]\n",
      "  0%|          | 0/240 [00:00<?, ?it/s]"
     ]
    },
    {
     "name": "stdout",
     "output_type": "stream",
     "text": [
      "Train Loss: 0.2126 ---- Valid Loss: 0.1752 ---- Valid MCRMSE: 0.1769\n",
      "Epoch 91\n"
     ]
    },
    {
     "name": "stderr",
     "output_type": "stream",
     "text": [
      "100%|██████████| 240/240 [00:49<00:00,  4.83it/s]\n",
      "100%|██████████| 41/41 [00:02<00:00, 14.79it/s]\n",
      "  0%|          | 0/240 [00:00<?, ?it/s]"
     ]
    },
    {
     "name": "stdout",
     "output_type": "stream",
     "text": [
      "Train Loss: 0.2095 ---- Valid Loss: 0.1726 ---- Valid MCRMSE: 0.1738\n",
      "Best valid MCRMSE updated to 0.17383281886577606\n",
      "Epoch 92\n"
     ]
    },
    {
     "name": "stderr",
     "output_type": "stream",
     "text": [
      "100%|██████████| 240/240 [00:49<00:00,  4.81it/s]\n",
      "100%|██████████| 41/41 [00:02<00:00, 15.05it/s]\n",
      "  0%|          | 0/240 [00:00<?, ?it/s]"
     ]
    },
    {
     "name": "stdout",
     "output_type": "stream",
     "text": [
      "Train Loss: 0.2108 ---- Valid Loss: 0.1749 ---- Valid MCRMSE: 0.1761\n",
      "Epoch 93\n"
     ]
    },
    {
     "name": "stderr",
     "output_type": "stream",
     "text": [
      "100%|██████████| 240/240 [00:50<00:00,  4.80it/s]\n",
      "100%|██████████| 41/41 [00:02<00:00, 14.59it/s]\n",
      "  0%|          | 0/240 [00:00<?, ?it/s]"
     ]
    },
    {
     "name": "stdout",
     "output_type": "stream",
     "text": [
      "Train Loss: 0.2089 ---- Valid Loss: 0.1725 ---- Valid MCRMSE: 0.1737\n",
      "Best valid MCRMSE updated to 0.17374786734580994\n",
      "Epoch 94\n"
     ]
    },
    {
     "name": "stderr",
     "output_type": "stream",
     "text": [
      "100%|██████████| 240/240 [00:50<00:00,  4.79it/s]\n",
      "100%|██████████| 41/41 [00:02<00:00, 14.78it/s]\n",
      "  0%|          | 0/240 [00:00<?, ?it/s]"
     ]
    },
    {
     "name": "stdout",
     "output_type": "stream",
     "text": [
      "Train Loss: 0.2076 ---- Valid Loss: 0.1736 ---- Valid MCRMSE: 0.1750\n",
      "Epoch 95\n"
     ]
    },
    {
     "name": "stderr",
     "output_type": "stream",
     "text": [
      "100%|██████████| 240/240 [00:49<00:00,  4.87it/s]\n",
      "100%|██████████| 41/41 [00:02<00:00, 14.66it/s]\n",
      "  0%|          | 0/240 [00:00<?, ?it/s]"
     ]
    },
    {
     "name": "stdout",
     "output_type": "stream",
     "text": [
      "Train Loss: 0.2083 ---- Valid Loss: 0.1730 ---- Valid MCRMSE: 0.1743\n",
      "Epoch 96\n"
     ]
    },
    {
     "name": "stderr",
     "output_type": "stream",
     "text": [
      "100%|██████████| 240/240 [00:50<00:00,  4.78it/s]\n",
      "100%|██████████| 41/41 [00:02<00:00, 14.69it/s]\n",
      "  0%|          | 0/240 [00:00<?, ?it/s]"
     ]
    },
    {
     "name": "stdout",
     "output_type": "stream",
     "text": [
      "Train Loss: 0.2069 ---- Valid Loss: 0.1754 ---- Valid MCRMSE: 0.1767\n",
      "Epoch 97\n"
     ]
    },
    {
     "name": "stderr",
     "output_type": "stream",
     "text": [
      "100%|██████████| 240/240 [00:49<00:00,  4.80it/s]\n",
      "100%|██████████| 41/41 [00:02<00:00, 15.01it/s]\n",
      "  0%|          | 0/240 [00:00<?, ?it/s]"
     ]
    },
    {
     "name": "stdout",
     "output_type": "stream",
     "text": [
      "Train Loss: 0.2086 ---- Valid Loss: 0.1719 ---- Valid MCRMSE: 0.1731\n",
      "Best valid MCRMSE updated to 0.17314808070659637\n",
      "Epoch 98\n"
     ]
    },
    {
     "name": "stderr",
     "output_type": "stream",
     "text": [
      "100%|██████████| 240/240 [00:49<00:00,  4.83it/s]\n",
      "100%|██████████| 41/41 [00:02<00:00, 14.68it/s]\n",
      "  0%|          | 0/240 [00:00<?, ?it/s]"
     ]
    },
    {
     "name": "stdout",
     "output_type": "stream",
     "text": [
      "Train Loss: 0.2065 ---- Valid Loss: 0.1745 ---- Valid MCRMSE: 0.1760\n",
      "Epoch 99\n"
     ]
    },
    {
     "name": "stderr",
     "output_type": "stream",
     "text": [
      "100%|██████████| 240/240 [00:50<00:00,  4.78it/s]\n",
      "100%|██████████| 41/41 [00:02<00:00, 14.91it/s]\n",
      "  0%|          | 0/240 [00:00<?, ?it/s]"
     ]
    },
    {
     "name": "stdout",
     "output_type": "stream",
     "text": [
      "Train Loss: 0.2063 ---- Valid Loss: 0.1733 ---- Valid MCRMSE: 0.1746\n",
      "Epoch 100\n"
     ]
    },
    {
     "name": "stderr",
     "output_type": "stream",
     "text": [
      "100%|██████████| 240/240 [00:49<00:00,  4.85it/s]\n",
      "100%|██████████| 41/41 [00:02<00:00, 14.90it/s]\n",
      "  0%|          | 0/240 [00:00<?, ?it/s]"
     ]
    },
    {
     "name": "stdout",
     "output_type": "stream",
     "text": [
      "Train Loss: 0.2075 ---- Valid Loss: 0.1728 ---- Valid MCRMSE: 0.1740\n",
      "Epoch 101\n"
     ]
    },
    {
     "name": "stderr",
     "output_type": "stream",
     "text": [
      "100%|██████████| 240/240 [00:50<00:00,  4.79it/s]\n",
      "100%|██████████| 41/41 [00:02<00:00, 14.74it/s]\n",
      "  0%|          | 0/240 [00:00<?, ?it/s]"
     ]
    },
    {
     "name": "stdout",
     "output_type": "stream",
     "text": [
      "Train Loss: 0.2054 ---- Valid Loss: 0.1751 ---- Valid MCRMSE: 0.1764\n",
      "Epoch 102\n"
     ]
    },
    {
     "name": "stderr",
     "output_type": "stream",
     "text": [
      "100%|██████████| 240/240 [00:50<00:00,  4.78it/s]\n",
      "100%|██████████| 41/41 [00:02<00:00, 14.95it/s]\n",
      "  0%|          | 0/240 [00:00<?, ?it/s]"
     ]
    },
    {
     "name": "stdout",
     "output_type": "stream",
     "text": [
      "Train Loss: 0.2086 ---- Valid Loss: 0.1768 ---- Valid MCRMSE: 0.1783\n",
      "Epoch 103\n"
     ]
    },
    {
     "name": "stderr",
     "output_type": "stream",
     "text": [
      "100%|██████████| 240/240 [00:49<00:00,  4.81it/s]\n",
      "100%|██████████| 41/41 [00:02<00:00, 14.70it/s]\n",
      "  0%|          | 0/240 [00:00<?, ?it/s]"
     ]
    },
    {
     "name": "stdout",
     "output_type": "stream",
     "text": [
      "Train Loss: 0.2068 ---- Valid Loss: 0.1731 ---- Valid MCRMSE: 0.1749\n",
      "Epoch 104\n"
     ]
    },
    {
     "name": "stderr",
     "output_type": "stream",
     "text": [
      "100%|██████████| 240/240 [00:49<00:00,  4.82it/s]\n",
      "100%|██████████| 41/41 [00:02<00:00, 15.05it/s]\n",
      "  0%|          | 0/240 [00:00<?, ?it/s]"
     ]
    },
    {
     "name": "stdout",
     "output_type": "stream",
     "text": [
      "Train Loss: 0.2036 ---- Valid Loss: 0.1714 ---- Valid MCRMSE: 0.1728\n",
      "Best valid MCRMSE updated to 0.17276832461357117\n",
      "Epoch 105\n"
     ]
    },
    {
     "name": "stderr",
     "output_type": "stream",
     "text": [
      "100%|██████████| 240/240 [00:49<00:00,  4.83it/s]\n",
      "100%|██████████| 41/41 [00:02<00:00, 14.86it/s]\n",
      "  0%|          | 0/240 [00:00<?, ?it/s]"
     ]
    },
    {
     "name": "stdout",
     "output_type": "stream",
     "text": [
      "Train Loss: 0.2034 ---- Valid Loss: 0.1726 ---- Valid MCRMSE: 0.1741\n",
      "Epoch 106\n"
     ]
    },
    {
     "name": "stderr",
     "output_type": "stream",
     "text": [
      "100%|██████████| 240/240 [00:50<00:00,  4.79it/s]\n",
      "100%|██████████| 41/41 [00:02<00:00, 14.99it/s]\n",
      "  0%|          | 0/240 [00:00<?, ?it/s]"
     ]
    },
    {
     "name": "stdout",
     "output_type": "stream",
     "text": [
      "Train Loss: 0.2057 ---- Valid Loss: 0.1722 ---- Valid MCRMSE: 0.1735\n",
      "Epoch 107\n"
     ]
    },
    {
     "name": "stderr",
     "output_type": "stream",
     "text": [
      "100%|██████████| 240/240 [00:50<00:00,  4.79it/s]\n",
      "100%|██████████| 41/41 [00:02<00:00, 15.01it/s]\n",
      "  0%|          | 0/240 [00:00<?, ?it/s]"
     ]
    },
    {
     "name": "stdout",
     "output_type": "stream",
     "text": [
      "Train Loss: 0.2031 ---- Valid Loss: 0.1701 ---- Valid MCRMSE: 0.1712\n",
      "Best valid MCRMSE updated to 0.17123815417289734\n",
      "Epoch 108\n"
     ]
    },
    {
     "name": "stderr",
     "output_type": "stream",
     "text": [
      "100%|██████████| 240/240 [00:50<00:00,  4.78it/s]\n",
      "100%|██████████| 41/41 [00:02<00:00, 14.68it/s]\n",
      "  0%|          | 0/240 [00:00<?, ?it/s]"
     ]
    },
    {
     "name": "stdout",
     "output_type": "stream",
     "text": [
      "Train Loss: 0.2034 ---- Valid Loss: 0.1702 ---- Valid MCRMSE: 0.1714\n",
      "Epoch 109\n"
     ]
    },
    {
     "name": "stderr",
     "output_type": "stream",
     "text": [
      "100%|██████████| 240/240 [00:49<00:00,  4.83it/s]\n",
      "100%|██████████| 41/41 [00:02<00:00, 14.64it/s]\n",
      "  0%|          | 0/240 [00:00<?, ?it/s]"
     ]
    },
    {
     "name": "stdout",
     "output_type": "stream",
     "text": [
      "Train Loss: 0.2033 ---- Valid Loss: 0.1721 ---- Valid MCRMSE: 0.1733\n",
      "Epoch 110\n"
     ]
    },
    {
     "name": "stderr",
     "output_type": "stream",
     "text": [
      "100%|██████████| 240/240 [00:49<00:00,  4.81it/s]\n",
      "100%|██████████| 41/41 [00:02<00:00, 15.10it/s]\n",
      "  0%|          | 0/240 [00:00<?, ?it/s]"
     ]
    },
    {
     "name": "stdout",
     "output_type": "stream",
     "text": [
      "Train Loss: 0.2026 ---- Valid Loss: 0.1743 ---- Valid MCRMSE: 0.1755\n",
      "Epoch 111\n"
     ]
    },
    {
     "name": "stderr",
     "output_type": "stream",
     "text": [
      "100%|██████████| 240/240 [00:49<00:00,  4.80it/s]\n",
      "100%|██████████| 41/41 [00:02<00:00, 14.67it/s]\n",
      "  0%|          | 0/240 [00:00<?, ?it/s]"
     ]
    },
    {
     "name": "stdout",
     "output_type": "stream",
     "text": [
      "Train Loss: 0.2021 ---- Valid Loss: 0.1715 ---- Valid MCRMSE: 0.1728\n",
      "Epoch 112\n"
     ]
    },
    {
     "name": "stderr",
     "output_type": "stream",
     "text": [
      "100%|██████████| 240/240 [00:49<00:00,  4.82it/s]\n",
      "100%|██████████| 41/41 [00:02<00:00, 15.11it/s]\n",
      "  0%|          | 0/240 [00:00<?, ?it/s]"
     ]
    },
    {
     "name": "stdout",
     "output_type": "stream",
     "text": [
      "Train Loss: 0.2010 ---- Valid Loss: 0.1705 ---- Valid MCRMSE: 0.1718\n",
      "Epoch 113\n"
     ]
    },
    {
     "name": "stderr",
     "output_type": "stream",
     "text": [
      "100%|██████████| 240/240 [00:50<00:00,  4.79it/s]\n",
      "100%|██████████| 41/41 [00:02<00:00, 15.08it/s]\n",
      "  0%|          | 0/240 [00:00<?, ?it/s]"
     ]
    },
    {
     "name": "stdout",
     "output_type": "stream",
     "text": [
      "Train Loss: 0.2022 ---- Valid Loss: 0.1722 ---- Valid MCRMSE: 0.1743\n",
      "Epoch 114\n"
     ]
    },
    {
     "name": "stderr",
     "output_type": "stream",
     "text": [
      "100%|██████████| 240/240 [00:49<00:00,  4.80it/s]\n",
      "100%|██████████| 41/41 [00:02<00:00, 14.77it/s]\n",
      "  0%|          | 0/240 [00:00<?, ?it/s]"
     ]
    },
    {
     "name": "stdout",
     "output_type": "stream",
     "text": [
      "Train Loss: 0.2006 ---- Valid Loss: 0.1701 ---- Valid MCRMSE: 0.1713\n",
      "Epoch 115\n"
     ]
    },
    {
     "name": "stderr",
     "output_type": "stream",
     "text": [
      "100%|██████████| 240/240 [00:49<00:00,  4.81it/s]\n",
      "100%|██████████| 41/41 [00:02<00:00, 14.98it/s]\n",
      "  0%|          | 0/240 [00:00<?, ?it/s]"
     ]
    },
    {
     "name": "stdout",
     "output_type": "stream",
     "text": [
      "Train Loss: 0.2005 ---- Valid Loss: 0.1715 ---- Valid MCRMSE: 0.1730\n",
      "Epoch 116\n"
     ]
    },
    {
     "name": "stderr",
     "output_type": "stream",
     "text": [
      "100%|██████████| 240/240 [00:50<00:00,  4.77it/s]\n",
      "100%|██████████| 41/41 [00:02<00:00, 14.78it/s]\n",
      "  0%|          | 0/240 [00:00<?, ?it/s]"
     ]
    },
    {
     "name": "stdout",
     "output_type": "stream",
     "text": [
      "Train Loss: 0.2010 ---- Valid Loss: 0.1723 ---- Valid MCRMSE: 0.1735\n",
      "Epoch 117\n"
     ]
    },
    {
     "name": "stderr",
     "output_type": "stream",
     "text": [
      "100%|██████████| 240/240 [00:50<00:00,  4.80it/s]\n",
      "100%|██████████| 41/41 [00:02<00:00, 15.03it/s]\n",
      "  0%|          | 0/240 [00:00<?, ?it/s]"
     ]
    },
    {
     "name": "stdout",
     "output_type": "stream",
     "text": [
      "Train Loss: 0.2010 ---- Valid Loss: 0.1699 ---- Valid MCRMSE: 0.1712\n",
      "Best valid MCRMSE updated to 0.17116622626781464\n",
      "Epoch 118\n"
     ]
    },
    {
     "name": "stderr",
     "output_type": "stream",
     "text": [
      "100%|██████████| 240/240 [00:49<00:00,  4.80it/s]\n",
      "100%|██████████| 41/41 [00:02<00:00, 14.60it/s]\n",
      "  0%|          | 0/240 [00:00<?, ?it/s]"
     ]
    },
    {
     "name": "stdout",
     "output_type": "stream",
     "text": [
      "Train Loss: 0.2002 ---- Valid Loss: 0.1701 ---- Valid MCRMSE: 0.1716\n",
      "Epoch 119\n"
     ]
    },
    {
     "name": "stderr",
     "output_type": "stream",
     "text": [
      "100%|██████████| 240/240 [00:49<00:00,  4.83it/s]\n",
      "100%|██████████| 41/41 [00:02<00:00, 15.05it/s]\n",
      "  0%|          | 0/240 [00:00<?, ?it/s]"
     ]
    },
    {
     "name": "stdout",
     "output_type": "stream",
     "text": [
      "Train Loss: 0.1972 ---- Valid Loss: 0.1696 ---- Valid MCRMSE: 0.1710\n",
      "Best valid MCRMSE updated to 0.1709926724433899\n",
      "Epoch 120\n"
     ]
    },
    {
     "name": "stderr",
     "output_type": "stream",
     "text": [
      "100%|██████████| 240/240 [00:49<00:00,  4.81it/s]\n",
      "100%|██████████| 41/41 [00:02<00:00, 15.01it/s]\n",
      "  0%|          | 0/240 [00:00<?, ?it/s]"
     ]
    },
    {
     "name": "stdout",
     "output_type": "stream",
     "text": [
      "Train Loss: 0.1989 ---- Valid Loss: 0.1689 ---- Valid MCRMSE: 0.1703\n",
      "Best valid MCRMSE updated to 0.17034025490283966\n",
      "Epoch 121\n"
     ]
    },
    {
     "name": "stderr",
     "output_type": "stream",
     "text": [
      "100%|██████████| 240/240 [00:50<00:00,  4.79it/s]\n",
      "100%|██████████| 41/41 [00:02<00:00, 15.04it/s]\n",
      "  0%|          | 0/240 [00:00<?, ?it/s]"
     ]
    },
    {
     "name": "stdout",
     "output_type": "stream",
     "text": [
      "Train Loss: 0.1990 ---- Valid Loss: 0.1686 ---- Valid MCRMSE: 0.1700\n",
      "Best valid MCRMSE updated to 0.1699564903974533\n",
      "Epoch 122\n"
     ]
    },
    {
     "name": "stderr",
     "output_type": "stream",
     "text": [
      "100%|██████████| 240/240 [00:49<00:00,  4.83it/s]\n",
      "100%|██████████| 41/41 [00:02<00:00, 14.91it/s]\n",
      "  0%|          | 0/240 [00:00<?, ?it/s]"
     ]
    },
    {
     "name": "stdout",
     "output_type": "stream",
     "text": [
      "Train Loss: 0.1965 ---- Valid Loss: 0.1689 ---- Valid MCRMSE: 0.1700\n",
      "Epoch 123\n"
     ]
    },
    {
     "name": "stderr",
     "output_type": "stream",
     "text": [
      "100%|██████████| 240/240 [00:49<00:00,  4.85it/s]\n",
      "100%|██████████| 41/41 [00:02<00:00, 14.81it/s]\n",
      "  0%|          | 0/240 [00:00<?, ?it/s]"
     ]
    },
    {
     "name": "stdout",
     "output_type": "stream",
     "text": [
      "Train Loss: 0.1968 ---- Valid Loss: 0.1678 ---- Valid MCRMSE: 0.1692\n",
      "Best valid MCRMSE updated to 0.16915825009346008\n",
      "Epoch 124\n"
     ]
    },
    {
     "name": "stderr",
     "output_type": "stream",
     "text": [
      "100%|██████████| 240/240 [00:50<00:00,  4.77it/s]\n",
      "100%|██████████| 41/41 [00:02<00:00, 14.67it/s]\n",
      "  0%|          | 0/240 [00:00<?, ?it/s]"
     ]
    },
    {
     "name": "stdout",
     "output_type": "stream",
     "text": [
      "Train Loss: 0.1972 ---- Valid Loss: 0.1678 ---- Valid MCRMSE: 0.1691\n",
      "Best valid MCRMSE updated to 0.16909213364124298\n",
      "Epoch 125\n"
     ]
    },
    {
     "name": "stderr",
     "output_type": "stream",
     "text": [
      "100%|██████████| 240/240 [00:49<00:00,  4.83it/s]\n",
      "100%|██████████| 41/41 [00:02<00:00, 14.77it/s]\n",
      "  0%|          | 0/240 [00:00<?, ?it/s]"
     ]
    },
    {
     "name": "stdout",
     "output_type": "stream",
     "text": [
      "Train Loss: 0.1960 ---- Valid Loss: 0.1685 ---- Valid MCRMSE: 0.1698\n",
      "Epoch 126\n"
     ]
    },
    {
     "name": "stderr",
     "output_type": "stream",
     "text": [
      "100%|██████████| 240/240 [00:49<00:00,  4.81it/s]\n",
      "100%|██████████| 41/41 [00:02<00:00, 15.04it/s]\n",
      "  0%|          | 0/240 [00:00<?, ?it/s]"
     ]
    },
    {
     "name": "stdout",
     "output_type": "stream",
     "text": [
      "Train Loss: 0.2059 ---- Valid Loss: 0.1718 ---- Valid MCRMSE: 0.1731\n",
      "Epoch 127\n"
     ]
    },
    {
     "name": "stderr",
     "output_type": "stream",
     "text": [
      "100%|██████████| 240/240 [00:49<00:00,  4.81it/s]\n",
      "100%|██████████| 41/41 [00:02<00:00, 15.00it/s]\n",
      "  0%|          | 0/240 [00:00<?, ?it/s]"
     ]
    },
    {
     "name": "stdout",
     "output_type": "stream",
     "text": [
      "Train Loss: 0.1986 ---- Valid Loss: 0.1747 ---- Valid MCRMSE: 0.1759\n",
      "Epoch 128\n"
     ]
    },
    {
     "name": "stderr",
     "output_type": "stream",
     "text": [
      "100%|██████████| 240/240 [00:50<00:00,  4.77it/s]\n",
      "100%|██████████| 41/41 [00:02<00:00, 14.71it/s]\n",
      "  0%|          | 0/240 [00:00<?, ?it/s]"
     ]
    },
    {
     "name": "stdout",
     "output_type": "stream",
     "text": [
      "Train Loss: 0.1971 ---- Valid Loss: 0.1688 ---- Valid MCRMSE: 0.1699\n",
      "Epoch 129\n"
     ]
    },
    {
     "name": "stderr",
     "output_type": "stream",
     "text": [
      "100%|██████████| 240/240 [00:49<00:00,  4.83it/s]\n",
      "100%|██████████| 41/41 [00:02<00:00, 14.82it/s]\n",
      "  5%|▍         | 2/41 [00:00<00:02, 14.74it/s]"
     ]
    },
    {
     "name": "stdout",
     "output_type": "stream",
     "text": [
      "Train Loss: 0.1961 ---- Valid Loss: 0.1671 ---- Valid MCRMSE: 0.1682\n",
      "Best valid MCRMSE updated to 0.16824427247047424\n"
     ]
    },
    {
     "name": "stderr",
     "output_type": "stream",
     "text": [
      "100%|██████████| 41/41 [00:02<00:00, 14.75it/s]"
     ]
    },
    {
     "name": "stdout",
     "output_type": "stream",
     "text": [
      "CV MCRMSE  0.17303775250911713\n"
     ]
    },
    {
     "name": "stderr",
     "output_type": "stream",
     "text": [
      "\n"
     ]
    }
   ],
   "source": [
    "print('Reading', train_file)\n",
    "df_tr = pd.read_json(train_file, lines=True)\n",
    "\n",
    "#df_tr['bpps_sum'] = read_bpps_sum(df_tr)\n",
    "#df_tr['bpps_max'] = read_bpps_max(df_tr)\n",
    "#df_tr['bpps_nb'] = read_bpps_nb(df_tr)\n",
    "\n",
    "# clustering for  GroupKFold\n",
    "#kmeans_model = KMeans(n_clusters=200, random_state=seed).fit(preprocess_inputs(df_tr)[:,:,0])\n",
    "#df_tr['cluster_id'] = kmeans_model.labels_\n",
    "\n",
    "\n",
    "df_tr = aug_data(df_tr)\n",
    "\n",
    "add_y_cat(df_tr)\n",
    "\n",
    "# is_clean = df_tr.apply(sample_is_clean, axis=1)\n",
    "# df_clean = df_tr[is_clean].reset_index(drop=True)\n",
    "# df_noisy = df_tr[is_clean==False].reset_index(drop=True)\n",
    "# del df_tr\n",
    "\n",
    "print('Training')\n",
    "all_ys = torch.zeros((0, nlabel)).to(device).detach()\n",
    "all_outs = torch.zeros((0, nlabel)).to(device).detach()\n",
    "best_model_states = []\n",
    "kf = StratifiedKFold(nb_fold, shuffle=True, random_state=seed)\n",
    "#kf = GroupKFold(nb_fold)\n",
    "for fold, (train_idx, valid_idx) in enumerate(kf.split(df_tr, df_tr['y_cat'])):\n",
    "    print('Fold', fold)\n",
    "\n",
    "    # build train data\n",
    "    df_train = df_tr.iloc[train_idx]\n",
    "    data_train = build_data(df_train.reset_index(drop=True), True)\n",
    "    del df_train\n",
    "    loader_train = DataLoader(data_train, batch_size=batch_size,\n",
    "                              shuffle=True)\n",
    "\n",
    "    # build validation data\n",
    "    df_valid = df_tr.iloc[valid_idx]\n",
    "    df_valid_clean = df_valid[df_valid.SN_filter == 1].reset_index(drop=True)\n",
    "    data_valid_clean = build_data(df_valid_clean, True)\n",
    "    del df_valid\n",
    "    del df_valid_clean\n",
    "    loader_valid_clean = DataLoader(data_valid_clean, batch_size=batch_size,\n",
    "                                    shuffle=False)\n",
    "\n",
    "    model = MyDeeperGCN(data_train[0].num_node_features,\n",
    "                        data_train[0].num_edge_features,\n",
    "                        node_hidden_channels=node_hidden_channels,\n",
    "                        edge_hidden_channels=edge_hidden_channels,\n",
    "                        num_layers=num_layers,\n",
    "                        num_classes=nlabel).to(device)\n",
    "    optimizer = torch.optim.Adam(model.parameters(), lr=lr)\n",
    "    best_mcrmse = np.inf\n",
    "    for epoch in range(epochs):\n",
    "        print('Epoch', epoch)\n",
    "        model.train()\n",
    "        train_loss = 0.0\n",
    "        nb = 0\n",
    "        for data in tqdm(loader_train):\n",
    "            data = data.to(device)\n",
    "            mask = data.train_mask\n",
    "            weight = data.weight[mask]\n",
    "\n",
    "            optimizer.zero_grad()\n",
    "            out = model(data)[mask]\n",
    "            y = data.y[mask]\n",
    "            loss = criterion(out, y, weight)\n",
    "            loss.backward()\n",
    "            optimizer.step()\n",
    "            train_loss += loss.item() * y.size(0)\n",
    "            nb += y.size(0)\n",
    "\n",
    "            del data\n",
    "            del out\n",
    "            del y\n",
    "            del loss\n",
    "            #gc.collect()\n",
    "            #torch.cuda.empty_cache()\n",
    "        train_loss /= nb\n",
    "\n",
    "        model.eval()\n",
    "        valid_loss = 0.0\n",
    "        nb = 0\n",
    "        ys = torch.zeros((0, nlabel)).to(device).detach()\n",
    "        outs = torch.zeros((0, nlabel)).to(device).detach()\n",
    "        for data in tqdm(loader_valid_clean):\n",
    "            data = data.to(device)\n",
    "            mask = data.train_mask\n",
    "\n",
    "            out = model(data)[mask].detach()\n",
    "            y = data.y[mask].detach()\n",
    "            loss = criterion(out, y).detach()\n",
    "            valid_loss += loss.item() * y.size(0)\n",
    "            nb += y.size(0)\n",
    "\n",
    "            outs = torch.cat((outs, out), dim=0)\n",
    "            ys = torch.cat((ys, y), dim=0)\n",
    "\n",
    "            del data\n",
    "            del out\n",
    "            del y\n",
    "            del loss\n",
    "            #gc.collect()\n",
    "            #torch.cuda.empty_cache()\n",
    "        valid_loss /= nb\n",
    "\n",
    "        mcrmse = criterion(outs, ys).item()\n",
    "\n",
    "        print(\"Train Loss: {:.4f} ---- Valid Loss: {:.4f} ---- Valid MCRMSE: {:.4f}\".\\\n",
    "                format(train_loss, valid_loss, mcrmse))\n",
    "\n",
    "        if mcrmse < best_mcrmse:\n",
    "            print('Best valid MCRMSE updated to', mcrmse)\n",
    "            best_mcrmse = mcrmse\n",
    "            best_model_state = copy.deepcopy(model.state_dict())\n",
    "\n",
    "    del data_train\n",
    "    del data_valid_clean\n",
    "    #gc.collect()\n",
    "    #torch.cuda.empty_cache()\n",
    "\n",
    "    best_model_states.append(best_model_state)\n",
    "\n",
    "    # predict for CV\n",
    "    model.load_state_dict(best_model_state)\n",
    "    model.eval()\n",
    "    for data in tqdm(loader_valid_clean):\n",
    "        data = data.to(device)\n",
    "        mask = data.train_mask\n",
    "\n",
    "        out = model(data)[mask].detach()\n",
    "        y = data.y[mask].detach()\n",
    "\n",
    "        all_ys = torch.cat((all_ys, y), dim=0)\n",
    "        all_outs = torch.cat((all_outs, out), dim=0)\n",
    "\n",
    "        del data\n",
    "        del out\n",
    "        del y\n",
    "        #gc.collect()\n",
    "        #torch.cuda.empty_cache()\n",
    "\n",
    "# calculate MCRMSE by all training data\n",
    "print('CV MCRMSE ', criterion(all_outs, all_ys).item())\n",
    "del all_outs\n",
    "del all_ys\n",
    "#gc.collect()\n",
    "#torch.cuda.empty_cache()"
   ]
  },
  {
   "cell_type": "code",
   "execution_count": null,
   "metadata": {},
   "outputs": [],
   "source": [
    "CV MCRMSE  0.17303775250911713"
   ]
  },
  {
   "cell_type": "code",
   "execution_count": 10,
   "metadata": {},
   "outputs": [
    {
     "name": "stdout",
     "output_type": "stream",
     "text": [
      "Predicting test data\n",
      "Reading ../OpenVaccine/test.json\n"
     ]
    },
    {
     "name": "stderr",
     "output_type": "stream",
     "text": [
      "100%|██████████| 455/455 [00:36<00:00, 12.37it/s]\n",
      "100%|██████████| 455/455 [00:36<00:00, 12.55it/s]\n",
      "100%|██████████| 455/455 [00:36<00:00, 12.53it/s]\n",
      "100%|██████████| 455/455 [00:36<00:00, 12.54it/s]\n",
      "100%|██████████| 455/455 [00:36<00:00, 12.54it/s]\n"
     ]
    },
    {
     "name": "stdout",
     "output_type": "stream",
     "text": [
      "Writing submission.csv\n"
     ]
    }
   ],
   "source": [
    "# predict for test data\n",
    "print('Predicting test data')\n",
    "print('Reading', test_file)\n",
    "df_te = pd.read_json(test_file, lines=True)\n",
    "\n",
    "#df_te['bpps_sum'] = read_bpps_sum(df_te)\n",
    "#df_te['bpps_max'] = read_bpps_max(df_te)\n",
    "#df_te['bpps_nb'] = read_bpps_nb(df_te)\n",
    "\n",
    "df_te = aug_data(df_te)\n",
    "\n",
    "data_test = build_data(df_te.reset_index(drop=True), False)\n",
    "loader_test = DataLoader(data_test, batch_size=batch_size, shuffle=False)\n",
    "id_seqpos = build_id_seqpos(df_te.reset_index(drop=True))\n",
    "\n",
    "preds = torch.zeros((len(id_seqpos), nlabel)).to(device).detach()\n",
    "for best_model_state in best_model_states:\n",
    "    model.load_state_dict(best_model_state)\n",
    "    model.eval()\n",
    "\n",
    "    outs = torch.zeros((0, nlabel)).to(device).detach()\n",
    "    for data in tqdm(loader_test):\n",
    "        data = data.to(device)\n",
    "        mask = data.test_mask\n",
    "\n",
    "        out = model(data)[mask].detach()\n",
    "        outs = torch.cat((outs, out), dim=0)\n",
    "\n",
    "        del data\n",
    "        del out\n",
    "        #gc.collect()\n",
    "        #torch.cuda.empty_cache()\n",
    "    preds += outs\n",
    "preds /= len(best_model_states)\n",
    "preds = preds.cpu().numpy()\n",
    "\n",
    "df_sub = pd.DataFrame({'id_seqpos': id_seqpos,\n",
    "                       'reactivity': preds[:,0],\n",
    "                       'deg_Mg_pH10': preds[:,1],\n",
    "                       'deg_pH10': preds[:,2],\n",
    "                       'deg_Mg_50C': preds[:,3],\n",
    "                       'deg_50C': preds[:,4]})\n",
    "print('Writing submission.csv')\n",
    "df_sub.to_csv('submission_all.csv', index=False)"
   ]
  },
  {
   "cell_type": "code",
   "execution_count": 11,
   "metadata": {},
   "outputs": [
    {
     "data": {
      "text/html": [
       "<div>\n",
       "<style scoped>\n",
       "    .dataframe tbody tr th:only-of-type {\n",
       "        vertical-align: middle;\n",
       "    }\n",
       "\n",
       "    .dataframe tbody tr th {\n",
       "        vertical-align: top;\n",
       "    }\n",
       "\n",
       "    .dataframe thead th {\n",
       "        text-align: right;\n",
       "    }\n",
       "</style>\n",
       "<table border=\"1\" class=\"dataframe\">\n",
       "  <thead>\n",
       "    <tr style=\"text-align: right;\">\n",
       "      <th></th>\n",
       "      <th>id_seqpos</th>\n",
       "      <th>reactivity</th>\n",
       "      <th>deg_Mg_pH10</th>\n",
       "      <th>deg_pH10</th>\n",
       "      <th>deg_Mg_50C</th>\n",
       "      <th>deg_50C</th>\n",
       "    </tr>\n",
       "  </thead>\n",
       "  <tbody>\n",
       "    <tr>\n",
       "      <th>0</th>\n",
       "      <td>id_00073f8be_0</td>\n",
       "      <td>0.615723</td>\n",
       "      <td>0.662580</td>\n",
       "      <td>1.850454</td>\n",
       "      <td>0.553892</td>\n",
       "      <td>0.726161</td>\n",
       "    </tr>\n",
       "    <tr>\n",
       "      <th>1</th>\n",
       "      <td>id_00073f8be_1</td>\n",
       "      <td>1.769160</td>\n",
       "      <td>2.807108</td>\n",
       "      <td>3.769025</td>\n",
       "      <td>2.861966</td>\n",
       "      <td>2.545326</td>\n",
       "    </tr>\n",
       "    <tr>\n",
       "      <th>2</th>\n",
       "      <td>id_00073f8be_2</td>\n",
       "      <td>1.367929</td>\n",
       "      <td>0.533387</td>\n",
       "      <td>0.690654</td>\n",
       "      <td>0.647617</td>\n",
       "      <td>0.656199</td>\n",
       "    </tr>\n",
       "    <tr>\n",
       "      <th>3</th>\n",
       "      <td>id_00073f8be_3</td>\n",
       "      <td>1.147048</td>\n",
       "      <td>1.066650</td>\n",
       "      <td>1.098729</td>\n",
       "      <td>1.533059</td>\n",
       "      <td>1.637275</td>\n",
       "    </tr>\n",
       "    <tr>\n",
       "      <th>4</th>\n",
       "      <td>id_00073f8be_4</td>\n",
       "      <td>0.716552</td>\n",
       "      <td>0.549384</td>\n",
       "      <td>0.511053</td>\n",
       "      <td>0.777839</td>\n",
       "      <td>0.805624</td>\n",
       "    </tr>\n",
       "  </tbody>\n",
       "</table>\n",
       "</div>"
      ],
      "text/plain": [
       "        id_seqpos  reactivity  deg_Mg_pH10  deg_pH10  deg_Mg_50C   deg_50C\n",
       "0  id_00073f8be_0    0.615723     0.662580  1.850454    0.553892  0.726161\n",
       "1  id_00073f8be_1    1.769160     2.807108  3.769025    2.861966  2.545326\n",
       "2  id_00073f8be_2    1.367929     0.533387  0.690654    0.647617  0.656199\n",
       "3  id_00073f8be_3    1.147048     1.066650  1.098729    1.533059  1.637275\n",
       "4  id_00073f8be_4    0.716552     0.549384  0.511053    0.777839  0.805624"
      ]
     },
     "execution_count": 11,
     "metadata": {},
     "output_type": "execute_result"
    }
   ],
   "source": [
    "df_sub.head()"
   ]
  },
  {
   "cell_type": "code",
   "execution_count": 12,
   "metadata": {},
   "outputs": [
    {
     "name": "stdout",
     "output_type": "stream",
     "text": [
      "(457953, 2)\n",
      "(457953, 2)\n",
      "(457953, 2)\n",
      "(457953, 2)\n",
      "(457953, 2)\n"
     ]
    },
    {
     "data": {
      "text/plain": [
       "(457953, 6)"
      ]
     },
     "execution_count": 12,
     "metadata": {},
     "output_type": "execute_result"
    }
   ],
   "source": [
    "sample_df = pd.read_csv('../OpenVaccine/sample_submission.csv')\n",
    "\n",
    "target_cols = [c for c in sample_df.columns if c != 'id_seqpos']\n",
    "\n",
    "list_id = list(sample_df.id_seqpos.values)\n",
    "output = {}\n",
    "output_df = pd.DataFrame({'id_seqpos': sample_df.id_seqpos.values})\n",
    "\n",
    "for c in target_cols:\n",
    "    output_values = []\n",
    "    x = df_sub.groupby('id_seqpos')[c].mean().reset_index()\n",
    "    print(x.shape)\n",
    "    output_df = pd.merge(output_df, x, on='id_seqpos')\n",
    "\n",
    "output_df.shape"
   ]
  },
  {
   "cell_type": "code",
   "execution_count": 13,
   "metadata": {},
   "outputs": [
    {
     "data": {
      "text/html": [
       "<div>\n",
       "<style scoped>\n",
       "    .dataframe tbody tr th:only-of-type {\n",
       "        vertical-align: middle;\n",
       "    }\n",
       "\n",
       "    .dataframe tbody tr th {\n",
       "        vertical-align: top;\n",
       "    }\n",
       "\n",
       "    .dataframe thead th {\n",
       "        text-align: right;\n",
       "    }\n",
       "</style>\n",
       "<table border=\"1\" class=\"dataframe\">\n",
       "  <thead>\n",
       "    <tr style=\"text-align: right;\">\n",
       "      <th></th>\n",
       "      <th>id_seqpos</th>\n",
       "      <th>reactivity</th>\n",
       "      <th>deg_Mg_pH10</th>\n",
       "      <th>deg_pH10</th>\n",
       "      <th>deg_Mg_50C</th>\n",
       "      <th>deg_50C</th>\n",
       "    </tr>\n",
       "  </thead>\n",
       "  <tbody>\n",
       "    <tr>\n",
       "      <th>0</th>\n",
       "      <td>id_00073f8be_0</td>\n",
       "      <td>0.616112</td>\n",
       "      <td>0.674844</td>\n",
       "      <td>1.847118</td>\n",
       "      <td>0.563852</td>\n",
       "      <td>0.731951</td>\n",
       "    </tr>\n",
       "    <tr>\n",
       "      <th>1</th>\n",
       "      <td>id_00073f8be_1</td>\n",
       "      <td>1.751642</td>\n",
       "      <td>2.824739</td>\n",
       "      <td>3.767377</td>\n",
       "      <td>2.879557</td>\n",
       "      <td>2.548296</td>\n",
       "    </tr>\n",
       "    <tr>\n",
       "      <th>2</th>\n",
       "      <td>id_00073f8be_2</td>\n",
       "      <td>1.355199</td>\n",
       "      <td>0.524353</td>\n",
       "      <td>0.681203</td>\n",
       "      <td>0.633145</td>\n",
       "      <td>0.656204</td>\n",
       "    </tr>\n",
       "    <tr>\n",
       "      <th>3</th>\n",
       "      <td>id_00073f8be_3</td>\n",
       "      <td>1.125660</td>\n",
       "      <td>1.027425</td>\n",
       "      <td>1.086188</td>\n",
       "      <td>1.482348</td>\n",
       "      <td>1.618247</td>\n",
       "    </tr>\n",
       "    <tr>\n",
       "      <th>4</th>\n",
       "      <td>id_00073f8be_4</td>\n",
       "      <td>0.716487</td>\n",
       "      <td>0.551383</td>\n",
       "      <td>0.508729</td>\n",
       "      <td>0.777835</td>\n",
       "      <td>0.835349</td>\n",
       "    </tr>\n",
       "  </tbody>\n",
       "</table>\n",
       "</div>"
      ],
      "text/plain": [
       "        id_seqpos  reactivity  deg_Mg_pH10  deg_pH10  deg_Mg_50C   deg_50C\n",
       "0  id_00073f8be_0    0.616112     0.674844  1.847118    0.563852  0.731951\n",
       "1  id_00073f8be_1    1.751642     2.824739  3.767377    2.879557  2.548296\n",
       "2  id_00073f8be_2    1.355199     0.524353  0.681203    0.633145  0.656204\n",
       "3  id_00073f8be_3    1.125660     1.027425  1.086188    1.482348  1.618247\n",
       "4  id_00073f8be_4    0.716487     0.551383  0.508729    0.777835  0.835349"
      ]
     },
     "execution_count": 13,
     "metadata": {},
     "output_type": "execute_result"
    }
   ],
   "source": [
    "output_df.to_csv('submission.csv', index = False)\n",
    "output_df.head()"
   ]
  },
  {
   "cell_type": "code",
   "execution_count": null,
   "metadata": {},
   "outputs": [],
   "source": []
  }
 ],
 "metadata": {
  "kernelspec": {
   "display_name": "Python 3",
   "language": "python",
   "name": "python3"
  },
  "language_info": {
   "codemirror_mode": {
    "name": "ipython",
    "version": 3
   },
   "file_extension": ".py",
   "mimetype": "text/x-python",
   "name": "python",
   "nbconvert_exporter": "python",
   "pygments_lexer": "ipython3",
   "version": "3.7.6"
  }
 },
 "nbformat": 4,
 "nbformat_minor": 4
}
