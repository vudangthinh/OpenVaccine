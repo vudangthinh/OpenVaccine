{
 "cells": [
  {
   "cell_type": "code",
   "execution_count": 1,
   "metadata": {
    "_cell_guid": "b1076dfc-b9ad-4769-8c92-a6c4dae69d19",
    "_uuid": "8f2839f25d086af736a60e9eeb907d3b93b6e0e5"
   },
   "outputs": [],
   "source": [
    "# %% [code]\n",
    "# ------------------ install torch_geometric begin -----------------\n",
    "try:\n",
    "    import torch_geometric\n",
    "except:\n",
    "    import subprocess\n",
    "    import torch\n",
    "\n",
    "    nvcc_stdout = str(subprocess.check_output(['nvcc', '-V']))\n",
    "    tmp = nvcc_stdout[nvcc_stdout.rfind('release') + len('release') + 1:]\n",
    "    cuda_version = tmp[:tmp.find(',')]\n",
    "    cuda = {\n",
    "            '9.2': 'cu92',\n",
    "            '10.1': 'cu101',\n",
    "            '10.2': 'cu102',\n",
    "            }\n",
    "\n",
    "    CUDA = cuda[cuda_version]\n",
    "    TORCH = torch.__version__.split('.')\n",
    "    TORCH[-1] = '0'\n",
    "    TORCH = '.'.join(TORCH)\n",
    "\n",
    "    install1 = 'pip install torch-scatter==latest+' + CUDA + ' -f https://pytorch-geometric.com/whl/torch-' + TORCH + '.html'\n",
    "    install2 = 'pip install torch-sparse==latest+' + CUDA + ' -f https://pytorch-geometric.com/whl/torch-' + TORCH + '.html'\n",
    "    install3 = 'pip install torch-cluster==latest+' + CUDA + ' -f https://pytorch-geometric.com/whl/torch-' + TORCH + '.html'\n",
    "    install4 = 'pip install torch-spline-conv==latest+' + CUDA + ' -f https://pytorch-geometric.com/whl/torch-' + TORCH + '.html'\n",
    "    install5 = 'pip install torch-geometric'\n",
    "\n",
    "    subprocess.run(install1.split())\n",
    "    subprocess.run(install2.split())\n",
    "    subprocess.run(install3.split())\n",
    "    subprocess.run(install4.split())\n",
    "    subprocess.run(install5.split())\n",
    "# ------------------ install torch_geometric end -----------------"
   ]
  },
  {
   "cell_type": "code",
   "execution_count": 2,
   "metadata": {
    "_cell_guid": "79c7e3d0-c299-4dcb-8224-4455121ee9b0",
    "_uuid": "d629ff2d2480ee46fbb7e2d37f6b5fab8052498a"
   },
   "outputs": [],
   "source": [
    "import numpy as np\n",
    "import pandas as pd\n",
    "import random\n",
    "import torch\n",
    "from torch.nn import Linear, LayerNorm, ReLU, Dropout\n",
    "from torch_geometric.nn import ChebConv, NNConv, DeepGCNLayer, ARMAConv\n",
    "from torch_geometric.data import Data, DataLoader\n",
    "from sklearn.model_selection import StratifiedKFold, KFold, GroupKFold\n",
    "from sklearn.cluster import KMeans\n",
    "import ast\n",
    "from tqdm import tqdm\n",
    "import os\n",
    "import copy\n",
    "#import gc\n",
    "from IPython.core.debugger import set_trace\n",
    "\n",
    "# settings\n",
    "seed = 777\n",
    "train_file = '../OpenVaccine/train.json'\n",
    "test_file = '../OpenVaccine/test.json'\n",
    "bpps_top = '../OpenVaccine/bpps'\n",
    "nb_fold = 5\n",
    "device = 'cuda:1'\n",
    "batch_size = 16\n",
    "epochs = 100 #100\n",
    "lr = 0.001\n",
    "nlabel = 5\n",
    "train_with_noisy_data = True\n",
    "add_edge_for_paired_nodes = True\n",
    "add_codon_nodes = True\n",
    "T = 5 #15\n",
    "node_hidden_channels = 128 # 96 #128\n",
    "edge_hidden_channels = 16\n",
    "hidden_channels3 = 32\n",
    "num_layers = 10\n",
    "dropout1 = 0.1\n",
    "dropout2 = 0.1\n",
    "dropout3 = 0.1\n",
    "bpps_nb_mean = 0.077522 # mean of bpps_nb across all training data\n",
    "bpps_nb_std = 0.08914   # std of bpps_nb across all training data\n",
    "error_mean_limit = 0.5"
   ]
  },
  {
   "cell_type": "code",
   "execution_count": 3,
   "metadata": {},
   "outputs": [],
   "source": [
    "def match_pair(structure):\n",
    "    pair = [-1] * len(structure)\n",
    "    pair_no = -1\n",
    "\n",
    "    pair_no_stack = []\n",
    "    for i, c in enumerate(structure):\n",
    "        if c == '(':\n",
    "            pair_no += 1\n",
    "            pair[i] = pair_no\n",
    "            pair_no_stack.append(pair_no)\n",
    "        elif c == ')':\n",
    "            pair[i] = pair_no_stack.pop()\n",
    "    return pair\n",
    "\n",
    "class MyData(Data):\n",
    "    def __init__(self, x=None, edge_index=None, edge_attr=None, y=None,\n",
    "                 pos=None, norm=None, face=None, weight=None, **kwargs):\n",
    "        super(MyData, self).__init__(x=x, edge_index=edge_index,\n",
    "                                     edge_attr=edge_attr, y=y, pos=pos,\n",
    "                                     norm=norm, face=face, **kwargs)\n",
    "        self.weight = weight\n",
    "        \n",
    "def calc_error_mean(row):\n",
    "    reactivity_error = row['reactivity_error']\n",
    "    deg_error_Mg_pH10 = row['deg_error_Mg_pH10']\n",
    "    deg_error_Mg_50C = row['deg_error_Mg_50C']\n",
    "\n",
    "    return np.mean(np.abs(reactivity_error) +\n",
    "                   np.abs(deg_error_Mg_pH10) + \\\n",
    "                   np.abs(deg_error_Mg_50C)) / 3\n",
    "\n",
    "def calc_sample_weight(row):\n",
    "    if sample_is_clean(row):\n",
    "        return 1.\n",
    "    else:\n",
    "        error_mean = calc_error_mean(row)\n",
    "        if error_mean >= error_mean_limit:\n",
    "            return 0.\n",
    "\n",
    "        return 1. - error_mean / error_mean_limit\n",
    "    \n",
    "# def calc_sample_weight(row):\n",
    "#     return np.log(row.signal_to_noise+1.1)/2"
   ]
  },
  {
   "cell_type": "code",
   "execution_count": 4,
   "metadata": {},
   "outputs": [],
   "source": [
    "# add directed edge for node1 -> node2 and for node2 -> node1\n",
    "def add_edges(edge_index, edge_features, node1, node2, feature1, feature2):\n",
    "    edge_index.append([node1, node2])\n",
    "    edge_features.append(feature1)\n",
    "    edge_index.append([node2, node1])\n",
    "    edge_features.append(feature2)\n",
    "\n",
    "def add_edges_between_base_nodes(edge_index, edge_features, node1, node2):\n",
    "    edge_feature1 = [\n",
    "        0, # is edge for paired nodes\n",
    "        0, # is edge between codon node and base node\n",
    "        0, # is edge between coden nodes\n",
    "        1, # forward edge: 1, backward edge: -1\n",
    "        1, # bpps if edge is for paired nodes\n",
    "    ]\n",
    "    edge_feature2 = [\n",
    "        0, # is edge for paired nodes\n",
    "        0, # is edge between codon node and base node\n",
    "        0, # is edge between coden nodes\n",
    "        -1, # forward edge: 1, backward edge: -1\n",
    "        1, # bpps if edge is for paired nodes\n",
    "    ]\n",
    "    add_edges(edge_index, edge_features, node1, node2,\n",
    "              edge_feature1, edge_feature2)\n",
    "\n",
    "def add_edges_between_paired_nodes(edge_index, edge_features, node1, node2,\n",
    "                                   bpps_value):\n",
    "    edge_feature1 = [\n",
    "        1, # is edge for paired nodes\n",
    "        0, # is edge between codon node and base node\n",
    "        0, # is edge between coden nodes\n",
    "        0, # forward edge: 1, backward edge: -1\n",
    "        bpps_value, # bpps if edge is for paired nodes\n",
    "    ]\n",
    "    edge_feature2 = [\n",
    "        1, # is edge for paired nodes\n",
    "        0, # is edge between codon node and base node\n",
    "        0, # is edge between coden nodes\n",
    "        0, # forward edge: 1, backward edge: -1\n",
    "        bpps_value, # bpps if edge is for paired nodes\n",
    "    ]\n",
    "    add_edges(edge_index, edge_features, node1, node2,\n",
    "              edge_feature1, edge_feature2)\n",
    "\n",
    "def add_edges_between_codon_nodes(edge_index, edge_features, node1, node2):\n",
    "    edge_feature1 = [\n",
    "        0, # is edge for paired nodes\n",
    "        0, # is edge between codon node and base node\n",
    "        1, # is edge between coden nodes\n",
    "        1, # forward edge: 1, backward edge: -1\n",
    "        0, # bpps if edge is for paired nodes\n",
    "    ]\n",
    "    edge_feature2 = [\n",
    "        0, # is edge for paired nodes\n",
    "        0, # is edge between codon node and base node\n",
    "        1, # is edge between coden nodes\n",
    "        -1, # forward edge: 1, backward edge: -1\n",
    "        0, # bpps if edge is for paired nodes\n",
    "    ]\n",
    "    add_edges(edge_index, edge_features, node1, node2,\n",
    "              edge_feature1, edge_feature2)\n",
    "\n",
    "def add_edges_between_codon_and_base_node(edge_index, edge_features,\n",
    "                                          node1, node2):\n",
    "    edge_feature1 = [\n",
    "        0, # is edge for paired nodes\n",
    "        1, # is edge between codon node and base node\n",
    "        0, # is edge between coden nodes\n",
    "        0, # forward edge: 1, backward edge: -1\n",
    "        0, # bpps if edge is for paired nodes\n",
    "    ]\n",
    "    edge_feature2 = [\n",
    "        0, # is edge for paired nodes\n",
    "        1, # is edge between codon node and base node\n",
    "        0, # is edge between coden nodes\n",
    "        0, # forward edge: 1, backward edge: -1\n",
    "        0, # bpps if edge is for paired nodes\n",
    "    ]\n",
    "    add_edges(edge_index, edge_features, node1, node2,\n",
    "              edge_feature1, edge_feature2)\n",
    "\n",
    "def add_node(node_features, feature):\n",
    "    node_features.append(feature)\n",
    "\n",
    "def add_base_node(node_features, sequence, predicted_loop_type,\n",
    "                  bpps_sum, bpps_nb):\n",
    "    feature = [\n",
    "        0, # is codon node\n",
    "        sequence == 'A',\n",
    "        sequence == 'C',\n",
    "        sequence == 'G',\n",
    "        sequence == 'U',\n",
    "        predicted_loop_type == 'S',\n",
    "        predicted_loop_type == 'M',\n",
    "        predicted_loop_type == 'I',\n",
    "        predicted_loop_type == 'B',\n",
    "        predicted_loop_type == 'H',\n",
    "        predicted_loop_type == 'E',\n",
    "        predicted_loop_type == 'X',\n",
    "        bpps_sum,\n",
    "        bpps_nb,\n",
    "    ]\n",
    "    add_node(node_features, feature)\n",
    "\n",
    "def add_codon_node(node_features):\n",
    "    feature = [\n",
    "        1, # is codon node\n",
    "        0, # sequence == 'A',\n",
    "        0, # sequence == 'C',\n",
    "        0, # sequence == 'G',\n",
    "        0, # sequence == 'U',\n",
    "        0, # predicted_loop_type == 'S',\n",
    "        0, # predicted_loop_type == 'M',\n",
    "        0, # predicted_loop_type == 'I',\n",
    "        0, # predicted_loop_type == 'B',\n",
    "        0, # predicted_loop_type == 'H',\n",
    "        0, # predicted_loop_type == 'E',\n",
    "        0, # predicted_loop_type == 'X',\n",
    "        0, # bpps_sum\n",
    "        0, # bpps_nb\n",
    "    ]\n",
    "    add_node(node_features, feature)\n",
    "\n",
    "def build_data(df, is_train):\n",
    "    data = []\n",
    "    for i in range(len(df)):\n",
    "        targets = []\n",
    "        node_features = []\n",
    "        edge_features = []\n",
    "        edge_index = []\n",
    "        train_mask = []\n",
    "        test_mask = []\n",
    "        weights = []\n",
    "\n",
    "        id = df.loc[i, 'id']\n",
    "        path = os.path.join(bpps_top, id + '.npy')\n",
    "        bpps = np.load(path)\n",
    "        bpps_sum = bpps.sum(axis=0)\n",
    "        sequence = df.loc[i, 'sequence']\n",
    "        structure = df.loc[i, 'structure']\n",
    "        pair_info = match_pair(structure)\n",
    "        predicted_loop_type = df.loc[i, 'predicted_loop_type']\n",
    "        seq_length = df.loc[i, 'seq_length']\n",
    "        seq_scored = df.loc[i, 'seq_scored']\n",
    "        bpps_nb = (bpps > 0).sum(axis=0) / seq_length\n",
    "        bpps_nb = (bpps_nb - bpps_nb_mean) / bpps_nb_std\n",
    "        if is_train:\n",
    "            sample_weight = calc_sample_weight(df.loc[i])\n",
    "\n",
    "            reactivity = df.loc[i, 'reactivity']\n",
    "            deg_Mg_pH10 = df.loc[i, 'deg_Mg_pH10']\n",
    "            deg_pH10 = df.loc[i, 'deg_pH10']\n",
    "            deg_Mg_50C = df.loc[i, 'deg_Mg_50C']\n",
    "            deg_50C = df.loc[i, 'deg_50C']\n",
    "\n",
    "            for j in range(seq_length):\n",
    "                if j < seq_scored:\n",
    "                    targets.append([\n",
    "                        reactivity[j],\n",
    "                        deg_Mg_pH10[j],\n",
    "                        deg_pH10[j],\n",
    "                        deg_Mg_50C[j],\n",
    "                        deg_50C[j],\n",
    "                        ])\n",
    "                else:\n",
    "                    targets.append([0, 0, 0, 0, 0])\n",
    "\n",
    "        paired_nodes = {}\n",
    "        for j in range(seq_length):\n",
    "            add_base_node(node_features, sequence[j], predicted_loop_type[j],\n",
    "                          bpps_sum[j], bpps_nb[j])\n",
    "\n",
    "            if j + 1 < seq_length: # edge between current node and next node\n",
    "                add_edges_between_base_nodes(edge_index, edge_features,\n",
    "                                             j, j + 1)\n",
    "\n",
    "            if pair_info[j] != -1:\n",
    "                if pair_info[j] not in paired_nodes:\n",
    "                    paired_nodes[pair_info[j]] = [j]\n",
    "                else:\n",
    "                    paired_nodes[pair_info[j]].append(j)\n",
    "\n",
    "            train_mask.append(j < seq_scored)\n",
    "            test_mask.append(True)\n",
    "            if is_train:\n",
    "                weights.append(sample_weight)\n",
    "\n",
    "        if add_edge_for_paired_nodes:\n",
    "            for pair in paired_nodes.values():\n",
    "                bpps_value = bpps[pair[0], pair[1]]\n",
    "                add_edges_between_paired_nodes(edge_index, edge_features,\n",
    "                                               pair[0], pair[1], bpps_value)\n",
    "\n",
    "        if add_codon_nodes:\n",
    "            codon_node_idx = seq_length - 1\n",
    "            for j in range(seq_length):\n",
    "                if j % 5 == 0: \n",
    "                    # add codon node\n",
    "                    add_codon_node(node_features)\n",
    "                    codon_node_idx += 1\n",
    "                    train_mask.append(False)\n",
    "                    test_mask.append(False)\n",
    "                    if is_train:\n",
    "                        weights.append(0)\n",
    "                        targets.append([0, 0, 0, 0, 0])\n",
    "\n",
    "                    if codon_node_idx > seq_length:\n",
    "                        # add edges between adjacent codon nodes\n",
    "                        add_edges_between_codon_nodes(edge_index, edge_features,\n",
    "                                                      codon_node_idx - 1,\n",
    "                                                      codon_node_idx)\n",
    "\n",
    "                # add edges between codon node and base node\n",
    "                add_edges_between_codon_and_base_node(edge_index, edge_features,\n",
    "                                                      j, codon_node_idx)\n",
    "\n",
    "        node_features = torch.tensor(node_features, dtype=torch.float)\n",
    "        edge_index = torch.tensor(edge_index, dtype=torch.long).t().contiguous()\n",
    "        edge_features = torch.tensor(edge_features, dtype=torch.float)\n",
    "\n",
    "        if is_train:\n",
    "            data.append(MyData(x=node_features, edge_index=edge_index,\n",
    "                               edge_attr=edge_features,\n",
    "                               train_mask=torch.tensor(train_mask),\n",
    "                               weight=torch.tensor(weights, dtype=torch.float),\n",
    "                               y=torch.tensor(targets, dtype=torch.float)))\n",
    "        else:\n",
    "            data.append(MyData(x=node_features, edge_index=edge_index,\n",
    "                               edge_attr=edge_features,\n",
    "                               test_mask=torch.tensor(test_mask)))\n",
    "\n",
    "    return data\n"
   ]
  },
  {
   "cell_type": "code",
   "execution_count": 5,
   "metadata": {},
   "outputs": [],
   "source": [
    "class MapE2NxN(torch.nn.Module):\n",
    "    def __init__(self, in_channels, out_channels, hidden_channels):\n",
    "        super(MapE2NxN, self).__init__()\n",
    "        self.linear1 = Linear(in_channels, hidden_channels)\n",
    "        self.linear2 = Linear(hidden_channels, out_channels)\n",
    "        self.dropout = Dropout(dropout3)\n",
    "\n",
    "    def forward(self, x):\n",
    "        x = self.linear1(x)\n",
    "        x = self.dropout(x)\n",
    "        x = self.linear2(x)\n",
    "        return x\n",
    "\n",
    "class MyDeeperGCN(torch.nn.Module):\n",
    "    def __init__(self, num_node_features, num_edge_features,\n",
    "                 node_hidden_channels,\n",
    "                 edge_hidden_channels,\n",
    "                 num_layers, num_classes):\n",
    "        super(MyDeeperGCN, self).__init__()\n",
    "\n",
    "        #self.node_encoder = ChebConv(num_node_features, node_hidden_channels, T)\n",
    "        self.node_encoder = ARMAConv(num_node_features, node_hidden_channels, num_stacks = 4, \n",
    "                                    num_layers = 8, dropout = 0.1) # improve CV && LB\n",
    "        self.edge_encoder = Linear(num_edge_features, edge_hidden_channels)\n",
    "\n",
    "        self.layers = torch.nn.ModuleList()\n",
    "        for i in range(1, num_layers + 1):\n",
    "            conv = NNConv(node_hidden_channels, node_hidden_channels,\n",
    "                          MapE2NxN(edge_hidden_channels,\n",
    "                                   node_hidden_channels * node_hidden_channels,\n",
    "                                   hidden_channels3))\n",
    "            norm = LayerNorm(node_hidden_channels, elementwise_affine=True)\n",
    "            act = ReLU(inplace=True)\n",
    "\n",
    "            layer = DeepGCNLayer(conv, norm, act, block='res+',\n",
    "                                 dropout=dropout1, ckpt_grad=i % 3)\n",
    "            self.layers.append(layer)\n",
    "\n",
    "        self.lin = Linear(node_hidden_channels, num_classes)\n",
    "        self.dropout = Dropout(dropout2)\n",
    "\n",
    "    def forward(self, data):\n",
    "        x = data.x\n",
    "        edge_index = data.edge_index\n",
    "        edge_attr = data.edge_attr\n",
    "\n",
    "        # edge for paired nodes are excluded for encoding node\n",
    "        seq_edge_index = edge_index[:, edge_attr[:,0] == 0]\n",
    "        x = self.node_encoder(x, seq_edge_index)\n",
    "\n",
    "        edge_attr = self.edge_encoder(edge_attr)\n",
    "\n",
    "        x = self.layers[0].conv(x, edge_index, edge_attr)\n",
    "\n",
    "        for layer in self.layers[1:]:\n",
    "            x = layer(x, edge_index, edge_attr)\n",
    "\n",
    "        x = self.layers[0].act(self.layers[0].norm(x))\n",
    "        x = self.dropout(x)\n",
    "\n",
    "        return self.lin(x)\n",
    "\n",
    "def weighted_mse_loss(prds, tgts, weight):\n",
    "    return torch.mean(weight * (prds - tgts)**2)\n",
    "\n",
    "def criterion(prds, tgts, weight=None):\n",
    "    if weight is None:\n",
    "        return (torch.sqrt(torch.nn.MSELoss()(prds[:,0], tgts[:,0])) +\n",
    "                torch.sqrt(torch.nn.MSELoss()(prds[:,1], tgts[:,1])) +\n",
    "                torch.sqrt(torch.nn.MSELoss()(prds[:,2], tgts[:,2])) + \n",
    "                torch.sqrt(torch.nn.MSELoss()(prds[:,3], tgts[:,3])) + \n",
    "                torch.sqrt(torch.nn.MSELoss()(prds[:,4], tgts[:,4]))) / nlabel\n",
    "    else:\n",
    "        return (torch.sqrt(weighted_mse_loss(prds[:,0], tgts[:,0], weight)) +\n",
    "                torch.sqrt(weighted_mse_loss(prds[:,1], tgts[:,1], weight)) +\n",
    "                torch.sqrt(weighted_mse_loss(prds[:,2], tgts[:,2], weight)) +\n",
    "               torch.sqrt(weighted_mse_loss(prds[:,3], tgts[:,3], weight)) +\n",
    "               torch.sqrt(weighted_mse_loss(prds[:,4], tgts[:,4], weight))) / nlabel\n",
    "\n",
    "# def criterion(y_actual, y_pred, weight=None, num_scored=3):\n",
    "#     score = 0\n",
    "#     for i in range(num_scored):\n",
    "#         score += torch.sqrt(((y_actual[:,i]-y_pred[:,i])**2).mean(0)) / num_scored\n",
    "#     if weight is not None:\n",
    "#         score *= weight\n",
    "#     return score.mean(0)\n",
    "    \n",
    "def build_id_seqpos(df):\n",
    "    id_seqpos = []\n",
    "    for i in range(len(df)):\n",
    "        id = df.loc[i, 'id']\n",
    "        seq_length = df.loc[i, 'seq_length']\n",
    "        for seqpos in range(seq_length):\n",
    "            id_seqpos.append(id + '_' + str(seqpos))\n",
    "    return id_seqpos\n",
    "\n",
    "def build_id_seqpos_68(df):\n",
    "    id_seqpos = []\n",
    "    for i in range(len(df)):\n",
    "        id = df.loc[i, 'id']\n",
    "        seq_length = df.loc[i, 'seq_scored']\n",
    "        for seqpos in range(seq_length):\n",
    "            id_seqpos.append(id + '_' + str(seqpos))\n",
    "    return id_seqpos\n",
    "\n",
    "def sample_is_clean(row):\n",
    "    return row['SN_filter'] == 1\n",
    "    #return row['signal_to_noise'] > 1 and \\\n",
    "    #       min((min(row['reactivity']),\n",
    "    #            min(row['deg_Mg_pH10']),\n",
    "    #            min(row['deg_pH10']),\n",
    "    #            min(row['deg_Mg_50C']),\n",
    "    #            min(row['deg_50C']))) > -0.5\n",
    "\n",
    "# categorical value for target (used for stratified kfold)\n",
    "def add_y_cat(df):\n",
    "    target_mean = df['reactivity'].apply(np.mean) + \\\n",
    "                  df['deg_Mg_pH10'].apply(np.mean) + \\\n",
    "                  df['deg_pH10'].apply(np.mean) + \\\n",
    "                  df['deg_Mg_50C'].apply(np.mean) + \\\n",
    "                  df['deg_50C'].apply(np.mean)\n",
    "    df['y_cat'] = pd.qcut(np.array(target_mean), q=20).codes"
   ]
  },
  {
   "cell_type": "code",
   "execution_count": 6,
   "metadata": {},
   "outputs": [],
   "source": [
    "def seed_everything(seed):\n",
    "    torch.manual_seed(seed)\n",
    "    torch.backends.cudnn.deterministic = True\n",
    "    torch.backends.cudnn.benchmark = False\n",
    "    torch.cuda.manual_seed(seed)\n",
    "    np.random.seed(seed)\n",
    "    random.seed(seed)\n",
    "    os.environ[\"PYTHONHASHSEED\"] = str(seed)\n",
    "    # not enough ? reproducibility issue still remains\n",
    "    \n",
    "seed_everything(seed)"
   ]
  },
  {
   "cell_type": "code",
   "execution_count": 7,
   "metadata": {},
   "outputs": [],
   "source": [
    "token2int = {x:i for i, x in enumerate('().ACGUBEHIMSX')}\n",
    "def preprocess_inputs(df, cols=['sequence', 'structure', 'predicted_loop_type']):\n",
    "    base_fea = np.transpose(\n",
    "        np.array(\n",
    "            df[cols]\n",
    "            .applymap(lambda seq: [token2int[x] for x in seq])\n",
    "            .values\n",
    "            .tolist()\n",
    "        ),\n",
    "        (0, 2, 1)\n",
    "    )\n",
    "    bpps_sum_fea = np.array(df['bpps_sum'].to_list())[:,:,np.newaxis]\n",
    "    bpps_max_fea = np.array(df['bpps_max'].to_list())[:,:,np.newaxis]\n",
    "    bpps_nb_fea = np.array(df['bpps_nb'].to_list())[:,:,np.newaxis]\n",
    "    return np.concatenate([base_fea,bpps_sum_fea,bpps_max_fea,bpps_nb_fea], 2)\n",
    "\n",
    "# additional features\n",
    "\n",
    "def read_bpps_sum(df):\n",
    "    bpps_arr = []\n",
    "    for mol_id in df.id.to_list():\n",
    "        bpps_arr.append(np.load(f\"../OpenVaccine/bpps/{mol_id}.npy\").sum(axis=1))\n",
    "    return bpps_arr\n",
    "\n",
    "def read_bpps_max(df):\n",
    "    bpps_arr = []\n",
    "    for mol_id in df.id.to_list():\n",
    "        bpps_arr.append(np.load(f\"../OpenVaccine/bpps/{mol_id}.npy\").max(axis=1))\n",
    "    return bpps_arr\n",
    "\n",
    "def read_bpps_nb(df):\n",
    "    # from https://www.kaggle.com/tuckerarrants/openvaccine-gru-lstm \n",
    "    bpps_nb_mean = 0.077522 # mean of bpps_nb across all training data\n",
    "    bpps_nb_std = 0.08914   # std of bpps_nb across all training data\n",
    "    bpps_arr = []\n",
    "    for mol_id in df.id.to_list():\n",
    "        bpps = np.load(f\"../OpenVaccine/bpps/{mol_id}.npy\")\n",
    "        bpps_nb = (bpps > 0).sum(axis=0) / bpps.shape[0]\n",
    "        bpps_nb = (bpps_nb - bpps_nb_mean) / bpps_nb_std\n",
    "        bpps_arr.append(bpps_nb)\n",
    "    return bpps_arr "
   ]
  },
  {
   "cell_type": "code",
   "execution_count": 8,
   "metadata": {},
   "outputs": [],
   "source": [
    "aug_df = pd.read_csv('../OpenVaccine/aug_data1.csv')\n",
    "\n",
    "def aug_data(df):\n",
    "    target_df = df.copy()\n",
    "    new_df = aug_df[aug_df['id'].isin(target_df['id'])]\n",
    "                         \n",
    "    del target_df['structure']\n",
    "    del target_df['predicted_loop_type']\n",
    "    new_df = new_df.merge(target_df, on=['id','sequence'], how='left')\n",
    "\n",
    "    df['cnt'] = df['id'].map(new_df[['id','cnt']].set_index('id').to_dict()['cnt'])\n",
    "    df['log_gamma'] = 100\n",
    "    df['score'] = 1.0\n",
    "    df = df.append(new_df[df.columns])\n",
    "    return df"
   ]
  },
  {
   "cell_type": "code",
   "execution_count": 9,
   "metadata": {},
   "outputs": [],
   "source": [
    "pseudo_df = pd.read_csv('../OpenVaccine/pseudo_test.csv')\n",
    "\n",
    "pseudo_df['SN_filter'] = 1\n",
    "pseudo_df['reactivity'] = pseudo_df['reactivity'].apply(lambda x: ast.literal_eval(x))\n",
    "pseudo_df['deg_Mg_pH10'] = pseudo_df['deg_Mg_pH10'].apply(lambda x: ast.literal_eval(x))\n",
    "pseudo_df['deg_pH10'] = pseudo_df['deg_pH10'].apply(lambda x: ast.literal_eval(x))\n",
    "pseudo_df['deg_Mg_50C'] = pseudo_df['deg_Mg_50C'].apply(lambda x: ast.literal_eval(x))\n",
    "pseudo_df['deg_50C'] = pseudo_df['deg_50C'].apply(lambda x: ast.literal_eval(x))"
   ]
  },
  {
   "cell_type": "code",
   "execution_count": 10,
   "metadata": {},
   "outputs": [
    {
     "name": "stderr",
     "output_type": "stream",
     "text": [
      "/home/thinh/anaconda3/lib/python3.7/site-packages/ipykernel_launcher.py:4: SettingWithCopyWarning: \n",
      "A value is trying to be set on a copy of a slice from a DataFrame.\n",
      "Try using .loc[row_indexer,col_indexer] = value instead\n",
      "\n",
      "See the caveats in the documentation: https://pandas.pydata.org/pandas-docs/stable/user_guide/indexing.html#returning-a-view-versus-a-copy\n",
      "  after removing the cwd from sys.path.\n",
      "/home/thinh/anaconda3/lib/python3.7/site-packages/ipykernel_launcher.py:5: SettingWithCopyWarning: \n",
      "A value is trying to be set on a copy of a slice from a DataFrame.\n",
      "Try using .loc[row_indexer,col_indexer] = value instead\n",
      "\n",
      "See the caveats in the documentation: https://pandas.pydata.org/pandas-docs/stable/user_guide/indexing.html#returning-a-view-versus-a-copy\n",
      "  \"\"\"\n",
      "/home/thinh/anaconda3/lib/python3.7/site-packages/ipykernel_launcher.py:6: SettingWithCopyWarning: \n",
      "A value is trying to be set on a copy of a slice from a DataFrame.\n",
      "Try using .loc[row_indexer,col_indexer] = value instead\n",
      "\n",
      "See the caveats in the documentation: https://pandas.pydata.org/pandas-docs/stable/user_guide/indexing.html#returning-a-view-versus-a-copy\n",
      "  \n",
      "/home/thinh/anaconda3/lib/python3.7/site-packages/ipykernel_launcher.py:7: SettingWithCopyWarning: \n",
      "A value is trying to be set on a copy of a slice from a DataFrame.\n",
      "Try using .loc[row_indexer,col_indexer] = value instead\n",
      "\n",
      "See the caveats in the documentation: https://pandas.pydata.org/pandas-docs/stable/user_guide/indexing.html#returning-a-view-versus-a-copy\n",
      "  import sys\n",
      "/home/thinh/anaconda3/lib/python3.7/site-packages/ipykernel_launcher.py:8: SettingWithCopyWarning: \n",
      "A value is trying to be set on a copy of a slice from a DataFrame.\n",
      "Try using .loc[row_indexer,col_indexer] = value instead\n",
      "\n",
      "See the caveats in the documentation: https://pandas.pydata.org/pandas-docs/stable/user_guide/indexing.html#returning-a-view-versus-a-copy\n",
      "  \n",
      "/home/thinh/anaconda3/lib/python3.7/site-packages/ipykernel_launcher.py:10: SettingWithCopyWarning: \n",
      "A value is trying to be set on a copy of a slice from a DataFrame.\n",
      "Try using .loc[row_indexer,col_indexer] = value instead\n",
      "\n",
      "See the caveats in the documentation: https://pandas.pydata.org/pandas-docs/stable/user_guide/indexing.html#returning-a-view-versus-a-copy\n",
      "  # Remove the CWD from sys.path while we load stuff.\n",
      "/home/thinh/anaconda3/lib/python3.7/site-packages/ipykernel_launcher.py:11: SettingWithCopyWarning: \n",
      "A value is trying to be set on a copy of a slice from a DataFrame.\n",
      "Try using .loc[row_indexer,col_indexer] = value instead\n",
      "\n",
      "See the caveats in the documentation: https://pandas.pydata.org/pandas-docs/stable/user_guide/indexing.html#returning-a-view-versus-a-copy\n",
      "  # This is added back by InteractiveShellApp.init_path()\n",
      "/home/thinh/anaconda3/lib/python3.7/site-packages/ipykernel_launcher.py:12: SettingWithCopyWarning: \n",
      "A value is trying to be set on a copy of a slice from a DataFrame.\n",
      "Try using .loc[row_indexer,col_indexer] = value instead\n",
      "\n",
      "See the caveats in the documentation: https://pandas.pydata.org/pandas-docs/stable/user_guide/indexing.html#returning-a-view-versus-a-copy\n",
      "  if sys.path[0] == '':\n",
      "/home/thinh/anaconda3/lib/python3.7/site-packages/ipykernel_launcher.py:13: SettingWithCopyWarning: \n",
      "A value is trying to be set on a copy of a slice from a DataFrame.\n",
      "Try using .loc[row_indexer,col_indexer] = value instead\n",
      "\n",
      "See the caveats in the documentation: https://pandas.pydata.org/pandas-docs/stable/user_guide/indexing.html#returning-a-view-versus-a-copy\n",
      "  del sys.path[0]\n",
      "/home/thinh/anaconda3/lib/python3.7/site-packages/ipykernel_launcher.py:14: SettingWithCopyWarning: \n",
      "A value is trying to be set on a copy of a slice from a DataFrame.\n",
      "Try using .loc[row_indexer,col_indexer] = value instead\n",
      "\n",
      "See the caveats in the documentation: https://pandas.pydata.org/pandas-docs/stable/user_guide/indexing.html#returning-a-view-versus-a-copy\n",
      "  \n"
     ]
    }
   ],
   "source": [
    "pseudo_st = pseudo_df[pseudo_df['seq_length'] == 107]\n",
    "pseudo_lg = pseudo_df[pseudo_df['seq_length'] == 130]\n",
    "\n",
    "pseudo_st['reactivity'] = pseudo_st['reactivity'].apply(lambda x: x[:68])\n",
    "pseudo_st['deg_Mg_pH10'] = pseudo_st['deg_Mg_pH10'].apply(lambda x: x[:68])\n",
    "pseudo_st['deg_pH10'] = pseudo_st['deg_pH10'].apply(lambda x: x[:68])\n",
    "pseudo_st['deg_Mg_50C'] = pseudo_st['deg_Mg_50C'].apply(lambda x: x[:68])\n",
    "pseudo_st['deg_50C'] = pseudo_st['deg_50C'].apply(lambda x: x[:68])\n",
    "\n",
    "pseudo_lg['reactivity'] = pseudo_lg['reactivity'].apply(lambda x: x[:91])\n",
    "pseudo_lg['deg_Mg_pH10'] = pseudo_lg['deg_Mg_pH10'].apply(lambda x: x[:91])\n",
    "pseudo_lg['deg_pH10'] = pseudo_lg['deg_pH10'].apply(lambda x: x[:91])\n",
    "pseudo_lg['deg_Mg_50C'] = pseudo_lg['deg_Mg_50C'].apply(lambda x: x[:91])\n",
    "pseudo_lg['deg_50C'] = pseudo_lg['deg_50C'].apply(lambda x: x[:91])"
   ]
  },
  {
   "cell_type": "code",
   "execution_count": 11,
   "metadata": {},
   "outputs": [],
   "source": [
    "pseudo_df = pseudo_st.append(pseudo_lg)"
   ]
  },
  {
   "cell_type": "code",
   "execution_count": 12,
   "metadata": {
    "scrolled": true
   },
   "outputs": [
    {
     "name": "stdout",
     "output_type": "stream",
     "text": [
      "Reading ../OpenVaccine/train.json\n",
      "Training\n",
      "Fold 0\n"
     ]
    },
    {
     "name": "stderr",
     "output_type": "stream",
     "text": [
      "\r",
      "  0%|          | 0/399 [00:00<?, ?it/s]"
     ]
    },
    {
     "name": "stdout",
     "output_type": "stream",
     "text": [
      "Epoch 0\n"
     ]
    },
    {
     "name": "stderr",
     "output_type": "stream",
     "text": [
      "100%|██████████| 399/399 [01:31<00:00,  4.36it/s]\n",
      "100%|██████████| 86/86 [00:06<00:00, 12.47it/s]\n",
      "  0%|          | 0/399 [00:00<?, ?it/s]"
     ]
    },
    {
     "name": "stdout",
     "output_type": "stream",
     "text": [
      "Train Loss: 0.2890 ---- Valid Loss: 0.2027 ---- Valid MCRMSE: 0.2137\n",
      "Best valid MCRMSE updated to 0.2137354612350464\n",
      "Epoch 1\n"
     ]
    },
    {
     "name": "stderr",
     "output_type": "stream",
     "text": [
      "100%|██████████| 399/399 [01:32<00:00,  4.31it/s]\n",
      "100%|██████████| 86/86 [00:06<00:00, 12.84it/s]\n",
      "  0%|          | 0/399 [00:00<?, ?it/s]"
     ]
    },
    {
     "name": "stdout",
     "output_type": "stream",
     "text": [
      "Train Loss: 0.2233 ---- Valid Loss: 0.1956 ---- Valid MCRMSE: 0.2083\n",
      "Best valid MCRMSE updated to 0.20834980905056\n",
      "Epoch 2\n"
     ]
    },
    {
     "name": "stderr",
     "output_type": "stream",
     "text": [
      "100%|██████████| 399/399 [01:32<00:00,  4.31it/s]\n",
      "100%|██████████| 86/86 [00:06<00:00, 12.84it/s]\n",
      "  0%|          | 0/399 [00:00<?, ?it/s]"
     ]
    },
    {
     "name": "stdout",
     "output_type": "stream",
     "text": [
      "Train Loss: 0.2028 ---- Valid Loss: 0.1647 ---- Valid MCRMSE: 0.1807\n",
      "Best valid MCRMSE updated to 0.18074563145637512\n",
      "Epoch 3\n"
     ]
    },
    {
     "name": "stderr",
     "output_type": "stream",
     "text": [
      "100%|██████████| 399/399 [01:32<00:00,  4.30it/s]\n",
      "100%|██████████| 86/86 [00:06<00:00, 12.87it/s]\n",
      "  0%|          | 0/399 [00:00<?, ?it/s]"
     ]
    },
    {
     "name": "stdout",
     "output_type": "stream",
     "text": [
      "Train Loss: 0.1918 ---- Valid Loss: 0.1622 ---- Valid MCRMSE: 0.1764\n",
      "Best valid MCRMSE updated to 0.17635397613048553\n",
      "Epoch 4\n"
     ]
    },
    {
     "name": "stderr",
     "output_type": "stream",
     "text": [
      "100%|██████████| 399/399 [01:32<00:00,  4.30it/s]\n",
      "100%|██████████| 86/86 [00:06<00:00, 12.85it/s]\n",
      "  0%|          | 0/399 [00:00<?, ?it/s]"
     ]
    },
    {
     "name": "stdout",
     "output_type": "stream",
     "text": [
      "Train Loss: 0.1853 ---- Valid Loss: 0.1496 ---- Valid MCRMSE: 0.1685\n",
      "Best valid MCRMSE updated to 0.1685090810060501\n",
      "Epoch 5\n"
     ]
    },
    {
     "name": "stderr",
     "output_type": "stream",
     "text": [
      "100%|██████████| 399/399 [01:32<00:00,  4.31it/s]\n",
      "100%|██████████| 86/86 [00:06<00:00, 12.88it/s]\n",
      "  0%|          | 0/399 [00:00<?, ?it/s]"
     ]
    },
    {
     "name": "stdout",
     "output_type": "stream",
     "text": [
      "Train Loss: 0.1803 ---- Valid Loss: 0.1490 ---- Valid MCRMSE: 0.1656\n",
      "Best valid MCRMSE updated to 0.16564618051052094\n",
      "Epoch 6\n"
     ]
    },
    {
     "name": "stderr",
     "output_type": "stream",
     "text": [
      "100%|██████████| 399/399 [01:32<00:00,  4.30it/s]\n",
      "100%|██████████| 86/86 [00:06<00:00, 12.84it/s]\n",
      "  0%|          | 0/399 [00:00<?, ?it/s]"
     ]
    },
    {
     "name": "stdout",
     "output_type": "stream",
     "text": [
      "Train Loss: 0.1763 ---- Valid Loss: 0.1447 ---- Valid MCRMSE: 0.1624\n",
      "Best valid MCRMSE updated to 0.16238299012184143\n",
      "Epoch 7\n"
     ]
    },
    {
     "name": "stderr",
     "output_type": "stream",
     "text": [
      "100%|██████████| 399/399 [01:32<00:00,  4.31it/s]\n",
      "100%|██████████| 86/86 [00:06<00:00, 12.88it/s]\n",
      "  0%|          | 0/399 [00:00<?, ?it/s]"
     ]
    },
    {
     "name": "stdout",
     "output_type": "stream",
     "text": [
      "Train Loss: 0.1721 ---- Valid Loss: 0.1411 ---- Valid MCRMSE: 0.1593\n",
      "Best valid MCRMSE updated to 0.15929245948791504\n",
      "Epoch 8\n"
     ]
    },
    {
     "name": "stderr",
     "output_type": "stream",
     "text": [
      "100%|██████████| 399/399 [01:32<00:00,  4.30it/s]\n",
      "100%|██████████| 86/86 [00:06<00:00, 12.87it/s]\n",
      "  0%|          | 0/399 [00:00<?, ?it/s]"
     ]
    },
    {
     "name": "stdout",
     "output_type": "stream",
     "text": [
      "Train Loss: 0.1696 ---- Valid Loss: 0.1377 ---- Valid MCRMSE: 0.1565\n",
      "Best valid MCRMSE updated to 0.15651097893714905\n",
      "Epoch 9\n"
     ]
    },
    {
     "name": "stderr",
     "output_type": "stream",
     "text": [
      "100%|██████████| 399/399 [01:32<00:00,  4.30it/s]\n",
      "100%|██████████| 86/86 [00:06<00:00, 12.87it/s]\n",
      "  0%|          | 0/399 [00:00<?, ?it/s]"
     ]
    },
    {
     "name": "stdout",
     "output_type": "stream",
     "text": [
      "Train Loss: 0.1663 ---- Valid Loss: 0.1376 ---- Valid MCRMSE: 0.1565\n",
      "Epoch 10\n"
     ]
    },
    {
     "name": "stderr",
     "output_type": "stream",
     "text": [
      "100%|██████████| 399/399 [01:32<00:00,  4.30it/s]\n",
      "100%|██████████| 86/86 [00:06<00:00, 12.87it/s]\n",
      "  0%|          | 0/399 [00:00<?, ?it/s]"
     ]
    },
    {
     "name": "stdout",
     "output_type": "stream",
     "text": [
      "Train Loss: 0.1641 ---- Valid Loss: 0.1351 ---- Valid MCRMSE: 0.1542\n",
      "Best valid MCRMSE updated to 0.15415683388710022\n",
      "Epoch 11\n"
     ]
    },
    {
     "name": "stderr",
     "output_type": "stream",
     "text": [
      "100%|██████████| 399/399 [01:32<00:00,  4.30it/s]\n",
      "100%|██████████| 86/86 [00:06<00:00, 12.86it/s]\n",
      "  0%|          | 0/399 [00:00<?, ?it/s]"
     ]
    },
    {
     "name": "stdout",
     "output_type": "stream",
     "text": [
      "Train Loss: 0.1618 ---- Valid Loss: 0.1353 ---- Valid MCRMSE: 0.1548\n",
      "Epoch 12\n"
     ]
    },
    {
     "name": "stderr",
     "output_type": "stream",
     "text": [
      "100%|██████████| 399/399 [01:32<00:00,  4.31it/s]\n",
      "100%|██████████| 86/86 [00:06<00:00, 12.89it/s]\n",
      "  0%|          | 0/399 [00:00<?, ?it/s]"
     ]
    },
    {
     "name": "stdout",
     "output_type": "stream",
     "text": [
      "Train Loss: 0.1599 ---- Valid Loss: 0.1350 ---- Valid MCRMSE: 0.1537\n",
      "Best valid MCRMSE updated to 0.15374162793159485\n",
      "Epoch 13\n"
     ]
    },
    {
     "name": "stderr",
     "output_type": "stream",
     "text": [
      "100%|██████████| 399/399 [01:32<00:00,  4.30it/s]\n",
      "100%|██████████| 86/86 [00:06<00:00, 12.90it/s]\n",
      "  0%|          | 0/399 [00:00<?, ?it/s]"
     ]
    },
    {
     "name": "stdout",
     "output_type": "stream",
     "text": [
      "Train Loss: 0.1581 ---- Valid Loss: 0.1377 ---- Valid MCRMSE: 0.1561\n",
      "Epoch 14\n"
     ]
    },
    {
     "name": "stderr",
     "output_type": "stream",
     "text": [
      "100%|██████████| 399/399 [01:32<00:00,  4.30it/s]\n",
      "100%|██████████| 86/86 [00:06<00:00, 12.88it/s]\n",
      "  0%|          | 0/399 [00:00<?, ?it/s]"
     ]
    },
    {
     "name": "stdout",
     "output_type": "stream",
     "text": [
      "Train Loss: 0.1562 ---- Valid Loss: 0.1377 ---- Valid MCRMSE: 0.1562\n",
      "Epoch 15\n"
     ]
    },
    {
     "name": "stderr",
     "output_type": "stream",
     "text": [
      "100%|██████████| 399/399 [01:32<00:00,  4.31it/s]\n",
      "100%|██████████| 86/86 [00:06<00:00, 12.88it/s]\n",
      "  0%|          | 0/399 [00:00<?, ?it/s]"
     ]
    },
    {
     "name": "stdout",
     "output_type": "stream",
     "text": [
      "Train Loss: 0.1542 ---- Valid Loss: 0.1334 ---- Valid MCRMSE: 0.1524\n",
      "Best valid MCRMSE updated to 0.15239040553569794\n",
      "Epoch 16\n"
     ]
    },
    {
     "name": "stderr",
     "output_type": "stream",
     "text": [
      "100%|██████████| 399/399 [01:32<00:00,  4.30it/s]\n",
      "100%|██████████| 86/86 [00:06<00:00, 12.88it/s]\n",
      "  0%|          | 0/399 [00:00<?, ?it/s]"
     ]
    },
    {
     "name": "stdout",
     "output_type": "stream",
     "text": [
      "Train Loss: 0.1531 ---- Valid Loss: 0.1390 ---- Valid MCRMSE: 0.1548\n",
      "Epoch 17\n"
     ]
    },
    {
     "name": "stderr",
     "output_type": "stream",
     "text": [
      "100%|██████████| 399/399 [01:32<00:00,  4.30it/s]\n",
      "100%|██████████| 86/86 [00:06<00:00, 12.85it/s]\n",
      "  0%|          | 0/399 [00:00<?, ?it/s]"
     ]
    },
    {
     "name": "stdout",
     "output_type": "stream",
     "text": [
      "Train Loss: 0.1515 ---- Valid Loss: 0.1292 ---- Valid MCRMSE: 0.1479\n",
      "Best valid MCRMSE updated to 0.14789600670337677\n",
      "Epoch 18\n"
     ]
    },
    {
     "name": "stderr",
     "output_type": "stream",
     "text": [
      "100%|██████████| 399/399 [01:32<00:00,  4.30it/s]\n",
      "100%|██████████| 86/86 [00:06<00:00, 12.88it/s]\n",
      "  0%|          | 0/399 [00:00<?, ?it/s]"
     ]
    },
    {
     "name": "stdout",
     "output_type": "stream",
     "text": [
      "Train Loss: 0.1498 ---- Valid Loss: 0.1294 ---- Valid MCRMSE: 0.1487\n",
      "Epoch 19\n"
     ]
    },
    {
     "name": "stderr",
     "output_type": "stream",
     "text": [
      "100%|██████████| 399/399 [01:32<00:00,  4.30it/s]\n",
      "100%|██████████| 86/86 [00:06<00:00, 12.85it/s]\n",
      "  0%|          | 0/399 [00:00<?, ?it/s]"
     ]
    },
    {
     "name": "stdout",
     "output_type": "stream",
     "text": [
      "Train Loss: 0.1485 ---- Valid Loss: 0.1305 ---- Valid MCRMSE: 0.1501\n",
      "Epoch 20\n"
     ]
    },
    {
     "name": "stderr",
     "output_type": "stream",
     "text": [
      "100%|██████████| 399/399 [01:32<00:00,  4.30it/s]\n",
      "100%|██████████| 86/86 [00:06<00:00, 12.87it/s]\n",
      "  0%|          | 0/399 [00:00<?, ?it/s]"
     ]
    },
    {
     "name": "stdout",
     "output_type": "stream",
     "text": [
      "Train Loss: 0.1472 ---- Valid Loss: 0.1286 ---- Valid MCRMSE: 0.1475\n",
      "Best valid MCRMSE updated to 0.14750432968139648\n",
      "Epoch 21\n"
     ]
    },
    {
     "name": "stderr",
     "output_type": "stream",
     "text": [
      "100%|██████████| 399/399 [01:32<00:00,  4.30it/s]\n",
      "100%|██████████| 86/86 [00:06<00:00, 12.85it/s]\n",
      "  0%|          | 0/399 [00:00<?, ?it/s]"
     ]
    },
    {
     "name": "stdout",
     "output_type": "stream",
     "text": [
      "Train Loss: 0.1461 ---- Valid Loss: 0.1295 ---- Valid MCRMSE: 0.1484\n",
      "Epoch 22\n"
     ]
    },
    {
     "name": "stderr",
     "output_type": "stream",
     "text": [
      "100%|██████████| 399/399 [01:32<00:00,  4.31it/s]\n",
      "100%|██████████| 86/86 [00:06<00:00, 12.89it/s]\n",
      "  0%|          | 0/399 [00:00<?, ?it/s]"
     ]
    },
    {
     "name": "stdout",
     "output_type": "stream",
     "text": [
      "Train Loss: 0.1447 ---- Valid Loss: 0.1298 ---- Valid MCRMSE: 0.1489\n",
      "Epoch 23\n"
     ]
    },
    {
     "name": "stderr",
     "output_type": "stream",
     "text": [
      "100%|██████████| 399/399 [01:32<00:00,  4.30it/s]\n",
      "100%|██████████| 86/86 [00:06<00:00, 12.91it/s]\n",
      "  0%|          | 0/399 [00:00<?, ?it/s]"
     ]
    },
    {
     "name": "stdout",
     "output_type": "stream",
     "text": [
      "Train Loss: 0.1444 ---- Valid Loss: 0.1294 ---- Valid MCRMSE: 0.1477\n",
      "Epoch 24\n"
     ]
    },
    {
     "name": "stderr",
     "output_type": "stream",
     "text": [
      "100%|██████████| 399/399 [01:32<00:00,  4.31it/s]\n",
      "100%|██████████| 86/86 [00:06<00:00, 12.89it/s]\n",
      "  0%|          | 0/399 [00:00<?, ?it/s]"
     ]
    },
    {
     "name": "stdout",
     "output_type": "stream",
     "text": [
      "Train Loss: 0.1424 ---- Valid Loss: 0.1287 ---- Valid MCRMSE: 0.1471\n",
      "Best valid MCRMSE updated to 0.1470675766468048\n",
      "Epoch 25\n"
     ]
    },
    {
     "name": "stderr",
     "output_type": "stream",
     "text": [
      "100%|██████████| 399/399 [01:32<00:00,  4.30it/s]\n",
      "100%|██████████| 86/86 [00:06<00:00, 12.86it/s]\n",
      "  0%|          | 0/399 [00:00<?, ?it/s]"
     ]
    },
    {
     "name": "stdout",
     "output_type": "stream",
     "text": [
      "Train Loss: 0.1425 ---- Valid Loss: 0.1349 ---- Valid MCRMSE: 0.1525\n",
      "Epoch 26\n"
     ]
    },
    {
     "name": "stderr",
     "output_type": "stream",
     "text": [
      "100%|██████████| 399/399 [01:32<00:00,  4.30it/s]\n",
      "100%|██████████| 86/86 [00:06<00:00, 12.88it/s]\n",
      "  0%|          | 0/399 [00:00<?, ?it/s]"
     ]
    },
    {
     "name": "stdout",
     "output_type": "stream",
     "text": [
      "Train Loss: 0.1413 ---- Valid Loss: 0.1290 ---- Valid MCRMSE: 0.1475\n",
      "Epoch 27\n"
     ]
    },
    {
     "name": "stderr",
     "output_type": "stream",
     "text": [
      "100%|██████████| 399/399 [01:32<00:00,  4.30it/s]\n",
      "100%|██████████| 86/86 [00:06<00:00, 12.82it/s]\n",
      "  0%|          | 0/399 [00:00<?, ?it/s]"
     ]
    },
    {
     "name": "stdout",
     "output_type": "stream",
     "text": [
      "Train Loss: 0.1398 ---- Valid Loss: 0.1256 ---- Valid MCRMSE: 0.1456\n",
      "Best valid MCRMSE updated to 0.14561930298805237\n",
      "Epoch 28\n"
     ]
    },
    {
     "name": "stderr",
     "output_type": "stream",
     "text": [
      "100%|██████████| 399/399 [01:32<00:00,  4.29it/s]\n",
      "100%|██████████| 86/86 [00:06<00:00, 12.86it/s]\n",
      "  0%|          | 0/399 [00:00<?, ?it/s]"
     ]
    },
    {
     "name": "stdout",
     "output_type": "stream",
     "text": [
      "Train Loss: 0.1391 ---- Valid Loss: 0.1253 ---- Valid MCRMSE: 0.1456\n",
      "Best valid MCRMSE updated to 0.14561347663402557\n",
      "Epoch 29\n"
     ]
    },
    {
     "name": "stderr",
     "output_type": "stream",
     "text": [
      "100%|██████████| 399/399 [01:32<00:00,  4.30it/s]\n",
      "100%|██████████| 86/86 [00:06<00:00, 12.90it/s]\n",
      "  0%|          | 0/399 [00:00<?, ?it/s]"
     ]
    },
    {
     "name": "stdout",
     "output_type": "stream",
     "text": [
      "Train Loss: 0.1381 ---- Valid Loss: 0.1268 ---- Valid MCRMSE: 0.1455\n",
      "Best valid MCRMSE updated to 0.14554205536842346\n",
      "Epoch 30\n"
     ]
    },
    {
     "name": "stderr",
     "output_type": "stream",
     "text": [
      "100%|██████████| 399/399 [01:32<00:00,  4.31it/s]\n",
      "100%|██████████| 86/86 [00:06<00:00, 12.85it/s]\n",
      "  0%|          | 0/399 [00:00<?, ?it/s]"
     ]
    },
    {
     "name": "stdout",
     "output_type": "stream",
     "text": [
      "Train Loss: 0.1375 ---- Valid Loss: 0.1246 ---- Valid MCRMSE: 0.1445\n",
      "Best valid MCRMSE updated to 0.14449667930603027\n",
      "Epoch 31\n"
     ]
    },
    {
     "name": "stderr",
     "output_type": "stream",
     "text": [
      "100%|██████████| 399/399 [01:32<00:00,  4.31it/s]\n",
      "100%|██████████| 86/86 [00:06<00:00, 12.87it/s]\n",
      "  0%|          | 0/399 [00:00<?, ?it/s]"
     ]
    },
    {
     "name": "stdout",
     "output_type": "stream",
     "text": [
      "Train Loss: 0.1370 ---- Valid Loss: 0.1265 ---- Valid MCRMSE: 0.1460\n",
      "Epoch 32\n"
     ]
    },
    {
     "name": "stderr",
     "output_type": "stream",
     "text": [
      "100%|██████████| 399/399 [01:32<00:00,  4.30it/s]\n",
      "100%|██████████| 86/86 [00:06<00:00, 12.86it/s]\n",
      "  0%|          | 0/399 [00:00<?, ?it/s]"
     ]
    },
    {
     "name": "stdout",
     "output_type": "stream",
     "text": [
      "Train Loss: 0.1360 ---- Valid Loss: 0.1240 ---- Valid MCRMSE: 0.1436\n",
      "Best valid MCRMSE updated to 0.14357711374759674\n",
      "Epoch 33\n"
     ]
    },
    {
     "name": "stderr",
     "output_type": "stream",
     "text": [
      "100%|██████████| 399/399 [01:32<00:00,  4.30it/s]\n",
      "100%|██████████| 86/86 [00:06<00:00, 12.86it/s]\n",
      "  0%|          | 0/399 [00:00<?, ?it/s]"
     ]
    },
    {
     "name": "stdout",
     "output_type": "stream",
     "text": [
      "Train Loss: 0.1357 ---- Valid Loss: 0.1242 ---- Valid MCRMSE: 0.1436\n",
      "Epoch 34\n"
     ]
    },
    {
     "name": "stderr",
     "output_type": "stream",
     "text": [
      "100%|██████████| 399/399 [01:32<00:00,  4.30it/s]\n",
      "100%|██████████| 86/86 [00:06<00:00, 12.85it/s]\n",
      "  0%|          | 0/399 [00:00<?, ?it/s]"
     ]
    },
    {
     "name": "stdout",
     "output_type": "stream",
     "text": [
      "Train Loss: 0.1347 ---- Valid Loss: 0.1260 ---- Valid MCRMSE: 0.1459\n",
      "Epoch 35\n"
     ]
    },
    {
     "name": "stderr",
     "output_type": "stream",
     "text": [
      "100%|██████████| 399/399 [01:32<00:00,  4.30it/s]\n",
      "100%|██████████| 86/86 [00:06<00:00, 12.87it/s]\n",
      "  0%|          | 0/399 [00:00<?, ?it/s]"
     ]
    },
    {
     "name": "stdout",
     "output_type": "stream",
     "text": [
      "Train Loss: 0.1339 ---- Valid Loss: 0.1287 ---- Valid MCRMSE: 0.1465\n",
      "Epoch 36\n"
     ]
    },
    {
     "name": "stderr",
     "output_type": "stream",
     "text": [
      "100%|██████████| 399/399 [01:32<00:00,  4.31it/s]\n",
      "100%|██████████| 86/86 [00:06<00:00, 12.87it/s]\n",
      "  0%|          | 0/399 [00:00<?, ?it/s]"
     ]
    },
    {
     "name": "stdout",
     "output_type": "stream",
     "text": [
      "Train Loss: 0.1333 ---- Valid Loss: 0.1257 ---- Valid MCRMSE: 0.1459\n",
      "Epoch 37\n"
     ]
    },
    {
     "name": "stderr",
     "output_type": "stream",
     "text": [
      "100%|██████████| 399/399 [01:32<00:00,  4.31it/s]\n",
      "100%|██████████| 86/86 [00:06<00:00, 12.89it/s]\n",
      "  0%|          | 0/399 [00:00<?, ?it/s]"
     ]
    },
    {
     "name": "stdout",
     "output_type": "stream",
     "text": [
      "Train Loss: 0.1326 ---- Valid Loss: 0.1246 ---- Valid MCRMSE: 0.1442\n",
      "Epoch 38\n"
     ]
    },
    {
     "name": "stderr",
     "output_type": "stream",
     "text": [
      "100%|██████████| 399/399 [01:32<00:00,  4.30it/s]\n",
      "100%|██████████| 86/86 [00:06<00:00, 12.89it/s]\n",
      "  0%|          | 0/399 [00:00<?, ?it/s]"
     ]
    },
    {
     "name": "stdout",
     "output_type": "stream",
     "text": [
      "Train Loss: 0.1319 ---- Valid Loss: 0.1279 ---- Valid MCRMSE: 0.1470\n",
      "Epoch 39\n"
     ]
    },
    {
     "name": "stderr",
     "output_type": "stream",
     "text": [
      "100%|██████████| 399/399 [01:32<00:00,  4.30it/s]\n",
      "100%|██████████| 86/86 [00:06<00:00, 12.86it/s]\n",
      "  0%|          | 0/399 [00:00<?, ?it/s]"
     ]
    },
    {
     "name": "stdout",
     "output_type": "stream",
     "text": [
      "Train Loss: 0.1315 ---- Valid Loss: 0.1241 ---- Valid MCRMSE: 0.1437\n",
      "Epoch 40\n"
     ]
    },
    {
     "name": "stderr",
     "output_type": "stream",
     "text": [
      "100%|██████████| 399/399 [01:32<00:00,  4.30it/s]\n",
      "100%|██████████| 86/86 [00:06<00:00, 12.89it/s]\n",
      "  0%|          | 0/399 [00:00<?, ?it/s]"
     ]
    },
    {
     "name": "stdout",
     "output_type": "stream",
     "text": [
      "Train Loss: 0.1314 ---- Valid Loss: 0.1237 ---- Valid MCRMSE: 0.1437\n",
      "Epoch 41\n"
     ]
    },
    {
     "name": "stderr",
     "output_type": "stream",
     "text": [
      "100%|██████████| 399/399 [01:32<00:00,  4.31it/s]\n",
      "100%|██████████| 86/86 [00:06<00:00, 12.88it/s]\n",
      "  0%|          | 0/399 [00:00<?, ?it/s]"
     ]
    },
    {
     "name": "stdout",
     "output_type": "stream",
     "text": [
      "Train Loss: 0.1302 ---- Valid Loss: 0.1227 ---- Valid MCRMSE: 0.1432\n",
      "Best valid MCRMSE updated to 0.1432315707206726\n",
      "Epoch 42\n"
     ]
    },
    {
     "name": "stderr",
     "output_type": "stream",
     "text": [
      "100%|██████████| 399/399 [01:32<00:00,  4.30it/s]\n",
      "100%|██████████| 86/86 [00:06<00:00, 12.88it/s]\n",
      "  0%|          | 0/399 [00:00<?, ?it/s]"
     ]
    },
    {
     "name": "stdout",
     "output_type": "stream",
     "text": [
      "Train Loss: 0.1303 ---- Valid Loss: 0.1223 ---- Valid MCRMSE: 0.1430\n",
      "Best valid MCRMSE updated to 0.14303746819496155\n",
      "Epoch 43\n"
     ]
    },
    {
     "name": "stderr",
     "output_type": "stream",
     "text": [
      "100%|██████████| 399/399 [01:32<00:00,  4.31it/s]\n",
      "100%|██████████| 86/86 [00:06<00:00, 12.84it/s]\n",
      "  0%|          | 0/399 [00:00<?, ?it/s]"
     ]
    },
    {
     "name": "stdout",
     "output_type": "stream",
     "text": [
      "Train Loss: 0.1287 ---- Valid Loss: 0.1251 ---- Valid MCRMSE: 0.1442\n",
      "Epoch 44\n"
     ]
    },
    {
     "name": "stderr",
     "output_type": "stream",
     "text": [
      "100%|██████████| 399/399 [01:32<00:00,  4.30it/s]\n",
      "100%|██████████| 86/86 [00:06<00:00, 12.90it/s]\n",
      "  0%|          | 0/399 [00:00<?, ?it/s]"
     ]
    },
    {
     "name": "stdout",
     "output_type": "stream",
     "text": [
      "Train Loss: 0.1287 ---- Valid Loss: 0.1246 ---- Valid MCRMSE: 0.1444\n",
      "Epoch 45\n"
     ]
    },
    {
     "name": "stderr",
     "output_type": "stream",
     "text": [
      "100%|██████████| 399/399 [01:32<00:00,  4.30it/s]\n",
      "100%|██████████| 86/86 [00:06<00:00, 12.84it/s]\n",
      "  0%|          | 0/399 [00:00<?, ?it/s]"
     ]
    },
    {
     "name": "stdout",
     "output_type": "stream",
     "text": [
      "Train Loss: 0.1284 ---- Valid Loss: 0.1261 ---- Valid MCRMSE: 0.1447\n",
      "Epoch 46\n"
     ]
    },
    {
     "name": "stderr",
     "output_type": "stream",
     "text": [
      "100%|██████████| 399/399 [01:32<00:00,  4.30it/s]\n",
      "100%|██████████| 86/86 [00:06<00:00, 12.89it/s]\n",
      "  0%|          | 0/399 [00:00<?, ?it/s]"
     ]
    },
    {
     "name": "stdout",
     "output_type": "stream",
     "text": [
      "Train Loss: 0.1275 ---- Valid Loss: 0.1221 ---- Valid MCRMSE: 0.1428\n",
      "Best valid MCRMSE updated to 0.14277347922325134\n",
      "Epoch 47\n"
     ]
    },
    {
     "name": "stderr",
     "output_type": "stream",
     "text": [
      "100%|██████████| 399/399 [01:32<00:00,  4.31it/s]\n",
      "100%|██████████| 86/86 [00:06<00:00, 12.88it/s]\n",
      "  0%|          | 0/399 [00:00<?, ?it/s]"
     ]
    },
    {
     "name": "stdout",
     "output_type": "stream",
     "text": [
      "Train Loss: 0.1272 ---- Valid Loss: 0.1238 ---- Valid MCRMSE: 0.1436\n",
      "Epoch 48\n"
     ]
    },
    {
     "name": "stderr",
     "output_type": "stream",
     "text": [
      "100%|██████████| 399/399 [01:32<00:00,  4.30it/s]\n",
      "100%|██████████| 86/86 [00:06<00:00, 12.89it/s]\n",
      "  0%|          | 0/399 [00:00<?, ?it/s]"
     ]
    },
    {
     "name": "stdout",
     "output_type": "stream",
     "text": [
      "Train Loss: 0.1267 ---- Valid Loss: 0.1234 ---- Valid MCRMSE: 0.1433\n",
      "Epoch 49\n"
     ]
    },
    {
     "name": "stderr",
     "output_type": "stream",
     "text": [
      "100%|██████████| 399/399 [01:32<00:00,  4.30it/s]\n",
      "100%|██████████| 86/86 [00:06<00:00, 12.85it/s]\n",
      "  0%|          | 0/399 [00:00<?, ?it/s]"
     ]
    },
    {
     "name": "stdout",
     "output_type": "stream",
     "text": [
      "Train Loss: 0.1260 ---- Valid Loss: 0.1239 ---- Valid MCRMSE: 0.1435\n",
      "Epoch 50\n"
     ]
    },
    {
     "name": "stderr",
     "output_type": "stream",
     "text": [
      "100%|██████████| 399/399 [01:32<00:00,  4.30it/s]\n",
      "100%|██████████| 86/86 [00:06<00:00, 12.83it/s]\n",
      "  0%|          | 0/399 [00:00<?, ?it/s]"
     ]
    },
    {
     "name": "stdout",
     "output_type": "stream",
     "text": [
      "Train Loss: 0.1256 ---- Valid Loss: 0.1218 ---- Valid MCRMSE: 0.1421\n",
      "Best valid MCRMSE updated to 0.14208638668060303\n",
      "Epoch 51\n"
     ]
    },
    {
     "name": "stderr",
     "output_type": "stream",
     "text": [
      "100%|██████████| 399/399 [01:32<00:00,  4.30it/s]\n",
      "100%|██████████| 86/86 [00:06<00:00, 12.88it/s]\n",
      "  0%|          | 0/399 [00:00<?, ?it/s]"
     ]
    },
    {
     "name": "stdout",
     "output_type": "stream",
     "text": [
      "Train Loss: 0.1251 ---- Valid Loss: 0.1221 ---- Valid MCRMSE: 0.1424\n",
      "Epoch 52\n"
     ]
    },
    {
     "name": "stderr",
     "output_type": "stream",
     "text": [
      "100%|██████████| 399/399 [01:32<00:00,  4.30it/s]\n",
      "100%|██████████| 86/86 [00:06<00:00, 12.88it/s]\n",
      "  0%|          | 0/399 [00:00<?, ?it/s]"
     ]
    },
    {
     "name": "stdout",
     "output_type": "stream",
     "text": [
      "Train Loss: 0.1250 ---- Valid Loss: 0.1237 ---- Valid MCRMSE: 0.1438\n",
      "Epoch 53\n"
     ]
    },
    {
     "name": "stderr",
     "output_type": "stream",
     "text": [
      "100%|██████████| 399/399 [01:32<00:00,  4.30it/s]\n",
      "100%|██████████| 86/86 [00:06<00:00, 12.85it/s]\n",
      "  0%|          | 0/399 [00:00<?, ?it/s]"
     ]
    },
    {
     "name": "stdout",
     "output_type": "stream",
     "text": [
      "Train Loss: 0.1246 ---- Valid Loss: 0.1225 ---- Valid MCRMSE: 0.1426\n",
      "Epoch 54\n"
     ]
    },
    {
     "name": "stderr",
     "output_type": "stream",
     "text": [
      "100%|██████████| 399/399 [01:32<00:00,  4.30it/s]\n",
      "100%|██████████| 86/86 [00:06<00:00, 12.83it/s]\n",
      "  0%|          | 0/399 [00:00<?, ?it/s]"
     ]
    },
    {
     "name": "stdout",
     "output_type": "stream",
     "text": [
      "Train Loss: 0.1241 ---- Valid Loss: 0.1231 ---- Valid MCRMSE: 0.1431\n",
      "Epoch 55\n"
     ]
    },
    {
     "name": "stderr",
     "output_type": "stream",
     "text": [
      "100%|██████████| 399/399 [01:32<00:00,  4.30it/s]\n",
      "100%|██████████| 86/86 [00:06<00:00, 12.87it/s]\n",
      "  0%|          | 0/399 [00:00<?, ?it/s]"
     ]
    },
    {
     "name": "stdout",
     "output_type": "stream",
     "text": [
      "Train Loss: 0.1241 ---- Valid Loss: 0.1214 ---- Valid MCRMSE: 0.1413\n",
      "Best valid MCRMSE updated to 0.14133833348751068\n",
      "Epoch 56\n"
     ]
    },
    {
     "name": "stderr",
     "output_type": "stream",
     "text": [
      "100%|██████████| 399/399 [01:32<00:00,  4.29it/s]\n",
      "100%|██████████| 86/86 [00:06<00:00, 12.86it/s]\n",
      "  0%|          | 0/399 [00:00<?, ?it/s]"
     ]
    },
    {
     "name": "stdout",
     "output_type": "stream",
     "text": [
      "Train Loss: 0.1233 ---- Valid Loss: 0.1233 ---- Valid MCRMSE: 0.1424\n",
      "Epoch 57\n"
     ]
    },
    {
     "name": "stderr",
     "output_type": "stream",
     "text": [
      "100%|██████████| 399/399 [01:32<00:00,  4.30it/s]\n",
      "100%|██████████| 86/86 [00:06<00:00, 12.88it/s]\n",
      "  0%|          | 0/399 [00:00<?, ?it/s]"
     ]
    },
    {
     "name": "stdout",
     "output_type": "stream",
     "text": [
      "Train Loss: 0.1224 ---- Valid Loss: 0.1220 ---- Valid MCRMSE: 0.1419\n",
      "Epoch 58\n"
     ]
    },
    {
     "name": "stderr",
     "output_type": "stream",
     "text": [
      "100%|██████████| 399/399 [01:32<00:00,  4.29it/s]\n",
      "100%|██████████| 86/86 [00:06<00:00, 12.86it/s]\n",
      "  0%|          | 0/399 [00:00<?, ?it/s]"
     ]
    },
    {
     "name": "stdout",
     "output_type": "stream",
     "text": [
      "Train Loss: 0.1228 ---- Valid Loss: 0.1243 ---- Valid MCRMSE: 0.1441\n",
      "Epoch 59\n"
     ]
    },
    {
     "name": "stderr",
     "output_type": "stream",
     "text": [
      "100%|██████████| 399/399 [01:32<00:00,  4.30it/s]\n",
      "100%|██████████| 86/86 [00:06<00:00, 12.87it/s]\n",
      "  0%|          | 0/399 [00:00<?, ?it/s]"
     ]
    },
    {
     "name": "stdout",
     "output_type": "stream",
     "text": [
      "Train Loss: 0.1221 ---- Valid Loss: 0.1229 ---- Valid MCRMSE: 0.1426\n",
      "Epoch 60\n"
     ]
    },
    {
     "name": "stderr",
     "output_type": "stream",
     "text": [
      "100%|██████████| 399/399 [01:32<00:00,  4.30it/s]\n",
      "100%|██████████| 86/86 [00:06<00:00, 12.85it/s]\n",
      "  0%|          | 0/399 [00:00<?, ?it/s]"
     ]
    },
    {
     "name": "stdout",
     "output_type": "stream",
     "text": [
      "Train Loss: 0.1220 ---- Valid Loss: 0.1242 ---- Valid MCRMSE: 0.1436\n",
      "Epoch 61\n"
     ]
    },
    {
     "name": "stderr",
     "output_type": "stream",
     "text": [
      "100%|██████████| 399/399 [01:32<00:00,  4.31it/s]\n",
      "100%|██████████| 86/86 [00:06<00:00, 12.87it/s]\n",
      "  0%|          | 0/399 [00:00<?, ?it/s]"
     ]
    },
    {
     "name": "stdout",
     "output_type": "stream",
     "text": [
      "Train Loss: 0.1214 ---- Valid Loss: 0.1243 ---- Valid MCRMSE: 0.1439\n",
      "Epoch 62\n"
     ]
    },
    {
     "name": "stderr",
     "output_type": "stream",
     "text": [
      "100%|██████████| 399/399 [01:32<00:00,  4.29it/s]\n",
      "100%|██████████| 86/86 [00:06<00:00, 12.86it/s]\n",
      "  0%|          | 0/399 [00:00<?, ?it/s]"
     ]
    },
    {
     "name": "stdout",
     "output_type": "stream",
     "text": [
      "Train Loss: 0.1211 ---- Valid Loss: 0.1214 ---- Valid MCRMSE: 0.1422\n",
      "Epoch 63\n"
     ]
    },
    {
     "name": "stderr",
     "output_type": "stream",
     "text": [
      "100%|██████████| 399/399 [01:32<00:00,  4.30it/s]\n",
      "100%|██████████| 86/86 [00:06<00:00, 12.87it/s]\n",
      "  0%|          | 0/399 [00:00<?, ?it/s]"
     ]
    },
    {
     "name": "stdout",
     "output_type": "stream",
     "text": [
      "Train Loss: 0.1203 ---- Valid Loss: 0.1215 ---- Valid MCRMSE: 0.1417\n",
      "Epoch 64\n"
     ]
    },
    {
     "name": "stderr",
     "output_type": "stream",
     "text": [
      "100%|██████████| 399/399 [01:32<00:00,  4.30it/s]\n",
      "100%|██████████| 86/86 [00:06<00:00, 12.87it/s]\n",
      "  0%|          | 0/399 [00:00<?, ?it/s]"
     ]
    },
    {
     "name": "stdout",
     "output_type": "stream",
     "text": [
      "Train Loss: 0.1202 ---- Valid Loss: 0.1209 ---- Valid MCRMSE: 0.1411\n",
      "Best valid MCRMSE updated to 0.14109423756599426\n",
      "Epoch 65\n"
     ]
    },
    {
     "name": "stderr",
     "output_type": "stream",
     "text": [
      "100%|██████████| 399/399 [01:32<00:00,  4.30it/s]\n",
      "100%|██████████| 86/86 [00:06<00:00, 12.86it/s]\n",
      "  0%|          | 0/399 [00:00<?, ?it/s]"
     ]
    },
    {
     "name": "stdout",
     "output_type": "stream",
     "text": [
      "Train Loss: 0.1197 ---- Valid Loss: 0.1219 ---- Valid MCRMSE: 0.1421\n",
      "Epoch 66\n"
     ]
    },
    {
     "name": "stderr",
     "output_type": "stream",
     "text": [
      "100%|██████████| 399/399 [01:32<00:00,  4.30it/s]\n",
      "100%|██████████| 86/86 [00:06<00:00, 12.87it/s]\n",
      "  0%|          | 0/399 [00:00<?, ?it/s]"
     ]
    },
    {
     "name": "stdout",
     "output_type": "stream",
     "text": [
      "Train Loss: 0.1194 ---- Valid Loss: 0.1208 ---- Valid MCRMSE: 0.1415\n",
      "Epoch 67\n"
     ]
    },
    {
     "name": "stderr",
     "output_type": "stream",
     "text": [
      "100%|██████████| 399/399 [01:32<00:00,  4.30it/s]\n",
      "100%|██████████| 86/86 [00:06<00:00, 12.86it/s]\n",
      "  0%|          | 0/399 [00:00<?, ?it/s]"
     ]
    },
    {
     "name": "stdout",
     "output_type": "stream",
     "text": [
      "Train Loss: 0.1197 ---- Valid Loss: 0.1205 ---- Valid MCRMSE: 0.1415\n",
      "Epoch 68\n"
     ]
    },
    {
     "name": "stderr",
     "output_type": "stream",
     "text": [
      "100%|██████████| 399/399 [01:32<00:00,  4.30it/s]\n",
      "100%|██████████| 86/86 [00:06<00:00, 12.86it/s]\n",
      "  0%|          | 0/399 [00:00<?, ?it/s]"
     ]
    },
    {
     "name": "stdout",
     "output_type": "stream",
     "text": [
      "Train Loss: 0.1190 ---- Valid Loss: 0.1207 ---- Valid MCRMSE: 0.1416\n",
      "Epoch 69\n"
     ]
    },
    {
     "name": "stderr",
     "output_type": "stream",
     "text": [
      "100%|██████████| 399/399 [01:32<00:00,  4.30it/s]\n",
      "100%|██████████| 86/86 [00:06<00:00, 12.87it/s]\n",
      "  0%|          | 0/399 [00:00<?, ?it/s]"
     ]
    },
    {
     "name": "stdout",
     "output_type": "stream",
     "text": [
      "Train Loss: 0.1185 ---- Valid Loss: 0.1213 ---- Valid MCRMSE: 0.1416\n",
      "Epoch 70\n"
     ]
    },
    {
     "name": "stderr",
     "output_type": "stream",
     "text": [
      "100%|██████████| 399/399 [01:32<00:00,  4.31it/s]\n",
      "100%|██████████| 86/86 [00:06<00:00, 12.87it/s]\n",
      "  0%|          | 0/399 [00:00<?, ?it/s]"
     ]
    },
    {
     "name": "stdout",
     "output_type": "stream",
     "text": [
      "Train Loss: 0.1186 ---- Valid Loss: 0.1244 ---- Valid MCRMSE: 0.1440\n",
      "Epoch 71\n"
     ]
    },
    {
     "name": "stderr",
     "output_type": "stream",
     "text": [
      "100%|██████████| 399/399 [01:32<00:00,  4.30it/s]\n",
      "100%|██████████| 86/86 [00:06<00:00, 12.87it/s]\n",
      "  0%|          | 0/399 [00:00<?, ?it/s]"
     ]
    },
    {
     "name": "stdout",
     "output_type": "stream",
     "text": [
      "Train Loss: 0.1179 ---- Valid Loss: 0.1231 ---- Valid MCRMSE: 0.1436\n",
      "Epoch 72\n"
     ]
    },
    {
     "name": "stderr",
     "output_type": "stream",
     "text": [
      "100%|██████████| 399/399 [01:32<00:00,  4.30it/s]\n",
      "100%|██████████| 86/86 [00:06<00:00, 12.91it/s]\n",
      "  0%|          | 0/399 [00:00<?, ?it/s]"
     ]
    },
    {
     "name": "stdout",
     "output_type": "stream",
     "text": [
      "Train Loss: 0.1176 ---- Valid Loss: 0.1214 ---- Valid MCRMSE: 0.1420\n",
      "Epoch 73\n"
     ]
    },
    {
     "name": "stderr",
     "output_type": "stream",
     "text": [
      "100%|██████████| 399/399 [01:32<00:00,  4.30it/s]\n",
      "100%|██████████| 86/86 [00:06<00:00, 12.88it/s]\n",
      "  0%|          | 0/399 [00:00<?, ?it/s]"
     ]
    },
    {
     "name": "stdout",
     "output_type": "stream",
     "text": [
      "Train Loss: 0.1178 ---- Valid Loss: 0.1213 ---- Valid MCRMSE: 0.1423\n",
      "Epoch 74\n"
     ]
    },
    {
     "name": "stderr",
     "output_type": "stream",
     "text": [
      "100%|██████████| 399/399 [01:32<00:00,  4.30it/s]\n",
      "100%|██████████| 86/86 [00:06<00:00, 12.89it/s]\n",
      "  0%|          | 0/399 [00:00<?, ?it/s]"
     ]
    },
    {
     "name": "stdout",
     "output_type": "stream",
     "text": [
      "Train Loss: 0.1179 ---- Valid Loss: 0.1204 ---- Valid MCRMSE: 0.1415\n",
      "Epoch 75\n"
     ]
    },
    {
     "name": "stderr",
     "output_type": "stream",
     "text": [
      "100%|██████████| 399/399 [01:32<00:00,  4.30it/s]\n",
      "100%|██████████| 86/86 [00:06<00:00, 12.88it/s]\n",
      "  0%|          | 0/399 [00:00<?, ?it/s]"
     ]
    },
    {
     "name": "stdout",
     "output_type": "stream",
     "text": [
      "Train Loss: 0.1168 ---- Valid Loss: 0.1212 ---- Valid MCRMSE: 0.1418\n",
      "Epoch 76\n"
     ]
    },
    {
     "name": "stderr",
     "output_type": "stream",
     "text": [
      "100%|██████████| 399/399 [01:32<00:00,  4.30it/s]\n",
      "100%|██████████| 86/86 [00:06<00:00, 12.88it/s]\n",
      "  0%|          | 0/399 [00:00<?, ?it/s]"
     ]
    },
    {
     "name": "stdout",
     "output_type": "stream",
     "text": [
      "Train Loss: 0.1166 ---- Valid Loss: 0.1216 ---- Valid MCRMSE: 0.1416\n",
      "Epoch 77\n"
     ]
    },
    {
     "name": "stderr",
     "output_type": "stream",
     "text": [
      "100%|██████████| 399/399 [01:32<00:00,  4.30it/s]\n",
      "100%|██████████| 86/86 [00:06<00:00, 12.87it/s]\n",
      "  0%|          | 0/399 [00:00<?, ?it/s]"
     ]
    },
    {
     "name": "stdout",
     "output_type": "stream",
     "text": [
      "Train Loss: 0.1164 ---- Valid Loss: 0.1217 ---- Valid MCRMSE: 0.1419\n",
      "Epoch 78\n"
     ]
    },
    {
     "name": "stderr",
     "output_type": "stream",
     "text": [
      "100%|██████████| 399/399 [01:32<00:00,  4.30it/s]\n",
      "100%|██████████| 86/86 [00:06<00:00, 12.86it/s]\n",
      "  0%|          | 0/399 [00:00<?, ?it/s]"
     ]
    },
    {
     "name": "stdout",
     "output_type": "stream",
     "text": [
      "Train Loss: 0.1160 ---- Valid Loss: 0.1206 ---- Valid MCRMSE: 0.1409\n",
      "Best valid MCRMSE updated to 0.1409400850534439\n",
      "Epoch 79\n"
     ]
    },
    {
     "name": "stderr",
     "output_type": "stream",
     "text": [
      "100%|██████████| 399/399 [01:32<00:00,  4.30it/s]\n",
      "100%|██████████| 86/86 [00:06<00:00, 12.87it/s]\n",
      "  0%|          | 0/399 [00:00<?, ?it/s]"
     ]
    },
    {
     "name": "stdout",
     "output_type": "stream",
     "text": [
      "Train Loss: 0.1157 ---- Valid Loss: 0.1231 ---- Valid MCRMSE: 0.1439\n",
      "Epoch 80\n"
     ]
    },
    {
     "name": "stderr",
     "output_type": "stream",
     "text": [
      "100%|██████████| 399/399 [01:32<00:00,  4.30it/s]\n",
      "100%|██████████| 86/86 [00:06<00:00, 12.85it/s]\n",
      "  0%|          | 0/399 [00:00<?, ?it/s]"
     ]
    },
    {
     "name": "stdout",
     "output_type": "stream",
     "text": [
      "Train Loss: 0.1157 ---- Valid Loss: 0.1205 ---- Valid MCRMSE: 0.1406\n",
      "Best valid MCRMSE updated to 0.1406397819519043\n",
      "Epoch 81\n"
     ]
    },
    {
     "name": "stderr",
     "output_type": "stream",
     "text": [
      "100%|██████████| 399/399 [01:32<00:00,  4.31it/s]\n",
      "100%|██████████| 86/86 [00:06<00:00, 12.87it/s]\n",
      "  0%|          | 0/399 [00:00<?, ?it/s]"
     ]
    },
    {
     "name": "stdout",
     "output_type": "stream",
     "text": [
      "Train Loss: 0.1151 ---- Valid Loss: 0.1206 ---- Valid MCRMSE: 0.1410\n",
      "Epoch 82\n"
     ]
    },
    {
     "name": "stderr",
     "output_type": "stream",
     "text": [
      "100%|██████████| 399/399 [01:32<00:00,  4.29it/s]\n",
      "100%|██████████| 86/86 [00:06<00:00, 12.85it/s]\n",
      "  0%|          | 0/399 [00:00<?, ?it/s]"
     ]
    },
    {
     "name": "stdout",
     "output_type": "stream",
     "text": [
      "Train Loss: 0.1149 ---- Valid Loss: 0.1209 ---- Valid MCRMSE: 0.1420\n",
      "Epoch 83\n"
     ]
    },
    {
     "name": "stderr",
     "output_type": "stream",
     "text": [
      "100%|██████████| 399/399 [01:32<00:00,  4.30it/s]\n",
      "100%|██████████| 86/86 [00:06<00:00, 12.87it/s]\n",
      "  0%|          | 0/399 [00:00<?, ?it/s]"
     ]
    },
    {
     "name": "stdout",
     "output_type": "stream",
     "text": [
      "Train Loss: 0.1150 ---- Valid Loss: 0.1214 ---- Valid MCRMSE: 0.1418\n",
      "Epoch 84\n"
     ]
    },
    {
     "name": "stderr",
     "output_type": "stream",
     "text": [
      "100%|██████████| 399/399 [01:32<00:00,  4.31it/s]\n",
      "100%|██████████| 86/86 [00:06<00:00, 12.84it/s]\n",
      "  0%|          | 0/399 [00:00<?, ?it/s]"
     ]
    },
    {
     "name": "stdout",
     "output_type": "stream",
     "text": [
      "Train Loss: 0.1146 ---- Valid Loss: 0.1220 ---- Valid MCRMSE: 0.1416\n",
      "Epoch 85\n"
     ]
    },
    {
     "name": "stderr",
     "output_type": "stream",
     "text": [
      "100%|██████████| 399/399 [01:32<00:00,  4.30it/s]\n",
      "100%|██████████| 86/86 [00:06<00:00, 12.87it/s]\n",
      "  0%|          | 0/399 [00:00<?, ?it/s]"
     ]
    },
    {
     "name": "stdout",
     "output_type": "stream",
     "text": [
      "Train Loss: 0.1147 ---- Valid Loss: 0.1202 ---- Valid MCRMSE: 0.1409\n",
      "Epoch 86\n"
     ]
    },
    {
     "name": "stderr",
     "output_type": "stream",
     "text": [
      "100%|██████████| 399/399 [01:32<00:00,  4.30it/s]\n",
      "100%|██████████| 86/86 [00:06<00:00, 12.85it/s]\n",
      "  0%|          | 0/399 [00:00<?, ?it/s]"
     ]
    },
    {
     "name": "stdout",
     "output_type": "stream",
     "text": [
      "Train Loss: 0.1142 ---- Valid Loss: 0.1202 ---- Valid MCRMSE: 0.1409\n",
      "Epoch 87\n"
     ]
    },
    {
     "name": "stderr",
     "output_type": "stream",
     "text": [
      "100%|██████████| 399/399 [01:32<00:00,  4.30it/s]\n",
      "100%|██████████| 86/86 [00:06<00:00, 12.88it/s]\n",
      "  0%|          | 0/399 [00:00<?, ?it/s]"
     ]
    },
    {
     "name": "stdout",
     "output_type": "stream",
     "text": [
      "Train Loss: 0.1139 ---- Valid Loss: 0.1209 ---- Valid MCRMSE: 0.1419\n",
      "Epoch 88\n"
     ]
    },
    {
     "name": "stderr",
     "output_type": "stream",
     "text": [
      "100%|██████████| 399/399 [01:32<00:00,  4.30it/s]\n",
      "100%|██████████| 86/86 [00:06<00:00, 12.85it/s]\n",
      "  0%|          | 0/399 [00:00<?, ?it/s]"
     ]
    },
    {
     "name": "stdout",
     "output_type": "stream",
     "text": [
      "Train Loss: 0.1141 ---- Valid Loss: 0.1199 ---- Valid MCRMSE: 0.1406\n",
      "Best valid MCRMSE updated to 0.14058910310268402\n",
      "Epoch 89\n"
     ]
    },
    {
     "name": "stderr",
     "output_type": "stream",
     "text": [
      "100%|██████████| 399/399 [01:32<00:00,  4.31it/s]\n",
      "100%|██████████| 86/86 [00:06<00:00, 12.87it/s]\n",
      "  0%|          | 0/399 [00:00<?, ?it/s]"
     ]
    },
    {
     "name": "stdout",
     "output_type": "stream",
     "text": [
      "Train Loss: 0.1131 ---- Valid Loss: 0.1201 ---- Valid MCRMSE: 0.1412\n",
      "Epoch 90\n"
     ]
    },
    {
     "name": "stderr",
     "output_type": "stream",
     "text": [
      "100%|██████████| 399/399 [01:32<00:00,  4.30it/s]\n",
      "100%|██████████| 86/86 [00:06<00:00, 12.86it/s]\n",
      "  0%|          | 0/399 [00:00<?, ?it/s]"
     ]
    },
    {
     "name": "stdout",
     "output_type": "stream",
     "text": [
      "Train Loss: 0.1133 ---- Valid Loss: 0.1214 ---- Valid MCRMSE: 0.1418\n",
      "Epoch 91\n"
     ]
    },
    {
     "name": "stderr",
     "output_type": "stream",
     "text": [
      "100%|██████████| 399/399 [01:32<00:00,  4.30it/s]\n",
      "100%|██████████| 86/86 [00:06<00:00, 12.85it/s]\n",
      "  0%|          | 0/399 [00:00<?, ?it/s]"
     ]
    },
    {
     "name": "stdout",
     "output_type": "stream",
     "text": [
      "Train Loss: 0.1127 ---- Valid Loss: 0.1208 ---- Valid MCRMSE: 0.1413\n",
      "Epoch 92\n"
     ]
    },
    {
     "name": "stderr",
     "output_type": "stream",
     "text": [
      "100%|██████████| 399/399 [01:32<00:00,  4.30it/s]\n",
      "100%|██████████| 86/86 [00:06<00:00, 12.87it/s]\n",
      "  0%|          | 0/399 [00:00<?, ?it/s]"
     ]
    },
    {
     "name": "stdout",
     "output_type": "stream",
     "text": [
      "Train Loss: 0.1127 ---- Valid Loss: 0.1230 ---- Valid MCRMSE: 0.1428\n",
      "Epoch 93\n"
     ]
    },
    {
     "name": "stderr",
     "output_type": "stream",
     "text": [
      "100%|██████████| 399/399 [01:32<00:00,  4.30it/s]\n",
      "100%|██████████| 86/86 [00:06<00:00, 12.88it/s]\n",
      "  0%|          | 0/399 [00:00<?, ?it/s]"
     ]
    },
    {
     "name": "stdout",
     "output_type": "stream",
     "text": [
      "Train Loss: 0.1124 ---- Valid Loss: 0.1209 ---- Valid MCRMSE: 0.1417\n",
      "Epoch 94\n"
     ]
    },
    {
     "name": "stderr",
     "output_type": "stream",
     "text": [
      "100%|██████████| 399/399 [01:32<00:00,  4.30it/s]\n",
      "100%|██████████| 86/86 [00:06<00:00, 12.89it/s]\n",
      "  0%|          | 0/399 [00:00<?, ?it/s]"
     ]
    },
    {
     "name": "stdout",
     "output_type": "stream",
     "text": [
      "Train Loss: 0.1122 ---- Valid Loss: 0.1221 ---- Valid MCRMSE: 0.1424\n",
      "Epoch 95\n"
     ]
    },
    {
     "name": "stderr",
     "output_type": "stream",
     "text": [
      "100%|██████████| 399/399 [01:32<00:00,  4.30it/s]\n",
      "100%|██████████| 86/86 [00:06<00:00, 12.85it/s]\n",
      "  0%|          | 0/399 [00:00<?, ?it/s]"
     ]
    },
    {
     "name": "stdout",
     "output_type": "stream",
     "text": [
      "Train Loss: 0.1118 ---- Valid Loss: 0.1202 ---- Valid MCRMSE: 0.1413\n",
      "Epoch 96\n"
     ]
    },
    {
     "name": "stderr",
     "output_type": "stream",
     "text": [
      "100%|██████████| 399/399 [01:32<00:00,  4.30it/s]\n",
      "100%|██████████| 86/86 [00:06<00:00, 12.87it/s]\n",
      "  0%|          | 0/399 [00:00<?, ?it/s]"
     ]
    },
    {
     "name": "stdout",
     "output_type": "stream",
     "text": [
      "Train Loss: 0.1122 ---- Valid Loss: 0.1209 ---- Valid MCRMSE: 0.1417\n",
      "Epoch 97\n"
     ]
    },
    {
     "name": "stderr",
     "output_type": "stream",
     "text": [
      "100%|██████████| 399/399 [01:32<00:00,  4.30it/s]\n",
      "100%|██████████| 86/86 [00:06<00:00, 12.90it/s]\n",
      "  0%|          | 0/399 [00:00<?, ?it/s]"
     ]
    },
    {
     "name": "stdout",
     "output_type": "stream",
     "text": [
      "Train Loss: 0.1117 ---- Valid Loss: 0.1207 ---- Valid MCRMSE: 0.1417\n",
      "Epoch 98\n"
     ]
    },
    {
     "name": "stderr",
     "output_type": "stream",
     "text": [
      "100%|██████████| 399/399 [01:32<00:00,  4.30it/s]\n",
      "100%|██████████| 86/86 [00:06<00:00, 12.89it/s]\n",
      "  0%|          | 0/399 [00:00<?, ?it/s]"
     ]
    },
    {
     "name": "stdout",
     "output_type": "stream",
     "text": [
      "Train Loss: 0.1116 ---- Valid Loss: 0.1210 ---- Valid MCRMSE: 0.1417\n",
      "Epoch 99\n"
     ]
    },
    {
     "name": "stderr",
     "output_type": "stream",
     "text": [
      "100%|██████████| 399/399 [01:32<00:00,  4.30it/s]\n",
      "100%|██████████| 86/86 [00:06<00:00, 12.87it/s]\n",
      "  2%|▏         | 2/86 [00:00<00:06, 13.94it/s]"
     ]
    },
    {
     "name": "stdout",
     "output_type": "stream",
     "text": [
      "Train Loss: 0.1114 ---- Valid Loss: 0.1202 ---- Valid MCRMSE: 0.1407\n"
     ]
    },
    {
     "name": "stderr",
     "output_type": "stream",
     "text": [
      "100%|██████████| 86/86 [00:06<00:00, 12.94it/s]\n"
     ]
    },
    {
     "name": "stdout",
     "output_type": "stream",
     "text": [
      "Fold 1\n"
     ]
    },
    {
     "name": "stderr",
     "output_type": "stream",
     "text": [
      "\r",
      "  0%|          | 0/400 [00:00<?, ?it/s]"
     ]
    },
    {
     "name": "stdout",
     "output_type": "stream",
     "text": [
      "Epoch 0\n"
     ]
    },
    {
     "name": "stderr",
     "output_type": "stream",
     "text": [
      "100%|██████████| 400/400 [01:32<00:00,  4.30it/s]\n",
      "100%|██████████| 86/86 [00:06<00:00, 12.81it/s]\n",
      "  0%|          | 0/400 [00:00<?, ?it/s]"
     ]
    },
    {
     "name": "stdout",
     "output_type": "stream",
     "text": [
      "Train Loss: 0.2864 ---- Valid Loss: 0.1937 ---- Valid MCRMSE: 0.2073\n",
      "Best valid MCRMSE updated to 0.20726604759693146\n",
      "Epoch 1\n"
     ]
    },
    {
     "name": "stderr",
     "output_type": "stream",
     "text": [
      "100%|██████████| 400/400 [01:33<00:00,  4.29it/s]\n",
      "100%|██████████| 86/86 [00:06<00:00, 12.78it/s]\n",
      "  0%|          | 0/400 [00:00<?, ?it/s]"
     ]
    },
    {
     "name": "stdout",
     "output_type": "stream",
     "text": [
      "Train Loss: 0.2197 ---- Valid Loss: 0.1751 ---- Valid MCRMSE: 0.1893\n",
      "Best valid MCRMSE updated to 0.18932697176933289\n",
      "Epoch 2\n"
     ]
    },
    {
     "name": "stderr",
     "output_type": "stream",
     "text": [
      "100%|██████████| 400/400 [01:33<00:00,  4.28it/s]\n",
      "100%|██████████| 86/86 [00:06<00:00, 12.80it/s]\n",
      "  0%|          | 0/400 [00:00<?, ?it/s]"
     ]
    },
    {
     "name": "stdout",
     "output_type": "stream",
     "text": [
      "Train Loss: 0.2002 ---- Valid Loss: 0.1585 ---- Valid MCRMSE: 0.1766\n",
      "Best valid MCRMSE updated to 0.176613911986351\n",
      "Epoch 3\n"
     ]
    },
    {
     "name": "stderr",
     "output_type": "stream",
     "text": [
      "100%|██████████| 400/400 [01:33<00:00,  4.29it/s]\n",
      "100%|██████████| 86/86 [00:06<00:00, 12.85it/s]\n",
      "  0%|          | 0/400 [00:00<?, ?it/s]"
     ]
    },
    {
     "name": "stdout",
     "output_type": "stream",
     "text": [
      "Train Loss: 0.1888 ---- Valid Loss: 0.1501 ---- Valid MCRMSE: 0.1708\n",
      "Best valid MCRMSE updated to 0.17076800763607025\n",
      "Epoch 4\n"
     ]
    },
    {
     "name": "stderr",
     "output_type": "stream",
     "text": [
      "100%|██████████| 400/400 [01:33<00:00,  4.28it/s]\n",
      "100%|██████████| 86/86 [00:06<00:00, 12.80it/s]\n",
      "  0%|          | 0/400 [00:00<?, ?it/s]"
     ]
    },
    {
     "name": "stdout",
     "output_type": "stream",
     "text": [
      "Train Loss: 0.1833 ---- Valid Loss: 0.1476 ---- Valid MCRMSE: 0.1676\n",
      "Best valid MCRMSE updated to 0.16755077242851257\n",
      "Epoch 5\n"
     ]
    },
    {
     "name": "stderr",
     "output_type": "stream",
     "text": [
      "100%|██████████| 400/400 [01:33<00:00,  4.29it/s]\n",
      "100%|██████████| 86/86 [00:06<00:00, 12.83it/s]\n",
      "  0%|          | 0/400 [00:00<?, ?it/s]"
     ]
    },
    {
     "name": "stdout",
     "output_type": "stream",
     "text": [
      "Train Loss: 0.1778 ---- Valid Loss: 0.1446 ---- Valid MCRMSE: 0.1643\n",
      "Best valid MCRMSE updated to 0.16427932679653168\n",
      "Epoch 6\n"
     ]
    },
    {
     "name": "stderr",
     "output_type": "stream",
     "text": [
      "100%|██████████| 400/400 [01:33<00:00,  4.28it/s]\n",
      "100%|██████████| 86/86 [00:06<00:00, 12.75it/s]\n",
      "  0%|          | 0/400 [00:00<?, ?it/s]"
     ]
    },
    {
     "name": "stdout",
     "output_type": "stream",
     "text": [
      "Train Loss: 0.1741 ---- Valid Loss: 0.1414 ---- Valid MCRMSE: 0.1622\n",
      "Best valid MCRMSE updated to 0.16215352714061737\n",
      "Epoch 7\n"
     ]
    },
    {
     "name": "stderr",
     "output_type": "stream",
     "text": [
      "100%|██████████| 400/400 [01:33<00:00,  4.28it/s]\n",
      "100%|██████████| 86/86 [00:06<00:00, 12.81it/s]\n",
      "  0%|          | 0/400 [00:00<?, ?it/s]"
     ]
    },
    {
     "name": "stdout",
     "output_type": "stream",
     "text": [
      "Train Loss: 0.1706 ---- Valid Loss: 0.1404 ---- Valid MCRMSE: 0.1608\n",
      "Best valid MCRMSE updated to 0.16077537834644318\n",
      "Epoch 8\n"
     ]
    },
    {
     "name": "stderr",
     "output_type": "stream",
     "text": [
      "100%|██████████| 400/400 [01:33<00:00,  4.29it/s]\n",
      "100%|██████████| 86/86 [00:06<00:00, 12.78it/s]\n",
      "  0%|          | 0/400 [00:00<?, ?it/s]"
     ]
    },
    {
     "name": "stdout",
     "output_type": "stream",
     "text": [
      "Train Loss: 0.1680 ---- Valid Loss: 0.1429 ---- Valid MCRMSE: 0.1616\n",
      "Epoch 9\n"
     ]
    },
    {
     "name": "stderr",
     "output_type": "stream",
     "text": [
      "100%|██████████| 400/400 [01:33<00:00,  4.29it/s]\n",
      "100%|██████████| 86/86 [00:06<00:00, 12.81it/s]\n",
      "  0%|          | 0/400 [00:00<?, ?it/s]"
     ]
    },
    {
     "name": "stdout",
     "output_type": "stream",
     "text": [
      "Train Loss: 0.1648 ---- Valid Loss: 0.1344 ---- Valid MCRMSE: 0.1561\n",
      "Best valid MCRMSE updated to 0.1560862809419632\n",
      "Epoch 10\n"
     ]
    },
    {
     "name": "stderr",
     "output_type": "stream",
     "text": [
      "100%|██████████| 400/400 [01:33<00:00,  4.29it/s]\n",
      "100%|██████████| 86/86 [00:06<00:00, 12.83it/s]\n",
      "  0%|          | 0/400 [00:00<?, ?it/s]"
     ]
    },
    {
     "name": "stdout",
     "output_type": "stream",
     "text": [
      "Train Loss: 0.1624 ---- Valid Loss: 0.1435 ---- Valid MCRMSE: 0.1627\n",
      "Epoch 11\n"
     ]
    },
    {
     "name": "stderr",
     "output_type": "stream",
     "text": [
      "100%|██████████| 400/400 [01:33<00:00,  4.29it/s]\n",
      "100%|██████████| 86/86 [00:06<00:00, 12.81it/s]\n",
      "  0%|          | 0/400 [00:00<?, ?it/s]"
     ]
    },
    {
     "name": "stdout",
     "output_type": "stream",
     "text": [
      "Train Loss: 0.1601 ---- Valid Loss: 0.1350 ---- Valid MCRMSE: 0.1560\n",
      "Best valid MCRMSE updated to 0.1560167670249939\n",
      "Epoch 12\n"
     ]
    },
    {
     "name": "stderr",
     "output_type": "stream",
     "text": [
      "100%|██████████| 400/400 [01:33<00:00,  4.30it/s]\n",
      "100%|██████████| 86/86 [00:06<00:00, 12.80it/s]\n",
      "  0%|          | 0/400 [00:00<?, ?it/s]"
     ]
    },
    {
     "name": "stdout",
     "output_type": "stream",
     "text": [
      "Train Loss: 0.1585 ---- Valid Loss: 0.1320 ---- Valid MCRMSE: 0.1538\n",
      "Best valid MCRMSE updated to 0.15380539000034332\n",
      "Epoch 13\n"
     ]
    },
    {
     "name": "stderr",
     "output_type": "stream",
     "text": [
      "100%|██████████| 400/400 [01:33<00:00,  4.29it/s]\n",
      "100%|██████████| 86/86 [00:06<00:00, 12.82it/s]\n",
      "  0%|          | 0/400 [00:00<?, ?it/s]"
     ]
    },
    {
     "name": "stdout",
     "output_type": "stream",
     "text": [
      "Train Loss: 0.1561 ---- Valid Loss: 0.1316 ---- Valid MCRMSE: 0.1535\n",
      "Best valid MCRMSE updated to 0.15348860621452332\n",
      "Epoch 14\n"
     ]
    },
    {
     "name": "stderr",
     "output_type": "stream",
     "text": [
      "100%|██████████| 400/400 [01:33<00:00,  4.28it/s]\n",
      "100%|██████████| 86/86 [00:06<00:00, 12.84it/s]\n",
      "  0%|          | 0/400 [00:00<?, ?it/s]"
     ]
    },
    {
     "name": "stdout",
     "output_type": "stream",
     "text": [
      "Train Loss: 0.1541 ---- Valid Loss: 0.1317 ---- Valid MCRMSE: 0.1537\n",
      "Epoch 15\n"
     ]
    },
    {
     "name": "stderr",
     "output_type": "stream",
     "text": [
      "100%|██████████| 400/400 [01:33<00:00,  4.29it/s]\n",
      "100%|██████████| 86/86 [00:06<00:00, 12.79it/s]\n",
      "  0%|          | 0/400 [00:00<?, ?it/s]"
     ]
    },
    {
     "name": "stdout",
     "output_type": "stream",
     "text": [
      "Train Loss: 0.1528 ---- Valid Loss: 0.1312 ---- Valid MCRMSE: 0.1520\n",
      "Best valid MCRMSE updated to 0.15199501812458038\n",
      "Epoch 16\n"
     ]
    },
    {
     "name": "stderr",
     "output_type": "stream",
     "text": [
      "100%|██████████| 400/400 [01:33<00:00,  4.30it/s]\n",
      "100%|██████████| 86/86 [00:06<00:00, 12.82it/s]\n",
      "  0%|          | 0/400 [00:00<?, ?it/s]"
     ]
    },
    {
     "name": "stdout",
     "output_type": "stream",
     "text": [
      "Train Loss: 0.1511 ---- Valid Loss: 0.1307 ---- Valid MCRMSE: 0.1519\n",
      "Best valid MCRMSE updated to 0.15187127888202667\n",
      "Epoch 17\n"
     ]
    },
    {
     "name": "stderr",
     "output_type": "stream",
     "text": [
      "100%|██████████| 400/400 [01:33<00:00,  4.29it/s]\n",
      "100%|██████████| 86/86 [00:06<00:00, 12.76it/s]\n",
      "  0%|          | 0/400 [00:00<?, ?it/s]"
     ]
    },
    {
     "name": "stdout",
     "output_type": "stream",
     "text": [
      "Train Loss: 0.1500 ---- Valid Loss: 0.1390 ---- Valid MCRMSE: 0.1560\n",
      "Epoch 18\n"
     ]
    },
    {
     "name": "stderr",
     "output_type": "stream",
     "text": [
      "100%|██████████| 400/400 [01:33<00:00,  4.30it/s]\n",
      "100%|██████████| 86/86 [00:06<00:00, 12.80it/s]\n",
      "  0%|          | 0/400 [00:00<?, ?it/s]"
     ]
    },
    {
     "name": "stdout",
     "output_type": "stream",
     "text": [
      "Train Loss: 0.1482 ---- Valid Loss: 0.1327 ---- Valid MCRMSE: 0.1529\n",
      "Epoch 19\n"
     ]
    },
    {
     "name": "stderr",
     "output_type": "stream",
     "text": [
      "100%|██████████| 400/400 [01:33<00:00,  4.29it/s]\n",
      "100%|██████████| 86/86 [00:06<00:00, 12.78it/s]\n",
      "  0%|          | 0/400 [00:00<?, ?it/s]"
     ]
    },
    {
     "name": "stdout",
     "output_type": "stream",
     "text": [
      "Train Loss: 0.1471 ---- Valid Loss: 0.1271 ---- Valid MCRMSE: 0.1491\n",
      "Best valid MCRMSE updated to 0.14914865791797638\n",
      "Epoch 20\n"
     ]
    },
    {
     "name": "stderr",
     "output_type": "stream",
     "text": [
      "100%|██████████| 400/400 [01:33<00:00,  4.30it/s]\n",
      "100%|██████████| 86/86 [00:06<00:00, 12.81it/s]\n",
      "  0%|          | 0/400 [00:00<?, ?it/s]"
     ]
    },
    {
     "name": "stdout",
     "output_type": "stream",
     "text": [
      "Train Loss: 0.1455 ---- Valid Loss: 0.1302 ---- Valid MCRMSE: 0.1503\n",
      "Epoch 21\n"
     ]
    },
    {
     "name": "stderr",
     "output_type": "stream",
     "text": [
      "100%|██████████| 400/400 [01:33<00:00,  4.29it/s]\n",
      "100%|██████████| 86/86 [00:06<00:00, 12.83it/s]\n",
      "  0%|          | 0/400 [00:00<?, ?it/s]"
     ]
    },
    {
     "name": "stdout",
     "output_type": "stream",
     "text": [
      "Train Loss: 0.1443 ---- Valid Loss: 0.1290 ---- Valid MCRMSE: 0.1497\n",
      "Epoch 22\n"
     ]
    },
    {
     "name": "stderr",
     "output_type": "stream",
     "text": [
      "100%|██████████| 400/400 [01:33<00:00,  4.29it/s]\n",
      "100%|██████████| 86/86 [00:06<00:00, 12.81it/s]\n",
      "  0%|          | 0/400 [00:00<?, ?it/s]"
     ]
    },
    {
     "name": "stdout",
     "output_type": "stream",
     "text": [
      "Train Loss: 0.1434 ---- Valid Loss: 0.1275 ---- Valid MCRMSE: 0.1490\n",
      "Best valid MCRMSE updated to 0.14896096289157867\n",
      "Epoch 23\n"
     ]
    },
    {
     "name": "stderr",
     "output_type": "stream",
     "text": [
      "100%|██████████| 400/400 [01:33<00:00,  4.29it/s]\n",
      "100%|██████████| 86/86 [00:06<00:00, 12.82it/s]\n",
      "  0%|          | 0/400 [00:00<?, ?it/s]"
     ]
    },
    {
     "name": "stdout",
     "output_type": "stream",
     "text": [
      "Train Loss: 0.1424 ---- Valid Loss: 0.1259 ---- Valid MCRMSE: 0.1477\n",
      "Best valid MCRMSE updated to 0.14770105481147766\n",
      "Epoch 24\n"
     ]
    },
    {
     "name": "stderr",
     "output_type": "stream",
     "text": [
      "100%|██████████| 400/400 [01:33<00:00,  4.29it/s]\n",
      "100%|██████████| 86/86 [00:06<00:00, 12.76it/s]\n",
      "  0%|          | 0/400 [00:00<?, ?it/s]"
     ]
    },
    {
     "name": "stdout",
     "output_type": "stream",
     "text": [
      "Train Loss: 0.1414 ---- Valid Loss: 0.1268 ---- Valid MCRMSE: 0.1474\n",
      "Best valid MCRMSE updated to 0.147380068898201\n",
      "Epoch 25\n"
     ]
    },
    {
     "name": "stderr",
     "output_type": "stream",
     "text": [
      "100%|██████████| 400/400 [01:33<00:00,  4.29it/s]\n",
      "100%|██████████| 86/86 [00:06<00:00, 12.80it/s]\n",
      "  0%|          | 0/400 [00:00<?, ?it/s]"
     ]
    },
    {
     "name": "stdout",
     "output_type": "stream",
     "text": [
      "Train Loss: 0.1400 ---- Valid Loss: 0.1246 ---- Valid MCRMSE: 0.1465\n",
      "Best valid MCRMSE updated to 0.14654697477817535\n",
      "Epoch 26\n"
     ]
    },
    {
     "name": "stderr",
     "output_type": "stream",
     "text": [
      "100%|██████████| 400/400 [01:33<00:00,  4.29it/s]\n",
      "100%|██████████| 86/86 [00:06<00:00, 12.80it/s]\n",
      "  0%|          | 0/400 [00:00<?, ?it/s]"
     ]
    },
    {
     "name": "stdout",
     "output_type": "stream",
     "text": [
      "Train Loss: 0.1394 ---- Valid Loss: 0.1242 ---- Valid MCRMSE: 0.1464\n",
      "Best valid MCRMSE updated to 0.14644400775432587\n",
      "Epoch 27\n"
     ]
    },
    {
     "name": "stderr",
     "output_type": "stream",
     "text": [
      "100%|██████████| 400/400 [01:33<00:00,  4.28it/s]\n",
      "100%|██████████| 86/86 [00:06<00:00, 12.76it/s]\n",
      "  0%|          | 0/400 [00:00<?, ?it/s]"
     ]
    },
    {
     "name": "stdout",
     "output_type": "stream",
     "text": [
      "Train Loss: 0.1385 ---- Valid Loss: 0.1245 ---- Valid MCRMSE: 0.1463\n",
      "Best valid MCRMSE updated to 0.14632974565029144\n",
      "Epoch 28\n"
     ]
    },
    {
     "name": "stderr",
     "output_type": "stream",
     "text": [
      "100%|██████████| 400/400 [01:33<00:00,  4.29it/s]\n",
      "100%|██████████| 86/86 [00:06<00:00, 12.82it/s]\n",
      "  0%|          | 0/400 [00:00<?, ?it/s]"
     ]
    },
    {
     "name": "stdout",
     "output_type": "stream",
     "text": [
      "Train Loss: 0.1373 ---- Valid Loss: 0.1256 ---- Valid MCRMSE: 0.1468\n",
      "Epoch 29\n"
     ]
    },
    {
     "name": "stderr",
     "output_type": "stream",
     "text": [
      "100%|██████████| 400/400 [01:33<00:00,  4.29it/s]\n",
      "100%|██████████| 86/86 [00:06<00:00, 12.79it/s]\n",
      "  0%|          | 0/400 [00:00<?, ?it/s]"
     ]
    },
    {
     "name": "stdout",
     "output_type": "stream",
     "text": [
      "Train Loss: 0.1363 ---- Valid Loss: 0.1253 ---- Valid MCRMSE: 0.1460\n",
      "Best valid MCRMSE updated to 0.14603640139102936\n",
      "Epoch 30\n"
     ]
    },
    {
     "name": "stderr",
     "output_type": "stream",
     "text": [
      "100%|██████████| 400/400 [01:33<00:00,  4.29it/s]\n",
      "100%|██████████| 86/86 [00:06<00:00, 12.80it/s]\n",
      "  0%|          | 0/400 [00:00<?, ?it/s]"
     ]
    },
    {
     "name": "stdout",
     "output_type": "stream",
     "text": [
      "Train Loss: 0.1359 ---- Valid Loss: 0.1232 ---- Valid MCRMSE: 0.1449\n",
      "Best valid MCRMSE updated to 0.14486591517925262\n",
      "Epoch 31\n"
     ]
    },
    {
     "name": "stderr",
     "output_type": "stream",
     "text": [
      "100%|██████████| 400/400 [01:33<00:00,  4.28it/s]\n",
      "100%|██████████| 86/86 [00:06<00:00, 12.77it/s]\n",
      "  0%|          | 0/400 [00:00<?, ?it/s]"
     ]
    },
    {
     "name": "stdout",
     "output_type": "stream",
     "text": [
      "Train Loss: 0.1351 ---- Valid Loss: 0.1229 ---- Valid MCRMSE: 0.1447\n",
      "Best valid MCRMSE updated to 0.14468251168727875\n",
      "Epoch 32\n"
     ]
    },
    {
     "name": "stderr",
     "output_type": "stream",
     "text": [
      "100%|██████████| 400/400 [01:33<00:00,  4.29it/s]\n",
      "100%|██████████| 86/86 [00:06<00:00, 12.82it/s]\n",
      "  0%|          | 0/400 [00:00<?, ?it/s]"
     ]
    },
    {
     "name": "stdout",
     "output_type": "stream",
     "text": [
      "Train Loss: 0.1345 ---- Valid Loss: 0.1242 ---- Valid MCRMSE: 0.1454\n",
      "Epoch 33\n"
     ]
    },
    {
     "name": "stderr",
     "output_type": "stream",
     "text": [
      "100%|██████████| 400/400 [01:33<00:00,  4.29it/s]\n",
      "100%|██████████| 86/86 [00:06<00:00, 12.77it/s]\n",
      "  0%|          | 0/400 [00:00<?, ?it/s]"
     ]
    },
    {
     "name": "stdout",
     "output_type": "stream",
     "text": [
      "Train Loss: 0.1337 ---- Valid Loss: 0.1231 ---- Valid MCRMSE: 0.1452\n",
      "Epoch 34\n"
     ]
    },
    {
     "name": "stderr",
     "output_type": "stream",
     "text": [
      "100%|██████████| 400/400 [01:33<00:00,  4.29it/s]\n",
      "100%|██████████| 86/86 [00:06<00:00, 12.80it/s]\n",
      "  0%|          | 0/400 [00:00<?, ?it/s]"
     ]
    },
    {
     "name": "stdout",
     "output_type": "stream",
     "text": [
      "Train Loss: 0.1331 ---- Valid Loss: 0.1242 ---- Valid MCRMSE: 0.1453\n",
      "Epoch 35\n"
     ]
    },
    {
     "name": "stderr",
     "output_type": "stream",
     "text": [
      "100%|██████████| 400/400 [01:33<00:00,  4.29it/s]\n",
      "100%|██████████| 86/86 [00:06<00:00, 12.79it/s]\n",
      "  0%|          | 0/400 [00:00<?, ?it/s]"
     ]
    },
    {
     "name": "stdout",
     "output_type": "stream",
     "text": [
      "Train Loss: 0.1329 ---- Valid Loss: 0.1244 ---- Valid MCRMSE: 0.1456\n",
      "Epoch 36\n"
     ]
    },
    {
     "name": "stderr",
     "output_type": "stream",
     "text": [
      "100%|██████████| 400/400 [01:33<00:00,  4.29it/s]\n",
      "100%|██████████| 86/86 [00:06<00:00, 12.79it/s]\n",
      "  0%|          | 0/400 [00:00<?, ?it/s]"
     ]
    },
    {
     "name": "stdout",
     "output_type": "stream",
     "text": [
      "Train Loss: 0.1319 ---- Valid Loss: 0.1234 ---- Valid MCRMSE: 0.1445\n",
      "Best valid MCRMSE updated to 0.14448557794094086\n",
      "Epoch 37\n"
     ]
    },
    {
     "name": "stderr",
     "output_type": "stream",
     "text": [
      "100%|██████████| 400/400 [01:33<00:00,  4.30it/s]\n",
      "100%|██████████| 86/86 [00:06<00:00, 12.83it/s]\n",
      "  0%|          | 0/400 [00:00<?, ?it/s]"
     ]
    },
    {
     "name": "stdout",
     "output_type": "stream",
     "text": [
      "Train Loss: 0.1309 ---- Valid Loss: 0.1239 ---- Valid MCRMSE: 0.1454\n",
      "Epoch 38\n"
     ]
    },
    {
     "name": "stderr",
     "output_type": "stream",
     "text": [
      "100%|██████████| 400/400 [01:33<00:00,  4.29it/s]\n",
      "100%|██████████| 86/86 [00:06<00:00, 12.77it/s]\n",
      "  0%|          | 0/400 [00:00<?, ?it/s]"
     ]
    },
    {
     "name": "stdout",
     "output_type": "stream",
     "text": [
      "Train Loss: 0.1305 ---- Valid Loss: 0.1262 ---- Valid MCRMSE: 0.1468\n",
      "Epoch 39\n"
     ]
    },
    {
     "name": "stderr",
     "output_type": "stream",
     "text": [
      "100%|██████████| 400/400 [01:33<00:00,  4.29it/s]\n",
      "100%|██████████| 86/86 [00:06<00:00, 12.80it/s]\n",
      "  0%|          | 0/400 [00:00<?, ?it/s]"
     ]
    },
    {
     "name": "stdout",
     "output_type": "stream",
     "text": [
      "Train Loss: 0.1299 ---- Valid Loss: 0.1224 ---- Valid MCRMSE: 0.1437\n",
      "Best valid MCRMSE updated to 0.14367036521434784\n",
      "Epoch 40\n"
     ]
    },
    {
     "name": "stderr",
     "output_type": "stream",
     "text": [
      "100%|██████████| 400/400 [01:33<00:00,  4.29it/s]\n",
      "100%|██████████| 86/86 [00:06<00:00, 12.76it/s]\n",
      "  0%|          | 0/400 [00:00<?, ?it/s]"
     ]
    },
    {
     "name": "stdout",
     "output_type": "stream",
     "text": [
      "Train Loss: 0.1296 ---- Valid Loss: 0.1250 ---- Valid MCRMSE: 0.1458\n",
      "Epoch 41\n"
     ]
    },
    {
     "name": "stderr",
     "output_type": "stream",
     "text": [
      "100%|██████████| 400/400 [01:33<00:00,  4.30it/s]\n",
      "100%|██████████| 86/86 [00:06<00:00, 12.79it/s]\n",
      "  0%|          | 0/400 [00:00<?, ?it/s]"
     ]
    },
    {
     "name": "stdout",
     "output_type": "stream",
     "text": [
      "Train Loss: 0.1288 ---- Valid Loss: 0.1235 ---- Valid MCRMSE: 0.1444\n",
      "Epoch 42\n"
     ]
    },
    {
     "name": "stderr",
     "output_type": "stream",
     "text": [
      "100%|██████████| 400/400 [01:33<00:00,  4.29it/s]\n",
      "100%|██████████| 86/86 [00:06<00:00, 12.77it/s]\n",
      "  0%|          | 0/400 [00:00<?, ?it/s]"
     ]
    },
    {
     "name": "stdout",
     "output_type": "stream",
     "text": [
      "Train Loss: 0.1284 ---- Valid Loss: 0.1229 ---- Valid MCRMSE: 0.1440\n",
      "Epoch 43\n"
     ]
    },
    {
     "name": "stderr",
     "output_type": "stream",
     "text": [
      "100%|██████████| 400/400 [01:33<00:00,  4.29it/s]\n",
      "100%|██████████| 86/86 [00:06<00:00, 12.80it/s]\n",
      "  0%|          | 0/400 [00:00<?, ?it/s]"
     ]
    },
    {
     "name": "stdout",
     "output_type": "stream",
     "text": [
      "Train Loss: 0.1279 ---- Valid Loss: 0.1218 ---- Valid MCRMSE: 0.1433\n",
      "Best valid MCRMSE updated to 0.14325234293937683\n",
      "Epoch 44\n"
     ]
    },
    {
     "name": "stderr",
     "output_type": "stream",
     "text": [
      "100%|██████████| 400/400 [01:33<00:00,  4.29it/s]\n",
      "100%|██████████| 86/86 [00:06<00:00, 12.79it/s]\n",
      "  0%|          | 0/400 [00:00<?, ?it/s]"
     ]
    },
    {
     "name": "stdout",
     "output_type": "stream",
     "text": [
      "Train Loss: 0.1273 ---- Valid Loss: 0.1228 ---- Valid MCRMSE: 0.1443\n",
      "Epoch 45\n"
     ]
    },
    {
     "name": "stderr",
     "output_type": "stream",
     "text": [
      "100%|██████████| 400/400 [01:33<00:00,  4.29it/s]\n",
      "100%|██████████| 86/86 [00:06<00:00, 12.79it/s]\n",
      "  0%|          | 0/400 [00:00<?, ?it/s]"
     ]
    },
    {
     "name": "stdout",
     "output_type": "stream",
     "text": [
      "Train Loss: 0.1271 ---- Valid Loss: 0.1224 ---- Valid MCRMSE: 0.1438\n",
      "Epoch 46\n"
     ]
    },
    {
     "name": "stderr",
     "output_type": "stream",
     "text": [
      "100%|██████████| 400/400 [01:33<00:00,  4.29it/s]\n",
      "100%|██████████| 86/86 [00:06<00:00, 12.79it/s]\n",
      "  0%|          | 0/400 [00:00<?, ?it/s]"
     ]
    },
    {
     "name": "stdout",
     "output_type": "stream",
     "text": [
      "Train Loss: 0.1265 ---- Valid Loss: 0.1226 ---- Valid MCRMSE: 0.1439\n",
      "Epoch 47\n"
     ]
    },
    {
     "name": "stderr",
     "output_type": "stream",
     "text": [
      "100%|██████████| 400/400 [01:33<00:00,  4.29it/s]\n",
      "100%|██████████| 86/86 [00:06<00:00, 12.77it/s]\n",
      "  0%|          | 0/400 [00:00<?, ?it/s]"
     ]
    },
    {
     "name": "stdout",
     "output_type": "stream",
     "text": [
      "Train Loss: 0.1260 ---- Valid Loss: 0.1206 ---- Valid MCRMSE: 0.1425\n",
      "Best valid MCRMSE updated to 0.14254388213157654\n",
      "Epoch 48\n"
     ]
    },
    {
     "name": "stderr",
     "output_type": "stream",
     "text": [
      "100%|██████████| 400/400 [01:33<00:00,  4.29it/s]\n",
      "100%|██████████| 86/86 [00:06<00:00, 12.82it/s]\n",
      "  0%|          | 0/400 [00:00<?, ?it/s]"
     ]
    },
    {
     "name": "stdout",
     "output_type": "stream",
     "text": [
      "Train Loss: 0.1254 ---- Valid Loss: 0.1213 ---- Valid MCRMSE: 0.1431\n",
      "Epoch 49\n"
     ]
    },
    {
     "name": "stderr",
     "output_type": "stream",
     "text": [
      "100%|██████████| 400/400 [01:33<00:00,  4.29it/s]\n",
      "100%|██████████| 86/86 [00:06<00:00, 12.76it/s]\n",
      "  0%|          | 0/400 [00:00<?, ?it/s]"
     ]
    },
    {
     "name": "stdout",
     "output_type": "stream",
     "text": [
      "Train Loss: 0.1248 ---- Valid Loss: 0.1213 ---- Valid MCRMSE: 0.1431\n",
      "Epoch 50\n"
     ]
    },
    {
     "name": "stderr",
     "output_type": "stream",
     "text": [
      "100%|██████████| 400/400 [01:33<00:00,  4.29it/s]\n",
      "100%|██████████| 86/86 [00:06<00:00, 12.80it/s]\n",
      "  0%|          | 0/400 [00:00<?, ?it/s]"
     ]
    },
    {
     "name": "stdout",
     "output_type": "stream",
     "text": [
      "Train Loss: 0.1244 ---- Valid Loss: 0.1219 ---- Valid MCRMSE: 0.1431\n",
      "Epoch 51\n"
     ]
    },
    {
     "name": "stderr",
     "output_type": "stream",
     "text": [
      "100%|██████████| 400/400 [01:33<00:00,  4.30it/s]\n",
      "100%|██████████| 86/86 [00:06<00:00, 12.81it/s]\n",
      "  0%|          | 0/400 [00:00<?, ?it/s]"
     ]
    },
    {
     "name": "stdout",
     "output_type": "stream",
     "text": [
      "Train Loss: 0.1240 ---- Valid Loss: 0.1208 ---- Valid MCRMSE: 0.1426\n",
      "Epoch 52\n"
     ]
    },
    {
     "name": "stderr",
     "output_type": "stream",
     "text": [
      "100%|██████████| 400/400 [01:33<00:00,  4.28it/s]\n",
      "100%|██████████| 86/86 [00:06<00:00, 12.81it/s]\n",
      "  0%|          | 0/400 [00:00<?, ?it/s]"
     ]
    },
    {
     "name": "stdout",
     "output_type": "stream",
     "text": [
      "Train Loss: 0.1235 ---- Valid Loss: 0.1239 ---- Valid MCRMSE: 0.1442\n",
      "Epoch 53\n"
     ]
    },
    {
     "name": "stderr",
     "output_type": "stream",
     "text": [
      "100%|██████████| 400/400 [01:33<00:00,  4.29it/s]\n",
      "100%|██████████| 86/86 [00:06<00:00, 12.80it/s]\n",
      "  0%|          | 0/400 [00:00<?, ?it/s]"
     ]
    },
    {
     "name": "stdout",
     "output_type": "stream",
     "text": [
      "Train Loss: 0.1233 ---- Valid Loss: 0.1217 ---- Valid MCRMSE: 0.1430\n",
      "Epoch 54\n"
     ]
    },
    {
     "name": "stderr",
     "output_type": "stream",
     "text": [
      "100%|██████████| 400/400 [01:33<00:00,  4.29it/s]\n",
      "100%|██████████| 86/86 [00:06<00:00, 12.77it/s]\n",
      "  0%|          | 0/400 [00:00<?, ?it/s]"
     ]
    },
    {
     "name": "stdout",
     "output_type": "stream",
     "text": [
      "Train Loss: 0.1227 ---- Valid Loss: 0.1229 ---- Valid MCRMSE: 0.1438\n",
      "Epoch 55\n"
     ]
    },
    {
     "name": "stderr",
     "output_type": "stream",
     "text": [
      "100%|██████████| 400/400 [01:33<00:00,  4.29it/s]\n",
      "100%|██████████| 86/86 [00:06<00:00, 12.80it/s]\n",
      "  0%|          | 0/400 [00:00<?, ?it/s]"
     ]
    },
    {
     "name": "stdout",
     "output_type": "stream",
     "text": [
      "Train Loss: 0.1223 ---- Valid Loss: 0.1210 ---- Valid MCRMSE: 0.1424\n",
      "Best valid MCRMSE updated to 0.14243315160274506\n",
      "Epoch 56\n"
     ]
    },
    {
     "name": "stderr",
     "output_type": "stream",
     "text": [
      "100%|██████████| 400/400 [01:33<00:00,  4.30it/s]\n",
      "100%|██████████| 86/86 [00:06<00:00, 12.77it/s]\n",
      "  0%|          | 0/400 [00:00<?, ?it/s]"
     ]
    },
    {
     "name": "stdout",
     "output_type": "stream",
     "text": [
      "Train Loss: 0.1220 ---- Valid Loss: 0.1202 ---- Valid MCRMSE: 0.1421\n",
      "Best valid MCRMSE updated to 0.1421346217393875\n",
      "Epoch 57\n"
     ]
    },
    {
     "name": "stderr",
     "output_type": "stream",
     "text": [
      "100%|██████████| 400/400 [01:33<00:00,  4.29it/s]\n",
      "100%|██████████| 86/86 [00:06<00:00, 12.81it/s]\n",
      "  0%|          | 0/400 [00:00<?, ?it/s]"
     ]
    },
    {
     "name": "stdout",
     "output_type": "stream",
     "text": [
      "Train Loss: 0.1217 ---- Valid Loss: 0.1224 ---- Valid MCRMSE: 0.1433\n",
      "Epoch 58\n"
     ]
    },
    {
     "name": "stderr",
     "output_type": "stream",
     "text": [
      "100%|██████████| 400/400 [01:33<00:00,  4.29it/s]\n",
      "100%|██████████| 86/86 [00:06<00:00, 12.80it/s]\n",
      "  0%|          | 0/400 [00:00<?, ?it/s]"
     ]
    },
    {
     "name": "stdout",
     "output_type": "stream",
     "text": [
      "Train Loss: 0.1212 ---- Valid Loss: 0.1249 ---- Valid MCRMSE: 0.1455\n",
      "Epoch 59\n"
     ]
    },
    {
     "name": "stderr",
     "output_type": "stream",
     "text": [
      "100%|██████████| 400/400 [01:33<00:00,  4.29it/s]\n",
      "100%|██████████| 86/86 [00:06<00:00, 12.80it/s]\n",
      "  0%|          | 0/400 [00:00<?, ?it/s]"
     ]
    },
    {
     "name": "stdout",
     "output_type": "stream",
     "text": [
      "Train Loss: 0.1209 ---- Valid Loss: 0.1225 ---- Valid MCRMSE: 0.1439\n",
      "Epoch 60\n"
     ]
    },
    {
     "name": "stderr",
     "output_type": "stream",
     "text": [
      "100%|██████████| 400/400 [01:33<00:00,  4.29it/s]\n",
      "100%|██████████| 86/86 [00:06<00:00, 12.79it/s]\n",
      "  0%|          | 0/400 [00:00<?, ?it/s]"
     ]
    },
    {
     "name": "stdout",
     "output_type": "stream",
     "text": [
      "Train Loss: 0.1204 ---- Valid Loss: 0.1197 ---- Valid MCRMSE: 0.1419\n",
      "Best valid MCRMSE updated to 0.1418846994638443\n",
      "Epoch 61\n"
     ]
    },
    {
     "name": "stderr",
     "output_type": "stream",
     "text": [
      "100%|██████████| 400/400 [01:33<00:00,  4.29it/s]\n",
      "100%|██████████| 86/86 [00:06<00:00, 12.79it/s]\n",
      "  0%|          | 0/400 [00:00<?, ?it/s]"
     ]
    },
    {
     "name": "stdout",
     "output_type": "stream",
     "text": [
      "Train Loss: 0.1199 ---- Valid Loss: 0.1206 ---- Valid MCRMSE: 0.1424\n",
      "Epoch 62\n"
     ]
    },
    {
     "name": "stderr",
     "output_type": "stream",
     "text": [
      "100%|██████████| 400/400 [01:33<00:00,  4.29it/s]\n",
      "100%|██████████| 86/86 [00:06<00:00, 12.80it/s]\n",
      "  0%|          | 0/400 [00:00<?, ?it/s]"
     ]
    },
    {
     "name": "stdout",
     "output_type": "stream",
     "text": [
      "Train Loss: 0.1196 ---- Valid Loss: 0.1221 ---- Valid MCRMSE: 0.1436\n",
      "Epoch 63\n"
     ]
    },
    {
     "name": "stderr",
     "output_type": "stream",
     "text": [
      "100%|██████████| 400/400 [01:33<00:00,  4.29it/s]\n",
      "100%|██████████| 86/86 [00:06<00:00, 12.75it/s]\n",
      "  0%|          | 0/400 [00:00<?, ?it/s]"
     ]
    },
    {
     "name": "stdout",
     "output_type": "stream",
     "text": [
      "Train Loss: 0.1196 ---- Valid Loss: 0.1206 ---- Valid MCRMSE: 0.1424\n",
      "Epoch 64\n"
     ]
    },
    {
     "name": "stderr",
     "output_type": "stream",
     "text": [
      "100%|██████████| 400/400 [01:33<00:00,  4.29it/s]\n",
      "100%|██████████| 86/86 [00:06<00:00, 12.76it/s]\n",
      "  0%|          | 0/400 [00:00<?, ?it/s]"
     ]
    },
    {
     "name": "stdout",
     "output_type": "stream",
     "text": [
      "Train Loss: 0.1192 ---- Valid Loss: 0.1212 ---- Valid MCRMSE: 0.1425\n",
      "Epoch 65\n"
     ]
    },
    {
     "name": "stderr",
     "output_type": "stream",
     "text": [
      "100%|██████████| 400/400 [01:33<00:00,  4.29it/s]\n",
      "100%|██████████| 86/86 [00:06<00:00, 12.77it/s]\n",
      "  0%|          | 0/400 [00:00<?, ?it/s]"
     ]
    },
    {
     "name": "stdout",
     "output_type": "stream",
     "text": [
      "Train Loss: 0.1191 ---- Valid Loss: 0.1218 ---- Valid MCRMSE: 0.1430\n",
      "Epoch 66\n"
     ]
    },
    {
     "name": "stderr",
     "output_type": "stream",
     "text": [
      "100%|██████████| 400/400 [01:33<00:00,  4.29it/s]\n",
      "100%|██████████| 86/86 [00:06<00:00, 12.80it/s]\n",
      "  0%|          | 0/400 [00:00<?, ?it/s]"
     ]
    },
    {
     "name": "stdout",
     "output_type": "stream",
     "text": [
      "Train Loss: 0.1188 ---- Valid Loss: 0.1223 ---- Valid MCRMSE: 0.1432\n",
      "Epoch 67\n"
     ]
    },
    {
     "name": "stderr",
     "output_type": "stream",
     "text": [
      "100%|██████████| 400/400 [01:33<00:00,  4.29it/s]\n",
      "100%|██████████| 86/86 [00:06<00:00, 12.82it/s]\n",
      "  0%|          | 0/400 [00:00<?, ?it/s]"
     ]
    },
    {
     "name": "stdout",
     "output_type": "stream",
     "text": [
      "Train Loss: 0.1180 ---- Valid Loss: 0.1219 ---- Valid MCRMSE: 0.1429\n",
      "Epoch 68\n"
     ]
    },
    {
     "name": "stderr",
     "output_type": "stream",
     "text": [
      "100%|██████████| 400/400 [01:33<00:00,  4.28it/s]\n",
      "100%|██████████| 86/86 [00:06<00:00, 12.80it/s]\n",
      "  0%|          | 0/400 [00:00<?, ?it/s]"
     ]
    },
    {
     "name": "stdout",
     "output_type": "stream",
     "text": [
      "Train Loss: 0.1177 ---- Valid Loss: 0.1220 ---- Valid MCRMSE: 0.1432\n",
      "Epoch 69\n"
     ]
    },
    {
     "name": "stderr",
     "output_type": "stream",
     "text": [
      "100%|██████████| 400/400 [01:33<00:00,  4.30it/s]\n",
      "100%|██████████| 86/86 [00:06<00:00, 12.79it/s]\n",
      "  0%|          | 0/400 [00:00<?, ?it/s]"
     ]
    },
    {
     "name": "stdout",
     "output_type": "stream",
     "text": [
      "Train Loss: 0.1174 ---- Valid Loss: 0.1246 ---- Valid MCRMSE: 0.1449\n",
      "Epoch 70\n"
     ]
    },
    {
     "name": "stderr",
     "output_type": "stream",
     "text": [
      "100%|██████████| 400/400 [01:33<00:00,  4.29it/s]\n",
      "100%|██████████| 86/86 [00:06<00:00, 12.78it/s]\n",
      "  0%|          | 0/400 [00:00<?, ?it/s]"
     ]
    },
    {
     "name": "stdout",
     "output_type": "stream",
     "text": [
      "Train Loss: 0.1174 ---- Valid Loss: 0.1202 ---- Valid MCRMSE: 0.1421\n",
      "Epoch 71\n"
     ]
    },
    {
     "name": "stderr",
     "output_type": "stream",
     "text": [
      "100%|██████████| 400/400 [01:33<00:00,  4.29it/s]\n",
      "100%|██████████| 86/86 [00:06<00:00, 12.80it/s]\n",
      "  0%|          | 0/400 [00:00<?, ?it/s]"
     ]
    },
    {
     "name": "stdout",
     "output_type": "stream",
     "text": [
      "Train Loss: 0.1171 ---- Valid Loss: 0.1202 ---- Valid MCRMSE: 0.1416\n",
      "Best valid MCRMSE updated to 0.14164605736732483\n",
      "Epoch 72\n"
     ]
    },
    {
     "name": "stderr",
     "output_type": "stream",
     "text": [
      "100%|██████████| 400/400 [01:33<00:00,  4.29it/s]\n",
      "100%|██████████| 86/86 [00:06<00:00, 12.77it/s]\n",
      "  0%|          | 0/400 [00:00<?, ?it/s]"
     ]
    },
    {
     "name": "stdout",
     "output_type": "stream",
     "text": [
      "Train Loss: 0.1163 ---- Valid Loss: 0.1222 ---- Valid MCRMSE: 0.1433\n",
      "Epoch 73\n"
     ]
    },
    {
     "name": "stderr",
     "output_type": "stream",
     "text": [
      "100%|██████████| 400/400 [01:33<00:00,  4.29it/s]\n",
      "100%|██████████| 86/86 [00:06<00:00, 12.75it/s]\n",
      "  0%|          | 0/400 [00:00<?, ?it/s]"
     ]
    },
    {
     "name": "stdout",
     "output_type": "stream",
     "text": [
      "Train Loss: 0.1160 ---- Valid Loss: 0.1207 ---- Valid MCRMSE: 0.1422\n",
      "Epoch 74\n"
     ]
    },
    {
     "name": "stderr",
     "output_type": "stream",
     "text": [
      "100%|██████████| 400/400 [01:33<00:00,  4.30it/s]\n",
      "100%|██████████| 86/86 [00:06<00:00, 12.76it/s]\n",
      "  0%|          | 0/400 [00:00<?, ?it/s]"
     ]
    },
    {
     "name": "stdout",
     "output_type": "stream",
     "text": [
      "Train Loss: 0.1159 ---- Valid Loss: 0.1200 ---- Valid MCRMSE: 0.1418\n",
      "Epoch 75\n"
     ]
    },
    {
     "name": "stderr",
     "output_type": "stream",
     "text": [
      "100%|██████████| 400/400 [01:33<00:00,  4.28it/s]\n",
      "100%|██████████| 86/86 [00:06<00:00, 12.80it/s]\n",
      "  0%|          | 0/400 [00:00<?, ?it/s]"
     ]
    },
    {
     "name": "stdout",
     "output_type": "stream",
     "text": [
      "Train Loss: 0.1158 ---- Valid Loss: 0.1209 ---- Valid MCRMSE: 0.1423\n",
      "Epoch 76\n"
     ]
    },
    {
     "name": "stderr",
     "output_type": "stream",
     "text": [
      "100%|██████████| 400/400 [01:33<00:00,  4.28it/s]\n",
      "100%|██████████| 86/86 [00:06<00:00, 12.80it/s]\n",
      "  0%|          | 0/400 [00:00<?, ?it/s]"
     ]
    },
    {
     "name": "stdout",
     "output_type": "stream",
     "text": [
      "Train Loss: 0.1153 ---- Valid Loss: 0.1210 ---- Valid MCRMSE: 0.1426\n",
      "Epoch 77\n"
     ]
    },
    {
     "name": "stderr",
     "output_type": "stream",
     "text": [
      "100%|██████████| 400/400 [01:33<00:00,  4.30it/s]\n",
      "100%|██████████| 86/86 [00:06<00:00, 12.75it/s]\n",
      "  0%|          | 0/400 [00:00<?, ?it/s]"
     ]
    },
    {
     "name": "stdout",
     "output_type": "stream",
     "text": [
      "Train Loss: 0.1152 ---- Valid Loss: 0.1204 ---- Valid MCRMSE: 0.1421\n",
      "Epoch 78\n"
     ]
    },
    {
     "name": "stderr",
     "output_type": "stream",
     "text": [
      "100%|██████████| 400/400 [01:33<00:00,  4.28it/s]\n",
      "100%|██████████| 86/86 [00:06<00:00, 12.75it/s]\n",
      "  0%|          | 0/400 [00:00<?, ?it/s]"
     ]
    },
    {
     "name": "stdout",
     "output_type": "stream",
     "text": [
      "Train Loss: 0.1148 ---- Valid Loss: 0.1201 ---- Valid MCRMSE: 0.1419\n",
      "Epoch 79\n"
     ]
    },
    {
     "name": "stderr",
     "output_type": "stream",
     "text": [
      "100%|██████████| 400/400 [01:32<00:00,  4.30it/s]\n",
      "100%|██████████| 86/86 [00:06<00:00, 12.78it/s]\n",
      "  0%|          | 0/400 [00:00<?, ?it/s]"
     ]
    },
    {
     "name": "stdout",
     "output_type": "stream",
     "text": [
      "Train Loss: 0.1148 ---- Valid Loss: 0.1200 ---- Valid MCRMSE: 0.1421\n",
      "Epoch 80\n"
     ]
    },
    {
     "name": "stderr",
     "output_type": "stream",
     "text": [
      "100%|██████████| 400/400 [01:33<00:00,  4.30it/s]\n",
      "100%|██████████| 86/86 [00:06<00:00, 12.81it/s]\n",
      "  0%|          | 0/400 [00:00<?, ?it/s]"
     ]
    },
    {
     "name": "stdout",
     "output_type": "stream",
     "text": [
      "Train Loss: 0.1144 ---- Valid Loss: 0.1201 ---- Valid MCRMSE: 0.1420\n",
      "Epoch 81\n"
     ]
    },
    {
     "name": "stderr",
     "output_type": "stream",
     "text": [
      "100%|██████████| 400/400 [01:33<00:00,  4.30it/s]\n",
      "100%|██████████| 86/86 [00:06<00:00, 12.77it/s]\n",
      "  0%|          | 0/400 [00:00<?, ?it/s]"
     ]
    },
    {
     "name": "stdout",
     "output_type": "stream",
     "text": [
      "Train Loss: 0.1141 ---- Valid Loss: 0.1198 ---- Valid MCRMSE: 0.1416\n",
      "Best valid MCRMSE updated to 0.1416247934103012\n",
      "Epoch 82\n"
     ]
    },
    {
     "name": "stderr",
     "output_type": "stream",
     "text": [
      "100%|██████████| 400/400 [01:33<00:00,  4.30it/s]\n",
      "100%|██████████| 86/86 [00:06<00:00, 12.81it/s]\n",
      "  0%|          | 0/400 [00:00<?, ?it/s]"
     ]
    },
    {
     "name": "stdout",
     "output_type": "stream",
     "text": [
      "Train Loss: 0.1142 ---- Valid Loss: 0.1201 ---- Valid MCRMSE: 0.1420\n",
      "Epoch 83\n"
     ]
    },
    {
     "name": "stderr",
     "output_type": "stream",
     "text": [
      "100%|██████████| 400/400 [01:33<00:00,  4.29it/s]\n",
      "100%|██████████| 86/86 [00:06<00:00, 12.82it/s]\n",
      "  0%|          | 0/400 [00:00<?, ?it/s]"
     ]
    },
    {
     "name": "stdout",
     "output_type": "stream",
     "text": [
      "Train Loss: 0.1137 ---- Valid Loss: 0.1199 ---- Valid MCRMSE: 0.1420\n",
      "Epoch 84\n"
     ]
    },
    {
     "name": "stderr",
     "output_type": "stream",
     "text": [
      "100%|██████████| 400/400 [01:33<00:00,  4.28it/s]\n",
      "100%|██████████| 86/86 [00:06<00:00, 12.80it/s]\n",
      "  0%|          | 0/400 [00:00<?, ?it/s]"
     ]
    },
    {
     "name": "stdout",
     "output_type": "stream",
     "text": [
      "Train Loss: 0.1136 ---- Valid Loss: 0.1179 ---- Valid MCRMSE: 0.1402\n",
      "Best valid MCRMSE updated to 0.14018428325653076\n",
      "Epoch 85\n"
     ]
    },
    {
     "name": "stderr",
     "output_type": "stream",
     "text": [
      "100%|██████████| 400/400 [01:33<00:00,  4.29it/s]\n",
      "100%|██████████| 86/86 [00:06<00:00, 12.78it/s]\n",
      "  0%|          | 0/400 [00:00<?, ?it/s]"
     ]
    },
    {
     "name": "stdout",
     "output_type": "stream",
     "text": [
      "Train Loss: 0.1133 ---- Valid Loss: 0.1198 ---- Valid MCRMSE: 0.1418\n",
      "Epoch 86\n"
     ]
    },
    {
     "name": "stderr",
     "output_type": "stream",
     "text": [
      "100%|██████████| 400/400 [01:33<00:00,  4.29it/s]\n",
      "100%|██████████| 86/86 [00:06<00:00, 12.78it/s]\n",
      "  0%|          | 0/400 [00:00<?, ?it/s]"
     ]
    },
    {
     "name": "stdout",
     "output_type": "stream",
     "text": [
      "Train Loss: 0.1130 ---- Valid Loss: 0.1188 ---- Valid MCRMSE: 0.1412\n",
      "Epoch 87\n"
     ]
    },
    {
     "name": "stderr",
     "output_type": "stream",
     "text": [
      "100%|██████████| 400/400 [01:33<00:00,  4.29it/s]\n",
      "100%|██████████| 86/86 [00:06<00:00, 12.81it/s]\n",
      "  0%|          | 0/400 [00:00<?, ?it/s]"
     ]
    },
    {
     "name": "stdout",
     "output_type": "stream",
     "text": [
      "Train Loss: 0.1129 ---- Valid Loss: 0.1212 ---- Valid MCRMSE: 0.1428\n",
      "Epoch 88\n"
     ]
    },
    {
     "name": "stderr",
     "output_type": "stream",
     "text": [
      "100%|██████████| 400/400 [01:33<00:00,  4.30it/s]\n",
      "100%|██████████| 86/86 [00:06<00:00, 12.75it/s]\n",
      "  0%|          | 0/400 [00:00<?, ?it/s]"
     ]
    },
    {
     "name": "stdout",
     "output_type": "stream",
     "text": [
      "Train Loss: 0.1124 ---- Valid Loss: 0.1214 ---- Valid MCRMSE: 0.1426\n",
      "Epoch 89\n"
     ]
    },
    {
     "name": "stderr",
     "output_type": "stream",
     "text": [
      "100%|██████████| 400/400 [01:33<00:00,  4.30it/s]\n",
      "100%|██████████| 86/86 [00:06<00:00, 12.81it/s]\n",
      "  0%|          | 0/400 [00:00<?, ?it/s]"
     ]
    },
    {
     "name": "stdout",
     "output_type": "stream",
     "text": [
      "Train Loss: 0.1122 ---- Valid Loss: 0.1203 ---- Valid MCRMSE: 0.1421\n",
      "Epoch 90\n"
     ]
    },
    {
     "name": "stderr",
     "output_type": "stream",
     "text": [
      "100%|██████████| 400/400 [01:33<00:00,  4.29it/s]\n",
      "100%|██████████| 86/86 [00:06<00:00, 12.79it/s]\n",
      "  0%|          | 0/400 [00:00<?, ?it/s]"
     ]
    },
    {
     "name": "stdout",
     "output_type": "stream",
     "text": [
      "Train Loss: 0.1120 ---- Valid Loss: 0.1213 ---- Valid MCRMSE: 0.1426\n",
      "Epoch 91\n"
     ]
    },
    {
     "name": "stderr",
     "output_type": "stream",
     "text": [
      "100%|██████████| 400/400 [01:33<00:00,  4.30it/s]\n",
      "100%|██████████| 86/86 [00:06<00:00, 12.76it/s]\n",
      "  0%|          | 0/400 [00:00<?, ?it/s]"
     ]
    },
    {
     "name": "stdout",
     "output_type": "stream",
     "text": [
      "Train Loss: 0.1119 ---- Valid Loss: 0.1193 ---- Valid MCRMSE: 0.1418\n",
      "Epoch 92\n"
     ]
    },
    {
     "name": "stderr",
     "output_type": "stream",
     "text": [
      "100%|██████████| 400/400 [01:32<00:00,  4.31it/s]\n",
      "100%|██████████| 86/86 [00:06<00:00, 12.82it/s]\n",
      "  0%|          | 0/400 [00:00<?, ?it/s]"
     ]
    },
    {
     "name": "stdout",
     "output_type": "stream",
     "text": [
      "Train Loss: 0.1114 ---- Valid Loss: 0.1207 ---- Valid MCRMSE: 0.1427\n",
      "Epoch 93\n"
     ]
    },
    {
     "name": "stderr",
     "output_type": "stream",
     "text": [
      "100%|██████████| 400/400 [01:33<00:00,  4.29it/s]\n",
      "100%|██████████| 86/86 [00:06<00:00, 12.81it/s]\n",
      "  0%|          | 0/400 [00:00<?, ?it/s]"
     ]
    },
    {
     "name": "stdout",
     "output_type": "stream",
     "text": [
      "Train Loss: 0.1116 ---- Valid Loss: 0.1214 ---- Valid MCRMSE: 0.1430\n",
      "Epoch 94\n"
     ]
    },
    {
     "name": "stderr",
     "output_type": "stream",
     "text": [
      "100%|██████████| 400/400 [01:33<00:00,  4.29it/s]\n",
      "100%|██████████| 86/86 [00:06<00:00, 12.80it/s]\n",
      "  0%|          | 0/400 [00:00<?, ?it/s]"
     ]
    },
    {
     "name": "stdout",
     "output_type": "stream",
     "text": [
      "Train Loss: 0.1112 ---- Valid Loss: 0.1198 ---- Valid MCRMSE: 0.1418\n",
      "Epoch 95\n"
     ]
    },
    {
     "name": "stderr",
     "output_type": "stream",
     "text": [
      "100%|██████████| 400/400 [01:33<00:00,  4.30it/s]\n",
      "100%|██████████| 86/86 [00:06<00:00, 12.78it/s]\n",
      "  0%|          | 0/400 [00:00<?, ?it/s]"
     ]
    },
    {
     "name": "stdout",
     "output_type": "stream",
     "text": [
      "Train Loss: 0.1109 ---- Valid Loss: 0.1177 ---- Valid MCRMSE: 0.1402\n",
      "Epoch 96\n"
     ]
    },
    {
     "name": "stderr",
     "output_type": "stream",
     "text": [
      "100%|██████████| 400/400 [01:33<00:00,  4.29it/s]\n",
      "100%|██████████| 86/86 [00:06<00:00, 12.79it/s]\n",
      "  0%|          | 0/400 [00:00<?, ?it/s]"
     ]
    },
    {
     "name": "stdout",
     "output_type": "stream",
     "text": [
      "Train Loss: 0.1112 ---- Valid Loss: 0.1201 ---- Valid MCRMSE: 0.1421\n",
      "Epoch 97\n"
     ]
    },
    {
     "name": "stderr",
     "output_type": "stream",
     "text": [
      "100%|██████████| 400/400 [01:33<00:00,  4.29it/s]\n",
      "100%|██████████| 86/86 [00:06<00:00, 12.77it/s]\n",
      "  0%|          | 0/400 [00:00<?, ?it/s]"
     ]
    },
    {
     "name": "stdout",
     "output_type": "stream",
     "text": [
      "Train Loss: 0.1105 ---- Valid Loss: 0.1193 ---- Valid MCRMSE: 0.1417\n",
      "Epoch 98\n"
     ]
    },
    {
     "name": "stderr",
     "output_type": "stream",
     "text": [
      "100%|██████████| 400/400 [01:33<00:00,  4.29it/s]\n",
      "100%|██████████| 86/86 [00:06<00:00, 12.79it/s]\n",
      "  0%|          | 0/400 [00:00<?, ?it/s]"
     ]
    },
    {
     "name": "stdout",
     "output_type": "stream",
     "text": [
      "Train Loss: 0.1103 ---- Valid Loss: 0.1188 ---- Valid MCRMSE: 0.1411\n",
      "Epoch 99\n"
     ]
    },
    {
     "name": "stderr",
     "output_type": "stream",
     "text": [
      "100%|██████████| 400/400 [01:33<00:00,  4.28it/s]\n",
      "100%|██████████| 86/86 [00:06<00:00, 12.77it/s]\n",
      "  2%|▏         | 2/86 [00:00<00:05, 14.01it/s]"
     ]
    },
    {
     "name": "stdout",
     "output_type": "stream",
     "text": [
      "Train Loss: 0.1103 ---- Valid Loss: 0.1187 ---- Valid MCRMSE: 0.1410\n"
     ]
    },
    {
     "name": "stderr",
     "output_type": "stream",
     "text": [
      "100%|██████████| 86/86 [00:06<00:00, 12.87it/s]\n"
     ]
    },
    {
     "name": "stdout",
     "output_type": "stream",
     "text": [
      "Fold 2\n"
     ]
    },
    {
     "name": "stderr",
     "output_type": "stream",
     "text": [
      "\r",
      "  0%|          | 0/398 [00:00<?, ?it/s]"
     ]
    },
    {
     "name": "stdout",
     "output_type": "stream",
     "text": [
      "Epoch 0\n"
     ]
    },
    {
     "name": "stderr",
     "output_type": "stream",
     "text": [
      "100%|██████████| 398/398 [01:32<00:00,  4.30it/s]\n",
      "100%|██████████| 86/86 [00:06<00:00, 12.86it/s]\n",
      "  0%|          | 0/398 [00:00<?, ?it/s]"
     ]
    },
    {
     "name": "stdout",
     "output_type": "stream",
     "text": [
      "Train Loss: 0.2828 ---- Valid Loss: 0.1902 ---- Valid MCRMSE: 0.2029\n",
      "Best valid MCRMSE updated to 0.20290711522102356\n",
      "Epoch 1\n"
     ]
    },
    {
     "name": "stderr",
     "output_type": "stream",
     "text": [
      "100%|██████████| 398/398 [01:32<00:00,  4.30it/s]\n",
      "100%|██████████| 86/86 [00:06<00:00, 12.82it/s]\n",
      "  0%|          | 0/398 [00:00<?, ?it/s]"
     ]
    },
    {
     "name": "stdout",
     "output_type": "stream",
     "text": [
      "Train Loss: 0.2209 ---- Valid Loss: 0.1725 ---- Valid MCRMSE: 0.1859\n",
      "Best valid MCRMSE updated to 0.18594053387641907\n",
      "Epoch 2\n"
     ]
    },
    {
     "name": "stderr",
     "output_type": "stream",
     "text": [
      "100%|██████████| 398/398 [01:32<00:00,  4.29it/s]\n",
      "100%|██████████| 86/86 [00:06<00:00, 12.83it/s]\n",
      "  0%|          | 0/398 [00:00<?, ?it/s]"
     ]
    },
    {
     "name": "stdout",
     "output_type": "stream",
     "text": [
      "Train Loss: 0.2024 ---- Valid Loss: 0.1640 ---- Valid MCRMSE: 0.1785\n",
      "Best valid MCRMSE updated to 0.1785099059343338\n",
      "Epoch 3\n"
     ]
    },
    {
     "name": "stderr",
     "output_type": "stream",
     "text": [
      "100%|██████████| 398/398 [01:32<00:00,  4.29it/s]\n",
      "100%|██████████| 86/86 [00:06<00:00, 12.82it/s]\n",
      "  0%|          | 0/398 [00:00<?, ?it/s]"
     ]
    },
    {
     "name": "stdout",
     "output_type": "stream",
     "text": [
      "Train Loss: 0.1919 ---- Valid Loss: 0.1495 ---- Valid MCRMSE: 0.1669\n",
      "Best valid MCRMSE updated to 0.1669493317604065\n",
      "Epoch 4\n"
     ]
    },
    {
     "name": "stderr",
     "output_type": "stream",
     "text": [
      "100%|██████████| 398/398 [01:32<00:00,  4.28it/s]\n",
      "100%|██████████| 86/86 [00:06<00:00, 12.83it/s]\n",
      "  0%|          | 0/398 [00:00<?, ?it/s]"
     ]
    },
    {
     "name": "stdout",
     "output_type": "stream",
     "text": [
      "Train Loss: 0.1852 ---- Valid Loss: 0.1461 ---- Valid MCRMSE: 0.1638\n",
      "Best valid MCRMSE updated to 0.16382858157157898\n",
      "Epoch 5\n"
     ]
    },
    {
     "name": "stderr",
     "output_type": "stream",
     "text": [
      "100%|██████████| 398/398 [01:32<00:00,  4.29it/s]\n",
      "100%|██████████| 86/86 [00:06<00:00, 12.82it/s]\n",
      "  0%|          | 0/398 [00:00<?, ?it/s]"
     ]
    },
    {
     "name": "stdout",
     "output_type": "stream",
     "text": [
      "Train Loss: 0.1801 ---- Valid Loss: 0.1432 ---- Valid MCRMSE: 0.1616\n",
      "Best valid MCRMSE updated to 0.1615709811449051\n",
      "Epoch 6\n"
     ]
    },
    {
     "name": "stderr",
     "output_type": "stream",
     "text": [
      "100%|██████████| 398/398 [01:32<00:00,  4.30it/s]\n",
      "100%|██████████| 86/86 [00:06<00:00, 12.85it/s]\n",
      "  0%|          | 0/398 [00:00<?, ?it/s]"
     ]
    },
    {
     "name": "stdout",
     "output_type": "stream",
     "text": [
      "Train Loss: 0.1768 ---- Valid Loss: 0.1559 ---- Valid MCRMSE: 0.1711\n",
      "Epoch 7\n"
     ]
    },
    {
     "name": "stderr",
     "output_type": "stream",
     "text": [
      "100%|██████████| 398/398 [01:32<00:00,  4.28it/s]\n",
      "100%|██████████| 86/86 [00:06<00:00, 12.83it/s]\n",
      "  0%|          | 0/398 [00:00<?, ?it/s]"
     ]
    },
    {
     "name": "stdout",
     "output_type": "stream",
     "text": [
      "Train Loss: 0.1732 ---- Valid Loss: 0.1483 ---- Valid MCRMSE: 0.1654\n",
      "Epoch 8\n"
     ]
    },
    {
     "name": "stderr",
     "output_type": "stream",
     "text": [
      "100%|██████████| 398/398 [01:32<00:00,  4.29it/s]\n",
      "100%|██████████| 86/86 [00:06<00:00, 12.83it/s]\n",
      "  0%|          | 0/398 [00:00<?, ?it/s]"
     ]
    },
    {
     "name": "stdout",
     "output_type": "stream",
     "text": [
      "Train Loss: 0.1694 ---- Valid Loss: 0.1391 ---- Valid MCRMSE: 0.1578\n",
      "Best valid MCRMSE updated to 0.1577506810426712\n",
      "Epoch 9\n"
     ]
    },
    {
     "name": "stderr",
     "output_type": "stream",
     "text": [
      "100%|██████████| 398/398 [01:32<00:00,  4.29it/s]\n",
      "100%|██████████| 86/86 [00:06<00:00, 12.81it/s]\n",
      "  0%|          | 0/398 [00:00<?, ?it/s]"
     ]
    },
    {
     "name": "stdout",
     "output_type": "stream",
     "text": [
      "Train Loss: 0.1669 ---- Valid Loss: 0.1414 ---- Valid MCRMSE: 0.1584\n",
      "Epoch 10\n"
     ]
    },
    {
     "name": "stderr",
     "output_type": "stream",
     "text": [
      "100%|██████████| 398/398 [01:32<00:00,  4.28it/s]\n",
      "100%|██████████| 86/86 [00:06<00:00, 12.82it/s]\n",
      "  0%|          | 0/398 [00:00<?, ?it/s]"
     ]
    },
    {
     "name": "stdout",
     "output_type": "stream",
     "text": [
      "Train Loss: 0.1646 ---- Valid Loss: 0.1372 ---- Valid MCRMSE: 0.1559\n",
      "Best valid MCRMSE updated to 0.15585295855998993\n",
      "Epoch 11\n"
     ]
    },
    {
     "name": "stderr",
     "output_type": "stream",
     "text": [
      "100%|██████████| 398/398 [01:32<00:00,  4.29it/s]\n",
      "100%|██████████| 86/86 [00:06<00:00, 12.87it/s]\n",
      "  0%|          | 0/398 [00:00<?, ?it/s]"
     ]
    },
    {
     "name": "stdout",
     "output_type": "stream",
     "text": [
      "Train Loss: 0.1622 ---- Valid Loss: 0.1299 ---- Valid MCRMSE: 0.1504\n",
      "Best valid MCRMSE updated to 0.15043304860591888\n",
      "Epoch 12\n"
     ]
    },
    {
     "name": "stderr",
     "output_type": "stream",
     "text": [
      "100%|██████████| 398/398 [01:32<00:00,  4.29it/s]\n",
      "100%|██████████| 86/86 [00:06<00:00, 12.82it/s]\n",
      "  0%|          | 0/398 [00:00<?, ?it/s]"
     ]
    },
    {
     "name": "stdout",
     "output_type": "stream",
     "text": [
      "Train Loss: 0.1607 ---- Valid Loss: 0.1341 ---- Valid MCRMSE: 0.1531\n",
      "Epoch 13\n"
     ]
    },
    {
     "name": "stderr",
     "output_type": "stream",
     "text": [
      "100%|██████████| 398/398 [01:32<00:00,  4.28it/s]\n",
      "100%|██████████| 86/86 [00:06<00:00, 12.84it/s]\n",
      "  0%|          | 0/398 [00:00<?, ?it/s]"
     ]
    },
    {
     "name": "stdout",
     "output_type": "stream",
     "text": [
      "Train Loss: 0.1582 ---- Valid Loss: 0.1317 ---- Valid MCRMSE: 0.1519\n",
      "Epoch 14\n"
     ]
    },
    {
     "name": "stderr",
     "output_type": "stream",
     "text": [
      "100%|██████████| 398/398 [01:32<00:00,  4.29it/s]\n",
      "100%|██████████| 86/86 [00:06<00:00, 12.81it/s]\n",
      "  0%|          | 0/398 [00:00<?, ?it/s]"
     ]
    },
    {
     "name": "stdout",
     "output_type": "stream",
     "text": [
      "Train Loss: 0.1567 ---- Valid Loss: 0.1293 ---- Valid MCRMSE: 0.1489\n",
      "Best valid MCRMSE updated to 0.14890463650226593\n",
      "Epoch 15\n"
     ]
    },
    {
     "name": "stderr",
     "output_type": "stream",
     "text": [
      "100%|██████████| 398/398 [01:32<00:00,  4.30it/s]\n",
      "100%|██████████| 86/86 [00:06<00:00, 12.84it/s]\n",
      "  0%|          | 0/398 [00:00<?, ?it/s]"
     ]
    },
    {
     "name": "stdout",
     "output_type": "stream",
     "text": [
      "Train Loss: 0.1546 ---- Valid Loss: 0.1290 ---- Valid MCRMSE: 0.1483\n",
      "Best valid MCRMSE updated to 0.14832203090190887\n",
      "Epoch 16\n"
     ]
    },
    {
     "name": "stderr",
     "output_type": "stream",
     "text": [
      "100%|██████████| 398/398 [01:32<00:00,  4.29it/s]\n",
      "100%|██████████| 86/86 [00:06<00:00, 12.82it/s]\n",
      "  0%|          | 0/398 [00:00<?, ?it/s]"
     ]
    },
    {
     "name": "stdout",
     "output_type": "stream",
     "text": [
      "Train Loss: 0.1531 ---- Valid Loss: 0.1319 ---- Valid MCRMSE: 0.1510\n",
      "Epoch 17\n"
     ]
    },
    {
     "name": "stderr",
     "output_type": "stream",
     "text": [
      "100%|██████████| 398/398 [01:32<00:00,  4.28it/s]\n",
      "100%|██████████| 86/86 [00:06<00:00, 12.83it/s]\n",
      "  0%|          | 0/398 [00:00<?, ?it/s]"
     ]
    },
    {
     "name": "stdout",
     "output_type": "stream",
     "text": [
      "Train Loss: 0.1519 ---- Valid Loss: 0.1277 ---- Valid MCRMSE: 0.1478\n",
      "Best valid MCRMSE updated to 0.14784719049930573\n",
      "Epoch 18\n"
     ]
    },
    {
     "name": "stderr",
     "output_type": "stream",
     "text": [
      "100%|██████████| 398/398 [01:32<00:00,  4.29it/s]\n",
      "100%|██████████| 86/86 [00:06<00:00, 12.85it/s]\n",
      "  0%|          | 0/398 [00:00<?, ?it/s]"
     ]
    },
    {
     "name": "stdout",
     "output_type": "stream",
     "text": [
      "Train Loss: 0.1501 ---- Valid Loss: 0.1276 ---- Valid MCRMSE: 0.1474\n",
      "Best valid MCRMSE updated to 0.14735035598278046\n",
      "Epoch 19\n"
     ]
    },
    {
     "name": "stderr",
     "output_type": "stream",
     "text": [
      "100%|██████████| 398/398 [01:32<00:00,  4.29it/s]\n",
      "100%|██████████| 86/86 [00:06<00:00, 12.86it/s]\n",
      "  0%|          | 0/398 [00:00<?, ?it/s]"
     ]
    },
    {
     "name": "stdout",
     "output_type": "stream",
     "text": [
      "Train Loss: 0.1483 ---- Valid Loss: 0.1268 ---- Valid MCRMSE: 0.1466\n",
      "Best valid MCRMSE updated to 0.1465807408094406\n",
      "Epoch 20\n"
     ]
    },
    {
     "name": "stderr",
     "output_type": "stream",
     "text": [
      "100%|██████████| 398/398 [01:32<00:00,  4.29it/s]\n",
      "100%|██████████| 86/86 [00:06<00:00, 12.85it/s]\n",
      "  0%|          | 0/398 [00:00<?, ?it/s]"
     ]
    },
    {
     "name": "stdout",
     "output_type": "stream",
     "text": [
      "Train Loss: 0.1473 ---- Valid Loss: 0.1316 ---- Valid MCRMSE: 0.1502\n",
      "Epoch 21\n"
     ]
    },
    {
     "name": "stderr",
     "output_type": "stream",
     "text": [
      "100%|██████████| 398/398 [01:32<00:00,  4.29it/s]\n",
      "100%|██████████| 86/86 [00:06<00:00, 12.86it/s]\n",
      "  0%|          | 0/398 [00:00<?, ?it/s]"
     ]
    },
    {
     "name": "stdout",
     "output_type": "stream",
     "text": [
      "Train Loss: 0.1463 ---- Valid Loss: 0.1293 ---- Valid MCRMSE: 0.1483\n",
      "Epoch 22\n"
     ]
    },
    {
     "name": "stderr",
     "output_type": "stream",
     "text": [
      "100%|██████████| 398/398 [01:32<00:00,  4.28it/s]\n",
      "100%|██████████| 86/86 [00:06<00:00, 12.84it/s]\n",
      "  0%|          | 0/398 [00:00<?, ?it/s]"
     ]
    },
    {
     "name": "stdout",
     "output_type": "stream",
     "text": [
      "Train Loss: 0.1448 ---- Valid Loss: 0.1275 ---- Valid MCRMSE: 0.1467\n",
      "Epoch 23\n"
     ]
    },
    {
     "name": "stderr",
     "output_type": "stream",
     "text": [
      "100%|██████████| 398/398 [01:32<00:00,  4.29it/s]\n",
      "100%|██████████| 86/86 [00:06<00:00, 12.82it/s]\n",
      "  0%|          | 0/398 [00:00<?, ?it/s]"
     ]
    },
    {
     "name": "stdout",
     "output_type": "stream",
     "text": [
      "Train Loss: 0.1435 ---- Valid Loss: 0.1274 ---- Valid MCRMSE: 0.1465\n",
      "Best valid MCRMSE updated to 0.14646002650260925\n",
      "Epoch 24\n"
     ]
    },
    {
     "name": "stderr",
     "output_type": "stream",
     "text": [
      "100%|██████████| 398/398 [01:32<00:00,  4.28it/s]\n",
      "100%|██████████| 86/86 [00:06<00:00, 12.85it/s]\n",
      "  0%|          | 0/398 [00:00<?, ?it/s]"
     ]
    },
    {
     "name": "stdout",
     "output_type": "stream",
     "text": [
      "Train Loss: 0.1425 ---- Valid Loss: 0.1256 ---- Valid MCRMSE: 0.1453\n",
      "Best valid MCRMSE updated to 0.14526037871837616\n",
      "Epoch 25\n"
     ]
    },
    {
     "name": "stderr",
     "output_type": "stream",
     "text": [
      "100%|██████████| 398/398 [01:32<00:00,  4.29it/s]\n",
      "100%|██████████| 86/86 [00:06<00:00, 12.83it/s]\n",
      "  0%|          | 0/398 [00:00<?, ?it/s]"
     ]
    },
    {
     "name": "stdout",
     "output_type": "stream",
     "text": [
      "Train Loss: 0.1413 ---- Valid Loss: 0.1260 ---- Valid MCRMSE: 0.1457\n",
      "Epoch 26\n"
     ]
    },
    {
     "name": "stderr",
     "output_type": "stream",
     "text": [
      "100%|██████████| 398/398 [01:32<00:00,  4.29it/s]\n",
      "100%|██████████| 86/86 [00:06<00:00, 12.83it/s]\n",
      "  0%|          | 0/398 [00:00<?, ?it/s]"
     ]
    },
    {
     "name": "stdout",
     "output_type": "stream",
     "text": [
      "Train Loss: 0.1408 ---- Valid Loss: 0.1270 ---- Valid MCRMSE: 0.1455\n",
      "Epoch 27\n"
     ]
    },
    {
     "name": "stderr",
     "output_type": "stream",
     "text": [
      "100%|██████████| 398/398 [01:32<00:00,  4.29it/s]\n",
      "100%|██████████| 86/86 [00:06<00:00, 12.82it/s]\n",
      "  0%|          | 0/398 [00:00<?, ?it/s]"
     ]
    },
    {
     "name": "stdout",
     "output_type": "stream",
     "text": [
      "Train Loss: 0.1397 ---- Valid Loss: 0.1244 ---- Valid MCRMSE: 0.1443\n",
      "Best valid MCRMSE updated to 0.14431099593639374\n",
      "Epoch 28\n"
     ]
    },
    {
     "name": "stderr",
     "output_type": "stream",
     "text": [
      "100%|██████████| 398/398 [01:32<00:00,  4.29it/s]\n",
      "100%|██████████| 86/86 [00:06<00:00, 12.84it/s]\n",
      "  0%|          | 0/398 [00:00<?, ?it/s]"
     ]
    },
    {
     "name": "stdout",
     "output_type": "stream",
     "text": [
      "Train Loss: 0.1383 ---- Valid Loss: 0.1296 ---- Valid MCRMSE: 0.1471\n",
      "Epoch 29\n"
     ]
    },
    {
     "name": "stderr",
     "output_type": "stream",
     "text": [
      "100%|██████████| 398/398 [01:32<00:00,  4.29it/s]\n",
      "100%|██████████| 86/86 [00:06<00:00, 12.81it/s]\n",
      "  0%|          | 0/398 [00:00<?, ?it/s]"
     ]
    },
    {
     "name": "stdout",
     "output_type": "stream",
     "text": [
      "Train Loss: 0.1387 ---- Valid Loss: 0.1277 ---- Valid MCRMSE: 0.1471\n",
      "Epoch 30\n"
     ]
    },
    {
     "name": "stderr",
     "output_type": "stream",
     "text": [
      "100%|██████████| 398/398 [01:32<00:00,  4.28it/s]\n",
      "100%|██████████| 86/86 [00:06<00:00, 12.88it/s]\n",
      "  0%|          | 0/398 [00:00<?, ?it/s]"
     ]
    },
    {
     "name": "stdout",
     "output_type": "stream",
     "text": [
      "Train Loss: 0.1372 ---- Valid Loss: 0.1220 ---- Valid MCRMSE: 0.1428\n",
      "Best valid MCRMSE updated to 0.14284580945968628\n",
      "Epoch 31\n"
     ]
    },
    {
     "name": "stderr",
     "output_type": "stream",
     "text": [
      "100%|██████████| 398/398 [01:32<00:00,  4.29it/s]\n",
      "100%|██████████| 86/86 [00:06<00:00, 12.83it/s]\n",
      "  0%|          | 0/398 [00:00<?, ?it/s]"
     ]
    },
    {
     "name": "stdout",
     "output_type": "stream",
     "text": [
      "Train Loss: 0.1362 ---- Valid Loss: 0.1243 ---- Valid MCRMSE: 0.1444\n",
      "Epoch 32\n"
     ]
    },
    {
     "name": "stderr",
     "output_type": "stream",
     "text": [
      "100%|██████████| 398/398 [01:32<00:00,  4.29it/s]\n",
      "100%|██████████| 86/86 [00:06<00:00, 12.83it/s]\n",
      "  0%|          | 0/398 [00:00<?, ?it/s]"
     ]
    },
    {
     "name": "stdout",
     "output_type": "stream",
     "text": [
      "Train Loss: 0.1354 ---- Valid Loss: 0.1244 ---- Valid MCRMSE: 0.1441\n",
      "Epoch 33\n"
     ]
    },
    {
     "name": "stderr",
     "output_type": "stream",
     "text": [
      "100%|██████████| 398/398 [01:32<00:00,  4.29it/s]\n",
      "100%|██████████| 86/86 [00:06<00:00, 12.82it/s]\n",
      "  0%|          | 0/398 [00:00<?, ?it/s]"
     ]
    },
    {
     "name": "stdout",
     "output_type": "stream",
     "text": [
      "Train Loss: 0.1351 ---- Valid Loss: 0.1240 ---- Valid MCRMSE: 0.1437\n",
      "Epoch 34\n"
     ]
    },
    {
     "name": "stderr",
     "output_type": "stream",
     "text": [
      "100%|██████████| 398/398 [01:32<00:00,  4.29it/s]\n",
      "100%|██████████| 86/86 [00:06<00:00, 12.83it/s]\n",
      "  0%|          | 0/398 [00:00<?, ?it/s]"
     ]
    },
    {
     "name": "stdout",
     "output_type": "stream",
     "text": [
      "Train Loss: 0.1344 ---- Valid Loss: 0.1228 ---- Valid MCRMSE: 0.1435\n",
      "Epoch 35\n"
     ]
    },
    {
     "name": "stderr",
     "output_type": "stream",
     "text": [
      "100%|██████████| 398/398 [01:32<00:00,  4.29it/s]\n",
      "100%|██████████| 86/86 [00:06<00:00, 12.81it/s]\n",
      "  0%|          | 0/398 [00:00<?, ?it/s]"
     ]
    },
    {
     "name": "stdout",
     "output_type": "stream",
     "text": [
      "Train Loss: 0.1332 ---- Valid Loss: 0.1254 ---- Valid MCRMSE: 0.1447\n",
      "Epoch 36\n"
     ]
    },
    {
     "name": "stderr",
     "output_type": "stream",
     "text": [
      "100%|██████████| 398/398 [01:32<00:00,  4.29it/s]\n",
      "100%|██████████| 86/86 [00:06<00:00, 12.83it/s]\n",
      "  0%|          | 0/398 [00:00<?, ?it/s]"
     ]
    },
    {
     "name": "stdout",
     "output_type": "stream",
     "text": [
      "Train Loss: 0.1331 ---- Valid Loss: 0.1242 ---- Valid MCRMSE: 0.1443\n",
      "Epoch 37\n"
     ]
    },
    {
     "name": "stderr",
     "output_type": "stream",
     "text": [
      "100%|██████████| 398/398 [01:33<00:00,  4.28it/s]\n",
      "100%|██████████| 86/86 [00:06<00:00, 12.84it/s]\n",
      "  0%|          | 0/398 [00:00<?, ?it/s]"
     ]
    },
    {
     "name": "stdout",
     "output_type": "stream",
     "text": [
      "Train Loss: 0.1322 ---- Valid Loss: 0.1238 ---- Valid MCRMSE: 0.1435\n",
      "Epoch 38\n"
     ]
    },
    {
     "name": "stderr",
     "output_type": "stream",
     "text": [
      "100%|██████████| 398/398 [01:32<00:00,  4.28it/s]\n",
      "100%|██████████| 86/86 [00:06<00:00, 12.81it/s]\n",
      "  0%|          | 0/398 [00:00<?, ?it/s]"
     ]
    },
    {
     "name": "stdout",
     "output_type": "stream",
     "text": [
      "Train Loss: 0.1311 ---- Valid Loss: 0.1232 ---- Valid MCRMSE: 0.1430\n",
      "Epoch 39\n"
     ]
    },
    {
     "name": "stderr",
     "output_type": "stream",
     "text": [
      "100%|██████████| 398/398 [01:32<00:00,  4.29it/s]\n",
      "100%|██████████| 86/86 [00:06<00:00, 12.80it/s]\n",
      "  0%|          | 0/398 [00:00<?, ?it/s]"
     ]
    },
    {
     "name": "stdout",
     "output_type": "stream",
     "text": [
      "Train Loss: 0.1307 ---- Valid Loss: 0.1240 ---- Valid MCRMSE: 0.1438\n",
      "Epoch 40\n"
     ]
    },
    {
     "name": "stderr",
     "output_type": "stream",
     "text": [
      "100%|██████████| 398/398 [01:32<00:00,  4.29it/s]\n",
      "100%|██████████| 86/86 [00:06<00:00, 12.81it/s]\n",
      "  0%|          | 0/398 [00:00<?, ?it/s]"
     ]
    },
    {
     "name": "stdout",
     "output_type": "stream",
     "text": [
      "Train Loss: 0.1306 ---- Valid Loss: 0.1228 ---- Valid MCRMSE: 0.1432\n",
      "Epoch 41\n"
     ]
    },
    {
     "name": "stderr",
     "output_type": "stream",
     "text": [
      "100%|██████████| 398/398 [01:32<00:00,  4.28it/s]\n",
      "100%|██████████| 86/86 [00:06<00:00, 12.84it/s]\n",
      "  0%|          | 0/398 [00:00<?, ?it/s]"
     ]
    },
    {
     "name": "stdout",
     "output_type": "stream",
     "text": [
      "Train Loss: 0.1296 ---- Valid Loss: 0.1213 ---- Valid MCRMSE: 0.1420\n",
      "Best valid MCRMSE updated to 0.14200511574745178\n",
      "Epoch 42\n"
     ]
    },
    {
     "name": "stderr",
     "output_type": "stream",
     "text": [
      "100%|██████████| 398/398 [01:32<00:00,  4.28it/s]\n",
      "100%|██████████| 86/86 [00:06<00:00, 12.82it/s]\n",
      "  0%|          | 0/398 [00:00<?, ?it/s]"
     ]
    },
    {
     "name": "stdout",
     "output_type": "stream",
     "text": [
      "Train Loss: 0.1291 ---- Valid Loss: 0.1248 ---- Valid MCRMSE: 0.1442\n",
      "Epoch 43\n"
     ]
    },
    {
     "name": "stderr",
     "output_type": "stream",
     "text": [
      "100%|██████████| 398/398 [01:32<00:00,  4.29it/s]\n",
      "100%|██████████| 86/86 [00:06<00:00, 12.80it/s]\n",
      "  0%|          | 0/398 [00:00<?, ?it/s]"
     ]
    },
    {
     "name": "stdout",
     "output_type": "stream",
     "text": [
      "Train Loss: 0.1284 ---- Valid Loss: 0.1235 ---- Valid MCRMSE: 0.1435\n",
      "Epoch 44\n"
     ]
    },
    {
     "name": "stderr",
     "output_type": "stream",
     "text": [
      "100%|██████████| 398/398 [01:32<00:00,  4.28it/s]\n",
      "100%|██████████| 86/86 [00:06<00:00, 12.84it/s]\n",
      "  0%|          | 0/398 [00:00<?, ?it/s]"
     ]
    },
    {
     "name": "stdout",
     "output_type": "stream",
     "text": [
      "Train Loss: 0.1277 ---- Valid Loss: 0.1225 ---- Valid MCRMSE: 0.1429\n",
      "Epoch 45\n"
     ]
    },
    {
     "name": "stderr",
     "output_type": "stream",
     "text": [
      "100%|██████████| 398/398 [01:32<00:00,  4.29it/s]\n",
      "100%|██████████| 86/86 [00:06<00:00, 12.84it/s]\n",
      "  0%|          | 0/398 [00:00<?, ?it/s]"
     ]
    },
    {
     "name": "stdout",
     "output_type": "stream",
     "text": [
      "Train Loss: 0.1273 ---- Valid Loss: 0.1237 ---- Valid MCRMSE: 0.1440\n",
      "Epoch 46\n"
     ]
    },
    {
     "name": "stderr",
     "output_type": "stream",
     "text": [
      "100%|██████████| 398/398 [01:32<00:00,  4.29it/s]\n",
      "100%|██████████| 86/86 [00:06<00:00, 12.83it/s]\n",
      "  0%|          | 0/398 [00:00<?, ?it/s]"
     ]
    },
    {
     "name": "stdout",
     "output_type": "stream",
     "text": [
      "Train Loss: 0.1273 ---- Valid Loss: 0.1213 ---- Valid MCRMSE: 0.1421\n",
      "Epoch 47\n"
     ]
    },
    {
     "name": "stderr",
     "output_type": "stream",
     "text": [
      "100%|██████████| 398/398 [01:32<00:00,  4.29it/s]\n",
      "100%|██████████| 86/86 [00:06<00:00, 12.84it/s]\n",
      "  0%|          | 0/398 [00:00<?, ?it/s]"
     ]
    },
    {
     "name": "stdout",
     "output_type": "stream",
     "text": [
      "Train Loss: 0.1271 ---- Valid Loss: 0.1208 ---- Valid MCRMSE: 0.1416\n",
      "Best valid MCRMSE updated to 0.1415962278842926\n",
      "Epoch 48\n"
     ]
    },
    {
     "name": "stderr",
     "output_type": "stream",
     "text": [
      "100%|██████████| 398/398 [01:32<00:00,  4.28it/s]\n",
      "100%|██████████| 86/86 [00:06<00:00, 12.83it/s]\n",
      "  0%|          | 0/398 [00:00<?, ?it/s]"
     ]
    },
    {
     "name": "stdout",
     "output_type": "stream",
     "text": [
      "Train Loss: 0.1260 ---- Valid Loss: 0.1244 ---- Valid MCRMSE: 0.1438\n",
      "Epoch 49\n"
     ]
    },
    {
     "name": "stderr",
     "output_type": "stream",
     "text": [
      "100%|██████████| 398/398 [01:32<00:00,  4.29it/s]\n",
      "100%|██████████| 86/86 [00:06<00:00, 12.84it/s]\n",
      "  0%|          | 0/398 [00:00<?, ?it/s]"
     ]
    },
    {
     "name": "stdout",
     "output_type": "stream",
     "text": [
      "Train Loss: 0.1254 ---- Valid Loss: 0.1266 ---- Valid MCRMSE: 0.1462\n",
      "Epoch 50\n"
     ]
    },
    {
     "name": "stderr",
     "output_type": "stream",
     "text": [
      "100%|██████████| 398/398 [01:32<00:00,  4.29it/s]\n",
      "100%|██████████| 86/86 [00:06<00:00, 12.86it/s]\n",
      "  0%|          | 0/398 [00:00<?, ?it/s]"
     ]
    },
    {
     "name": "stdout",
     "output_type": "stream",
     "text": [
      "Train Loss: 0.1248 ---- Valid Loss: 0.1242 ---- Valid MCRMSE: 0.1440\n",
      "Epoch 51\n"
     ]
    },
    {
     "name": "stderr",
     "output_type": "stream",
     "text": [
      "100%|██████████| 398/398 [01:32<00:00,  4.29it/s]\n",
      "100%|██████████| 86/86 [00:06<00:00, 12.81it/s]\n",
      "  0%|          | 0/398 [00:00<?, ?it/s]"
     ]
    },
    {
     "name": "stdout",
     "output_type": "stream",
     "text": [
      "Train Loss: 0.1247 ---- Valid Loss: 0.1230 ---- Valid MCRMSE: 0.1429\n",
      "Epoch 52\n"
     ]
    },
    {
     "name": "stderr",
     "output_type": "stream",
     "text": [
      "100%|██████████| 398/398 [01:32<00:00,  4.30it/s]\n",
      "100%|██████████| 86/86 [00:06<00:00, 12.82it/s]\n",
      "  0%|          | 0/398 [00:00<?, ?it/s]"
     ]
    },
    {
     "name": "stdout",
     "output_type": "stream",
     "text": [
      "Train Loss: 0.1243 ---- Valid Loss: 0.1200 ---- Valid MCRMSE: 0.1405\n",
      "Best valid MCRMSE updated to 0.14051322638988495\n",
      "Epoch 53\n"
     ]
    },
    {
     "name": "stderr",
     "output_type": "stream",
     "text": [
      "100%|██████████| 398/398 [01:32<00:00,  4.29it/s]\n",
      "100%|██████████| 86/86 [00:06<00:00, 12.82it/s]\n",
      "  0%|          | 0/398 [00:00<?, ?it/s]"
     ]
    },
    {
     "name": "stdout",
     "output_type": "stream",
     "text": [
      "Train Loss: 0.1235 ---- Valid Loss: 0.1211 ---- Valid MCRMSE: 0.1420\n",
      "Epoch 54\n"
     ]
    },
    {
     "name": "stderr",
     "output_type": "stream",
     "text": [
      "100%|██████████| 398/398 [01:32<00:00,  4.28it/s]\n",
      "100%|██████████| 86/86 [00:06<00:00, 12.84it/s]\n",
      "  0%|          | 0/398 [00:00<?, ?it/s]"
     ]
    },
    {
     "name": "stdout",
     "output_type": "stream",
     "text": [
      "Train Loss: 0.1230 ---- Valid Loss: 0.1201 ---- Valid MCRMSE: 0.1410\n",
      "Epoch 55\n"
     ]
    },
    {
     "name": "stderr",
     "output_type": "stream",
     "text": [
      "100%|██████████| 398/398 [01:32<00:00,  4.30it/s]\n",
      "100%|██████████| 86/86 [00:06<00:00, 12.82it/s]\n",
      "  0%|          | 0/398 [00:00<?, ?it/s]"
     ]
    },
    {
     "name": "stdout",
     "output_type": "stream",
     "text": [
      "Train Loss: 0.1229 ---- Valid Loss: 0.1206 ---- Valid MCRMSE: 0.1417\n",
      "Epoch 56\n"
     ]
    },
    {
     "name": "stderr",
     "output_type": "stream",
     "text": [
      "100%|██████████| 398/398 [01:32<00:00,  4.30it/s]\n",
      "100%|██████████| 86/86 [00:06<00:00, 12.83it/s]\n",
      "  0%|          | 0/398 [00:00<?, ?it/s]"
     ]
    },
    {
     "name": "stdout",
     "output_type": "stream",
     "text": [
      "Train Loss: 0.1227 ---- Valid Loss: 0.1199 ---- Valid MCRMSE: 0.1408\n",
      "Epoch 57\n"
     ]
    },
    {
     "name": "stderr",
     "output_type": "stream",
     "text": [
      "100%|██████████| 398/398 [01:32<00:00,  4.29it/s]\n",
      "100%|██████████| 86/86 [00:06<00:00, 12.83it/s]\n",
      "  0%|          | 0/398 [00:00<?, ?it/s]"
     ]
    },
    {
     "name": "stdout",
     "output_type": "stream",
     "text": [
      "Train Loss: 0.1221 ---- Valid Loss: 0.1213 ---- Valid MCRMSE: 0.1417\n",
      "Epoch 58\n"
     ]
    },
    {
     "name": "stderr",
     "output_type": "stream",
     "text": [
      "100%|██████████| 398/398 [01:32<00:00,  4.29it/s]\n",
      "100%|██████████| 86/86 [00:06<00:00, 12.86it/s]\n",
      "  0%|          | 0/398 [00:00<?, ?it/s]"
     ]
    },
    {
     "name": "stdout",
     "output_type": "stream",
     "text": [
      "Train Loss: 0.1221 ---- Valid Loss: 0.1202 ---- Valid MCRMSE: 0.1412\n",
      "Epoch 59\n"
     ]
    },
    {
     "name": "stderr",
     "output_type": "stream",
     "text": [
      "100%|██████████| 398/398 [01:32<00:00,  4.29it/s]\n",
      "100%|██████████| 86/86 [00:06<00:00, 12.83it/s]\n",
      "  0%|          | 0/398 [00:00<?, ?it/s]"
     ]
    },
    {
     "name": "stdout",
     "output_type": "stream",
     "text": [
      "Train Loss: 0.1210 ---- Valid Loss: 0.1208 ---- Valid MCRMSE: 0.1414\n",
      "Epoch 60\n"
     ]
    },
    {
     "name": "stderr",
     "output_type": "stream",
     "text": [
      "100%|██████████| 398/398 [01:32<00:00,  4.29it/s]\n",
      "100%|██████████| 86/86 [00:06<00:00, 12.81it/s]\n",
      "  0%|          | 0/398 [00:00<?, ?it/s]"
     ]
    },
    {
     "name": "stdout",
     "output_type": "stream",
     "text": [
      "Train Loss: 0.1209 ---- Valid Loss: 0.1217 ---- Valid MCRMSE: 0.1423\n",
      "Epoch 61\n"
     ]
    },
    {
     "name": "stderr",
     "output_type": "stream",
     "text": [
      "100%|██████████| 398/398 [01:32<00:00,  4.28it/s]\n",
      "100%|██████████| 86/86 [00:06<00:00, 12.84it/s]\n",
      "  0%|          | 0/398 [00:00<?, ?it/s]"
     ]
    },
    {
     "name": "stdout",
     "output_type": "stream",
     "text": [
      "Train Loss: 0.1206 ---- Valid Loss: 0.1201 ---- Valid MCRMSE: 0.1412\n",
      "Epoch 62\n"
     ]
    },
    {
     "name": "stderr",
     "output_type": "stream",
     "text": [
      "100%|██████████| 398/398 [01:32<00:00,  4.28it/s]\n",
      "100%|██████████| 86/86 [00:06<00:00, 12.81it/s]\n",
      "  0%|          | 0/398 [00:00<?, ?it/s]"
     ]
    },
    {
     "name": "stdout",
     "output_type": "stream",
     "text": [
      "Train Loss: 0.1204 ---- Valid Loss: 0.1211 ---- Valid MCRMSE: 0.1417\n",
      "Epoch 63\n"
     ]
    },
    {
     "name": "stderr",
     "output_type": "stream",
     "text": [
      "100%|██████████| 398/398 [01:32<00:00,  4.30it/s]\n",
      "100%|██████████| 86/86 [00:06<00:00, 12.85it/s]\n",
      "  0%|          | 0/398 [00:00<?, ?it/s]"
     ]
    },
    {
     "name": "stdout",
     "output_type": "stream",
     "text": [
      "Train Loss: 0.1196 ---- Valid Loss: 0.1209 ---- Valid MCRMSE: 0.1418\n",
      "Epoch 64\n"
     ]
    },
    {
     "name": "stderr",
     "output_type": "stream",
     "text": [
      "100%|██████████| 398/398 [01:32<00:00,  4.29it/s]\n",
      "100%|██████████| 86/86 [00:06<00:00, 12.81it/s]\n",
      "  0%|          | 0/398 [00:00<?, ?it/s]"
     ]
    },
    {
     "name": "stdout",
     "output_type": "stream",
     "text": [
      "Train Loss: 0.1194 ---- Valid Loss: 0.1211 ---- Valid MCRMSE: 0.1415\n",
      "Epoch 65\n"
     ]
    },
    {
     "name": "stderr",
     "output_type": "stream",
     "text": [
      "100%|██████████| 398/398 [01:32<00:00,  4.28it/s]\n",
      "100%|██████████| 86/86 [00:06<00:00, 12.83it/s]\n",
      "  0%|          | 0/398 [00:00<?, ?it/s]"
     ]
    },
    {
     "name": "stdout",
     "output_type": "stream",
     "text": [
      "Train Loss: 0.1192 ---- Valid Loss: 0.1213 ---- Valid MCRMSE: 0.1419\n",
      "Epoch 66\n"
     ]
    },
    {
     "name": "stderr",
     "output_type": "stream",
     "text": [
      "100%|██████████| 398/398 [01:32<00:00,  4.29it/s]\n",
      "100%|██████████| 86/86 [00:06<00:00, 12.86it/s]\n",
      "  0%|          | 0/398 [00:00<?, ?it/s]"
     ]
    },
    {
     "name": "stdout",
     "output_type": "stream",
     "text": [
      "Train Loss: 0.1190 ---- Valid Loss: 0.1226 ---- Valid MCRMSE: 0.1434\n",
      "Epoch 67\n"
     ]
    },
    {
     "name": "stderr",
     "output_type": "stream",
     "text": [
      "100%|██████████| 398/398 [01:32<00:00,  4.28it/s]\n",
      "100%|██████████| 86/86 [00:06<00:00, 12.86it/s]\n",
      "  0%|          | 0/398 [00:00<?, ?it/s]"
     ]
    },
    {
     "name": "stdout",
     "output_type": "stream",
     "text": [
      "Train Loss: 0.1185 ---- Valid Loss: 0.1202 ---- Valid MCRMSE: 0.1416\n",
      "Epoch 68\n"
     ]
    },
    {
     "name": "stderr",
     "output_type": "stream",
     "text": [
      "100%|██████████| 398/398 [01:32<00:00,  4.30it/s]\n",
      "100%|██████████| 86/86 [00:06<00:00, 12.82it/s]\n",
      "  0%|          | 0/398 [00:00<?, ?it/s]"
     ]
    },
    {
     "name": "stdout",
     "output_type": "stream",
     "text": [
      "Train Loss: 0.1181 ---- Valid Loss: 0.1191 ---- Valid MCRMSE: 0.1405\n",
      "Epoch 69\n"
     ]
    },
    {
     "name": "stderr",
     "output_type": "stream",
     "text": [
      "100%|██████████| 398/398 [01:32<00:00,  4.29it/s]\n",
      "100%|██████████| 86/86 [00:06<00:00, 12.84it/s]\n",
      "  0%|          | 0/398 [00:00<?, ?it/s]"
     ]
    },
    {
     "name": "stdout",
     "output_type": "stream",
     "text": [
      "Train Loss: 0.1178 ---- Valid Loss: 0.1192 ---- Valid MCRMSE: 0.1407\n",
      "Epoch 70\n"
     ]
    },
    {
     "name": "stderr",
     "output_type": "stream",
     "text": [
      "100%|██████████| 398/398 [01:32<00:00,  4.29it/s]\n",
      "100%|██████████| 86/86 [00:06<00:00, 12.84it/s]\n",
      "  0%|          | 0/398 [00:00<?, ?it/s]"
     ]
    },
    {
     "name": "stdout",
     "output_type": "stream",
     "text": [
      "Train Loss: 0.1176 ---- Valid Loss: 0.1213 ---- Valid MCRMSE: 0.1424\n",
      "Epoch 71\n"
     ]
    },
    {
     "name": "stderr",
     "output_type": "stream",
     "text": [
      "100%|██████████| 398/398 [01:32<00:00,  4.29it/s]\n",
      "100%|██████████| 86/86 [00:06<00:00, 12.84it/s]\n",
      "  0%|          | 0/398 [00:00<?, ?it/s]"
     ]
    },
    {
     "name": "stdout",
     "output_type": "stream",
     "text": [
      "Train Loss: 0.1174 ---- Valid Loss: 0.1213 ---- Valid MCRMSE: 0.1419\n",
      "Epoch 72\n"
     ]
    },
    {
     "name": "stderr",
     "output_type": "stream",
     "text": [
      "100%|██████████| 398/398 [01:32<00:00,  4.30it/s]\n",
      "100%|██████████| 86/86 [00:06<00:00, 12.86it/s]\n",
      "  0%|          | 0/398 [00:00<?, ?it/s]"
     ]
    },
    {
     "name": "stdout",
     "output_type": "stream",
     "text": [
      "Train Loss: 0.1170 ---- Valid Loss: 0.1225 ---- Valid MCRMSE: 0.1429\n",
      "Epoch 73\n"
     ]
    },
    {
     "name": "stderr",
     "output_type": "stream",
     "text": [
      "100%|██████████| 398/398 [01:32<00:00,  4.29it/s]\n",
      "100%|██████████| 86/86 [00:06<00:00, 12.81it/s]\n",
      "  0%|          | 0/398 [00:00<?, ?it/s]"
     ]
    },
    {
     "name": "stdout",
     "output_type": "stream",
     "text": [
      "Train Loss: 0.1168 ---- Valid Loss: 0.1188 ---- Valid MCRMSE: 0.1405\n",
      "Best valid MCRMSE updated to 0.14046244323253632\n",
      "Epoch 74\n"
     ]
    },
    {
     "name": "stderr",
     "output_type": "stream",
     "text": [
      "100%|██████████| 398/398 [01:32<00:00,  4.29it/s]\n",
      "100%|██████████| 86/86 [00:06<00:00, 12.85it/s]\n",
      "  0%|          | 0/398 [00:00<?, ?it/s]"
     ]
    },
    {
     "name": "stdout",
     "output_type": "stream",
     "text": [
      "Train Loss: 0.1168 ---- Valid Loss: 0.1204 ---- Valid MCRMSE: 0.1415\n",
      "Epoch 75\n"
     ]
    },
    {
     "name": "stderr",
     "output_type": "stream",
     "text": [
      "100%|██████████| 398/398 [01:32<00:00,  4.30it/s]\n",
      "100%|██████████| 86/86 [00:06<00:00, 12.80it/s]\n",
      "  0%|          | 0/398 [00:00<?, ?it/s]"
     ]
    },
    {
     "name": "stdout",
     "output_type": "stream",
     "text": [
      "Train Loss: 0.1162 ---- Valid Loss: 0.1222 ---- Valid MCRMSE: 0.1429\n",
      "Epoch 76\n"
     ]
    },
    {
     "name": "stderr",
     "output_type": "stream",
     "text": [
      "100%|██████████| 398/398 [01:32<00:00,  4.29it/s]\n",
      "100%|██████████| 86/86 [00:06<00:00, 12.86it/s]\n",
      "  0%|          | 0/398 [00:00<?, ?it/s]"
     ]
    },
    {
     "name": "stdout",
     "output_type": "stream",
     "text": [
      "Train Loss: 0.1160 ---- Valid Loss: 0.1204 ---- Valid MCRMSE: 0.1415\n",
      "Epoch 77\n"
     ]
    },
    {
     "name": "stderr",
     "output_type": "stream",
     "text": [
      "100%|██████████| 398/398 [01:32<00:00,  4.29it/s]\n",
      "100%|██████████| 86/86 [00:06<00:00, 12.80it/s]\n",
      "  0%|          | 0/398 [00:00<?, ?it/s]"
     ]
    },
    {
     "name": "stdout",
     "output_type": "stream",
     "text": [
      "Train Loss: 0.1157 ---- Valid Loss: 0.1225 ---- Valid MCRMSE: 0.1430\n",
      "Epoch 78\n"
     ]
    },
    {
     "name": "stderr",
     "output_type": "stream",
     "text": [
      "100%|██████████| 398/398 [01:32<00:00,  4.29it/s]\n",
      "100%|██████████| 86/86 [00:06<00:00, 12.87it/s]\n",
      "  0%|          | 0/398 [00:00<?, ?it/s]"
     ]
    },
    {
     "name": "stdout",
     "output_type": "stream",
     "text": [
      "Train Loss: 0.1154 ---- Valid Loss: 0.1210 ---- Valid MCRMSE: 0.1416\n",
      "Epoch 79\n"
     ]
    },
    {
     "name": "stderr",
     "output_type": "stream",
     "text": [
      "100%|██████████| 398/398 [01:32<00:00,  4.28it/s]\n",
      "100%|██████████| 86/86 [00:06<00:00, 12.83it/s]\n",
      "  0%|          | 0/398 [00:00<?, ?it/s]"
     ]
    },
    {
     "name": "stdout",
     "output_type": "stream",
     "text": [
      "Train Loss: 0.1151 ---- Valid Loss: 0.1185 ---- Valid MCRMSE: 0.1404\n",
      "Best valid MCRMSE updated to 0.14038076996803284\n",
      "Epoch 80\n"
     ]
    },
    {
     "name": "stderr",
     "output_type": "stream",
     "text": [
      "100%|██████████| 398/398 [01:32<00:00,  4.29it/s]\n",
      "100%|██████████| 86/86 [00:06<00:00, 12.86it/s]\n",
      "  0%|          | 0/398 [00:00<?, ?it/s]"
     ]
    },
    {
     "name": "stdout",
     "output_type": "stream",
     "text": [
      "Train Loss: 0.1148 ---- Valid Loss: 0.1216 ---- Valid MCRMSE: 0.1424\n",
      "Epoch 81\n"
     ]
    },
    {
     "name": "stderr",
     "output_type": "stream",
     "text": [
      "100%|██████████| 398/398 [01:32<00:00,  4.28it/s]\n",
      "100%|██████████| 86/86 [00:06<00:00, 12.83it/s]\n",
      "  0%|          | 0/398 [00:00<?, ?it/s]"
     ]
    },
    {
     "name": "stdout",
     "output_type": "stream",
     "text": [
      "Train Loss: 0.1144 ---- Valid Loss: 0.1205 ---- Valid MCRMSE: 0.1414\n",
      "Epoch 82\n"
     ]
    },
    {
     "name": "stderr",
     "output_type": "stream",
     "text": [
      "100%|██████████| 398/398 [01:32<00:00,  4.29it/s]\n",
      "100%|██████████| 86/86 [00:06<00:00, 12.86it/s]\n",
      "  0%|          | 0/398 [00:00<?, ?it/s]"
     ]
    },
    {
     "name": "stdout",
     "output_type": "stream",
     "text": [
      "Train Loss: 0.1145 ---- Valid Loss: 0.1206 ---- Valid MCRMSE: 0.1418\n",
      "Epoch 83\n"
     ]
    },
    {
     "name": "stderr",
     "output_type": "stream",
     "text": [
      "100%|██████████| 398/398 [01:32<00:00,  4.28it/s]\n",
      "100%|██████████| 86/86 [00:06<00:00, 12.83it/s]\n",
      "  0%|          | 0/398 [00:00<?, ?it/s]"
     ]
    },
    {
     "name": "stdout",
     "output_type": "stream",
     "text": [
      "Train Loss: 0.1144 ---- Valid Loss: 0.1192 ---- Valid MCRMSE: 0.1406\n",
      "Epoch 84\n"
     ]
    },
    {
     "name": "stderr",
     "output_type": "stream",
     "text": [
      "100%|██████████| 398/398 [01:32<00:00,  4.28it/s]\n",
      "100%|██████████| 86/86 [00:06<00:00, 12.80it/s]\n",
      "  0%|          | 0/398 [00:00<?, ?it/s]"
     ]
    },
    {
     "name": "stdout",
     "output_type": "stream",
     "text": [
      "Train Loss: 0.1135 ---- Valid Loss: 0.1196 ---- Valid MCRMSE: 0.1406\n",
      "Epoch 85\n"
     ]
    },
    {
     "name": "stderr",
     "output_type": "stream",
     "text": [
      "100%|██████████| 398/398 [01:32<00:00,  4.29it/s]\n",
      "100%|██████████| 86/86 [00:06<00:00, 12.84it/s]\n",
      "  0%|          | 0/398 [00:00<?, ?it/s]"
     ]
    },
    {
     "name": "stdout",
     "output_type": "stream",
     "text": [
      "Train Loss: 0.1136 ---- Valid Loss: 0.1207 ---- Valid MCRMSE: 0.1415\n",
      "Epoch 86\n"
     ]
    },
    {
     "name": "stderr",
     "output_type": "stream",
     "text": [
      "100%|██████████| 398/398 [01:32<00:00,  4.28it/s]\n",
      "100%|██████████| 86/86 [00:06<00:00, 12.87it/s]\n",
      "  0%|          | 0/398 [00:00<?, ?it/s]"
     ]
    },
    {
     "name": "stdout",
     "output_type": "stream",
     "text": [
      "Train Loss: 0.1134 ---- Valid Loss: 0.1195 ---- Valid MCRMSE: 0.1408\n",
      "Epoch 87\n"
     ]
    },
    {
     "name": "stderr",
     "output_type": "stream",
     "text": [
      "100%|██████████| 398/398 [01:32<00:00,  4.29it/s]\n",
      "100%|██████████| 86/86 [00:06<00:00, 12.83it/s]\n",
      "  0%|          | 0/398 [00:00<?, ?it/s]"
     ]
    },
    {
     "name": "stdout",
     "output_type": "stream",
     "text": [
      "Train Loss: 0.1132 ---- Valid Loss: 0.1202 ---- Valid MCRMSE: 0.1412\n",
      "Epoch 88\n"
     ]
    },
    {
     "name": "stderr",
     "output_type": "stream",
     "text": [
      "100%|██████████| 398/398 [01:32<00:00,  4.29it/s]\n",
      "100%|██████████| 86/86 [00:06<00:00, 12.80it/s]\n",
      "  0%|          | 0/398 [00:00<?, ?it/s]"
     ]
    },
    {
     "name": "stdout",
     "output_type": "stream",
     "text": [
      "Train Loss: 0.1127 ---- Valid Loss: 0.1214 ---- Valid MCRMSE: 0.1422\n",
      "Epoch 89\n"
     ]
    },
    {
     "name": "stderr",
     "output_type": "stream",
     "text": [
      "100%|██████████| 398/398 [01:32<00:00,  4.28it/s]\n",
      "100%|██████████| 86/86 [00:06<00:00, 12.84it/s]\n",
      "  0%|          | 0/398 [00:00<?, ?it/s]"
     ]
    },
    {
     "name": "stdout",
     "output_type": "stream",
     "text": [
      "Train Loss: 0.1125 ---- Valid Loss: 0.1193 ---- Valid MCRMSE: 0.1407\n",
      "Epoch 90\n"
     ]
    },
    {
     "name": "stderr",
     "output_type": "stream",
     "text": [
      "100%|██████████| 398/398 [01:32<00:00,  4.29it/s]\n",
      "100%|██████████| 86/86 [00:06<00:00, 12.80it/s]\n",
      "  0%|          | 0/398 [00:00<?, ?it/s]"
     ]
    },
    {
     "name": "stdout",
     "output_type": "stream",
     "text": [
      "Train Loss: 0.1124 ---- Valid Loss: 0.1203 ---- Valid MCRMSE: 0.1412\n",
      "Epoch 91\n"
     ]
    },
    {
     "name": "stderr",
     "output_type": "stream",
     "text": [
      "100%|██████████| 398/398 [01:32<00:00,  4.28it/s]\n",
      "100%|██████████| 86/86 [00:06<00:00, 12.83it/s]\n",
      "  0%|          | 0/398 [00:00<?, ?it/s]"
     ]
    },
    {
     "name": "stdout",
     "output_type": "stream",
     "text": [
      "Train Loss: 0.1119 ---- Valid Loss: 0.1199 ---- Valid MCRMSE: 0.1413\n",
      "Epoch 92\n"
     ]
    },
    {
     "name": "stderr",
     "output_type": "stream",
     "text": [
      "100%|██████████| 398/398 [01:32<00:00,  4.29it/s]\n",
      "100%|██████████| 86/86 [00:06<00:00, 12.86it/s]\n",
      "  0%|          | 0/398 [00:00<?, ?it/s]"
     ]
    },
    {
     "name": "stdout",
     "output_type": "stream",
     "text": [
      "Train Loss: 0.1120 ---- Valid Loss: 0.1186 ---- Valid MCRMSE: 0.1402\n",
      "Best valid MCRMSE updated to 0.14016179740428925\n",
      "Epoch 93\n"
     ]
    },
    {
     "name": "stderr",
     "output_type": "stream",
     "text": [
      "100%|██████████| 398/398 [01:32<00:00,  4.28it/s]\n",
      "100%|██████████| 86/86 [00:06<00:00, 12.83it/s]\n",
      "  0%|          | 0/398 [00:00<?, ?it/s]"
     ]
    },
    {
     "name": "stdout",
     "output_type": "stream",
     "text": [
      "Train Loss: 0.1116 ---- Valid Loss: 0.1186 ---- Valid MCRMSE: 0.1402\n",
      "Epoch 94\n"
     ]
    },
    {
     "name": "stderr",
     "output_type": "stream",
     "text": [
      "100%|██████████| 398/398 [01:32<00:00,  4.29it/s]\n",
      "100%|██████████| 86/86 [00:06<00:00, 12.83it/s]\n",
      "  0%|          | 0/398 [00:00<?, ?it/s]"
     ]
    },
    {
     "name": "stdout",
     "output_type": "stream",
     "text": [
      "Train Loss: 0.1113 ---- Valid Loss: 0.1184 ---- Valid MCRMSE: 0.1399\n",
      "Best valid MCRMSE updated to 0.1398603767156601\n",
      "Epoch 95\n"
     ]
    },
    {
     "name": "stderr",
     "output_type": "stream",
     "text": [
      "100%|██████████| 398/398 [01:32<00:00,  4.29it/s]\n",
      "100%|██████████| 86/86 [00:06<00:00, 12.84it/s]\n",
      "  0%|          | 0/398 [00:00<?, ?it/s]"
     ]
    },
    {
     "name": "stdout",
     "output_type": "stream",
     "text": [
      "Train Loss: 0.1114 ---- Valid Loss: 0.1202 ---- Valid MCRMSE: 0.1415\n",
      "Epoch 96\n"
     ]
    },
    {
     "name": "stderr",
     "output_type": "stream",
     "text": [
      "100%|██████████| 398/398 [01:32<00:00,  4.29it/s]\n",
      "100%|██████████| 86/86 [00:06<00:00, 12.83it/s]\n",
      "  0%|          | 0/398 [00:00<?, ?it/s]"
     ]
    },
    {
     "name": "stdout",
     "output_type": "stream",
     "text": [
      "Train Loss: 0.1111 ---- Valid Loss: 0.1188 ---- Valid MCRMSE: 0.1405\n",
      "Epoch 97\n"
     ]
    },
    {
     "name": "stderr",
     "output_type": "stream",
     "text": [
      "100%|██████████| 398/398 [01:32<00:00,  4.29it/s]\n",
      "100%|██████████| 86/86 [00:06<00:00, 12.80it/s]\n",
      "  0%|          | 0/398 [00:00<?, ?it/s]"
     ]
    },
    {
     "name": "stdout",
     "output_type": "stream",
     "text": [
      "Train Loss: 0.1111 ---- Valid Loss: 0.1185 ---- Valid MCRMSE: 0.1400\n",
      "Epoch 98\n"
     ]
    },
    {
     "name": "stderr",
     "output_type": "stream",
     "text": [
      "100%|██████████| 398/398 [01:32<00:00,  4.30it/s]\n",
      "100%|██████████| 86/86 [00:06<00:00, 12.85it/s]\n",
      "  0%|          | 0/398 [00:00<?, ?it/s]"
     ]
    },
    {
     "name": "stdout",
     "output_type": "stream",
     "text": [
      "Train Loss: 0.1106 ---- Valid Loss: 0.1192 ---- Valid MCRMSE: 0.1404\n",
      "Epoch 99\n"
     ]
    },
    {
     "name": "stderr",
     "output_type": "stream",
     "text": [
      "100%|██████████| 398/398 [01:32<00:00,  4.29it/s]\n",
      "100%|██████████| 86/86 [00:06<00:00, 12.81it/s]\n",
      "  2%|▏         | 2/86 [00:00<00:05, 14.00it/s]"
     ]
    },
    {
     "name": "stdout",
     "output_type": "stream",
     "text": [
      "Train Loss: 0.1104 ---- Valid Loss: 0.1194 ---- Valid MCRMSE: 0.1410\n"
     ]
    },
    {
     "name": "stderr",
     "output_type": "stream",
     "text": [
      "100%|██████████| 86/86 [00:06<00:00, 12.91it/s]\n"
     ]
    },
    {
     "name": "stdout",
     "output_type": "stream",
     "text": [
      "Fold 3\n"
     ]
    },
    {
     "name": "stderr",
     "output_type": "stream",
     "text": [
      "\r",
      "  0%|          | 0/399 [00:00<?, ?it/s]"
     ]
    },
    {
     "name": "stdout",
     "output_type": "stream",
     "text": [
      "Epoch 0\n"
     ]
    },
    {
     "name": "stderr",
     "output_type": "stream",
     "text": [
      "100%|██████████| 399/399 [01:32<00:00,  4.31it/s]\n",
      "100%|██████████| 86/86 [00:06<00:00, 12.85it/s]\n",
      "  0%|          | 0/399 [00:00<?, ?it/s]"
     ]
    },
    {
     "name": "stdout",
     "output_type": "stream",
     "text": [
      "Train Loss: 0.2899 ---- Valid Loss: 0.2035 ---- Valid MCRMSE: 0.2130\n",
      "Best valid MCRMSE updated to 0.21302226185798645\n",
      "Epoch 1\n"
     ]
    },
    {
     "name": "stderr",
     "output_type": "stream",
     "text": [
      "100%|██████████| 399/399 [01:32<00:00,  4.30it/s]\n",
      "100%|██████████| 86/86 [00:06<00:00, 12.82it/s]\n",
      "  0%|          | 0/399 [00:00<?, ?it/s]"
     ]
    },
    {
     "name": "stdout",
     "output_type": "stream",
     "text": [
      "Train Loss: 0.2228 ---- Valid Loss: 0.1727 ---- Valid MCRMSE: 0.1870\n",
      "Best valid MCRMSE updated to 0.1869954913854599\n",
      "Epoch 2\n"
     ]
    },
    {
     "name": "stderr",
     "output_type": "stream",
     "text": [
      "100%|██████████| 399/399 [01:32<00:00,  4.29it/s]\n",
      "100%|██████████| 86/86 [00:06<00:00, 12.83it/s]\n",
      "  0%|          | 0/399 [00:00<?, ?it/s]"
     ]
    },
    {
     "name": "stdout",
     "output_type": "stream",
     "text": [
      "Train Loss: 0.2052 ---- Valid Loss: 0.1583 ---- Valid MCRMSE: 0.1737\n",
      "Best valid MCRMSE updated to 0.17370827496051788\n",
      "Epoch 3\n"
     ]
    },
    {
     "name": "stderr",
     "output_type": "stream",
     "text": [
      "100%|██████████| 399/399 [01:32<00:00,  4.30it/s]\n",
      "100%|██████████| 86/86 [00:06<00:00, 12.81it/s]\n",
      "  0%|          | 0/399 [00:00<?, ?it/s]"
     ]
    },
    {
     "name": "stdout",
     "output_type": "stream",
     "text": [
      "Train Loss: 0.1943 ---- Valid Loss: 0.1765 ---- Valid MCRMSE: 0.1866\n",
      "Epoch 4\n"
     ]
    },
    {
     "name": "stderr",
     "output_type": "stream",
     "text": [
      "100%|██████████| 399/399 [01:33<00:00,  4.29it/s]\n",
      "100%|██████████| 86/86 [00:06<00:00, 12.80it/s]\n",
      "  0%|          | 0/399 [00:00<?, ?it/s]"
     ]
    },
    {
     "name": "stdout",
     "output_type": "stream",
     "text": [
      "Train Loss: 0.1869 ---- Valid Loss: 0.1536 ---- Valid MCRMSE: 0.1703\n",
      "Best valid MCRMSE updated to 0.17032508552074432\n",
      "Epoch 5\n"
     ]
    },
    {
     "name": "stderr",
     "output_type": "stream",
     "text": [
      "100%|██████████| 399/399 [01:33<00:00,  4.29it/s]\n",
      "100%|██████████| 86/86 [00:06<00:00, 12.80it/s]\n",
      "  0%|          | 0/399 [00:00<?, ?it/s]"
     ]
    },
    {
     "name": "stdout",
     "output_type": "stream",
     "text": [
      "Train Loss: 0.1821 ---- Valid Loss: 0.1432 ---- Valid MCRMSE: 0.1618\n",
      "Best valid MCRMSE updated to 0.16180746257305145\n",
      "Epoch 6\n"
     ]
    },
    {
     "name": "stderr",
     "output_type": "stream",
     "text": [
      "100%|██████████| 399/399 [01:32<00:00,  4.30it/s]\n",
      "100%|██████████| 86/86 [00:06<00:00, 12.83it/s]\n",
      "  0%|          | 0/399 [00:00<?, ?it/s]"
     ]
    },
    {
     "name": "stdout",
     "output_type": "stream",
     "text": [
      "Train Loss: 0.1773 ---- Valid Loss: 0.1425 ---- Valid MCRMSE: 0.1593\n",
      "Best valid MCRMSE updated to 0.15932755172252655\n",
      "Epoch 7\n"
     ]
    },
    {
     "name": "stderr",
     "output_type": "stream",
     "text": [
      "100%|██████████| 399/399 [01:32<00:00,  4.29it/s]\n",
      "100%|██████████| 86/86 [00:06<00:00, 12.80it/s]\n",
      "  0%|          | 0/399 [00:00<?, ?it/s]"
     ]
    },
    {
     "name": "stdout",
     "output_type": "stream",
     "text": [
      "Train Loss: 0.1747 ---- Valid Loss: 0.1394 ---- Valid MCRMSE: 0.1569\n",
      "Best valid MCRMSE updated to 0.15685111284255981\n",
      "Epoch 8\n"
     ]
    },
    {
     "name": "stderr",
     "output_type": "stream",
     "text": [
      "100%|██████████| 399/399 [01:33<00:00,  4.29it/s]\n",
      "100%|██████████| 86/86 [00:06<00:00, 12.83it/s]\n",
      "  0%|          | 0/399 [00:00<?, ?it/s]"
     ]
    },
    {
     "name": "stdout",
     "output_type": "stream",
     "text": [
      "Train Loss: 0.1707 ---- Valid Loss: 0.1371 ---- Valid MCRMSE: 0.1547\n",
      "Best valid MCRMSE updated to 0.15472762286663055\n",
      "Epoch 9\n"
     ]
    },
    {
     "name": "stderr",
     "output_type": "stream",
     "text": [
      "100%|██████████| 399/399 [01:32<00:00,  4.30it/s]\n",
      "100%|██████████| 86/86 [00:06<00:00, 12.84it/s]\n",
      "  0%|          | 0/399 [00:00<?, ?it/s]"
     ]
    },
    {
     "name": "stdout",
     "output_type": "stream",
     "text": [
      "Train Loss: 0.1688 ---- Valid Loss: 0.1372 ---- Valid MCRMSE: 0.1561\n",
      "Epoch 10\n"
     ]
    },
    {
     "name": "stderr",
     "output_type": "stream",
     "text": [
      "100%|██████████| 399/399 [01:33<00:00,  4.29it/s]\n",
      "100%|██████████| 86/86 [00:06<00:00, 12.83it/s]\n",
      "  0%|          | 0/399 [00:00<?, ?it/s]"
     ]
    },
    {
     "name": "stdout",
     "output_type": "stream",
     "text": [
      "Train Loss: 0.1655 ---- Valid Loss: 0.1367 ---- Valid MCRMSE: 0.1541\n",
      "Best valid MCRMSE updated to 0.15408261120319366\n",
      "Epoch 11\n"
     ]
    },
    {
     "name": "stderr",
     "output_type": "stream",
     "text": [
      "100%|██████████| 399/399 [01:33<00:00,  4.29it/s]\n",
      "100%|██████████| 86/86 [00:06<00:00, 12.83it/s]\n",
      "  0%|          | 0/399 [00:00<?, ?it/s]"
     ]
    },
    {
     "name": "stdout",
     "output_type": "stream",
     "text": [
      "Train Loss: 0.1633 ---- Valid Loss: 0.1293 ---- Valid MCRMSE: 0.1487\n",
      "Best valid MCRMSE updated to 0.14874982833862305\n",
      "Epoch 12\n"
     ]
    },
    {
     "name": "stderr",
     "output_type": "stream",
     "text": [
      "100%|██████████| 399/399 [01:32<00:00,  4.30it/s]\n",
      "100%|██████████| 86/86 [00:06<00:00, 12.81it/s]\n",
      "  0%|          | 0/399 [00:00<?, ?it/s]"
     ]
    },
    {
     "name": "stdout",
     "output_type": "stream",
     "text": [
      "Train Loss: 0.1612 ---- Valid Loss: 0.1324 ---- Valid MCRMSE: 0.1502\n",
      "Epoch 13\n"
     ]
    },
    {
     "name": "stderr",
     "output_type": "stream",
     "text": [
      "100%|██████████| 399/399 [01:32<00:00,  4.29it/s]\n",
      "100%|██████████| 86/86 [00:06<00:00, 12.86it/s]\n",
      "  0%|          | 0/399 [00:00<?, ?it/s]"
     ]
    },
    {
     "name": "stdout",
     "output_type": "stream",
     "text": [
      "Train Loss: 0.1589 ---- Valid Loss: 0.1342 ---- Valid MCRMSE: 0.1510\n",
      "Epoch 14\n"
     ]
    },
    {
     "name": "stderr",
     "output_type": "stream",
     "text": [
      "100%|██████████| 399/399 [01:32<00:00,  4.30it/s]\n",
      "100%|██████████| 86/86 [00:06<00:00, 12.81it/s]\n",
      "  0%|          | 0/399 [00:00<?, ?it/s]"
     ]
    },
    {
     "name": "stdout",
     "output_type": "stream",
     "text": [
      "Train Loss: 0.1574 ---- Valid Loss: 0.1285 ---- Valid MCRMSE: 0.1473\n",
      "Best valid MCRMSE updated to 0.147286057472229\n",
      "Epoch 15\n"
     ]
    },
    {
     "name": "stderr",
     "output_type": "stream",
     "text": [
      "100%|██████████| 399/399 [01:32<00:00,  4.30it/s]\n",
      "100%|██████████| 86/86 [00:06<00:00, 12.83it/s]\n",
      "  0%|          | 0/399 [00:00<?, ?it/s]"
     ]
    },
    {
     "name": "stdout",
     "output_type": "stream",
     "text": [
      "Train Loss: 0.1554 ---- Valid Loss: 0.1255 ---- Valid MCRMSE: 0.1451\n",
      "Best valid MCRMSE updated to 0.1450529396533966\n",
      "Epoch 16\n"
     ]
    },
    {
     "name": "stderr",
     "output_type": "stream",
     "text": [
      "100%|██████████| 399/399 [01:33<00:00,  4.29it/s]\n",
      "100%|██████████| 86/86 [00:06<00:00, 12.82it/s]\n",
      "  0%|          | 0/399 [00:00<?, ?it/s]"
     ]
    },
    {
     "name": "stdout",
     "output_type": "stream",
     "text": [
      "Train Loss: 0.1545 ---- Valid Loss: 0.1302 ---- Valid MCRMSE: 0.1470\n",
      "Epoch 17\n"
     ]
    },
    {
     "name": "stderr",
     "output_type": "stream",
     "text": [
      "100%|██████████| 399/399 [01:32<00:00,  4.30it/s]\n",
      "100%|██████████| 86/86 [00:06<00:00, 12.84it/s]\n",
      "  0%|          | 0/399 [00:00<?, ?it/s]"
     ]
    },
    {
     "name": "stdout",
     "output_type": "stream",
     "text": [
      "Train Loss: 0.1523 ---- Valid Loss: 0.1252 ---- Valid MCRMSE: 0.1440\n",
      "Best valid MCRMSE updated to 0.14402906596660614\n",
      "Epoch 18\n"
     ]
    },
    {
     "name": "stderr",
     "output_type": "stream",
     "text": [
      "100%|██████████| 399/399 [01:32<00:00,  4.30it/s]\n",
      "100%|██████████| 86/86 [00:06<00:00, 12.83it/s]\n",
      "  0%|          | 0/399 [00:00<?, ?it/s]"
     ]
    },
    {
     "name": "stdout",
     "output_type": "stream",
     "text": [
      "Train Loss: 0.1510 ---- Valid Loss: 0.1239 ---- Valid MCRMSE: 0.1430\n",
      "Best valid MCRMSE updated to 0.14296801388263702\n",
      "Epoch 19\n"
     ]
    },
    {
     "name": "stderr",
     "output_type": "stream",
     "text": [
      "100%|██████████| 399/399 [01:32<00:00,  4.30it/s]\n",
      "100%|██████████| 86/86 [00:06<00:00, 12.81it/s]\n",
      "  0%|          | 0/399 [00:00<?, ?it/s]"
     ]
    },
    {
     "name": "stdout",
     "output_type": "stream",
     "text": [
      "Train Loss: 0.1494 ---- Valid Loss: 0.1234 ---- Valid MCRMSE: 0.1426\n",
      "Best valid MCRMSE updated to 0.14264439046382904\n",
      "Epoch 20\n"
     ]
    },
    {
     "name": "stderr",
     "output_type": "stream",
     "text": [
      "100%|██████████| 399/399 [01:32<00:00,  4.30it/s]\n",
      "100%|██████████| 86/86 [00:06<00:00, 12.88it/s]\n",
      "  0%|          | 0/399 [00:00<?, ?it/s]"
     ]
    },
    {
     "name": "stdout",
     "output_type": "stream",
     "text": [
      "Train Loss: 0.1485 ---- Valid Loss: 0.1241 ---- Valid MCRMSE: 0.1425\n",
      "Best valid MCRMSE updated to 0.14249049127101898\n",
      "Epoch 21\n"
     ]
    },
    {
     "name": "stderr",
     "output_type": "stream",
     "text": [
      "100%|██████████| 399/399 [01:32<00:00,  4.30it/s]\n",
      "100%|██████████| 86/86 [00:06<00:00, 12.83it/s]\n",
      "  0%|          | 0/399 [00:00<?, ?it/s]"
     ]
    },
    {
     "name": "stdout",
     "output_type": "stream",
     "text": [
      "Train Loss: 0.1469 ---- Valid Loss: 0.1224 ---- Valid MCRMSE: 0.1415\n",
      "Best valid MCRMSE updated to 0.14150607585906982\n",
      "Epoch 22\n"
     ]
    },
    {
     "name": "stderr",
     "output_type": "stream",
     "text": [
      "100%|██████████| 399/399 [01:32<00:00,  4.30it/s]\n",
      "100%|██████████| 86/86 [00:06<00:00, 12.83it/s]\n",
      "  0%|          | 0/399 [00:00<?, ?it/s]"
     ]
    },
    {
     "name": "stdout",
     "output_type": "stream",
     "text": [
      "Train Loss: 0.1456 ---- Valid Loss: 0.1219 ---- Valid MCRMSE: 0.1406\n",
      "Best valid MCRMSE updated to 0.14064477384090424\n",
      "Epoch 23\n"
     ]
    },
    {
     "name": "stderr",
     "output_type": "stream",
     "text": [
      "100%|██████████| 399/399 [01:32<00:00,  4.29it/s]\n",
      "100%|██████████| 86/86 [00:06<00:00, 12.81it/s]\n",
      "  0%|          | 0/399 [00:00<?, ?it/s]"
     ]
    },
    {
     "name": "stdout",
     "output_type": "stream",
     "text": [
      "Train Loss: 0.1445 ---- Valid Loss: 0.1354 ---- Valid MCRMSE: 0.1510\n",
      "Epoch 24\n"
     ]
    },
    {
     "name": "stderr",
     "output_type": "stream",
     "text": [
      "100%|██████████| 399/399 [01:32<00:00,  4.29it/s]\n",
      "100%|██████████| 86/86 [00:06<00:00, 12.83it/s]\n",
      "  0%|          | 0/399 [00:00<?, ?it/s]"
     ]
    },
    {
     "name": "stdout",
     "output_type": "stream",
     "text": [
      "Train Loss: 0.1437 ---- Valid Loss: 0.1254 ---- Valid MCRMSE: 0.1425\n",
      "Epoch 25\n"
     ]
    },
    {
     "name": "stderr",
     "output_type": "stream",
     "text": [
      "100%|██████████| 399/399 [01:32<00:00,  4.30it/s]\n",
      "100%|██████████| 86/86 [00:06<00:00, 12.83it/s]\n",
      "  0%|          | 0/399 [00:00<?, ?it/s]"
     ]
    },
    {
     "name": "stdout",
     "output_type": "stream",
     "text": [
      "Train Loss: 0.1424 ---- Valid Loss: 0.1220 ---- Valid MCRMSE: 0.1408\n",
      "Epoch 26\n"
     ]
    },
    {
     "name": "stderr",
     "output_type": "stream",
     "text": [
      "100%|██████████| 399/399 [01:32<00:00,  4.29it/s]\n",
      "100%|██████████| 86/86 [00:06<00:00, 12.83it/s]\n",
      "  0%|          | 0/399 [00:00<?, ?it/s]"
     ]
    },
    {
     "name": "stdout",
     "output_type": "stream",
     "text": [
      "Train Loss: 0.1415 ---- Valid Loss: 0.1226 ---- Valid MCRMSE: 0.1406\n",
      "Best valid MCRMSE updated to 0.1406029313802719\n",
      "Epoch 27\n"
     ]
    },
    {
     "name": "stderr",
     "output_type": "stream",
     "text": [
      "100%|██████████| 399/399 [01:32<00:00,  4.29it/s]\n",
      "100%|██████████| 86/86 [00:06<00:00, 12.79it/s]\n",
      "  0%|          | 0/399 [00:00<?, ?it/s]"
     ]
    },
    {
     "name": "stdout",
     "output_type": "stream",
     "text": [
      "Train Loss: 0.1406 ---- Valid Loss: 0.1250 ---- Valid MCRMSE: 0.1422\n",
      "Epoch 28\n"
     ]
    },
    {
     "name": "stderr",
     "output_type": "stream",
     "text": [
      "100%|██████████| 399/399 [01:32<00:00,  4.30it/s]\n",
      "100%|██████████| 86/86 [00:06<00:00, 12.84it/s]\n",
      "  0%|          | 0/399 [00:00<?, ?it/s]"
     ]
    },
    {
     "name": "stdout",
     "output_type": "stream",
     "text": [
      "Train Loss: 0.1395 ---- Valid Loss: 0.1214 ---- Valid MCRMSE: 0.1399\n",
      "Best valid MCRMSE updated to 0.13988550007343292\n",
      "Epoch 29\n"
     ]
    },
    {
     "name": "stderr",
     "output_type": "stream",
     "text": [
      "100%|██████████| 399/399 [01:32<00:00,  4.31it/s]\n",
      "100%|██████████| 86/86 [00:06<00:00, 12.85it/s]\n",
      "  0%|          | 0/399 [00:00<?, ?it/s]"
     ]
    },
    {
     "name": "stdout",
     "output_type": "stream",
     "text": [
      "Train Loss: 0.1390 ---- Valid Loss: 0.1189 ---- Valid MCRMSE: 0.1378\n",
      "Best valid MCRMSE updated to 0.1377524584531784\n",
      "Epoch 30\n"
     ]
    },
    {
     "name": "stderr",
     "output_type": "stream",
     "text": [
      "100%|██████████| 399/399 [01:32<00:00,  4.30it/s]\n",
      "100%|██████████| 86/86 [00:06<00:00, 12.84it/s]\n",
      "  0%|          | 0/399 [00:00<?, ?it/s]"
     ]
    },
    {
     "name": "stdout",
     "output_type": "stream",
     "text": [
      "Train Loss: 0.1378 ---- Valid Loss: 0.1190 ---- Valid MCRMSE: 0.1380\n",
      "Epoch 31\n"
     ]
    },
    {
     "name": "stderr",
     "output_type": "stream",
     "text": [
      "100%|██████████| 399/399 [01:32<00:00,  4.29it/s]\n",
      "100%|██████████| 86/86 [00:06<00:00, 12.87it/s]\n",
      "  0%|          | 0/399 [00:00<?, ?it/s]"
     ]
    },
    {
     "name": "stdout",
     "output_type": "stream",
     "text": [
      "Train Loss: 0.1370 ---- Valid Loss: 0.1217 ---- Valid MCRMSE: 0.1396\n",
      "Epoch 32\n"
     ]
    },
    {
     "name": "stderr",
     "output_type": "stream",
     "text": [
      "100%|██████████| 399/399 [01:32<00:00,  4.29it/s]\n",
      "100%|██████████| 86/86 [00:06<00:00, 12.80it/s]\n",
      "  0%|          | 0/399 [00:00<?, ?it/s]"
     ]
    },
    {
     "name": "stdout",
     "output_type": "stream",
     "text": [
      "Train Loss: 0.1368 ---- Valid Loss: 0.1201 ---- Valid MCRMSE: 0.1385\n",
      "Epoch 33\n"
     ]
    },
    {
     "name": "stderr",
     "output_type": "stream",
     "text": [
      "100%|██████████| 399/399 [01:32<00:00,  4.30it/s]\n",
      "100%|██████████| 86/86 [00:06<00:00, 12.85it/s]\n",
      "  0%|          | 0/399 [00:00<?, ?it/s]"
     ]
    },
    {
     "name": "stdout",
     "output_type": "stream",
     "text": [
      "Train Loss: 0.1361 ---- Valid Loss: 0.1203 ---- Valid MCRMSE: 0.1383\n",
      "Epoch 34\n"
     ]
    },
    {
     "name": "stderr",
     "output_type": "stream",
     "text": [
      "100%|██████████| 399/399 [01:32<00:00,  4.29it/s]\n",
      "100%|██████████| 86/86 [00:06<00:00, 12.81it/s]\n",
      "  0%|          | 0/399 [00:00<?, ?it/s]"
     ]
    },
    {
     "name": "stdout",
     "output_type": "stream",
     "text": [
      "Train Loss: 0.1348 ---- Valid Loss: 0.1197 ---- Valid MCRMSE: 0.1377\n",
      "Best valid MCRMSE updated to 0.13771943747997284\n",
      "Epoch 35\n"
     ]
    },
    {
     "name": "stderr",
     "output_type": "stream",
     "text": [
      "100%|██████████| 399/399 [01:32<00:00,  4.30it/s]\n",
      "100%|██████████| 86/86 [00:06<00:00, 12.83it/s]\n",
      "  0%|          | 0/399 [00:00<?, ?it/s]"
     ]
    },
    {
     "name": "stdout",
     "output_type": "stream",
     "text": [
      "Train Loss: 0.1340 ---- Valid Loss: 0.1203 ---- Valid MCRMSE: 0.1387\n",
      "Epoch 36\n"
     ]
    },
    {
     "name": "stderr",
     "output_type": "stream",
     "text": [
      "100%|██████████| 399/399 [01:32<00:00,  4.29it/s]\n",
      "100%|██████████| 86/86 [00:06<00:00, 12.82it/s]\n",
      "  0%|          | 0/399 [00:00<?, ?it/s]"
     ]
    },
    {
     "name": "stdout",
     "output_type": "stream",
     "text": [
      "Train Loss: 0.1332 ---- Valid Loss: 0.1189 ---- Valid MCRMSE: 0.1374\n",
      "Best valid MCRMSE updated to 0.13741375505924225\n",
      "Epoch 37\n"
     ]
    },
    {
     "name": "stderr",
     "output_type": "stream",
     "text": [
      "100%|██████████| 399/399 [01:32<00:00,  4.29it/s]\n",
      "100%|██████████| 86/86 [00:06<00:00, 12.82it/s]\n",
      "  0%|          | 0/399 [00:00<?, ?it/s]"
     ]
    },
    {
     "name": "stdout",
     "output_type": "stream",
     "text": [
      "Train Loss: 0.1330 ---- Valid Loss: 0.1181 ---- Valid MCRMSE: 0.1368\n",
      "Best valid MCRMSE updated to 0.13681107759475708\n",
      "Epoch 38\n"
     ]
    },
    {
     "name": "stderr",
     "output_type": "stream",
     "text": [
      "100%|██████████| 399/399 [01:33<00:00,  4.29it/s]\n",
      "100%|██████████| 86/86 [00:06<00:00, 12.82it/s]\n",
      "  0%|          | 0/399 [00:00<?, ?it/s]"
     ]
    },
    {
     "name": "stdout",
     "output_type": "stream",
     "text": [
      "Train Loss: 0.1322 ---- Valid Loss: 0.1178 ---- Valid MCRMSE: 0.1367\n",
      "Best valid MCRMSE updated to 0.13671565055847168\n",
      "Epoch 39\n"
     ]
    },
    {
     "name": "stderr",
     "output_type": "stream",
     "text": [
      "100%|██████████| 399/399 [01:32<00:00,  4.29it/s]\n",
      "100%|██████████| 86/86 [00:06<00:00, 12.82it/s]\n",
      "  0%|          | 0/399 [00:00<?, ?it/s]"
     ]
    },
    {
     "name": "stdout",
     "output_type": "stream",
     "text": [
      "Train Loss: 0.1318 ---- Valid Loss: 0.1199 ---- Valid MCRMSE: 0.1383\n",
      "Epoch 40\n"
     ]
    },
    {
     "name": "stderr",
     "output_type": "stream",
     "text": [
      "100%|██████████| 399/399 [01:32<00:00,  4.30it/s]\n",
      "100%|██████████| 86/86 [00:06<00:00, 12.83it/s]\n",
      "  0%|          | 0/399 [00:00<?, ?it/s]"
     ]
    },
    {
     "name": "stdout",
     "output_type": "stream",
     "text": [
      "Train Loss: 0.1312 ---- Valid Loss: 0.1199 ---- Valid MCRMSE: 0.1379\n",
      "Epoch 41\n"
     ]
    },
    {
     "name": "stderr",
     "output_type": "stream",
     "text": [
      "100%|██████████| 399/399 [01:33<00:00,  4.29it/s]\n",
      "100%|██████████| 86/86 [00:06<00:00, 12.82it/s]\n",
      "  0%|          | 0/399 [00:00<?, ?it/s]"
     ]
    },
    {
     "name": "stdout",
     "output_type": "stream",
     "text": [
      "Train Loss: 0.1307 ---- Valid Loss: 0.1199 ---- Valid MCRMSE: 0.1377\n",
      "Epoch 42\n"
     ]
    },
    {
     "name": "stderr",
     "output_type": "stream",
     "text": [
      "100%|██████████| 399/399 [01:32<00:00,  4.30it/s]\n",
      "100%|██████████| 86/86 [00:06<00:00, 12.87it/s]\n",
      "  0%|          | 0/399 [00:00<?, ?it/s]"
     ]
    },
    {
     "name": "stdout",
     "output_type": "stream",
     "text": [
      "Train Loss: 0.1305 ---- Valid Loss: 0.1183 ---- Valid MCRMSE: 0.1375\n",
      "Epoch 43\n"
     ]
    },
    {
     "name": "stderr",
     "output_type": "stream",
     "text": [
      "100%|██████████| 399/399 [01:32<00:00,  4.30it/s]\n",
      "100%|██████████| 86/86 [00:06<00:00, 12.80it/s]\n",
      "  0%|          | 0/399 [00:00<?, ?it/s]"
     ]
    },
    {
     "name": "stdout",
     "output_type": "stream",
     "text": [
      "Train Loss: 0.1291 ---- Valid Loss: 0.1182 ---- Valid MCRMSE: 0.1369\n",
      "Epoch 44\n"
     ]
    },
    {
     "name": "stderr",
     "output_type": "stream",
     "text": [
      "100%|██████████| 399/399 [01:32<00:00,  4.30it/s]\n",
      "100%|██████████| 86/86 [00:06<00:00, 12.83it/s]\n",
      "  0%|          | 0/399 [00:00<?, ?it/s]"
     ]
    },
    {
     "name": "stdout",
     "output_type": "stream",
     "text": [
      "Train Loss: 0.1288 ---- Valid Loss: 0.1183 ---- Valid MCRMSE: 0.1368\n",
      "Epoch 45\n"
     ]
    },
    {
     "name": "stderr",
     "output_type": "stream",
     "text": [
      "100%|██████████| 399/399 [01:32<00:00,  4.29it/s]\n",
      "100%|██████████| 86/86 [00:06<00:00, 12.83it/s]\n",
      "  0%|          | 0/399 [00:00<?, ?it/s]"
     ]
    },
    {
     "name": "stdout",
     "output_type": "stream",
     "text": [
      "Train Loss: 0.1284 ---- Valid Loss: 0.1169 ---- Valid MCRMSE: 0.1359\n",
      "Best valid MCRMSE updated to 0.13588367402553558\n",
      "Epoch 46\n"
     ]
    },
    {
     "name": "stderr",
     "output_type": "stream",
     "text": [
      "100%|██████████| 399/399 [01:32<00:00,  4.29it/s]\n",
      "100%|██████████| 86/86 [00:06<00:00, 12.85it/s]\n",
      "  0%|          | 0/399 [00:00<?, ?it/s]"
     ]
    },
    {
     "name": "stdout",
     "output_type": "stream",
     "text": [
      "Train Loss: 0.1279 ---- Valid Loss: 0.1186 ---- Valid MCRMSE: 0.1371\n",
      "Epoch 47\n"
     ]
    },
    {
     "name": "stderr",
     "output_type": "stream",
     "text": [
      "100%|██████████| 399/399 [01:32<00:00,  4.29it/s]\n",
      "100%|██████████| 86/86 [00:06<00:00, 12.80it/s]\n",
      "  0%|          | 0/399 [00:00<?, ?it/s]"
     ]
    },
    {
     "name": "stdout",
     "output_type": "stream",
     "text": [
      "Train Loss: 0.1278 ---- Valid Loss: 0.1174 ---- Valid MCRMSE: 0.1362\n",
      "Epoch 48\n"
     ]
    },
    {
     "name": "stderr",
     "output_type": "stream",
     "text": [
      "100%|██████████| 399/399 [01:32<00:00,  4.30it/s]\n",
      "100%|██████████| 86/86 [00:06<00:00, 12.85it/s]\n",
      "  0%|          | 0/399 [00:00<?, ?it/s]"
     ]
    },
    {
     "name": "stdout",
     "output_type": "stream",
     "text": [
      "Train Loss: 0.1272 ---- Valid Loss: 0.1182 ---- Valid MCRMSE: 0.1365\n",
      "Epoch 49\n"
     ]
    },
    {
     "name": "stderr",
     "output_type": "stream",
     "text": [
      "100%|██████████| 399/399 [01:32<00:00,  4.29it/s]\n",
      "100%|██████████| 86/86 [00:06<00:00, 12.86it/s]\n",
      "  0%|          | 0/399 [00:00<?, ?it/s]"
     ]
    },
    {
     "name": "stdout",
     "output_type": "stream",
     "text": [
      "Train Loss: 0.1265 ---- Valid Loss: 0.1191 ---- Valid MCRMSE: 0.1376\n",
      "Epoch 50\n"
     ]
    },
    {
     "name": "stderr",
     "output_type": "stream",
     "text": [
      "100%|██████████| 399/399 [01:32<00:00,  4.30it/s]\n",
      "100%|██████████| 86/86 [00:06<00:00, 12.83it/s]\n",
      "  0%|          | 0/399 [00:00<?, ?it/s]"
     ]
    },
    {
     "name": "stdout",
     "output_type": "stream",
     "text": [
      "Train Loss: 0.1260 ---- Valid Loss: 0.1172 ---- Valid MCRMSE: 0.1361\n",
      "Epoch 51\n"
     ]
    },
    {
     "name": "stderr",
     "output_type": "stream",
     "text": [
      "100%|██████████| 399/399 [01:32<00:00,  4.30it/s]\n",
      "100%|██████████| 86/86 [00:06<00:00, 12.82it/s]\n",
      "  0%|          | 0/399 [00:00<?, ?it/s]"
     ]
    },
    {
     "name": "stdout",
     "output_type": "stream",
     "text": [
      "Train Loss: 0.1258 ---- Valid Loss: 0.1169 ---- Valid MCRMSE: 0.1358\n",
      "Best valid MCRMSE updated to 0.1358455866575241\n",
      "Epoch 52\n"
     ]
    },
    {
     "name": "stderr",
     "output_type": "stream",
     "text": [
      "100%|██████████| 399/399 [01:32<00:00,  4.29it/s]\n",
      "100%|██████████| 86/86 [00:06<00:00, 12.80it/s]\n",
      "  0%|          | 0/399 [00:00<?, ?it/s]"
     ]
    },
    {
     "name": "stdout",
     "output_type": "stream",
     "text": [
      "Train Loss: 0.1252 ---- Valid Loss: 0.1174 ---- Valid MCRMSE: 0.1362\n",
      "Epoch 53\n"
     ]
    },
    {
     "name": "stderr",
     "output_type": "stream",
     "text": [
      "100%|██████████| 399/399 [01:32<00:00,  4.29it/s]\n",
      "100%|██████████| 86/86 [00:06<00:00, 12.86it/s]\n",
      "  0%|          | 0/399 [00:00<?, ?it/s]"
     ]
    },
    {
     "name": "stdout",
     "output_type": "stream",
     "text": [
      "Train Loss: 0.1249 ---- Valid Loss: 0.1174 ---- Valid MCRMSE: 0.1361\n",
      "Epoch 54\n"
     ]
    },
    {
     "name": "stderr",
     "output_type": "stream",
     "text": [
      "100%|██████████| 399/399 [01:32<00:00,  4.30it/s]\n",
      "100%|██████████| 86/86 [00:06<00:00, 12.82it/s]\n",
      "  0%|          | 0/399 [00:00<?, ?it/s]"
     ]
    },
    {
     "name": "stdout",
     "output_type": "stream",
     "text": [
      "Train Loss: 0.1245 ---- Valid Loss: 0.1175 ---- Valid MCRMSE: 0.1361\n",
      "Epoch 55\n"
     ]
    },
    {
     "name": "stderr",
     "output_type": "stream",
     "text": [
      "100%|██████████| 399/399 [01:32<00:00,  4.30it/s]\n",
      "100%|██████████| 86/86 [00:06<00:00, 12.82it/s]\n",
      "  0%|          | 0/399 [00:00<?, ?it/s]"
     ]
    },
    {
     "name": "stdout",
     "output_type": "stream",
     "text": [
      "Train Loss: 0.1241 ---- Valid Loss: 0.1167 ---- Valid MCRMSE: 0.1358\n",
      "Best valid MCRMSE updated to 0.1357966959476471\n",
      "Epoch 56\n"
     ]
    },
    {
     "name": "stderr",
     "output_type": "stream",
     "text": [
      "100%|██████████| 399/399 [01:32<00:00,  4.30it/s]\n",
      "100%|██████████| 86/86 [00:06<00:00, 12.84it/s]\n",
      "  0%|          | 0/399 [00:00<?, ?it/s]"
     ]
    },
    {
     "name": "stdout",
     "output_type": "stream",
     "text": [
      "Train Loss: 0.1240 ---- Valid Loss: 0.1202 ---- Valid MCRMSE: 0.1378\n",
      "Epoch 57\n"
     ]
    },
    {
     "name": "stderr",
     "output_type": "stream",
     "text": [
      "100%|██████████| 399/399 [01:32<00:00,  4.30it/s]\n",
      "100%|██████████| 86/86 [00:06<00:00, 12.86it/s]\n",
      "  0%|          | 0/399 [00:00<?, ?it/s]"
     ]
    },
    {
     "name": "stdout",
     "output_type": "stream",
     "text": [
      "Train Loss: 0.1234 ---- Valid Loss: 0.1228 ---- Valid MCRMSE: 0.1392\n",
      "Epoch 58\n"
     ]
    },
    {
     "name": "stderr",
     "output_type": "stream",
     "text": [
      "100%|██████████| 399/399 [01:32<00:00,  4.30it/s]\n",
      "100%|██████████| 86/86 [00:06<00:00, 12.84it/s]\n",
      "  0%|          | 0/399 [00:00<?, ?it/s]"
     ]
    },
    {
     "name": "stdout",
     "output_type": "stream",
     "text": [
      "Train Loss: 0.1231 ---- Valid Loss: 0.1221 ---- Valid MCRMSE: 0.1396\n",
      "Epoch 59\n"
     ]
    },
    {
     "name": "stderr",
     "output_type": "stream",
     "text": [
      "100%|██████████| 399/399 [01:32<00:00,  4.31it/s]\n",
      "100%|██████████| 86/86 [00:06<00:00, 12.83it/s]\n",
      "  0%|          | 0/399 [00:00<?, ?it/s]"
     ]
    },
    {
     "name": "stdout",
     "output_type": "stream",
     "text": [
      "Train Loss: 0.1228 ---- Valid Loss: 0.1171 ---- Valid MCRMSE: 0.1357\n",
      "Best valid MCRMSE updated to 0.13568851351737976\n",
      "Epoch 60\n"
     ]
    },
    {
     "name": "stderr",
     "output_type": "stream",
     "text": [
      "100%|██████████| 399/399 [01:32<00:00,  4.31it/s]\n",
      "100%|██████████| 86/86 [00:06<00:00, 12.86it/s]\n",
      "  0%|          | 0/399 [00:00<?, ?it/s]"
     ]
    },
    {
     "name": "stdout",
     "output_type": "stream",
     "text": [
      "Train Loss: 0.1218 ---- Valid Loss: 0.1156 ---- Valid MCRMSE: 0.1350\n",
      "Best valid MCRMSE updated to 0.13495337963104248\n",
      "Epoch 61\n"
     ]
    },
    {
     "name": "stderr",
     "output_type": "stream",
     "text": [
      "100%|██████████| 399/399 [01:32<00:00,  4.31it/s]\n",
      "100%|██████████| 86/86 [00:06<00:00, 12.88it/s]\n",
      "  0%|          | 0/399 [00:00<?, ?it/s]"
     ]
    },
    {
     "name": "stdout",
     "output_type": "stream",
     "text": [
      "Train Loss: 0.1218 ---- Valid Loss: 0.1170 ---- Valid MCRMSE: 0.1355\n",
      "Epoch 62\n"
     ]
    },
    {
     "name": "stderr",
     "output_type": "stream",
     "text": [
      "100%|██████████| 399/399 [01:32<00:00,  4.30it/s]\n",
      "100%|██████████| 86/86 [00:06<00:00, 12.85it/s]\n",
      "  0%|          | 0/399 [00:00<?, ?it/s]"
     ]
    },
    {
     "name": "stdout",
     "output_type": "stream",
     "text": [
      "Train Loss: 0.1215 ---- Valid Loss: 0.1172 ---- Valid MCRMSE: 0.1360\n",
      "Epoch 63\n"
     ]
    },
    {
     "name": "stderr",
     "output_type": "stream",
     "text": [
      "100%|██████████| 399/399 [01:32<00:00,  4.31it/s]\n",
      "100%|██████████| 86/86 [00:06<00:00, 12.88it/s]\n",
      "  0%|          | 0/399 [00:00<?, ?it/s]"
     ]
    },
    {
     "name": "stdout",
     "output_type": "stream",
     "text": [
      "Train Loss: 0.1208 ---- Valid Loss: 0.1223 ---- Valid MCRMSE: 0.1397\n",
      "Epoch 64\n"
     ]
    },
    {
     "name": "stderr",
     "output_type": "stream",
     "text": [
      "100%|██████████| 399/399 [01:32<00:00,  4.31it/s]\n",
      "100%|██████████| 86/86 [00:06<00:00, 12.89it/s]\n",
      "  0%|          | 0/399 [00:00<?, ?it/s]"
     ]
    },
    {
     "name": "stdout",
     "output_type": "stream",
     "text": [
      "Train Loss: 0.1206 ---- Valid Loss: 0.1178 ---- Valid MCRMSE: 0.1365\n",
      "Epoch 65\n"
     ]
    },
    {
     "name": "stderr",
     "output_type": "stream",
     "text": [
      "100%|██████████| 399/399 [01:32<00:00,  4.31it/s]\n",
      "100%|██████████| 86/86 [00:06<00:00, 12.86it/s]\n",
      "  0%|          | 0/399 [00:00<?, ?it/s]"
     ]
    },
    {
     "name": "stdout",
     "output_type": "stream",
     "text": [
      "Train Loss: 0.1202 ---- Valid Loss: 0.1159 ---- Valid MCRMSE: 0.1348\n",
      "Best valid MCRMSE updated to 0.13480044901371002\n",
      "Epoch 66\n"
     ]
    },
    {
     "name": "stderr",
     "output_type": "stream",
     "text": [
      "100%|██████████| 399/399 [01:32<00:00,  4.31it/s]\n",
      "100%|██████████| 86/86 [00:06<00:00, 12.88it/s]\n",
      "  0%|          | 0/399 [00:00<?, ?it/s]"
     ]
    },
    {
     "name": "stdout",
     "output_type": "stream",
     "text": [
      "Train Loss: 0.1198 ---- Valid Loss: 0.1152 ---- Valid MCRMSE: 0.1347\n",
      "Best valid MCRMSE updated to 0.13474141061306\n",
      "Epoch 67\n"
     ]
    },
    {
     "name": "stderr",
     "output_type": "stream",
     "text": [
      "100%|██████████| 399/399 [01:32<00:00,  4.31it/s]\n",
      "100%|██████████| 86/86 [00:06<00:00, 12.85it/s]\n",
      "  0%|          | 0/399 [00:00<?, ?it/s]"
     ]
    },
    {
     "name": "stdout",
     "output_type": "stream",
     "text": [
      "Train Loss: 0.1198 ---- Valid Loss: 0.1196 ---- Valid MCRMSE: 0.1377\n",
      "Epoch 68\n"
     ]
    },
    {
     "name": "stderr",
     "output_type": "stream",
     "text": [
      "100%|██████████| 399/399 [01:32<00:00,  4.31it/s]\n",
      "100%|██████████| 86/86 [00:06<00:00, 12.86it/s]\n",
      "  0%|          | 0/399 [00:00<?, ?it/s]"
     ]
    },
    {
     "name": "stdout",
     "output_type": "stream",
     "text": [
      "Train Loss: 0.1194 ---- Valid Loss: 0.1161 ---- Valid MCRMSE: 0.1353\n",
      "Epoch 69\n"
     ]
    },
    {
     "name": "stderr",
     "output_type": "stream",
     "text": [
      "100%|██████████| 399/399 [01:32<00:00,  4.31it/s]\n",
      "100%|██████████| 86/86 [00:06<00:00, 12.83it/s]\n",
      "  0%|          | 0/399 [00:00<?, ?it/s]"
     ]
    },
    {
     "name": "stdout",
     "output_type": "stream",
     "text": [
      "Train Loss: 0.1192 ---- Valid Loss: 0.1164 ---- Valid MCRMSE: 0.1350\n",
      "Epoch 70\n"
     ]
    },
    {
     "name": "stderr",
     "output_type": "stream",
     "text": [
      "100%|██████████| 399/399 [01:32<00:00,  4.31it/s]\n",
      "100%|██████████| 86/86 [00:06<00:00, 12.85it/s]\n",
      "  0%|          | 0/399 [00:00<?, ?it/s]"
     ]
    },
    {
     "name": "stdout",
     "output_type": "stream",
     "text": [
      "Train Loss: 0.1190 ---- Valid Loss: 0.1167 ---- Valid MCRMSE: 0.1360\n",
      "Epoch 71\n"
     ]
    },
    {
     "name": "stderr",
     "output_type": "stream",
     "text": [
      "100%|██████████| 399/399 [01:32<00:00,  4.31it/s]\n",
      "100%|██████████| 86/86 [00:06<00:00, 12.83it/s]\n",
      "  0%|          | 0/399 [00:00<?, ?it/s]"
     ]
    },
    {
     "name": "stdout",
     "output_type": "stream",
     "text": [
      "Train Loss: 0.1182 ---- Valid Loss: 0.1195 ---- Valid MCRMSE: 0.1379\n",
      "Epoch 72\n"
     ]
    },
    {
     "name": "stderr",
     "output_type": "stream",
     "text": [
      "100%|██████████| 399/399 [01:32<00:00,  4.31it/s]\n",
      "100%|██████████| 86/86 [00:06<00:00, 12.86it/s]\n",
      "  0%|          | 0/399 [00:00<?, ?it/s]"
     ]
    },
    {
     "name": "stdout",
     "output_type": "stream",
     "text": [
      "Train Loss: 0.1182 ---- Valid Loss: 0.1171 ---- Valid MCRMSE: 0.1361\n",
      "Epoch 73\n"
     ]
    },
    {
     "name": "stderr",
     "output_type": "stream",
     "text": [
      "100%|██████████| 399/399 [01:32<00:00,  4.31it/s]\n",
      "100%|██████████| 86/86 [00:06<00:00, 12.73it/s]\n",
      "  0%|          | 0/399 [00:00<?, ?it/s]"
     ]
    },
    {
     "name": "stdout",
     "output_type": "stream",
     "text": [
      "Train Loss: 0.1179 ---- Valid Loss: 0.1162 ---- Valid MCRMSE: 0.1354\n",
      "Epoch 74\n"
     ]
    },
    {
     "name": "stderr",
     "output_type": "stream",
     "text": [
      "100%|██████████| 399/399 [01:32<00:00,  4.31it/s]\n",
      "100%|██████████| 86/86 [00:06<00:00, 12.78it/s]\n",
      "  0%|          | 0/399 [00:00<?, ?it/s]"
     ]
    },
    {
     "name": "stdout",
     "output_type": "stream",
     "text": [
      "Train Loss: 0.1176 ---- Valid Loss: 0.1172 ---- Valid MCRMSE: 0.1358\n",
      "Epoch 75\n"
     ]
    },
    {
     "name": "stderr",
     "output_type": "stream",
     "text": [
      "100%|██████████| 399/399 [01:32<00:00,  4.32it/s]\n",
      "100%|██████████| 86/86 [00:06<00:00, 12.85it/s]\n",
      "  0%|          | 0/399 [00:00<?, ?it/s]"
     ]
    },
    {
     "name": "stdout",
     "output_type": "stream",
     "text": [
      "Train Loss: 0.1174 ---- Valid Loss: 0.1181 ---- Valid MCRMSE: 0.1365\n",
      "Epoch 76\n"
     ]
    },
    {
     "name": "stderr",
     "output_type": "stream",
     "text": [
      "100%|██████████| 399/399 [01:32<00:00,  4.33it/s]\n",
      "100%|██████████| 86/86 [00:06<00:00, 12.88it/s]\n",
      "  0%|          | 0/399 [00:00<?, ?it/s]"
     ]
    },
    {
     "name": "stdout",
     "output_type": "stream",
     "text": [
      "Train Loss: 0.1171 ---- Valid Loss: 0.1180 ---- Valid MCRMSE: 0.1367\n",
      "Epoch 77\n"
     ]
    },
    {
     "name": "stderr",
     "output_type": "stream",
     "text": [
      "100%|██████████| 399/399 [01:32<00:00,  4.32it/s]\n",
      "100%|██████████| 86/86 [00:06<00:00, 12.78it/s]\n",
      "  0%|          | 0/399 [00:00<?, ?it/s]"
     ]
    },
    {
     "name": "stdout",
     "output_type": "stream",
     "text": [
      "Train Loss: 0.1163 ---- Valid Loss: 0.1180 ---- Valid MCRMSE: 0.1369\n",
      "Epoch 78\n"
     ]
    },
    {
     "name": "stderr",
     "output_type": "stream",
     "text": [
      "100%|██████████| 399/399 [01:32<00:00,  4.30it/s]\n",
      "100%|██████████| 86/86 [00:06<00:00, 12.69it/s]\n",
      "  0%|          | 0/399 [00:00<?, ?it/s]"
     ]
    },
    {
     "name": "stdout",
     "output_type": "stream",
     "text": [
      "Train Loss: 0.1163 ---- Valid Loss: 0.1170 ---- Valid MCRMSE: 0.1364\n",
      "Epoch 79\n"
     ]
    },
    {
     "name": "stderr",
     "output_type": "stream",
     "text": [
      "100%|██████████| 399/399 [01:32<00:00,  4.30it/s]\n",
      "100%|██████████| 86/86 [00:06<00:00, 12.68it/s]\n",
      "  0%|          | 0/399 [00:00<?, ?it/s]"
     ]
    },
    {
     "name": "stdout",
     "output_type": "stream",
     "text": [
      "Train Loss: 0.1160 ---- Valid Loss: 0.1171 ---- Valid MCRMSE: 0.1361\n",
      "Epoch 80\n"
     ]
    },
    {
     "name": "stderr",
     "output_type": "stream",
     "text": [
      "100%|██████████| 399/399 [01:33<00:00,  4.28it/s]\n",
      "100%|██████████| 86/86 [00:06<00:00, 12.75it/s]\n",
      "  0%|          | 0/399 [00:00<?, ?it/s]"
     ]
    },
    {
     "name": "stdout",
     "output_type": "stream",
     "text": [
      "Train Loss: 0.1162 ---- Valid Loss: 0.1176 ---- Valid MCRMSE: 0.1362\n",
      "Epoch 81\n"
     ]
    },
    {
     "name": "stderr",
     "output_type": "stream",
     "text": [
      "100%|██████████| 399/399 [01:33<00:00,  4.29it/s]\n",
      "100%|██████████| 86/86 [00:06<00:00, 12.62it/s]\n",
      "  0%|          | 0/399 [00:00<?, ?it/s]"
     ]
    },
    {
     "name": "stdout",
     "output_type": "stream",
     "text": [
      "Train Loss: 0.1155 ---- Valid Loss: 0.1178 ---- Valid MCRMSE: 0.1365\n",
      "Epoch 82\n"
     ]
    },
    {
     "name": "stderr",
     "output_type": "stream",
     "text": [
      "100%|██████████| 399/399 [01:32<00:00,  4.29it/s]\n",
      "100%|██████████| 86/86 [00:06<00:00, 12.64it/s]\n",
      "  0%|          | 0/399 [00:00<?, ?it/s]"
     ]
    },
    {
     "name": "stdout",
     "output_type": "stream",
     "text": [
      "Train Loss: 0.1151 ---- Valid Loss: 0.1165 ---- Valid MCRMSE: 0.1360\n",
      "Epoch 83\n"
     ]
    },
    {
     "name": "stderr",
     "output_type": "stream",
     "text": [
      "100%|██████████| 399/399 [01:33<00:00,  4.27it/s]\n",
      "100%|██████████| 86/86 [00:06<00:00, 12.66it/s]\n",
      "  0%|          | 0/399 [00:00<?, ?it/s]"
     ]
    },
    {
     "name": "stdout",
     "output_type": "stream",
     "text": [
      "Train Loss: 0.1151 ---- Valid Loss: 0.1183 ---- Valid MCRMSE: 0.1371\n",
      "Epoch 84\n"
     ]
    },
    {
     "name": "stderr",
     "output_type": "stream",
     "text": [
      "100%|██████████| 399/399 [01:33<00:00,  4.29it/s]\n",
      "100%|██████████| 86/86 [00:06<00:00, 12.72it/s]\n",
      "  0%|          | 0/399 [00:00<?, ?it/s]"
     ]
    },
    {
     "name": "stdout",
     "output_type": "stream",
     "text": [
      "Train Loss: 0.1147 ---- Valid Loss: 0.1158 ---- Valid MCRMSE: 0.1351\n",
      "Epoch 85\n"
     ]
    },
    {
     "name": "stderr",
     "output_type": "stream",
     "text": [
      "100%|██████████| 399/399 [01:33<00:00,  4.29it/s]\n",
      "100%|██████████| 86/86 [00:06<00:00, 12.69it/s]\n",
      "  0%|          | 0/399 [00:00<?, ?it/s]"
     ]
    },
    {
     "name": "stdout",
     "output_type": "stream",
     "text": [
      "Train Loss: 0.1149 ---- Valid Loss: 0.1175 ---- Valid MCRMSE: 0.1370\n",
      "Epoch 86\n"
     ]
    },
    {
     "name": "stderr",
     "output_type": "stream",
     "text": [
      "100%|██████████| 399/399 [01:33<00:00,  4.27it/s]\n",
      "100%|██████████| 86/86 [00:06<00:00, 12.65it/s]\n",
      "  0%|          | 0/399 [00:00<?, ?it/s]"
     ]
    },
    {
     "name": "stdout",
     "output_type": "stream",
     "text": [
      "Train Loss: 0.1145 ---- Valid Loss: 0.1161 ---- Valid MCRMSE: 0.1357\n",
      "Epoch 87\n"
     ]
    },
    {
     "name": "stderr",
     "output_type": "stream",
     "text": [
      "100%|██████████| 399/399 [01:33<00:00,  4.28it/s]\n",
      "100%|██████████| 86/86 [00:06<00:00, 12.74it/s]\n",
      "  0%|          | 0/399 [00:00<?, ?it/s]"
     ]
    },
    {
     "name": "stdout",
     "output_type": "stream",
     "text": [
      "Train Loss: 0.1141 ---- Valid Loss: 0.1164 ---- Valid MCRMSE: 0.1353\n",
      "Epoch 88\n"
     ]
    },
    {
     "name": "stderr",
     "output_type": "stream",
     "text": [
      "100%|██████████| 399/399 [01:33<00:00,  4.27it/s]\n",
      "100%|██████████| 86/86 [00:06<00:00, 12.66it/s]\n",
      "  0%|          | 0/399 [00:00<?, ?it/s]"
     ]
    },
    {
     "name": "stdout",
     "output_type": "stream",
     "text": [
      "Train Loss: 0.1139 ---- Valid Loss: 0.1148 ---- Valid MCRMSE: 0.1340\n",
      "Best valid MCRMSE updated to 0.133980393409729\n",
      "Epoch 89\n"
     ]
    },
    {
     "name": "stderr",
     "output_type": "stream",
     "text": [
      "100%|██████████| 399/399 [01:33<00:00,  4.27it/s]\n",
      "100%|██████████| 86/86 [00:06<00:00, 12.75it/s]\n",
      "  0%|          | 0/399 [00:00<?, ?it/s]"
     ]
    },
    {
     "name": "stdout",
     "output_type": "stream",
     "text": [
      "Train Loss: 0.1137 ---- Valid Loss: 0.1174 ---- Valid MCRMSE: 0.1365\n",
      "Epoch 90\n"
     ]
    },
    {
     "name": "stderr",
     "output_type": "stream",
     "text": [
      "100%|██████████| 399/399 [01:33<00:00,  4.28it/s]\n",
      "100%|██████████| 86/86 [00:06<00:00, 12.67it/s]\n",
      "  0%|          | 0/399 [00:00<?, ?it/s]"
     ]
    },
    {
     "name": "stdout",
     "output_type": "stream",
     "text": [
      "Train Loss: 0.1135 ---- Valid Loss: 0.1144 ---- Valid MCRMSE: 0.1343\n",
      "Epoch 91\n"
     ]
    },
    {
     "name": "stderr",
     "output_type": "stream",
     "text": [
      "100%|██████████| 399/399 [01:33<00:00,  4.29it/s]\n",
      "100%|██████████| 86/86 [00:06<00:00, 12.72it/s]\n",
      "  0%|          | 0/399 [00:00<?, ?it/s]"
     ]
    },
    {
     "name": "stdout",
     "output_type": "stream",
     "text": [
      "Train Loss: 0.1130 ---- Valid Loss: 0.1150 ---- Valid MCRMSE: 0.1348\n",
      "Epoch 92\n"
     ]
    },
    {
     "name": "stderr",
     "output_type": "stream",
     "text": [
      "100%|██████████| 399/399 [01:33<00:00,  4.29it/s]\n",
      "100%|██████████| 86/86 [00:06<00:00, 12.68it/s]\n",
      "  0%|          | 0/399 [00:00<?, ?it/s]"
     ]
    },
    {
     "name": "stdout",
     "output_type": "stream",
     "text": [
      "Train Loss: 0.1130 ---- Valid Loss: 0.1164 ---- Valid MCRMSE: 0.1359\n",
      "Epoch 93\n"
     ]
    },
    {
     "name": "stderr",
     "output_type": "stream",
     "text": [
      "100%|██████████| 399/399 [01:33<00:00,  4.28it/s]\n",
      "100%|██████████| 86/86 [00:06<00:00, 12.61it/s]\n",
      "  0%|          | 0/399 [00:00<?, ?it/s]"
     ]
    },
    {
     "name": "stdout",
     "output_type": "stream",
     "text": [
      "Train Loss: 0.1126 ---- Valid Loss: 0.1158 ---- Valid MCRMSE: 0.1354\n",
      "Epoch 94\n"
     ]
    },
    {
     "name": "stderr",
     "output_type": "stream",
     "text": [
      "100%|██████████| 399/399 [01:33<00:00,  4.28it/s]\n",
      "100%|██████████| 86/86 [00:06<00:00, 12.70it/s]\n",
      "  0%|          | 0/399 [00:00<?, ?it/s]"
     ]
    },
    {
     "name": "stdout",
     "output_type": "stream",
     "text": [
      "Train Loss: 0.1127 ---- Valid Loss: 0.1148 ---- Valid MCRMSE: 0.1346\n",
      "Epoch 95\n"
     ]
    },
    {
     "name": "stderr",
     "output_type": "stream",
     "text": [
      "100%|██████████| 399/399 [01:32<00:00,  4.30it/s]\n",
      "100%|██████████| 86/86 [00:06<00:00, 12.83it/s]\n",
      "  0%|          | 0/399 [00:00<?, ?it/s]"
     ]
    },
    {
     "name": "stdout",
     "output_type": "stream",
     "text": [
      "Train Loss: 0.1127 ---- Valid Loss: 0.1146 ---- Valid MCRMSE: 0.1344\n",
      "Epoch 96\n"
     ]
    },
    {
     "name": "stderr",
     "output_type": "stream",
     "text": [
      "100%|██████████| 399/399 [01:32<00:00,  4.31it/s]\n",
      "100%|██████████| 86/86 [00:06<00:00, 12.77it/s]\n",
      "  0%|          | 0/399 [00:00<?, ?it/s]"
     ]
    },
    {
     "name": "stdout",
     "output_type": "stream",
     "text": [
      "Train Loss: 0.1118 ---- Valid Loss: 0.1153 ---- Valid MCRMSE: 0.1350\n",
      "Epoch 97\n"
     ]
    },
    {
     "name": "stderr",
     "output_type": "stream",
     "text": [
      "100%|██████████| 399/399 [01:32<00:00,  4.32it/s]\n",
      "100%|██████████| 86/86 [00:06<00:00, 12.79it/s]\n",
      "  0%|          | 0/399 [00:00<?, ?it/s]"
     ]
    },
    {
     "name": "stdout",
     "output_type": "stream",
     "text": [
      "Train Loss: 0.1121 ---- Valid Loss: 0.1169 ---- Valid MCRMSE: 0.1361\n",
      "Epoch 98\n"
     ]
    },
    {
     "name": "stderr",
     "output_type": "stream",
     "text": [
      "100%|██████████| 399/399 [01:32<00:00,  4.31it/s]\n",
      "100%|██████████| 86/86 [00:06<00:00, 12.82it/s]\n",
      "  0%|          | 0/399 [00:00<?, ?it/s]"
     ]
    },
    {
     "name": "stdout",
     "output_type": "stream",
     "text": [
      "Train Loss: 0.1116 ---- Valid Loss: 0.1157 ---- Valid MCRMSE: 0.1351\n",
      "Epoch 99\n"
     ]
    },
    {
     "name": "stderr",
     "output_type": "stream",
     "text": [
      "100%|██████████| 399/399 [01:32<00:00,  4.31it/s]\n",
      "100%|██████████| 86/86 [00:06<00:00, 12.85it/s]\n",
      "  2%|▏         | 2/86 [00:00<00:05, 14.04it/s]"
     ]
    },
    {
     "name": "stdout",
     "output_type": "stream",
     "text": [
      "Train Loss: 0.1116 ---- Valid Loss: 0.1157 ---- Valid MCRMSE: 0.1351\n"
     ]
    },
    {
     "name": "stderr",
     "output_type": "stream",
     "text": [
      "100%|██████████| 86/86 [00:06<00:00, 12.92it/s]\n"
     ]
    },
    {
     "name": "stdout",
     "output_type": "stream",
     "text": [
      "Fold 4\n"
     ]
    },
    {
     "name": "stderr",
     "output_type": "stream",
     "text": [
      "\r",
      "  0%|          | 0/398 [00:00<?, ?it/s]"
     ]
    },
    {
     "name": "stdout",
     "output_type": "stream",
     "text": [
      "Epoch 0\n"
     ]
    },
    {
     "name": "stderr",
     "output_type": "stream",
     "text": [
      "100%|██████████| 398/398 [01:32<00:00,  4.31it/s]\n",
      "100%|██████████| 86/86 [00:06<00:00, 12.38it/s]\n",
      "  0%|          | 0/398 [00:00<?, ?it/s]"
     ]
    },
    {
     "name": "stdout",
     "output_type": "stream",
     "text": [
      "Train Loss: 0.2967 ---- Valid Loss: 0.1949 ---- Valid MCRMSE: 0.2051\n",
      "Best valid MCRMSE updated to 0.20512604713439941\n",
      "Epoch 1\n"
     ]
    },
    {
     "name": "stderr",
     "output_type": "stream",
     "text": [
      "100%|██████████| 398/398 [01:32<00:00,  4.29it/s]\n",
      "100%|██████████| 86/86 [00:06<00:00, 12.84it/s]\n",
      "  0%|          | 0/398 [00:00<?, ?it/s]"
     ]
    },
    {
     "name": "stdout",
     "output_type": "stream",
     "text": [
      "Train Loss: 0.2250 ---- Valid Loss: 0.1671 ---- Valid MCRMSE: 0.1809\n",
      "Best valid MCRMSE updated to 0.1809416264295578\n",
      "Epoch 2\n"
     ]
    },
    {
     "name": "stderr",
     "output_type": "stream",
     "text": [
      "100%|██████████| 398/398 [01:32<00:00,  4.29it/s]\n",
      "100%|██████████| 86/86 [00:06<00:00, 12.82it/s]\n",
      "  0%|          | 0/398 [00:00<?, ?it/s]"
     ]
    },
    {
     "name": "stdout",
     "output_type": "stream",
     "text": [
      "Train Loss: 0.2039 ---- Valid Loss: 0.1548 ---- Valid MCRMSE: 0.1708\n",
      "Best valid MCRMSE updated to 0.1708003133535385\n",
      "Epoch 3\n"
     ]
    },
    {
     "name": "stderr",
     "output_type": "stream",
     "text": [
      "100%|██████████| 398/398 [01:32<00:00,  4.30it/s]\n",
      "100%|██████████| 86/86 [00:06<00:00, 12.81it/s]\n",
      "  0%|          | 0/398 [00:00<?, ?it/s]"
     ]
    },
    {
     "name": "stdout",
     "output_type": "stream",
     "text": [
      "Train Loss: 0.1925 ---- Valid Loss: 0.1493 ---- Valid MCRMSE: 0.1660\n",
      "Best valid MCRMSE updated to 0.1660175770521164\n",
      "Epoch 4\n"
     ]
    },
    {
     "name": "stderr",
     "output_type": "stream",
     "text": [
      "100%|██████████| 398/398 [01:32<00:00,  4.29it/s]\n",
      "100%|██████████| 86/86 [00:06<00:00, 12.83it/s]\n",
      "  0%|          | 0/398 [00:00<?, ?it/s]"
     ]
    },
    {
     "name": "stdout",
     "output_type": "stream",
     "text": [
      "Train Loss: 0.1861 ---- Valid Loss: 0.1423 ---- Valid MCRMSE: 0.1602\n",
      "Best valid MCRMSE updated to 0.16021163761615753\n",
      "Epoch 5\n"
     ]
    },
    {
     "name": "stderr",
     "output_type": "stream",
     "text": [
      "100%|██████████| 398/398 [01:32<00:00,  4.30it/s]\n",
      "100%|██████████| 86/86 [00:06<00:00, 12.86it/s]\n",
      "  0%|          | 0/398 [00:00<?, ?it/s]"
     ]
    },
    {
     "name": "stdout",
     "output_type": "stream",
     "text": [
      "Train Loss: 0.1809 ---- Valid Loss: 0.1458 ---- Valid MCRMSE: 0.1626\n",
      "Epoch 6\n"
     ]
    },
    {
     "name": "stderr",
     "output_type": "stream",
     "text": [
      "100%|██████████| 398/398 [01:32<00:00,  4.29it/s]\n",
      "100%|██████████| 86/86 [00:06<00:00, 12.70it/s]\n",
      "  0%|          | 0/398 [00:00<?, ?it/s]"
     ]
    },
    {
     "name": "stdout",
     "output_type": "stream",
     "text": [
      "Train Loss: 0.1768 ---- Valid Loss: 0.1380 ---- Valid MCRMSE: 0.1552\n",
      "Best valid MCRMSE updated to 0.15516245365142822\n",
      "Epoch 7\n"
     ]
    },
    {
     "name": "stderr",
     "output_type": "stream",
     "text": [
      "100%|██████████| 398/398 [01:32<00:00,  4.29it/s]\n",
      "100%|██████████| 86/86 [00:06<00:00, 12.82it/s]\n",
      "  0%|          | 0/398 [00:00<?, ?it/s]"
     ]
    },
    {
     "name": "stdout",
     "output_type": "stream",
     "text": [
      "Train Loss: 0.1734 ---- Valid Loss: 0.1399 ---- Valid MCRMSE: 0.1565\n",
      "Epoch 8\n"
     ]
    },
    {
     "name": "stderr",
     "output_type": "stream",
     "text": [
      "100%|██████████| 398/398 [01:32<00:00,  4.29it/s]\n",
      "100%|██████████| 86/86 [00:06<00:00, 12.83it/s]\n",
      "  0%|          | 0/398 [00:00<?, ?it/s]"
     ]
    },
    {
     "name": "stdout",
     "output_type": "stream",
     "text": [
      "Train Loss: 0.1704 ---- Valid Loss: 0.1341 ---- Valid MCRMSE: 0.1514\n",
      "Best valid MCRMSE updated to 0.15144531428813934\n",
      "Epoch 9\n"
     ]
    },
    {
     "name": "stderr",
     "output_type": "stream",
     "text": [
      "100%|██████████| 398/398 [01:32<00:00,  4.29it/s]\n",
      "100%|██████████| 86/86 [00:06<00:00, 12.81it/s]\n",
      "  0%|          | 0/398 [00:00<?, ?it/s]"
     ]
    },
    {
     "name": "stdout",
     "output_type": "stream",
     "text": [
      "Train Loss: 0.1670 ---- Valid Loss: 0.1314 ---- Valid MCRMSE: 0.1496\n",
      "Best valid MCRMSE updated to 0.14962638914585114\n",
      "Epoch 10\n"
     ]
    },
    {
     "name": "stderr",
     "output_type": "stream",
     "text": [
      "100%|██████████| 398/398 [01:33<00:00,  4.28it/s]\n",
      "100%|██████████| 86/86 [00:06<00:00, 12.82it/s]\n",
      "  0%|          | 0/398 [00:00<?, ?it/s]"
     ]
    },
    {
     "name": "stdout",
     "output_type": "stream",
     "text": [
      "Train Loss: 0.1650 ---- Valid Loss: 0.1332 ---- Valid MCRMSE: 0.1506\n",
      "Epoch 11\n"
     ]
    },
    {
     "name": "stderr",
     "output_type": "stream",
     "text": [
      "100%|██████████| 398/398 [01:32<00:00,  4.29it/s]\n",
      "100%|██████████| 86/86 [00:06<00:00, 12.85it/s]\n",
      "  0%|          | 0/398 [00:00<?, ?it/s]"
     ]
    },
    {
     "name": "stdout",
     "output_type": "stream",
     "text": [
      "Train Loss: 0.1624 ---- Valid Loss: 0.1346 ---- Valid MCRMSE: 0.1516\n",
      "Epoch 12\n"
     ]
    },
    {
     "name": "stderr",
     "output_type": "stream",
     "text": [
      "100%|██████████| 398/398 [01:32<00:00,  4.28it/s]\n",
      "100%|██████████| 86/86 [00:06<00:00, 12.82it/s]\n",
      "  0%|          | 0/398 [00:00<?, ?it/s]"
     ]
    },
    {
     "name": "stdout",
     "output_type": "stream",
     "text": [
      "Train Loss: 0.1602 ---- Valid Loss: 0.1329 ---- Valid MCRMSE: 0.1494\n",
      "Best valid MCRMSE updated to 0.1494278460741043\n",
      "Epoch 13\n"
     ]
    },
    {
     "name": "stderr",
     "output_type": "stream",
     "text": [
      "100%|██████████| 398/398 [01:32<00:00,  4.28it/s]\n",
      "100%|██████████| 86/86 [00:06<00:00, 12.81it/s]\n",
      "  0%|          | 0/398 [00:00<?, ?it/s]"
     ]
    },
    {
     "name": "stdout",
     "output_type": "stream",
     "text": [
      "Train Loss: 0.1578 ---- Valid Loss: 0.1252 ---- Valid MCRMSE: 0.1437\n",
      "Best valid MCRMSE updated to 0.1436624675989151\n",
      "Epoch 14\n"
     ]
    },
    {
     "name": "stderr",
     "output_type": "stream",
     "text": [
      "100%|██████████| 398/398 [01:32<00:00,  4.28it/s]\n",
      "100%|██████████| 86/86 [00:06<00:00, 12.81it/s]\n",
      "  0%|          | 0/398 [00:00<?, ?it/s]"
     ]
    },
    {
     "name": "stdout",
     "output_type": "stream",
     "text": [
      "Train Loss: 0.1563 ---- Valid Loss: 0.1269 ---- Valid MCRMSE: 0.1448\n",
      "Epoch 15\n"
     ]
    },
    {
     "name": "stderr",
     "output_type": "stream",
     "text": [
      "100%|██████████| 398/398 [01:32<00:00,  4.28it/s]\n",
      "100%|██████████| 86/86 [00:06<00:00, 12.77it/s]\n",
      "  0%|          | 0/398 [00:00<?, ?it/s]"
     ]
    },
    {
     "name": "stdout",
     "output_type": "stream",
     "text": [
      "Train Loss: 0.1542 ---- Valid Loss: 0.1268 ---- Valid MCRMSE: 0.1446\n",
      "Epoch 16\n"
     ]
    },
    {
     "name": "stderr",
     "output_type": "stream",
     "text": [
      "100%|██████████| 398/398 [01:32<00:00,  4.29it/s]\n",
      "100%|██████████| 86/86 [00:06<00:00, 12.81it/s]\n",
      "  0%|          | 0/398 [00:00<?, ?it/s]"
     ]
    },
    {
     "name": "stdout",
     "output_type": "stream",
     "text": [
      "Train Loss: 0.1530 ---- Valid Loss: 0.1266 ---- Valid MCRMSE: 0.1441\n",
      "Epoch 17\n"
     ]
    },
    {
     "name": "stderr",
     "output_type": "stream",
     "text": [
      "100%|██████████| 398/398 [01:32<00:00,  4.28it/s]\n",
      "100%|██████████| 86/86 [00:06<00:00, 12.82it/s]\n",
      "  0%|          | 0/398 [00:00<?, ?it/s]"
     ]
    },
    {
     "name": "stdout",
     "output_type": "stream",
     "text": [
      "Train Loss: 0.1512 ---- Valid Loss: 0.1262 ---- Valid MCRMSE: 0.1433\n",
      "Best valid MCRMSE updated to 0.1433364599943161\n",
      "Epoch 18\n"
     ]
    },
    {
     "name": "stderr",
     "output_type": "stream",
     "text": [
      "100%|██████████| 398/398 [01:33<00:00,  4.28it/s]\n",
      "100%|██████████| 86/86 [00:06<00:00, 12.63it/s]\n",
      "  0%|          | 0/398 [00:00<?, ?it/s]"
     ]
    },
    {
     "name": "stdout",
     "output_type": "stream",
     "text": [
      "Train Loss: 0.1502 ---- Valid Loss: 0.1248 ---- Valid MCRMSE: 0.1427\n",
      "Best valid MCRMSE updated to 0.1427239626646042\n",
      "Epoch 19\n"
     ]
    },
    {
     "name": "stderr",
     "output_type": "stream",
     "text": [
      "100%|██████████| 398/398 [01:32<00:00,  4.29it/s]\n",
      "100%|██████████| 86/86 [00:06<00:00, 12.79it/s]\n",
      "  0%|          | 0/398 [00:00<?, ?it/s]"
     ]
    },
    {
     "name": "stdout",
     "output_type": "stream",
     "text": [
      "Train Loss: 0.1485 ---- Valid Loss: 0.1226 ---- Valid MCRMSE: 0.1412\n",
      "Best valid MCRMSE updated to 0.14116907119750977\n",
      "Epoch 20\n"
     ]
    },
    {
     "name": "stderr",
     "output_type": "stream",
     "text": [
      "100%|██████████| 398/398 [01:32<00:00,  4.29it/s]\n",
      "100%|██████████| 86/86 [00:06<00:00, 12.84it/s]\n",
      "  0%|          | 0/398 [00:00<?, ?it/s]"
     ]
    },
    {
     "name": "stdout",
     "output_type": "stream",
     "text": [
      "Train Loss: 0.1472 ---- Valid Loss: 0.1248 ---- Valid MCRMSE: 0.1423\n",
      "Epoch 21\n"
     ]
    },
    {
     "name": "stderr",
     "output_type": "stream",
     "text": [
      "100%|██████████| 398/398 [01:32<00:00,  4.28it/s]\n",
      "100%|██████████| 86/86 [00:06<00:00, 12.84it/s]\n",
      "  0%|          | 0/398 [00:00<?, ?it/s]"
     ]
    },
    {
     "name": "stdout",
     "output_type": "stream",
     "text": [
      "Train Loss: 0.1459 ---- Valid Loss: 0.1267 ---- Valid MCRMSE: 0.1444\n",
      "Epoch 22\n"
     ]
    },
    {
     "name": "stderr",
     "output_type": "stream",
     "text": [
      "100%|██████████| 398/398 [01:32<00:00,  4.28it/s]\n",
      "100%|██████████| 86/86 [00:06<00:00, 12.81it/s]\n",
      "  0%|          | 0/398 [00:00<?, ?it/s]"
     ]
    },
    {
     "name": "stdout",
     "output_type": "stream",
     "text": [
      "Train Loss: 0.1448 ---- Valid Loss: 0.1235 ---- Valid MCRMSE: 0.1414\n",
      "Epoch 23\n"
     ]
    },
    {
     "name": "stderr",
     "output_type": "stream",
     "text": [
      "100%|██████████| 398/398 [01:32<00:00,  4.29it/s]\n",
      "100%|██████████| 86/86 [00:06<00:00, 12.81it/s]\n",
      "  0%|          | 0/398 [00:00<?, ?it/s]"
     ]
    },
    {
     "name": "stdout",
     "output_type": "stream",
     "text": [
      "Train Loss: 0.1440 ---- Valid Loss: 0.1253 ---- Valid MCRMSE: 0.1428\n",
      "Epoch 24\n"
     ]
    },
    {
     "name": "stderr",
     "output_type": "stream",
     "text": [
      "100%|██████████| 398/398 [01:32<00:00,  4.28it/s]\n",
      "100%|██████████| 86/86 [00:06<00:00, 12.82it/s]\n",
      "  0%|          | 0/398 [00:00<?, ?it/s]"
     ]
    },
    {
     "name": "stdout",
     "output_type": "stream",
     "text": [
      "Train Loss: 0.1424 ---- Valid Loss: 0.1219 ---- Valid MCRMSE: 0.1401\n",
      "Best valid MCRMSE updated to 0.14011013507843018\n",
      "Epoch 25\n"
     ]
    },
    {
     "name": "stderr",
     "output_type": "stream",
     "text": [
      "100%|██████████| 398/398 [01:32<00:00,  4.29it/s]\n",
      "100%|██████████| 86/86 [00:06<00:00, 12.82it/s]\n",
      "  0%|          | 0/398 [00:00<?, ?it/s]"
     ]
    },
    {
     "name": "stdout",
     "output_type": "stream",
     "text": [
      "Train Loss: 0.1421 ---- Valid Loss: 0.1232 ---- Valid MCRMSE: 0.1413\n",
      "Epoch 26\n"
     ]
    },
    {
     "name": "stderr",
     "output_type": "stream",
     "text": [
      "100%|██████████| 398/398 [01:32<00:00,  4.29it/s]\n",
      "100%|██████████| 86/86 [00:06<00:00, 12.81it/s]\n",
      "  0%|          | 0/398 [00:00<?, ?it/s]"
     ]
    },
    {
     "name": "stdout",
     "output_type": "stream",
     "text": [
      "Train Loss: 0.1404 ---- Valid Loss: 0.1230 ---- Valid MCRMSE: 0.1405\n",
      "Epoch 27\n"
     ]
    },
    {
     "name": "stderr",
     "output_type": "stream",
     "text": [
      "100%|██████████| 398/398 [01:32<00:00,  4.29it/s]\n",
      "100%|██████████| 86/86 [00:06<00:00, 12.65it/s]\n",
      "  0%|          | 0/398 [00:00<?, ?it/s]"
     ]
    },
    {
     "name": "stdout",
     "output_type": "stream",
     "text": [
      "Train Loss: 0.1394 ---- Valid Loss: 0.1202 ---- Valid MCRMSE: 0.1389\n",
      "Best valid MCRMSE updated to 0.13891495764255524\n",
      "Epoch 28\n"
     ]
    },
    {
     "name": "stderr",
     "output_type": "stream",
     "text": [
      "100%|██████████| 398/398 [01:32<00:00,  4.30it/s]\n",
      "100%|██████████| 86/86 [00:06<00:00, 12.64it/s]\n",
      "  0%|          | 0/398 [00:00<?, ?it/s]"
     ]
    },
    {
     "name": "stdout",
     "output_type": "stream",
     "text": [
      "Train Loss: 0.1389 ---- Valid Loss: 0.1212 ---- Valid MCRMSE: 0.1393\n",
      "Epoch 29\n"
     ]
    },
    {
     "name": "stderr",
     "output_type": "stream",
     "text": [
      "100%|██████████| 398/398 [01:32<00:00,  4.29it/s]\n",
      "100%|██████████| 86/86 [00:06<00:00, 12.63it/s]\n",
      "  0%|          | 0/398 [00:00<?, ?it/s]"
     ]
    },
    {
     "name": "stdout",
     "output_type": "stream",
     "text": [
      "Train Loss: 0.1378 ---- Valid Loss: 0.1220 ---- Valid MCRMSE: 0.1393\n",
      "Epoch 30\n"
     ]
    },
    {
     "name": "stderr",
     "output_type": "stream",
     "text": [
      "100%|██████████| 398/398 [01:32<00:00,  4.29it/s]\n",
      "100%|██████████| 86/86 [00:06<00:00, 12.69it/s]\n",
      "  0%|          | 0/398 [00:00<?, ?it/s]"
     ]
    },
    {
     "name": "stdout",
     "output_type": "stream",
     "text": [
      "Train Loss: 0.1373 ---- Valid Loss: 0.1190 ---- Valid MCRMSE: 0.1378\n",
      "Best valid MCRMSE updated to 0.13775956630706787\n",
      "Epoch 31\n"
     ]
    },
    {
     "name": "stderr",
     "output_type": "stream",
     "text": [
      "100%|██████████| 398/398 [01:32<00:00,  4.29it/s]\n",
      "100%|██████████| 86/86 [00:06<00:00, 12.80it/s]\n",
      "  0%|          | 0/398 [00:00<?, ?it/s]"
     ]
    },
    {
     "name": "stdout",
     "output_type": "stream",
     "text": [
      "Train Loss: 0.1361 ---- Valid Loss: 0.1219 ---- Valid MCRMSE: 0.1398\n",
      "Epoch 32\n"
     ]
    },
    {
     "name": "stderr",
     "output_type": "stream",
     "text": [
      "100%|██████████| 398/398 [01:32<00:00,  4.28it/s]\n",
      "100%|██████████| 86/86 [00:06<00:00, 12.76it/s]\n",
      "  0%|          | 0/398 [00:00<?, ?it/s]"
     ]
    },
    {
     "name": "stdout",
     "output_type": "stream",
     "text": [
      "Train Loss: 0.1356 ---- Valid Loss: 0.1200 ---- Valid MCRMSE: 0.1380\n",
      "Epoch 33\n"
     ]
    },
    {
     "name": "stderr",
     "output_type": "stream",
     "text": [
      "100%|██████████| 398/398 [01:32<00:00,  4.29it/s]\n",
      "100%|██████████| 86/86 [00:06<00:00, 12.71it/s]\n",
      "  0%|          | 0/398 [00:00<?, ?it/s]"
     ]
    },
    {
     "name": "stdout",
     "output_type": "stream",
     "text": [
      "Train Loss: 0.1348 ---- Valid Loss: 0.1188 ---- Valid MCRMSE: 0.1371\n",
      "Best valid MCRMSE updated to 0.13711939752101898\n",
      "Epoch 34\n"
     ]
    },
    {
     "name": "stderr",
     "output_type": "stream",
     "text": [
      "100%|██████████| 398/398 [01:33<00:00,  4.27it/s]\n",
      "100%|██████████| 86/86 [00:06<00:00, 12.65it/s]\n",
      "  0%|          | 0/398 [00:00<?, ?it/s]"
     ]
    },
    {
     "name": "stdout",
     "output_type": "stream",
     "text": [
      "Train Loss: 0.1342 ---- Valid Loss: 0.1190 ---- Valid MCRMSE: 0.1375\n",
      "Epoch 35\n"
     ]
    },
    {
     "name": "stderr",
     "output_type": "stream",
     "text": [
      "100%|██████████| 398/398 [01:33<00:00,  4.26it/s]\n",
      "100%|██████████| 86/86 [00:06<00:00, 12.67it/s]\n",
      "  0%|          | 0/398 [00:00<?, ?it/s]"
     ]
    },
    {
     "name": "stdout",
     "output_type": "stream",
     "text": [
      "Train Loss: 0.1335 ---- Valid Loss: 0.1189 ---- Valid MCRMSE: 0.1373\n",
      "Epoch 36\n"
     ]
    },
    {
     "name": "stderr",
     "output_type": "stream",
     "text": [
      "100%|██████████| 398/398 [01:32<00:00,  4.28it/s]\n",
      "100%|██████████| 86/86 [00:06<00:00, 12.74it/s]\n",
      "  0%|          | 0/398 [00:00<?, ?it/s]"
     ]
    },
    {
     "name": "stdout",
     "output_type": "stream",
     "text": [
      "Train Loss: 0.1323 ---- Valid Loss: 0.1190 ---- Valid MCRMSE: 0.1371\n",
      "Epoch 37\n"
     ]
    },
    {
     "name": "stderr",
     "output_type": "stream",
     "text": [
      "100%|██████████| 398/398 [01:32<00:00,  4.28it/s]\n",
      "100%|██████████| 86/86 [00:06<00:00, 12.78it/s]\n",
      "  0%|          | 0/398 [00:00<?, ?it/s]"
     ]
    },
    {
     "name": "stdout",
     "output_type": "stream",
     "text": [
      "Train Loss: 0.1319 ---- Valid Loss: 0.1190 ---- Valid MCRMSE: 0.1370\n",
      "Best valid MCRMSE updated to 0.13701549172401428\n",
      "Epoch 38\n"
     ]
    },
    {
     "name": "stderr",
     "output_type": "stream",
     "text": [
      "100%|██████████| 398/398 [01:32<00:00,  4.29it/s]\n",
      "100%|██████████| 86/86 [00:06<00:00, 12.76it/s]\n",
      "  0%|          | 0/398 [00:00<?, ?it/s]"
     ]
    },
    {
     "name": "stdout",
     "output_type": "stream",
     "text": [
      "Train Loss: 0.1314 ---- Valid Loss: 0.1183 ---- Valid MCRMSE: 0.1368\n",
      "Best valid MCRMSE updated to 0.1367606669664383\n",
      "Epoch 39\n"
     ]
    },
    {
     "name": "stderr",
     "output_type": "stream",
     "text": [
      "100%|██████████| 398/398 [01:32<00:00,  4.29it/s]\n",
      "100%|██████████| 86/86 [00:06<00:00, 12.74it/s]\n",
      "  0%|          | 0/398 [00:00<?, ?it/s]"
     ]
    },
    {
     "name": "stdout",
     "output_type": "stream",
     "text": [
      "Train Loss: 0.1312 ---- Valid Loss: 0.1181 ---- Valid MCRMSE: 0.1367\n",
      "Best valid MCRMSE updated to 0.13669441640377045\n",
      "Epoch 40\n"
     ]
    },
    {
     "name": "stderr",
     "output_type": "stream",
     "text": [
      "100%|██████████| 398/398 [01:32<00:00,  4.29it/s]\n",
      "100%|██████████| 86/86 [00:06<00:00, 12.80it/s]\n",
      "  0%|          | 0/398 [00:00<?, ?it/s]"
     ]
    },
    {
     "name": "stdout",
     "output_type": "stream",
     "text": [
      "Train Loss: 0.1301 ---- Valid Loss: 0.1192 ---- Valid MCRMSE: 0.1377\n",
      "Epoch 41\n"
     ]
    },
    {
     "name": "stderr",
     "output_type": "stream",
     "text": [
      "100%|██████████| 398/398 [01:32<00:00,  4.29it/s]\n",
      "100%|██████████| 86/86 [00:06<00:00, 12.72it/s]\n",
      "  0%|          | 0/398 [00:00<?, ?it/s]"
     ]
    },
    {
     "name": "stdout",
     "output_type": "stream",
     "text": [
      "Train Loss: 0.1295 ---- Valid Loss: 0.1167 ---- Valid MCRMSE: 0.1357\n",
      "Best valid MCRMSE updated to 0.13571953773498535\n",
      "Epoch 42\n"
     ]
    },
    {
     "name": "stderr",
     "output_type": "stream",
     "text": [
      "100%|██████████| 398/398 [01:32<00:00,  4.29it/s]\n",
      "100%|██████████| 86/86 [00:06<00:00, 12.80it/s]\n",
      "  0%|          | 0/398 [00:00<?, ?it/s]"
     ]
    },
    {
     "name": "stdout",
     "output_type": "stream",
     "text": [
      "Train Loss: 0.1289 ---- Valid Loss: 0.1176 ---- Valid MCRMSE: 0.1364\n",
      "Epoch 43\n"
     ]
    },
    {
     "name": "stderr",
     "output_type": "stream",
     "text": [
      "100%|██████████| 398/398 [01:32<00:00,  4.29it/s]\n",
      "100%|██████████| 86/86 [00:06<00:00, 12.83it/s]\n",
      "  0%|          | 0/398 [00:00<?, ?it/s]"
     ]
    },
    {
     "name": "stdout",
     "output_type": "stream",
     "text": [
      "Train Loss: 0.1286 ---- Valid Loss: 0.1184 ---- Valid MCRMSE: 0.1373\n",
      "Epoch 44\n"
     ]
    },
    {
     "name": "stderr",
     "output_type": "stream",
     "text": [
      "100%|██████████| 398/398 [01:32<00:00,  4.29it/s]\n",
      "100%|██████████| 86/86 [00:06<00:00, 12.87it/s]\n",
      "  0%|          | 0/398 [00:00<?, ?it/s]"
     ]
    },
    {
     "name": "stdout",
     "output_type": "stream",
     "text": [
      "Train Loss: 0.1279 ---- Valid Loss: 0.1176 ---- Valid MCRMSE: 0.1361\n",
      "Epoch 45\n"
     ]
    },
    {
     "name": "stderr",
     "output_type": "stream",
     "text": [
      "100%|██████████| 398/398 [01:32<00:00,  4.29it/s]\n",
      "100%|██████████| 86/86 [00:06<00:00, 12.84it/s]\n",
      "  0%|          | 0/398 [00:00<?, ?it/s]"
     ]
    },
    {
     "name": "stdout",
     "output_type": "stream",
     "text": [
      "Train Loss: 0.1276 ---- Valid Loss: 0.1166 ---- Valid MCRMSE: 0.1359\n",
      "Epoch 46\n"
     ]
    },
    {
     "name": "stderr",
     "output_type": "stream",
     "text": [
      "100%|██████████| 398/398 [01:32<00:00,  4.28it/s]\n",
      "100%|██████████| 86/86 [00:06<00:00, 12.85it/s]\n",
      "  0%|          | 0/398 [00:00<?, ?it/s]"
     ]
    },
    {
     "name": "stdout",
     "output_type": "stream",
     "text": [
      "Train Loss: 0.1269 ---- Valid Loss: 0.1173 ---- Valid MCRMSE: 0.1362\n",
      "Epoch 47\n"
     ]
    },
    {
     "name": "stderr",
     "output_type": "stream",
     "text": [
      "100%|██████████| 398/398 [01:32<00:00,  4.29it/s]\n",
      "100%|██████████| 86/86 [00:06<00:00, 12.80it/s]\n",
      "  0%|          | 0/398 [00:00<?, ?it/s]"
     ]
    },
    {
     "name": "stdout",
     "output_type": "stream",
     "text": [
      "Train Loss: 0.1263 ---- Valid Loss: 0.1193 ---- Valid MCRMSE: 0.1378\n",
      "Epoch 48\n"
     ]
    },
    {
     "name": "stderr",
     "output_type": "stream",
     "text": [
      "100%|██████████| 398/398 [01:32<00:00,  4.29it/s]\n",
      "100%|██████████| 86/86 [00:06<00:00, 12.82it/s]\n",
      "  0%|          | 0/398 [00:00<?, ?it/s]"
     ]
    },
    {
     "name": "stdout",
     "output_type": "stream",
     "text": [
      "Train Loss: 0.1260 ---- Valid Loss: 0.1171 ---- Valid MCRMSE: 0.1363\n",
      "Epoch 49\n"
     ]
    },
    {
     "name": "stderr",
     "output_type": "stream",
     "text": [
      "100%|██████████| 398/398 [01:32<00:00,  4.29it/s]\n",
      "100%|██████████| 86/86 [00:06<00:00, 12.77it/s]\n",
      "  0%|          | 0/398 [00:00<?, ?it/s]"
     ]
    },
    {
     "name": "stdout",
     "output_type": "stream",
     "text": [
      "Train Loss: 0.1255 ---- Valid Loss: 0.1182 ---- Valid MCRMSE: 0.1369\n",
      "Epoch 50\n"
     ]
    },
    {
     "name": "stderr",
     "output_type": "stream",
     "text": [
      "100%|██████████| 398/398 [01:32<00:00,  4.29it/s]\n",
      "100%|██████████| 86/86 [00:06<00:00, 12.82it/s]\n",
      "  0%|          | 0/398 [00:00<?, ?it/s]"
     ]
    },
    {
     "name": "stdout",
     "output_type": "stream",
     "text": [
      "Train Loss: 0.1248 ---- Valid Loss: 0.1168 ---- Valid MCRMSE: 0.1357\n",
      "Best valid MCRMSE updated to 0.1357189267873764\n",
      "Epoch 51\n"
     ]
    },
    {
     "name": "stderr",
     "output_type": "stream",
     "text": [
      "100%|██████████| 398/398 [01:32<00:00,  4.28it/s]\n",
      "100%|██████████| 86/86 [00:06<00:00, 12.77it/s]\n",
      "  0%|          | 0/398 [00:00<?, ?it/s]"
     ]
    },
    {
     "name": "stdout",
     "output_type": "stream",
     "text": [
      "Train Loss: 0.1247 ---- Valid Loss: 0.1193 ---- Valid MCRMSE: 0.1372\n",
      "Epoch 52\n"
     ]
    },
    {
     "name": "stderr",
     "output_type": "stream",
     "text": [
      "100%|██████████| 398/398 [01:33<00:00,  4.28it/s]\n",
      "100%|██████████| 86/86 [00:06<00:00, 12.70it/s]\n",
      "  0%|          | 0/398 [00:00<?, ?it/s]"
     ]
    },
    {
     "name": "stdout",
     "output_type": "stream",
     "text": [
      "Train Loss: 0.1245 ---- Valid Loss: 0.1178 ---- Valid MCRMSE: 0.1363\n",
      "Epoch 53\n"
     ]
    },
    {
     "name": "stderr",
     "output_type": "stream",
     "text": [
      "100%|██████████| 398/398 [01:32<00:00,  4.28it/s]\n",
      "100%|██████████| 86/86 [00:06<00:00, 12.67it/s]\n",
      "  0%|          | 0/398 [00:00<?, ?it/s]"
     ]
    },
    {
     "name": "stdout",
     "output_type": "stream",
     "text": [
      "Train Loss: 0.1235 ---- Valid Loss: 0.1189 ---- Valid MCRMSE: 0.1373\n",
      "Epoch 54\n"
     ]
    },
    {
     "name": "stderr",
     "output_type": "stream",
     "text": [
      "100%|██████████| 398/398 [01:33<00:00,  4.28it/s]\n",
      "100%|██████████| 86/86 [00:06<00:00, 12.72it/s]\n",
      "  0%|          | 0/398 [00:00<?, ?it/s]"
     ]
    },
    {
     "name": "stdout",
     "output_type": "stream",
     "text": [
      "Train Loss: 0.1237 ---- Valid Loss: 0.1165 ---- Valid MCRMSE: 0.1356\n",
      "Best valid MCRMSE updated to 0.1356474608182907\n",
      "Epoch 55\n"
     ]
    },
    {
     "name": "stderr",
     "output_type": "stream",
     "text": [
      "100%|██████████| 398/398 [01:33<00:00,  4.26it/s]\n",
      "100%|██████████| 86/86 [00:06<00:00, 12.59it/s]\n",
      "  0%|          | 0/398 [00:00<?, ?it/s]"
     ]
    },
    {
     "name": "stdout",
     "output_type": "stream",
     "text": [
      "Train Loss: 0.1230 ---- Valid Loss: 0.1161 ---- Valid MCRMSE: 0.1349\n",
      "Best valid MCRMSE updated to 0.13488994538784027\n",
      "Epoch 56\n"
     ]
    },
    {
     "name": "stderr",
     "output_type": "stream",
     "text": [
      "100%|██████████| 398/398 [01:33<00:00,  4.27it/s]\n",
      "100%|██████████| 86/86 [00:06<00:00, 12.65it/s]\n",
      "  0%|          | 0/398 [00:00<?, ?it/s]"
     ]
    },
    {
     "name": "stdout",
     "output_type": "stream",
     "text": [
      "Train Loss: 0.1222 ---- Valid Loss: 0.1184 ---- Valid MCRMSE: 0.1369\n",
      "Epoch 57\n"
     ]
    },
    {
     "name": "stderr",
     "output_type": "stream",
     "text": [
      "100%|██████████| 398/398 [01:32<00:00,  4.28it/s]\n",
      "100%|██████████| 86/86 [00:06<00:00, 12.80it/s]\n",
      "  0%|          | 0/398 [00:00<?, ?it/s]"
     ]
    },
    {
     "name": "stdout",
     "output_type": "stream",
     "text": [
      "Train Loss: 0.1219 ---- Valid Loss: 0.1185 ---- Valid MCRMSE: 0.1367\n",
      "Epoch 58\n"
     ]
    },
    {
     "name": "stderr",
     "output_type": "stream",
     "text": [
      "100%|██████████| 398/398 [01:32<00:00,  4.29it/s]\n",
      "100%|██████████| 86/86 [00:06<00:00, 12.75it/s]\n",
      "  0%|          | 0/398 [00:00<?, ?it/s]"
     ]
    },
    {
     "name": "stdout",
     "output_type": "stream",
     "text": [
      "Train Loss: 0.1218 ---- Valid Loss: 0.1170 ---- Valid MCRMSE: 0.1355\n",
      "Epoch 59\n"
     ]
    },
    {
     "name": "stderr",
     "output_type": "stream",
     "text": [
      "100%|██████████| 398/398 [01:32<00:00,  4.29it/s]\n",
      "100%|██████████| 86/86 [00:06<00:00, 12.79it/s]\n",
      "  0%|          | 0/398 [00:00<?, ?it/s]"
     ]
    },
    {
     "name": "stdout",
     "output_type": "stream",
     "text": [
      "Train Loss: 0.1216 ---- Valid Loss: 0.1173 ---- Valid MCRMSE: 0.1359\n",
      "Epoch 60\n"
     ]
    },
    {
     "name": "stderr",
     "output_type": "stream",
     "text": [
      "100%|██████████| 398/398 [01:32<00:00,  4.29it/s]\n",
      "100%|██████████| 86/86 [00:06<00:00, 12.70it/s]\n",
      "  0%|          | 0/398 [00:00<?, ?it/s]"
     ]
    },
    {
     "name": "stdout",
     "output_type": "stream",
     "text": [
      "Train Loss: 0.1212 ---- Valid Loss: 0.1165 ---- Valid MCRMSE: 0.1355\n",
      "Epoch 61\n"
     ]
    },
    {
     "name": "stderr",
     "output_type": "stream",
     "text": [
      "100%|██████████| 398/398 [01:32<00:00,  4.28it/s]\n",
      "100%|██████████| 86/86 [00:06<00:00, 12.60it/s]\n",
      "  0%|          | 0/398 [00:00<?, ?it/s]"
     ]
    },
    {
     "name": "stdout",
     "output_type": "stream",
     "text": [
      "Train Loss: 0.1210 ---- Valid Loss: 0.1163 ---- Valid MCRMSE: 0.1355\n",
      "Epoch 62\n"
     ]
    },
    {
     "name": "stderr",
     "output_type": "stream",
     "text": [
      "100%|██████████| 398/398 [01:33<00:00,  4.26it/s]\n",
      "100%|██████████| 86/86 [00:06<00:00, 12.63it/s]\n",
      "  0%|          | 0/398 [00:00<?, ?it/s]"
     ]
    },
    {
     "name": "stdout",
     "output_type": "stream",
     "text": [
      "Train Loss: 0.1206 ---- Valid Loss: 0.1157 ---- Valid MCRMSE: 0.1350\n",
      "Epoch 63\n"
     ]
    },
    {
     "name": "stderr",
     "output_type": "stream",
     "text": [
      "100%|██████████| 398/398 [01:33<00:00,  4.27it/s]\n",
      "100%|██████████| 86/86 [00:06<00:00, 12.66it/s]\n",
      "  0%|          | 0/398 [00:00<?, ?it/s]"
     ]
    },
    {
     "name": "stdout",
     "output_type": "stream",
     "text": [
      "Train Loss: 0.1199 ---- Valid Loss: 0.1157 ---- Valid MCRMSE: 0.1348\n",
      "Best valid MCRMSE updated to 0.13483817875385284\n",
      "Epoch 64\n"
     ]
    },
    {
     "name": "stderr",
     "output_type": "stream",
     "text": [
      "100%|██████████| 398/398 [01:33<00:00,  4.26it/s]\n",
      "100%|██████████| 86/86 [00:06<00:00, 12.57it/s]\n",
      "  0%|          | 0/398 [00:00<?, ?it/s]"
     ]
    },
    {
     "name": "stdout",
     "output_type": "stream",
     "text": [
      "Train Loss: 0.1196 ---- Valid Loss: 0.1173 ---- Valid MCRMSE: 0.1356\n",
      "Epoch 65\n"
     ]
    },
    {
     "name": "stderr",
     "output_type": "stream",
     "text": [
      "100%|██████████| 398/398 [01:33<00:00,  4.25it/s]\n",
      "100%|██████████| 86/86 [00:06<00:00, 12.59it/s]\n",
      "  0%|          | 0/398 [00:00<?, ?it/s]"
     ]
    },
    {
     "name": "stdout",
     "output_type": "stream",
     "text": [
      "Train Loss: 0.1191 ---- Valid Loss: 0.1183 ---- Valid MCRMSE: 0.1361\n",
      "Epoch 66\n"
     ]
    },
    {
     "name": "stderr",
     "output_type": "stream",
     "text": [
      "100%|██████████| 398/398 [01:33<00:00,  4.25it/s]\n",
      "100%|██████████| 86/86 [00:06<00:00, 12.61it/s]\n",
      "  0%|          | 0/398 [00:00<?, ?it/s]"
     ]
    },
    {
     "name": "stdout",
     "output_type": "stream",
     "text": [
      "Train Loss: 0.1186 ---- Valid Loss: 0.1171 ---- Valid MCRMSE: 0.1359\n",
      "Epoch 67\n"
     ]
    },
    {
     "name": "stderr",
     "output_type": "stream",
     "text": [
      "100%|██████████| 398/398 [01:33<00:00,  4.24it/s]\n",
      "100%|██████████| 86/86 [00:06<00:00, 12.59it/s]\n",
      "  0%|          | 0/398 [00:00<?, ?it/s]"
     ]
    },
    {
     "name": "stdout",
     "output_type": "stream",
     "text": [
      "Train Loss: 0.1186 ---- Valid Loss: 0.1161 ---- Valid MCRMSE: 0.1352\n",
      "Epoch 68\n"
     ]
    },
    {
     "name": "stderr",
     "output_type": "stream",
     "text": [
      "100%|██████████| 398/398 [01:33<00:00,  4.25it/s]\n",
      "100%|██████████| 86/86 [00:06<00:00, 12.63it/s]\n",
      "  0%|          | 0/398 [00:00<?, ?it/s]"
     ]
    },
    {
     "name": "stdout",
     "output_type": "stream",
     "text": [
      "Train Loss: 0.1182 ---- Valid Loss: 0.1168 ---- Valid MCRMSE: 0.1355\n",
      "Epoch 69\n"
     ]
    },
    {
     "name": "stderr",
     "output_type": "stream",
     "text": [
      "100%|██████████| 398/398 [01:33<00:00,  4.25it/s]\n",
      "100%|██████████| 86/86 [00:06<00:00, 12.60it/s]\n",
      "  0%|          | 0/398 [00:00<?, ?it/s]"
     ]
    },
    {
     "name": "stdout",
     "output_type": "stream",
     "text": [
      "Train Loss: 0.1182 ---- Valid Loss: 0.1163 ---- Valid MCRMSE: 0.1353\n",
      "Epoch 70\n"
     ]
    },
    {
     "name": "stderr",
     "output_type": "stream",
     "text": [
      "100%|██████████| 398/398 [01:34<00:00,  4.23it/s]\n",
      "100%|██████████| 86/86 [00:06<00:00, 12.58it/s]\n",
      "  0%|          | 0/398 [00:00<?, ?it/s]"
     ]
    },
    {
     "name": "stdout",
     "output_type": "stream",
     "text": [
      "Train Loss: 0.1176 ---- Valid Loss: 0.1174 ---- Valid MCRMSE: 0.1356\n",
      "Epoch 71\n"
     ]
    },
    {
     "name": "stderr",
     "output_type": "stream",
     "text": [
      "100%|██████████| 398/398 [01:33<00:00,  4.25it/s]\n",
      "100%|██████████| 86/86 [00:06<00:00, 12.56it/s]\n",
      "  0%|          | 0/398 [00:00<?, ?it/s]"
     ]
    },
    {
     "name": "stdout",
     "output_type": "stream",
     "text": [
      "Train Loss: 0.1171 ---- Valid Loss: 0.1158 ---- Valid MCRMSE: 0.1348\n",
      "Best valid MCRMSE updated to 0.13475681841373444\n",
      "Epoch 72\n"
     ]
    },
    {
     "name": "stderr",
     "output_type": "stream",
     "text": [
      "100%|██████████| 398/398 [01:33<00:00,  4.24it/s]\n",
      "100%|██████████| 86/86 [00:06<00:00, 12.56it/s]\n",
      "  0%|          | 0/398 [00:00<?, ?it/s]"
     ]
    },
    {
     "name": "stdout",
     "output_type": "stream",
     "text": [
      "Train Loss: 0.1170 ---- Valid Loss: 0.1152 ---- Valid MCRMSE: 0.1342\n",
      "Best valid MCRMSE updated to 0.13422633707523346\n",
      "Epoch 73\n"
     ]
    },
    {
     "name": "stderr",
     "output_type": "stream",
     "text": [
      "100%|██████████| 398/398 [01:33<00:00,  4.24it/s]\n",
      "100%|██████████| 86/86 [00:06<00:00, 12.61it/s]\n",
      "  0%|          | 0/398 [00:00<?, ?it/s]"
     ]
    },
    {
     "name": "stdout",
     "output_type": "stream",
     "text": [
      "Train Loss: 0.1167 ---- Valid Loss: 0.1154 ---- Valid MCRMSE: 0.1345\n",
      "Epoch 74\n"
     ]
    },
    {
     "name": "stderr",
     "output_type": "stream",
     "text": [
      "100%|██████████| 398/398 [01:33<00:00,  4.24it/s]\n",
      "100%|██████████| 86/86 [00:06<00:00, 12.58it/s]\n",
      "  0%|          | 0/398 [00:00<?, ?it/s]"
     ]
    },
    {
     "name": "stdout",
     "output_type": "stream",
     "text": [
      "Train Loss: 0.1165 ---- Valid Loss: 0.1149 ---- Valid MCRMSE: 0.1341\n",
      "Best valid MCRMSE updated to 0.13406790792942047\n",
      "Epoch 75\n"
     ]
    },
    {
     "name": "stderr",
     "output_type": "stream",
     "text": [
      "100%|██████████| 398/398 [01:33<00:00,  4.24it/s]\n",
      "100%|██████████| 86/86 [00:06<00:00, 12.56it/s]\n",
      "  0%|          | 0/398 [00:00<?, ?it/s]"
     ]
    },
    {
     "name": "stdout",
     "output_type": "stream",
     "text": [
      "Train Loss: 0.1159 ---- Valid Loss: 0.1166 ---- Valid MCRMSE: 0.1353\n",
      "Epoch 76\n"
     ]
    },
    {
     "name": "stderr",
     "output_type": "stream",
     "text": [
      "100%|██████████| 398/398 [01:33<00:00,  4.24it/s]\n",
      "100%|██████████| 86/86 [00:06<00:00, 12.55it/s]\n",
      "  0%|          | 0/398 [00:00<?, ?it/s]"
     ]
    },
    {
     "name": "stdout",
     "output_type": "stream",
     "text": [
      "Train Loss: 0.1162 ---- Valid Loss: 0.1163 ---- Valid MCRMSE: 0.1353\n",
      "Epoch 77\n"
     ]
    },
    {
     "name": "stderr",
     "output_type": "stream",
     "text": [
      "100%|██████████| 398/398 [01:33<00:00,  4.25it/s]\n",
      "100%|██████████| 86/86 [00:06<00:00, 12.56it/s]\n",
      "  0%|          | 0/398 [00:00<?, ?it/s]"
     ]
    },
    {
     "name": "stdout",
     "output_type": "stream",
     "text": [
      "Train Loss: 0.1156 ---- Valid Loss: 0.1163 ---- Valid MCRMSE: 0.1353\n",
      "Epoch 78\n"
     ]
    },
    {
     "name": "stderr",
     "output_type": "stream",
     "text": [
      "100%|██████████| 398/398 [01:33<00:00,  4.25it/s]\n",
      "100%|██████████| 86/86 [00:06<00:00, 12.59it/s]\n",
      "  0%|          | 0/398 [00:00<?, ?it/s]"
     ]
    },
    {
     "name": "stdout",
     "output_type": "stream",
     "text": [
      "Train Loss: 0.1154 ---- Valid Loss: 0.1157 ---- Valid MCRMSE: 0.1351\n",
      "Epoch 79\n"
     ]
    },
    {
     "name": "stderr",
     "output_type": "stream",
     "text": [
      "100%|██████████| 398/398 [01:33<00:00,  4.24it/s]\n",
      "100%|██████████| 86/86 [00:06<00:00, 12.57it/s]\n",
      "  0%|          | 0/398 [00:00<?, ?it/s]"
     ]
    },
    {
     "name": "stdout",
     "output_type": "stream",
     "text": [
      "Train Loss: 0.1150 ---- Valid Loss: 0.1165 ---- Valid MCRMSE: 0.1355\n",
      "Epoch 80\n"
     ]
    },
    {
     "name": "stderr",
     "output_type": "stream",
     "text": [
      "100%|██████████| 398/398 [01:34<00:00,  4.23it/s]\n",
      "100%|██████████| 86/86 [00:06<00:00, 12.60it/s]\n",
      "  0%|          | 0/398 [00:00<?, ?it/s]"
     ]
    },
    {
     "name": "stdout",
     "output_type": "stream",
     "text": [
      "Train Loss: 0.1148 ---- Valid Loss: 0.1154 ---- Valid MCRMSE: 0.1344\n",
      "Epoch 81\n"
     ]
    },
    {
     "name": "stderr",
     "output_type": "stream",
     "text": [
      "100%|██████████| 398/398 [01:33<00:00,  4.25it/s]\n",
      "100%|██████████| 86/86 [00:06<00:00, 12.58it/s]\n",
      "  0%|          | 0/398 [00:00<?, ?it/s]"
     ]
    },
    {
     "name": "stdout",
     "output_type": "stream",
     "text": [
      "Train Loss: 0.1145 ---- Valid Loss: 0.1168 ---- Valid MCRMSE: 0.1355\n",
      "Epoch 82\n"
     ]
    },
    {
     "name": "stderr",
     "output_type": "stream",
     "text": [
      "100%|██████████| 398/398 [01:33<00:00,  4.24it/s]\n",
      "100%|██████████| 86/86 [00:06<00:00, 12.60it/s]\n",
      "  0%|          | 0/398 [00:00<?, ?it/s]"
     ]
    },
    {
     "name": "stdout",
     "output_type": "stream",
     "text": [
      "Train Loss: 0.1143 ---- Valid Loss: 0.1186 ---- Valid MCRMSE: 0.1372\n",
      "Epoch 83\n"
     ]
    },
    {
     "name": "stderr",
     "output_type": "stream",
     "text": [
      "100%|██████████| 398/398 [01:33<00:00,  4.24it/s]\n",
      "100%|██████████| 86/86 [00:06<00:00, 12.53it/s]\n",
      "  0%|          | 0/398 [00:00<?, ?it/s]"
     ]
    },
    {
     "name": "stdout",
     "output_type": "stream",
     "text": [
      "Train Loss: 0.1144 ---- Valid Loss: 0.1148 ---- Valid MCRMSE: 0.1342\n",
      "Epoch 84\n"
     ]
    },
    {
     "name": "stderr",
     "output_type": "stream",
     "text": [
      "100%|██████████| 398/398 [01:33<00:00,  4.24it/s]\n",
      "100%|██████████| 86/86 [00:06<00:00, 12.61it/s]\n",
      "  0%|          | 0/398 [00:00<?, ?it/s]"
     ]
    },
    {
     "name": "stdout",
     "output_type": "stream",
     "text": [
      "Train Loss: 0.1136 ---- Valid Loss: 0.1153 ---- Valid MCRMSE: 0.1345\n",
      "Epoch 85\n"
     ]
    },
    {
     "name": "stderr",
     "output_type": "stream",
     "text": [
      "100%|██████████| 398/398 [01:33<00:00,  4.24it/s]\n",
      "100%|██████████| 86/86 [00:06<00:00, 12.58it/s]\n",
      "  0%|          | 0/398 [00:00<?, ?it/s]"
     ]
    },
    {
     "name": "stdout",
     "output_type": "stream",
     "text": [
      "Train Loss: 0.1134 ---- Valid Loss: 0.1162 ---- Valid MCRMSE: 0.1352\n",
      "Epoch 86\n"
     ]
    },
    {
     "name": "stderr",
     "output_type": "stream",
     "text": [
      "100%|██████████| 398/398 [01:33<00:00,  4.24it/s]\n",
      "100%|██████████| 86/86 [00:06<00:00, 12.64it/s]\n",
      "  0%|          | 0/398 [00:00<?, ?it/s]"
     ]
    },
    {
     "name": "stdout",
     "output_type": "stream",
     "text": [
      "Train Loss: 0.1135 ---- Valid Loss: 0.1179 ---- Valid MCRMSE: 0.1365\n",
      "Epoch 87\n"
     ]
    },
    {
     "name": "stderr",
     "output_type": "stream",
     "text": [
      "100%|██████████| 398/398 [01:33<00:00,  4.27it/s]\n",
      "100%|██████████| 86/86 [00:06<00:00, 12.69it/s]\n",
      "  0%|          | 0/398 [00:00<?, ?it/s]"
     ]
    },
    {
     "name": "stdout",
     "output_type": "stream",
     "text": [
      "Train Loss: 0.1132 ---- Valid Loss: 0.1159 ---- Valid MCRMSE: 0.1349\n",
      "Epoch 88\n"
     ]
    },
    {
     "name": "stderr",
     "output_type": "stream",
     "text": [
      "100%|██████████| 398/398 [01:33<00:00,  4.27it/s]\n",
      "100%|██████████| 86/86 [00:06<00:00, 12.80it/s]\n",
      "  0%|          | 0/398 [00:00<?, ?it/s]"
     ]
    },
    {
     "name": "stdout",
     "output_type": "stream",
     "text": [
      "Train Loss: 0.1130 ---- Valid Loss: 0.1161 ---- Valid MCRMSE: 0.1349\n",
      "Epoch 89\n"
     ]
    },
    {
     "name": "stderr",
     "output_type": "stream",
     "text": [
      "100%|██████████| 398/398 [01:33<00:00,  4.28it/s]\n",
      "100%|██████████| 86/86 [00:06<00:00, 12.76it/s]\n",
      "  0%|          | 0/398 [00:00<?, ?it/s]"
     ]
    },
    {
     "name": "stdout",
     "output_type": "stream",
     "text": [
      "Train Loss: 0.1129 ---- Valid Loss: 0.1151 ---- Valid MCRMSE: 0.1345\n",
      "Epoch 90\n"
     ]
    },
    {
     "name": "stderr",
     "output_type": "stream",
     "text": [
      "100%|██████████| 398/398 [01:32<00:00,  4.28it/s]\n",
      "100%|██████████| 86/86 [00:06<00:00, 12.80it/s]\n",
      "  0%|          | 0/398 [00:00<?, ?it/s]"
     ]
    },
    {
     "name": "stdout",
     "output_type": "stream",
     "text": [
      "Train Loss: 0.1122 ---- Valid Loss: 0.1147 ---- Valid MCRMSE: 0.1340\n",
      "Best valid MCRMSE updated to 0.13400493562221527\n",
      "Epoch 91\n"
     ]
    },
    {
     "name": "stderr",
     "output_type": "stream",
     "text": [
      "100%|██████████| 398/398 [01:33<00:00,  4.28it/s]\n",
      "100%|██████████| 86/86 [00:06<00:00, 12.80it/s]\n",
      "  0%|          | 0/398 [00:00<?, ?it/s]"
     ]
    },
    {
     "name": "stdout",
     "output_type": "stream",
     "text": [
      "Train Loss: 0.1122 ---- Valid Loss: 0.1173 ---- Valid MCRMSE: 0.1360\n",
      "Epoch 92\n"
     ]
    },
    {
     "name": "stderr",
     "output_type": "stream",
     "text": [
      "100%|██████████| 398/398 [01:32<00:00,  4.29it/s]\n",
      "100%|██████████| 86/86 [00:06<00:00, 12.83it/s]\n",
      "  0%|          | 0/398 [00:00<?, ?it/s]"
     ]
    },
    {
     "name": "stdout",
     "output_type": "stream",
     "text": [
      "Train Loss: 0.1122 ---- Valid Loss: 0.1166 ---- Valid MCRMSE: 0.1354\n",
      "Epoch 93\n"
     ]
    },
    {
     "name": "stderr",
     "output_type": "stream",
     "text": [
      "100%|██████████| 398/398 [01:33<00:00,  4.27it/s]\n",
      "100%|██████████| 86/86 [00:06<00:00, 12.72it/s]\n",
      "  0%|          | 0/398 [00:00<?, ?it/s]"
     ]
    },
    {
     "name": "stdout",
     "output_type": "stream",
     "text": [
      "Train Loss: 0.1115 ---- Valid Loss: 0.1167 ---- Valid MCRMSE: 0.1356\n",
      "Epoch 94\n"
     ]
    },
    {
     "name": "stderr",
     "output_type": "stream",
     "text": [
      "100%|██████████| 398/398 [01:32<00:00,  4.28it/s]\n",
      "100%|██████████| 86/86 [00:06<00:00, 12.70it/s]\n",
      "  0%|          | 0/398 [00:00<?, ?it/s]"
     ]
    },
    {
     "name": "stdout",
     "output_type": "stream",
     "text": [
      "Train Loss: 0.1117 ---- Valid Loss: 0.1158 ---- Valid MCRMSE: 0.1346\n",
      "Epoch 95\n"
     ]
    },
    {
     "name": "stderr",
     "output_type": "stream",
     "text": [
      "100%|██████████| 398/398 [01:33<00:00,  4.27it/s]\n",
      "100%|██████████| 86/86 [00:06<00:00, 12.79it/s]\n",
      "  0%|          | 0/398 [00:00<?, ?it/s]"
     ]
    },
    {
     "name": "stdout",
     "output_type": "stream",
     "text": [
      "Train Loss: 0.1112 ---- Valid Loss: 0.1147 ---- Valid MCRMSE: 0.1342\n",
      "Epoch 96\n"
     ]
    },
    {
     "name": "stderr",
     "output_type": "stream",
     "text": [
      "100%|██████████| 398/398 [01:33<00:00,  4.28it/s]\n",
      "100%|██████████| 86/86 [00:06<00:00, 12.81it/s]\n",
      "  0%|          | 0/398 [00:00<?, ?it/s]"
     ]
    },
    {
     "name": "stdout",
     "output_type": "stream",
     "text": [
      "Train Loss: 0.1114 ---- Valid Loss: 0.1171 ---- Valid MCRMSE: 0.1361\n",
      "Epoch 97\n"
     ]
    },
    {
     "name": "stderr",
     "output_type": "stream",
     "text": [
      "100%|██████████| 398/398 [01:32<00:00,  4.29it/s]\n",
      "100%|██████████| 86/86 [00:06<00:00, 12.78it/s]\n",
      "  0%|          | 0/398 [00:00<?, ?it/s]"
     ]
    },
    {
     "name": "stdout",
     "output_type": "stream",
     "text": [
      "Train Loss: 0.1109 ---- Valid Loss: 0.1142 ---- Valid MCRMSE: 0.1343\n",
      "Epoch 98\n"
     ]
    },
    {
     "name": "stderr",
     "output_type": "stream",
     "text": [
      "100%|██████████| 398/398 [01:32<00:00,  4.30it/s]\n",
      "100%|██████████| 86/86 [00:06<00:00, 12.80it/s]\n",
      "  0%|          | 0/398 [00:00<?, ?it/s]"
     ]
    },
    {
     "name": "stdout",
     "output_type": "stream",
     "text": [
      "Train Loss: 0.1109 ---- Valid Loss: 0.1155 ---- Valid MCRMSE: 0.1346\n",
      "Epoch 99\n"
     ]
    },
    {
     "name": "stderr",
     "output_type": "stream",
     "text": [
      "100%|██████████| 398/398 [01:33<00:00,  4.27it/s]\n",
      "100%|██████████| 86/86 [00:06<00:00, 12.83it/s]\n",
      "  2%|▏         | 2/86 [00:00<00:06, 13.96it/s]"
     ]
    },
    {
     "name": "stdout",
     "output_type": "stream",
     "text": [
      "Train Loss: 0.1108 ---- Valid Loss: 0.1157 ---- Valid MCRMSE: 0.1350\n"
     ]
    },
    {
     "name": "stderr",
     "output_type": "stream",
     "text": [
      "100%|██████████| 86/86 [00:06<00:00, 12.87it/s]"
     ]
    },
    {
     "name": "stdout",
     "output_type": "stream",
     "text": [
      "CV MCRMSE  0.13777676224708557\n"
     ]
    },
    {
     "name": "stderr",
     "output_type": "stream",
     "text": [
      "\n"
     ]
    }
   ],
   "source": [
    "print('Reading', train_file)\n",
    "df_tr = pd.read_json(train_file, lines=True)\n",
    "\n",
    "#df_tr['bpps_sum'] = read_bpps_sum(df_tr)\n",
    "#df_tr['bpps_max'] = read_bpps_max(df_tr)\n",
    "#df_tr['bpps_nb'] = read_bpps_nb(df_tr)\n",
    "\n",
    "# clustering for  GroupKFold\n",
    "#kmeans_model = KMeans(n_clusters=200, random_state=seed).fit(preprocess_inputs(df_tr)[:,:,0])\n",
    "#df_tr['cluster_id'] = kmeans_model.labels_\n",
    "\n",
    "\n",
    "df_tr = aug_data(df_tr)\n",
    "df_tr = df_tr.append(pseudo_df)\n",
    "\n",
    "add_y_cat(df_tr)\n",
    "\n",
    "is_clean = df_tr.apply(sample_is_clean, axis=1)\n",
    "df_clean = df_tr[is_clean].reset_index(drop=True)\n",
    "df_noisy = df_tr[is_clean==False].reset_index(drop=True)\n",
    "del df_tr\n",
    "\n",
    "print('Training')\n",
    "all_ys = torch.zeros((0, nlabel)).to(device).detach()\n",
    "all_outs = torch.zeros((0, nlabel)).to(device).detach()\n",
    "all_ids = []\n",
    "best_model_states = []\n",
    "# kf = StratifiedKFold(nb_fold, shuffle=True, random_state=seed)\n",
    "kf = GroupKFold(nb_fold)\n",
    "for fold, ((clean_train_idx, clean_valid_idx),\n",
    "           (noisy_train_idx, noisy_valid_idx)) \\\n",
    "               in enumerate(zip(kf.split(df_clean, df_clean['reactivity'], df_clean['id']), # df_clean['reactivity'], groups = df_clean['cluster_id']\n",
    "                                kf.split(df_noisy, df_noisy['reactivity'], df_noisy['id']))): # trying split with reactivity instead of y_cat\n",
    "    print('Fold', fold)\n",
    "\n",
    "    # build train data\n",
    "    df_train = df_clean.loc[clean_train_idx]\n",
    "    if train_with_noisy_data:\n",
    "        df_train_noisy = df_noisy.loc[noisy_train_idx]\n",
    "        df_train_noisy = \\\n",
    "           df_train_noisy[df_train_noisy.apply(calc_error_mean, axis=1) <= \\\n",
    "                          error_mean_limit]\n",
    "        df_train = df_train.append(df_train_noisy)\n",
    "    data_train = build_data(df_train.reset_index(drop=True), True)\n",
    "    del df_train\n",
    "    loader_train = DataLoader(data_train, batch_size=batch_size,\n",
    "                              shuffle=True)\n",
    "\n",
    "    # build validation data\n",
    "    df_valid_clean = df_clean.loc[clean_valid_idx].reset_index(drop=True)\n",
    "    data_valid_clean = build_data(df_valid_clean, True)\n",
    "    all_ids.extend(build_id_seqpos_68(df_valid_clean))\n",
    "    del df_valid_clean\n",
    "    loader_valid_clean = DataLoader(data_valid_clean, batch_size=batch_size,\n",
    "                                    shuffle=False)\n",
    "\n",
    "    model = MyDeeperGCN(data_train[0].num_node_features,\n",
    "                        data_train[0].num_edge_features,\n",
    "                        node_hidden_channels=node_hidden_channels,\n",
    "                        edge_hidden_channels=edge_hidden_channels,\n",
    "                        num_layers=num_layers,\n",
    "                        num_classes=nlabel).to(device)\n",
    "    optimizer = torch.optim.Adam(model.parameters(), lr=lr)\n",
    "    best_mcrmse = np.inf\n",
    "    for epoch in range(epochs):\n",
    "        print('Epoch', epoch)\n",
    "        model.train()\n",
    "        train_loss = 0.0\n",
    "        nb = 0\n",
    "        for data in tqdm(loader_train):\n",
    "            data = data.to(device)\n",
    "            mask = data.train_mask\n",
    "            weight = data.weight[mask]\n",
    "\n",
    "            optimizer.zero_grad()\n",
    "            out = model(data)[mask]\n",
    "            y = data.y[mask]\n",
    "            loss = criterion(out, y, weight)\n",
    "            loss.backward()\n",
    "            optimizer.step()\n",
    "            train_loss += loss.item() * y.size(0)\n",
    "            nb += y.size(0)\n",
    "\n",
    "            del data\n",
    "            del out\n",
    "            del y\n",
    "            del loss\n",
    "            #gc.collect()\n",
    "            #torch.cuda.empty_cache()\n",
    "        train_loss /= nb\n",
    "\n",
    "        model.eval()\n",
    "        valid_loss = 0.0\n",
    "        nb = 0\n",
    "        ys = torch.zeros((0, nlabel)).to(device).detach()\n",
    "        outs = torch.zeros((0, nlabel)).to(device).detach()\n",
    "        for data in tqdm(loader_valid_clean):\n",
    "            data = data.to(device)\n",
    "            mask = data.train_mask\n",
    "\n",
    "            out = model(data)[mask].detach()\n",
    "            y = data.y[mask].detach()\n",
    "            loss = criterion(out, y).detach()\n",
    "            valid_loss += loss.item() * y.size(0)\n",
    "            nb += y.size(0)\n",
    "\n",
    "            outs = torch.cat((outs, out), dim=0)\n",
    "            ys = torch.cat((ys, y), dim=0)\n",
    "\n",
    "            del data\n",
    "            del out\n",
    "            del y\n",
    "            del loss\n",
    "            #gc.collect()\n",
    "            #torch.cuda.empty_cache()\n",
    "        valid_loss /= nb\n",
    "\n",
    "        mcrmse = criterion(outs, ys).item()\n",
    "\n",
    "        print(\"Train Loss: {:.4f} ---- Valid Loss: {:.4f} ---- Valid MCRMSE: {:.4f}\".\\\n",
    "                format(train_loss, valid_loss, mcrmse))\n",
    "\n",
    "        if mcrmse < best_mcrmse:\n",
    "            print('Best valid MCRMSE updated to', mcrmse)\n",
    "            best_mcrmse = mcrmse\n",
    "            best_model_state = copy.deepcopy(model.state_dict())\n",
    "\n",
    "    del data_train\n",
    "    del data_valid_clean\n",
    "    #gc.collect()\n",
    "    #torch.cuda.empty_cache()\n",
    "\n",
    "    best_model_states.append(best_model_state)\n",
    "\n",
    "    # predict for CV\n",
    "    model.load_state_dict(best_model_state)\n",
    "    model.eval()\n",
    "    for data in tqdm(loader_valid_clean):\n",
    "        data = data.to(device)\n",
    "        mask = data.train_mask\n",
    "\n",
    "        out = model(data)[mask].detach()\n",
    "        y = data.y[mask].detach()\n",
    "\n",
    "        all_ys = torch.cat((all_ys, y), dim=0)\n",
    "        all_outs = torch.cat((all_outs, out), dim=0)\n",
    "\n",
    "        del data\n",
    "        del out\n",
    "        del y\n",
    "        #gc.collect()\n",
    "        #torch.cuda.empty_cache()\n",
    "\n",
    "# calculate MCRMSE by all training data\n",
    "print('CV MCRMSE ', criterion(all_outs, all_ys).item())\n",
    "# del all_outs\n",
    "# del all_ys\n",
    "#gc.collect()\n",
    "#torch.cuda.empty_cache()"
   ]
  },
  {
   "cell_type": "code",
   "execution_count": 13,
   "metadata": {},
   "outputs": [],
   "source": [
    "all_outs = all_outs.cpu()\n",
    "df_valid = pd.DataFrame({'id_seqpos': all_ids,\n",
    "                       'reactivity': all_outs[:,0],\n",
    "                       'deg_Mg_pH10': all_outs[:,1],\n",
    "                       'deg_pH10': all_outs[:,2],\n",
    "                       'deg_Mg_50C': all_outs[:,3],\n",
    "                       'deg_50C': all_outs[:,4]})"
   ]
  },
  {
   "cell_type": "code",
   "execution_count": 14,
   "metadata": {},
   "outputs": [],
   "source": [
    "df_valid.to_csv('validation.csv', index=False)"
   ]
  },
  {
   "cell_type": "code",
   "execution_count": 15,
   "metadata": {},
   "outputs": [
    {
     "name": "stdout",
     "output_type": "stream",
     "text": [
      "Predicting test data\n",
      "Reading ../OpenVaccine/test.json\n"
     ]
    },
    {
     "name": "stderr",
     "output_type": "stream",
     "text": [
      "100%|██████████| 455/455 [00:38<00:00, 11.95it/s]\n",
      "100%|██████████| 455/455 [00:38<00:00, 11.96it/s]\n",
      "100%|██████████| 455/455 [00:38<00:00, 11.95it/s]\n",
      "100%|██████████| 455/455 [00:38<00:00, 11.95it/s]\n",
      "100%|██████████| 455/455 [00:38<00:00, 11.95it/s]\n"
     ]
    },
    {
     "name": "stdout",
     "output_type": "stream",
     "text": [
      "Writing submission.csv\n"
     ]
    }
   ],
   "source": [
    "# predict for test data\n",
    "print('Predicting test data')\n",
    "print('Reading', test_file)\n",
    "df_te = pd.read_json(test_file, lines=True)\n",
    "\n",
    "#df_te['bpps_sum'] = read_bpps_sum(df_te)\n",
    "#df_te['bpps_max'] = read_bpps_max(df_te)\n",
    "#df_te['bpps_nb'] = read_bpps_nb(df_te)\n",
    "\n",
    "df_te = aug_data(df_te)\n",
    "\n",
    "data_test = build_data(df_te.reset_index(drop=True), False)\n",
    "loader_test = DataLoader(data_test, batch_size=batch_size, shuffle=False)\n",
    "id_seqpos = build_id_seqpos(df_te.reset_index(drop=True))\n",
    "\n",
    "preds = torch.zeros((len(id_seqpos), nlabel)).to(device).detach()\n",
    "for best_model_state in best_model_states:\n",
    "    model.load_state_dict(best_model_state)\n",
    "    model.eval()\n",
    "\n",
    "    outs = torch.zeros((0, nlabel)).to(device).detach()\n",
    "    for data in tqdm(loader_test):\n",
    "        data = data.to(device)\n",
    "        mask = data.test_mask\n",
    "\n",
    "        out = model(data)[mask].detach()\n",
    "        outs = torch.cat((outs, out), dim=0)\n",
    "\n",
    "        del data\n",
    "        del out\n",
    "        #gc.collect()\n",
    "        #torch.cuda.empty_cache()\n",
    "    preds += outs\n",
    "preds /= len(best_model_states)\n",
    "preds = preds.cpu().numpy()\n",
    "\n",
    "df_sub = pd.DataFrame({'id_seqpos': id_seqpos,\n",
    "                       'reactivity': preds[:,0],\n",
    "                       'deg_Mg_pH10': preds[:,1],\n",
    "                       'deg_pH10': preds[:,2],\n",
    "                       'deg_Mg_50C': preds[:,3],\n",
    "                       'deg_50C': preds[:,4]})\n",
    "print('Writing submission.csv')\n",
    "df_sub.to_csv('submission_all.csv', index=False)"
   ]
  },
  {
   "cell_type": "code",
   "execution_count": 16,
   "metadata": {},
   "outputs": [
    {
     "data": {
      "text/html": [
       "<div>\n",
       "<style scoped>\n",
       "    .dataframe tbody tr th:only-of-type {\n",
       "        vertical-align: middle;\n",
       "    }\n",
       "\n",
       "    .dataframe tbody tr th {\n",
       "        vertical-align: top;\n",
       "    }\n",
       "\n",
       "    .dataframe thead th {\n",
       "        text-align: right;\n",
       "    }\n",
       "</style>\n",
       "<table border=\"1\" class=\"dataframe\">\n",
       "  <thead>\n",
       "    <tr style=\"text-align: right;\">\n",
       "      <th></th>\n",
       "      <th>id_seqpos</th>\n",
       "      <th>reactivity</th>\n",
       "      <th>deg_Mg_pH10</th>\n",
       "      <th>deg_pH10</th>\n",
       "      <th>deg_Mg_50C</th>\n",
       "      <th>deg_50C</th>\n",
       "    </tr>\n",
       "  </thead>\n",
       "  <tbody>\n",
       "    <tr>\n",
       "      <th>0</th>\n",
       "      <td>id_00073f8be_0</td>\n",
       "      <td>0.671847</td>\n",
       "      <td>0.653559</td>\n",
       "      <td>1.864199</td>\n",
       "      <td>0.533074</td>\n",
       "      <td>0.689713</td>\n",
       "    </tr>\n",
       "    <tr>\n",
       "      <th>1</th>\n",
       "      <td>id_00073f8be_1</td>\n",
       "      <td>2.048449</td>\n",
       "      <td>3.007953</td>\n",
       "      <td>3.952886</td>\n",
       "      <td>3.077436</td>\n",
       "      <td>2.549104</td>\n",
       "    </tr>\n",
       "    <tr>\n",
       "      <th>2</th>\n",
       "      <td>id_00073f8be_2</td>\n",
       "      <td>1.544977</td>\n",
       "      <td>0.626315</td>\n",
       "      <td>0.742259</td>\n",
       "      <td>0.758490</td>\n",
       "      <td>0.710288</td>\n",
       "    </tr>\n",
       "    <tr>\n",
       "      <th>3</th>\n",
       "      <td>id_00073f8be_3</td>\n",
       "      <td>1.247818</td>\n",
       "      <td>1.038030</td>\n",
       "      <td>1.119921</td>\n",
       "      <td>1.533953</td>\n",
       "      <td>1.558537</td>\n",
       "    </tr>\n",
       "    <tr>\n",
       "      <th>4</th>\n",
       "      <td>id_00073f8be_4</td>\n",
       "      <td>0.767552</td>\n",
       "      <td>0.566790</td>\n",
       "      <td>0.521224</td>\n",
       "      <td>0.806035</td>\n",
       "      <td>0.796780</td>\n",
       "    </tr>\n",
       "  </tbody>\n",
       "</table>\n",
       "</div>"
      ],
      "text/plain": [
       "        id_seqpos  reactivity  deg_Mg_pH10  deg_pH10  deg_Mg_50C   deg_50C\n",
       "0  id_00073f8be_0    0.671847     0.653559  1.864199    0.533074  0.689713\n",
       "1  id_00073f8be_1    2.048449     3.007953  3.952886    3.077436  2.549104\n",
       "2  id_00073f8be_2    1.544977     0.626315  0.742259    0.758490  0.710288\n",
       "3  id_00073f8be_3    1.247818     1.038030  1.119921    1.533953  1.558537\n",
       "4  id_00073f8be_4    0.767552     0.566790  0.521224    0.806035  0.796780"
      ]
     },
     "execution_count": 16,
     "metadata": {},
     "output_type": "execute_result"
    }
   ],
   "source": [
    "df_sub.head()"
   ]
  },
  {
   "cell_type": "code",
   "execution_count": 17,
   "metadata": {},
   "outputs": [
    {
     "name": "stdout",
     "output_type": "stream",
     "text": [
      "(457953, 2)\n",
      "(457953, 2)\n",
      "(457953, 2)\n",
      "(457953, 2)\n",
      "(457953, 2)\n"
     ]
    },
    {
     "data": {
      "text/plain": [
       "(457953, 6)"
      ]
     },
     "execution_count": 17,
     "metadata": {},
     "output_type": "execute_result"
    }
   ],
   "source": [
    "sample_df = pd.read_csv('../OpenVaccine/sample_submission.csv')\n",
    "\n",
    "target_cols = [c for c in sample_df.columns if c != 'id_seqpos']\n",
    "\n",
    "list_id = list(sample_df.id_seqpos.values)\n",
    "output = {}\n",
    "output_df = pd.DataFrame({'id_seqpos': sample_df.id_seqpos.values})\n",
    "\n",
    "for c in target_cols:\n",
    "    output_values = []\n",
    "    x = df_sub.groupby('id_seqpos')[c].mean().reset_index()\n",
    "    print(x.shape)\n",
    "    output_df = pd.merge(output_df, x, on='id_seqpos')\n",
    "\n",
    "output_df.shape"
   ]
  },
  {
   "cell_type": "code",
   "execution_count": 18,
   "metadata": {},
   "outputs": [
    {
     "data": {
      "text/html": [
       "<div>\n",
       "<style scoped>\n",
       "    .dataframe tbody tr th:only-of-type {\n",
       "        vertical-align: middle;\n",
       "    }\n",
       "\n",
       "    .dataframe tbody tr th {\n",
       "        vertical-align: top;\n",
       "    }\n",
       "\n",
       "    .dataframe thead th {\n",
       "        text-align: right;\n",
       "    }\n",
       "</style>\n",
       "<table border=\"1\" class=\"dataframe\">\n",
       "  <thead>\n",
       "    <tr style=\"text-align: right;\">\n",
       "      <th></th>\n",
       "      <th>id_seqpos</th>\n",
       "      <th>reactivity</th>\n",
       "      <th>deg_Mg_pH10</th>\n",
       "      <th>deg_pH10</th>\n",
       "      <th>deg_Mg_50C</th>\n",
       "      <th>deg_50C</th>\n",
       "    </tr>\n",
       "  </thead>\n",
       "  <tbody>\n",
       "    <tr>\n",
       "      <th>0</th>\n",
       "      <td>id_00073f8be_0</td>\n",
       "      <td>0.664505</td>\n",
       "      <td>0.655073</td>\n",
       "      <td>1.868910</td>\n",
       "      <td>0.532745</td>\n",
       "      <td>0.692155</td>\n",
       "    </tr>\n",
       "    <tr>\n",
       "      <th>1</th>\n",
       "      <td>id_00073f8be_1</td>\n",
       "      <td>2.019664</td>\n",
       "      <td>2.975760</td>\n",
       "      <td>3.945237</td>\n",
       "      <td>3.062294</td>\n",
       "      <td>2.544288</td>\n",
       "    </tr>\n",
       "    <tr>\n",
       "      <th>2</th>\n",
       "      <td>id_00073f8be_2</td>\n",
       "      <td>1.522626</td>\n",
       "      <td>0.601323</td>\n",
       "      <td>0.721800</td>\n",
       "      <td>0.729419</td>\n",
       "      <td>0.700329</td>\n",
       "    </tr>\n",
       "    <tr>\n",
       "      <th>3</th>\n",
       "      <td>id_00073f8be_3</td>\n",
       "      <td>1.234681</td>\n",
       "      <td>1.015729</td>\n",
       "      <td>1.108683</td>\n",
       "      <td>1.506507</td>\n",
       "      <td>1.538516</td>\n",
       "    </tr>\n",
       "    <tr>\n",
       "      <th>4</th>\n",
       "      <td>id_00073f8be_4</td>\n",
       "      <td>0.772036</td>\n",
       "      <td>0.574443</td>\n",
       "      <td>0.523440</td>\n",
       "      <td>0.809607</td>\n",
       "      <td>0.799141</td>\n",
       "    </tr>\n",
       "  </tbody>\n",
       "</table>\n",
       "</div>"
      ],
      "text/plain": [
       "        id_seqpos  reactivity  deg_Mg_pH10  deg_pH10  deg_Mg_50C   deg_50C\n",
       "0  id_00073f8be_0    0.664505     0.655073  1.868910    0.532745  0.692155\n",
       "1  id_00073f8be_1    2.019664     2.975760  3.945237    3.062294  2.544288\n",
       "2  id_00073f8be_2    1.522626     0.601323  0.721800    0.729419  0.700329\n",
       "3  id_00073f8be_3    1.234681     1.015729  1.108683    1.506507  1.538516\n",
       "4  id_00073f8be_4    0.772036     0.574443  0.523440    0.809607  0.799141"
      ]
     },
     "execution_count": 18,
     "metadata": {},
     "output_type": "execute_result"
    }
   ],
   "source": [
    "output_df.to_csv('submission.csv', index = False)\n",
    "output_df.head()"
   ]
  },
  {
   "cell_type": "code",
   "execution_count": 20,
   "metadata": {},
   "outputs": [],
   "source": [
    "# for i, best_model_state in enumerate(best_model_states):\n",
    "#     torch.save(best_model_state, f'deepgcn_pseudo_fold_{i}')"
   ]
  },
  {
   "cell_type": "code",
   "execution_count": null,
   "metadata": {},
   "outputs": [],
   "source": []
  }
 ],
 "metadata": {
  "kernelspec": {
   "display_name": "Python 3",
   "language": "python",
   "name": "python3"
  },
  "language_info": {
   "codemirror_mode": {
    "name": "ipython",
    "version": 3
   },
   "file_extension": ".py",
   "mimetype": "text/x-python",
   "name": "python",
   "nbconvert_exporter": "python",
   "pygments_lexer": "ipython3",
   "version": "3.7.6"
  }
 },
 "nbformat": 4,
 "nbformat_minor": 4
}
